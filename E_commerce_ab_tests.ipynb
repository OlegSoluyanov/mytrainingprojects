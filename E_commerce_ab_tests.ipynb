{
 "cells": [
  {
   "cell_type": "markdown",
   "metadata": {},
   "source": [
    "# Проверка гипотез в интернет-магазине"
   ]
  },
  {
   "cell_type": "markdown",
   "metadata": {},
   "source": [
    "**ОПИСАНИЕ ПРОЕКТА**"
   ]
  },
  {
   "cell_type": "markdown",
   "metadata": {},
   "source": [
    "***Необходимо приоритизировать гипотезы, запустить А/B тест и проанализировать результаты по увеличению выручки в интернет-магазине.***"
   ]
  },
  {
   "cell_type": "markdown",
   "metadata": {},
   "source": [
    "**ОПИСАНИЕ ДАННЫХ**"
   ]
  },
  {
   "cell_type": "markdown",
   "metadata": {},
   "source": [
    "В файле ***/datasets/hypothesis.csv*** 9 гипотез по увеличению выручки интернет-магазина с указанными параметрами:\n",
    "\n",
    "<br>***Hypothesis*** — краткое описание гипотезы;\n",
    "<br>***Reach*** — охват пользователей по 10-балльной шкале;\n",
    "<br>***Impact*** — влияние на пользователей по 10-балльной шкале;\n",
    "<br>***Confidence*** — уверенность в гипотезе по 10-балльной шкале;\n",
    "<br>***Effort*** — затраты ресурсов на проверку гипотезы по 10-балльной шкале.\n",
    "<br>Чем больше значение Efforts, тем дороже проверка гипотезы.\n",
    "\n",
    "Результаты A/B теста\n",
    "\n",
    "Файл ***/datasets/orders.csv***:\n",
    "\n",
    "<br>***transactionId*** — идентификатор заказа;\n",
    "<br>***visitorId*** — идентификатор пользователя, совершившего заказ;\n",
    "<br>***date*** — дата, когда был совершён заказ;\n",
    "<br>***revenue*** — выручка заказа;\n",
    "<br>***group*** — группа A/B-теста, в которую попал заказ.\n",
    "\n",
    "Файл ***/datasets/visitors.csv***:\n",
    "\n",
    "<br>***date*** — дата;\n",
    "<br>***group*** — группа A/B-теста;\n",
    "<br>***visitors*** — количество пользователей в указанную дату в указанной группе A/B-теста"
   ]
  },
  {
   "cell_type": "markdown",
   "metadata": {},
   "source": [
    "<h1>Оглавление<span class=\"tocSkip\"></span></h1>\n",
    "<div class=\"toc\"><ul class=\"toc-item\"><li><span><a href=\"#Оценка-и-подготовка-данных\" data-toc-modified-id=\"Оценка-и-подготовка-данных-1\"><span class=\"toc-item-num\">1&nbsp;&nbsp;</span>Оценка и подготовка данных</a></span><ul class=\"toc-item\"><li><span><a href=\"#Оценка-данных\" data-toc-modified-id=\"Оценка-данных-1.1\"><span class=\"toc-item-num\">1.1&nbsp;&nbsp;</span>Оценка данных</a></span></li><li><span><a href=\"#Подготовка-данных\" data-toc-modified-id=\"Подготовка-данных-1.2\"><span class=\"toc-item-num\">1.2&nbsp;&nbsp;</span>Подготовка данных</a></span></li><li><span><a href=\"#Проверка-диапазонов-дат,-изменение-типов-данных\" data-toc-modified-id=\"Проверка-диапазонов-дат,-изменение-типов-данных-1.3\"><span class=\"toc-item-num\">1.3&nbsp;&nbsp;</span>Проверка диапазонов дат, изменение типов данных</a></span></li><li><span><a href=\"#Очистка-данных-от-пользователей-вошедших-одновременно-в-обе-группы\" data-toc-modified-id=\"Очистка-данных-от-пользователей-вошедших-одновременно-в-обе-группы-1.4\"><span class=\"toc-item-num\">1.4&nbsp;&nbsp;</span>Очистка данных от пользователей вошедших одновременно в обе группы</a></span></li></ul></li><li><span><a href=\"#Приоритизация-гипотез\" data-toc-modified-id=\"Приоритизация-гипотез-2\"><span class=\"toc-item-num\">2&nbsp;&nbsp;</span>Приоритизация гипотез</a></span><ul class=\"toc-item\"><li><span><a href=\"#Фреймворк-ICE\" data-toc-modified-id=\"Фреймворк-ICE-2.1\"><span class=\"toc-item-num\">2.1&nbsp;&nbsp;</span>Фреймворк ICE</a></span></li><li><span><a href=\"#Фреймворк-RICE\" data-toc-modified-id=\"Фреймворк-RICE-2.2\"><span class=\"toc-item-num\">2.2&nbsp;&nbsp;</span>Фреймворк RICE</a></span></li></ul></li><li><span><a href=\"#Анализ-A/B-Теста\" data-toc-modified-id=\"Анализ-A/B-Теста-3\"><span class=\"toc-item-num\">3&nbsp;&nbsp;</span>Анализ A/B Теста</a></span><ul class=\"toc-item\"><li><span><a href=\"#График-кумулятивной-выручки-по-группам\" data-toc-modified-id=\"График-кумулятивной-выручки-по-группам-3.1\"><span class=\"toc-item-num\">3.1&nbsp;&nbsp;</span>График кумулятивной выручки по группам</a></span></li><li><span><a href=\"#График-кумулятивного-среднего-чека-по-группам\" data-toc-modified-id=\"График-кумулятивного-среднего-чека-по-группам-3.2\"><span class=\"toc-item-num\">3.2&nbsp;&nbsp;</span>График кумулятивного среднего чека по группам</a></span></li><li><span><a href=\"#График-относительного-изменения-кумулятивного-среднего-чека\" data-toc-modified-id=\"График-относительного-изменения-кумулятивного-среднего-чека-3.3\"><span class=\"toc-item-num\">3.3&nbsp;&nbsp;</span>График относительного изменения кумулятивного среднего чека</a></span></li><li><span><a href=\"#График-кумулятивной-конверсии-по-группам\" data-toc-modified-id=\"График-кумулятивной-конверсии-по-группам-3.4\"><span class=\"toc-item-num\">3.4&nbsp;&nbsp;</span>График кумулятивной конверсии по группам</a></span></li><li><span><a href=\"#График-относительного-изменения-кумулятивной-конверсии-группы-B-к-группе-A\" data-toc-modified-id=\"График-относительного-изменения-кумулятивной-конверсии-группы-B-к-группе-A-3.5\"><span class=\"toc-item-num\">3.5&nbsp;&nbsp;</span>График относительного изменения кумулятивной конверсии группы B к группе A</a></span></li><li><span><a href=\"#График-количества-заказов-по-пользователям\" data-toc-modified-id=\"График-количества-заказов-по-пользователям-3.6\"><span class=\"toc-item-num\">3.6&nbsp;&nbsp;</span>График количества заказов по пользователям</a></span></li><li><span><a href=\"#95-й-и-99-й-перцентили-количества-заказов-на-пользователя\" data-toc-modified-id=\"95-й-и-99-й-перцентили-количества-заказов-на-пользователя-3.7\"><span class=\"toc-item-num\">3.7&nbsp;&nbsp;</span>95-й и 99-й перцентили количества заказов на пользователя</a></span></li><li><span><a href=\"#График-стоимостей-заказов\" data-toc-modified-id=\"График-стоимостей-заказов-3.8\"><span class=\"toc-item-num\">3.8&nbsp;&nbsp;</span>График стоимостей заказов</a></span></li><li><span><a href=\"#95-й-и-99-й-перцентили-стоимости-заказов\" data-toc-modified-id=\"95-й-и-99-й-перцентили-стоимости-заказов-3.9\"><span class=\"toc-item-num\">3.9&nbsp;&nbsp;</span>95-й и 99-й перцентили стоимости заказов</a></span></li><li><span><a href=\"#Cтатистическая-значимость-различий-в-конверсии-между-группами-по-«сырым»-данным\" data-toc-modified-id=\"Cтатистическая-значимость-различий-в-конверсии-между-группами-по-«сырым»-данным-3.10\"><span class=\"toc-item-num\">3.10&nbsp;&nbsp;</span>Cтатистическая значимость различий в конверсии между группами по «сырым» данным</a></span></li><li><span><a href=\"#Cтатистическая-значимость-различий-в-среднем-чеке-заказа-между-группами-по-«сырым»-данным\" data-toc-modified-id=\"Cтатистическая-значимость-различий-в-среднем-чеке-заказа-между-группами-по-«сырым»-данным-3.11\"><span class=\"toc-item-num\">3.11&nbsp;&nbsp;</span>Cтатистическая значимость различий в среднем чеке заказа между группами по «сырым» данным</a></span></li><li><span><a href=\"#Cтатистическая-значимость-различий-в-конверсии-между-группами-по-«очищенным»-данным\" data-toc-modified-id=\"Cтатистическая-значимость-различий-в-конверсии-между-группами-по-«очищенным»-данным-3.12\"><span class=\"toc-item-num\">3.12&nbsp;&nbsp;</span>Cтатистическая значимость различий в конверсии между группами по «очищенным» данным</a></span></li><li><span><a href=\"#Cтатистическая-значимость-различий-в-среднем-чеке-заказа-между-группами-по-«очищенным»-данным\" data-toc-modified-id=\"Cтатистическая-значимость-различий-в-среднем-чеке-заказа-между-группами-по-«очищенным»-данным-3.13\"><span class=\"toc-item-num\">3.13&nbsp;&nbsp;</span>Cтатистическая значимость различий в среднем чеке заказа между группами по «очищенным» данным</a></span></li></ul></li><li><span><a href=\"#Общий-вывод\" data-toc-modified-id=\"Общий-вывод-4\"><span class=\"toc-item-num\">4&nbsp;&nbsp;</span>Общий вывод</a></span></li></ul></div>"
   ]
  },
  {
   "cell_type": "markdown",
   "metadata": {},
   "source": [
    "## Оценка и подготовка данных"
   ]
  },
  {
   "cell_type": "markdown",
   "metadata": {},
   "source": [
    "### Оценка данных"
   ]
  },
  {
   "cell_type": "code",
   "execution_count": 1,
   "metadata": {},
   "outputs": [],
   "source": [
    "# Импорт необходимых библиотек\n",
    "import pandas as pd\n",
    "import seaborn as sns\n",
    "sns.set_style('darkgrid')\n",
    "import matplotlib.pyplot as plt\n",
    "import numpy as np\n",
    "import datetime as dt\n",
    "import scipy.stats as st\n",
    "from scipy import stats\n",
    "from collections import defaultdict"
   ]
  },
  {
   "cell_type": "code",
   "execution_count": 2,
   "metadata": {},
   "outputs": [],
   "source": [
    "pd.set_option('display.max_colwidth', 255)\n",
    "pd.set_option('display.float_format', lambda x: '%.2f' % x)\n",
    "pd.set_option('display.max_columns', 100)"
   ]
  },
  {
   "cell_type": "code",
   "execution_count": 3,
   "metadata": {},
   "outputs": [],
   "source": [
    "# Загрузка датасета\n",
    "hyps = pd.read_csv('hypothesis.csv')\n",
    "orders = pd.read_csv('orders.csv')\n",
    "visitors = pd.read_csv('visitors.csv')"
   ]
  },
  {
   "cell_type": "code",
   "execution_count": 4,
   "metadata": {},
   "outputs": [],
   "source": [
    "# Функция просмотра датасетов\n",
    "def datalook(dataset):\n",
    "    display(dataset.info())\n",
    "    display(dataset.head())\n",
    "    display(dataset.describe())\n",
    "    display(dataset.describe(include=[object]))\n",
    "    print('Количество полных дубликатов:', dataset.duplicated().sum())\n",
    "    return"
   ]
  },
  {
   "cell_type": "code",
   "execution_count": 5,
   "metadata": {},
   "outputs": [
    {
     "name": "stdout",
     "output_type": "stream",
     "text": [
      "<class 'pandas.core.frame.DataFrame'>\n",
      "RangeIndex: 9 entries, 0 to 8\n",
      "Data columns (total 5 columns):\n",
      "Hypothesis    9 non-null object\n",
      "Reach         9 non-null int64\n",
      "Impact        9 non-null int64\n",
      "Confidence    9 non-null int64\n",
      "Efforts       9 non-null int64\n",
      "dtypes: int64(4), object(1)\n",
      "memory usage: 488.0+ bytes\n"
     ]
    },
    {
     "data": {
      "text/plain": [
       "None"
      ]
     },
     "metadata": {},
     "output_type": "display_data"
    },
    {
     "data": {
      "text/html": [
       "<div>\n",
       "<style scoped>\n",
       "    .dataframe tbody tr th:only-of-type {\n",
       "        vertical-align: middle;\n",
       "    }\n",
       "\n",
       "    .dataframe tbody tr th {\n",
       "        vertical-align: top;\n",
       "    }\n",
       "\n",
       "    .dataframe thead th {\n",
       "        text-align: right;\n",
       "    }\n",
       "</style>\n",
       "<table border=\"1\" class=\"dataframe\">\n",
       "  <thead>\n",
       "    <tr style=\"text-align: right;\">\n",
       "      <th></th>\n",
       "      <th>Hypothesis</th>\n",
       "      <th>Reach</th>\n",
       "      <th>Impact</th>\n",
       "      <th>Confidence</th>\n",
       "      <th>Efforts</th>\n",
       "    </tr>\n",
       "  </thead>\n",
       "  <tbody>\n",
       "    <tr>\n",
       "      <td>0</td>\n",
       "      <td>Добавить два новых канала привлечения трафика, что позволит привлекать на 30% больше пользователей</td>\n",
       "      <td>3</td>\n",
       "      <td>10</td>\n",
       "      <td>8</td>\n",
       "      <td>6</td>\n",
       "    </tr>\n",
       "    <tr>\n",
       "      <td>1</td>\n",
       "      <td>Запустить собственную службу доставки, что сократит срок доставки заказов</td>\n",
       "      <td>2</td>\n",
       "      <td>5</td>\n",
       "      <td>4</td>\n",
       "      <td>10</td>\n",
       "    </tr>\n",
       "    <tr>\n",
       "      <td>2</td>\n",
       "      <td>Добавить блоки рекомендаций товаров на сайт интернет магазина, чтобы повысить конверсию и средний чек заказа</td>\n",
       "      <td>8</td>\n",
       "      <td>3</td>\n",
       "      <td>7</td>\n",
       "      <td>3</td>\n",
       "    </tr>\n",
       "    <tr>\n",
       "      <td>3</td>\n",
       "      <td>Изменить структура категорий, что увеличит конверсию, т.к. пользователи быстрее найдут нужный товар</td>\n",
       "      <td>8</td>\n",
       "      <td>3</td>\n",
       "      <td>3</td>\n",
       "      <td>8</td>\n",
       "    </tr>\n",
       "    <tr>\n",
       "      <td>4</td>\n",
       "      <td>Изменить цвет фона главной страницы, чтобы увеличить вовлеченность пользователей</td>\n",
       "      <td>3</td>\n",
       "      <td>1</td>\n",
       "      <td>1</td>\n",
       "      <td>1</td>\n",
       "    </tr>\n",
       "  </tbody>\n",
       "</table>\n",
       "</div>"
      ],
      "text/plain": [
       "                                                                                                     Hypothesis  \\\n",
       "0            Добавить два новых канала привлечения трафика, что позволит привлекать на 30% больше пользователей   \n",
       "1                                     Запустить собственную службу доставки, что сократит срок доставки заказов   \n",
       "2  Добавить блоки рекомендаций товаров на сайт интернет магазина, чтобы повысить конверсию и средний чек заказа   \n",
       "3           Изменить структура категорий, что увеличит конверсию, т.к. пользователи быстрее найдут нужный товар   \n",
       "4                              Изменить цвет фона главной страницы, чтобы увеличить вовлеченность пользователей   \n",
       "\n",
       "   Reach  Impact  Confidence  Efforts  \n",
       "0      3      10           8        6  \n",
       "1      2       5           4       10  \n",
       "2      8       3           7        3  \n",
       "3      8       3           3        8  \n",
       "4      3       1           1        1  "
      ]
     },
     "metadata": {},
     "output_type": "display_data"
    },
    {
     "data": {
      "text/html": [
       "<div>\n",
       "<style scoped>\n",
       "    .dataframe tbody tr th:only-of-type {\n",
       "        vertical-align: middle;\n",
       "    }\n",
       "\n",
       "    .dataframe tbody tr th {\n",
       "        vertical-align: top;\n",
       "    }\n",
       "\n",
       "    .dataframe thead th {\n",
       "        text-align: right;\n",
       "    }\n",
       "</style>\n",
       "<table border=\"1\" class=\"dataframe\">\n",
       "  <thead>\n",
       "    <tr style=\"text-align: right;\">\n",
       "      <th></th>\n",
       "      <th>Reach</th>\n",
       "      <th>Impact</th>\n",
       "      <th>Confidence</th>\n",
       "      <th>Efforts</th>\n",
       "    </tr>\n",
       "  </thead>\n",
       "  <tbody>\n",
       "    <tr>\n",
       "      <td>count</td>\n",
       "      <td>9.00</td>\n",
       "      <td>9.00</td>\n",
       "      <td>9.00</td>\n",
       "      <td>9.00</td>\n",
       "    </tr>\n",
       "    <tr>\n",
       "      <td>mean</td>\n",
       "      <td>4.78</td>\n",
       "      <td>4.78</td>\n",
       "      <td>5.56</td>\n",
       "      <td>4.89</td>\n",
       "    </tr>\n",
       "    <tr>\n",
       "      <td>std</td>\n",
       "      <td>3.15</td>\n",
       "      <td>3.19</td>\n",
       "      <td>3.05</td>\n",
       "      <td>2.80</td>\n",
       "    </tr>\n",
       "    <tr>\n",
       "      <td>min</td>\n",
       "      <td>1.00</td>\n",
       "      <td>1.00</td>\n",
       "      <td>1.00</td>\n",
       "      <td>1.00</td>\n",
       "    </tr>\n",
       "    <tr>\n",
       "      <td>25%</td>\n",
       "      <td>3.00</td>\n",
       "      <td>3.00</td>\n",
       "      <td>3.00</td>\n",
       "      <td>3.00</td>\n",
       "    </tr>\n",
       "    <tr>\n",
       "      <td>50%</td>\n",
       "      <td>3.00</td>\n",
       "      <td>3.00</td>\n",
       "      <td>7.00</td>\n",
       "      <td>5.00</td>\n",
       "    </tr>\n",
       "    <tr>\n",
       "      <td>75%</td>\n",
       "      <td>8.00</td>\n",
       "      <td>7.00</td>\n",
       "      <td>8.00</td>\n",
       "      <td>6.00</td>\n",
       "    </tr>\n",
       "    <tr>\n",
       "      <td>max</td>\n",
       "      <td>10.00</td>\n",
       "      <td>10.00</td>\n",
       "      <td>9.00</td>\n",
       "      <td>10.00</td>\n",
       "    </tr>\n",
       "  </tbody>\n",
       "</table>\n",
       "</div>"
      ],
      "text/plain": [
       "       Reach  Impact  Confidence  Efforts\n",
       "count   9.00    9.00        9.00     9.00\n",
       "mean    4.78    4.78        5.56     4.89\n",
       "std     3.15    3.19        3.05     2.80\n",
       "min     1.00    1.00        1.00     1.00\n",
       "25%     3.00    3.00        3.00     3.00\n",
       "50%     3.00    3.00        7.00     5.00\n",
       "75%     8.00    7.00        8.00     6.00\n",
       "max    10.00   10.00        9.00    10.00"
      ]
     },
     "metadata": {},
     "output_type": "display_data"
    },
    {
     "data": {
      "text/html": [
       "<div>\n",
       "<style scoped>\n",
       "    .dataframe tbody tr th:only-of-type {\n",
       "        vertical-align: middle;\n",
       "    }\n",
       "\n",
       "    .dataframe tbody tr th {\n",
       "        vertical-align: top;\n",
       "    }\n",
       "\n",
       "    .dataframe thead th {\n",
       "        text-align: right;\n",
       "    }\n",
       "</style>\n",
       "<table border=\"1\" class=\"dataframe\">\n",
       "  <thead>\n",
       "    <tr style=\"text-align: right;\">\n",
       "      <th></th>\n",
       "      <th>Hypothesis</th>\n",
       "    </tr>\n",
       "  </thead>\n",
       "  <tbody>\n",
       "    <tr>\n",
       "      <td>count</td>\n",
       "      <td>9</td>\n",
       "    </tr>\n",
       "    <tr>\n",
       "      <td>unique</td>\n",
       "      <td>9</td>\n",
       "    </tr>\n",
       "    <tr>\n",
       "      <td>top</td>\n",
       "      <td>Добавить страницу отзывов клиентов о магазине, что позволит увеличить количество заказов</td>\n",
       "    </tr>\n",
       "    <tr>\n",
       "      <td>freq</td>\n",
       "      <td>1</td>\n",
       "    </tr>\n",
       "  </tbody>\n",
       "</table>\n",
       "</div>"
      ],
      "text/plain": [
       "                                                                                      Hypothesis\n",
       "count                                                                                          9\n",
       "unique                                                                                         9\n",
       "top     Добавить страницу отзывов клиентов о магазине, что позволит увеличить количество заказов\n",
       "freq                                                                                           1"
      ]
     },
     "metadata": {},
     "output_type": "display_data"
    },
    {
     "name": "stdout",
     "output_type": "stream",
     "text": [
      "Количество полных дубликатов: 0\n"
     ]
    }
   ],
   "source": [
    "# Оценка таблицы с гипотезами\n",
    "datalook(hyps)"
   ]
  },
  {
   "cell_type": "code",
   "execution_count": 6,
   "metadata": {
    "scrolled": false
   },
   "outputs": [
    {
     "name": "stdout",
     "output_type": "stream",
     "text": [
      "<class 'pandas.core.frame.DataFrame'>\n",
      "RangeIndex: 1197 entries, 0 to 1196\n",
      "Data columns (total 5 columns):\n",
      "transactionId    1197 non-null int64\n",
      "visitorId        1197 non-null int64\n",
      "date             1197 non-null object\n",
      "revenue          1197 non-null int64\n",
      "group            1197 non-null object\n",
      "dtypes: int64(3), object(2)\n",
      "memory usage: 46.9+ KB\n"
     ]
    },
    {
     "data": {
      "text/plain": [
       "None"
      ]
     },
     "metadata": {},
     "output_type": "display_data"
    },
    {
     "data": {
      "text/html": [
       "<div>\n",
       "<style scoped>\n",
       "    .dataframe tbody tr th:only-of-type {\n",
       "        vertical-align: middle;\n",
       "    }\n",
       "\n",
       "    .dataframe tbody tr th {\n",
       "        vertical-align: top;\n",
       "    }\n",
       "\n",
       "    .dataframe thead th {\n",
       "        text-align: right;\n",
       "    }\n",
       "</style>\n",
       "<table border=\"1\" class=\"dataframe\">\n",
       "  <thead>\n",
       "    <tr style=\"text-align: right;\">\n",
       "      <th></th>\n",
       "      <th>transactionId</th>\n",
       "      <th>visitorId</th>\n",
       "      <th>date</th>\n",
       "      <th>revenue</th>\n",
       "      <th>group</th>\n",
       "    </tr>\n",
       "  </thead>\n",
       "  <tbody>\n",
       "    <tr>\n",
       "      <td>0</td>\n",
       "      <td>3667963787</td>\n",
       "      <td>3312258926</td>\n",
       "      <td>2019-08-15</td>\n",
       "      <td>1650</td>\n",
       "      <td>B</td>\n",
       "    </tr>\n",
       "    <tr>\n",
       "      <td>1</td>\n",
       "      <td>2804400009</td>\n",
       "      <td>3642806036</td>\n",
       "      <td>2019-08-15</td>\n",
       "      <td>730</td>\n",
       "      <td>B</td>\n",
       "    </tr>\n",
       "    <tr>\n",
       "      <td>2</td>\n",
       "      <td>2961555356</td>\n",
       "      <td>4069496402</td>\n",
       "      <td>2019-08-15</td>\n",
       "      <td>400</td>\n",
       "      <td>A</td>\n",
       "    </tr>\n",
       "    <tr>\n",
       "      <td>3</td>\n",
       "      <td>3797467345</td>\n",
       "      <td>1196621759</td>\n",
       "      <td>2019-08-15</td>\n",
       "      <td>9759</td>\n",
       "      <td>B</td>\n",
       "    </tr>\n",
       "    <tr>\n",
       "      <td>4</td>\n",
       "      <td>2282983706</td>\n",
       "      <td>2322279887</td>\n",
       "      <td>2019-08-15</td>\n",
       "      <td>2308</td>\n",
       "      <td>B</td>\n",
       "    </tr>\n",
       "  </tbody>\n",
       "</table>\n",
       "</div>"
      ],
      "text/plain": [
       "   transactionId   visitorId        date  revenue group\n",
       "0     3667963787  3312258926  2019-08-15     1650     B\n",
       "1     2804400009  3642806036  2019-08-15      730     B\n",
       "2     2961555356  4069496402  2019-08-15      400     A\n",
       "3     3797467345  1196621759  2019-08-15     9759     B\n",
       "4     2282983706  2322279887  2019-08-15     2308     B"
      ]
     },
     "metadata": {},
     "output_type": "display_data"
    },
    {
     "data": {
      "text/html": [
       "<div>\n",
       "<style scoped>\n",
       "    .dataframe tbody tr th:only-of-type {\n",
       "        vertical-align: middle;\n",
       "    }\n",
       "\n",
       "    .dataframe tbody tr th {\n",
       "        vertical-align: top;\n",
       "    }\n",
       "\n",
       "    .dataframe thead th {\n",
       "        text-align: right;\n",
       "    }\n",
       "</style>\n",
       "<table border=\"1\" class=\"dataframe\">\n",
       "  <thead>\n",
       "    <tr style=\"text-align: right;\">\n",
       "      <th></th>\n",
       "      <th>transactionId</th>\n",
       "      <th>visitorId</th>\n",
       "      <th>revenue</th>\n",
       "    </tr>\n",
       "  </thead>\n",
       "  <tbody>\n",
       "    <tr>\n",
       "      <td>count</td>\n",
       "      <td>1197.00</td>\n",
       "      <td>1197.00</td>\n",
       "      <td>1197.00</td>\n",
       "    </tr>\n",
       "    <tr>\n",
       "      <td>mean</td>\n",
       "      <td>2155621385.53</td>\n",
       "      <td>2165960143.10</td>\n",
       "      <td>8348.01</td>\n",
       "    </tr>\n",
       "    <tr>\n",
       "      <td>std</td>\n",
       "      <td>1229084904.76</td>\n",
       "      <td>1236014192.15</td>\n",
       "      <td>39191.13</td>\n",
       "    </tr>\n",
       "    <tr>\n",
       "      <td>min</td>\n",
       "      <td>1062393.00</td>\n",
       "      <td>5114589.00</td>\n",
       "      <td>50.00</td>\n",
       "    </tr>\n",
       "    <tr>\n",
       "      <td>25%</td>\n",
       "      <td>1166775572.00</td>\n",
       "      <td>1111826046.00</td>\n",
       "      <td>1220.00</td>\n",
       "    </tr>\n",
       "    <tr>\n",
       "      <td>50%</td>\n",
       "      <td>2145193898.00</td>\n",
       "      <td>2217984702.00</td>\n",
       "      <td>2978.00</td>\n",
       "    </tr>\n",
       "    <tr>\n",
       "      <td>75%</td>\n",
       "      <td>3237740112.00</td>\n",
       "      <td>3177606451.00</td>\n",
       "      <td>8290.00</td>\n",
       "    </tr>\n",
       "    <tr>\n",
       "      <td>max</td>\n",
       "      <td>4293855558.00</td>\n",
       "      <td>4283872382.00</td>\n",
       "      <td>1294500.00</td>\n",
       "    </tr>\n",
       "  </tbody>\n",
       "</table>\n",
       "</div>"
      ],
      "text/plain": [
       "       transactionId     visitorId    revenue\n",
       "count        1197.00       1197.00    1197.00\n",
       "mean   2155621385.53 2165960143.10    8348.01\n",
       "std    1229084904.76 1236014192.15   39191.13\n",
       "min       1062393.00    5114589.00      50.00\n",
       "25%    1166775572.00 1111826046.00    1220.00\n",
       "50%    2145193898.00 2217984702.00    2978.00\n",
       "75%    3237740112.00 3177606451.00    8290.00\n",
       "max    4293855558.00 4283872382.00 1294500.00"
      ]
     },
     "metadata": {},
     "output_type": "display_data"
    },
    {
     "data": {
      "text/html": [
       "<div>\n",
       "<style scoped>\n",
       "    .dataframe tbody tr th:only-of-type {\n",
       "        vertical-align: middle;\n",
       "    }\n",
       "\n",
       "    .dataframe tbody tr th {\n",
       "        vertical-align: top;\n",
       "    }\n",
       "\n",
       "    .dataframe thead th {\n",
       "        text-align: right;\n",
       "    }\n",
       "</style>\n",
       "<table border=\"1\" class=\"dataframe\">\n",
       "  <thead>\n",
       "    <tr style=\"text-align: right;\">\n",
       "      <th></th>\n",
       "      <th>date</th>\n",
       "      <th>group</th>\n",
       "    </tr>\n",
       "  </thead>\n",
       "  <tbody>\n",
       "    <tr>\n",
       "      <td>count</td>\n",
       "      <td>1197</td>\n",
       "      <td>1197</td>\n",
       "    </tr>\n",
       "    <tr>\n",
       "      <td>unique</td>\n",
       "      <td>31</td>\n",
       "      <td>2</td>\n",
       "    </tr>\n",
       "    <tr>\n",
       "      <td>top</td>\n",
       "      <td>2019-08-05</td>\n",
       "      <td>B</td>\n",
       "    </tr>\n",
       "    <tr>\n",
       "      <td>freq</td>\n",
       "      <td>48</td>\n",
       "      <td>640</td>\n",
       "    </tr>\n",
       "  </tbody>\n",
       "</table>\n",
       "</div>"
      ],
      "text/plain": [
       "              date group\n",
       "count         1197  1197\n",
       "unique          31     2\n",
       "top     2019-08-05     B\n",
       "freq            48   640"
      ]
     },
     "metadata": {},
     "output_type": "display_data"
    },
    {
     "name": "stdout",
     "output_type": "stream",
     "text": [
      "Количество полных дубликатов: 0\n"
     ]
    }
   ],
   "source": [
    "# Оценка таблицы с заказми\n",
    "datalook(orders)"
   ]
  },
  {
   "cell_type": "markdown",
   "metadata": {},
   "source": [
    "**Пропусков нет, в столбце date нужно заменить тип даты на datetime, проверить диапазон дат**"
   ]
  },
  {
   "cell_type": "code",
   "execution_count": 7,
   "metadata": {},
   "outputs": [
    {
     "name": "stdout",
     "output_type": "stream",
     "text": [
      "<class 'pandas.core.frame.DataFrame'>\n",
      "RangeIndex: 62 entries, 0 to 61\n",
      "Data columns (total 3 columns):\n",
      "date        62 non-null object\n",
      "group       62 non-null object\n",
      "visitors    62 non-null int64\n",
      "dtypes: int64(1), object(2)\n",
      "memory usage: 1.6+ KB\n"
     ]
    },
    {
     "data": {
      "text/plain": [
       "None"
      ]
     },
     "metadata": {},
     "output_type": "display_data"
    },
    {
     "data": {
      "text/html": [
       "<div>\n",
       "<style scoped>\n",
       "    .dataframe tbody tr th:only-of-type {\n",
       "        vertical-align: middle;\n",
       "    }\n",
       "\n",
       "    .dataframe tbody tr th {\n",
       "        vertical-align: top;\n",
       "    }\n",
       "\n",
       "    .dataframe thead th {\n",
       "        text-align: right;\n",
       "    }\n",
       "</style>\n",
       "<table border=\"1\" class=\"dataframe\">\n",
       "  <thead>\n",
       "    <tr style=\"text-align: right;\">\n",
       "      <th></th>\n",
       "      <th>date</th>\n",
       "      <th>group</th>\n",
       "      <th>visitors</th>\n",
       "    </tr>\n",
       "  </thead>\n",
       "  <tbody>\n",
       "    <tr>\n",
       "      <td>0</td>\n",
       "      <td>2019-08-01</td>\n",
       "      <td>A</td>\n",
       "      <td>719</td>\n",
       "    </tr>\n",
       "    <tr>\n",
       "      <td>1</td>\n",
       "      <td>2019-08-02</td>\n",
       "      <td>A</td>\n",
       "      <td>619</td>\n",
       "    </tr>\n",
       "    <tr>\n",
       "      <td>2</td>\n",
       "      <td>2019-08-03</td>\n",
       "      <td>A</td>\n",
       "      <td>507</td>\n",
       "    </tr>\n",
       "    <tr>\n",
       "      <td>3</td>\n",
       "      <td>2019-08-04</td>\n",
       "      <td>A</td>\n",
       "      <td>717</td>\n",
       "    </tr>\n",
       "    <tr>\n",
       "      <td>4</td>\n",
       "      <td>2019-08-05</td>\n",
       "      <td>A</td>\n",
       "      <td>756</td>\n",
       "    </tr>\n",
       "  </tbody>\n",
       "</table>\n",
       "</div>"
      ],
      "text/plain": [
       "         date group  visitors\n",
       "0  2019-08-01     A       719\n",
       "1  2019-08-02     A       619\n",
       "2  2019-08-03     A       507\n",
       "3  2019-08-04     A       717\n",
       "4  2019-08-05     A       756"
      ]
     },
     "metadata": {},
     "output_type": "display_data"
    },
    {
     "data": {
      "text/html": [
       "<div>\n",
       "<style scoped>\n",
       "    .dataframe tbody tr th:only-of-type {\n",
       "        vertical-align: middle;\n",
       "    }\n",
       "\n",
       "    .dataframe tbody tr th {\n",
       "        vertical-align: top;\n",
       "    }\n",
       "\n",
       "    .dataframe thead th {\n",
       "        text-align: right;\n",
       "    }\n",
       "</style>\n",
       "<table border=\"1\" class=\"dataframe\">\n",
       "  <thead>\n",
       "    <tr style=\"text-align: right;\">\n",
       "      <th></th>\n",
       "      <th>visitors</th>\n",
       "    </tr>\n",
       "  </thead>\n",
       "  <tbody>\n",
       "    <tr>\n",
       "      <td>count</td>\n",
       "      <td>62.00</td>\n",
       "    </tr>\n",
       "    <tr>\n",
       "      <td>mean</td>\n",
       "      <td>607.29</td>\n",
       "    </tr>\n",
       "    <tr>\n",
       "      <td>std</td>\n",
       "      <td>114.40</td>\n",
       "    </tr>\n",
       "    <tr>\n",
       "      <td>min</td>\n",
       "      <td>361.00</td>\n",
       "    </tr>\n",
       "    <tr>\n",
       "      <td>25%</td>\n",
       "      <td>534.00</td>\n",
       "    </tr>\n",
       "    <tr>\n",
       "      <td>50%</td>\n",
       "      <td>624.50</td>\n",
       "    </tr>\n",
       "    <tr>\n",
       "      <td>75%</td>\n",
       "      <td>710.50</td>\n",
       "    </tr>\n",
       "    <tr>\n",
       "      <td>max</td>\n",
       "      <td>770.00</td>\n",
       "    </tr>\n",
       "  </tbody>\n",
       "</table>\n",
       "</div>"
      ],
      "text/plain": [
       "       visitors\n",
       "count     62.00\n",
       "mean     607.29\n",
       "std      114.40\n",
       "min      361.00\n",
       "25%      534.00\n",
       "50%      624.50\n",
       "75%      710.50\n",
       "max      770.00"
      ]
     },
     "metadata": {},
     "output_type": "display_data"
    },
    {
     "data": {
      "text/html": [
       "<div>\n",
       "<style scoped>\n",
       "    .dataframe tbody tr th:only-of-type {\n",
       "        vertical-align: middle;\n",
       "    }\n",
       "\n",
       "    .dataframe tbody tr th {\n",
       "        vertical-align: top;\n",
       "    }\n",
       "\n",
       "    .dataframe thead th {\n",
       "        text-align: right;\n",
       "    }\n",
       "</style>\n",
       "<table border=\"1\" class=\"dataframe\">\n",
       "  <thead>\n",
       "    <tr style=\"text-align: right;\">\n",
       "      <th></th>\n",
       "      <th>date</th>\n",
       "      <th>group</th>\n",
       "    </tr>\n",
       "  </thead>\n",
       "  <tbody>\n",
       "    <tr>\n",
       "      <td>count</td>\n",
       "      <td>62</td>\n",
       "      <td>62</td>\n",
       "    </tr>\n",
       "    <tr>\n",
       "      <td>unique</td>\n",
       "      <td>31</td>\n",
       "      <td>2</td>\n",
       "    </tr>\n",
       "    <tr>\n",
       "      <td>top</td>\n",
       "      <td>2019-08-30</td>\n",
       "      <td>A</td>\n",
       "    </tr>\n",
       "    <tr>\n",
       "      <td>freq</td>\n",
       "      <td>2</td>\n",
       "      <td>31</td>\n",
       "    </tr>\n",
       "  </tbody>\n",
       "</table>\n",
       "</div>"
      ],
      "text/plain": [
       "              date group\n",
       "count           62    62\n",
       "unique          31     2\n",
       "top     2019-08-30     A\n",
       "freq             2    31"
      ]
     },
     "metadata": {},
     "output_type": "display_data"
    },
    {
     "name": "stdout",
     "output_type": "stream",
     "text": [
      "Количество полных дубликатов: 0\n"
     ]
    }
   ],
   "source": [
    "datalook(visitors)"
   ]
  },
  {
   "cell_type": "markdown",
   "metadata": {},
   "source": [
    "**Пропусков нет, в столбце date нужно заменить тип даты на datetime, проверить диапазон дат**"
   ]
  },
  {
   "cell_type": "markdown",
   "metadata": {},
   "source": [
    "### Подготовка данных"
   ]
  },
  {
   "cell_type": "markdown",
   "metadata": {},
   "source": [
    "### Проверка диапазонов дат, изменение типов данных"
   ]
  },
  {
   "cell_type": "code",
   "execution_count": 8,
   "metadata": {},
   "outputs": [
    {
     "name": "stdout",
     "output_type": "stream",
     "text": [
      "Начальная дата 2019-08-01\n",
      "Конечная дата 2019-08-31\n"
     ]
    }
   ],
   "source": [
    "# Просмотр диапазона дат\n",
    "print('Начальная дата',orders['date'].min())\n",
    "print('Конечная дата',orders['date'].max())"
   ]
  },
  {
   "cell_type": "code",
   "execution_count": 9,
   "metadata": {},
   "outputs": [],
   "source": [
    "# Замена типа на тип даты\n",
    "orders['date'] = orders['date'].astype('datetime64[D]')\n",
    "orders['date'] = orders['date'].map(lambda x: dt.datetime.strftime(x, '%Y-%m-%d'))"
   ]
  },
  {
   "cell_type": "code",
   "execution_count": 10,
   "metadata": {},
   "outputs": [
    {
     "name": "stdout",
     "output_type": "stream",
     "text": [
      "Начальная дата 2019-08-01\n",
      "Конечная дата 2019-08-31\n"
     ]
    }
   ],
   "source": [
    "# Просмотр диапазона дат\n",
    "print('Начальная дата',visitors['date'].min())\n",
    "print('Конечная дата',visitors['date'].max())"
   ]
  },
  {
   "cell_type": "code",
   "execution_count": 11,
   "metadata": {},
   "outputs": [],
   "source": [
    "# Замена типа на тип даты\n",
    "visitors['date'] = visitors['date'].astype('datetime64[D]')\n",
    "visitors['date'] = visitors['date'].map(lambda x: dt.datetime.strftime(x, '%Y-%m-%d'))"
   ]
  },
  {
   "cell_type": "code",
   "execution_count": 12,
   "metadata": {},
   "outputs": [],
   "source": [
    "# Приведение к нижнему регистру столбцов в заказах\n",
    "orders.columns = map(str.lower, orders.columns)"
   ]
  },
  {
   "cell_type": "markdown",
   "metadata": {},
   "source": [
    "**Столбцы с датами приведены к типу datetime, диапазоны дат проверены - совпадают в обеих таблицах, с 1 по 31 августа 2019 г.**"
   ]
  },
  {
   "cell_type": "code",
   "execution_count": 13,
   "metadata": {
    "scrolled": false
   },
   "outputs": [
    {
     "data": {
      "text/html": [
       "<div>\n",
       "<style scoped>\n",
       "    .dataframe tbody tr th:only-of-type {\n",
       "        vertical-align: middle;\n",
       "    }\n",
       "\n",
       "    .dataframe tbody tr th {\n",
       "        vertical-align: top;\n",
       "    }\n",
       "\n",
       "    .dataframe thead th {\n",
       "        text-align: right;\n",
       "    }\n",
       "</style>\n",
       "<table border=\"1\" class=\"dataframe\">\n",
       "  <thead>\n",
       "    <tr style=\"text-align: right;\">\n",
       "      <th></th>\n",
       "      <th>transactionid</th>\n",
       "      <th>visitorid</th>\n",
       "      <th>date</th>\n",
       "      <th>revenue</th>\n",
       "      <th>group</th>\n",
       "      <th>group_ncount</th>\n",
       "    </tr>\n",
       "  </thead>\n",
       "  <tbody>\n",
       "    <tr>\n",
       "      <td>0</td>\n",
       "      <td>3667963787</td>\n",
       "      <td>3312258926</td>\n",
       "      <td>2019-08-15</td>\n",
       "      <td>1650</td>\n",
       "      <td>B</td>\n",
       "      <td>1</td>\n",
       "    </tr>\n",
       "    <tr>\n",
       "      <td>1</td>\n",
       "      <td>2804400009</td>\n",
       "      <td>3642806036</td>\n",
       "      <td>2019-08-15</td>\n",
       "      <td>730</td>\n",
       "      <td>B</td>\n",
       "      <td>1</td>\n",
       "    </tr>\n",
       "    <tr>\n",
       "      <td>2</td>\n",
       "      <td>2961555356</td>\n",
       "      <td>4069496402</td>\n",
       "      <td>2019-08-15</td>\n",
       "      <td>400</td>\n",
       "      <td>A</td>\n",
       "      <td>2</td>\n",
       "    </tr>\n",
       "    <tr>\n",
       "      <td>3</td>\n",
       "      <td>3797467345</td>\n",
       "      <td>1196621759</td>\n",
       "      <td>2019-08-15</td>\n",
       "      <td>9759</td>\n",
       "      <td>B</td>\n",
       "      <td>1</td>\n",
       "    </tr>\n",
       "    <tr>\n",
       "      <td>4</td>\n",
       "      <td>2282983706</td>\n",
       "      <td>2322279887</td>\n",
       "      <td>2019-08-15</td>\n",
       "      <td>2308</td>\n",
       "      <td>B</td>\n",
       "      <td>1</td>\n",
       "    </tr>\n",
       "  </tbody>\n",
       "</table>\n",
       "</div>"
      ],
      "text/plain": [
       "   transactionid   visitorid        date  revenue group  group_ncount\n",
       "0     3667963787  3312258926  2019-08-15     1650     B             1\n",
       "1     2804400009  3642806036  2019-08-15      730     B             1\n",
       "2     2961555356  4069496402  2019-08-15      400     A             2\n",
       "3     3797467345  1196621759  2019-08-15     9759     B             1\n",
       "4     2282983706  2322279887  2019-08-15     2308     B             1"
      ]
     },
     "execution_count": 13,
     "metadata": {},
     "output_type": "execute_result"
    }
   ],
   "source": [
    "# Группировка количества уникальных групп для каждого покупателя\n",
    "orders['group_ncount'] = orders.groupby('visitorid')['group'].transform(pd.Series.nunique)\n",
    "orders.head()"
   ]
  },
  {
   "cell_type": "code",
   "execution_count": 14,
   "metadata": {},
   "outputs": [
    {
     "name": "stdout",
     "output_type": "stream",
     "text": [
      "Количество покупателей попавших в обе группы 58\n"
     ]
    }
   ],
   "source": [
    "# Выделение мультипокупателей из заказов по id\n",
    "multi_users = orders.query('group_ncount > 1')\n",
    "print('Количество покупателей попавших в обе группы',multi_users['visitorid'].nunique())\n",
    "multi_users = multi_users['visitorid'].unique().tolist()"
   ]
  },
  {
   "cell_type": "markdown",
   "metadata": {},
   "source": [
    "**58 покупателей есть в группе А и группе B одновременно, такие покупатели искажают данные теста. Необходимо очистить таблицу от всех таких пользователей**"
   ]
  },
  {
   "cell_type": "markdown",
   "metadata": {},
   "source": [
    "### Очистка данных от пользователей вошедших одновременно в обе группы"
   ]
  },
  {
   "cell_type": "code",
   "execution_count": 15,
   "metadata": {},
   "outputs": [
    {
     "data": {
      "text/html": [
       "<div>\n",
       "<style scoped>\n",
       "    .dataframe tbody tr th:only-of-type {\n",
       "        vertical-align: middle;\n",
       "    }\n",
       "\n",
       "    .dataframe tbody tr th {\n",
       "        vertical-align: top;\n",
       "    }\n",
       "\n",
       "    .dataframe thead th {\n",
       "        text-align: right;\n",
       "    }\n",
       "</style>\n",
       "<table border=\"1\" class=\"dataframe\">\n",
       "  <thead>\n",
       "    <tr style=\"text-align: right;\">\n",
       "      <th></th>\n",
       "      <th>transactionid</th>\n",
       "      <th>visitorid</th>\n",
       "      <th>date</th>\n",
       "      <th>revenue</th>\n",
       "      <th>group</th>\n",
       "      <th>group_ncount</th>\n",
       "    </tr>\n",
       "  </thead>\n",
       "  <tbody>\n",
       "    <tr>\n",
       "      <td>0</td>\n",
       "      <td>3667963787</td>\n",
       "      <td>3312258926</td>\n",
       "      <td>2019-08-15</td>\n",
       "      <td>1650</td>\n",
       "      <td>B</td>\n",
       "      <td>1</td>\n",
       "    </tr>\n",
       "    <tr>\n",
       "      <td>1</td>\n",
       "      <td>2804400009</td>\n",
       "      <td>3642806036</td>\n",
       "      <td>2019-08-15</td>\n",
       "      <td>730</td>\n",
       "      <td>B</td>\n",
       "      <td>1</td>\n",
       "    </tr>\n",
       "    <tr>\n",
       "      <td>3</td>\n",
       "      <td>3797467345</td>\n",
       "      <td>1196621759</td>\n",
       "      <td>2019-08-15</td>\n",
       "      <td>9759</td>\n",
       "      <td>B</td>\n",
       "      <td>1</td>\n",
       "    </tr>\n",
       "    <tr>\n",
       "      <td>4</td>\n",
       "      <td>2282983706</td>\n",
       "      <td>2322279887</td>\n",
       "      <td>2019-08-15</td>\n",
       "      <td>2308</td>\n",
       "      <td>B</td>\n",
       "      <td>1</td>\n",
       "    </tr>\n",
       "    <tr>\n",
       "      <td>5</td>\n",
       "      <td>182168103</td>\n",
       "      <td>935554773</td>\n",
       "      <td>2019-08-15</td>\n",
       "      <td>2210</td>\n",
       "      <td>B</td>\n",
       "      <td>1</td>\n",
       "    </tr>\n",
       "    <tr>\n",
       "      <td>...</td>\n",
       "      <td>...</td>\n",
       "      <td>...</td>\n",
       "      <td>...</td>\n",
       "      <td>...</td>\n",
       "      <td>...</td>\n",
       "      <td>...</td>\n",
       "    </tr>\n",
       "    <tr>\n",
       "      <td>1191</td>\n",
       "      <td>3592955527</td>\n",
       "      <td>608641596</td>\n",
       "      <td>2019-08-14</td>\n",
       "      <td>16490</td>\n",
       "      <td>B</td>\n",
       "      <td>1</td>\n",
       "    </tr>\n",
       "    <tr>\n",
       "      <td>1192</td>\n",
       "      <td>2662137336</td>\n",
       "      <td>3733762160</td>\n",
       "      <td>2019-08-14</td>\n",
       "      <td>6490</td>\n",
       "      <td>B</td>\n",
       "      <td>1</td>\n",
       "    </tr>\n",
       "    <tr>\n",
       "      <td>1193</td>\n",
       "      <td>2203539145</td>\n",
       "      <td>370388673</td>\n",
       "      <td>2019-08-14</td>\n",
       "      <td>3190</td>\n",
       "      <td>A</td>\n",
       "      <td>1</td>\n",
       "    </tr>\n",
       "    <tr>\n",
       "      <td>1194</td>\n",
       "      <td>1807773912</td>\n",
       "      <td>573423106</td>\n",
       "      <td>2019-08-14</td>\n",
       "      <td>10550</td>\n",
       "      <td>A</td>\n",
       "      <td>1</td>\n",
       "    </tr>\n",
       "    <tr>\n",
       "      <td>1196</td>\n",
       "      <td>3936777065</td>\n",
       "      <td>2108080724</td>\n",
       "      <td>2019-08-15</td>\n",
       "      <td>202740</td>\n",
       "      <td>B</td>\n",
       "      <td>1</td>\n",
       "    </tr>\n",
       "  </tbody>\n",
       "</table>\n",
       "<p>1016 rows × 6 columns</p>\n",
       "</div>"
      ],
      "text/plain": [
       "      transactionid   visitorid        date  revenue group  group_ncount\n",
       "0        3667963787  3312258926  2019-08-15     1650     B             1\n",
       "1        2804400009  3642806036  2019-08-15      730     B             1\n",
       "3        3797467345  1196621759  2019-08-15     9759     B             1\n",
       "4        2282983706  2322279887  2019-08-15     2308     B             1\n",
       "5         182168103   935554773  2019-08-15     2210     B             1\n",
       "...             ...         ...         ...      ...   ...           ...\n",
       "1191     3592955527   608641596  2019-08-14    16490     B             1\n",
       "1192     2662137336  3733762160  2019-08-14     6490     B             1\n",
       "1193     2203539145   370388673  2019-08-14     3190     A             1\n",
       "1194     1807773912   573423106  2019-08-14    10550     A             1\n",
       "1196     3936777065  2108080724  2019-08-15   202740     B             1\n",
       "\n",
       "[1016 rows x 6 columns]"
      ]
     },
     "execution_count": 15,
     "metadata": {},
     "output_type": "execute_result"
    }
   ],
   "source": [
    "# Исключение из таблицы заказов покупателей покупавших в обоих группах\n",
    "orders_original = orders.copy()\n",
    "orders = orders.query('visitorid not in @multi_users')\n",
    "orders"
   ]
  },
  {
   "cell_type": "markdown",
   "metadata": {},
   "source": [
    "**Из таблицы заказов удалены строки покупателей покупавших в обоих тестовых группах, кол-во строк совпадает с исходным датафреймом за минусом мультипокупателей обоих групп**"
   ]
  },
  {
   "cell_type": "code",
   "execution_count": 16,
   "metadata": {},
   "outputs": [
    {
     "data": {
      "text/html": [
       "<div>\n",
       "<style scoped>\n",
       "    .dataframe tbody tr th:only-of-type {\n",
       "        vertical-align: middle;\n",
       "    }\n",
       "\n",
       "    .dataframe tbody tr th {\n",
       "        vertical-align: top;\n",
       "    }\n",
       "\n",
       "    .dataframe thead th {\n",
       "        text-align: right;\n",
       "    }\n",
       "</style>\n",
       "<table border=\"1\" class=\"dataframe\">\n",
       "  <thead>\n",
       "    <tr style=\"text-align: right;\">\n",
       "      <th></th>\n",
       "      <th>group</th>\n",
       "      <th>date</th>\n",
       "      <th>count</th>\n",
       "    </tr>\n",
       "  </thead>\n",
       "  <tbody>\n",
       "    <tr>\n",
       "      <td>0</td>\n",
       "      <td>A</td>\n",
       "      <td>2019-08-07</td>\n",
       "      <td>-1</td>\n",
       "    </tr>\n",
       "    <tr>\n",
       "      <td>1</td>\n",
       "      <td>B</td>\n",
       "      <td>2019-08-01</td>\n",
       "      <td>-1</td>\n",
       "    </tr>\n",
       "    <tr>\n",
       "      <td>2</td>\n",
       "      <td>A</td>\n",
       "      <td>2019-08-12</td>\n",
       "      <td>-1</td>\n",
       "    </tr>\n",
       "    <tr>\n",
       "      <td>3</td>\n",
       "      <td>A</td>\n",
       "      <td>2019-08-15</td>\n",
       "      <td>-1</td>\n",
       "    </tr>\n",
       "    <tr>\n",
       "      <td>4</td>\n",
       "      <td>A</td>\n",
       "      <td>2019-08-22</td>\n",
       "      <td>-1</td>\n",
       "    </tr>\n",
       "  </tbody>\n",
       "</table>\n",
       "</div>"
      ],
      "text/plain": [
       "  group        date  count\n",
       "0     A  2019-08-07     -1\n",
       "1     B  2019-08-01     -1\n",
       "2     A  2019-08-12     -1\n",
       "3     A  2019-08-15     -1\n",
       "4     A  2019-08-22     -1"
      ]
     },
     "execution_count": 16,
     "metadata": {},
     "output_type": "execute_result"
    }
   ],
   "source": [
    "# Фильтр заказов по мультиюзерам\n",
    "all_orders_by_multiusers = orders_original.query('group_ncount > 1')\n",
    "# Группировка мультигрупповых покупателей\n",
    "multi_users_grouped = all_orders_by_multiusers.groupby(\n",
    "    ['visitorid', 'group', 'date']).agg({'transactionid': 'nunique'}).reset_index()\n",
    "# Добавление технического столбца со значением -1 для строк с группой и датой мультипокупателей\n",
    "multi_users_grouped['count'] = -1\n",
    "multi_users_grouped = multi_users_grouped[['group', 'date', 'count']]\n",
    "multi_users_grouped.head()"
   ]
  },
  {
   "cell_type": "code",
   "execution_count": 17,
   "metadata": {},
   "outputs": [
    {
     "data": {
      "text/html": [
       "<div>\n",
       "<style scoped>\n",
       "    .dataframe tbody tr th:only-of-type {\n",
       "        vertical-align: middle;\n",
       "    }\n",
       "\n",
       "    .dataframe tbody tr th {\n",
       "        vertical-align: top;\n",
       "    }\n",
       "\n",
       "    .dataframe thead th {\n",
       "        text-align: right;\n",
       "    }\n",
       "</style>\n",
       "<table border=\"1\" class=\"dataframe\">\n",
       "  <thead>\n",
       "    <tr style=\"text-align: right;\">\n",
       "      <th></th>\n",
       "      <th>date</th>\n",
       "      <th>group</th>\n",
       "      <th>visitors</th>\n",
       "      <th>count</th>\n",
       "    </tr>\n",
       "  </thead>\n",
       "  <tbody>\n",
       "    <tr>\n",
       "      <td>0</td>\n",
       "      <td>2019-08-01</td>\n",
       "      <td>A</td>\n",
       "      <td>719</td>\n",
       "      <td>-1.00</td>\n",
       "    </tr>\n",
       "    <tr>\n",
       "      <td>1</td>\n",
       "      <td>2019-08-02</td>\n",
       "      <td>A</td>\n",
       "      <td>619</td>\n",
       "      <td>-1.00</td>\n",
       "    </tr>\n",
       "    <tr>\n",
       "      <td>2</td>\n",
       "      <td>2019-08-03</td>\n",
       "      <td>A</td>\n",
       "      <td>507</td>\n",
       "      <td>0.00</td>\n",
       "    </tr>\n",
       "    <tr>\n",
       "      <td>3</td>\n",
       "      <td>2019-08-04</td>\n",
       "      <td>A</td>\n",
       "      <td>717</td>\n",
       "      <td>-1.00</td>\n",
       "    </tr>\n",
       "    <tr>\n",
       "      <td>4</td>\n",
       "      <td>2019-08-04</td>\n",
       "      <td>A</td>\n",
       "      <td>717</td>\n",
       "      <td>-1.00</td>\n",
       "    </tr>\n",
       "  </tbody>\n",
       "</table>\n",
       "</div>"
      ],
      "text/plain": [
       "         date group  visitors  count\n",
       "0  2019-08-01     A       719  -1.00\n",
       "1  2019-08-02     A       619  -1.00\n",
       "2  2019-08-03     A       507   0.00\n",
       "3  2019-08-04     A       717  -1.00\n",
       "4  2019-08-04     A       717  -1.00"
      ]
     },
     "execution_count": 17,
     "metadata": {},
     "output_type": "execute_result"
    }
   ],
   "source": [
    "# Объединение таблицы визитов с таблицей мультипокупателей отмаркированных -1, по дате и группе\n",
    "# значение 0 - для обычных визитровов одной из групп\n",
    "visitors_original = visitors.copy()\n",
    "visitors = visitors.merge(multi_users_grouped, on=['date', 'group'], how='left').fillna(0)\n",
    "visitors.head()"
   ]
  },
  {
   "cell_type": "code",
   "execution_count": 18,
   "metadata": {},
   "outputs": [
    {
     "data": {
      "text/html": [
       "<div>\n",
       "<style scoped>\n",
       "    .dataframe tbody tr th:only-of-type {\n",
       "        vertical-align: middle;\n",
       "    }\n",
       "\n",
       "    .dataframe tbody tr th {\n",
       "        vertical-align: top;\n",
       "    }\n",
       "\n",
       "    .dataframe thead th {\n",
       "        text-align: right;\n",
       "    }\n",
       "</style>\n",
       "<table border=\"1\" class=\"dataframe\">\n",
       "  <thead>\n",
       "    <tr style=\"text-align: right;\">\n",
       "      <th></th>\n",
       "      <th>date</th>\n",
       "      <th>group</th>\n",
       "      <th>visitors</th>\n",
       "      <th>count</th>\n",
       "      <th>non_multi_visitors</th>\n",
       "    </tr>\n",
       "  </thead>\n",
       "  <tbody>\n",
       "    <tr>\n",
       "      <td>0</td>\n",
       "      <td>2019-08-01</td>\n",
       "      <td>A</td>\n",
       "      <td>719</td>\n",
       "      <td>-1.00</td>\n",
       "      <td>718</td>\n",
       "    </tr>\n",
       "    <tr>\n",
       "      <td>1</td>\n",
       "      <td>2019-08-02</td>\n",
       "      <td>A</td>\n",
       "      <td>619</td>\n",
       "      <td>-1.00</td>\n",
       "      <td>618</td>\n",
       "    </tr>\n",
       "    <tr>\n",
       "      <td>2</td>\n",
       "      <td>2019-08-03</td>\n",
       "      <td>A</td>\n",
       "      <td>507</td>\n",
       "      <td>0.00</td>\n",
       "      <td>507</td>\n",
       "    </tr>\n",
       "  </tbody>\n",
       "</table>\n",
       "</div>"
      ],
      "text/plain": [
       "         date group  visitors  count  non_multi_visitors\n",
       "0  2019-08-01     A       719  -1.00                 718\n",
       "1  2019-08-02     A       619  -1.00                 618\n",
       "2  2019-08-03     A       507   0.00                 507"
      ]
     },
     "execution_count": 18,
     "metadata": {},
     "output_type": "execute_result"
    }
   ],
   "source": [
    "# Добавление столбца с визитерами где отминусованы мультивизитеры\n",
    "visitors['non_multi_visitors'] = visitors['visitors'] + visitors['count']\n",
    "visitors['non_multi_visitors'] = visitors['non_multi_visitors'].astype(int)\n",
    "visitors.head(3)"
   ]
  },
  {
   "cell_type": "code",
   "execution_count": 19,
   "metadata": {
    "scrolled": true
   },
   "outputs": [
    {
     "data": {
      "text/html": [
       "<div>\n",
       "<style scoped>\n",
       "    .dataframe tbody tr th:only-of-type {\n",
       "        vertical-align: middle;\n",
       "    }\n",
       "\n",
       "    .dataframe tbody tr th {\n",
       "        vertical-align: top;\n",
       "    }\n",
       "\n",
       "    .dataframe thead th {\n",
       "        text-align: right;\n",
       "    }\n",
       "</style>\n",
       "<table border=\"1\" class=\"dataframe\">\n",
       "  <thead>\n",
       "    <tr style=\"text-align: right;\">\n",
       "      <th></th>\n",
       "      <th>date</th>\n",
       "      <th>group</th>\n",
       "      <th>visitors</th>\n",
       "    </tr>\n",
       "  </thead>\n",
       "  <tbody>\n",
       "    <tr>\n",
       "      <td>0</td>\n",
       "      <td>2019-08-01</td>\n",
       "      <td>A</td>\n",
       "      <td>718</td>\n",
       "    </tr>\n",
       "    <tr>\n",
       "      <td>1</td>\n",
       "      <td>2019-08-02</td>\n",
       "      <td>A</td>\n",
       "      <td>618</td>\n",
       "    </tr>\n",
       "    <tr>\n",
       "      <td>2</td>\n",
       "      <td>2019-08-03</td>\n",
       "      <td>A</td>\n",
       "      <td>507</td>\n",
       "    </tr>\n",
       "    <tr>\n",
       "      <td>3</td>\n",
       "      <td>2019-08-04</td>\n",
       "      <td>A</td>\n",
       "      <td>716</td>\n",
       "    </tr>\n",
       "    <tr>\n",
       "      <td>4</td>\n",
       "      <td>2019-08-04</td>\n",
       "      <td>A</td>\n",
       "      <td>716</td>\n",
       "    </tr>\n",
       "  </tbody>\n",
       "</table>\n",
       "</div>"
      ],
      "text/plain": [
       "         date group  visitors\n",
       "0  2019-08-01     A       718\n",
       "1  2019-08-02     A       618\n",
       "2  2019-08-03     A       507\n",
       "3  2019-08-04     A       716\n",
       "4  2019-08-04     A       716"
      ]
     },
     "execution_count": 19,
     "metadata": {},
     "output_type": "execute_result"
    }
   ],
   "source": [
    "# Приведенеие отфильтрованной таблицы с визитами в изначальный вид\n",
    "visitors = visitors.drop(['visitors', 'count'], axis=1)\n",
    "visitors.columns = ['date', 'group', 'visitors']\n",
    "visitors.head()"
   ]
  },
  {
   "cell_type": "markdown",
   "metadata": {},
   "source": [
    "**Из количества посетителей по каждому дню удалены посетители  покупавшие в обоих группах в соответствии с датами заказов**"
   ]
  },
  {
   "cell_type": "markdown",
   "metadata": {},
   "source": [
    "**В результате предобработки:**\n",
    "\n",
    "<br>**проверен диапазон дат таблиц заказов и посетителей, диапазон - с 1 по 31 августа 2019 г\n",
    "<br>изменен тип данных столбца date на тип данных дата\n",
    "<br>таблица заказов проверена на наличие покупателей оказавшихся в обоих группах\n",
    "<br>таблицы с заказами и визитами очищены от покупателей оказавшихся в обоих группах**"
   ]
  },
  {
   "cell_type": "markdown",
   "metadata": {},
   "source": [
    "## Приоритизация гипотез"
   ]
  },
  {
   "cell_type": "markdown",
   "metadata": {},
   "source": [
    "### Фреймворк ICE "
   ]
  },
  {
   "cell_type": "code",
   "execution_count": 20,
   "metadata": {},
   "outputs": [
    {
     "data": {
      "text/html": [
       "<style  type=\"text/css\" >\n",
       "    #T_8159812e_da1c_11eb_a7cf_02420a3918b8row0_col1 {\n",
       "            background-color:  #82a6fb;\n",
       "            color:  #000000;\n",
       "        }    #T_8159812e_da1c_11eb_a7cf_02420a3918b8row0_col2 {\n",
       "            background-color:  #b40426;\n",
       "            color:  #f1f1f1;\n",
       "        }    #T_8159812e_da1c_11eb_a7cf_02420a3918b8row0_col3 {\n",
       "            background-color:  #dd5f4b;\n",
       "            color:  #000000;\n",
       "        }    #T_8159812e_da1c_11eb_a7cf_02420a3918b8row0_col4 {\n",
       "            background-color:  #ead4c8;\n",
       "            color:  #000000;\n",
       "        }    #T_8159812e_da1c_11eb_a7cf_02420a3918b8row1_col1 {\n",
       "            background-color:  #5d7ce6;\n",
       "            color:  #000000;\n",
       "        }    #T_8159812e_da1c_11eb_a7cf_02420a3918b8row1_col2 {\n",
       "            background-color:  #cdd9ec;\n",
       "            color:  #000000;\n",
       "        }    #T_8159812e_da1c_11eb_a7cf_02420a3918b8row1_col3 {\n",
       "            background-color:  #b9d0f9;\n",
       "            color:  #000000;\n",
       "        }    #T_8159812e_da1c_11eb_a7cf_02420a3918b8row1_col4 {\n",
       "            background-color:  #b40426;\n",
       "            color:  #f1f1f1;\n",
       "        }    #T_8159812e_da1c_11eb_a7cf_02420a3918b8row2_col1 {\n",
       "            background-color:  #f18d6f;\n",
       "            color:  #000000;\n",
       "        }    #T_8159812e_da1c_11eb_a7cf_02420a3918b8row2_col2 {\n",
       "            background-color:  #82a6fb;\n",
       "            color:  #000000;\n",
       "        }    #T_8159812e_da1c_11eb_a7cf_02420a3918b8row2_col3 {\n",
       "            background-color:  #f4987a;\n",
       "            color:  #000000;\n",
       "        }    #T_8159812e_da1c_11eb_a7cf_02420a3918b8row2_col4 {\n",
       "            background-color:  #82a6fb;\n",
       "            color:  #000000;\n",
       "        }    #T_8159812e_da1c_11eb_a7cf_02420a3918b8row3_col1 {\n",
       "            background-color:  #f18d6f;\n",
       "            color:  #000000;\n",
       "        }    #T_8159812e_da1c_11eb_a7cf_02420a3918b8row3_col2 {\n",
       "            background-color:  #82a6fb;\n",
       "            color:  #000000;\n",
       "        }    #T_8159812e_da1c_11eb_a7cf_02420a3918b8row3_col3 {\n",
       "            background-color:  #8db0fe;\n",
       "            color:  #000000;\n",
       "        }    #T_8159812e_da1c_11eb_a7cf_02420a3918b8row3_col4 {\n",
       "            background-color:  #f18d6f;\n",
       "            color:  #000000;\n",
       "        }    #T_8159812e_da1c_11eb_a7cf_02420a3918b8row4_col1 {\n",
       "            background-color:  #82a6fb;\n",
       "            color:  #000000;\n",
       "        }    #T_8159812e_da1c_11eb_a7cf_02420a3918b8row4_col2 {\n",
       "            background-color:  #3b4cc0;\n",
       "            color:  #f1f1f1;\n",
       "        }    #T_8159812e_da1c_11eb_a7cf_02420a3918b8row4_col3 {\n",
       "            background-color:  #3b4cc0;\n",
       "            color:  #f1f1f1;\n",
       "        }    #T_8159812e_da1c_11eb_a7cf_02420a3918b8row4_col4 {\n",
       "            background-color:  #3b4cc0;\n",
       "            color:  #f1f1f1;\n",
       "        }    #T_8159812e_da1c_11eb_a7cf_02420a3918b8row5_col1 {\n",
       "            background-color:  #82a6fb;\n",
       "            color:  #000000;\n",
       "        }    #T_8159812e_da1c_11eb_a7cf_02420a3918b8row5_col2 {\n",
       "            background-color:  #5d7ce6;\n",
       "            color:  #000000;\n",
       "        }    #T_8159812e_da1c_11eb_a7cf_02420a3918b8row5_col3 {\n",
       "            background-color:  #6282ea;\n",
       "            color:  #000000;\n",
       "        }    #T_8159812e_da1c_11eb_a7cf_02420a3918b8row5_col4 {\n",
       "            background-color:  #82a6fb;\n",
       "            color:  #000000;\n",
       "        }    #T_8159812e_da1c_11eb_a7cf_02420a3918b8row6_col1 {\n",
       "            background-color:  #cdd9ec;\n",
       "            color:  #000000;\n",
       "        }    #T_8159812e_da1c_11eb_a7cf_02420a3918b8row6_col2 {\n",
       "            background-color:  #82a6fb;\n",
       "            color:  #000000;\n",
       "        }    #T_8159812e_da1c_11eb_a7cf_02420a3918b8row6_col3 {\n",
       "            background-color:  #dd5f4b;\n",
       "            color:  #000000;\n",
       "        }    #T_8159812e_da1c_11eb_a7cf_02420a3918b8row6_col4 {\n",
       "            background-color:  #82a6fb;\n",
       "            color:  #000000;\n",
       "        }    #T_8159812e_da1c_11eb_a7cf_02420a3918b8row7_col1 {\n",
       "            background-color:  #b40426;\n",
       "            color:  #f1f1f1;\n",
       "        }    #T_8159812e_da1c_11eb_a7cf_02420a3918b8row7_col2 {\n",
       "            background-color:  #f7b89c;\n",
       "            color:  #000000;\n",
       "        }    #T_8159812e_da1c_11eb_a7cf_02420a3918b8row7_col3 {\n",
       "            background-color:  #dd5f4b;\n",
       "            color:  #000000;\n",
       "        }    #T_8159812e_da1c_11eb_a7cf_02420a3918b8row7_col4 {\n",
       "            background-color:  #cdd9ec;\n",
       "            color:  #000000;\n",
       "        }    #T_8159812e_da1c_11eb_a7cf_02420a3918b8row8_col1 {\n",
       "            background-color:  #3b4cc0;\n",
       "            color:  #f1f1f1;\n",
       "        }    #T_8159812e_da1c_11eb_a7cf_02420a3918b8row8_col2 {\n",
       "            background-color:  #d95847;\n",
       "            color:  #000000;\n",
       "        }    #T_8159812e_da1c_11eb_a7cf_02420a3918b8row8_col3 {\n",
       "            background-color:  #b40426;\n",
       "            color:  #f1f1f1;\n",
       "        }    #T_8159812e_da1c_11eb_a7cf_02420a3918b8row8_col4 {\n",
       "            background-color:  #cdd9ec;\n",
       "            color:  #000000;\n",
       "        }</style><table id=\"T_8159812e_da1c_11eb_a7cf_02420a3918b8\" ><thead>    <tr>        <th class=\"blank level0\" ></th>        <th class=\"col_heading level0 col0\" >hypothesis</th>        <th class=\"col_heading level0 col1\" >reach</th>        <th class=\"col_heading level0 col2\" >impact</th>        <th class=\"col_heading level0 col3\" >confidence</th>        <th class=\"col_heading level0 col4\" >efforts</th>    </tr></thead><tbody>\n",
       "                <tr>\n",
       "                        <th id=\"T_8159812e_da1c_11eb_a7cf_02420a3918b8level0_row0\" class=\"row_heading level0 row0\" >0</th>\n",
       "                        <td id=\"T_8159812e_da1c_11eb_a7cf_02420a3918b8row0_col0\" class=\"data row0 col0\" >Добавить два новых канала привлечения трафика, что позволит привлекать на 30% больше пользователей</td>\n",
       "                        <td id=\"T_8159812e_da1c_11eb_a7cf_02420a3918b8row0_col1\" class=\"data row0 col1\" >3</td>\n",
       "                        <td id=\"T_8159812e_da1c_11eb_a7cf_02420a3918b8row0_col2\" class=\"data row0 col2\" >10</td>\n",
       "                        <td id=\"T_8159812e_da1c_11eb_a7cf_02420a3918b8row0_col3\" class=\"data row0 col3\" >8</td>\n",
       "                        <td id=\"T_8159812e_da1c_11eb_a7cf_02420a3918b8row0_col4\" class=\"data row0 col4\" >6</td>\n",
       "            </tr>\n",
       "            <tr>\n",
       "                        <th id=\"T_8159812e_da1c_11eb_a7cf_02420a3918b8level0_row1\" class=\"row_heading level0 row1\" >1</th>\n",
       "                        <td id=\"T_8159812e_da1c_11eb_a7cf_02420a3918b8row1_col0\" class=\"data row1 col0\" >Запустить собственную службу доставки, что сократит срок доставки заказов</td>\n",
       "                        <td id=\"T_8159812e_da1c_11eb_a7cf_02420a3918b8row1_col1\" class=\"data row1 col1\" >2</td>\n",
       "                        <td id=\"T_8159812e_da1c_11eb_a7cf_02420a3918b8row1_col2\" class=\"data row1 col2\" >5</td>\n",
       "                        <td id=\"T_8159812e_da1c_11eb_a7cf_02420a3918b8row1_col3\" class=\"data row1 col3\" >4</td>\n",
       "                        <td id=\"T_8159812e_da1c_11eb_a7cf_02420a3918b8row1_col4\" class=\"data row1 col4\" >10</td>\n",
       "            </tr>\n",
       "            <tr>\n",
       "                        <th id=\"T_8159812e_da1c_11eb_a7cf_02420a3918b8level0_row2\" class=\"row_heading level0 row2\" >2</th>\n",
       "                        <td id=\"T_8159812e_da1c_11eb_a7cf_02420a3918b8row2_col0\" class=\"data row2 col0\" >Добавить блоки рекомендаций товаров на сайт интернет магазина, чтобы повысить конверсию и средний чек заказа</td>\n",
       "                        <td id=\"T_8159812e_da1c_11eb_a7cf_02420a3918b8row2_col1\" class=\"data row2 col1\" >8</td>\n",
       "                        <td id=\"T_8159812e_da1c_11eb_a7cf_02420a3918b8row2_col2\" class=\"data row2 col2\" >3</td>\n",
       "                        <td id=\"T_8159812e_da1c_11eb_a7cf_02420a3918b8row2_col3\" class=\"data row2 col3\" >7</td>\n",
       "                        <td id=\"T_8159812e_da1c_11eb_a7cf_02420a3918b8row2_col4\" class=\"data row2 col4\" >3</td>\n",
       "            </tr>\n",
       "            <tr>\n",
       "                        <th id=\"T_8159812e_da1c_11eb_a7cf_02420a3918b8level0_row3\" class=\"row_heading level0 row3\" >3</th>\n",
       "                        <td id=\"T_8159812e_da1c_11eb_a7cf_02420a3918b8row3_col0\" class=\"data row3 col0\" >Изменить структура категорий, что увеличит конверсию, т.к. пользователи быстрее найдут нужный товар</td>\n",
       "                        <td id=\"T_8159812e_da1c_11eb_a7cf_02420a3918b8row3_col1\" class=\"data row3 col1\" >8</td>\n",
       "                        <td id=\"T_8159812e_da1c_11eb_a7cf_02420a3918b8row3_col2\" class=\"data row3 col2\" >3</td>\n",
       "                        <td id=\"T_8159812e_da1c_11eb_a7cf_02420a3918b8row3_col3\" class=\"data row3 col3\" >3</td>\n",
       "                        <td id=\"T_8159812e_da1c_11eb_a7cf_02420a3918b8row3_col4\" class=\"data row3 col4\" >8</td>\n",
       "            </tr>\n",
       "            <tr>\n",
       "                        <th id=\"T_8159812e_da1c_11eb_a7cf_02420a3918b8level0_row4\" class=\"row_heading level0 row4\" >4</th>\n",
       "                        <td id=\"T_8159812e_da1c_11eb_a7cf_02420a3918b8row4_col0\" class=\"data row4 col0\" >Изменить цвет фона главной страницы, чтобы увеличить вовлеченность пользователей</td>\n",
       "                        <td id=\"T_8159812e_da1c_11eb_a7cf_02420a3918b8row4_col1\" class=\"data row4 col1\" >3</td>\n",
       "                        <td id=\"T_8159812e_da1c_11eb_a7cf_02420a3918b8row4_col2\" class=\"data row4 col2\" >1</td>\n",
       "                        <td id=\"T_8159812e_da1c_11eb_a7cf_02420a3918b8row4_col3\" class=\"data row4 col3\" >1</td>\n",
       "                        <td id=\"T_8159812e_da1c_11eb_a7cf_02420a3918b8row4_col4\" class=\"data row4 col4\" >1</td>\n",
       "            </tr>\n",
       "            <tr>\n",
       "                        <th id=\"T_8159812e_da1c_11eb_a7cf_02420a3918b8level0_row5\" class=\"row_heading level0 row5\" >5</th>\n",
       "                        <td id=\"T_8159812e_da1c_11eb_a7cf_02420a3918b8row5_col0\" class=\"data row5 col0\" >Добавить страницу отзывов клиентов о магазине, что позволит увеличить количество заказов</td>\n",
       "                        <td id=\"T_8159812e_da1c_11eb_a7cf_02420a3918b8row5_col1\" class=\"data row5 col1\" >3</td>\n",
       "                        <td id=\"T_8159812e_da1c_11eb_a7cf_02420a3918b8row5_col2\" class=\"data row5 col2\" >2</td>\n",
       "                        <td id=\"T_8159812e_da1c_11eb_a7cf_02420a3918b8row5_col3\" class=\"data row5 col3\" >2</td>\n",
       "                        <td id=\"T_8159812e_da1c_11eb_a7cf_02420a3918b8row5_col4\" class=\"data row5 col4\" >3</td>\n",
       "            </tr>\n",
       "            <tr>\n",
       "                        <th id=\"T_8159812e_da1c_11eb_a7cf_02420a3918b8level0_row6\" class=\"row_heading level0 row6\" >6</th>\n",
       "                        <td id=\"T_8159812e_da1c_11eb_a7cf_02420a3918b8row6_col0\" class=\"data row6 col0\" >Показать на главной странице баннеры с актуальными акциями и распродажами, чтобы увеличить конверсию</td>\n",
       "                        <td id=\"T_8159812e_da1c_11eb_a7cf_02420a3918b8row6_col1\" class=\"data row6 col1\" >5</td>\n",
       "                        <td id=\"T_8159812e_da1c_11eb_a7cf_02420a3918b8row6_col2\" class=\"data row6 col2\" >3</td>\n",
       "                        <td id=\"T_8159812e_da1c_11eb_a7cf_02420a3918b8row6_col3\" class=\"data row6 col3\" >8</td>\n",
       "                        <td id=\"T_8159812e_da1c_11eb_a7cf_02420a3918b8row6_col4\" class=\"data row6 col4\" >3</td>\n",
       "            </tr>\n",
       "            <tr>\n",
       "                        <th id=\"T_8159812e_da1c_11eb_a7cf_02420a3918b8level0_row7\" class=\"row_heading level0 row7\" >7</th>\n",
       "                        <td id=\"T_8159812e_da1c_11eb_a7cf_02420a3918b8row7_col0\" class=\"data row7 col0\" >Добавить форму подписки на все основные страницы, чтобы собрать базу клиентов для email-рассылок</td>\n",
       "                        <td id=\"T_8159812e_da1c_11eb_a7cf_02420a3918b8row7_col1\" class=\"data row7 col1\" >10</td>\n",
       "                        <td id=\"T_8159812e_da1c_11eb_a7cf_02420a3918b8row7_col2\" class=\"data row7 col2\" >7</td>\n",
       "                        <td id=\"T_8159812e_da1c_11eb_a7cf_02420a3918b8row7_col3\" class=\"data row7 col3\" >8</td>\n",
       "                        <td id=\"T_8159812e_da1c_11eb_a7cf_02420a3918b8row7_col4\" class=\"data row7 col4\" >5</td>\n",
       "            </tr>\n",
       "            <tr>\n",
       "                        <th id=\"T_8159812e_da1c_11eb_a7cf_02420a3918b8level0_row8\" class=\"row_heading level0 row8\" >8</th>\n",
       "                        <td id=\"T_8159812e_da1c_11eb_a7cf_02420a3918b8row8_col0\" class=\"data row8 col0\" >Запустить акцию, дающую скидку на товар в день рождения</td>\n",
       "                        <td id=\"T_8159812e_da1c_11eb_a7cf_02420a3918b8row8_col1\" class=\"data row8 col1\" >1</td>\n",
       "                        <td id=\"T_8159812e_da1c_11eb_a7cf_02420a3918b8row8_col2\" class=\"data row8 col2\" >9</td>\n",
       "                        <td id=\"T_8159812e_da1c_11eb_a7cf_02420a3918b8row8_col3\" class=\"data row8 col3\" >9</td>\n",
       "                        <td id=\"T_8159812e_da1c_11eb_a7cf_02420a3918b8row8_col4\" class=\"data row8 col4\" >5</td>\n",
       "            </tr>\n",
       "    </tbody></table>"
      ],
      "text/plain": [
       "<pandas.io.formats.style.Styler at 0x7f03b8621650>"
      ]
     },
     "execution_count": 20,
     "metadata": {},
     "output_type": "execute_result"
    }
   ],
   "source": [
    "# Просмотр файла с гипотезами\n",
    "hyps.columns = map(str.lower, hyps.columns)\n",
    "hyps.style.background_gradient(cmap=\"coolwarm\")"
   ]
  },
  {
   "cell_type": "code",
   "execution_count": 21,
   "metadata": {},
   "outputs": [],
   "source": [
    "# Расчет ICE\n",
    "hyps['ice'] = hyps['impact'] * hyps['confidence'] / hyps['efforts']"
   ]
  },
  {
   "cell_type": "code",
   "execution_count": 22,
   "metadata": {
    "scrolled": true
   },
   "outputs": [
    {
     "data": {
      "text/html": [
       "<style  type=\"text/css\" >\n",
       "    #T_81640f68_da1c_11eb_a7cf_02420a3918b8row0_col5 {\n",
       "            background-color:  #b40426;\n",
       "            color:  #f1f1f1;\n",
       "        }    #T_81640f68_da1c_11eb_a7cf_02420a3918b8row1_col5 {\n",
       "            background-color:  #ee8468;\n",
       "            color:  #000000;\n",
       "        }    #T_81640f68_da1c_11eb_a7cf_02420a3918b8row2_col5 {\n",
       "            background-color:  #f7b89c;\n",
       "            color:  #000000;\n",
       "        }    #T_81640f68_da1c_11eb_a7cf_02420a3918b8row3_col5 {\n",
       "            background-color:  #d4dbe6;\n",
       "            color:  #000000;\n",
       "        }    #T_81640f68_da1c_11eb_a7cf_02420a3918b8row4_col5 {\n",
       "            background-color:  #c0d4f5;\n",
       "            color:  #000000;\n",
       "        }    #T_81640f68_da1c_11eb_a7cf_02420a3918b8row5_col5 {\n",
       "            background-color:  #4f69d9;\n",
       "            color:  #000000;\n",
       "        }    #T_81640f68_da1c_11eb_a7cf_02420a3918b8row6_col5 {\n",
       "            background-color:  #3b4cc0;\n",
       "            color:  #f1f1f1;\n",
       "        }    #T_81640f68_da1c_11eb_a7cf_02420a3918b8row7_col5 {\n",
       "            background-color:  #3b4cc0;\n",
       "            color:  #f1f1f1;\n",
       "        }    #T_81640f68_da1c_11eb_a7cf_02420a3918b8row8_col5 {\n",
       "            background-color:  #3b4cc0;\n",
       "            color:  #f1f1f1;\n",
       "        }</style><table id=\"T_81640f68_da1c_11eb_a7cf_02420a3918b8\" ><thead>    <tr>        <th class=\"blank level0\" ></th>        <th class=\"col_heading level0 col0\" >hypothesis</th>        <th class=\"col_heading level0 col1\" >reach</th>        <th class=\"col_heading level0 col2\" >impact</th>        <th class=\"col_heading level0 col3\" >confidence</th>        <th class=\"col_heading level0 col4\" >efforts</th>        <th class=\"col_heading level0 col5\" >ice</th>    </tr></thead><tbody>\n",
       "                <tr>\n",
       "                        <th id=\"T_81640f68_da1c_11eb_a7cf_02420a3918b8level0_row0\" class=\"row_heading level0 row0\" >8</th>\n",
       "                        <td id=\"T_81640f68_da1c_11eb_a7cf_02420a3918b8row0_col0\" class=\"data row0 col0\" >Запустить акцию, дающую скидку на товар в день рождения</td>\n",
       "                        <td id=\"T_81640f68_da1c_11eb_a7cf_02420a3918b8row0_col1\" class=\"data row0 col1\" >1</td>\n",
       "                        <td id=\"T_81640f68_da1c_11eb_a7cf_02420a3918b8row0_col2\" class=\"data row0 col2\" >9</td>\n",
       "                        <td id=\"T_81640f68_da1c_11eb_a7cf_02420a3918b8row0_col3\" class=\"data row0 col3\" >9</td>\n",
       "                        <td id=\"T_81640f68_da1c_11eb_a7cf_02420a3918b8row0_col4\" class=\"data row0 col4\" >5</td>\n",
       "                        <td id=\"T_81640f68_da1c_11eb_a7cf_02420a3918b8row0_col5\" class=\"data row0 col5\" >16</td>\n",
       "            </tr>\n",
       "            <tr>\n",
       "                        <th id=\"T_81640f68_da1c_11eb_a7cf_02420a3918b8level0_row1\" class=\"row_heading level0 row1\" >0</th>\n",
       "                        <td id=\"T_81640f68_da1c_11eb_a7cf_02420a3918b8row1_col0\" class=\"data row1 col0\" >Добавить два новых канала привлечения трафика, что позволит привлекать на 30% больше пользователей</td>\n",
       "                        <td id=\"T_81640f68_da1c_11eb_a7cf_02420a3918b8row1_col1\" class=\"data row1 col1\" >3</td>\n",
       "                        <td id=\"T_81640f68_da1c_11eb_a7cf_02420a3918b8row1_col2\" class=\"data row1 col2\" >10</td>\n",
       "                        <td id=\"T_81640f68_da1c_11eb_a7cf_02420a3918b8row1_col3\" class=\"data row1 col3\" >8</td>\n",
       "                        <td id=\"T_81640f68_da1c_11eb_a7cf_02420a3918b8row1_col4\" class=\"data row1 col4\" >6</td>\n",
       "                        <td id=\"T_81640f68_da1c_11eb_a7cf_02420a3918b8row1_col5\" class=\"data row1 col5\" >13</td>\n",
       "            </tr>\n",
       "            <tr>\n",
       "                        <th id=\"T_81640f68_da1c_11eb_a7cf_02420a3918b8level0_row2\" class=\"row_heading level0 row2\" >7</th>\n",
       "                        <td id=\"T_81640f68_da1c_11eb_a7cf_02420a3918b8row2_col0\" class=\"data row2 col0\" >Добавить форму подписки на все основные страницы, чтобы собрать базу клиентов для email-рассылок</td>\n",
       "                        <td id=\"T_81640f68_da1c_11eb_a7cf_02420a3918b8row2_col1\" class=\"data row2 col1\" >10</td>\n",
       "                        <td id=\"T_81640f68_da1c_11eb_a7cf_02420a3918b8row2_col2\" class=\"data row2 col2\" >7</td>\n",
       "                        <td id=\"T_81640f68_da1c_11eb_a7cf_02420a3918b8row2_col3\" class=\"data row2 col3\" >8</td>\n",
       "                        <td id=\"T_81640f68_da1c_11eb_a7cf_02420a3918b8row2_col4\" class=\"data row2 col4\" >5</td>\n",
       "                        <td id=\"T_81640f68_da1c_11eb_a7cf_02420a3918b8row2_col5\" class=\"data row2 col5\" >11</td>\n",
       "            </tr>\n",
       "            <tr>\n",
       "                        <th id=\"T_81640f68_da1c_11eb_a7cf_02420a3918b8level0_row3\" class=\"row_heading level0 row3\" >6</th>\n",
       "                        <td id=\"T_81640f68_da1c_11eb_a7cf_02420a3918b8row3_col0\" class=\"data row3 col0\" >Показать на главной странице баннеры с актуальными акциями и распродажами, чтобы увеличить конверсию</td>\n",
       "                        <td id=\"T_81640f68_da1c_11eb_a7cf_02420a3918b8row3_col1\" class=\"data row3 col1\" >5</td>\n",
       "                        <td id=\"T_81640f68_da1c_11eb_a7cf_02420a3918b8row3_col2\" class=\"data row3 col2\" >3</td>\n",
       "                        <td id=\"T_81640f68_da1c_11eb_a7cf_02420a3918b8row3_col3\" class=\"data row3 col3\" >8</td>\n",
       "                        <td id=\"T_81640f68_da1c_11eb_a7cf_02420a3918b8row3_col4\" class=\"data row3 col4\" >3</td>\n",
       "                        <td id=\"T_81640f68_da1c_11eb_a7cf_02420a3918b8row3_col5\" class=\"data row3 col5\" >8</td>\n",
       "            </tr>\n",
       "            <tr>\n",
       "                        <th id=\"T_81640f68_da1c_11eb_a7cf_02420a3918b8level0_row4\" class=\"row_heading level0 row4\" >2</th>\n",
       "                        <td id=\"T_81640f68_da1c_11eb_a7cf_02420a3918b8row4_col0\" class=\"data row4 col0\" >Добавить блоки рекомендаций товаров на сайт интернет магазина, чтобы повысить конверсию и средний чек заказа</td>\n",
       "                        <td id=\"T_81640f68_da1c_11eb_a7cf_02420a3918b8row4_col1\" class=\"data row4 col1\" >8</td>\n",
       "                        <td id=\"T_81640f68_da1c_11eb_a7cf_02420a3918b8row4_col2\" class=\"data row4 col2\" >3</td>\n",
       "                        <td id=\"T_81640f68_da1c_11eb_a7cf_02420a3918b8row4_col3\" class=\"data row4 col3\" >7</td>\n",
       "                        <td id=\"T_81640f68_da1c_11eb_a7cf_02420a3918b8row4_col4\" class=\"data row4 col4\" >3</td>\n",
       "                        <td id=\"T_81640f68_da1c_11eb_a7cf_02420a3918b8row4_col5\" class=\"data row4 col5\" >7</td>\n",
       "            </tr>\n",
       "            <tr>\n",
       "                        <th id=\"T_81640f68_da1c_11eb_a7cf_02420a3918b8level0_row5\" class=\"row_heading level0 row5\" >1</th>\n",
       "                        <td id=\"T_81640f68_da1c_11eb_a7cf_02420a3918b8row5_col0\" class=\"data row5 col0\" >Запустить собственную службу доставки, что сократит срок доставки заказов</td>\n",
       "                        <td id=\"T_81640f68_da1c_11eb_a7cf_02420a3918b8row5_col1\" class=\"data row5 col1\" >2</td>\n",
       "                        <td id=\"T_81640f68_da1c_11eb_a7cf_02420a3918b8row5_col2\" class=\"data row5 col2\" >5</td>\n",
       "                        <td id=\"T_81640f68_da1c_11eb_a7cf_02420a3918b8row5_col3\" class=\"data row5 col3\" >4</td>\n",
       "                        <td id=\"T_81640f68_da1c_11eb_a7cf_02420a3918b8row5_col4\" class=\"data row5 col4\" >10</td>\n",
       "                        <td id=\"T_81640f68_da1c_11eb_a7cf_02420a3918b8row5_col5\" class=\"data row5 col5\" >2</td>\n",
       "            </tr>\n",
       "            <tr>\n",
       "                        <th id=\"T_81640f68_da1c_11eb_a7cf_02420a3918b8level0_row6\" class=\"row_heading level0 row6\" >3</th>\n",
       "                        <td id=\"T_81640f68_da1c_11eb_a7cf_02420a3918b8row6_col0\" class=\"data row6 col0\" >Изменить структура категорий, что увеличит конверсию, т.к. пользователи быстрее найдут нужный товар</td>\n",
       "                        <td id=\"T_81640f68_da1c_11eb_a7cf_02420a3918b8row6_col1\" class=\"data row6 col1\" >8</td>\n",
       "                        <td id=\"T_81640f68_da1c_11eb_a7cf_02420a3918b8row6_col2\" class=\"data row6 col2\" >3</td>\n",
       "                        <td id=\"T_81640f68_da1c_11eb_a7cf_02420a3918b8row6_col3\" class=\"data row6 col3\" >3</td>\n",
       "                        <td id=\"T_81640f68_da1c_11eb_a7cf_02420a3918b8row6_col4\" class=\"data row6 col4\" >8</td>\n",
       "                        <td id=\"T_81640f68_da1c_11eb_a7cf_02420a3918b8row6_col5\" class=\"data row6 col5\" >1</td>\n",
       "            </tr>\n",
       "            <tr>\n",
       "                        <th id=\"T_81640f68_da1c_11eb_a7cf_02420a3918b8level0_row7\" class=\"row_heading level0 row7\" >4</th>\n",
       "                        <td id=\"T_81640f68_da1c_11eb_a7cf_02420a3918b8row7_col0\" class=\"data row7 col0\" >Изменить цвет фона главной страницы, чтобы увеличить вовлеченность пользователей</td>\n",
       "                        <td id=\"T_81640f68_da1c_11eb_a7cf_02420a3918b8row7_col1\" class=\"data row7 col1\" >3</td>\n",
       "                        <td id=\"T_81640f68_da1c_11eb_a7cf_02420a3918b8row7_col2\" class=\"data row7 col2\" >1</td>\n",
       "                        <td id=\"T_81640f68_da1c_11eb_a7cf_02420a3918b8row7_col3\" class=\"data row7 col3\" >1</td>\n",
       "                        <td id=\"T_81640f68_da1c_11eb_a7cf_02420a3918b8row7_col4\" class=\"data row7 col4\" >1</td>\n",
       "                        <td id=\"T_81640f68_da1c_11eb_a7cf_02420a3918b8row7_col5\" class=\"data row7 col5\" >1</td>\n",
       "            </tr>\n",
       "            <tr>\n",
       "                        <th id=\"T_81640f68_da1c_11eb_a7cf_02420a3918b8level0_row8\" class=\"row_heading level0 row8\" >5</th>\n",
       "                        <td id=\"T_81640f68_da1c_11eb_a7cf_02420a3918b8row8_col0\" class=\"data row8 col0\" >Добавить страницу отзывов клиентов о магазине, что позволит увеличить количество заказов</td>\n",
       "                        <td id=\"T_81640f68_da1c_11eb_a7cf_02420a3918b8row8_col1\" class=\"data row8 col1\" >3</td>\n",
       "                        <td id=\"T_81640f68_da1c_11eb_a7cf_02420a3918b8row8_col2\" class=\"data row8 col2\" >2</td>\n",
       "                        <td id=\"T_81640f68_da1c_11eb_a7cf_02420a3918b8row8_col3\" class=\"data row8 col3\" >2</td>\n",
       "                        <td id=\"T_81640f68_da1c_11eb_a7cf_02420a3918b8row8_col4\" class=\"data row8 col4\" >3</td>\n",
       "                        <td id=\"T_81640f68_da1c_11eb_a7cf_02420a3918b8row8_col5\" class=\"data row8 col5\" >1</td>\n",
       "            </tr>\n",
       "    </tbody></table>"
      ],
      "text/plain": [
       "<pandas.io.formats.style.Styler at 0x7f03b824a590>"
      ]
     },
     "execution_count": 22,
     "metadata": {},
     "output_type": "execute_result"
    }
   ],
   "source": [
    "# Итоговая таблица\n",
    "hyps = hyps.round().sort_values(by='ice', ascending=False)\n",
    "hyps.style.background_gradient(cmap=\"coolwarm\", subset=['ice'])"
   ]
  },
  {
   "cell_type": "markdown",
   "metadata": {},
   "source": [
    "**Топ 3 по ICE:**\n",
    "<br>*акция по скидке в день рождения,\n",
    "<br>добавление двух каналов привлечения трафика,\n",
    "<br>добавление формы подписки на все основыне страницы*."
   ]
  },
  {
   "cell_type": "markdown",
   "metadata": {},
   "source": [
    "### Фреймворк RICE "
   ]
  },
  {
   "cell_type": "code",
   "execution_count": 23,
   "metadata": {},
   "outputs": [
    {
     "data": {
      "text/html": [
       "<style  type=\"text/css\" >\n",
       "    #T_81700160_da1c_11eb_a7cf_02420a3918b8row0_col1 {\n",
       "            background-color:  #000000;\n",
       "            color:  #f1f1f1;\n",
       "        }    #T_81700160_da1c_11eb_a7cf_02420a3918b8row0_col2 {\n",
       "            background-color:  #555555;\n",
       "            color:  #f1f1f1;\n",
       "        }    #T_81700160_da1c_11eb_a7cf_02420a3918b8row0_col3 {\n",
       "            background-color:  #1f1f1f;\n",
       "            color:  #f1f1f1;\n",
       "        }    #T_81700160_da1c_11eb_a7cf_02420a3918b8row0_col4 {\n",
       "            background-color:  #8e8e8e;\n",
       "            color:  #000000;\n",
       "        }    #T_81700160_da1c_11eb_a7cf_02420a3918b8row0_col5 {\n",
       "            background-color:  #f7b89c;\n",
       "            color:  #000000;\n",
       "        }    #T_81700160_da1c_11eb_a7cf_02420a3918b8row0_col6 {\n",
       "            background-color:  #b40426;\n",
       "            color:  #f1f1f1;\n",
       "        }    #T_81700160_da1c_11eb_a7cf_02420a3918b8row1_col1 {\n",
       "            background-color:  #383838;\n",
       "            color:  #f1f1f1;\n",
       "        }    #T_81700160_da1c_11eb_a7cf_02420a3918b8row1_col2 {\n",
       "            background-color:  #c7c7c7;\n",
       "            color:  #000000;\n",
       "        }    #T_81700160_da1c_11eb_a7cf_02420a3918b8row1_col3 {\n",
       "            background-color:  #3f3f3f;\n",
       "            color:  #f1f1f1;\n",
       "        }    #T_81700160_da1c_11eb_a7cf_02420a3918b8row1_col4 {\n",
       "            background-color:  #c7c7c7;\n",
       "            color:  #000000;\n",
       "        }    #T_81700160_da1c_11eb_a7cf_02420a3918b8row1_col5 {\n",
       "            background-color:  #c0d4f5;\n",
       "            color:  #000000;\n",
       "        }    #T_81700160_da1c_11eb_a7cf_02420a3918b8row1_col6 {\n",
       "            background-color:  #d9dce1;\n",
       "            color:  #000000;\n",
       "        }    #T_81700160_da1c_11eb_a7cf_02420a3918b8row2_col1 {\n",
       "            background-color:  #c7c7c7;\n",
       "            color:  #000000;\n",
       "        }    #T_81700160_da1c_11eb_a7cf_02420a3918b8row2_col2 {\n",
       "            background-color:  #000000;\n",
       "            color:  #f1f1f1;\n",
       "        }    #T_81700160_da1c_11eb_a7cf_02420a3918b8row2_col3 {\n",
       "            background-color:  #1f1f1f;\n",
       "            color:  #f1f1f1;\n",
       "        }    #T_81700160_da1c_11eb_a7cf_02420a3918b8row2_col4 {\n",
       "            background-color:  #717171;\n",
       "            color:  #000000;\n",
       "        }    #T_81700160_da1c_11eb_a7cf_02420a3918b8row2_col5 {\n",
       "            background-color:  #ee8468;\n",
       "            color:  #000000;\n",
       "        }    #T_81700160_da1c_11eb_a7cf_02420a3918b8row2_col6 {\n",
       "            background-color:  #abc8fd;\n",
       "            color:  #000000;\n",
       "        }    #T_81700160_da1c_11eb_a7cf_02420a3918b8row3_col1 {\n",
       "            background-color:  #8e8e8e;\n",
       "            color:  #000000;\n",
       "        }    #T_81700160_da1c_11eb_a7cf_02420a3918b8row3_col2 {\n",
       "            background-color:  #c7c7c7;\n",
       "            color:  #000000;\n",
       "        }    #T_81700160_da1c_11eb_a7cf_02420a3918b8row3_col3 {\n",
       "            background-color:  #1f1f1f;\n",
       "            color:  #f1f1f1;\n",
       "        }    #T_81700160_da1c_11eb_a7cf_02420a3918b8row3_col4 {\n",
       "            background-color:  #c7c7c7;\n",
       "            color:  #000000;\n",
       "        }    #T_81700160_da1c_11eb_a7cf_02420a3918b8row3_col5 {\n",
       "            background-color:  #d4dbe6;\n",
       "            color:  #000000;\n",
       "        }    #T_81700160_da1c_11eb_a7cf_02420a3918b8row3_col6 {\n",
       "            background-color:  #abc8fd;\n",
       "            color:  #000000;\n",
       "        }    #T_81700160_da1c_11eb_a7cf_02420a3918b8row4_col1 {\n",
       "            background-color:  #ffffff;\n",
       "            color:  #000000;\n",
       "        }    #T_81700160_da1c_11eb_a7cf_02420a3918b8row4_col2 {\n",
       "            background-color:  #1c1c1c;\n",
       "            color:  #f1f1f1;\n",
       "        }    #T_81700160_da1c_11eb_a7cf_02420a3918b8row4_col3 {\n",
       "            background-color:  #000000;\n",
       "            color:  #f1f1f1;\n",
       "        }    #T_81700160_da1c_11eb_a7cf_02420a3918b8row4_col4 {\n",
       "            background-color:  #8e8e8e;\n",
       "            color:  #000000;\n",
       "        }    #T_81700160_da1c_11eb_a7cf_02420a3918b8row4_col5 {\n",
       "            background-color:  #b40426;\n",
       "            color:  #f1f1f1;\n",
       "        }    #T_81700160_da1c_11eb_a7cf_02420a3918b8row4_col6 {\n",
       "            background-color:  #5f7fe8;\n",
       "            color:  #000000;\n",
       "        }    #T_81700160_da1c_11eb_a7cf_02420a3918b8row5_col1 {\n",
       "            background-color:  #383838;\n",
       "            color:  #f1f1f1;\n",
       "        }    #T_81700160_da1c_11eb_a7cf_02420a3918b8row5_col2 {\n",
       "            background-color:  #c7c7c7;\n",
       "            color:  #000000;\n",
       "        }    #T_81700160_da1c_11eb_a7cf_02420a3918b8row5_col3 {\n",
       "            background-color:  #bfbfbf;\n",
       "            color:  #000000;\n",
       "        }    #T_81700160_da1c_11eb_a7cf_02420a3918b8row5_col4 {\n",
       "            background-color:  #383838;\n",
       "            color:  #f1f1f1;\n",
       "        }    #T_81700160_da1c_11eb_a7cf_02420a3918b8row5_col5 {\n",
       "            background-color:  #3b4cc0;\n",
       "            color:  #f1f1f1;\n",
       "        }    #T_81700160_da1c_11eb_a7cf_02420a3918b8row5_col6 {\n",
       "            background-color:  #4b64d5;\n",
       "            color:  #f1f1f1;\n",
       "        }    #T_81700160_da1c_11eb_a7cf_02420a3918b8row6_col1 {\n",
       "            background-color:  #e3e3e3;\n",
       "            color:  #000000;\n",
       "        }    #T_81700160_da1c_11eb_a7cf_02420a3918b8row6_col2 {\n",
       "            background-color:  #8e8e8e;\n",
       "            color:  #000000;\n",
       "        }    #T_81700160_da1c_11eb_a7cf_02420a3918b8row6_col3 {\n",
       "            background-color:  #9f9f9f;\n",
       "            color:  #000000;\n",
       "        }    #T_81700160_da1c_11eb_a7cf_02420a3918b8row6_col4 {\n",
       "            background-color:  #000000;\n",
       "            color:  #f1f1f1;\n",
       "        }    #T_81700160_da1c_11eb_a7cf_02420a3918b8row6_col5 {\n",
       "            background-color:  #4f69d9;\n",
       "            color:  #000000;\n",
       "        }    #T_81700160_da1c_11eb_a7cf_02420a3918b8row6_col6 {\n",
       "            background-color:  #3d50c3;\n",
       "            color:  #f1f1f1;\n",
       "        }    #T_81700160_da1c_11eb_a7cf_02420a3918b8row7_col1 {\n",
       "            background-color:  #c7c7c7;\n",
       "            color:  #000000;\n",
       "        }    #T_81700160_da1c_11eb_a7cf_02420a3918b8row7_col2 {\n",
       "            background-color:  #e3e3e3;\n",
       "            color:  #000000;\n",
       "        }    #T_81700160_da1c_11eb_a7cf_02420a3918b8row7_col3 {\n",
       "            background-color:  #dfdfdf;\n",
       "            color:  #000000;\n",
       "        }    #T_81700160_da1c_11eb_a7cf_02420a3918b8row7_col4 {\n",
       "            background-color:  #c7c7c7;\n",
       "            color:  #000000;\n",
       "        }    #T_81700160_da1c_11eb_a7cf_02420a3918b8row7_col5 {\n",
       "            background-color:  #3b4cc0;\n",
       "            color:  #f1f1f1;\n",
       "        }    #T_81700160_da1c_11eb_a7cf_02420a3918b8row7_col6 {\n",
       "            background-color:  #3d50c3;\n",
       "            color:  #f1f1f1;\n",
       "        }    #T_81700160_da1c_11eb_a7cf_02420a3918b8row8_col1 {\n",
       "            background-color:  #c7c7c7;\n",
       "            color:  #000000;\n",
       "        }    #T_81700160_da1c_11eb_a7cf_02420a3918b8row8_col2 {\n",
       "            background-color:  #ffffff;\n",
       "            color:  #000000;\n",
       "        }    #T_81700160_da1c_11eb_a7cf_02420a3918b8row8_col3 {\n",
       "            background-color:  #ffffff;\n",
       "            color:  #000000;\n",
       "        }    #T_81700160_da1c_11eb_a7cf_02420a3918b8row8_col4 {\n",
       "            background-color:  #ffffff;\n",
       "            color:  #000000;\n",
       "        }    #T_81700160_da1c_11eb_a7cf_02420a3918b8row8_col5 {\n",
       "            background-color:  #3b4cc0;\n",
       "            color:  #f1f1f1;\n",
       "        }    #T_81700160_da1c_11eb_a7cf_02420a3918b8row8_col6 {\n",
       "            background-color:  #3b4cc0;\n",
       "            color:  #f1f1f1;\n",
       "        }</style><table id=\"T_81700160_da1c_11eb_a7cf_02420a3918b8\" ><thead>    <tr>        <th class=\"blank level0\" ></th>        <th class=\"col_heading level0 col0\" >hypothesis</th>        <th class=\"col_heading level0 col1\" >reach</th>        <th class=\"col_heading level0 col2\" >impact</th>        <th class=\"col_heading level0 col3\" >confidence</th>        <th class=\"col_heading level0 col4\" >efforts</th>        <th class=\"col_heading level0 col5\" >ice</th>        <th class=\"col_heading level0 col6\" >rice</th>    </tr></thead><tbody>\n",
       "                <tr>\n",
       "                        <th id=\"T_81700160_da1c_11eb_a7cf_02420a3918b8level0_row0\" class=\"row_heading level0 row0\" >7</th>\n",
       "                        <td id=\"T_81700160_da1c_11eb_a7cf_02420a3918b8row0_col0\" class=\"data row0 col0\" >Добавить форму подписки на все основные страницы, чтобы собрать базу клиентов для email-рассылок</td>\n",
       "                        <td id=\"T_81700160_da1c_11eb_a7cf_02420a3918b8row0_col1\" class=\"data row0 col1\" >10</td>\n",
       "                        <td id=\"T_81700160_da1c_11eb_a7cf_02420a3918b8row0_col2\" class=\"data row0 col2\" >7</td>\n",
       "                        <td id=\"T_81700160_da1c_11eb_a7cf_02420a3918b8row0_col3\" class=\"data row0 col3\" >8</td>\n",
       "                        <td id=\"T_81700160_da1c_11eb_a7cf_02420a3918b8row0_col4\" class=\"data row0 col4\" >5</td>\n",
       "                        <td id=\"T_81700160_da1c_11eb_a7cf_02420a3918b8row0_col5\" class=\"data row0 col5\" >11</td>\n",
       "                        <td id=\"T_81700160_da1c_11eb_a7cf_02420a3918b8row0_col6\" class=\"data row0 col6\" >112</td>\n",
       "            </tr>\n",
       "            <tr>\n",
       "                        <th id=\"T_81700160_da1c_11eb_a7cf_02420a3918b8level0_row1\" class=\"row_heading level0 row1\" >2</th>\n",
       "                        <td id=\"T_81700160_da1c_11eb_a7cf_02420a3918b8row1_col0\" class=\"data row1 col0\" >Добавить блоки рекомендаций товаров на сайт интернет магазина, чтобы повысить конверсию и средний чек заказа</td>\n",
       "                        <td id=\"T_81700160_da1c_11eb_a7cf_02420a3918b8row1_col1\" class=\"data row1 col1\" >8</td>\n",
       "                        <td id=\"T_81700160_da1c_11eb_a7cf_02420a3918b8row1_col2\" class=\"data row1 col2\" >3</td>\n",
       "                        <td id=\"T_81700160_da1c_11eb_a7cf_02420a3918b8row1_col3\" class=\"data row1 col3\" >7</td>\n",
       "                        <td id=\"T_81700160_da1c_11eb_a7cf_02420a3918b8row1_col4\" class=\"data row1 col4\" >3</td>\n",
       "                        <td id=\"T_81700160_da1c_11eb_a7cf_02420a3918b8row1_col5\" class=\"data row1 col5\" >7</td>\n",
       "                        <td id=\"T_81700160_da1c_11eb_a7cf_02420a3918b8row1_col6\" class=\"data row1 col6\" >56</td>\n",
       "            </tr>\n",
       "            <tr>\n",
       "                        <th id=\"T_81700160_da1c_11eb_a7cf_02420a3918b8level0_row2\" class=\"row_heading level0 row2\" >0</th>\n",
       "                        <td id=\"T_81700160_da1c_11eb_a7cf_02420a3918b8row2_col0\" class=\"data row2 col0\" >Добавить два новых канала привлечения трафика, что позволит привлекать на 30% больше пользователей</td>\n",
       "                        <td id=\"T_81700160_da1c_11eb_a7cf_02420a3918b8row2_col1\" class=\"data row2 col1\" >3</td>\n",
       "                        <td id=\"T_81700160_da1c_11eb_a7cf_02420a3918b8row2_col2\" class=\"data row2 col2\" >10</td>\n",
       "                        <td id=\"T_81700160_da1c_11eb_a7cf_02420a3918b8row2_col3\" class=\"data row2 col3\" >8</td>\n",
       "                        <td id=\"T_81700160_da1c_11eb_a7cf_02420a3918b8row2_col4\" class=\"data row2 col4\" >6</td>\n",
       "                        <td id=\"T_81700160_da1c_11eb_a7cf_02420a3918b8row2_col5\" class=\"data row2 col5\" >13</td>\n",
       "                        <td id=\"T_81700160_da1c_11eb_a7cf_02420a3918b8row2_col6\" class=\"data row2 col6\" >40</td>\n",
       "            </tr>\n",
       "            <tr>\n",
       "                        <th id=\"T_81700160_da1c_11eb_a7cf_02420a3918b8level0_row3\" class=\"row_heading level0 row3\" >6</th>\n",
       "                        <td id=\"T_81700160_da1c_11eb_a7cf_02420a3918b8row3_col0\" class=\"data row3 col0\" >Показать на главной странице баннеры с актуальными акциями и распродажами, чтобы увеличить конверсию</td>\n",
       "                        <td id=\"T_81700160_da1c_11eb_a7cf_02420a3918b8row3_col1\" class=\"data row3 col1\" >5</td>\n",
       "                        <td id=\"T_81700160_da1c_11eb_a7cf_02420a3918b8row3_col2\" class=\"data row3 col2\" >3</td>\n",
       "                        <td id=\"T_81700160_da1c_11eb_a7cf_02420a3918b8row3_col3\" class=\"data row3 col3\" >8</td>\n",
       "                        <td id=\"T_81700160_da1c_11eb_a7cf_02420a3918b8row3_col4\" class=\"data row3 col4\" >3</td>\n",
       "                        <td id=\"T_81700160_da1c_11eb_a7cf_02420a3918b8row3_col5\" class=\"data row3 col5\" >8</td>\n",
       "                        <td id=\"T_81700160_da1c_11eb_a7cf_02420a3918b8row3_col6\" class=\"data row3 col6\" >40</td>\n",
       "            </tr>\n",
       "            <tr>\n",
       "                        <th id=\"T_81700160_da1c_11eb_a7cf_02420a3918b8level0_row4\" class=\"row_heading level0 row4\" >8</th>\n",
       "                        <td id=\"T_81700160_da1c_11eb_a7cf_02420a3918b8row4_col0\" class=\"data row4 col0\" >Запустить акцию, дающую скидку на товар в день рождения</td>\n",
       "                        <td id=\"T_81700160_da1c_11eb_a7cf_02420a3918b8row4_col1\" class=\"data row4 col1\" >1</td>\n",
       "                        <td id=\"T_81700160_da1c_11eb_a7cf_02420a3918b8row4_col2\" class=\"data row4 col2\" >9</td>\n",
       "                        <td id=\"T_81700160_da1c_11eb_a7cf_02420a3918b8row4_col3\" class=\"data row4 col3\" >9</td>\n",
       "                        <td id=\"T_81700160_da1c_11eb_a7cf_02420a3918b8row4_col4\" class=\"data row4 col4\" >5</td>\n",
       "                        <td id=\"T_81700160_da1c_11eb_a7cf_02420a3918b8row4_col5\" class=\"data row4 col5\" >16</td>\n",
       "                        <td id=\"T_81700160_da1c_11eb_a7cf_02420a3918b8row4_col6\" class=\"data row4 col6\" >16</td>\n",
       "            </tr>\n",
       "            <tr>\n",
       "                        <th id=\"T_81700160_da1c_11eb_a7cf_02420a3918b8level0_row5\" class=\"row_heading level0 row5\" >3</th>\n",
       "                        <td id=\"T_81700160_da1c_11eb_a7cf_02420a3918b8row5_col0\" class=\"data row5 col0\" >Изменить структура категорий, что увеличит конверсию, т.к. пользователи быстрее найдут нужный товар</td>\n",
       "                        <td id=\"T_81700160_da1c_11eb_a7cf_02420a3918b8row5_col1\" class=\"data row5 col1\" >8</td>\n",
       "                        <td id=\"T_81700160_da1c_11eb_a7cf_02420a3918b8row5_col2\" class=\"data row5 col2\" >3</td>\n",
       "                        <td id=\"T_81700160_da1c_11eb_a7cf_02420a3918b8row5_col3\" class=\"data row5 col3\" >3</td>\n",
       "                        <td id=\"T_81700160_da1c_11eb_a7cf_02420a3918b8row5_col4\" class=\"data row5 col4\" >8</td>\n",
       "                        <td id=\"T_81700160_da1c_11eb_a7cf_02420a3918b8row5_col5\" class=\"data row5 col5\" >1</td>\n",
       "                        <td id=\"T_81700160_da1c_11eb_a7cf_02420a3918b8row5_col6\" class=\"data row5 col6\" >9</td>\n",
       "            </tr>\n",
       "            <tr>\n",
       "                        <th id=\"T_81700160_da1c_11eb_a7cf_02420a3918b8level0_row6\" class=\"row_heading level0 row6\" >1</th>\n",
       "                        <td id=\"T_81700160_da1c_11eb_a7cf_02420a3918b8row6_col0\" class=\"data row6 col0\" >Запустить собственную службу доставки, что сократит срок доставки заказов</td>\n",
       "                        <td id=\"T_81700160_da1c_11eb_a7cf_02420a3918b8row6_col1\" class=\"data row6 col1\" >2</td>\n",
       "                        <td id=\"T_81700160_da1c_11eb_a7cf_02420a3918b8row6_col2\" class=\"data row6 col2\" >5</td>\n",
       "                        <td id=\"T_81700160_da1c_11eb_a7cf_02420a3918b8row6_col3\" class=\"data row6 col3\" >4</td>\n",
       "                        <td id=\"T_81700160_da1c_11eb_a7cf_02420a3918b8row6_col4\" class=\"data row6 col4\" >10</td>\n",
       "                        <td id=\"T_81700160_da1c_11eb_a7cf_02420a3918b8row6_col5\" class=\"data row6 col5\" >2</td>\n",
       "                        <td id=\"T_81700160_da1c_11eb_a7cf_02420a3918b8row6_col6\" class=\"data row6 col6\" >4</td>\n",
       "            </tr>\n",
       "            <tr>\n",
       "                        <th id=\"T_81700160_da1c_11eb_a7cf_02420a3918b8level0_row7\" class=\"row_heading level0 row7\" >5</th>\n",
       "                        <td id=\"T_81700160_da1c_11eb_a7cf_02420a3918b8row7_col0\" class=\"data row7 col0\" >Добавить страницу отзывов клиентов о магазине, что позволит увеличить количество заказов</td>\n",
       "                        <td id=\"T_81700160_da1c_11eb_a7cf_02420a3918b8row7_col1\" class=\"data row7 col1\" >3</td>\n",
       "                        <td id=\"T_81700160_da1c_11eb_a7cf_02420a3918b8row7_col2\" class=\"data row7 col2\" >2</td>\n",
       "                        <td id=\"T_81700160_da1c_11eb_a7cf_02420a3918b8row7_col3\" class=\"data row7 col3\" >2</td>\n",
       "                        <td id=\"T_81700160_da1c_11eb_a7cf_02420a3918b8row7_col4\" class=\"data row7 col4\" >3</td>\n",
       "                        <td id=\"T_81700160_da1c_11eb_a7cf_02420a3918b8row7_col5\" class=\"data row7 col5\" >1</td>\n",
       "                        <td id=\"T_81700160_da1c_11eb_a7cf_02420a3918b8row7_col6\" class=\"data row7 col6\" >4</td>\n",
       "            </tr>\n",
       "            <tr>\n",
       "                        <th id=\"T_81700160_da1c_11eb_a7cf_02420a3918b8level0_row8\" class=\"row_heading level0 row8\" >4</th>\n",
       "                        <td id=\"T_81700160_da1c_11eb_a7cf_02420a3918b8row8_col0\" class=\"data row8 col0\" >Изменить цвет фона главной страницы, чтобы увеличить вовлеченность пользователей</td>\n",
       "                        <td id=\"T_81700160_da1c_11eb_a7cf_02420a3918b8row8_col1\" class=\"data row8 col1\" >3</td>\n",
       "                        <td id=\"T_81700160_da1c_11eb_a7cf_02420a3918b8row8_col2\" class=\"data row8 col2\" >1</td>\n",
       "                        <td id=\"T_81700160_da1c_11eb_a7cf_02420a3918b8row8_col3\" class=\"data row8 col3\" >1</td>\n",
       "                        <td id=\"T_81700160_da1c_11eb_a7cf_02420a3918b8row8_col4\" class=\"data row8 col4\" >1</td>\n",
       "                        <td id=\"T_81700160_da1c_11eb_a7cf_02420a3918b8row8_col5\" class=\"data row8 col5\" >1</td>\n",
       "                        <td id=\"T_81700160_da1c_11eb_a7cf_02420a3918b8row8_col6\" class=\"data row8 col6\" >3</td>\n",
       "            </tr>\n",
       "    </tbody></table>"
      ],
      "text/plain": [
       "<pandas.io.formats.style.Styler at 0x7f03b8243590>"
      ]
     },
     "execution_count": 23,
     "metadata": {},
     "output_type": "execute_result"
    }
   ],
   "source": [
    "# Расчет RICE\n",
    "hyps['rice'] = hyps['reach']*hyps['impact']*hyps['confidence'] / hyps['efforts']\n",
    "hyps = hyps.round().sort_values(by='rice', ascending=False)\n",
    "hyps.style.background_gradient(\n",
    "    cmap=\"coolwarm\", subset=['ice']).background_gradient(\n",
    "    cmap=\"coolwarm\", subset=['rice']).background_gradient(\n",
    "    cmap=\"binary\", subset=['reach']).background_gradient(\n",
    "    cmap=\"binary\", subset=['impact']).background_gradient(\n",
    "    cmap=\"binary\", subset=['confidence']).background_gradient(\n",
    "    cmap=\"binary\", subset=['efforts'])"
   ]
  },
  {
   "cell_type": "markdown",
   "metadata": {},
   "source": [
    "**Топ  3 по RICE:**\n",
    "<br>*добавление формы подписки на все основные страницы,\n",
    "<br>блоки рекомендаций на сайт,\n",
    "<br>добавление каналов привлечения трафика.*"
   ]
  },
  {
   "cell_type": "markdown",
   "metadata": {},
   "source": [
    "**Вывод по приоритизации:**\n",
    "\n",
    "<br>При добавленит параметра reach, который характеризует охват пользователей в RICE, топ приоритизации изменился. Гипотезы с небольшим оцененным охватом пользователей - акция со скидкой в день рождения, уступила место добавлению блока рекомендаций, с высокой долей охвата.\n",
    "<br> Разница по RICE между добавлением новых каналов трафика и показаом банера с акциями на главной странице практически отсутствует. Первая из этих двух гипотез более сильно повлияет на пользователей, но охватит их меньше и более дорога в затратах, вторая - охватит больше пользователей но с меньшим влиянием, к тому же потребует небольших расходов. К тому же добавление баннера с акциями на главной странице по цели - увеличение конверсии имеет более рейтинговую гипотезу с той же целью - добавление блоков рекомендаций на сайт. "
   ]
  },
  {
   "cell_type": "markdown",
   "metadata": {},
   "source": [
    "## Анализ A/B Теста"
   ]
  },
  {
   "cell_type": "markdown",
   "metadata": {},
   "source": [
    "### График кумулятивной выручки по группам"
   ]
  },
  {
   "cell_type": "code",
   "execution_count": 24,
   "metadata": {},
   "outputs": [
    {
     "data": {
      "text/html": [
       "<div>\n",
       "<style scoped>\n",
       "    .dataframe tbody tr th:only-of-type {\n",
       "        vertical-align: middle;\n",
       "    }\n",
       "\n",
       "    .dataframe tbody tr th {\n",
       "        vertical-align: top;\n",
       "    }\n",
       "\n",
       "    .dataframe thead th {\n",
       "        text-align: right;\n",
       "    }\n",
       "</style>\n",
       "<table border=\"1\" class=\"dataframe\">\n",
       "  <thead>\n",
       "    <tr style=\"text-align: right;\">\n",
       "      <th></th>\n",
       "      <th>date</th>\n",
       "      <th>group</th>\n",
       "    </tr>\n",
       "  </thead>\n",
       "  <tbody>\n",
       "    <tr>\n",
       "      <td>540</td>\n",
       "      <td>2019-08-20</td>\n",
       "      <td>A</td>\n",
       "    </tr>\n",
       "    <tr>\n",
       "      <td>362</td>\n",
       "      <td>2019-08-06</td>\n",
       "      <td>A</td>\n",
       "    </tr>\n",
       "    <tr>\n",
       "      <td>753</td>\n",
       "      <td>2019-08-21</td>\n",
       "      <td>B</td>\n",
       "    </tr>\n",
       "  </tbody>\n",
       "</table>\n",
       "</div>"
      ],
      "text/plain": [
       "           date group\n",
       "540  2019-08-20     A\n",
       "362  2019-08-06     A\n",
       "753  2019-08-21     B"
      ]
     },
     "execution_count": 24,
     "metadata": {},
     "output_type": "execute_result"
    }
   ],
   "source": [
    "# Массив уникальных дат и групп теста\n",
    "dates_groups = orders[['date','group']].drop_duplicates()\n",
    "dates_groups.sample(3)"
   ]
  },
  {
   "cell_type": "code",
   "execution_count": 25,
   "metadata": {},
   "outputs": [
    {
     "data": {
      "text/html": [
       "<div>\n",
       "<style scoped>\n",
       "    .dataframe tbody tr th:only-of-type {\n",
       "        vertical-align: middle;\n",
       "    }\n",
       "\n",
       "    .dataframe tbody tr th {\n",
       "        vertical-align: top;\n",
       "    }\n",
       "\n",
       "    .dataframe thead th {\n",
       "        text-align: right;\n",
       "    }\n",
       "</style>\n",
       "<table border=\"1\" class=\"dataframe\">\n",
       "  <thead>\n",
       "    <tr style=\"text-align: right;\">\n",
       "      <th></th>\n",
       "      <th>date</th>\n",
       "      <th>group</th>\n",
       "      <th>transactionid</th>\n",
       "      <th>visitorid</th>\n",
       "      <th>revenue</th>\n",
       "    </tr>\n",
       "  </thead>\n",
       "  <tbody>\n",
       "    <tr>\n",
       "      <td>229</td>\n",
       "      <td>2019-08-18</td>\n",
       "      <td>A</td>\n",
       "      <td>278</td>\n",
       "      <td>264</td>\n",
       "      <td>1876741</td>\n",
       "    </tr>\n",
       "  </tbody>\n",
       "</table>\n",
       "</div>"
      ],
      "text/plain": [
       "           date group  transactionid  visitorid  revenue\n",
       "229  2019-08-18     A            278        264  1876741"
      ]
     },
     "execution_count": 25,
     "metadata": {},
     "output_type": "execute_result"
    }
   ],
   "source": [
    "# Агрегация заказов, вычисление максимальной даты\n",
    "orders_aggregated = dates_groups.apply(\n",
    "lambda x: orders[np.logical_and(orders['date'] <= x['date'], orders['group'] == x['group'])].agg(\n",
    "{'date' : 'max', 'group' : 'max', 'transactionid' : pd.Series.nunique, 'visitorid' : pd.Series.nunique, 'revenue' : 'sum'}),\\\n",
    "axis=1).sort_values(by=['date','group'])\n",
    "orders_aggregated.sample()"
   ]
  },
  {
   "cell_type": "code",
   "execution_count": 26,
   "metadata": {},
   "outputs": [
    {
     "data": {
      "text/html": [
       "<div>\n",
       "<style scoped>\n",
       "    .dataframe tbody tr th:only-of-type {\n",
       "        vertical-align: middle;\n",
       "    }\n",
       "\n",
       "    .dataframe tbody tr th {\n",
       "        vertical-align: top;\n",
       "    }\n",
       "\n",
       "    .dataframe thead th {\n",
       "        text-align: right;\n",
       "    }\n",
       "</style>\n",
       "<table border=\"1\" class=\"dataframe\">\n",
       "  <thead>\n",
       "    <tr style=\"text-align: right;\">\n",
       "      <th></th>\n",
       "      <th>date</th>\n",
       "      <th>group</th>\n",
       "      <th>visitors</th>\n",
       "    </tr>\n",
       "  </thead>\n",
       "  <tbody>\n",
       "    <tr>\n",
       "      <td>153</td>\n",
       "      <td>2019-08-26</td>\n",
       "      <td>B</td>\n",
       "      <td>675</td>\n",
       "    </tr>\n",
       "    <tr>\n",
       "      <td>113</td>\n",
       "      <td>2019-08-09</td>\n",
       "      <td>B</td>\n",
       "      <td>609</td>\n",
       "    </tr>\n",
       "    <tr>\n",
       "      <td>26</td>\n",
       "      <td>2019-08-12</td>\n",
       "      <td>A</td>\n",
       "      <td>594</td>\n",
       "    </tr>\n",
       "  </tbody>\n",
       "</table>\n",
       "</div>"
      ],
      "text/plain": [
       "           date group  visitors\n",
       "153  2019-08-26     B       675\n",
       "113  2019-08-09     B       609\n",
       "26   2019-08-12     A       594"
      ]
     },
     "execution_count": 26,
     "metadata": {},
     "output_type": "execute_result"
    }
   ],
   "source": [
    "visitors.sample(3)"
   ]
  },
  {
   "cell_type": "code",
   "execution_count": 27,
   "metadata": {},
   "outputs": [
    {
     "data": {
      "text/html": [
       "<div>\n",
       "<style scoped>\n",
       "    .dataframe tbody tr th:only-of-type {\n",
       "        vertical-align: middle;\n",
       "    }\n",
       "\n",
       "    .dataframe tbody tr th {\n",
       "        vertical-align: top;\n",
       "    }\n",
       "\n",
       "    .dataframe thead th {\n",
       "        text-align: right;\n",
       "    }\n",
       "</style>\n",
       "<table border=\"1\" class=\"dataframe\">\n",
       "  <thead>\n",
       "    <tr style=\"text-align: right;\">\n",
       "      <th></th>\n",
       "      <th>date</th>\n",
       "      <th>group</th>\n",
       "      <th>visitors</th>\n",
       "    </tr>\n",
       "  </thead>\n",
       "  <tbody>\n",
       "    <tr>\n",
       "      <td>533</td>\n",
       "      <td>2019-08-29</td>\n",
       "      <td>B</td>\n",
       "      <td>50322</td>\n",
       "    </tr>\n",
       "  </tbody>\n",
       "</table>\n",
       "</div>"
      ],
      "text/plain": [
       "           date group  visitors\n",
       "533  2019-08-29     B     50322"
      ]
     },
     "execution_count": 27,
     "metadata": {},
     "output_type": "execute_result"
    }
   ],
   "source": [
    "# Аггрегация визиторов\n",
    "visitors_aggregated = dates_groups.apply(\n",
    "    lambda x: visitors[np.logical_and(visitors['date'] <= x['date'], visitors['group'] == x['group'])].agg(\n",
    "        {'date' : 'max', 'group' : 'max', 'visitors' : 'sum'}), axis=1).sort_values(by=['date','group'])\n",
    "visitors_aggregated.sample()"
   ]
  },
  {
   "cell_type": "code",
   "execution_count": 28,
   "metadata": {},
   "outputs": [
    {
     "data": {
      "text/html": [
       "<div>\n",
       "<style scoped>\n",
       "    .dataframe tbody tr th:only-of-type {\n",
       "        vertical-align: middle;\n",
       "    }\n",
       "\n",
       "    .dataframe tbody tr th {\n",
       "        vertical-align: top;\n",
       "    }\n",
       "\n",
       "    .dataframe thead th {\n",
       "        text-align: right;\n",
       "    }\n",
       "</style>\n",
       "<table border=\"1\" class=\"dataframe\">\n",
       "  <thead>\n",
       "    <tr style=\"text-align: right;\">\n",
       "      <th></th>\n",
       "      <th>date</th>\n",
       "      <th>group</th>\n",
       "      <th>orders</th>\n",
       "      <th>buyers</th>\n",
       "      <th>revenue</th>\n",
       "      <th>visitors</th>\n",
       "    </tr>\n",
       "  </thead>\n",
       "  <tbody>\n",
       "    <tr>\n",
       "      <td>44</td>\n",
       "      <td>2019-08-23</td>\n",
       "      <td>A</td>\n",
       "      <td>359</td>\n",
       "      <td>341</td>\n",
       "      <td>2424010</td>\n",
       "      <td>41392</td>\n",
       "    </tr>\n",
       "  </tbody>\n",
       "</table>\n",
       "</div>"
      ],
      "text/plain": [
       "          date group  orders  buyers  revenue  visitors\n",
       "44  2019-08-23     A     359     341  2424010     41392"
      ]
     },
     "execution_count": 28,
     "metadata": {},
     "output_type": "execute_result"
    }
   ],
   "source": [
    "# Объединение аггрегированных данных\n",
    "cumulative_data = orders_aggregated.merge(visitors_aggregated, left_on=['date', 'group'], right_on=['date', 'group'])\n",
    "# Перименования столбцов\n",
    "# -  кол-во покупок \n",
    "# - кол-во покупателей \n",
    "# - выручка \n",
    "# - кол-во посетителей\n",
    "cumulative_data.columns = ['date', 'group', 'orders', 'buyers', 'revenue', 'visitors']\n",
    "cumulative_data.sample()"
   ]
  },
  {
   "cell_type": "code",
   "execution_count": 29,
   "metadata": {},
   "outputs": [],
   "source": [
    "# Таблица с кумулятивным количеством заказов и кумулятивной выручкой по дням в группе А\n",
    "cumulative_revenue_a = cumulative_data[cumulative_data['group']=='A'][['date','revenue', 'orders']]\n",
    "# Таблица с кумулятивным количеством заказов и кумулятивной выручкой по дням в группе B\n",
    "cumulative_revenue_b = cumulative_data[cumulative_data['group']=='B'][['date','revenue', 'orders']]"
   ]
  },
  {
   "cell_type": "code",
   "execution_count": 30,
   "metadata": {
    "scrolled": false
   },
   "outputs": [
    {
     "data": {
      "image/png": "[encoded data removed]",
      "text/plain": [
       "<Figure size 1152x432 with 1 Axes>"
      ]
     },
     "metadata": {},
     "output_type": "display_data"
    }
   ],
   "source": [
    "fig, ax = plt.subplots(figsize=(16, 6))\n",
    "sns.lineplot(\n",
    "    x='date', y='revenue', data=cumulative_revenue_a, legend='brief', label=str(\n",
    "    'группа А'), linewidth=3)\n",
    "sns.lineplot(\n",
    "    x='date', y='revenue', data=cumulative_revenue_b, legend='brief', label=str(\n",
    "    'группа B'), linewidth=3)\n",
    "plt.annotate('скачок', xy=('2019-08-18', 2200000), xytext=('2019-08-10', 3500000),\n",
    "            arrowprops=dict(facecolor='g'))\n",
    "plt.annotate('отрыв', xy=('2019-08-05', 600000), xytext=('2019-08-05', 2000000),\n",
    "            arrowprops=dict(facecolor='g')) \n",
    "plt.title('Кумулятивная выручка по группам')\n",
    "plt.xlabel('дата')\n",
    "plt.ylabel('выручка')\n",
    "locs, labels = plt.xticks()\n",
    "plt.setp(labels, rotation=45)\n",
    "plt.show()"
   ]
  },
  {
   "cell_type": "code",
   "execution_count": 31,
   "metadata": {},
   "outputs": [
    {
     "data": {
      "text/plain": [
       "255.0"
      ]
     },
     "execution_count": 31,
     "metadata": {},
     "output_type": "execute_result"
    }
   ],
   "source": [
    "# Среднее количесвто заказов группы А\n",
    "cumulative_revenue_a['orders'].mean().round()"
   ]
  },
  {
   "cell_type": "code",
   "execution_count": 32,
   "metadata": {},
   "outputs": [
    {
     "data": {
      "text/plain": [
       "292.0"
      ]
     },
     "execution_count": 32,
     "metadata": {},
     "output_type": "execute_result"
    }
   ],
   "source": [
    "# Среднее количесвто заказов группы B\n",
    "cumulative_revenue_b['orders'].mean().round()"
   ]
  },
  {
   "cell_type": "code",
   "execution_count": 33,
   "metadata": {},
   "outputs": [
    {
     "data": {
      "text/html": [
       "<div>\n",
       "<style scoped>\n",
       "    .dataframe tbody tr th:only-of-type {\n",
       "        vertical-align: middle;\n",
       "    }\n",
       "\n",
       "    .dataframe tbody tr th {\n",
       "        vertical-align: top;\n",
       "    }\n",
       "\n",
       "    .dataframe thead th {\n",
       "        text-align: right;\n",
       "    }\n",
       "</style>\n",
       "<table border=\"1\" class=\"dataframe\">\n",
       "  <thead>\n",
       "    <tr style=\"text-align: right;\">\n",
       "      <th></th>\n",
       "      <th>date</th>\n",
       "      <th>revenue</th>\n",
       "      <th>orders</th>\n",
       "    </tr>\n",
       "  </thead>\n",
       "  <tbody>\n",
       "    <tr>\n",
       "      <td>30</td>\n",
       "      <td>2019-08-16</td>\n",
       "      <td>1782420</td>\n",
       "      <td>259</td>\n",
       "    </tr>\n",
       "    <tr>\n",
       "      <td>32</td>\n",
       "      <td>2019-08-17</td>\n",
       "      <td>1817160</td>\n",
       "      <td>265</td>\n",
       "    </tr>\n",
       "    <tr>\n",
       "      <td>34</td>\n",
       "      <td>2019-08-18</td>\n",
       "      <td>1876741</td>\n",
       "      <td>278</td>\n",
       "    </tr>\n",
       "    <tr>\n",
       "      <td>36</td>\n",
       "      <td>2019-08-19</td>\n",
       "      <td>2044934</td>\n",
       "      <td>299</td>\n",
       "    </tr>\n",
       "    <tr>\n",
       "      <td>38</td>\n",
       "      <td>2019-08-20</td>\n",
       "      <td>2103613</td>\n",
       "      <td>309</td>\n",
       "    </tr>\n",
       "  </tbody>\n",
       "</table>\n",
       "</div>"
      ],
      "text/plain": [
       "          date  revenue  orders\n",
       "30  2019-08-16  1782420     259\n",
       "32  2019-08-17  1817160     265\n",
       "34  2019-08-18  1876741     278\n",
       "36  2019-08-19  2044934     299\n",
       "38  2019-08-20  2103613     309"
      ]
     },
     "execution_count": 33,
     "metadata": {},
     "output_type": "execute_result"
    }
   ],
   "source": [
    "# Количество заказов с 17 по 20 августа\n",
    "cumulative_revenue_a.query('date in [\"2019-08-16\", \"2019-08-17\", \"2019-08-18\", \"2019-08-19\", \"2019-08-20\"]')"
   ]
  },
  {
   "cell_type": "markdown",
   "metadata": {},
   "source": [
    "Выручка по группе А стала превышать на небольшую величину выручку группы B с 5 августа. 19 августа выручка группы А резко выросла, колицество заказов за день увеличилось в 2 раза чем обычно. Далее выручка не вернулась на уровни роста до скачка, как это вероятно произошло бы в случае аномальных продаж в один конкретный день."
   ]
  },
  {
   "cell_type": "markdown",
   "metadata": {},
   "source": [
    "### График кумулятивного среднего чека по группам"
   ]
  },
  {
   "cell_type": "code",
   "execution_count": 34,
   "metadata": {},
   "outputs": [
    {
     "data": {
      "image/png": "[encoded data removed]",
      "text/plain": [
       "<Figure size 1152x432 with 1 Axes>"
      ]
     },
     "metadata": {},
     "output_type": "display_data"
    }
   ],
   "source": [
    "# График кумулятивной выручки\n",
    "fig, ax = plt.subplots(figsize=(16, 6))\n",
    "sns.lineplot(\n",
    "    x='date', y=cumulative_revenue_a[\n",
    "        'revenue']/cumulative_revenue_a['orders'], data=cumulative_revenue_a, legend='brief', label=str(\n",
    "    'группа А'), linewidth=3)\n",
    "sns.lineplot(\n",
    "    x='date', y=cumulative_revenue_b[\n",
    "        'revenue']/cumulative_revenue_b['orders'], data=cumulative_revenue_b, legend='brief', label=str(\n",
    "    'группа B'), linewidth=3)\n",
    "plt.title('Кумулятивный средний чек')\n",
    "plt.xlabel('дата')\n",
    "plt.ylabel('средний чек')\n",
    "locs, labels = plt.xticks()\n",
    "plt.setp(labels, rotation=45)\n",
    "plt.show()"
   ]
  },
  {
   "cell_type": "markdown",
   "metadata": {},
   "source": [
    "**Средний чек группы B также демонстрирует превышение над значениями группы A, хотя в отдельные дни оказывался меньше. 19 августа также как и в выручке, есть скачек среднего чека у группы Б. Так как средний чек возрос одновременно с возросшим количеством заказов, это не просто несколько аномально высоких покупок, скорее всего произошло событие стимулирующее одновременный рост количества заказов и среднего чека в группе Б.**"
   ]
  },
  {
   "cell_type": "markdown",
   "metadata": {},
   "source": [
    "### График относительного изменения кумулятивного среднего чека"
   ]
  },
  {
   "cell_type": "code",
   "execution_count": 35,
   "metadata": {},
   "outputs": [
    {
     "data": {
      "text/html": [
       "<div>\n",
       "<style scoped>\n",
       "    .dataframe tbody tr th:only-of-type {\n",
       "        vertical-align: middle;\n",
       "    }\n",
       "\n",
       "    .dataframe tbody tr th {\n",
       "        vertical-align: top;\n",
       "    }\n",
       "\n",
       "    .dataframe thead th {\n",
       "        text-align: right;\n",
       "    }\n",
       "</style>\n",
       "<table border=\"1\" class=\"dataframe\">\n",
       "  <thead>\n",
       "    <tr style=\"text-align: right;\">\n",
       "      <th></th>\n",
       "      <th>date</th>\n",
       "      <th>revenue_a</th>\n",
       "      <th>orders_a</th>\n",
       "      <th>revenue_b</th>\n",
       "      <th>orders_b</th>\n",
       "    </tr>\n",
       "  </thead>\n",
       "  <tbody>\n",
       "    <tr>\n",
       "      <td>20</td>\n",
       "      <td>2019-08-21</td>\n",
       "      <td>2273782</td>\n",
       "      <td>329</td>\n",
       "      <td>3908406</td>\n",
       "      <td>380</td>\n",
       "    </tr>\n",
       "    <tr>\n",
       "      <td>16</td>\n",
       "      <td>2019-08-17</td>\n",
       "      <td>1817160</td>\n",
       "      <td>265</td>\n",
       "      <td>2155542</td>\n",
       "      <td>320</td>\n",
       "    </tr>\n",
       "    <tr>\n",
       "      <td>7</td>\n",
       "      <td>2019-08-08</td>\n",
       "      <td>727219</td>\n",
       "      <td>144</td>\n",
       "      <td>1059795</td>\n",
       "      <td>157</td>\n",
       "    </tr>\n",
       "  </tbody>\n",
       "</table>\n",
       "</div>"
      ],
      "text/plain": [
       "          date  revenue_a  orders_a  revenue_b  orders_b\n",
       "20  2019-08-21    2273782       329    3908406       380\n",
       "16  2019-08-17    1817160       265    2155542       320\n",
       "7   2019-08-08     727219       144    1059795       157"
      ]
     },
     "execution_count": 35,
     "metadata": {},
     "output_type": "execute_result"
    }
   ],
   "source": [
    "# Объединение данных А и B\n",
    "cumulative_revenue_merged = cumulative_revenue_a.merge(\n",
    "    cumulative_revenue_b, left_on='date', right_on='date', how='left', suffixes=['_a', '_b'])\n",
    "cumulative_revenue_merged.sample(3)"
   ]
  },
  {
   "cell_type": "code",
   "execution_count": 36,
   "metadata": {},
   "outputs": [
    {
     "data": {
      "image/png": "[encoded data removed]",
      "text/plain": [
       "<Figure size 1152x432 with 1 Axes>"
      ]
     },
     "metadata": {},
     "output_type": "display_data"
    }
   ],
   "source": [
    "fig, ax = plt.subplots(figsize=(16, 6))\n",
    "dif = (cumulative_revenue_merged['revenue_b'] / cumulative_revenue_merged['orders_b']) / (\n",
    "    cumulative_revenue_merged['revenue_a'] / cumulative_revenue_merged['orders_a'])-1\n",
    "sns.lineplot(\n",
    "    x=cumulative_revenue_merged['date'], y=dif, data=cumulative_revenue_a, linewidth=3)\n",
    "plt.axhline(y=0, color='red', linestyle='--')\n",
    "plt.title('Относительное изменение кумулятивного среднего чека')\n",
    "plt.xlabel('дата')\n",
    "locs, labels = plt.xticks()\n",
    "plt.setp(labels, rotation=45)\n",
    "plt.show()"
   ]
  },
  {
   "cell_type": "markdown",
   "metadata": {},
   "source": [
    "**Выраженные колебания присутствуют, возможно были аномалии повлиявшие на график. Наблюдается тот же подъем 19 августа, что и в выручке и среднем чеке.**"
   ]
  },
  {
   "cell_type": "markdown",
   "metadata": {},
   "source": [
    "###  График кумулятивной конверсии по группам"
   ]
  },
  {
   "cell_type": "code",
   "execution_count": 37,
   "metadata": {},
   "outputs": [],
   "source": [
    "# Расчет кумулятивной конверсии\n",
    "cumulative_data['conversion'] = cumulative_data['orders'] / cumulative_data['visitors']"
   ]
  },
  {
   "cell_type": "code",
   "execution_count": 38,
   "metadata": {},
   "outputs": [],
   "source": [
    "# Разделение данных по группам\n",
    "cumulative_data_a = cumulative_data[cumulative_data['group']=='A']\n",
    "cumulative_data_b = cumulative_data[cumulative_data['group']=='B']"
   ]
  },
  {
   "cell_type": "code",
   "execution_count": 39,
   "metadata": {},
   "outputs": [
    {
     "data": {
      "image/png": "[encoded data removed]",
      "text/plain": [
       "<Figure size 1152x432 with 1 Axes>"
      ]
     },
     "metadata": {},
     "output_type": "display_data"
    }
   ],
   "source": [
    "fig, ax = plt.subplots(figsize=(16, 6))\n",
    "sns.lineplot(\n",
    "    x='date', y='conversion', data=cumulative_data_a, legend='brief', label=str(\n",
    "    'группа А'), linewidth=3)\n",
    "sns.lineplot(\n",
    "    x='date', y='conversion', data=cumulative_data_b, legend='brief', label=str(\n",
    "    'группа B'), linewidth=3)\n",
    "plt.title('Кумулятивная конверсия по группам')\n",
    "plt.xlabel('дата')\n",
    "plt.ylabel('конверсия')\n",
    "locs, labels = plt.xticks()\n",
    "plt.setp(labels, rotation=45)\n",
    "plt.show()"
   ]
  },
  {
   "cell_type": "markdown",
   "metadata": {},
   "source": [
    "**График группы B в начале эксперимента ниже группы А, но 11 августа стабильно выше группы А, хотя разница небольшая.**"
   ]
  },
  {
   "cell_type": "markdown",
   "metadata": {},
   "source": [
    "### График относительного изменения кумулятивной конверсии группы B к группе A"
   ]
  },
  {
   "cell_type": "code",
   "execution_count": 40,
   "metadata": {},
   "outputs": [
    {
     "data": {
      "text/html": [
       "<div>\n",
       "<style scoped>\n",
       "    .dataframe tbody tr th:only-of-type {\n",
       "        vertical-align: middle;\n",
       "    }\n",
       "\n",
       "    .dataframe tbody tr th {\n",
       "        vertical-align: top;\n",
       "    }\n",
       "\n",
       "    .dataframe thead th {\n",
       "        text-align: right;\n",
       "    }\n",
       "</style>\n",
       "<table border=\"1\" class=\"dataframe\">\n",
       "  <thead>\n",
       "    <tr style=\"text-align: right;\">\n",
       "      <th></th>\n",
       "      <th>date</th>\n",
       "      <th>conversionA</th>\n",
       "      <th>conversionB</th>\n",
       "    </tr>\n",
       "  </thead>\n",
       "  <tbody>\n",
       "    <tr>\n",
       "      <td>25</td>\n",
       "      <td>2019-08-26</td>\n",
       "      <td>0.01</td>\n",
       "      <td>0.01</td>\n",
       "    </tr>\n",
       "    <tr>\n",
       "      <td>23</td>\n",
       "      <td>2019-08-24</td>\n",
       "      <td>0.01</td>\n",
       "      <td>0.01</td>\n",
       "    </tr>\n",
       "    <tr>\n",
       "      <td>13</td>\n",
       "      <td>2019-08-14</td>\n",
       "      <td>0.01</td>\n",
       "      <td>0.01</td>\n",
       "    </tr>\n",
       "  </tbody>\n",
       "</table>\n",
       "</div>"
      ],
      "text/plain": [
       "          date  conversionA  conversionB\n",
       "25  2019-08-26         0.01         0.01\n",
       "23  2019-08-24         0.01         0.01\n",
       "13  2019-08-14         0.01         0.01"
      ]
     },
     "execution_count": 40,
     "metadata": {},
     "output_type": "execute_result"
    }
   ],
   "source": [
    "# Объединение таблиц с конверсией групп А и B\n",
    "cumulative_conversions_merged = cumulative_data_a[\n",
    "    ['date','conversion']].merge(cumulative_data_b[\n",
    "    ['date','conversion']], left_on='date', right_on='date', how='left', suffixes=['A', 'B'])\n",
    "cumulative_conversions_merged.sample(3)"
   ]
  },
  {
   "cell_type": "code",
   "execution_count": 41,
   "metadata": {},
   "outputs": [
    {
     "data": {
      "image/png": "[encoded data removed]",
      "text/plain": [
       "<Figure size 1152x432 with 1 Axes>"
      ]
     },
     "metadata": {},
     "output_type": "display_data"
    }
   ],
   "source": [
    "fig, ax = plt.subplots(figsize=(16, 6))\n",
    "dif = ((cumulative_conversions_merged['conversionB'] / cumulative_conversions_merged['conversionA'])-1)\n",
    "sns.lineplot(\n",
    "    x=cumulative_conversions_merged['date'], y=dif, data=cumulative_conversions_merged, linewidth=3)\n",
    "plt.axhline(y=0, color='red', linestyle='--')\n",
    "plt.axhline(y=0.15, color='blue', linestyle='--')\n",
    "plt.title('Относительное изменение кумулятивной конверсии между группами')\n",
    "plt.xlabel('дата')\n",
    "locs, labels = plt.xticks()\n",
    "plt.setp(labels, rotation=45)\n",
    "plt.show()"
   ]
  },
  {
   "cell_type": "markdown",
   "metadata": {},
   "source": [
    "**С 17 августа относительная разница между группами, после скачков первой половины месяца, составила 15% и больше не опускалась ниже этого уровня.**"
   ]
  },
  {
   "cell_type": "markdown",
   "metadata": {},
   "source": [
    "### График количества заказов по пользователям"
   ]
  },
  {
   "cell_type": "code",
   "execution_count": 42,
   "metadata": {},
   "outputs": [
    {
     "data": {
      "text/html": [
       "<div>\n",
       "<style scoped>\n",
       "    .dataframe tbody tr th:only-of-type {\n",
       "        vertical-align: middle;\n",
       "    }\n",
       "\n",
       "    .dataframe tbody tr th {\n",
       "        vertical-align: top;\n",
       "    }\n",
       "\n",
       "    .dataframe thead th {\n",
       "        text-align: right;\n",
       "    }\n",
       "</style>\n",
       "<table border=\"1\" class=\"dataframe\">\n",
       "  <thead>\n",
       "    <tr style=\"text-align: right;\">\n",
       "      <th></th>\n",
       "      <th>visitorid</th>\n",
       "      <th>orders</th>\n",
       "    </tr>\n",
       "  </thead>\n",
       "  <tbody>\n",
       "    <tr>\n",
       "      <td>2</td>\n",
       "      <td>11685486</td>\n",
       "      <td>1</td>\n",
       "    </tr>\n",
       "    <tr>\n",
       "      <td>317</td>\n",
       "      <td>1390677121</td>\n",
       "      <td>1</td>\n",
       "    </tr>\n",
       "    <tr>\n",
       "      <td>275</td>\n",
       "      <td>1206072200</td>\n",
       "      <td>1</td>\n",
       "    </tr>\n",
       "  </tbody>\n",
       "</table>\n",
       "</div>"
      ],
      "text/plain": [
       "      visitorid  orders\n",
       "2      11685486       1\n",
       "317  1390677121       1\n",
       "275  1206072200       1"
      ]
     },
     "execution_count": 42,
     "metadata": {},
     "output_type": "execute_result"
    }
   ],
   "source": [
    "# Группировка количества заказов по пользователям\n",
    "orders_per_user = orders.groupby(\n",
    "    'visitorid', as_index=False).agg({'transactionid' : pd.Series.nunique}).sort_values(by='transactionid', ascending = False)\n",
    "orders_per_user.columns = ['visitorid','orders']\n",
    "orders_per_user.sample(3)"
   ]
  },
  {
   "cell_type": "code",
   "execution_count": 43,
   "metadata": {},
   "outputs": [
    {
     "data": {
      "image/png": "[encoded data removed]",
      "text/plain": [
       "<Figure size 1152x432 with 1 Axes>"
      ]
     },
     "metadata": {},
     "output_type": "display_data"
    }
   ],
   "source": [
    "# График количества заказов\n",
    "fig, ax = plt.subplots(figsize=(16, 6))\n",
    "x_values = pd.Series(range(0,len(orders_per_user)))\n",
    "sns.scatterplot(data=orders_per_user, x=x_values, y='orders', s=40, color='m', edgecolor=\"skyblue\", linewidth=1)\n",
    "plt.title('Количество заказов по пользователям')\n",
    "plt.xlabel('пользователи')\n",
    "plt.ylabel('количество заказов')\n",
    "locs, labels = plt.xticks()\n",
    "plt.setp(labels, rotation=45)\n",
    "plt.show()"
   ]
  },
  {
   "cell_type": "markdown",
   "metadata": {},
   "source": [
    "**По графику видно что большинство пользователей делает не более 1 заказа, более 2 заказов - очень редкие случаи**"
   ]
  },
  {
   "cell_type": "markdown",
   "metadata": {},
   "source": [
    "### 95-й и 99-й перцентили количества заказов на пользователя"
   ]
  },
  {
   "cell_type": "code",
   "execution_count": 44,
   "metadata": {},
   "outputs": [
    {
     "name": "stdout",
     "output_type": "stream",
     "text": [
      "Количество заказов у 95% пользователей 1\n",
      "Количество заказов у 99% пользователей 2\n"
     ]
    }
   ],
   "source": [
    "# 95 и 99 персентили по заказам\n",
    "print('Количество заказов у 95% пользователей',round(np.percentile(orders_per_user['orders'], 95)))\n",
    "print('Количество заказов у 99% пользователей',round(np.percentile(orders_per_user['orders'], 99)))\n",
    "# Установка границы аномалий по количеству заказов на покупателя по 95 персентилю\n",
    "order_outliers_limit = round(np.percentile(orders_per_user['orders'], 95))"
   ]
  },
  {
   "cell_type": "markdown",
   "metadata": {},
   "source": [
    "**95 % пользователей делают не больше 1 заказов, абсолютное большинство - 1, менее 1 % делают более 2 заказа, можно сказать что больше 1 заказа - аномалии**"
   ]
  },
  {
   "cell_type": "markdown",
   "metadata": {},
   "source": [
    "### График стоимостей заказов"
   ]
  },
  {
   "cell_type": "code",
   "execution_count": 45,
   "metadata": {},
   "outputs": [
    {
     "data": {
      "image/png": "[encoded data removed]",
      "text/plain": [
       "<Figure size 1152x432 with 1 Axes>"
      ]
     },
     "metadata": {},
     "output_type": "display_data"
    }
   ],
   "source": [
    "# График стоимости заказов\n",
    "fig, ax = plt.subplots(figsize=(16, 6))\n",
    "x_values = pd.Series(range(0,len(orders['revenue'])))\n",
    "sns.scatterplot(data=orders, x=x_values, y='revenue', s=40, color='m', edgecolor=\"skyblue\", linewidth=1)\n",
    "plt.title('Стоимость заказов')\n",
    "plt.xlabel('пользователи')\n",
    "plt.ylabel('стоимость заказа')\n",
    "ax.set_yticks(np.arange(0, 1400000, 100000))\n",
    "locs, labels = plt.xticks()\n",
    "plt.setp(labels, rotation=45)\n",
    "plt.show()"
   ]
  },
  {
   "cell_type": "markdown",
   "metadata": {},
   "source": [
    "**Стоимость заказов абсолютного большинства пользователей не превышает 50000, присутствуют аномально дорогие заказы в 100000 и 13000000**"
   ]
  },
  {
   "cell_type": "markdown",
   "metadata": {},
   "source": [
    "### 95-й и 99-й перцентили стоимости заказов"
   ]
  },
  {
   "cell_type": "code",
   "execution_count": 46,
   "metadata": {},
   "outputs": [
    {
     "name": "stdout",
     "output_type": "stream",
     "text": [
      "Количество заказов у 95% пользователей 26785\n",
      "Количество заказов у 99% пользователей 53904\n"
     ]
    }
   ],
   "source": [
    "# 95 и 99 персентили по заказам\n",
    "print('Количество заказов у 95% пользователей',round(np.percentile(orders['revenue'], 95)))\n",
    "print('Количество заказов у 99% пользователей',round(np.percentile(orders['revenue'], 99)))\n",
    "# Установка границы аномалий по выручке на уровне 95 персентиля\n",
    "revenue_outliers_limit = round(np.percentile(orders['revenue'], 95))"
   ]
  },
  {
   "cell_type": "markdown",
   "metadata": {},
   "source": [
    "**Аномальные заказы - более 26785**"
   ]
  },
  {
   "cell_type": "markdown",
   "metadata": {},
   "source": [
    "### Cтатистическая значимость различий в конверсии между группами по «сырым» данным"
   ]
  },
  {
   "cell_type": "code",
   "execution_count": 47,
   "metadata": {},
   "outputs": [],
   "source": [
    "# Расчет количества заказов по пользователям групп А и B\n",
    "orders_by_users_a = orders[orders['group']=='A'].groupby('visitorid', as_index=False).agg({'transactionid':'nunique'})\n",
    "orders_by_users_a.columns = ['visitorid', 'orders']\n",
    "orders_by_users_b = orders[orders['group']=='B'].groupby('visitorid', as_index=False).agg({'transactionid':'nunique'})\n",
    "orders_by_users_b.columns = ['visitorid', 'orders']"
   ]
  },
  {
   "cell_type": "code",
   "execution_count": 48,
   "metadata": {},
   "outputs": [],
   "source": [
    "# Объединение числа заказов определенного пользователя группы А с ничего не купившими (значение 0 в кол-ве заказов) группы А\n",
    "sample_a = pd.concat(\n",
    "    [orders_by_users_a['orders'],pd.Series(\n",
    "        0, index=np.arange((\n",
    "            visitors[visitors['group']=='A']['visitors'].sum()) - len(orders_by_users_a)), name='orders')],axis=0)"
   ]
  },
  {
   "cell_type": "code",
   "execution_count": 49,
   "metadata": {},
   "outputs": [],
   "source": [
    "# Объединение числа заказов определенного пользователя группы B с ничего не купившими (значение 0 в кол-ве заказов) группы B\n",
    "sample_b = pd.concat(\n",
    "    [orders_by_users_b['orders'],pd.Series(\n",
    "        0, index=np.arange((\n",
    "            visitors[visitors['group']=='B']['visitors'].sum()) - len(orders_by_users_b)), name='orders')],axis=0)"
   ]
  },
  {
   "cell_type": "markdown",
   "metadata": {},
   "source": [
    "Постановка гипотез:\n",
    "\n",
    "<br>**$Ho$**  - конверсии по сырым между данным группами А и B не различаются.\n",
    "<br>**$H1$**  - конверсии по сырым данным между группами А и B различаются\n",
    "\n",
    "Уровень значимости = 0.05"
   ]
  },
  {
   "cell_type": "code",
   "execution_count": 50,
   "metadata": {},
   "outputs": [
    {
     "name": "stdout",
     "output_type": "stream",
     "text": [
      "Относительный прирост конверсии группы B по отношению к группе A: 0.205\n",
      "P-value: 0.0017678780799989383\n",
      "Необходимо отвергуть нулевую гипотезу\n"
     ]
    }
   ],
   "source": [
    "# Проверка гипотез тестом Манна-Уитни\n",
    "print('Относительный прирост конверсии группы B по отношению к группе A: {:.3f}'.format(sample_b.mean() / sample_a.mean()-1))\n",
    "alpha = 0.05\n",
    "results = stats.mannwhitneyu(sample_a, sample_b, alternative = 'two-sided')\n",
    "print('P-value: {}'.format(results.pvalue))\n",
    "if results.pvalue < alpha:\n",
    "    print('Необходимо отвергуть нулевую гипотезу')\n",
    "else:\n",
    "    print('Не нужно отвергать нулевую гипотезу')"
   ]
  },
  {
   "cell_type": "markdown",
   "metadata": {},
   "source": [
    "**При уровне значимости в 5% разница тест на \"сырых\" показал статистическую значимость разницы между конверсиями. Если ужесточить уровень значимости до 1% то результат - пограничный. Необходимо проверить конверсии на данных очищенных от аномальных значений.**"
   ]
  },
  {
   "cell_type": "markdown",
   "metadata": {},
   "source": [
    "### Cтатистическая значимость различий в среднем чеке заказа между группами по «сырым» данным"
   ]
  },
  {
   "cell_type": "markdown",
   "metadata": {},
   "source": [
    "Постановка гипотез:\n",
    "\n",
    "\n",
    "<br>**𝐻𝑜**  - средние чеки по сырым между данным между группами А и B не различаются.\n",
    "<br>**𝐻1**  - средние чеки по сырым между данным между группами А и B различаются\n",
    "\n",
    "Уровень значимости = 0.05"
   ]
  },
  {
   "cell_type": "code",
   "execution_count": 51,
   "metadata": {},
   "outputs": [
    {
     "name": "stdout",
     "output_type": "stream",
     "text": [
      "Относительное изменение среднего чека в группе B по отношению группы A по сырым данным: 0.287\n",
      "P-value: 0.8294908998149533\n",
      "Не нужно отвергать нулевую гипотезу\n"
     ]
    }
   ],
   "source": [
    "# Проверка гипотез тестом Манна-Уитни\n",
    "print('Относительное изменение среднего чека в группе B по отношению группы A по сырым данным: {:.3f}'.format(\n",
    "orders[orders['group']=='B']['revenue'].mean() / orders[orders['group']=='A']['revenue'].mean()-1))\n",
    "results = stats.mannwhitneyu(\n",
    "    orders[orders['group']=='A']['revenue'], orders[orders['group']=='B']['revenue'], alternative = 'two-sided')\n",
    "print('P-value: {}'.format(results.pvalue))\n",
    "if results.pvalue < alpha:\n",
    "    print('Необходимо отвергуть нулевую гипотезу')\n",
    "else:\n",
    "    print('Не нужно отвергать нулевую гипотезу')"
   ]
  },
  {
   "cell_type": "markdown",
   "metadata": {},
   "source": [
    "**Статистическая разница в средних чеках между группами А и B не подтвердилась, хотя отноистельно группы А средний чек группы B показал довольно большую разницу, различаясь более чем на четверть.**"
   ]
  },
  {
   "cell_type": "markdown",
   "metadata": {},
   "source": [
    "### Cтатистическая значимость различий в конверсии между группами по «очищенным» данным"
   ]
  },
  {
   "cell_type": "code",
   "execution_count": 52,
   "metadata": {},
   "outputs": [
    {
     "name": "stdout",
     "output_type": "stream",
     "text": [
      "Кол-во аномальных пользователей: 86\n"
     ]
    }
   ],
   "source": [
    "# Очистка данных от аномальных значений в соответствии со значениями 95 персентиля\n",
    "users_with_many_orders = pd.concat([orders_by_users_a[orders_by_users_a['orders'] > order_outliers_limit]['visitorid'], \n",
    "                                orders_by_users_b[orders_by_users_b['orders'] > order_outliers_limit]['visitorid']], axis = 0)\n",
    "users_with_expensive_orders = orders[orders['revenue'] > revenue_outliers_limit]['visitorid']\n",
    "\n",
    "# Общее количество аномальных пользователей\n",
    "abnormal_users = pd.concat([users_with_many_orders, users_with_expensive_orders], axis = 0).drop_duplicates().sort_values()\n",
    "print('Кол-во аномальных пользователей: {}'.format(len(abnormal_users)))"
   ]
  },
  {
   "cell_type": "code",
   "execution_count": 53,
   "metadata": {},
   "outputs": [],
   "source": [
    "# Фильтр группы А включая 0 продажи\n",
    "sample_a_filtered = pd.concat([\n",
    "    orders_by_users_a[np.logical_not(orders_by_users_a['visitorid'].isin(abnormal_users))]['orders'],\n",
    "    pd.Series(0, index=np.arange(visitors[visitors['group']=='A']['visitors'].sum()-len(orders_by_users_a)), name='orders',)\n",
    "], axis = 0)\n",
    "# Фильтр группы B включая 0 продажи\n",
    "sample_b_filtered = pd.concat([\n",
    "    orders_by_users_b[np.logical_not(orders_by_users_b['visitorid'].isin(abnormal_users))]['orders'],\n",
    "    pd.Series(0, index=np.arange(visitors[visitors['group']=='B']['visitors'].sum()-len(orders_by_users_b)),name='orders',)\n",
    "], axis = 0)"
   ]
  },
  {
   "cell_type": "markdown",
   "metadata": {},
   "source": [
    "Постановка гипотез:\n",
    "\n",
    "<br>**$Ho$**  - конверсии по очищенным между данным группами А и B не различаются.\n",
    "<br>**$H1$**  - конверсии по очищенным данным между группами А и B различаются\n",
    "\n",
    "Уровень значимости = 0.05"
   ]
  },
  {
   "cell_type": "code",
   "execution_count": 54,
   "metadata": {},
   "outputs": [
    {
     "name": "stdout",
     "output_type": "stream",
     "text": [
      "\n",
      "Относительный прирост конверсии группы B по отношению к группе A после очистки данных: 0.220\n",
      "P-value: 0.0030252564574518516\n",
      "Необходимо отвергуть нулевую гипотезу\n"
     ]
    }
   ],
   "source": [
    "# Расчет относительной конверсии\n",
    "print('\\nОтносительный прирост конверсии группы B по отношению к группе A после очистки данных: {:.3f}'.format(\n",
    "    sample_b_filtered.mean() / sample_a_filtered.mean()-1))\n",
    "\n",
    "# Тест Манна-Уитни\n",
    "results = stats.mannwhitneyu(sample_a_filtered, sample_b_filtered, alternative = 'two-sided')\n",
    "print('P-value: {}'.format(results.pvalue))\n",
    "if results.pvalue < alpha:\n",
    "    print('Необходимо отвергуть нулевую гипотезу')\n",
    "else:\n",
    "    print('Не нужно отвергать нулевую гипотезу')"
   ]
  },
  {
   "cell_type": "markdown",
   "metadata": {},
   "source": [
    "**Тест на данных очищенных от аномальных занчений показал более уверенную статистическую разницу, даже если ужесточить уровень значимости до 1%, соответственно статистически конверсии двух групп различаются.**"
   ]
  },
  {
   "cell_type": "markdown",
   "metadata": {},
   "source": [
    "### Cтатистическая значимость различий в среднем чеке заказа между группами по «очищенным» данным"
   ]
  },
  {
   "cell_type": "markdown",
   "metadata": {},
   "source": [
    "Постановка гипотез:\n",
    "\n",
    "\n",
    "<br>**𝐻𝑜**  - средние чеки по очищенным между данным между группами А и B не различаются.\n",
    "<br>**𝐻1**  - средние чеки по очищенным между данным между группами А и B различаются\n",
    "\n",
    "Уровень значимости = 0.05"
   ]
  },
  {
   "cell_type": "code",
   "execution_count": 55,
   "metadata": {},
   "outputs": [
    {
     "name": "stdout",
     "output_type": "stream",
     "text": [
      "Относительное изменение среднего чека в группе B по отношению группы A по очищенным данным: -0.034\n"
     ]
    }
   ],
   "source": [
    "# Расчет относительного изменения среднего чека\n",
    "print('Относительное изменение среднего чека в группе B по отношению группы A по очищенным данным: {:.3f}'.format(\n",
    "orders[np.logical_and(orders['group']=='B', np.logical_not(orders['visitorid'].isin(abnormal_users)))]['revenue'].mean()\\\n",
    "/ orders[np.logical_and(orders['group']=='A', np.logical_not(orders['visitorid'].isin(abnormal_users)))]['revenue'].mean()-1))"
   ]
  },
  {
   "cell_type": "code",
   "execution_count": 56,
   "metadata": {},
   "outputs": [
    {
     "name": "stdout",
     "output_type": "stream",
     "text": [
      "P-value: 0.7271286894009963\n",
      "Не нужно отвергать нулевую гипотезу\n"
     ]
    }
   ],
   "source": [
    "# Тест Манна_Уитни\n",
    "results = stats.mannwhitneyu(\n",
    "    orders[np.logical_and(orders['group']=='A', np.logical_not(orders['visitorid'].isin(abnormal_users)))]['revenue'],\n",
    "    orders[np.logical_and(orders['group']=='B', np.logical_not(orders['visitorid'].isin(abnormal_users)))]['revenue'],\n",
    "alternative = 'two-sided')\n",
    "print('P-value: {}'.format(results.pvalue))\n",
    "if results.pvalue < alpha:\n",
    "    print('Необходимо отвергуть нулевую гипотезу')\n",
    "else:\n",
    "    print('Не нужно отвергать нулевую гипотезу')"
   ]
  },
  {
   "cell_type": "markdown",
   "metadata": {},
   "source": [
    "**Относительная разница между средними чеками двух групп по данным очищенных от аномалий сократилась с 28% до -3%, группа B утратила весь свой выигрыш, статистическую разницу не удалось подтвердить.**"
   ]
  },
  {
   "cell_type": "code",
   "execution_count": 57,
   "metadata": {},
   "outputs": [
    {
     "name": "stdout",
     "output_type": "stream",
     "text": [
      "Выручка по группе А 3364656\n",
      "Выручка по группе B 5068972\n",
      "Прирост выручки группы B в % 50.65\n"
     ]
    }
   ],
   "source": [
    "# Итог по выручке групп\n",
    "print('Выручка по группе А',orders.query('group == \"A\"')['revenue'].sum())\n",
    "print('Выручка по группе B',orders.query('group == \"B\"')['revenue'].sum())\n",
    "print('Прирост выручки группы B в %', round(\n",
    "    ((orders.query('group == \"B\"')['revenue'].sum()*100) / orders.query('group == \"A\"')['revenue'].sum() - 100),2))"
   ]
  },
  {
   "cell_type": "markdown",
   "metadata": {},
   "source": [
    "## Общий вывод"
   ]
  },
  {
   "cell_type": "markdown",
   "metadata": {},
   "source": [
    "**Кумулятивный средний чек группы B стабильно опережает группу A с 16 августа, кумулятивная конверсия группы B опережает группу А с 10 августа**\n",
    "\n",
    "<br>**Относительные изменения кумулятивной конверсии и среднего чека показывают скачки и падения, но со второй половины месяца, показывают большую эффективность группы B.**\n",
    "\n",
    "<br>**Статистическая значимость различия конверсий показывает более уверенную значимость на данных очищенных от аномалий, лимитированных значениями, не более 1 покупки и с суммой покупки не более 26785. Клиентов с покупками более 1 или суммой более 26785 не более 5%.**\n",
    "\n",
    "<br>**Хотя по относительной разнице средних чеков группа B скорее ниже группы А и тест не позволил опровергнуть отсутствие разницы по этому показателю,  относительная конверсия группы B выше группы А на 22%, прирост выручки группы B - 50%  (5068972 против 3364656 соответственно). Можно сделать вывод что в результате теста группа B увеличила конверсию, что привело к увеличению выручки в половину, значит тест можно считать успешно завершенным победой группы B.**\n",
    "\n",
    "**РЕКОМЕНДАЦИИ**\n",
    "\n",
    "В результате проверки заказов оказалось что пять покупателей покупали одновременно в обоих группах А и B что могло привести к искажению результатов теста. Необходимо технически обеспечить исключение попадания одного и того же id покупателя в обе группы при проведении A/B тестов.\n"
   ]
  }
 ],
 "metadata": {
  "ExecuteTimeLog": [
   {
    "duration": 1436,
    "start_time": "2021-06-28T02:28:59.510Z"
   },
   {
    "duration": 70,
    "start_time": "2021-06-28T02:31:04.104Z"
   },
   {
    "duration": 16,
    "start_time": "2021-06-28T02:31:10.856Z"
   },
   {
    "duration": 6,
    "start_time": "2021-06-28T02:31:57.680Z"
   },
   {
    "duration": 5,
    "start_time": "2021-06-28T02:34:15.554Z"
   },
   {
    "duration": 4,
    "start_time": "2021-06-28T02:34:16.416Z"
   },
   {
    "duration": 82,
    "start_time": "2021-06-28T02:34:17.312Z"
   },
   {
    "duration": 12,
    "start_time": "2021-06-28T02:34:18.208Z"
   },
   {
    "duration": 5,
    "start_time": "2021-06-28T02:43:24.724Z"
   },
   {
    "duration": 57,
    "start_time": "2021-06-28T02:44:09.648Z"
   },
   {
    "duration": 387,
    "start_time": "2021-06-28T02:44:44.033Z"
   },
   {
    "duration": 4,
    "start_time": "2021-06-28T02:44:59.702Z"
   },
   {
    "duration": 11,
    "start_time": "2021-06-28T02:44:59.709Z"
   },
   {
    "duration": 355,
    "start_time": "2021-06-28T02:44:59.723Z"
   },
   {
    "duration": 5,
    "start_time": "2021-06-28T02:45:00.080Z"
   },
   {
    "duration": 75,
    "start_time": "2021-06-28T02:45:00.087Z"
   },
   {
    "duration": 59,
    "start_time": "2021-06-28T02:45:00.164Z"
   },
   {
    "duration": 11,
    "start_time": "2021-06-28T02:45:00.254Z"
   },
   {
    "duration": 4,
    "start_time": "2021-06-28T02:47:21.964Z"
   },
   {
    "duration": 9,
    "start_time": "2021-06-28T02:47:21.971Z"
   },
   {
    "duration": 137,
    "start_time": "2021-06-28T02:47:21.983Z"
   },
   {
    "duration": 5,
    "start_time": "2021-06-28T02:47:22.123Z"
   },
   {
    "duration": 59,
    "start_time": "2021-06-28T02:47:22.130Z"
   },
   {
    "duration": 85,
    "start_time": "2021-06-28T02:47:22.191Z"
   },
   {
    "duration": 11,
    "start_time": "2021-06-28T02:47:22.279Z"
   },
   {
    "duration": 48,
    "start_time": "2021-06-28T02:50:13.777Z"
   },
   {
    "duration": 6,
    "start_time": "2021-06-28T02:54:41.953Z"
   },
   {
    "duration": 6,
    "start_time": "2021-06-28T02:54:42.897Z"
   },
   {
    "duration": 999,
    "start_time": "2021-06-28T02:55:11.752Z"
   },
   {
    "duration": 187,
    "start_time": "2021-06-28T02:55:20.468Z"
   },
   {
    "duration": 6,
    "start_time": "2021-06-28T02:56:15.441Z"
   },
   {
    "duration": 6,
    "start_time": "2021-06-28T02:56:16.297Z"
   },
   {
    "duration": 16,
    "start_time": "2021-06-28T02:56:18.171Z"
   },
   {
    "duration": 6,
    "start_time": "2021-06-28T02:56:57.442Z"
   },
   {
    "duration": 5,
    "start_time": "2021-06-28T02:57:07.255Z"
   },
   {
    "duration": 16,
    "start_time": "2021-06-28T02:57:07.262Z"
   },
   {
    "duration": 168,
    "start_time": "2021-06-28T02:57:07.281Z"
   },
   {
    "duration": 4,
    "start_time": "2021-06-28T02:57:07.452Z"
   },
   {
    "duration": 72,
    "start_time": "2021-06-28T02:57:07.458Z"
   },
   {
    "duration": 77,
    "start_time": "2021-06-28T02:57:07.532Z"
   },
   {
    "duration": 74,
    "start_time": "2021-06-28T02:57:07.612Z"
   },
   {
    "duration": 6,
    "start_time": "2021-06-28T02:57:07.689Z"
   },
   {
    "duration": 23,
    "start_time": "2021-06-28T02:57:07.698Z"
   },
   {
    "duration": 221,
    "start_time": "2021-06-28T02:57:07.724Z"
   },
   {
    "duration": 10,
    "start_time": "2021-06-28T02:57:07.947Z"
   },
   {
    "duration": 12,
    "start_time": "2021-06-28T02:57:07.959Z"
   },
   {
    "duration": 25,
    "start_time": "2021-06-28T02:57:07.974Z"
   },
   {
    "duration": 25,
    "start_time": "2021-06-28T02:57:08.002Z"
   },
   {
    "duration": 4,
    "start_time": "2021-06-28T02:58:54.499Z"
   },
   {
    "duration": 12,
    "start_time": "2021-06-28T02:58:54.506Z"
   },
   {
    "duration": 141,
    "start_time": "2021-06-28T02:58:54.521Z"
   },
   {
    "duration": 4,
    "start_time": "2021-06-28T02:58:54.665Z"
   },
   {
    "duration": 54,
    "start_time": "2021-06-28T02:58:54.672Z"
   },
   {
    "duration": 80,
    "start_time": "2021-06-28T02:58:54.728Z"
   },
   {
    "duration": 78,
    "start_time": "2021-06-28T02:58:54.810Z"
   },
   {
    "duration": 6,
    "start_time": "2021-06-28T02:58:54.891Z"
   },
   {
    "duration": 223,
    "start_time": "2021-06-28T02:58:54.900Z"
   },
   {
    "duration": 6,
    "start_time": "2021-06-28T02:58:55.126Z"
   },
   {
    "duration": 30,
    "start_time": "2021-06-28T02:58:55.134Z"
   },
   {
    "duration": 28,
    "start_time": "2021-06-28T02:58:55.167Z"
   },
   {
    "duration": 5,
    "start_time": "2021-06-28T02:59:43.109Z"
   },
   {
    "duration": 5,
    "start_time": "2021-06-28T02:59:43.117Z"
   },
   {
    "duration": 150,
    "start_time": "2021-06-28T02:59:43.125Z"
   },
   {
    "duration": 4,
    "start_time": "2021-06-28T02:59:43.278Z"
   },
   {
    "duration": 69,
    "start_time": "2021-06-28T02:59:43.284Z"
   },
   {
    "duration": 54,
    "start_time": "2021-06-28T02:59:43.355Z"
   },
   {
    "duration": 77,
    "start_time": "2021-06-28T02:59:43.411Z"
   },
   {
    "duration": 5,
    "start_time": "2021-06-28T02:59:43.491Z"
   },
   {
    "duration": 216,
    "start_time": "2021-06-28T02:59:43.499Z"
   },
   {
    "duration": 6,
    "start_time": "2021-06-28T02:59:43.718Z"
   },
   {
    "duration": 31,
    "start_time": "2021-06-28T02:59:43.726Z"
   },
   {
    "duration": 14,
    "start_time": "2021-06-28T02:59:43.760Z"
   },
   {
    "duration": 4,
    "start_time": "2021-06-28T03:02:26.231Z"
   },
   {
    "duration": 7,
    "start_time": "2021-06-28T03:02:26.237Z"
   },
   {
    "duration": 142,
    "start_time": "2021-06-28T03:02:26.247Z"
   },
   {
    "duration": 5,
    "start_time": "2021-06-28T03:02:26.393Z"
   },
   {
    "duration": 61,
    "start_time": "2021-06-28T03:02:26.402Z"
   },
   {
    "duration": 95,
    "start_time": "2021-06-28T03:02:26.467Z"
   },
   {
    "duration": 89,
    "start_time": "2021-06-28T03:02:26.565Z"
   },
   {
    "duration": 6,
    "start_time": "2021-06-28T03:02:26.659Z"
   },
   {
    "duration": 213,
    "start_time": "2021-06-28T03:02:26.669Z"
   },
   {
    "duration": 7,
    "start_time": "2021-06-28T03:02:26.885Z"
   },
   {
    "duration": 18,
    "start_time": "2021-06-28T03:02:26.895Z"
   },
   {
    "duration": 47,
    "start_time": "2021-06-28T03:02:26.916Z"
   },
   {
    "duration": 6127,
    "start_time": "2021-06-28T03:13:52.546Z"
   },
   {
    "duration": 7,
    "start_time": "2021-06-28T03:14:01.521Z"
   },
   {
    "duration": 101,
    "start_time": "2021-06-28T03:14:31.964Z"
   },
   {
    "duration": 92,
    "start_time": "2021-06-28T03:14:41.585Z"
   },
   {
    "duration": 95,
    "start_time": "2021-06-28T03:15:55.249Z"
   },
   {
    "duration": 253,
    "start_time": "2021-06-28T03:16:01.433Z"
   },
   {
    "duration": 275,
    "start_time": "2021-06-28T03:16:10.457Z"
   },
   {
    "duration": 5,
    "start_time": "2021-06-28T03:17:45.947Z"
   },
   {
    "duration": 6,
    "start_time": "2021-06-28T03:17:45.955Z"
   },
   {
    "duration": 163,
    "start_time": "2021-06-28T03:17:45.965Z"
   },
   {
    "duration": 5,
    "start_time": "2021-06-28T03:17:46.131Z"
   },
   {
    "duration": 69,
    "start_time": "2021-06-28T03:17:46.139Z"
   },
   {
    "duration": 86,
    "start_time": "2021-06-28T03:17:46.210Z"
   },
   {
    "duration": 76,
    "start_time": "2021-06-28T03:17:46.299Z"
   },
   {
    "duration": 6,
    "start_time": "2021-06-28T03:17:46.378Z"
   },
   {
    "duration": 1167,
    "start_time": "2021-06-28T03:17:46.388Z"
   },
   {
    "duration": -1417,
    "start_time": "2021-06-28T03:17:48.974Z"
   },
   {
    "duration": -1419,
    "start_time": "2021-06-28T03:17:48.978Z"
   },
   {
    "duration": -1420,
    "start_time": "2021-06-28T03:17:48.980Z"
   },
   {
    "duration": -1420,
    "start_time": "2021-06-28T03:17:48.981Z"
   },
   {
    "duration": 5,
    "start_time": "2021-06-28T03:18:20.717Z"
   },
   {
    "duration": 11,
    "start_time": "2021-06-28T03:18:20.725Z"
   },
   {
    "duration": 149,
    "start_time": "2021-06-28T03:18:20.739Z"
   },
   {
    "duration": 6,
    "start_time": "2021-06-28T03:18:20.891Z"
   },
   {
    "duration": 60,
    "start_time": "2021-06-28T03:18:20.900Z"
   },
   {
    "duration": 56,
    "start_time": "2021-06-28T03:18:20.963Z"
   },
   {
    "duration": 44,
    "start_time": "2021-06-28T03:18:21.056Z"
   },
   {
    "duration": 6,
    "start_time": "2021-06-28T03:18:21.102Z"
   },
   {
    "duration": 57,
    "start_time": "2021-06-28T03:18:21.111Z"
   },
   {
    "duration": 11,
    "start_time": "2021-06-28T03:18:21.171Z"
   },
   {
    "duration": 9,
    "start_time": "2021-06-28T03:18:21.184Z"
   },
   {
    "duration": 18,
    "start_time": "2021-06-28T03:18:21.195Z"
   },
   {
    "duration": 8,
    "start_time": "2021-06-28T03:18:21.216Z"
   },
   {
    "duration": 10,
    "start_time": "2021-06-28T03:25:33.489Z"
   },
   {
    "duration": 12,
    "start_time": "2021-06-28T03:25:43.099Z"
   },
   {
    "duration": 6,
    "start_time": "2021-06-28T03:31:04.946Z"
   },
   {
    "duration": 9,
    "start_time": "2021-06-28T03:31:04.956Z"
   },
   {
    "duration": 193,
    "start_time": "2021-06-28T03:31:04.969Z"
   },
   {
    "duration": 5,
    "start_time": "2021-06-28T03:31:05.165Z"
   },
   {
    "duration": 56,
    "start_time": "2021-06-28T03:31:05.172Z"
   },
   {
    "duration": 76,
    "start_time": "2021-06-28T03:31:05.230Z"
   },
   {
    "duration": 77,
    "start_time": "2021-06-28T03:31:05.308Z"
   },
   {
    "duration": 6,
    "start_time": "2021-06-28T03:31:05.388Z"
   },
   {
    "duration": 21,
    "start_time": "2021-06-28T03:31:05.398Z"
   },
   {
    "duration": 34,
    "start_time": "2021-06-28T03:31:05.422Z"
   },
   {
    "duration": 11,
    "start_time": "2021-06-28T03:31:05.459Z"
   },
   {
    "duration": 28,
    "start_time": "2021-06-28T03:31:05.472Z"
   },
   {
    "duration": 264,
    "start_time": "2021-06-28T03:31:05.502Z"
   },
   {
    "duration": -1315,
    "start_time": "2021-06-28T03:31:07.084Z"
   },
   {
    "duration": 257,
    "start_time": "2021-06-28T03:31:37.441Z"
   },
   {
    "duration": 257,
    "start_time": "2021-06-28T03:32:45.065Z"
   },
   {
    "duration": 250,
    "start_time": "2021-06-28T03:32:52.506Z"
   },
   {
    "duration": 275,
    "start_time": "2021-06-28T03:33:53.115Z"
   },
   {
    "duration": 5,
    "start_time": "2021-06-28T03:34:41.459Z"
   },
   {
    "duration": 7,
    "start_time": "2021-06-28T03:34:41.466Z"
   },
   {
    "duration": 144,
    "start_time": "2021-06-28T03:34:41.476Z"
   },
   {
    "duration": 5,
    "start_time": "2021-06-28T03:34:41.623Z"
   },
   {
    "duration": 56,
    "start_time": "2021-06-28T03:34:41.631Z"
   },
   {
    "duration": 84,
    "start_time": "2021-06-28T03:34:41.689Z"
   },
   {
    "duration": 44,
    "start_time": "2021-06-28T03:34:41.776Z"
   },
   {
    "duration": 6,
    "start_time": "2021-06-28T03:34:41.855Z"
   },
   {
    "duration": 27,
    "start_time": "2021-06-28T03:34:41.863Z"
   },
   {
    "duration": 15,
    "start_time": "2021-06-28T03:34:41.893Z"
   },
   {
    "duration": 20,
    "start_time": "2021-06-28T03:34:41.911Z"
   },
   {
    "duration": 28,
    "start_time": "2021-06-28T03:34:41.934Z"
   },
   {
    "duration": 17,
    "start_time": "2021-06-28T03:34:41.964Z"
   },
   {
    "duration": 21,
    "start_time": "2021-06-28T03:34:41.983Z"
   },
   {
    "duration": 828,
    "start_time": "2021-06-28T03:36:59.465Z"
   },
   {
    "duration": 6,
    "start_time": "2021-06-28T03:37:04.527Z"
   },
   {
    "duration": 6,
    "start_time": "2021-06-28T03:37:04.537Z"
   },
   {
    "duration": 145,
    "start_time": "2021-06-28T03:37:04.548Z"
   },
   {
    "duration": 5,
    "start_time": "2021-06-28T03:37:04.695Z"
   },
   {
    "duration": 60,
    "start_time": "2021-06-28T03:37:04.702Z"
   },
   {
    "duration": 58,
    "start_time": "2021-06-28T03:37:04.765Z"
   },
   {
    "duration": 46,
    "start_time": "2021-06-28T03:37:04.856Z"
   },
   {
    "duration": 5,
    "start_time": "2021-06-28T03:37:04.905Z"
   },
   {
    "duration": 19,
    "start_time": "2021-06-28T03:37:04.954Z"
   },
   {
    "duration": 10,
    "start_time": "2021-06-28T03:37:04.975Z"
   },
   {
    "duration": 15,
    "start_time": "2021-06-28T03:37:04.988Z"
   },
   {
    "duration": 18,
    "start_time": "2021-06-28T03:37:05.006Z"
   },
   {
    "duration": 38,
    "start_time": "2021-06-28T03:37:05.027Z"
   },
   {
    "duration": 64,
    "start_time": "2021-06-28T03:37:05.068Z"
   },
   {
    "duration": 40,
    "start_time": "2021-06-28T03:38:11.946Z"
   },
   {
    "duration": 6,
    "start_time": "2021-06-28T03:38:18.298Z"
   },
   {
    "duration": 10,
    "start_time": "2021-06-28T03:38:18.307Z"
   },
   {
    "duration": 140,
    "start_time": "2021-06-28T03:38:18.320Z"
   },
   {
    "duration": 5,
    "start_time": "2021-06-28T03:38:18.462Z"
   },
   {
    "duration": 85,
    "start_time": "2021-06-28T03:38:18.470Z"
   },
   {
    "duration": 59,
    "start_time": "2021-06-28T03:38:18.557Z"
   },
   {
    "duration": 76,
    "start_time": "2021-06-28T03:38:18.619Z"
   },
   {
    "duration": 7,
    "start_time": "2021-06-28T03:38:18.697Z"
   },
   {
    "duration": 60,
    "start_time": "2021-06-28T03:38:18.708Z"
   },
   {
    "duration": 6,
    "start_time": "2021-06-28T03:38:18.771Z"
   },
   {
    "duration": 7,
    "start_time": "2021-06-28T03:38:18.780Z"
   },
   {
    "duration": 75,
    "start_time": "2021-06-28T03:38:18.790Z"
   },
   {
    "duration": 5,
    "start_time": "2021-06-28T03:38:18.868Z"
   },
   {
    "duration": 14,
    "start_time": "2021-06-28T03:38:18.876Z"
   },
   {
    "duration": 257,
    "start_time": "2021-06-28T03:39:20.449Z"
   },
   {
    "duration": 264,
    "start_time": "2021-06-28T03:39:28.177Z"
   },
   {
    "duration": 258,
    "start_time": "2021-06-28T03:39:42.345Z"
   },
   {
    "duration": 13,
    "start_time": "2021-06-28T03:40:20.458Z"
   },
   {
    "duration": 259,
    "start_time": "2021-06-28T03:46:28.265Z"
   },
   {
    "duration": 263,
    "start_time": "2021-06-28T03:47:06.669Z"
   },
   {
    "duration": 4,
    "start_time": "2021-06-28T03:47:39.038Z"
   },
   {
    "duration": 43,
    "start_time": "2021-06-28T03:48:06.570Z"
   },
   {
    "duration": 5,
    "start_time": "2021-06-28T03:48:16.640Z"
   },
   {
    "duration": 11,
    "start_time": "2021-06-28T03:48:16.648Z"
   },
   {
    "duration": 267,
    "start_time": "2021-06-28T03:48:16.662Z"
   },
   {
    "duration": 5,
    "start_time": "2021-06-28T03:48:16.932Z"
   },
   {
    "duration": 61,
    "start_time": "2021-06-28T03:48:16.940Z"
   },
   {
    "duration": 80,
    "start_time": "2021-06-28T03:48:17.004Z"
   },
   {
    "duration": 74,
    "start_time": "2021-06-28T03:48:17.087Z"
   },
   {
    "duration": 6,
    "start_time": "2021-06-28T03:48:17.163Z"
   },
   {
    "duration": 21,
    "start_time": "2021-06-28T03:48:17.173Z"
   },
   {
    "duration": 5,
    "start_time": "2021-06-28T03:48:17.197Z"
   },
   {
    "duration": 9,
    "start_time": "2021-06-28T03:48:17.205Z"
   },
   {
    "duration": 66,
    "start_time": "2021-06-28T03:48:17.217Z"
   },
   {
    "duration": 5,
    "start_time": "2021-06-28T03:48:17.285Z"
   },
   {
    "duration": 17,
    "start_time": "2021-06-28T03:48:17.292Z"
   },
   {
    "duration": 98,
    "start_time": "2021-06-28T03:48:40.581Z"
   },
   {
    "duration": 293,
    "start_time": "2021-06-28T03:48:46.805Z"
   },
   {
    "duration": 21,
    "start_time": "2021-06-28T03:49:05.348Z"
   },
   {
    "duration": 6,
    "start_time": "2021-06-28T03:50:28.804Z"
   },
   {
    "duration": 26,
    "start_time": "2021-06-28T03:50:50.757Z"
   },
   {
    "duration": 26,
    "start_time": "2021-06-28T03:52:30.224Z"
   },
   {
    "duration": 26,
    "start_time": "2021-06-28T03:53:29.716Z"
   },
   {
    "duration": 26,
    "start_time": "2021-06-28T03:54:01.229Z"
   },
   {
    "duration": 5,
    "start_time": "2021-06-28T03:54:04.642Z"
   },
   {
    "duration": 17,
    "start_time": "2021-06-28T03:54:04.650Z"
   },
   {
    "duration": 151,
    "start_time": "2021-06-28T03:54:04.670Z"
   },
   {
    "duration": 5,
    "start_time": "2021-06-28T03:54:04.824Z"
   },
   {
    "duration": 66,
    "start_time": "2021-06-28T03:54:04.832Z"
   },
   {
    "duration": 86,
    "start_time": "2021-06-28T03:54:04.900Z"
   },
   {
    "duration": 75,
    "start_time": "2021-06-28T03:54:04.988Z"
   },
   {
    "duration": 6,
    "start_time": "2021-06-28T03:54:05.065Z"
   },
   {
    "duration": 25,
    "start_time": "2021-06-28T03:54:05.075Z"
   },
   {
    "duration": 6,
    "start_time": "2021-06-28T03:54:05.103Z"
   },
   {
    "duration": 45,
    "start_time": "2021-06-28T03:54:05.112Z"
   },
   {
    "duration": 44,
    "start_time": "2021-06-28T03:54:05.160Z"
   },
   {
    "duration": 9,
    "start_time": "2021-06-28T03:54:05.207Z"
   },
   {
    "duration": 39,
    "start_time": "2021-06-28T03:54:05.218Z"
   },
   {
    "duration": 27,
    "start_time": "2021-06-28T03:54:05.259Z"
   },
   {
    "duration": 37,
    "start_time": "2021-06-28T03:55:02.973Z"
   },
   {
    "duration": 26,
    "start_time": "2021-06-28T03:56:12.846Z"
   },
   {
    "duration": 73,
    "start_time": "2021-06-28T03:56:44.492Z"
   },
   {
    "duration": 36,
    "start_time": "2021-06-28T03:57:43.973Z"
   },
   {
    "duration": 32,
    "start_time": "2021-06-28T03:59:57.349Z"
   },
   {
    "duration": 30,
    "start_time": "2021-06-28T04:02:01.366Z"
   },
   {
    "duration": 6,
    "start_time": "2021-06-28T04:03:06.511Z"
   },
   {
    "duration": 14,
    "start_time": "2021-06-28T04:03:06.520Z"
   },
   {
    "duration": 170,
    "start_time": "2021-06-28T04:03:06.538Z"
   },
   {
    "duration": 6,
    "start_time": "2021-06-28T04:03:06.711Z"
   },
   {
    "duration": 67,
    "start_time": "2021-06-28T04:03:06.720Z"
   },
   {
    "duration": 96,
    "start_time": "2021-06-28T04:03:06.791Z"
   },
   {
    "duration": 82,
    "start_time": "2021-06-28T04:03:06.889Z"
   },
   {
    "duration": 7,
    "start_time": "2021-06-28T04:03:06.973Z"
   },
   {
    "duration": 20,
    "start_time": "2021-06-28T04:03:06.983Z"
   },
   {
    "duration": 19,
    "start_time": "2021-06-28T04:03:07.006Z"
   },
   {
    "duration": 32,
    "start_time": "2021-06-28T04:03:07.028Z"
   },
   {
    "duration": 37,
    "start_time": "2021-06-28T04:03:07.063Z"
   },
   {
    "duration": 18,
    "start_time": "2021-06-28T04:03:07.102Z"
   },
   {
    "duration": 46,
    "start_time": "2021-06-28T04:03:07.122Z"
   },
   {
    "duration": 39,
    "start_time": "2021-06-28T04:03:07.171Z"
   },
   {
    "duration": 462,
    "start_time": "2021-06-28T04:56:25.923Z"
   },
   {
    "duration": 1037,
    "start_time": "2021-06-28T04:59:16.441Z"
   },
   {
    "duration": 527,
    "start_time": "2021-06-28T04:59:39.286Z"
   },
   {
    "duration": 244,
    "start_time": "2021-06-28T05:00:15.087Z"
   },
   {
    "duration": 1052,
    "start_time": "2021-06-28T05:00:22.982Z"
   },
   {
    "duration": 827,
    "start_time": "2021-06-28T05:00:39.759Z"
   },
   {
    "duration": 902,
    "start_time": "2021-06-28T05:01:02.625Z"
   },
   {
    "duration": 921,
    "start_time": "2021-06-28T05:01:28.181Z"
   },
   {
    "duration": 937,
    "start_time": "2021-06-28T05:03:02.446Z"
   },
   {
    "duration": 941,
    "start_time": "2021-06-28T05:03:13.165Z"
   },
   {
    "duration": 932,
    "start_time": "2021-06-28T05:03:32.365Z"
   },
   {
    "duration": 45,
    "start_time": "2021-06-28T05:05:25.885Z"
   },
   {
    "duration": 57,
    "start_time": "2021-06-28T05:06:20.430Z"
   },
   {
    "duration": 65,
    "start_time": "2021-06-28T05:06:50.784Z"
   },
   {
    "duration": 71,
    "start_time": "2021-06-28T05:07:36.256Z"
   },
   {
    "duration": 71,
    "start_time": "2021-06-28T05:08:09.407Z"
   },
   {
    "duration": 76,
    "start_time": "2021-06-28T05:08:38.735Z"
   },
   {
    "duration": 63,
    "start_time": "2021-06-28T05:09:03.406Z"
   },
   {
    "duration": 62,
    "start_time": "2021-06-28T05:09:32.286Z"
   },
   {
    "duration": 66,
    "start_time": "2021-06-28T05:09:53.304Z"
   },
   {
    "duration": 64,
    "start_time": "2021-06-28T05:10:11.150Z"
   },
   {
    "duration": 70,
    "start_time": "2021-06-28T05:10:21.117Z"
   },
   {
    "duration": 103,
    "start_time": "2021-06-28T05:11:10.726Z"
   },
   {
    "duration": 73,
    "start_time": "2021-06-28T05:11:25.573Z"
   },
   {
    "duration": 74,
    "start_time": "2021-06-28T05:11:54.375Z"
   },
   {
    "duration": 74,
    "start_time": "2021-06-28T05:12:03.702Z"
   },
   {
    "duration": 73,
    "start_time": "2021-06-28T05:12:28.621Z"
   },
   {
    "duration": 73,
    "start_time": "2021-06-28T05:12:50.790Z"
   },
   {
    "duration": 78,
    "start_time": "2021-06-28T05:13:10.430Z"
   },
   {
    "duration": 75,
    "start_time": "2021-06-28T05:13:26.285Z"
   },
   {
    "duration": 76,
    "start_time": "2021-06-28T05:14:56.327Z"
   },
   {
    "duration": 26,
    "start_time": "2021-06-28T05:15:06.072Z"
   },
   {
    "duration": 5,
    "start_time": "2021-06-28T05:15:11.483Z"
   },
   {
    "duration": 8,
    "start_time": "2021-06-28T05:15:11.490Z"
   },
   {
    "duration": 356,
    "start_time": "2021-06-28T05:15:11.501Z"
   },
   {
    "duration": 5,
    "start_time": "2021-06-28T05:15:11.860Z"
   },
   {
    "duration": 88,
    "start_time": "2021-06-28T05:15:11.867Z"
   },
   {
    "duration": 57,
    "start_time": "2021-06-28T05:15:11.958Z"
   },
   {
    "duration": 46,
    "start_time": "2021-06-28T05:15:12.056Z"
   },
   {
    "duration": 6,
    "start_time": "2021-06-28T05:15:12.104Z"
   },
   {
    "duration": 19,
    "start_time": "2021-06-28T05:15:12.156Z"
   },
   {
    "duration": 14,
    "start_time": "2021-06-28T05:15:12.178Z"
   },
   {
    "duration": 11,
    "start_time": "2021-06-28T05:15:12.195Z"
   },
   {
    "duration": 69,
    "start_time": "2021-06-28T05:15:12.208Z"
   },
   {
    "duration": 5,
    "start_time": "2021-06-28T05:15:12.279Z"
   },
   {
    "duration": 42,
    "start_time": "2021-06-28T05:15:12.288Z"
   },
   {
    "duration": 129,
    "start_time": "2021-06-28T05:15:12.354Z"
   },
   {
    "duration": 75,
    "start_time": "2021-06-28T05:40:35.217Z"
   },
   {
    "duration": 71,
    "start_time": "2021-06-28T05:40:46.797Z"
   },
   {
    "duration": 78,
    "start_time": "2021-06-28T05:41:10.460Z"
   },
   {
    "duration": 6,
    "start_time": "2021-06-28T05:41:36.532Z"
   },
   {
    "duration": 4,
    "start_time": "2021-06-28T05:48:58.876Z"
   },
   {
    "duration": 11,
    "start_time": "2021-06-28T05:48:58.883Z"
   },
   {
    "duration": 148,
    "start_time": "2021-06-28T05:48:58.897Z"
   },
   {
    "duration": 4,
    "start_time": "2021-06-28T05:48:59.048Z"
   },
   {
    "duration": 69,
    "start_time": "2021-06-28T05:48:59.055Z"
   },
   {
    "duration": 68,
    "start_time": "2021-06-28T05:48:59.127Z"
   },
   {
    "duration": 79,
    "start_time": "2021-06-28T05:48:59.198Z"
   },
   {
    "duration": 6,
    "start_time": "2021-06-28T05:48:59.279Z"
   },
   {
    "duration": 20,
    "start_time": "2021-06-28T05:48:59.288Z"
   },
   {
    "duration": 6,
    "start_time": "2021-06-28T05:48:59.311Z"
   },
   {
    "duration": 8,
    "start_time": "2021-06-28T05:48:59.355Z"
   },
   {
    "duration": 40,
    "start_time": "2021-06-28T05:48:59.365Z"
   },
   {
    "duration": 15,
    "start_time": "2021-06-28T05:48:59.407Z"
   },
   {
    "duration": 48,
    "start_time": "2021-06-28T05:48:59.424Z"
   },
   {
    "duration": 85,
    "start_time": "2021-06-28T05:48:59.474Z"
   },
   {
    "duration": 8,
    "start_time": "2021-06-28T12:47:42.573Z"
   },
   {
    "duration": 251,
    "start_time": "2021-06-28T12:53:45.091Z"
   },
   {
    "duration": 6433,
    "start_time": "2021-06-28T12:54:11.838Z"
   },
   {
    "duration": 6471,
    "start_time": "2021-06-28T12:54:50.423Z"
   },
   {
    "duration": 7812,
    "start_time": "2021-06-28T13:01:27.294Z"
   },
   {
    "duration": 15,
    "start_time": "2021-06-28T13:02:43.668Z"
   },
   {
    "duration": 8,
    "start_time": "2021-06-28T13:02:45.019Z"
   },
   {
    "duration": 6414,
    "start_time": "2021-06-28T13:02:46.199Z"
   },
   {
    "duration": 12,
    "start_time": "2021-06-28T13:03:05.137Z"
   },
   {
    "duration": 9,
    "start_time": "2021-06-28T13:03:09.109Z"
   },
   {
    "duration": 340,
    "start_time": "2021-06-28T13:04:03.774Z"
   },
   {
    "duration": 15,
    "start_time": "2021-06-28T13:04:50.573Z"
   },
   {
    "duration": 11,
    "start_time": "2021-06-28T13:06:07.910Z"
   },
   {
    "duration": 270,
    "start_time": "2021-06-28T13:06:47.085Z"
   },
   {
    "duration": 5,
    "start_time": "2021-06-28T13:07:32.921Z"
   },
   {
    "duration": 28,
    "start_time": "2021-06-28T13:07:32.929Z"
   },
   {
    "duration": 583,
    "start_time": "2021-06-28T13:07:32.960Z"
   },
   {
    "duration": 5,
    "start_time": "2021-06-28T13:07:33.546Z"
   },
   {
    "duration": 87,
    "start_time": "2021-06-28T13:07:33.554Z"
   },
   {
    "duration": 62,
    "start_time": "2021-06-28T13:07:33.643Z"
   },
   {
    "duration": 177,
    "start_time": "2021-06-28T13:07:33.707Z"
   },
   {
    "duration": 7,
    "start_time": "2021-06-28T13:07:33.886Z"
   },
   {
    "duration": 39,
    "start_time": "2021-06-28T13:07:33.896Z"
   },
   {
    "duration": 17,
    "start_time": "2021-06-28T13:07:33.938Z"
   },
   {
    "duration": 27,
    "start_time": "2021-06-28T13:07:33.958Z"
   },
   {
    "duration": 50,
    "start_time": "2021-06-28T13:07:33.987Z"
   },
   {
    "duration": 17,
    "start_time": "2021-06-28T13:07:34.039Z"
   },
   {
    "duration": 47,
    "start_time": "2021-06-28T13:07:34.058Z"
   },
   {
    "duration": 85,
    "start_time": "2021-06-28T13:07:34.108Z"
   },
   {
    "duration": 20,
    "start_time": "2021-06-28T13:07:34.196Z"
   },
   {
    "duration": 13,
    "start_time": "2021-06-28T13:07:34.219Z"
   },
   {
    "duration": 369,
    "start_time": "2021-06-28T13:07:34.234Z"
   },
   {
    "duration": 10,
    "start_time": "2021-06-28T13:07:34.606Z"
   },
   {
    "duration": 274,
    "start_time": "2021-06-28T13:07:34.618Z"
   },
   {
    "duration": 10,
    "start_time": "2021-06-28T13:10:04.707Z"
   },
   {
    "duration": 19,
    "start_time": "2021-06-28T13:10:20.357Z"
   },
   {
    "duration": 10,
    "start_time": "2021-06-28T13:16:32.148Z"
   },
   {
    "duration": 14,
    "start_time": "2021-06-28T13:18:08.778Z"
   },
   {
    "duration": 288,
    "start_time": "2021-06-28T13:19:51.894Z"
   },
   {
    "duration": 669,
    "start_time": "2021-06-28T13:19:58.117Z"
   },
   {
    "duration": 867,
    "start_time": "2021-06-28T13:20:42.223Z"
   },
   {
    "duration": 777,
    "start_time": "2021-06-28T13:20:55.966Z"
   },
   {
    "duration": 792,
    "start_time": "2021-06-28T13:21:22.573Z"
   },
   {
    "duration": 862,
    "start_time": "2021-06-28T13:23:56.107Z"
   },
   {
    "duration": 821,
    "start_time": "2021-06-28T13:24:11.574Z"
   },
   {
    "duration": 1060,
    "start_time": "2021-06-28T13:24:46.301Z"
   },
   {
    "duration": 1190,
    "start_time": "2021-06-28T13:25:11.212Z"
   },
   {
    "duration": 863,
    "start_time": "2021-06-28T13:26:55.237Z"
   },
   {
    "duration": 1095,
    "start_time": "2021-06-28T13:27:34.580Z"
   },
   {
    "duration": 962,
    "start_time": "2021-06-28T13:27:45.718Z"
   },
   {
    "duration": 903,
    "start_time": "2021-06-28T13:27:57.326Z"
   },
   {
    "duration": 857,
    "start_time": "2021-06-28T13:35:03.166Z"
   },
   {
    "duration": 866,
    "start_time": "2021-06-28T13:40:50.170Z"
   },
   {
    "duration": 879,
    "start_time": "2021-06-28T13:41:24.351Z"
   },
   {
    "duration": 981,
    "start_time": "2021-06-28T13:41:39.318Z"
   },
   {
    "duration": 892,
    "start_time": "2021-06-28T13:41:40.302Z"
   },
   {
    "duration": 13,
    "start_time": "2021-06-28T13:45:29.129Z"
   },
   {
    "duration": 126,
    "start_time": "2021-06-28T13:46:42.450Z"
   },
   {
    "duration": 13,
    "start_time": "2021-06-28T13:46:59.208Z"
   },
   {
    "duration": 15,
    "start_time": "2021-06-28T13:47:05.499Z"
   },
   {
    "duration": 6,
    "start_time": "2021-06-28T13:47:54.755Z"
   },
   {
    "duration": 13,
    "start_time": "2021-06-28T13:50:01.459Z"
   },
   {
    "duration": 6,
    "start_time": "2021-06-28T13:50:57.378Z"
   },
   {
    "duration": 14,
    "start_time": "2021-06-28T13:52:00.683Z"
   },
   {
    "duration": 13,
    "start_time": "2021-06-28T13:54:07.457Z"
   },
   {
    "duration": 13,
    "start_time": "2021-06-28T13:54:41.626Z"
   },
   {
    "duration": 13,
    "start_time": "2021-06-28T13:58:19.372Z"
   },
   {
    "duration": 21,
    "start_time": "2021-06-28T14:07:37.138Z"
   },
   {
    "duration": 6,
    "start_time": "2021-06-28T14:10:05.608Z"
   },
   {
    "duration": 19,
    "start_time": "2021-06-28T14:10:05.617Z"
   },
   {
    "duration": 389,
    "start_time": "2021-06-28T14:10:05.639Z"
   },
   {
    "duration": 4,
    "start_time": "2021-06-28T14:10:06.032Z"
   },
   {
    "duration": 76,
    "start_time": "2021-06-28T14:10:06.039Z"
   },
   {
    "duration": 78,
    "start_time": "2021-06-28T14:10:06.117Z"
   },
   {
    "duration": 78,
    "start_time": "2021-06-28T14:10:06.197Z"
   },
   {
    "duration": 6,
    "start_time": "2021-06-28T14:10:06.278Z"
   },
   {
    "duration": 24,
    "start_time": "2021-06-28T14:10:06.287Z"
   },
   {
    "duration": 7,
    "start_time": "2021-06-28T14:10:06.315Z"
   },
   {
    "duration": 8,
    "start_time": "2021-06-28T14:10:06.355Z"
   },
   {
    "duration": 36,
    "start_time": "2021-06-28T14:10:06.365Z"
   },
   {
    "duration": 8,
    "start_time": "2021-06-28T14:10:06.403Z"
   },
   {
    "duration": 60,
    "start_time": "2021-06-28T14:10:06.413Z"
   },
   {
    "duration": 96,
    "start_time": "2021-06-28T14:10:06.476Z"
   },
   {
    "duration": 15,
    "start_time": "2021-06-28T14:10:06.574Z"
   },
   {
    "duration": 8,
    "start_time": "2021-06-28T14:10:06.592Z"
   },
   {
    "duration": 371,
    "start_time": "2021-06-28T14:10:06.602Z"
   },
   {
    "duration": 12,
    "start_time": "2021-06-28T14:10:06.975Z"
   },
   {
    "duration": 286,
    "start_time": "2021-06-28T14:10:06.990Z"
   },
   {
    "duration": 19,
    "start_time": "2021-06-28T14:10:07.279Z"
   },
   {
    "duration": 26,
    "start_time": "2021-06-28T14:10:07.300Z"
   },
   {
    "duration": 895,
    "start_time": "2021-06-28T14:10:07.329Z"
   },
   {
    "duration": 6,
    "start_time": "2021-06-28T14:10:08.226Z"
   },
   {
    "duration": 30,
    "start_time": "2021-06-28T14:10:08.235Z"
   },
   {
    "duration": 861,
    "start_time": "2021-06-28T14:10:08.267Z"
   },
   {
    "duration": 29,
    "start_time": "2021-06-28T14:10:09.133Z"
   },
   {
    "duration": 18,
    "start_time": "2021-06-28T14:10:50.884Z"
   },
   {
    "duration": 822,
    "start_time": "2021-06-28T14:19:24.041Z"
   },
   {
    "duration": 750,
    "start_time": "2021-06-28T14:19:38.404Z"
   },
   {
    "duration": 563,
    "start_time": "2021-06-28T14:19:53.595Z"
   },
   {
    "duration": 931,
    "start_time": "2021-06-28T14:21:35.516Z"
   },
   {
    "duration": 438,
    "start_time": "2021-06-29T03:12:58.448Z"
   },
   {
    "duration": 1618,
    "start_time": "2021-06-29T03:13:02.486Z"
   },
   {
    "duration": 4,
    "start_time": "2021-06-29T03:13:04.108Z"
   },
   {
    "duration": 281,
    "start_time": "2021-06-29T03:13:04.115Z"
   },
   {
    "duration": 4,
    "start_time": "2021-06-29T03:13:04.399Z"
   },
   {
    "duration": 75,
    "start_time": "2021-06-29T03:13:04.405Z"
   },
   {
    "duration": 58,
    "start_time": "2021-06-29T03:13:04.482Z"
   },
   {
    "duration": 46,
    "start_time": "2021-06-29T03:13:04.543Z"
   },
   {
    "duration": 18,
    "start_time": "2021-06-29T03:13:04.592Z"
   },
   {
    "duration": 32,
    "start_time": "2021-06-29T03:13:04.614Z"
   },
   {
    "duration": 10,
    "start_time": "2021-06-29T03:13:04.649Z"
   },
   {
    "duration": 26,
    "start_time": "2021-06-29T03:13:04.661Z"
   },
   {
    "duration": 1088,
    "start_time": "2021-06-29T03:13:04.690Z"
   },
   {
    "duration": 37,
    "start_time": "2021-06-29T03:13:05.782Z"
   },
   {
    "duration": 34,
    "start_time": "2021-06-29T03:13:05.822Z"
   },
   {
    "duration": 88,
    "start_time": "2021-06-29T03:13:05.859Z"
   },
   {
    "duration": 14,
    "start_time": "2021-06-29T03:13:05.950Z"
   },
   {
    "duration": 20,
    "start_time": "2021-06-29T03:13:05.967Z"
   },
   {
    "duration": 352,
    "start_time": "2021-06-29T03:13:06.009Z"
   },
   {
    "duration": 12,
    "start_time": "2021-06-29T03:13:06.364Z"
   },
   {
    "duration": 272,
    "start_time": "2021-06-29T03:13:06.380Z"
   },
   {
    "duration": 19,
    "start_time": "2021-06-29T03:13:06.654Z"
   },
   {
    "duration": 33,
    "start_time": "2021-06-29T03:13:06.675Z"
   },
   {
    "duration": 998,
    "start_time": "2021-06-29T03:13:06.711Z"
   },
   {
    "duration": 6,
    "start_time": "2021-06-29T03:13:07.712Z"
   },
   {
    "duration": 21,
    "start_time": "2021-06-29T03:13:07.721Z"
   },
   {
    "duration": 1103,
    "start_time": "2021-06-29T03:13:07.745Z"
   },
   {
    "duration": 18,
    "start_time": "2021-06-29T03:13:08.853Z"
   },
   {
    "duration": 763,
    "start_time": "2021-06-29T03:13:08.874Z"
   },
   {
    "duration": 4,
    "start_time": "2021-06-29T03:13:09.640Z"
   },
   {
    "duration": 7,
    "start_time": "2021-06-29T03:13:48.565Z"
   },
   {
    "duration": 1049,
    "start_time": "2021-06-29T03:15:30.987Z"
   },
   {
    "duration": 21,
    "start_time": "2021-06-29T03:19:33.268Z"
   },
   {
    "duration": 1016,
    "start_time": "2021-06-29T03:22:55.293Z"
   },
   {
    "duration": 911,
    "start_time": "2021-06-29T03:23:53.343Z"
   },
   {
    "duration": 13,
    "start_time": "2021-06-29T03:30:04.063Z"
   },
   {
    "duration": 20,
    "start_time": "2021-06-29T03:31:34.372Z"
   },
   {
    "duration": 9210,
    "start_time": "2021-06-29T03:48:41.027Z"
   },
   {
    "duration": 9539,
    "start_time": "2021-06-29T03:49:24.894Z"
   },
   {
    "duration": 1014,
    "start_time": "2021-06-29T03:50:36.056Z"
   },
   {
    "duration": 981,
    "start_time": "2021-06-29T03:51:18.311Z"
   },
   {
    "duration": 1194,
    "start_time": "2021-06-29T03:54:21.346Z"
   },
   {
    "duration": 954,
    "start_time": "2021-06-29T03:55:00.113Z"
   },
   {
    "duration": 354,
    "start_time": "2021-06-29T04:01:34.143Z"
   },
   {
    "duration": 334,
    "start_time": "2021-06-29T04:01:45.248Z"
   },
   {
    "duration": 11,
    "start_time": "2021-06-29T04:02:16.816Z"
   },
   {
    "duration": 8601,
    "start_time": "2021-06-29T04:02:52.228Z"
   },
   {
    "duration": 194,
    "start_time": "2021-06-29T04:03:15.602Z"
   },
   {
    "duration": 232,
    "start_time": "2021-06-29T04:04:01.763Z"
   },
   {
    "duration": 247,
    "start_time": "2021-06-29T04:04:17.151Z"
   },
   {
    "duration": 209,
    "start_time": "2021-06-29T04:04:53.312Z"
   },
   {
    "duration": 560,
    "start_time": "2021-06-29T04:06:16.296Z"
   },
   {
    "duration": 281,
    "start_time": "2021-06-29T04:06:24.736Z"
   },
   {
    "duration": 658,
    "start_time": "2021-06-29T04:10:59.045Z"
   },
   {
    "duration": 134,
    "start_time": "2021-06-29T05:06:47.196Z"
   },
   {
    "duration": 698,
    "start_time": "2021-06-29T05:06:55.480Z"
   },
   {
    "duration": 789,
    "start_time": "2021-06-29T05:10:48.548Z"
   },
   {
    "duration": 9509,
    "start_time": "2021-06-29T05:13:49.556Z"
   },
   {
    "duration": 6,
    "start_time": "2021-06-29T05:15:07.001Z"
   },
   {
    "duration": 5,
    "start_time": "2021-06-29T05:15:25.082Z"
   },
   {
    "duration": 358,
    "start_time": "2021-06-29T05:17:04.470Z"
   },
   {
    "duration": 6,
    "start_time": "2021-06-29T05:17:33.721Z"
   },
   {
    "duration": 7,
    "start_time": "2021-06-29T05:17:53.103Z"
   },
   {
    "duration": 7,
    "start_time": "2021-06-29T05:18:06.775Z"
   },
   {
    "duration": 11,
    "start_time": "2021-06-29T05:19:15.607Z"
   },
   {
    "duration": 7,
    "start_time": "2021-06-29T05:20:02.676Z"
   },
   {
    "duration": 7,
    "start_time": "2021-06-29T05:20:18.127Z"
   },
   {
    "duration": 5,
    "start_time": "2021-06-29T05:26:28.242Z"
   },
   {
    "duration": 9,
    "start_time": "2021-06-29T05:26:28.251Z"
   },
   {
    "duration": 245,
    "start_time": "2021-06-29T05:26:28.263Z"
   },
   {
    "duration": 5,
    "start_time": "2021-06-29T05:26:28.511Z"
   },
   {
    "duration": 60,
    "start_time": "2021-06-29T05:26:28.518Z"
   },
   {
    "duration": 82,
    "start_time": "2021-06-29T05:26:28.580Z"
   },
   {
    "duration": 79,
    "start_time": "2021-06-29T05:26:28.664Z"
   },
   {
    "duration": 5,
    "start_time": "2021-06-29T05:26:28.747Z"
   },
   {
    "duration": 22,
    "start_time": "2021-06-29T05:26:28.755Z"
   },
   {
    "duration": 6,
    "start_time": "2021-06-29T05:26:28.809Z"
   },
   {
    "duration": 13,
    "start_time": "2021-06-29T05:26:28.817Z"
   },
   {
    "duration": 41,
    "start_time": "2021-06-29T05:26:28.832Z"
   },
   {
    "duration": 5,
    "start_time": "2021-06-29T05:26:28.876Z"
   },
   {
    "duration": 23,
    "start_time": "2021-06-29T05:26:28.909Z"
   },
   {
    "duration": 97,
    "start_time": "2021-06-29T05:26:28.935Z"
   },
   {
    "duration": 16,
    "start_time": "2021-06-29T05:26:29.035Z"
   },
   {
    "duration": 9,
    "start_time": "2021-06-29T05:26:29.054Z"
   },
   {
    "duration": 383,
    "start_time": "2021-06-29T05:26:29.066Z"
   },
   {
    "duration": 13,
    "start_time": "2021-06-29T05:26:29.452Z"
   },
   {
    "duration": 282,
    "start_time": "2021-06-29T05:26:29.468Z"
   },
   {
    "duration": 21,
    "start_time": "2021-06-29T05:26:29.753Z"
   },
   {
    "duration": 39,
    "start_time": "2021-06-29T05:26:29.777Z"
   },
   {
    "duration": 911,
    "start_time": "2021-06-29T05:26:29.822Z"
   },
   {
    "duration": 6,
    "start_time": "2021-06-29T05:26:30.737Z"
   },
   {
    "duration": 27,
    "start_time": "2021-06-29T05:26:30.746Z"
   },
   {
    "duration": 950,
    "start_time": "2021-06-29T05:26:30.776Z"
   },
   {
    "duration": 18,
    "start_time": "2021-06-29T05:26:31.728Z"
   },
   {
    "duration": 947,
    "start_time": "2021-06-29T05:26:31.748Z"
   },
   {
    "duration": 13,
    "start_time": "2021-06-29T05:26:32.698Z"
   },
   {
    "duration": 19,
    "start_time": "2021-06-29T05:26:32.714Z"
   },
   {
    "duration": 915,
    "start_time": "2021-06-29T05:26:32.735Z"
   },
   {
    "duration": 19,
    "start_time": "2021-06-29T05:26:33.653Z"
   },
   {
    "duration": 988,
    "start_time": "2021-06-29T05:26:33.674Z"
   },
   {
    "duration": 232,
    "start_time": "2021-06-29T05:26:34.664Z"
   },
   {
    "duration": 694,
    "start_time": "2021-06-29T05:26:34.909Z"
   },
   {
    "duration": 6,
    "start_time": "2021-06-29T05:26:35.609Z"
   },
   {
    "duration": 124,
    "start_time": "2021-06-29T05:30:42.290Z"
   },
   {
    "duration": 694,
    "start_time": "2021-06-29T05:31:54.727Z"
   },
   {
    "duration": 706,
    "start_time": "2021-06-29T05:32:37.645Z"
   },
   {
    "duration": 940,
    "start_time": "2021-06-29T05:36:13.461Z"
   },
   {
    "duration": 820,
    "start_time": "2021-06-29T05:36:26.559Z"
   },
   {
    "duration": 724,
    "start_time": "2021-06-29T05:36:36.288Z"
   },
   {
    "duration": 747,
    "start_time": "2021-06-29T05:36:48.065Z"
   },
   {
    "duration": 7,
    "start_time": "2021-06-29T05:39:24.019Z"
   },
   {
    "duration": 6,
    "start_time": "2021-06-29T06:28:35.507Z"
   },
   {
    "duration": 22,
    "start_time": "2021-06-29T06:28:35.516Z"
   },
   {
    "duration": 267,
    "start_time": "2021-06-29T06:28:35.541Z"
   },
   {
    "duration": 7,
    "start_time": "2021-06-29T06:28:35.811Z"
   },
   {
    "duration": 92,
    "start_time": "2021-06-29T06:28:35.822Z"
   },
   {
    "duration": 65,
    "start_time": "2021-06-29T06:28:35.917Z"
   },
   {
    "duration": 49,
    "start_time": "2021-06-29T06:28:36.017Z"
   },
   {
    "duration": 6,
    "start_time": "2021-06-29T06:28:36.070Z"
   },
   {
    "duration": 23,
    "start_time": "2021-06-29T06:28:36.079Z"
   },
   {
    "duration": 10,
    "start_time": "2021-06-29T06:28:36.105Z"
   },
   {
    "duration": 25,
    "start_time": "2021-06-29T06:28:36.118Z"
   },
   {
    "duration": 83,
    "start_time": "2021-06-29T06:28:36.145Z"
   },
   {
    "duration": 5,
    "start_time": "2021-06-29T06:28:36.231Z"
   },
   {
    "duration": 32,
    "start_time": "2021-06-29T06:28:36.238Z"
   },
   {
    "duration": 101,
    "start_time": "2021-06-29T06:28:36.273Z"
   },
   {
    "duration": 14,
    "start_time": "2021-06-29T06:28:36.376Z"
   },
   {
    "duration": 14,
    "start_time": "2021-06-29T06:28:36.411Z"
   },
   {
    "duration": 416,
    "start_time": "2021-06-29T06:28:36.428Z"
   },
   {
    "duration": 13,
    "start_time": "2021-06-29T06:28:36.847Z"
   },
   {
    "duration": 282,
    "start_time": "2021-06-29T06:28:36.863Z"
   },
   {
    "duration": 19,
    "start_time": "2021-06-29T06:28:37.147Z"
   },
   {
    "duration": 19,
    "start_time": "2021-06-29T06:28:37.168Z"
   },
   {
    "duration": 1030,
    "start_time": "2021-06-29T06:28:37.194Z"
   },
   {
    "duration": 7,
    "start_time": "2021-06-29T06:28:38.227Z"
   },
   {
    "duration": 19,
    "start_time": "2021-06-29T06:28:38.236Z"
   },
   {
    "duration": 1023,
    "start_time": "2021-06-29T06:28:38.258Z"
   },
   {
    "duration": 32,
    "start_time": "2021-06-29T06:28:39.283Z"
   },
   {
    "duration": 1039,
    "start_time": "2021-06-29T06:28:39.318Z"
   },
   {
    "duration": 5,
    "start_time": "2021-06-29T06:28:40.359Z"
   },
   {
    "duration": 15,
    "start_time": "2021-06-29T06:28:40.367Z"
   },
   {
    "duration": 971,
    "start_time": "2021-06-29T06:28:40.385Z"
   },
   {
    "duration": 20,
    "start_time": "2021-06-29T06:28:41.359Z"
   },
   {
    "duration": 1029,
    "start_time": "2021-06-29T06:28:41.381Z"
   },
   {
    "duration": 235,
    "start_time": "2021-06-29T06:28:42.413Z"
   },
   {
    "duration": 746,
    "start_time": "2021-06-29T06:28:42.650Z"
   },
   {
    "duration": 13,
    "start_time": "2021-06-29T06:28:43.398Z"
   },
   {
    "duration": 811,
    "start_time": "2021-06-29T06:28:43.426Z"
   },
   {
    "duration": 7,
    "start_time": "2021-06-29T06:28:44.240Z"
   },
   {
    "duration": 34,
    "start_time": "2021-06-29T06:28:44.249Z"
   },
   {
    "duration": 5,
    "start_time": "2021-06-29T06:58:36.667Z"
   },
   {
    "duration": 22,
    "start_time": "2021-06-29T06:58:36.674Z"
   },
   {
    "duration": 107,
    "start_time": "2021-06-29T06:58:36.699Z"
   },
   {
    "duration": 9,
    "start_time": "2021-06-29T06:58:36.810Z"
   },
   {
    "duration": 63,
    "start_time": "2021-06-29T06:58:36.821Z"
   },
   {
    "duration": 71,
    "start_time": "2021-06-29T06:58:36.910Z"
   },
   {
    "duration": 198,
    "start_time": "2021-06-29T06:58:36.984Z"
   },
   {
    "duration": 7,
    "start_time": "2021-06-29T06:58:37.185Z"
   },
   {
    "duration": 25,
    "start_time": "2021-06-29T06:58:37.213Z"
   },
   {
    "duration": 9,
    "start_time": "2021-06-29T06:58:37.241Z"
   },
   {
    "duration": 11,
    "start_time": "2021-06-29T06:58:37.253Z"
   },
   {
    "duration": 68,
    "start_time": "2021-06-29T06:58:37.267Z"
   },
   {
    "duration": 5,
    "start_time": "2021-06-29T06:58:37.338Z"
   },
   {
    "duration": 30,
    "start_time": "2021-06-29T06:58:37.346Z"
   },
   {
    "duration": 97,
    "start_time": "2021-06-29T06:58:37.379Z"
   },
   {
    "duration": 32,
    "start_time": "2021-06-29T06:58:37.478Z"
   },
   {
    "duration": 23,
    "start_time": "2021-06-29T06:58:37.513Z"
   },
   {
    "duration": 387,
    "start_time": "2021-06-29T06:58:37.539Z"
   },
   {
    "duration": 12,
    "start_time": "2021-06-29T06:58:37.928Z"
   },
   {
    "duration": 295,
    "start_time": "2021-06-29T06:58:37.942Z"
   },
   {
    "duration": 18,
    "start_time": "2021-06-29T06:58:38.240Z"
   },
   {
    "duration": 18,
    "start_time": "2021-06-29T06:58:38.260Z"
   },
   {
    "duration": 996,
    "start_time": "2021-06-29T06:58:38.281Z"
   },
   {
    "duration": 6,
    "start_time": "2021-06-29T06:58:39.279Z"
   },
   {
    "duration": 27,
    "start_time": "2021-06-29T06:58:39.287Z"
   },
   {
    "duration": 934,
    "start_time": "2021-06-29T06:58:39.317Z"
   },
   {
    "duration": 18,
    "start_time": "2021-06-29T06:58:40.256Z"
   },
   {
    "duration": 1211,
    "start_time": "2021-06-29T06:58:40.277Z"
   },
   {
    "duration": 6,
    "start_time": "2021-06-29T06:58:41.490Z"
   },
   {
    "duration": 13,
    "start_time": "2021-06-29T06:58:41.510Z"
   },
   {
    "duration": 1079,
    "start_time": "2021-06-29T06:58:41.526Z"
   },
   {
    "duration": 26,
    "start_time": "2021-06-29T06:58:42.608Z"
   },
   {
    "duration": 990,
    "start_time": "2021-06-29T06:58:42.636Z"
   },
   {
    "duration": 226,
    "start_time": "2021-06-29T06:58:43.630Z"
   },
   {
    "duration": 745,
    "start_time": "2021-06-29T06:58:43.858Z"
   },
   {
    "duration": 7,
    "start_time": "2021-06-29T06:58:44.606Z"
   },
   {
    "duration": 834,
    "start_time": "2021-06-29T06:58:44.616Z"
   },
   {
    "duration": 7,
    "start_time": "2021-06-29T06:58:45.452Z"
   },
   {
    "duration": 55,
    "start_time": "2021-06-29T06:58:45.462Z"
   },
   {
    "duration": 18,
    "start_time": "2021-06-29T06:59:10.640Z"
   },
   {
    "duration": 9,
    "start_time": "2021-06-29T07:00:44.553Z"
   },
   {
    "duration": 19,
    "start_time": "2021-06-29T07:00:50.240Z"
   },
   {
    "duration": 17,
    "start_time": "2021-06-29T07:01:23.711Z"
   },
   {
    "duration": 1562,
    "start_time": "2021-06-29T12:32:10.485Z"
   },
   {
    "duration": 4,
    "start_time": "2021-06-29T12:32:12.050Z"
   },
   {
    "duration": 258,
    "start_time": "2021-06-29T12:32:12.057Z"
   },
   {
    "duration": 5,
    "start_time": "2021-06-29T12:32:12.318Z"
   },
   {
    "duration": 74,
    "start_time": "2021-06-29T12:32:12.326Z"
   },
   {
    "duration": 84,
    "start_time": "2021-06-29T12:32:12.403Z"
   },
   {
    "duration": 78,
    "start_time": "2021-06-29T12:32:12.489Z"
   },
   {
    "duration": 7,
    "start_time": "2021-06-29T12:32:12.573Z"
   },
   {
    "duration": 26,
    "start_time": "2021-06-29T12:32:12.584Z"
   },
   {
    "duration": 15,
    "start_time": "2021-06-29T12:32:12.613Z"
   },
   {
    "duration": 43,
    "start_time": "2021-06-29T12:32:12.631Z"
   },
   {
    "duration": 584,
    "start_time": "2021-06-29T12:32:12.676Z"
   },
   {
    "duration": 9,
    "start_time": "2021-06-29T12:32:13.263Z"
   },
   {
    "duration": 30,
    "start_time": "2021-06-29T12:32:13.274Z"
   },
   {
    "duration": 99,
    "start_time": "2021-06-29T12:32:13.306Z"
   },
   {
    "duration": 17,
    "start_time": "2021-06-29T12:32:13.408Z"
   },
   {
    "duration": 44,
    "start_time": "2021-06-29T12:32:13.428Z"
   },
   {
    "duration": 362,
    "start_time": "2021-06-29T12:32:13.474Z"
   },
   {
    "duration": 11,
    "start_time": "2021-06-29T12:32:13.838Z"
   },
   {
    "duration": 275,
    "start_time": "2021-06-29T12:32:13.868Z"
   },
   {
    "duration": 35,
    "start_time": "2021-06-29T12:32:14.145Z"
   },
   {
    "duration": 14,
    "start_time": "2021-06-29T12:32:14.183Z"
   },
   {
    "duration": 902,
    "start_time": "2021-06-29T12:32:14.202Z"
   },
   {
    "duration": 6,
    "start_time": "2021-06-29T12:32:15.107Z"
   },
   {
    "duration": 20,
    "start_time": "2021-06-29T12:32:15.115Z"
   },
   {
    "duration": 886,
    "start_time": "2021-06-29T12:32:15.137Z"
   },
   {
    "duration": 19,
    "start_time": "2021-06-29T12:32:16.026Z"
   },
   {
    "duration": 990,
    "start_time": "2021-06-29T12:32:16.068Z"
   },
   {
    "duration": 9,
    "start_time": "2021-06-29T12:32:17.060Z"
   },
   {
    "duration": 15,
    "start_time": "2021-06-29T12:32:17.071Z"
   },
   {
    "duration": 970,
    "start_time": "2021-06-29T12:32:17.088Z"
   },
   {
    "duration": 22,
    "start_time": "2021-06-29T12:32:18.061Z"
   },
   {
    "duration": 926,
    "start_time": "2021-06-29T12:32:18.085Z"
   },
   {
    "duration": 199,
    "start_time": "2021-06-29T12:32:19.013Z"
   },
   {
    "duration": 713,
    "start_time": "2021-06-29T12:32:19.215Z"
   },
   {
    "duration": 7,
    "start_time": "2021-06-29T12:32:19.930Z"
   },
   {
    "duration": 728,
    "start_time": "2021-06-29T12:32:19.939Z"
   },
   {
    "duration": 7,
    "start_time": "2021-06-29T12:32:20.669Z"
   },
   {
    "duration": 22,
    "start_time": "2021-06-29T12:32:20.678Z"
   },
   {
    "duration": 17,
    "start_time": "2021-06-29T12:41:52.819Z"
   },
   {
    "duration": 12,
    "start_time": "2021-06-29T12:43:29.608Z"
   },
   {
    "duration": 13,
    "start_time": "2021-06-29T12:45:04.642Z"
   },
   {
    "duration": 8,
    "start_time": "2021-06-29T12:57:10.733Z"
   },
   {
    "duration": 7,
    "start_time": "2021-06-29T12:57:20.630Z"
   },
   {
    "duration": 7,
    "start_time": "2021-06-29T12:58:26.695Z"
   },
   {
    "duration": 484,
    "start_time": "2021-06-29T12:59:57.237Z"
   },
   {
    "duration": 5,
    "start_time": "2021-06-29T13:01:05.419Z"
   },
   {
    "duration": 7,
    "start_time": "2021-06-29T13:01:05.427Z"
   },
   {
    "duration": 308,
    "start_time": "2021-06-29T13:01:05.437Z"
   },
   {
    "duration": 4,
    "start_time": "2021-06-29T13:01:05.748Z"
   },
   {
    "duration": 65,
    "start_time": "2021-06-29T13:01:05.754Z"
   },
   {
    "duration": 90,
    "start_time": "2021-06-29T13:01:05.821Z"
   },
   {
    "duration": 77,
    "start_time": "2021-06-29T13:01:05.913Z"
   },
   {
    "duration": 5,
    "start_time": "2021-06-29T13:01:05.993Z"
   },
   {
    "duration": 19,
    "start_time": "2021-06-29T13:01:06.002Z"
   },
   {
    "duration": 5,
    "start_time": "2021-06-29T13:01:06.025Z"
   },
   {
    "duration": 7,
    "start_time": "2021-06-29T13:01:06.068Z"
   },
   {
    "duration": 32,
    "start_time": "2021-06-29T13:01:06.078Z"
   },
   {
    "duration": 10,
    "start_time": "2021-06-29T13:01:06.113Z"
   },
   {
    "duration": 50,
    "start_time": "2021-06-29T13:01:06.126Z"
   },
   {
    "duration": 90,
    "start_time": "2021-06-29T13:01:06.179Z"
   },
   {
    "duration": 12,
    "start_time": "2021-06-29T13:01:06.272Z"
   },
   {
    "duration": 14,
    "start_time": "2021-06-29T13:01:06.287Z"
   },
   {
    "duration": 377,
    "start_time": "2021-06-29T13:01:06.304Z"
   },
   {
    "duration": 10,
    "start_time": "2021-06-29T13:01:06.683Z"
   },
   {
    "duration": 282,
    "start_time": "2021-06-29T13:01:06.696Z"
   },
   {
    "duration": 18,
    "start_time": "2021-06-29T13:01:06.980Z"
   },
   {
    "duration": 20,
    "start_time": "2021-06-29T13:01:07.001Z"
   },
   {
    "duration": 901,
    "start_time": "2021-06-29T13:01:07.025Z"
   },
   {
    "duration": 7,
    "start_time": "2021-06-29T13:01:07.929Z"
   },
   {
    "duration": 36,
    "start_time": "2021-06-29T13:01:07.939Z"
   },
   {
    "duration": 900,
    "start_time": "2021-06-29T13:01:07.977Z"
   },
   {
    "duration": 17,
    "start_time": "2021-06-29T13:01:08.882Z"
   },
   {
    "duration": 939,
    "start_time": "2021-06-29T13:01:08.902Z"
   },
   {
    "duration": 5,
    "start_time": "2021-06-29T13:01:09.843Z"
   },
   {
    "duration": 23,
    "start_time": "2021-06-29T13:01:09.850Z"
   },
   {
    "duration": 996,
    "start_time": "2021-06-29T13:01:09.876Z"
   },
   {
    "duration": 18,
    "start_time": "2021-06-29T13:01:10.874Z"
   },
   {
    "duration": 909,
    "start_time": "2021-06-29T13:01:10.894Z"
   },
   {
    "duration": 202,
    "start_time": "2021-06-29T13:01:11.805Z"
   },
   {
    "duration": 717,
    "start_time": "2021-06-29T13:01:12.009Z"
   },
   {
    "duration": 7,
    "start_time": "2021-06-29T13:01:12.729Z"
   },
   {
    "duration": 822,
    "start_time": "2021-06-29T13:01:12.739Z"
   },
   {
    "duration": 7,
    "start_time": "2021-06-29T13:01:13.567Z"
   },
   {
    "duration": 23,
    "start_time": "2021-06-29T13:01:13.576Z"
   },
   {
    "duration": 7,
    "start_time": "2021-06-29T13:01:13.601Z"
   },
   {
    "duration": 19,
    "start_time": "2021-06-29T13:01:13.610Z"
   },
   {
    "duration": 35,
    "start_time": "2021-06-29T13:01:13.632Z"
   },
   {
    "duration": 11,
    "start_time": "2021-06-29T13:05:03.068Z"
   },
   {
    "duration": 10,
    "start_time": "2021-06-29T13:05:26.333Z"
   },
   {
    "duration": 12,
    "start_time": "2021-06-29T13:05:54.151Z"
   },
   {
    "duration": 10,
    "start_time": "2021-06-29T13:07:08.717Z"
   },
   {
    "duration": 15,
    "start_time": "2021-06-29T13:30:16.594Z"
   },
   {
    "duration": 17,
    "start_time": "2021-06-29T13:42:29.476Z"
   },
   {
    "duration": 16,
    "start_time": "2021-06-29T13:42:43.437Z"
   },
   {
    "duration": 16,
    "start_time": "2021-06-29T13:43:11.494Z"
   },
   {
    "duration": 1338,
    "start_time": "2021-06-30T01:45:19.683Z"
   },
   {
    "duration": 4,
    "start_time": "2021-06-30T01:45:21.024Z"
   },
   {
    "duration": 431,
    "start_time": "2021-06-30T01:45:21.031Z"
   },
   {
    "duration": 5,
    "start_time": "2021-06-30T01:45:21.464Z"
   },
   {
    "duration": 85,
    "start_time": "2021-06-30T01:45:21.471Z"
   },
   {
    "duration": 58,
    "start_time": "2021-06-30T01:45:21.558Z"
   },
   {
    "duration": 77,
    "start_time": "2021-06-30T01:45:21.618Z"
   },
   {
    "duration": 5,
    "start_time": "2021-06-30T01:45:21.699Z"
   },
   {
    "duration": 50,
    "start_time": "2021-06-30T01:45:21.707Z"
   },
   {
    "duration": 5,
    "start_time": "2021-06-30T01:45:21.760Z"
   },
   {
    "duration": 9,
    "start_time": "2021-06-30T01:45:21.768Z"
   },
   {
    "duration": 576,
    "start_time": "2021-06-30T01:45:21.780Z"
   },
   {
    "duration": 11,
    "start_time": "2021-06-30T01:45:22.358Z"
   },
   {
    "duration": 25,
    "start_time": "2021-06-30T01:45:22.372Z"
   },
   {
    "duration": 95,
    "start_time": "2021-06-30T01:45:22.400Z"
   },
   {
    "duration": 13,
    "start_time": "2021-06-30T01:45:22.497Z"
   },
   {
    "duration": 14,
    "start_time": "2021-06-30T01:45:22.512Z"
   },
   {
    "duration": 363,
    "start_time": "2021-06-30T01:45:22.528Z"
   },
   {
    "duration": 10,
    "start_time": "2021-06-30T01:45:22.893Z"
   },
   {
    "duration": 273,
    "start_time": "2021-06-30T01:45:22.905Z"
   },
   {
    "duration": 17,
    "start_time": "2021-06-30T01:45:23.181Z"
   },
   {
    "duration": 17,
    "start_time": "2021-06-30T01:45:23.200Z"
   },
   {
    "duration": 875,
    "start_time": "2021-06-30T01:45:23.222Z"
   },
   {
    "duration": 5,
    "start_time": "2021-06-30T01:45:24.100Z"
   },
   {
    "duration": 16,
    "start_time": "2021-06-30T01:45:24.107Z"
   },
   {
    "duration": 820,
    "start_time": "2021-06-30T01:45:24.125Z"
   },
   {
    "duration": 22,
    "start_time": "2021-06-30T01:45:24.947Z"
   },
   {
    "duration": 945,
    "start_time": "2021-06-30T01:45:24.971Z"
   },
   {
    "duration": 4,
    "start_time": "2021-06-30T01:45:25.919Z"
   },
   {
    "duration": 10,
    "start_time": "2021-06-30T01:45:25.925Z"
   },
   {
    "duration": 910,
    "start_time": "2021-06-30T01:45:25.937Z"
   },
   {
    "duration": 24,
    "start_time": "2021-06-30T01:45:26.849Z"
   },
   {
    "duration": 869,
    "start_time": "2021-06-30T01:45:26.875Z"
   },
   {
    "duration": 223,
    "start_time": "2021-06-30T01:45:27.746Z"
   },
   {
    "duration": 635,
    "start_time": "2021-06-30T01:45:27.971Z"
   },
   {
    "duration": 7,
    "start_time": "2021-06-30T01:45:28.608Z"
   },
   {
    "duration": 702,
    "start_time": "2021-06-30T01:45:28.617Z"
   },
   {
    "duration": 7,
    "start_time": "2021-06-30T01:45:29.321Z"
   },
   {
    "duration": 34,
    "start_time": "2021-06-30T01:45:29.331Z"
   },
   {
    "duration": 7,
    "start_time": "2021-06-30T01:45:29.367Z"
   },
   {
    "duration": 13,
    "start_time": "2021-06-30T01:45:29.376Z"
   },
   {
    "duration": 13,
    "start_time": "2021-06-30T01:45:29.391Z"
   },
   {
    "duration": 14,
    "start_time": "2021-06-30T01:45:29.406Z"
   },
   {
    "duration": 4,
    "start_time": "2021-06-30T01:51:56.948Z"
   },
   {
    "duration": 6,
    "start_time": "2021-06-30T01:52:03.974Z"
   },
   {
    "duration": 6,
    "start_time": "2021-06-30T01:57:53.415Z"
   },
   {
    "duration": 10,
    "start_time": "2021-06-30T01:57:53.423Z"
   },
   {
    "duration": 185,
    "start_time": "2021-06-30T01:57:53.436Z"
   },
   {
    "duration": 5,
    "start_time": "2021-06-30T01:57:53.624Z"
   },
   {
    "duration": 57,
    "start_time": "2021-06-30T01:57:53.632Z"
   },
   {
    "duration": 96,
    "start_time": "2021-06-30T01:57:53.692Z"
   },
   {
    "duration": 82,
    "start_time": "2021-06-30T01:57:53.790Z"
   },
   {
    "duration": 6,
    "start_time": "2021-06-30T01:57:53.876Z"
   },
   {
    "duration": 28,
    "start_time": "2021-06-30T01:57:53.885Z"
   },
   {
    "duration": 12,
    "start_time": "2021-06-30T01:57:53.916Z"
   },
   {
    "duration": 8,
    "start_time": "2021-06-30T01:57:53.956Z"
   },
   {
    "duration": 35,
    "start_time": "2021-06-30T01:57:53.966Z"
   },
   {
    "duration": 6,
    "start_time": "2021-06-30T01:57:54.003Z"
   },
   {
    "duration": 54,
    "start_time": "2021-06-30T01:57:54.011Z"
   },
   {
    "duration": 89,
    "start_time": "2021-06-30T01:57:54.067Z"
   },
   {
    "duration": 13,
    "start_time": "2021-06-30T01:57:54.158Z"
   },
   {
    "duration": 15,
    "start_time": "2021-06-30T01:57:54.173Z"
   },
   {
    "duration": 349,
    "start_time": "2021-06-30T01:57:54.190Z"
   },
   {
    "duration": 15,
    "start_time": "2021-06-30T01:57:54.542Z"
   },
   {
    "duration": 263,
    "start_time": "2021-06-30T01:57:54.559Z"
   },
   {
    "duration": 33,
    "start_time": "2021-06-30T01:57:54.825Z"
   },
   {
    "duration": 9,
    "start_time": "2021-06-30T01:57:54.860Z"
   },
   {
    "duration": 867,
    "start_time": "2021-06-30T01:57:54.875Z"
   },
   {
    "duration": 18,
    "start_time": "2021-06-30T01:57:55.746Z"
   },
   {
    "duration": 14,
    "start_time": "2021-06-30T01:57:55.767Z"
   },
   {
    "duration": 833,
    "start_time": "2021-06-30T01:57:55.784Z"
   },
   {
    "duration": 18,
    "start_time": "2021-06-30T01:57:56.619Z"
   },
   {
    "duration": 950,
    "start_time": "2021-06-30T01:57:56.639Z"
   },
   {
    "duration": 5,
    "start_time": "2021-06-30T01:57:57.591Z"
   },
   {
    "duration": 41,
    "start_time": "2021-06-30T01:57:57.598Z"
   },
   {
    "duration": 902,
    "start_time": "2021-06-30T01:57:57.642Z"
   },
   {
    "duration": 23,
    "start_time": "2021-06-30T01:57:58.546Z"
   },
   {
    "duration": 936,
    "start_time": "2021-06-30T01:57:58.571Z"
   },
   {
    "duration": 217,
    "start_time": "2021-06-30T01:57:59.509Z"
   },
   {
    "duration": 722,
    "start_time": "2021-06-30T01:57:59.728Z"
   },
   {
    "duration": 6,
    "start_time": "2021-06-30T01:58:00.452Z"
   },
   {
    "duration": 772,
    "start_time": "2021-06-30T01:58:00.460Z"
   },
   {
    "duration": 6,
    "start_time": "2021-06-30T01:58:01.234Z"
   },
   {
    "duration": 25,
    "start_time": "2021-06-30T01:58:01.243Z"
   },
   {
    "duration": 12,
    "start_time": "2021-06-30T01:58:01.270Z"
   },
   {
    "duration": 35,
    "start_time": "2021-06-30T01:58:01.284Z"
   },
   {
    "duration": 19,
    "start_time": "2021-06-30T01:58:01.321Z"
   },
   {
    "duration": 27,
    "start_time": "2021-06-30T01:58:01.342Z"
   },
   {
    "duration": 21,
    "start_time": "2021-06-30T01:58:01.371Z"
   },
   {
    "duration": 264,
    "start_time": "2021-06-30T01:58:01.394Z"
   },
   {
    "duration": 5936,
    "start_time": "2021-06-30T01:59:28.573Z"
   },
   {
    "duration": 6143,
    "start_time": "2021-06-30T01:59:58.314Z"
   },
   {
    "duration": 12,
    "start_time": "2021-06-30T02:00:24.699Z"
   },
   {
    "duration": 5,
    "start_time": "2021-06-30T02:01:16.449Z"
   },
   {
    "duration": 7,
    "start_time": "2021-06-30T02:01:16.456Z"
   },
   {
    "duration": 170,
    "start_time": "2021-06-30T02:01:16.466Z"
   },
   {
    "duration": 4,
    "start_time": "2021-06-30T02:01:16.638Z"
   },
   {
    "duration": 58,
    "start_time": "2021-06-30T02:01:16.644Z"
   },
   {
    "duration": 84,
    "start_time": "2021-06-30T02:01:16.704Z"
   },
   {
    "duration": 72,
    "start_time": "2021-06-30T02:01:16.790Z"
   },
   {
    "duration": 5,
    "start_time": "2021-06-30T02:01:16.865Z"
   },
   {
    "duration": 18,
    "start_time": "2021-06-30T02:01:16.875Z"
   },
   {
    "duration": 6,
    "start_time": "2021-06-30T02:01:16.896Z"
   },
   {
    "duration": 52,
    "start_time": "2021-06-30T02:01:16.904Z"
   },
   {
    "duration": 33,
    "start_time": "2021-06-30T02:01:16.958Z"
   },
   {
    "duration": 6,
    "start_time": "2021-06-30T02:01:16.993Z"
   },
   {
    "duration": 54,
    "start_time": "2021-06-30T02:01:17.002Z"
   },
   {
    "duration": 74,
    "start_time": "2021-06-30T02:01:17.058Z"
   },
   {
    "duration": 33,
    "start_time": "2021-06-30T02:01:17.134Z"
   },
   {
    "duration": 14,
    "start_time": "2021-06-30T02:01:17.169Z"
   },
   {
    "duration": 374,
    "start_time": "2021-06-30T02:01:17.186Z"
   },
   {
    "duration": 11,
    "start_time": "2021-06-30T02:01:17.562Z"
   },
   {
    "duration": 266,
    "start_time": "2021-06-30T02:01:17.575Z"
   },
   {
    "duration": 27,
    "start_time": "2021-06-30T02:01:17.843Z"
   },
   {
    "duration": 9,
    "start_time": "2021-06-30T02:01:17.873Z"
   },
   {
    "duration": 846,
    "start_time": "2021-06-30T02:01:17.884Z"
   },
   {
    "duration": 6,
    "start_time": "2021-06-30T02:01:18.732Z"
   },
   {
    "duration": 12,
    "start_time": "2021-06-30T02:01:18.756Z"
   },
   {
    "duration": 822,
    "start_time": "2021-06-30T02:01:18.770Z"
   },
   {
    "duration": 17,
    "start_time": "2021-06-30T02:01:19.597Z"
   },
   {
    "duration": 878,
    "start_time": "2021-06-30T02:01:19.618Z"
   },
   {
    "duration": 5,
    "start_time": "2021-06-30T02:01:20.498Z"
   },
   {
    "duration": 14,
    "start_time": "2021-06-30T02:01:20.506Z"
   },
   {
    "duration": 819,
    "start_time": "2021-06-30T02:01:20.523Z"
   },
   {
    "duration": 28,
    "start_time": "2021-06-30T02:01:21.345Z"
   },
   {
    "duration": 902,
    "start_time": "2021-06-30T02:01:21.376Z"
   },
   {
    "duration": 190,
    "start_time": "2021-06-30T02:01:22.281Z"
   },
   {
    "duration": 636,
    "start_time": "2021-06-30T02:01:22.474Z"
   },
   {
    "duration": 7,
    "start_time": "2021-06-30T02:01:23.113Z"
   },
   {
    "duration": 718,
    "start_time": "2021-06-30T02:01:23.124Z"
   },
   {
    "duration": 17,
    "start_time": "2021-06-30T02:01:23.844Z"
   },
   {
    "duration": 18,
    "start_time": "2021-06-30T02:01:23.864Z"
   },
   {
    "duration": 8,
    "start_time": "2021-06-30T02:01:23.884Z"
   },
   {
    "duration": 8,
    "start_time": "2021-06-30T02:01:23.895Z"
   },
   {
    "duration": 58,
    "start_time": "2021-06-30T02:01:23.905Z"
   },
   {
    "duration": 17,
    "start_time": "2021-06-30T02:01:23.966Z"
   },
   {
    "duration": 4,
    "start_time": "2021-06-30T02:01:23.985Z"
   },
   {
    "duration": 15,
    "start_time": "2021-06-30T02:01:23.992Z"
   },
   {
    "duration": 313,
    "start_time": "2021-06-30T02:10:55.136Z"
   },
   {
    "duration": 94,
    "start_time": "2021-06-30T02:13:16.893Z"
   },
   {
    "duration": 97,
    "start_time": "2021-06-30T02:14:33.100Z"
   },
   {
    "duration": 82,
    "start_time": "2021-06-30T02:16:56.723Z"
   },
   {
    "duration": 79,
    "start_time": "2021-06-30T02:17:51.868Z"
   },
   {
    "duration": 253,
    "start_time": "2021-06-30T02:17:58.356Z"
   },
   {
    "duration": 5967,
    "start_time": "2021-06-30T02:18:48.507Z"
   },
   {
    "duration": 23,
    "start_time": "2021-06-30T02:19:18.383Z"
   },
   {
    "duration": 21,
    "start_time": "2021-06-30T02:19:57.165Z"
   },
   {
    "duration": 21,
    "start_time": "2021-06-30T02:28:21.401Z"
   },
   {
    "duration": 16,
    "start_time": "2021-06-30T02:30:42.115Z"
   },
   {
    "duration": 9,
    "start_time": "2021-06-30T02:30:44.140Z"
   },
   {
    "duration": 6,
    "start_time": "2021-06-30T02:32:43.786Z"
   },
   {
    "duration": 8,
    "start_time": "2021-06-30T02:32:43.795Z"
   },
   {
    "duration": 200,
    "start_time": "2021-06-30T02:32:43.807Z"
   },
   {
    "duration": 4,
    "start_time": "2021-06-30T02:32:44.010Z"
   },
   {
    "duration": 59,
    "start_time": "2021-06-30T02:32:44.017Z"
   },
   {
    "duration": 78,
    "start_time": "2021-06-30T02:32:44.078Z"
   },
   {
    "duration": 46,
    "start_time": "2021-06-30T02:32:44.159Z"
   },
   {
    "duration": 5,
    "start_time": "2021-06-30T02:32:44.209Z"
   },
   {
    "duration": 19,
    "start_time": "2021-06-30T02:32:44.257Z"
   },
   {
    "duration": 16,
    "start_time": "2021-06-30T02:32:44.278Z"
   },
   {
    "duration": 16,
    "start_time": "2021-06-30T02:32:44.297Z"
   },
   {
    "duration": 45,
    "start_time": "2021-06-30T02:32:44.316Z"
   },
   {
    "duration": 5,
    "start_time": "2021-06-30T02:32:44.364Z"
   },
   {
    "duration": 38,
    "start_time": "2021-06-30T02:32:44.371Z"
   },
   {
    "duration": 81,
    "start_time": "2021-06-30T02:32:44.411Z"
   },
   {
    "duration": 12,
    "start_time": "2021-06-30T02:32:44.494Z"
   },
   {
    "duration": 13,
    "start_time": "2021-06-30T02:32:44.509Z"
   },
   {
    "duration": 372,
    "start_time": "2021-06-30T02:32:44.524Z"
   },
   {
    "duration": 11,
    "start_time": "2021-06-30T02:32:44.899Z"
   },
   {
    "duration": 270,
    "start_time": "2021-06-30T02:32:44.913Z"
   },
   {
    "duration": 18,
    "start_time": "2021-06-30T02:32:45.185Z"
   },
   {
    "duration": 11,
    "start_time": "2021-06-30T02:32:45.206Z"
   },
   {
    "duration": 849,
    "start_time": "2021-06-30T02:32:45.221Z"
   },
   {
    "duration": 6,
    "start_time": "2021-06-30T02:32:46.073Z"
   },
   {
    "duration": 17,
    "start_time": "2021-06-30T02:32:46.081Z"
   },
   {
    "duration": 906,
    "start_time": "2021-06-30T02:32:46.100Z"
   },
   {
    "duration": 18,
    "start_time": "2021-06-30T02:32:47.009Z"
   },
   {
    "duration": 888,
    "start_time": "2021-06-30T02:32:47.029Z"
   },
   {
    "duration": 4,
    "start_time": "2021-06-30T02:32:47.920Z"
   },
   {
    "duration": 23,
    "start_time": "2021-06-30T02:32:47.927Z"
   },
   {
    "duration": 834,
    "start_time": "2021-06-30T02:32:47.952Z"
   },
   {
    "duration": 19,
    "start_time": "2021-06-30T02:32:48.788Z"
   },
   {
    "duration": 861,
    "start_time": "2021-06-30T02:32:48.809Z"
   },
   {
    "duration": 194,
    "start_time": "2021-06-30T02:32:49.673Z"
   },
   {
    "duration": 631,
    "start_time": "2021-06-30T02:32:49.870Z"
   },
   {
    "duration": 7,
    "start_time": "2021-06-30T02:32:50.503Z"
   },
   {
    "duration": 690,
    "start_time": "2021-06-30T02:32:50.513Z"
   },
   {
    "duration": 7,
    "start_time": "2021-06-30T02:32:51.205Z"
   },
   {
    "duration": 17,
    "start_time": "2021-06-30T02:32:51.214Z"
   },
   {
    "duration": 27,
    "start_time": "2021-06-30T02:32:51.233Z"
   },
   {
    "duration": 10,
    "start_time": "2021-06-30T02:32:51.262Z"
   },
   {
    "duration": 14,
    "start_time": "2021-06-30T02:32:51.275Z"
   },
   {
    "duration": 15,
    "start_time": "2021-06-30T02:32:51.292Z"
   },
   {
    "duration": 3,
    "start_time": "2021-06-30T02:32:51.309Z"
   },
   {
    "duration": 50,
    "start_time": "2021-06-30T02:32:51.315Z"
   },
   {
    "duration": 17,
    "start_time": "2021-06-30T02:32:51.368Z"
   },
   {
    "duration": 11,
    "start_time": "2021-06-30T02:32:51.387Z"
   },
   {
    "duration": 20,
    "start_time": "2021-06-30T02:38:16.746Z"
   },
   {
    "duration": 5,
    "start_time": "2021-06-30T02:39:46.234Z"
   },
   {
    "duration": 11,
    "start_time": "2021-06-30T02:39:46.241Z"
   },
   {
    "duration": 175,
    "start_time": "2021-06-30T02:39:46.256Z"
   },
   {
    "duration": 5,
    "start_time": "2021-06-30T02:39:46.433Z"
   },
   {
    "duration": 59,
    "start_time": "2021-06-30T02:39:46.440Z"
   },
   {
    "duration": 85,
    "start_time": "2021-06-30T02:39:46.501Z"
   },
   {
    "duration": 73,
    "start_time": "2021-06-30T02:39:46.588Z"
   },
   {
    "duration": 6,
    "start_time": "2021-06-30T02:39:46.663Z"
   },
   {
    "duration": 19,
    "start_time": "2021-06-30T02:39:46.673Z"
   },
   {
    "duration": 11,
    "start_time": "2021-06-30T02:39:46.695Z"
   },
   {
    "duration": 10,
    "start_time": "2021-06-30T02:39:46.709Z"
   },
   {
    "duration": 56,
    "start_time": "2021-06-30T02:39:46.722Z"
   },
   {
    "duration": 5,
    "start_time": "2021-06-30T02:39:46.781Z"
   },
   {
    "duration": 27,
    "start_time": "2021-06-30T02:39:46.788Z"
   },
   {
    "duration": 100,
    "start_time": "2021-06-30T02:39:46.818Z"
   },
   {
    "duration": 12,
    "start_time": "2021-06-30T02:39:46.920Z"
   },
   {
    "duration": 14,
    "start_time": "2021-06-30T02:39:46.955Z"
   },
   {
    "duration": 362,
    "start_time": "2021-06-30T02:39:46.971Z"
   },
   {
    "duration": 20,
    "start_time": "2021-06-30T02:39:47.336Z"
   },
   {
    "duration": 308,
    "start_time": "2021-06-30T02:39:47.360Z"
   },
   {
    "duration": 20,
    "start_time": "2021-06-30T02:39:47.670Z"
   },
   {
    "duration": 9,
    "start_time": "2021-06-30T02:39:47.692Z"
   },
   {
    "duration": 856,
    "start_time": "2021-06-30T02:39:47.703Z"
   },
   {
    "duration": 5,
    "start_time": "2021-06-30T02:39:48.561Z"
   },
   {
    "duration": 19,
    "start_time": "2021-06-30T02:39:48.568Z"
   },
   {
    "duration": 811,
    "start_time": "2021-06-30T02:39:48.600Z"
   },
   {
    "duration": 17,
    "start_time": "2021-06-30T02:39:49.415Z"
   },
   {
    "duration": 853,
    "start_time": "2021-06-30T02:39:49.435Z"
   },
   {
    "duration": 5,
    "start_time": "2021-06-30T02:39:50.290Z"
   },
   {
    "duration": 26,
    "start_time": "2021-06-30T02:39:50.297Z"
   },
   {
    "duration": 814,
    "start_time": "2021-06-30T02:39:50.325Z"
   },
   {
    "duration": 27,
    "start_time": "2021-06-30T02:39:51.141Z"
   },
   {
    "duration": 970,
    "start_time": "2021-06-30T02:39:51.170Z"
   },
   {
    "duration": 213,
    "start_time": "2021-06-30T02:39:52.142Z"
   },
   {
    "duration": 630,
    "start_time": "2021-06-30T02:39:52.358Z"
   },
   {
    "duration": 8,
    "start_time": "2021-06-30T02:39:52.990Z"
   },
   {
    "duration": 710,
    "start_time": "2021-06-30T02:39:53.000Z"
   },
   {
    "duration": 7,
    "start_time": "2021-06-30T02:39:53.713Z"
   },
   {
    "duration": 38,
    "start_time": "2021-06-30T02:39:53.723Z"
   },
   {
    "duration": 7,
    "start_time": "2021-06-30T02:39:53.764Z"
   },
   {
    "duration": 10,
    "start_time": "2021-06-30T02:39:53.773Z"
   },
   {
    "duration": 19,
    "start_time": "2021-06-30T02:39:53.785Z"
   },
   {
    "duration": 17,
    "start_time": "2021-06-30T02:39:53.807Z"
   },
   {
    "duration": 33,
    "start_time": "2021-06-30T02:39:53.826Z"
   },
   {
    "duration": 15,
    "start_time": "2021-06-30T02:39:53.862Z"
   },
   {
    "duration": 21,
    "start_time": "2021-06-30T02:39:53.879Z"
   },
   {
    "duration": 10,
    "start_time": "2021-06-30T02:39:53.903Z"
   },
   {
    "duration": 51,
    "start_time": "2021-06-30T02:39:53.915Z"
   },
   {
    "duration": 268,
    "start_time": "2021-06-30T02:52:38.672Z"
   },
   {
    "duration": 22,
    "start_time": "2021-06-30T02:52:58.569Z"
   },
   {
    "duration": 24,
    "start_time": "2021-06-30T02:54:26.278Z"
   },
   {
    "duration": 22,
    "start_time": "2021-06-30T02:55:01.174Z"
   },
   {
    "duration": 22,
    "start_time": "2021-06-30T02:56:05.324Z"
   },
   {
    "duration": 26,
    "start_time": "2021-06-30T02:58:25.597Z"
   },
   {
    "duration": 262,
    "start_time": "2021-06-30T02:59:11.804Z"
   },
   {
    "duration": 280,
    "start_time": "2021-06-30T02:59:25.500Z"
   },
   {
    "duration": 14,
    "start_time": "2021-06-30T02:59:38.143Z"
   },
   {
    "duration": 13,
    "start_time": "2021-06-30T03:00:18.203Z"
   },
   {
    "duration": 21,
    "start_time": "2021-06-30T03:00:51.678Z"
   },
   {
    "duration": 14,
    "start_time": "2021-06-30T03:00:53.203Z"
   },
   {
    "duration": 6,
    "start_time": "2021-06-30T03:01:17.761Z"
   },
   {
    "duration": 7,
    "start_time": "2021-06-30T03:01:17.771Z"
   },
   {
    "duration": 419,
    "start_time": "2021-06-30T03:01:17.782Z"
   },
   {
    "duration": 4,
    "start_time": "2021-06-30T03:01:18.203Z"
   },
   {
    "duration": 57,
    "start_time": "2021-06-30T03:01:18.210Z"
   },
   {
    "duration": 87,
    "start_time": "2021-06-30T03:01:18.269Z"
   },
   {
    "duration": 46,
    "start_time": "2021-06-30T03:01:18.358Z"
   },
   {
    "duration": 6,
    "start_time": "2021-06-30T03:01:18.408Z"
   },
   {
    "duration": 52,
    "start_time": "2021-06-30T03:01:18.417Z"
   },
   {
    "duration": 5,
    "start_time": "2021-06-30T03:01:18.472Z"
   },
   {
    "duration": 19,
    "start_time": "2021-06-30T03:01:18.479Z"
   },
   {
    "duration": 265,
    "start_time": "2021-06-30T03:01:18.500Z"
   },
   {
    "duration": -2343,
    "start_time": "2021-06-30T03:01:21.111Z"
   },
   {
    "duration": -2343,
    "start_time": "2021-06-30T03:01:21.113Z"
   },
   {
    "duration": -2346,
    "start_time": "2021-06-30T03:01:21.117Z"
   },
   {
    "duration": -2346,
    "start_time": "2021-06-30T03:01:21.119Z"
   },
   {
    "duration": -2347,
    "start_time": "2021-06-30T03:01:21.121Z"
   },
   {
    "duration": -2346,
    "start_time": "2021-06-30T03:01:21.122Z"
   },
   {
    "duration": -2347,
    "start_time": "2021-06-30T03:01:21.124Z"
   },
   {
    "duration": -2348,
    "start_time": "2021-06-30T03:01:21.126Z"
   },
   {
    "duration": -2348,
    "start_time": "2021-06-30T03:01:21.127Z"
   },
   {
    "duration": -2348,
    "start_time": "2021-06-30T03:01:21.129Z"
   },
   {
    "duration": -2349,
    "start_time": "2021-06-30T03:01:21.131Z"
   },
   {
    "duration": -2350,
    "start_time": "2021-06-30T03:01:21.133Z"
   },
   {
    "duration": -2350,
    "start_time": "2021-06-30T03:01:21.135Z"
   },
   {
    "duration": -2351,
    "start_time": "2021-06-30T03:01:21.137Z"
   },
   {
    "duration": -2351,
    "start_time": "2021-06-30T03:01:21.138Z"
   },
   {
    "duration": -2356,
    "start_time": "2021-06-30T03:01:21.145Z"
   },
   {
    "duration": -2374,
    "start_time": "2021-06-30T03:01:21.164Z"
   },
   {
    "duration": -2375,
    "start_time": "2021-06-30T03:01:21.166Z"
   },
   {
    "duration": -2379,
    "start_time": "2021-06-30T03:01:21.172Z"
   },
   {
    "duration": -2380,
    "start_time": "2021-06-30T03:01:21.174Z"
   },
   {
    "duration": -2381,
    "start_time": "2021-06-30T03:01:21.176Z"
   },
   {
    "duration": -2381,
    "start_time": "2021-06-30T03:01:21.178Z"
   },
   {
    "duration": -2382,
    "start_time": "2021-06-30T03:01:21.180Z"
   },
   {
    "duration": -2385,
    "start_time": "2021-06-30T03:01:21.184Z"
   },
   {
    "duration": -2385,
    "start_time": "2021-06-30T03:01:21.186Z"
   },
   {
    "duration": -2391,
    "start_time": "2021-06-30T03:01:21.193Z"
   },
   {
    "duration": -2392,
    "start_time": "2021-06-30T03:01:21.195Z"
   },
   {
    "duration": -2341,
    "start_time": "2021-06-30T03:01:21.197Z"
   },
   {
    "duration": -2343,
    "start_time": "2021-06-30T03:01:21.200Z"
   },
   {
    "duration": -2344,
    "start_time": "2021-06-30T03:01:21.202Z"
   },
   {
    "duration": -2344,
    "start_time": "2021-06-30T03:01:21.204Z"
   },
   {
    "duration": -2346,
    "start_time": "2021-06-30T03:01:21.207Z"
   },
   {
    "duration": -2346,
    "start_time": "2021-06-30T03:01:21.209Z"
   },
   {
    "duration": -2351,
    "start_time": "2021-06-30T03:01:21.215Z"
   },
   {
    "duration": -2352,
    "start_time": "2021-06-30T03:01:21.218Z"
   },
   {
    "duration": -2354,
    "start_time": "2021-06-30T03:01:21.221Z"
   },
   {
    "duration": -2354,
    "start_time": "2021-06-30T03:01:21.223Z"
   },
   {
    "duration": -2355,
    "start_time": "2021-06-30T03:01:21.225Z"
   },
   {
    "duration": 5,
    "start_time": "2021-06-30T03:02:21.478Z"
   },
   {
    "duration": 15,
    "start_time": "2021-06-30T03:02:21.486Z"
   },
   {
    "duration": 176,
    "start_time": "2021-06-30T03:02:21.504Z"
   },
   {
    "duration": 4,
    "start_time": "2021-06-30T03:02:21.683Z"
   },
   {
    "duration": 60,
    "start_time": "2021-06-30T03:02:21.689Z"
   },
   {
    "duration": 56,
    "start_time": "2021-06-30T03:02:21.755Z"
   },
   {
    "duration": 73,
    "start_time": "2021-06-30T03:02:21.813Z"
   },
   {
    "duration": 6,
    "start_time": "2021-06-30T03:02:21.889Z"
   },
   {
    "duration": 23,
    "start_time": "2021-06-30T03:02:21.899Z"
   },
   {
    "duration": 5,
    "start_time": "2021-06-30T03:02:21.957Z"
   },
   {
    "duration": 11,
    "start_time": "2021-06-30T03:02:21.965Z"
   },
   {
    "duration": 25,
    "start_time": "2021-06-30T03:02:21.978Z"
   },
   {
    "duration": 13,
    "start_time": "2021-06-30T03:02:22.006Z"
   },
   {
    "duration": 66,
    "start_time": "2021-06-30T03:02:22.021Z"
   },
   {
    "duration": 6,
    "start_time": "2021-06-30T03:02:22.089Z"
   },
   {
    "duration": 33,
    "start_time": "2021-06-30T03:02:22.097Z"
   },
   {
    "duration": 71,
    "start_time": "2021-06-30T03:02:22.156Z"
   },
   {
    "duration": 31,
    "start_time": "2021-06-30T03:02:22.229Z"
   },
   {
    "duration": 19,
    "start_time": "2021-06-30T03:02:22.263Z"
   },
   {
    "duration": 343,
    "start_time": "2021-06-30T03:02:22.285Z"
   },
   {
    "duration": 10,
    "start_time": "2021-06-30T03:02:22.630Z"
   },
   {
    "duration": 264,
    "start_time": "2021-06-30T03:02:22.643Z"
   },
   {
    "duration": 17,
    "start_time": "2021-06-30T03:02:22.912Z"
   },
   {
    "duration": 30,
    "start_time": "2021-06-30T03:02:22.932Z"
   },
   {
    "duration": 811,
    "start_time": "2021-06-30T03:02:22.964Z"
   },
   {
    "duration": 6,
    "start_time": "2021-06-30T03:02:23.777Z"
   },
   {
    "duration": 15,
    "start_time": "2021-06-30T03:02:23.785Z"
   },
   {
    "duration": 882,
    "start_time": "2021-06-30T03:02:23.802Z"
   },
   {
    "duration": 35,
    "start_time": "2021-06-30T03:02:24.687Z"
   },
   {
    "duration": 959,
    "start_time": "2021-06-30T03:02:24.725Z"
   },
   {
    "duration": 6,
    "start_time": "2021-06-30T03:02:25.686Z"
   },
   {
    "duration": 11,
    "start_time": "2021-06-30T03:02:25.695Z"
   },
   {
    "duration": 846,
    "start_time": "2021-06-30T03:02:25.709Z"
   },
   {
    "duration": 18,
    "start_time": "2021-06-30T03:02:26.558Z"
   },
   {
    "duration": 868,
    "start_time": "2021-06-30T03:02:26.579Z"
   },
   {
    "duration": 221,
    "start_time": "2021-06-30T03:02:27.449Z"
   },
   {
    "duration": 629,
    "start_time": "2021-06-30T03:02:27.672Z"
   },
   {
    "duration": 8,
    "start_time": "2021-06-30T03:02:28.305Z"
   },
   {
    "duration": 792,
    "start_time": "2021-06-30T03:02:28.317Z"
   },
   {
    "duration": 7,
    "start_time": "2021-06-30T03:02:29.112Z"
   },
   {
    "duration": 37,
    "start_time": "2021-06-30T03:02:29.122Z"
   },
   {
    "duration": 7,
    "start_time": "2021-06-30T03:02:29.162Z"
   },
   {
    "duration": 9,
    "start_time": "2021-06-30T03:02:29.171Z"
   },
   {
    "duration": 20,
    "start_time": "2021-06-30T03:02:29.182Z"
   },
   {
    "duration": 16,
    "start_time": "2021-06-30T03:02:29.205Z"
   },
   {
    "duration": 33,
    "start_time": "2021-06-30T03:02:29.223Z"
   },
   {
    "duration": 14,
    "start_time": "2021-06-30T03:02:29.258Z"
   },
   {
    "duration": 18,
    "start_time": "2021-06-30T03:02:29.274Z"
   },
   {
    "duration": 11,
    "start_time": "2021-06-30T03:02:29.294Z"
   },
   {
    "duration": 56,
    "start_time": "2021-06-30T03:02:29.308Z"
   },
   {
    "duration": 264,
    "start_time": "2021-06-30T03:02:46.952Z"
   },
   {
    "duration": 4,
    "start_time": "2021-06-30T03:02:52.358Z"
   },
   {
    "duration": 19,
    "start_time": "2021-06-30T03:02:52.365Z"
   },
   {
    "duration": 167,
    "start_time": "2021-06-30T03:02:52.388Z"
   },
   {
    "duration": 5,
    "start_time": "2021-06-30T03:02:52.558Z"
   },
   {
    "duration": 67,
    "start_time": "2021-06-30T03:02:52.565Z"
   },
   {
    "duration": 69,
    "start_time": "2021-06-30T03:02:52.634Z"
   },
   {
    "duration": 78,
    "start_time": "2021-06-30T03:02:52.705Z"
   },
   {
    "duration": 6,
    "start_time": "2021-06-30T03:02:52.785Z"
   },
   {
    "duration": 23,
    "start_time": "2021-06-30T03:02:52.795Z"
   },
   {
    "duration": 35,
    "start_time": "2021-06-30T03:02:52.821Z"
   },
   {
    "duration": 8,
    "start_time": "2021-06-30T03:02:52.859Z"
   },
   {
    "duration": 260,
    "start_time": "2021-06-30T03:02:52.869Z"
   },
   {
    "duration": -2319,
    "start_time": "2021-06-30T03:02:55.451Z"
   },
   {
    "duration": -2319,
    "start_time": "2021-06-30T03:02:55.453Z"
   },
   {
    "duration": -2322,
    "start_time": "2021-06-30T03:02:55.457Z"
   },
   {
    "duration": -2322,
    "start_time": "2021-06-30T03:02:55.459Z"
   },
   {
    "duration": -2323,
    "start_time": "2021-06-30T03:02:55.461Z"
   },
   {
    "duration": -2324,
    "start_time": "2021-06-30T03:02:55.463Z"
   },
   {
    "duration": -2325,
    "start_time": "2021-06-30T03:02:55.466Z"
   },
   {
    "duration": -2333,
    "start_time": "2021-06-30T03:02:55.475Z"
   },
   {
    "duration": -2335,
    "start_time": "2021-06-30T03:02:55.478Z"
   },
   {
    "duration": -2337,
    "start_time": "2021-06-30T03:02:55.482Z"
   },
   {
    "duration": -2339,
    "start_time": "2021-06-30T03:02:55.485Z"
   },
   {
    "duration": -2341,
    "start_time": "2021-06-30T03:02:55.489Z"
   },
   {
    "duration": -2345,
    "start_time": "2021-06-30T03:02:55.495Z"
   },
   {
    "duration": -2346,
    "start_time": "2021-06-30T03:02:55.497Z"
   },
   {
    "duration": -2347,
    "start_time": "2021-06-30T03:02:55.500Z"
   },
   {
    "duration": -2349,
    "start_time": "2021-06-30T03:02:55.503Z"
   },
   {
    "duration": -2351,
    "start_time": "2021-06-30T03:02:55.506Z"
   },
   {
    "duration": -2351,
    "start_time": "2021-06-30T03:02:55.508Z"
   },
   {
    "duration": -2352,
    "start_time": "2021-06-30T03:02:55.510Z"
   },
   {
    "duration": -2352,
    "start_time": "2021-06-30T03:02:55.512Z"
   },
   {
    "duration": -2353,
    "start_time": "2021-06-30T03:02:55.514Z"
   },
   {
    "duration": -2354,
    "start_time": "2021-06-30T03:02:55.516Z"
   },
   {
    "duration": -2354,
    "start_time": "2021-06-30T03:02:55.518Z"
   },
   {
    "duration": -2355,
    "start_time": "2021-06-30T03:02:55.520Z"
   },
   {
    "duration": -2356,
    "start_time": "2021-06-30T03:02:55.523Z"
   },
   {
    "duration": -2357,
    "start_time": "2021-06-30T03:02:55.525Z"
   },
   {
    "duration": -2358,
    "start_time": "2021-06-30T03:02:55.527Z"
   },
   {
    "duration": -2358,
    "start_time": "2021-06-30T03:02:55.529Z"
   },
   {
    "duration": -2357,
    "start_time": "2021-06-30T03:02:55.530Z"
   },
   {
    "duration": -2363,
    "start_time": "2021-06-30T03:02:55.537Z"
   },
   {
    "duration": -2364,
    "start_time": "2021-06-30T03:02:55.539Z"
   },
   {
    "duration": -2364,
    "start_time": "2021-06-30T03:02:55.541Z"
   },
   {
    "duration": -2384,
    "start_time": "2021-06-30T03:02:55.562Z"
   },
   {
    "duration": -2385,
    "start_time": "2021-06-30T03:02:55.564Z"
   },
   {
    "duration": -2394,
    "start_time": "2021-06-30T03:02:55.574Z"
   },
   {
    "duration": -2394,
    "start_time": "2021-06-30T03:02:55.577Z"
   },
   {
    "duration": -2395,
    "start_time": "2021-06-30T03:02:55.579Z"
   },
   {
    "duration": -2397,
    "start_time": "2021-06-30T03:02:55.582Z"
   },
   {
    "duration": 6,
    "start_time": "2021-06-30T03:03:13.303Z"
   },
   {
    "duration": 8,
    "start_time": "2021-06-30T03:03:13.311Z"
   },
   {
    "duration": 180,
    "start_time": "2021-06-30T03:03:13.322Z"
   },
   {
    "duration": 5,
    "start_time": "2021-06-30T03:03:13.504Z"
   },
   {
    "duration": 56,
    "start_time": "2021-06-30T03:03:13.511Z"
   },
   {
    "duration": 53,
    "start_time": "2021-06-30T03:03:13.570Z"
   },
   {
    "duration": 44,
    "start_time": "2021-06-30T03:03:13.656Z"
   },
   {
    "duration": 5,
    "start_time": "2021-06-30T03:03:13.704Z"
   },
   {
    "duration": 55,
    "start_time": "2021-06-30T03:03:13.712Z"
   },
   {
    "duration": 6,
    "start_time": "2021-06-30T03:03:13.770Z"
   },
   {
    "duration": 11,
    "start_time": "2021-06-30T03:03:13.779Z"
   },
   {
    "duration": 27,
    "start_time": "2021-06-30T03:03:13.792Z"
   },
   {
    "duration": 47,
    "start_time": "2021-06-30T03:03:13.822Z"
   },
   {
    "duration": 35,
    "start_time": "2021-06-30T03:03:13.872Z"
   },
   {
    "duration": 45,
    "start_time": "2021-06-30T03:03:13.911Z"
   },
   {
    "duration": 28,
    "start_time": "2021-06-30T03:03:13.959Z"
   },
   {
    "duration": 89,
    "start_time": "2021-06-30T03:03:13.990Z"
   },
   {
    "duration": 11,
    "start_time": "2021-06-30T03:03:14.081Z"
   },
   {
    "duration": 13,
    "start_time": "2021-06-30T03:03:14.094Z"
   },
   {
    "duration": 372,
    "start_time": "2021-06-30T03:03:14.110Z"
   },
   {
    "duration": 10,
    "start_time": "2021-06-30T03:03:14.485Z"
   },
   {
    "duration": 275,
    "start_time": "2021-06-30T03:03:14.497Z"
   },
   {
    "duration": 18,
    "start_time": "2021-06-30T03:03:14.777Z"
   },
   {
    "duration": 12,
    "start_time": "2021-06-30T03:03:14.797Z"
   },
   {
    "duration": 840,
    "start_time": "2021-06-30T03:03:14.812Z"
   },
   {
    "duration": 5,
    "start_time": "2021-06-30T03:03:15.656Z"
   },
   {
    "duration": 18,
    "start_time": "2021-06-30T03:03:15.664Z"
   },
   {
    "duration": 819,
    "start_time": "2021-06-30T03:03:15.684Z"
   },
   {
    "duration": 17,
    "start_time": "2021-06-30T03:03:16.506Z"
   },
   {
    "duration": 939,
    "start_time": "2021-06-30T03:03:16.526Z"
   },
   {
    "duration": 5,
    "start_time": "2021-06-30T03:03:17.468Z"
   },
   {
    "duration": 18,
    "start_time": "2021-06-30T03:03:17.475Z"
   },
   {
    "duration": 846,
    "start_time": "2021-06-30T03:03:17.495Z"
   },
   {
    "duration": 28,
    "start_time": "2021-06-30T03:03:18.344Z"
   },
   {
    "duration": 869,
    "start_time": "2021-06-30T03:03:18.374Z"
   },
   {
    "duration": 201,
    "start_time": "2021-06-30T03:03:19.246Z"
   },
   {
    "duration": 645,
    "start_time": "2021-06-30T03:03:19.450Z"
   },
   {
    "duration": 8,
    "start_time": "2021-06-30T03:03:20.097Z"
   },
   {
    "duration": 699,
    "start_time": "2021-06-30T03:03:20.107Z"
   },
   {
    "duration": 7,
    "start_time": "2021-06-30T03:03:20.809Z"
   },
   {
    "duration": 41,
    "start_time": "2021-06-30T03:03:20.819Z"
   },
   {
    "duration": 8,
    "start_time": "2021-06-30T03:03:20.862Z"
   },
   {
    "duration": 8,
    "start_time": "2021-06-30T03:03:20.873Z"
   },
   {
    "duration": 10,
    "start_time": "2021-06-30T03:03:20.883Z"
   },
   {
    "duration": 18,
    "start_time": "2021-06-30T03:03:20.896Z"
   },
   {
    "duration": 8,
    "start_time": "2021-06-30T03:03:20.916Z"
   },
   {
    "duration": 14,
    "start_time": "2021-06-30T03:03:20.957Z"
   },
   {
    "duration": 23,
    "start_time": "2021-06-30T03:03:20.973Z"
   },
   {
    "duration": 12,
    "start_time": "2021-06-30T03:03:20.998Z"
   },
   {
    "duration": 20,
    "start_time": "2021-06-30T03:03:21.012Z"
   },
   {
    "duration": 287,
    "start_time": "2021-06-30T04:41:05.358Z"
   },
   {
    "duration": 6,
    "start_time": "2021-06-30T04:41:12.808Z"
   },
   {
    "duration": 7,
    "start_time": "2021-06-30T04:41:12.817Z"
   },
   {
    "duration": 462,
    "start_time": "2021-06-30T04:41:12.829Z"
   },
   {
    "duration": 5,
    "start_time": "2021-06-30T04:41:13.293Z"
   },
   {
    "duration": 59,
    "start_time": "2021-06-30T04:41:13.300Z"
   },
   {
    "duration": 55,
    "start_time": "2021-06-30T04:41:13.361Z"
   },
   {
    "duration": 79,
    "start_time": "2021-06-30T04:41:13.418Z"
   },
   {
    "duration": 6,
    "start_time": "2021-06-30T04:41:13.502Z"
   },
   {
    "duration": 54,
    "start_time": "2021-06-30T04:41:13.510Z"
   },
   {
    "duration": 5,
    "start_time": "2021-06-30T04:41:13.567Z"
   },
   {
    "duration": 25,
    "start_time": "2021-06-30T04:41:13.574Z"
   },
   {
    "duration": 37,
    "start_time": "2021-06-30T04:41:13.601Z"
   },
   {
    "duration": 13,
    "start_time": "2021-06-30T04:41:13.640Z"
   },
   {
    "duration": 37,
    "start_time": "2021-06-30T04:41:13.656Z"
   },
   {
    "duration": 4,
    "start_time": "2021-06-30T04:41:13.695Z"
   },
   {
    "duration": 27,
    "start_time": "2021-06-30T04:41:13.701Z"
   },
   {
    "duration": 96,
    "start_time": "2021-06-30T04:41:13.730Z"
   },
   {
    "duration": 35,
    "start_time": "2021-06-30T04:41:13.828Z"
   },
   {
    "duration": 14,
    "start_time": "2021-06-30T04:41:13.865Z"
   },
   {
    "duration": 353,
    "start_time": "2021-06-30T04:41:13.882Z"
   },
   {
    "duration": 18,
    "start_time": "2021-06-30T04:41:14.237Z"
   },
   {
    "duration": 270,
    "start_time": "2021-06-30T04:41:14.258Z"
   },
   {
    "duration": 38,
    "start_time": "2021-06-30T04:41:14.534Z"
   },
   {
    "duration": 13,
    "start_time": "2021-06-30T04:41:14.575Z"
   },
   {
    "duration": 825,
    "start_time": "2021-06-30T04:41:14.591Z"
   },
   {
    "duration": 6,
    "start_time": "2021-06-30T04:41:15.418Z"
   },
   {
    "duration": 31,
    "start_time": "2021-06-30T04:41:15.426Z"
   },
   {
    "duration": 989,
    "start_time": "2021-06-30T04:41:15.460Z"
   },
   {
    "duration": 18,
    "start_time": "2021-06-30T04:41:16.451Z"
   },
   {
    "duration": 993,
    "start_time": "2021-06-30T04:41:16.472Z"
   },
   {
    "duration": 5,
    "start_time": "2021-06-30T04:41:17.468Z"
   },
   {
    "duration": 12,
    "start_time": "2021-06-30T04:41:17.475Z"
   },
   {
    "duration": 840,
    "start_time": "2021-06-30T04:41:17.489Z"
   },
   {
    "duration": 29,
    "start_time": "2021-06-30T04:41:18.331Z"
   },
   {
    "duration": 895,
    "start_time": "2021-06-30T04:41:18.363Z"
   },
   {
    "duration": 205,
    "start_time": "2021-06-30T04:41:19.260Z"
   },
   {
    "duration": 639,
    "start_time": "2021-06-30T04:41:19.467Z"
   },
   {
    "duration": 7,
    "start_time": "2021-06-30T04:41:20.109Z"
   },
   {
    "duration": 707,
    "start_time": "2021-06-30T04:41:20.119Z"
   },
   {
    "duration": 8,
    "start_time": "2021-06-30T04:41:20.828Z"
   },
   {
    "duration": 33,
    "start_time": "2021-06-30T04:41:20.838Z"
   },
   {
    "duration": 8,
    "start_time": "2021-06-30T04:41:20.873Z"
   },
   {
    "duration": 10,
    "start_time": "2021-06-30T04:41:20.883Z"
   },
   {
    "duration": 14,
    "start_time": "2021-06-30T04:41:20.895Z"
   },
   {
    "duration": 48,
    "start_time": "2021-06-30T04:41:20.911Z"
   },
   {
    "duration": 3,
    "start_time": "2021-06-30T04:41:20.961Z"
   },
   {
    "duration": 17,
    "start_time": "2021-06-30T04:41:20.967Z"
   },
   {
    "duration": 15,
    "start_time": "2021-06-30T04:41:20.987Z"
   },
   {
    "duration": 13,
    "start_time": "2021-06-30T04:41:21.004Z"
   },
   {
    "duration": 50,
    "start_time": "2021-06-30T04:41:21.020Z"
   },
   {
    "duration": 260,
    "start_time": "2021-06-30T04:42:07.076Z"
   },
   {
    "duration": 5,
    "start_time": "2021-06-30T04:42:27.536Z"
   },
   {
    "duration": 8,
    "start_time": "2021-06-30T04:42:27.544Z"
   },
   {
    "duration": 173,
    "start_time": "2021-06-30T04:42:27.555Z"
   },
   {
    "duration": 4,
    "start_time": "2021-06-30T04:42:27.731Z"
   },
   {
    "duration": 62,
    "start_time": "2021-06-30T04:42:27.737Z"
   },
   {
    "duration": 84,
    "start_time": "2021-06-30T04:42:27.801Z"
   },
   {
    "duration": 76,
    "start_time": "2021-06-30T04:42:27.887Z"
   },
   {
    "duration": 6,
    "start_time": "2021-06-30T04:42:27.969Z"
   },
   {
    "duration": 23,
    "start_time": "2021-06-30T04:42:27.978Z"
   },
   {
    "duration": 6,
    "start_time": "2021-06-30T04:42:28.004Z"
   },
   {
    "duration": 43,
    "start_time": "2021-06-30T04:42:28.012Z"
   },
   {
    "duration": 22,
    "start_time": "2021-06-30T04:42:28.059Z"
   },
   {
    "duration": 13,
    "start_time": "2021-06-30T04:42:28.083Z"
   },
   {
    "duration": 60,
    "start_time": "2021-06-30T04:42:28.099Z"
   },
   {
    "duration": 5,
    "start_time": "2021-06-30T04:42:28.161Z"
   },
   {
    "duration": 27,
    "start_time": "2021-06-30T04:42:28.168Z"
   },
   {
    "duration": 94,
    "start_time": "2021-06-30T04:42:28.198Z"
   },
   {
    "duration": 12,
    "start_time": "2021-06-30T04:42:28.295Z"
   },
   {
    "duration": 18,
    "start_time": "2021-06-30T04:42:28.309Z"
   },
   {
    "duration": 370,
    "start_time": "2021-06-30T04:42:28.329Z"
   },
   {
    "duration": 11,
    "start_time": "2021-06-30T04:42:28.701Z"
   },
   {
    "duration": 274,
    "start_time": "2021-06-30T04:42:28.715Z"
   },
   {
    "duration": 20,
    "start_time": "2021-06-30T04:42:28.995Z"
   },
   {
    "duration": 19,
    "start_time": "2021-06-30T04:42:29.018Z"
   },
   {
    "duration": 925,
    "start_time": "2021-06-30T04:42:29.056Z"
   },
   {
    "duration": 6,
    "start_time": "2021-06-30T04:42:29.983Z"
   },
   {
    "duration": 20,
    "start_time": "2021-06-30T04:42:29.991Z"
   },
   {
    "duration": 952,
    "start_time": "2021-06-30T04:42:30.014Z"
   },
   {
    "duration": 17,
    "start_time": "2021-06-30T04:42:30.968Z"
   },
   {
    "duration": 868,
    "start_time": "2021-06-30T04:42:30.988Z"
   },
   {
    "duration": 5,
    "start_time": "2021-06-30T04:42:31.858Z"
   },
   {
    "duration": 12,
    "start_time": "2021-06-30T04:42:31.865Z"
   },
   {
    "duration": 849,
    "start_time": "2021-06-30T04:42:31.879Z"
   },
   {
    "duration": 30,
    "start_time": "2021-06-30T04:42:32.730Z"
   },
   {
    "duration": 989,
    "start_time": "2021-06-30T04:42:32.762Z"
   },
   {
    "duration": 233,
    "start_time": "2021-06-30T04:42:33.753Z"
   },
   {
    "duration": 641,
    "start_time": "2021-06-30T04:42:33.989Z"
   },
   {
    "duration": 7,
    "start_time": "2021-06-30T04:42:34.632Z"
   },
   {
    "duration": 665,
    "start_time": "2021-06-30T04:42:34.656Z"
   },
   {
    "duration": 7,
    "start_time": "2021-06-30T04:42:35.323Z"
   },
   {
    "duration": 38,
    "start_time": "2021-06-30T04:42:35.332Z"
   },
   {
    "duration": 39,
    "start_time": "2021-06-30T04:42:35.372Z"
   },
   {
    "duration": 32,
    "start_time": "2021-06-30T04:42:35.413Z"
   },
   {
    "duration": 35,
    "start_time": "2021-06-30T04:42:35.447Z"
   },
   {
    "duration": 31,
    "start_time": "2021-06-30T04:42:35.484Z"
   },
   {
    "duration": 42,
    "start_time": "2021-06-30T04:42:35.518Z"
   },
   {
    "duration": 33,
    "start_time": "2021-06-30T04:42:35.563Z"
   },
   {
    "duration": 36,
    "start_time": "2021-06-30T04:42:35.598Z"
   },
   {
    "duration": 47,
    "start_time": "2021-06-30T04:42:35.636Z"
   },
   {
    "duration": 44,
    "start_time": "2021-06-30T04:42:35.685Z"
   },
   {
    "duration": 275,
    "start_time": "2021-06-30T04:42:54.590Z"
   },
   {
    "duration": 5,
    "start_time": "2021-06-30T04:45:49.521Z"
   },
   {
    "duration": 6,
    "start_time": "2021-06-30T04:45:49.529Z"
   },
   {
    "duration": 176,
    "start_time": "2021-06-30T04:45:49.538Z"
   },
   {
    "duration": 5,
    "start_time": "2021-06-30T04:45:49.717Z"
   },
   {
    "duration": 65,
    "start_time": "2021-06-30T04:45:49.725Z"
   },
   {
    "duration": 82,
    "start_time": "2021-06-30T04:45:49.792Z"
   },
   {
    "duration": 48,
    "start_time": "2021-06-30T04:45:49.877Z"
   },
   {
    "duration": 6,
    "start_time": "2021-06-30T04:45:49.957Z"
   },
   {
    "duration": 18,
    "start_time": "2021-06-30T04:45:49.968Z"
   },
   {
    "duration": 6,
    "start_time": "2021-06-30T04:45:49.990Z"
   },
   {
    "duration": 8,
    "start_time": "2021-06-30T04:45:49.998Z"
   },
   {
    "duration": 47,
    "start_time": "2021-06-30T04:45:50.009Z"
   },
   {
    "duration": 25,
    "start_time": "2021-06-30T04:45:50.059Z"
   },
   {
    "duration": 279,
    "start_time": "2021-06-30T04:45:50.087Z"
   },
   {
    "duration": -2355,
    "start_time": "2021-06-30T04:45:52.725Z"
   },
   {
    "duration": -2356,
    "start_time": "2021-06-30T04:45:52.728Z"
   },
   {
    "duration": -2357,
    "start_time": "2021-06-30T04:45:52.730Z"
   },
   {
    "duration": -2357,
    "start_time": "2021-06-30T04:45:52.732Z"
   },
   {
    "duration": -2359,
    "start_time": "2021-06-30T04:45:52.735Z"
   },
   {
    "duration": -2359,
    "start_time": "2021-06-30T04:45:52.737Z"
   },
   {
    "duration": -2359,
    "start_time": "2021-06-30T04:45:52.738Z"
   },
   {
    "duration": -2360,
    "start_time": "2021-06-30T04:45:52.740Z"
   },
   {
    "duration": -2362,
    "start_time": "2021-06-30T04:45:52.744Z"
   },
   {
    "duration": -2362,
    "start_time": "2021-06-30T04:45:52.746Z"
   },
   {
    "duration": -2363,
    "start_time": "2021-06-30T04:45:52.748Z"
   },
   {
    "duration": -2364,
    "start_time": "2021-06-30T04:45:52.750Z"
   },
   {
    "duration": -2368,
    "start_time": "2021-06-30T04:45:52.756Z"
   },
   {
    "duration": -2404,
    "start_time": "2021-06-30T04:45:52.793Z"
   },
   {
    "duration": -2407,
    "start_time": "2021-06-30T04:45:52.798Z"
   },
   {
    "duration": -2410,
    "start_time": "2021-06-30T04:45:52.802Z"
   },
   {
    "duration": -2411,
    "start_time": "2021-06-30T04:45:52.804Z"
   },
   {
    "duration": -2412,
    "start_time": "2021-06-30T04:45:52.806Z"
   },
   {
    "duration": -2413,
    "start_time": "2021-06-30T04:45:52.809Z"
   },
   {
    "duration": -2415,
    "start_time": "2021-06-30T04:45:52.812Z"
   },
   {
    "duration": -2416,
    "start_time": "2021-06-30T04:45:52.814Z"
   },
   {
    "duration": -2417,
    "start_time": "2021-06-30T04:45:52.816Z"
   },
   {
    "duration": -2417,
    "start_time": "2021-06-30T04:45:52.818Z"
   },
   {
    "duration": -2418,
    "start_time": "2021-06-30T04:45:52.820Z"
   },
   {
    "duration": -2418,
    "start_time": "2021-06-30T04:45:52.822Z"
   },
   {
    "duration": -2419,
    "start_time": "2021-06-30T04:45:52.824Z"
   },
   {
    "duration": -2371,
    "start_time": "2021-06-30T04:45:52.826Z"
   },
   {
    "duration": -2371,
    "start_time": "2021-06-30T04:45:52.828Z"
   },
   {
    "duration": -2372,
    "start_time": "2021-06-30T04:45:52.830Z"
   },
   {
    "duration": -2372,
    "start_time": "2021-06-30T04:45:52.832Z"
   },
   {
    "duration": -2372,
    "start_time": "2021-06-30T04:45:52.833Z"
   },
   {
    "duration": -2372,
    "start_time": "2021-06-30T04:45:52.835Z"
   },
   {
    "duration": -2373,
    "start_time": "2021-06-30T04:45:52.837Z"
   },
   {
    "duration": -2375,
    "start_time": "2021-06-30T04:45:52.840Z"
   },
   {
    "duration": -2375,
    "start_time": "2021-06-30T04:45:52.842Z"
   },
   {
    "duration": -2376,
    "start_time": "2021-06-30T04:45:52.844Z"
   },
   {
    "duration": 5,
    "start_time": "2021-06-30T04:46:04.510Z"
   },
   {
    "duration": 8,
    "start_time": "2021-06-30T04:46:04.517Z"
   },
   {
    "duration": 192,
    "start_time": "2021-06-30T04:46:04.528Z"
   },
   {
    "duration": 4,
    "start_time": "2021-06-30T04:46:04.722Z"
   },
   {
    "duration": 71,
    "start_time": "2021-06-30T04:46:04.729Z"
   },
   {
    "duration": 87,
    "start_time": "2021-06-30T04:46:04.803Z"
   },
   {
    "duration": 77,
    "start_time": "2021-06-30T04:46:04.893Z"
   },
   {
    "duration": 6,
    "start_time": "2021-06-30T04:46:04.973Z"
   },
   {
    "duration": 26,
    "start_time": "2021-06-30T04:46:04.984Z"
   },
   {
    "duration": 8,
    "start_time": "2021-06-30T04:46:05.013Z"
   },
   {
    "duration": 37,
    "start_time": "2021-06-30T04:46:05.024Z"
   },
   {
    "duration": 14,
    "start_time": "2021-06-30T04:46:05.063Z"
   },
   {
    "duration": 25,
    "start_time": "2021-06-30T04:46:05.080Z"
   },
   {
    "duration": 14,
    "start_time": "2021-06-30T04:46:05.108Z"
   },
   {
    "duration": 57,
    "start_time": "2021-06-30T04:46:05.124Z"
   },
   {
    "duration": 15,
    "start_time": "2021-06-30T04:46:05.183Z"
   },
   {
    "duration": 37,
    "start_time": "2021-06-30T04:46:05.200Z"
   },
   {
    "duration": 77,
    "start_time": "2021-06-30T04:46:05.239Z"
   },
   {
    "duration": 14,
    "start_time": "2021-06-30T04:46:05.318Z"
   },
   {
    "duration": 355,
    "start_time": "2021-06-30T04:46:05.356Z"
   },
   {
    "duration": 12,
    "start_time": "2021-06-30T04:46:05.713Z"
   },
   {
    "duration": 270,
    "start_time": "2021-06-30T04:46:05.728Z"
   },
   {
    "duration": 34,
    "start_time": "2021-06-30T04:46:06.003Z"
   },
   {
    "duration": 18,
    "start_time": "2021-06-30T04:46:06.040Z"
   },
   {
    "duration": 831,
    "start_time": "2021-06-30T04:46:06.061Z"
   },
   {
    "duration": 6,
    "start_time": "2021-06-30T04:46:06.895Z"
   },
   {
    "duration": 35,
    "start_time": "2021-06-30T04:46:06.903Z"
   },
   {
    "duration": 818,
    "start_time": "2021-06-30T04:46:06.940Z"
   },
   {
    "duration": 17,
    "start_time": "2021-06-30T04:46:07.760Z"
   },
   {
    "duration": 871,
    "start_time": "2021-06-30T04:46:07.779Z"
   },
   {
    "duration": 5,
    "start_time": "2021-06-30T04:46:08.655Z"
   },
   {
    "duration": 15,
    "start_time": "2021-06-30T04:46:08.662Z"
   },
   {
    "duration": 826,
    "start_time": "2021-06-30T04:46:08.679Z"
   },
   {
    "duration": 19,
    "start_time": "2021-06-30T04:46:09.507Z"
   },
   {
    "duration": 881,
    "start_time": "2021-06-30T04:46:09.528Z"
   },
   {
    "duration": 189,
    "start_time": "2021-06-30T04:46:10.412Z"
   },
   {
    "duration": 766,
    "start_time": "2021-06-30T04:46:10.604Z"
   },
   {
    "duration": 7,
    "start_time": "2021-06-30T04:46:11.372Z"
   },
   {
    "duration": 662,
    "start_time": "2021-06-30T04:46:11.381Z"
   },
   {
    "duration": 16,
    "start_time": "2021-06-30T04:46:12.045Z"
   },
   {
    "duration": 18,
    "start_time": "2021-06-30T04:46:12.063Z"
   },
   {
    "duration": 7,
    "start_time": "2021-06-30T04:46:12.084Z"
   },
   {
    "duration": 8,
    "start_time": "2021-06-30T04:46:12.094Z"
   },
   {
    "duration": 52,
    "start_time": "2021-06-30T04:46:12.105Z"
   },
   {
    "duration": 124,
    "start_time": "2021-06-30T04:46:12.160Z"
   },
   {
    "duration": 6,
    "start_time": "2021-06-30T04:46:12.286Z"
   },
   {
    "duration": 14,
    "start_time": "2021-06-30T04:46:12.294Z"
   },
   {
    "duration": 48,
    "start_time": "2021-06-30T04:46:12.311Z"
   },
   {
    "duration": 12,
    "start_time": "2021-06-30T04:46:12.362Z"
   },
   {
    "duration": 21,
    "start_time": "2021-06-30T04:46:12.377Z"
   },
   {
    "duration": 14,
    "start_time": "2021-06-30T04:48:57.361Z"
   },
   {
    "duration": 273,
    "start_time": "2021-06-30T04:57:27.427Z"
   },
   {
    "duration": 263,
    "start_time": "2021-06-30T04:57:35.641Z"
   },
   {
    "duration": 21,
    "start_time": "2021-06-30T04:58:06.898Z"
   },
   {
    "duration": 9,
    "start_time": "2021-06-30T05:02:32.763Z"
   },
   {
    "duration": 4,
    "start_time": "2021-06-30T05:02:48.879Z"
   },
   {
    "duration": 257,
    "start_time": "2021-06-30T05:04:42.042Z"
   },
   {
    "duration": 4,
    "start_time": "2021-06-30T05:05:04.229Z"
   },
   {
    "duration": 11,
    "start_time": "2021-06-30T05:05:04.236Z"
   },
   {
    "duration": 178,
    "start_time": "2021-06-30T05:05:04.250Z"
   },
   {
    "duration": 5,
    "start_time": "2021-06-30T05:05:04.430Z"
   },
   {
    "duration": 61,
    "start_time": "2021-06-30T05:05:04.437Z"
   },
   {
    "duration": 86,
    "start_time": "2021-06-30T05:05:04.501Z"
   },
   {
    "duration": 71,
    "start_time": "2021-06-30T05:05:04.589Z"
   },
   {
    "duration": 6,
    "start_time": "2021-06-30T05:05:04.664Z"
   },
   {
    "duration": 28,
    "start_time": "2021-06-30T05:05:04.672Z"
   },
   {
    "duration": 5,
    "start_time": "2021-06-30T05:05:04.702Z"
   },
   {
    "duration": 10,
    "start_time": "2021-06-30T05:05:04.709Z"
   },
   {
    "duration": 35,
    "start_time": "2021-06-30T05:05:04.721Z"
   },
   {
    "duration": 24,
    "start_time": "2021-06-30T05:05:04.758Z"
   },
   {
    "duration": 13,
    "start_time": "2021-06-30T05:05:04.784Z"
   },
   {
    "duration": 8,
    "start_time": "2021-06-30T05:05:04.799Z"
   },
   {
    "duration": 9,
    "start_time": "2021-06-30T05:05:04.809Z"
   },
   {
    "duration": 64,
    "start_time": "2021-06-30T05:05:04.820Z"
   },
   {
    "duration": 7,
    "start_time": "2021-06-30T05:05:04.887Z"
   },
   {
    "duration": 27,
    "start_time": "2021-06-30T05:05:04.897Z"
   },
   {
    "duration": 100,
    "start_time": "2021-06-30T05:05:04.926Z"
   },
   {
    "duration": 17,
    "start_time": "2021-06-30T05:05:05.057Z"
   },
   {
    "duration": 353,
    "start_time": "2021-06-30T05:05:05.077Z"
   },
   {
    "duration": 20,
    "start_time": "2021-06-30T05:05:05.437Z"
   },
   {
    "duration": 273,
    "start_time": "2021-06-30T05:05:05.460Z"
   },
   {
    "duration": 29,
    "start_time": "2021-06-30T05:05:05.735Z"
   },
   {
    "duration": 13,
    "start_time": "2021-06-30T05:05:05.767Z"
   },
   {
    "duration": 827,
    "start_time": "2021-06-30T05:05:05.782Z"
   },
   {
    "duration": 6,
    "start_time": "2021-06-30T05:05:06.611Z"
   },
   {
    "duration": 38,
    "start_time": "2021-06-30T05:05:06.619Z"
   },
   {
    "duration": 817,
    "start_time": "2021-06-30T05:05:06.660Z"
   },
   {
    "duration": 18,
    "start_time": "2021-06-30T05:05:07.479Z"
   },
   {
    "duration": 867,
    "start_time": "2021-06-30T05:05:07.499Z"
   },
   {
    "duration": 5,
    "start_time": "2021-06-30T05:05:08.368Z"
   },
   {
    "duration": 12,
    "start_time": "2021-06-30T05:05:08.375Z"
   },
   {
    "duration": 851,
    "start_time": "2021-06-30T05:05:08.390Z"
   },
   {
    "duration": 28,
    "start_time": "2021-06-30T05:05:09.243Z"
   },
   {
    "duration": 877,
    "start_time": "2021-06-30T05:05:09.273Z"
   },
   {
    "duration": 193,
    "start_time": "2021-06-30T05:05:10.156Z"
   },
   {
    "duration": 661,
    "start_time": "2021-06-30T05:05:10.355Z"
   },
   {
    "duration": 7,
    "start_time": "2021-06-30T05:05:11.018Z"
   },
   {
    "duration": 694,
    "start_time": "2021-06-30T05:05:11.027Z"
   },
   {
    "duration": 7,
    "start_time": "2021-06-30T05:05:11.723Z"
   },
   {
    "duration": 34,
    "start_time": "2021-06-30T05:05:11.733Z"
   },
   {
    "duration": 9,
    "start_time": "2021-06-30T05:05:11.770Z"
   },
   {
    "duration": 12,
    "start_time": "2021-06-30T05:05:11.781Z"
   },
   {
    "duration": 11,
    "start_time": "2021-06-30T05:05:11.795Z"
   },
   {
    "duration": 14,
    "start_time": "2021-06-30T05:05:11.808Z"
   },
   {
    "duration": 5,
    "start_time": "2021-06-30T05:05:11.857Z"
   },
   {
    "duration": 14,
    "start_time": "2021-06-30T05:05:11.864Z"
   },
   {
    "duration": 14,
    "start_time": "2021-06-30T05:05:11.880Z"
   },
   {
    "duration": 12,
    "start_time": "2021-06-30T05:05:11.896Z"
   },
   {
    "duration": 59,
    "start_time": "2021-06-30T05:05:11.910Z"
   },
   {
    "duration": 8,
    "start_time": "2021-06-30T05:06:04.683Z"
   },
   {
    "duration": 4,
    "start_time": "2021-06-30T05:07:24.817Z"
   },
   {
    "duration": 6,
    "start_time": "2021-06-30T05:08:57.721Z"
   },
   {
    "duration": 6,
    "start_time": "2021-06-30T05:12:03.943Z"
   },
   {
    "duration": 277,
    "start_time": "2021-06-30T05:14:40.762Z"
   },
   {
    "duration": 264,
    "start_time": "2021-06-30T05:14:58.235Z"
   },
   {
    "duration": 8,
    "start_time": "2021-06-30T05:15:07.652Z"
   },
   {
    "duration": 242,
    "start_time": "2021-06-30T05:19:40.255Z"
   },
   {
    "duration": 506,
    "start_time": "2021-06-30T05:20:14.376Z"
   },
   {
    "duration": 5,
    "start_time": "2021-06-30T05:20:22.970Z"
   },
   {
    "duration": 7,
    "start_time": "2021-06-30T05:20:22.977Z"
   },
   {
    "duration": 181,
    "start_time": "2021-06-30T05:20:22.987Z"
   },
   {
    "duration": 4,
    "start_time": "2021-06-30T05:20:23.171Z"
   },
   {
    "duration": 62,
    "start_time": "2021-06-30T05:20:23.177Z"
   },
   {
    "duration": 55,
    "start_time": "2021-06-30T05:20:23.256Z"
   },
   {
    "duration": 73,
    "start_time": "2021-06-30T05:20:23.313Z"
   },
   {
    "duration": 7,
    "start_time": "2021-06-30T05:20:23.390Z"
   },
   {
    "duration": 22,
    "start_time": "2021-06-30T05:20:23.400Z"
   },
   {
    "duration": 6,
    "start_time": "2021-06-30T05:20:23.455Z"
   },
   {
    "duration": 32,
    "start_time": "2021-06-30T05:20:23.463Z"
   },
   {
    "duration": 29,
    "start_time": "2021-06-30T05:20:23.497Z"
   },
   {
    "duration": 30,
    "start_time": "2021-06-30T05:20:23.529Z"
   },
   {
    "duration": 13,
    "start_time": "2021-06-30T05:20:23.562Z"
   },
   {
    "duration": 18,
    "start_time": "2021-06-30T05:20:23.577Z"
   },
   {
    "duration": 19,
    "start_time": "2021-06-30T05:20:23.597Z"
   },
   {
    "duration": 260,
    "start_time": "2021-06-30T05:20:23.618Z"
   },
   {
    "duration": -2308,
    "start_time": "2021-06-30T05:20:26.190Z"
   },
   {
    "duration": -2310,
    "start_time": "2021-06-30T05:20:26.193Z"
   },
   {
    "duration": -2310,
    "start_time": "2021-06-30T05:20:26.195Z"
   },
   {
    "duration": -2323,
    "start_time": "2021-06-30T05:20:26.209Z"
   },
   {
    "duration": -2325,
    "start_time": "2021-06-30T05:20:26.213Z"
   },
   {
    "duration": -2332,
    "start_time": "2021-06-30T05:20:26.221Z"
   },
   {
    "duration": -2333,
    "start_time": "2021-06-30T05:20:26.223Z"
   },
   {
    "duration": -2335,
    "start_time": "2021-06-30T05:20:26.227Z"
   },
   {
    "duration": -2336,
    "start_time": "2021-06-30T05:20:26.229Z"
   },
   {
    "duration": -2337,
    "start_time": "2021-06-30T05:20:26.231Z"
   },
   {
    "duration": -2337,
    "start_time": "2021-06-30T05:20:26.233Z"
   },
   {
    "duration": -2338,
    "start_time": "2021-06-30T05:20:26.235Z"
   },
   {
    "duration": -2339,
    "start_time": "2021-06-30T05:20:26.237Z"
   },
   {
    "duration": -2339,
    "start_time": "2021-06-30T05:20:26.239Z"
   },
   {
    "duration": -2344,
    "start_time": "2021-06-30T05:20:26.245Z"
   },
   {
    "duration": -2345,
    "start_time": "2021-06-30T05:20:26.247Z"
   },
   {
    "duration": -2345,
    "start_time": "2021-06-30T05:20:26.249Z"
   },
   {
    "duration": -2359,
    "start_time": "2021-06-30T05:20:26.264Z"
   },
   {
    "duration": -2359,
    "start_time": "2021-06-30T05:20:26.266Z"
   },
   {
    "duration": -2360,
    "start_time": "2021-06-30T05:20:26.268Z"
   },
   {
    "duration": -2361,
    "start_time": "2021-06-30T05:20:26.270Z"
   },
   {
    "duration": -2361,
    "start_time": "2021-06-30T05:20:26.272Z"
   },
   {
    "duration": -2363,
    "start_time": "2021-06-30T05:20:26.275Z"
   },
   {
    "duration": -2363,
    "start_time": "2021-06-30T05:20:26.277Z"
   },
   {
    "duration": -2365,
    "start_time": "2021-06-30T05:20:26.280Z"
   },
   {
    "duration": -2371,
    "start_time": "2021-06-30T05:20:26.287Z"
   },
   {
    "duration": -2373,
    "start_time": "2021-06-30T05:20:26.291Z"
   },
   {
    "duration": -2376,
    "start_time": "2021-06-30T05:20:26.295Z"
   },
   {
    "duration": -2342,
    "start_time": "2021-06-30T05:20:26.298Z"
   },
   {
    "duration": -2344,
    "start_time": "2021-06-30T05:20:26.301Z"
   },
   {
    "duration": -2345,
    "start_time": "2021-06-30T05:20:26.304Z"
   },
   {
    "duration": -2411,
    "start_time": "2021-06-30T05:20:26.371Z"
   },
   {
    "duration": -2416,
    "start_time": "2021-06-30T05:20:26.378Z"
   },
   {
    "duration": -2421,
    "start_time": "2021-06-30T05:20:26.384Z"
   },
   {
    "duration": -2421,
    "start_time": "2021-06-30T05:20:26.386Z"
   },
   {
    "duration": -2423,
    "start_time": "2021-06-30T05:20:26.389Z"
   },
   {
    "duration": -2423,
    "start_time": "2021-06-30T05:20:26.391Z"
   },
   {
    "duration": -2425,
    "start_time": "2021-06-30T05:20:26.394Z"
   },
   {
    "duration": 276,
    "start_time": "2021-06-30T05:22:47.519Z"
   },
   {
    "duration": 10,
    "start_time": "2021-06-30T05:22:58.584Z"
   },
   {
    "duration": 23,
    "start_time": "2021-06-30T05:23:22.621Z"
   },
   {
    "duration": 10,
    "start_time": "2021-06-30T05:24:08.631Z"
   },
   {
    "duration": 309,
    "start_time": "2021-06-30T05:26:13.050Z"
   },
   {
    "duration": 24,
    "start_time": "2021-06-30T05:26:26.119Z"
   },
   {
    "duration": 30,
    "start_time": "2021-06-30T05:27:28.645Z"
   },
   {
    "duration": 24,
    "start_time": "2021-06-30T05:29:42.354Z"
   },
   {
    "duration": 21,
    "start_time": "2021-06-30T05:33:50.266Z"
   },
   {
    "duration": 13,
    "start_time": "2021-06-30T05:39:13.406Z"
   },
   {
    "duration": 15,
    "start_time": "2021-06-30T05:40:36.614Z"
   },
   {
    "duration": 14,
    "start_time": "2021-06-30T05:43:11.263Z"
   },
   {
    "duration": 13,
    "start_time": "2021-06-30T05:43:12.241Z"
   },
   {
    "duration": 5,
    "start_time": "2021-06-30T05:51:37.254Z"
   },
   {
    "duration": 8,
    "start_time": "2021-06-30T05:51:37.262Z"
   },
   {
    "duration": 362,
    "start_time": "2021-06-30T05:51:37.273Z"
   },
   {
    "duration": 4,
    "start_time": "2021-06-30T05:51:37.638Z"
   },
   {
    "duration": 57,
    "start_time": "2021-06-30T05:51:37.645Z"
   },
   {
    "duration": 88,
    "start_time": "2021-06-30T05:51:37.705Z"
   },
   {
    "duration": 68,
    "start_time": "2021-06-30T05:51:37.796Z"
   },
   {
    "duration": 5,
    "start_time": "2021-06-30T05:51:37.868Z"
   },
   {
    "duration": 20,
    "start_time": "2021-06-30T05:51:37.876Z"
   },
   {
    "duration": 5,
    "start_time": "2021-06-30T05:51:37.898Z"
   },
   {
    "duration": 8,
    "start_time": "2021-06-30T05:51:37.906Z"
   },
   {
    "duration": 40,
    "start_time": "2021-06-30T05:51:37.916Z"
   },
   {
    "duration": 27,
    "start_time": "2021-06-30T05:51:37.958Z"
   },
   {
    "duration": 13,
    "start_time": "2021-06-30T05:51:37.987Z"
   },
   {
    "duration": 6,
    "start_time": "2021-06-30T05:51:38.002Z"
   },
   {
    "duration": 6,
    "start_time": "2021-06-30T05:51:38.010Z"
   },
   {
    "duration": 41,
    "start_time": "2021-06-30T05:51:38.018Z"
   },
   {
    "duration": 10,
    "start_time": "2021-06-30T05:51:38.061Z"
   },
   {
    "duration": 24,
    "start_time": "2021-06-30T05:51:38.074Z"
   },
   {
    "duration": 19,
    "start_time": "2021-06-30T05:51:38.100Z"
   },
   {
    "duration": 15,
    "start_time": "2021-06-30T05:51:38.156Z"
   },
   {
    "duration": 21,
    "start_time": "2021-06-30T05:51:38.173Z"
   },
   {
    "duration": 57,
    "start_time": "2021-06-30T05:51:38.199Z"
   },
   {
    "duration": 5,
    "start_time": "2021-06-30T05:51:38.259Z"
   },
   {
    "duration": 28,
    "start_time": "2021-06-30T05:51:38.266Z"
   },
   {
    "duration": 101,
    "start_time": "2021-06-30T05:51:38.296Z"
   },
   {
    "duration": 16,
    "start_time": "2021-06-30T05:51:38.399Z"
   },
   {
    "duration": 359,
    "start_time": "2021-06-30T05:51:38.417Z"
   },
   {
    "duration": 9,
    "start_time": "2021-06-30T05:51:38.779Z"
   },
   {
    "duration": 272,
    "start_time": "2021-06-30T05:51:38.790Z"
   },
   {
    "duration": 17,
    "start_time": "2021-06-30T05:51:39.065Z"
   },
   {
    "duration": 10,
    "start_time": "2021-06-30T05:51:39.085Z"
   },
   {
    "duration": 835,
    "start_time": "2021-06-30T05:51:39.097Z"
   },
   {
    "duration": 6,
    "start_time": "2021-06-30T05:51:39.935Z"
   },
   {
    "duration": 24,
    "start_time": "2021-06-30T05:51:39.943Z"
   },
   {
    "duration": 981,
    "start_time": "2021-06-30T05:51:39.970Z"
   },
   {
    "duration": 17,
    "start_time": "2021-06-30T05:51:40.956Z"
   },
   {
    "duration": 968,
    "start_time": "2021-06-30T05:51:40.975Z"
   },
   {
    "duration": 5,
    "start_time": "2021-06-30T05:51:41.945Z"
   },
   {
    "duration": 14,
    "start_time": "2021-06-30T05:51:41.952Z"
   },
   {
    "duration": 1114,
    "start_time": "2021-06-30T05:51:41.968Z"
   },
   {
    "duration": 19,
    "start_time": "2021-06-30T05:51:43.084Z"
   },
   {
    "duration": 894,
    "start_time": "2021-06-30T05:51:43.106Z"
   },
   {
    "duration": 221,
    "start_time": "2021-06-30T05:51:44.002Z"
   },
   {
    "duration": 663,
    "start_time": "2021-06-30T05:51:44.225Z"
   },
   {
    "duration": 7,
    "start_time": "2021-06-30T05:51:44.891Z"
   },
   {
    "duration": 701,
    "start_time": "2021-06-30T05:51:44.900Z"
   },
   {
    "duration": 6,
    "start_time": "2021-06-30T05:51:45.603Z"
   },
   {
    "duration": 16,
    "start_time": "2021-06-30T05:51:45.612Z"
   },
   {
    "duration": 29,
    "start_time": "2021-06-30T05:51:45.630Z"
   },
   {
    "duration": 10,
    "start_time": "2021-06-30T05:51:45.662Z"
   },
   {
    "duration": 16,
    "start_time": "2021-06-30T05:51:45.674Z"
   },
   {
    "duration": 14,
    "start_time": "2021-06-30T05:51:45.693Z"
   },
   {
    "duration": 3,
    "start_time": "2021-06-30T05:51:45.710Z"
   },
   {
    "duration": 48,
    "start_time": "2021-06-30T05:51:45.715Z"
   },
   {
    "duration": 18,
    "start_time": "2021-06-30T05:51:45.766Z"
   },
   {
    "duration": 10,
    "start_time": "2021-06-30T05:51:45.787Z"
   },
   {
    "duration": 20,
    "start_time": "2021-06-30T05:51:45.799Z"
   },
   {
    "duration": 12,
    "start_time": "2021-06-30T06:10:11.588Z"
   },
   {
    "duration": 14,
    "start_time": "2021-06-30T06:10:14.344Z"
   },
   {
    "duration": 286,
    "start_time": "2021-06-30T06:51:05.653Z"
   },
   {
    "duration": 7,
    "start_time": "2021-06-30T06:51:21.448Z"
   },
   {
    "duration": 6,
    "start_time": "2021-06-30T06:51:36.472Z"
   },
   {
    "duration": 8,
    "start_time": "2021-06-30T06:51:48.160Z"
   },
   {
    "duration": 6,
    "start_time": "2021-06-30T06:52:03.825Z"
   },
   {
    "duration": 18,
    "start_time": "2021-06-30T06:52:05.528Z"
   },
   {
    "duration": 6,
    "start_time": "2021-06-30T06:52:34.287Z"
   },
   {
    "duration": 7,
    "start_time": "2021-06-30T06:52:53.325Z"
   },
   {
    "duration": 6,
    "start_time": "2021-06-30T06:52:53.856Z"
   },
   {
    "duration": 96,
    "start_time": "2021-06-30T07:01:45.302Z"
   },
   {
    "duration": 19,
    "start_time": "2021-06-30T07:02:01.157Z"
   },
   {
    "duration": 9,
    "start_time": "2021-06-30T07:03:03.905Z"
   },
   {
    "duration": 5,
    "start_time": "2021-06-30T07:03:12.775Z"
   },
   {
    "duration": 8,
    "start_time": "2021-06-30T07:04:54.669Z"
   },
   {
    "duration": 5,
    "start_time": "2021-06-30T07:05:02.417Z"
   },
   {
    "duration": 5,
    "start_time": "2021-06-30T07:06:22.676Z"
   },
   {
    "duration": 6,
    "start_time": "2021-06-30T07:06:22.684Z"
   },
   {
    "duration": 363,
    "start_time": "2021-06-30T07:06:22.693Z"
   },
   {
    "duration": 5,
    "start_time": "2021-06-30T07:06:23.059Z"
   },
   {
    "duration": 57,
    "start_time": "2021-06-30T07:06:23.066Z"
   },
   {
    "duration": 84,
    "start_time": "2021-06-30T07:06:23.126Z"
   },
   {
    "duration": 76,
    "start_time": "2021-06-30T07:06:23.212Z"
   },
   {
    "duration": 6,
    "start_time": "2021-06-30T07:06:23.291Z"
   },
   {
    "duration": 31,
    "start_time": "2021-06-30T07:06:23.299Z"
   },
   {
    "duration": 26,
    "start_time": "2021-06-30T07:06:23.333Z"
   },
   {
    "duration": 10,
    "start_time": "2021-06-30T07:06:23.361Z"
   },
   {
    "duration": 17,
    "start_time": "2021-06-30T07:06:23.374Z"
   },
   {
    "duration": 23,
    "start_time": "2021-06-30T07:06:23.394Z"
   },
   {
    "duration": 20,
    "start_time": "2021-06-30T07:06:23.419Z"
   },
   {
    "duration": 3,
    "start_time": "2021-06-30T07:06:23.456Z"
   },
   {
    "duration": 10,
    "start_time": "2021-06-30T07:06:23.462Z"
   },
   {
    "duration": 21,
    "start_time": "2021-06-30T07:06:23.474Z"
   },
   {
    "duration": 8,
    "start_time": "2021-06-30T07:06:23.498Z"
   },
   {
    "duration": 48,
    "start_time": "2021-06-30T07:06:23.509Z"
   },
   {
    "duration": 19,
    "start_time": "2021-06-30T07:06:23.560Z"
   },
   {
    "duration": 18,
    "start_time": "2021-06-30T07:06:23.582Z"
   },
   {
    "duration": 25,
    "start_time": "2021-06-30T07:06:23.603Z"
   },
   {
    "duration": 38,
    "start_time": "2021-06-30T07:06:23.655Z"
   },
   {
    "duration": 5,
    "start_time": "2021-06-30T07:06:23.696Z"
   },
   {
    "duration": 53,
    "start_time": "2021-06-30T07:06:23.704Z"
   },
   {
    "duration": 70,
    "start_time": "2021-06-30T07:06:23.760Z"
   },
   {
    "duration": 14,
    "start_time": "2021-06-30T07:06:23.856Z"
   },
   {
    "duration": 343,
    "start_time": "2021-06-30T07:06:23.873Z"
   },
   {
    "duration": 10,
    "start_time": "2021-06-30T07:06:24.218Z"
   },
   {
    "duration": 270,
    "start_time": "2021-06-30T07:06:24.230Z"
   },
   {
    "duration": 24,
    "start_time": "2021-06-30T07:06:24.502Z"
   },
   {
    "duration": 27,
    "start_time": "2021-06-30T07:06:24.529Z"
   },
   {
    "duration": 834,
    "start_time": "2021-06-30T07:06:24.559Z"
   },
   {
    "duration": 7,
    "start_time": "2021-06-30T07:06:25.396Z"
   },
   {
    "duration": 18,
    "start_time": "2021-06-30T07:06:25.405Z"
   },
   {
    "duration": 842,
    "start_time": "2021-06-30T07:06:25.425Z"
   },
   {
    "duration": 18,
    "start_time": "2021-06-30T07:06:26.269Z"
   },
   {
    "duration": 872,
    "start_time": "2021-06-30T07:06:26.290Z"
   },
   {
    "duration": 6,
    "start_time": "2021-06-30T07:06:27.164Z"
   },
   {
    "duration": 21,
    "start_time": "2021-06-30T07:06:27.172Z"
   },
   {
    "duration": 813,
    "start_time": "2021-06-30T07:06:27.196Z"
   },
   {
    "duration": 19,
    "start_time": "2021-06-30T07:06:28.012Z"
   },
   {
    "duration": 1050,
    "start_time": "2021-06-30T07:06:28.034Z"
   },
   {
    "duration": 186,
    "start_time": "2021-06-30T07:06:29.087Z"
   },
   {
    "duration": 698,
    "start_time": "2021-06-30T07:06:29.276Z"
   },
   {
    "duration": 9,
    "start_time": "2021-06-30T07:06:29.978Z"
   },
   {
    "duration": 756,
    "start_time": "2021-06-30T07:06:29.989Z"
   },
   {
    "duration": 8,
    "start_time": "2021-06-30T07:06:30.755Z"
   },
   {
    "duration": 35,
    "start_time": "2021-06-30T07:06:30.765Z"
   },
   {
    "duration": 27,
    "start_time": "2021-06-30T07:06:30.803Z"
   },
   {
    "duration": 24,
    "start_time": "2021-06-30T07:06:30.832Z"
   },
   {
    "duration": 37,
    "start_time": "2021-06-30T07:06:30.858Z"
   },
   {
    "duration": 38,
    "start_time": "2021-06-30T07:06:30.897Z"
   },
   {
    "duration": 14,
    "start_time": "2021-06-30T07:06:30.937Z"
   },
   {
    "duration": 38,
    "start_time": "2021-06-30T07:06:30.953Z"
   },
   {
    "duration": 17,
    "start_time": "2021-06-30T07:06:30.993Z"
   },
   {
    "duration": 28,
    "start_time": "2021-06-30T07:06:31.012Z"
   },
   {
    "duration": 24,
    "start_time": "2021-06-30T07:06:31.042Z"
   },
   {
    "duration": 9,
    "start_time": "2021-06-30T07:08:52.469Z"
   },
   {
    "duration": 6,
    "start_time": "2021-06-30T07:08:53.256Z"
   },
   {
    "duration": 12,
    "start_time": "2021-06-30T07:12:25.830Z"
   },
   {
    "duration": 6,
    "start_time": "2021-06-30T07:13:24.472Z"
   },
   {
    "duration": 10,
    "start_time": "2021-06-30T07:13:24.480Z"
   },
   {
    "duration": 189,
    "start_time": "2021-06-30T07:13:24.494Z"
   },
   {
    "duration": 4,
    "start_time": "2021-06-30T07:13:24.686Z"
   },
   {
    "duration": 69,
    "start_time": "2021-06-30T07:13:24.693Z"
   },
   {
    "duration": 91,
    "start_time": "2021-06-30T07:13:24.765Z"
   },
   {
    "duration": 50,
    "start_time": "2021-06-30T07:13:24.858Z"
   },
   {
    "duration": 6,
    "start_time": "2021-06-30T07:13:24.912Z"
   },
   {
    "duration": 18,
    "start_time": "2021-06-30T07:13:24.957Z"
   },
   {
    "duration": 14,
    "start_time": "2021-06-30T07:13:24.978Z"
   },
   {
    "duration": 11,
    "start_time": "2021-06-30T07:13:24.994Z"
   },
   {
    "duration": 16,
    "start_time": "2021-06-30T07:13:25.007Z"
   },
   {
    "duration": 46,
    "start_time": "2021-06-30T07:13:25.026Z"
   },
   {
    "duration": 15,
    "start_time": "2021-06-30T07:13:25.074Z"
   },
   {
    "duration": 6,
    "start_time": "2021-06-30T07:13:25.092Z"
   },
   {
    "duration": 14,
    "start_time": "2021-06-30T07:13:25.101Z"
   },
   {
    "duration": 38,
    "start_time": "2021-06-30T07:13:25.118Z"
   },
   {
    "duration": 9,
    "start_time": "2021-06-30T07:13:25.158Z"
   },
   {
    "duration": 25,
    "start_time": "2021-06-30T07:13:25.169Z"
   },
   {
    "duration": 19,
    "start_time": "2021-06-30T07:13:25.197Z"
   },
   {
    "duration": 45,
    "start_time": "2021-06-30T07:13:25.219Z"
   },
   {
    "duration": 18,
    "start_time": "2021-06-30T07:13:25.267Z"
   },
   {
    "duration": 70,
    "start_time": "2021-06-30T07:13:25.296Z"
   },
   {
    "duration": 6,
    "start_time": "2021-06-30T07:13:25.370Z"
   },
   {
    "duration": 25,
    "start_time": "2021-06-30T07:13:25.380Z"
   },
   {
    "duration": 104,
    "start_time": "2021-06-30T07:13:25.408Z"
   },
   {
    "duration": 13,
    "start_time": "2021-06-30T07:13:25.514Z"
   },
   {
    "duration": 490,
    "start_time": "2021-06-30T07:13:25.562Z"
   },
   {
    "duration": 14,
    "start_time": "2021-06-30T07:13:26.057Z"
   },
   {
    "duration": 384,
    "start_time": "2021-06-30T07:13:26.074Z"
   },
   {
    "duration": 26,
    "start_time": "2021-06-30T07:13:26.461Z"
   },
   {
    "duration": 29,
    "start_time": "2021-06-30T07:13:26.490Z"
   },
   {
    "duration": 1145,
    "start_time": "2021-06-30T07:13:26.522Z"
   },
   {
    "duration": 8,
    "start_time": "2021-06-30T07:13:27.670Z"
   },
   {
    "duration": 11,
    "start_time": "2021-06-30T07:13:27.681Z"
   },
   {
    "duration": 28,
    "start_time": "2021-06-30T07:13:27.695Z"
   },
   {
    "duration": 1258,
    "start_time": "2021-06-30T07:13:27.726Z"
   },
   {
    "duration": 24,
    "start_time": "2021-06-30T07:13:28.987Z"
   },
   {
    "duration": 925,
    "start_time": "2021-06-30T07:13:29.014Z"
   },
   {
    "duration": 18,
    "start_time": "2021-06-30T07:13:29.941Z"
   },
   {
    "duration": 16,
    "start_time": "2021-06-30T07:13:29.962Z"
   },
   {
    "duration": 1238,
    "start_time": "2021-06-30T07:13:29.980Z"
   },
   {
    "duration": 41,
    "start_time": "2021-06-30T07:13:31.222Z"
   },
   {
    "duration": 1447,
    "start_time": "2021-06-30T07:13:31.266Z"
   },
   {
    "duration": 351,
    "start_time": "2021-06-30T07:13:32.716Z"
   },
   {
    "duration": 975,
    "start_time": "2021-06-30T07:13:33.071Z"
   },
   {
    "duration": 11,
    "start_time": "2021-06-30T07:13:34.057Z"
   },
   {
    "duration": 709,
    "start_time": "2021-06-30T07:13:34.071Z"
   },
   {
    "duration": 10,
    "start_time": "2021-06-30T07:13:34.783Z"
   },
   {
    "duration": 19,
    "start_time": "2021-06-30T07:13:34.795Z"
   },
   {
    "duration": 27,
    "start_time": "2021-06-30T07:13:34.817Z"
   },
   {
    "duration": 15,
    "start_time": "2021-06-30T07:13:34.847Z"
   },
   {
    "duration": 15,
    "start_time": "2021-06-30T07:13:34.864Z"
   },
   {
    "duration": 139,
    "start_time": "2021-06-30T07:13:34.881Z"
   },
   {
    "duration": 33,
    "start_time": "2021-06-30T07:13:35.022Z"
   },
   {
    "duration": 13,
    "start_time": "2021-06-30T07:13:35.058Z"
   },
   {
    "duration": 15,
    "start_time": "2021-06-30T07:13:35.074Z"
   },
   {
    "duration": 15,
    "start_time": "2021-06-30T07:13:35.091Z"
   },
   {
    "duration": 12,
    "start_time": "2021-06-30T07:13:35.108Z"
   },
   {
    "duration": 10,
    "start_time": "2021-06-30T07:13:35.156Z"
   },
   {
    "duration": 5,
    "start_time": "2021-06-30T07:17:29.852Z"
   },
   {
    "duration": 15,
    "start_time": "2021-06-30T07:17:29.859Z"
   },
   {
    "duration": 202,
    "start_time": "2021-06-30T07:17:29.877Z"
   },
   {
    "duration": 4,
    "start_time": "2021-06-30T07:17:30.082Z"
   },
   {
    "duration": 78,
    "start_time": "2021-06-30T07:17:30.089Z"
   },
   {
    "duration": 54,
    "start_time": "2021-06-30T07:17:30.169Z"
   },
   {
    "duration": 73,
    "start_time": "2021-06-30T07:17:30.225Z"
   },
   {
    "duration": 6,
    "start_time": "2021-06-30T07:17:30.302Z"
   },
   {
    "duration": 67,
    "start_time": "2021-06-30T07:17:30.312Z"
   },
   {
    "duration": 12,
    "start_time": "2021-06-30T07:17:30.381Z"
   },
   {
    "duration": 14,
    "start_time": "2021-06-30T07:17:30.396Z"
   },
   {
    "duration": 22,
    "start_time": "2021-06-30T07:17:30.413Z"
   },
   {
    "duration": 37,
    "start_time": "2021-06-30T07:17:30.438Z"
   },
   {
    "duration": 20,
    "start_time": "2021-06-30T07:17:30.478Z"
   },
   {
    "duration": 22,
    "start_time": "2021-06-30T07:17:30.501Z"
   },
   {
    "duration": 58,
    "start_time": "2021-06-30T07:17:30.525Z"
   },
   {
    "duration": 61,
    "start_time": "2021-06-30T07:17:30.585Z"
   },
   {
    "duration": 27,
    "start_time": "2021-06-30T07:17:30.649Z"
   },
   {
    "duration": 41,
    "start_time": "2021-06-30T07:17:30.679Z"
   },
   {
    "duration": 29,
    "start_time": "2021-06-30T07:17:30.722Z"
   },
   {
    "duration": 25,
    "start_time": "2021-06-30T07:17:30.754Z"
   },
   {
    "duration": 41,
    "start_time": "2021-06-30T07:17:30.781Z"
   },
   {
    "duration": 53,
    "start_time": "2021-06-30T07:17:30.828Z"
   },
   {
    "duration": 23,
    "start_time": "2021-06-30T07:17:30.884Z"
   },
   {
    "duration": 38,
    "start_time": "2021-06-30T07:17:30.909Z"
   },
   {
    "duration": 73,
    "start_time": "2021-06-30T07:17:30.949Z"
   },
   {
    "duration": 45,
    "start_time": "2021-06-30T07:17:31.024Z"
   },
   {
    "duration": 357,
    "start_time": "2021-06-30T07:17:31.072Z"
   },
   {
    "duration": 9,
    "start_time": "2021-06-30T07:17:31.431Z"
   },
   {
    "duration": 327,
    "start_time": "2021-06-30T07:17:31.443Z"
   },
   {
    "duration": 32,
    "start_time": "2021-06-30T07:17:31.772Z"
   },
   {
    "duration": 9,
    "start_time": "2021-06-30T07:17:31.806Z"
   },
   {
    "duration": 856,
    "start_time": "2021-06-30T07:17:31.817Z"
   },
   {
    "duration": 6,
    "start_time": "2021-06-30T07:17:32.675Z"
   },
   {
    "duration": 21,
    "start_time": "2021-06-30T07:17:32.684Z"
   },
   {
    "duration": 32,
    "start_time": "2021-06-30T07:17:32.708Z"
   },
   {
    "duration": 804,
    "start_time": "2021-06-30T07:17:32.742Z"
   },
   {
    "duration": 19,
    "start_time": "2021-06-30T07:17:33.555Z"
   },
   {
    "duration": 898,
    "start_time": "2021-06-30T07:17:33.576Z"
   },
   {
    "duration": 5,
    "start_time": "2021-06-30T07:17:34.477Z"
   },
   {
    "duration": 15,
    "start_time": "2021-06-30T07:17:34.484Z"
   },
   {
    "duration": 820,
    "start_time": "2021-06-30T07:17:34.501Z"
   },
   {
    "duration": 20,
    "start_time": "2021-06-30T07:17:35.323Z"
   },
   {
    "duration": 887,
    "start_time": "2021-06-30T07:17:35.356Z"
   },
   {
    "duration": 204,
    "start_time": "2021-06-30T07:17:36.246Z"
   },
   {
    "duration": 648,
    "start_time": "2021-06-30T07:17:36.455Z"
   },
   {
    "duration": 9,
    "start_time": "2021-06-30T07:17:37.105Z"
   },
   {
    "duration": 714,
    "start_time": "2021-06-30T07:17:37.117Z"
   },
   {
    "duration": 23,
    "start_time": "2021-06-30T07:17:37.834Z"
   },
   {
    "duration": 17,
    "start_time": "2021-06-30T07:17:37.859Z"
   },
   {
    "duration": 7,
    "start_time": "2021-06-30T07:17:37.878Z"
   },
   {
    "duration": 8,
    "start_time": "2021-06-30T07:17:37.887Z"
   },
   {
    "duration": 16,
    "start_time": "2021-06-30T07:17:37.897Z"
   },
   {
    "duration": 46,
    "start_time": "2021-06-30T07:17:37.915Z"
   },
   {
    "duration": 12,
    "start_time": "2021-06-30T07:17:37.964Z"
   },
   {
    "duration": 16,
    "start_time": "2021-06-30T07:17:37.978Z"
   },
   {
    "duration": 11,
    "start_time": "2021-06-30T07:17:37.997Z"
   },
   {
    "duration": 46,
    "start_time": "2021-06-30T07:17:38.010Z"
   },
   {
    "duration": 15,
    "start_time": "2021-06-30T07:17:38.059Z"
   },
   {
    "duration": 1415,
    "start_time": "2021-06-30T07:19:06.102Z"
   },
   {
    "duration": 5,
    "start_time": "2021-06-30T07:19:07.521Z"
   },
   {
    "duration": 189,
    "start_time": "2021-06-30T07:19:07.529Z"
   },
   {
    "duration": 4,
    "start_time": "2021-06-30T07:19:07.721Z"
   },
   {
    "duration": 60,
    "start_time": "2021-06-30T07:19:07.728Z"
   },
   {
    "duration": 82,
    "start_time": "2021-06-30T07:19:07.791Z"
   },
   {
    "duration": 44,
    "start_time": "2021-06-30T07:19:07.876Z"
   },
   {
    "duration": 5,
    "start_time": "2021-06-30T07:19:07.958Z"
   },
   {
    "duration": 19,
    "start_time": "2021-06-30T07:19:07.967Z"
   },
   {
    "duration": 5,
    "start_time": "2021-06-30T07:19:07.989Z"
   },
   {
    "duration": 8,
    "start_time": "2021-06-30T07:19:07.996Z"
   },
   {
    "duration": 11,
    "start_time": "2021-06-30T07:19:08.006Z"
   },
   {
    "duration": 444,
    "start_time": "2021-06-30T07:19:08.020Z"
   },
   {
    "duration": -113,
    "start_time": "2021-06-30T07:19:08.581Z"
   },
   {
    "duration": -117,
    "start_time": "2021-06-30T07:19:08.587Z"
   },
   {
    "duration": -118,
    "start_time": "2021-06-30T07:19:08.590Z"
   },
   {
    "duration": -119,
    "start_time": "2021-06-30T07:19:08.592Z"
   },
   {
    "duration": -119,
    "start_time": "2021-06-30T07:19:08.594Z"
   },
   {
    "duration": -120,
    "start_time": "2021-06-30T07:19:08.596Z"
   },
   {
    "duration": -121,
    "start_time": "2021-06-30T07:19:08.598Z"
   },
   {
    "duration": -122,
    "start_time": "2021-06-30T07:19:08.601Z"
   },
   {
    "duration": -124,
    "start_time": "2021-06-30T07:19:08.604Z"
   },
   {
    "duration": -128,
    "start_time": "2021-06-30T07:19:08.610Z"
   },
   {
    "duration": -129,
    "start_time": "2021-06-30T07:19:08.612Z"
   },
   {
    "duration": -130,
    "start_time": "2021-06-30T07:19:08.614Z"
   },
   {
    "duration": -130,
    "start_time": "2021-06-30T07:19:08.616Z"
   },
   {
    "duration": -132,
    "start_time": "2021-06-30T07:19:08.619Z"
   },
   {
    "duration": -132,
    "start_time": "2021-06-30T07:19:08.621Z"
   },
   {
    "duration": -155,
    "start_time": "2021-06-30T07:19:08.645Z"
   },
   {
    "duration": -201,
    "start_time": "2021-06-30T07:19:08.693Z"
   },
   {
    "duration": -202,
    "start_time": "2021-06-30T07:19:08.695Z"
   },
   {
    "duration": -202,
    "start_time": "2021-06-30T07:19:08.697Z"
   },
   {
    "duration": -204,
    "start_time": "2021-06-30T07:19:08.700Z"
   },
   {
    "duration": -205,
    "start_time": "2021-06-30T07:19:08.702Z"
   },
   {
    "duration": -205,
    "start_time": "2021-06-30T07:19:08.704Z"
   },
   {
    "duration": -206,
    "start_time": "2021-06-30T07:19:08.706Z"
   },
   {
    "duration": -207,
    "start_time": "2021-06-30T07:19:08.708Z"
   },
   {
    "duration": -207,
    "start_time": "2021-06-30T07:19:08.710Z"
   },
   {
    "duration": -208,
    "start_time": "2021-06-30T07:19:08.712Z"
   },
   {
    "duration": -209,
    "start_time": "2021-06-30T07:19:08.714Z"
   },
   {
    "duration": -161,
    "start_time": "2021-06-30T07:19:08.716Z"
   },
   {
    "duration": -161,
    "start_time": "2021-06-30T07:19:08.718Z"
   },
   {
    "duration": -162,
    "start_time": "2021-06-30T07:19:08.720Z"
   },
   {
    "duration": -163,
    "start_time": "2021-06-30T07:19:08.722Z"
   },
   {
    "duration": -163,
    "start_time": "2021-06-30T07:19:08.724Z"
   },
   {
    "duration": -183,
    "start_time": "2021-06-30T07:19:08.745Z"
   },
   {
    "duration": -184,
    "start_time": "2021-06-30T07:19:08.747Z"
   },
   {
    "duration": -185,
    "start_time": "2021-06-30T07:19:08.749Z"
   },
   {
    "duration": -185,
    "start_time": "2021-06-30T07:19:08.751Z"
   },
   {
    "duration": -224,
    "start_time": "2021-06-30T07:19:08.791Z"
   },
   {
    "duration": -236,
    "start_time": "2021-06-30T07:19:08.804Z"
   },
   {
    "duration": -236,
    "start_time": "2021-06-30T07:19:08.806Z"
   },
   {
    "duration": -236,
    "start_time": "2021-06-30T07:19:08.808Z"
   },
   {
    "duration": -241,
    "start_time": "2021-06-30T07:19:08.814Z"
   },
   {
    "duration": -242,
    "start_time": "2021-06-30T07:19:08.817Z"
   },
   {
    "duration": -244,
    "start_time": "2021-06-30T07:19:08.820Z"
   },
   {
    "duration": -243,
    "start_time": "2021-06-30T07:19:08.821Z"
   },
   {
    "duration": -244,
    "start_time": "2021-06-30T07:19:08.823Z"
   },
   {
    "duration": -245,
    "start_time": "2021-06-30T07:19:08.825Z"
   },
   {
    "duration": 22,
    "start_time": "2021-06-30T07:19:38.777Z"
   },
   {
    "duration": 5,
    "start_time": "2021-06-30T07:19:44.557Z"
   },
   {
    "duration": 10,
    "start_time": "2021-06-30T07:19:44.565Z"
   },
   {
    "duration": 193,
    "start_time": "2021-06-30T07:19:44.578Z"
   },
   {
    "duration": 5,
    "start_time": "2021-06-30T07:19:44.773Z"
   },
   {
    "duration": 77,
    "start_time": "2021-06-30T07:19:44.780Z"
   },
   {
    "duration": 59,
    "start_time": "2021-06-30T07:19:44.860Z"
   },
   {
    "duration": 46,
    "start_time": "2021-06-30T07:19:44.955Z"
   },
   {
    "duration": 6,
    "start_time": "2021-06-30T07:19:45.005Z"
   },
   {
    "duration": 56,
    "start_time": "2021-06-30T07:19:45.015Z"
   },
   {
    "duration": 5,
    "start_time": "2021-06-30T07:19:45.073Z"
   },
   {
    "duration": 24,
    "start_time": "2021-06-30T07:19:45.081Z"
   },
   {
    "duration": 9,
    "start_time": "2021-06-30T07:19:45.107Z"
   },
   {
    "duration": 38,
    "start_time": "2021-06-30T07:19:45.119Z"
   },
   {
    "duration": 14,
    "start_time": "2021-06-30T07:19:45.160Z"
   },
   {
    "duration": 6,
    "start_time": "2021-06-30T07:19:45.177Z"
   },
   {
    "duration": 7,
    "start_time": "2021-06-30T07:19:45.185Z"
   },
   {
    "duration": 18,
    "start_time": "2021-06-30T07:19:45.194Z"
   },
   {
    "duration": 10,
    "start_time": "2021-06-30T07:19:45.214Z"
   },
   {
    "duration": 47,
    "start_time": "2021-06-30T07:19:45.226Z"
   },
   {
    "duration": 18,
    "start_time": "2021-06-30T07:19:45.276Z"
   },
   {
    "duration": 15,
    "start_time": "2021-06-30T07:19:45.297Z"
   },
   {
    "duration": 47,
    "start_time": "2021-06-30T07:19:45.315Z"
   },
   {
    "duration": 550,
    "start_time": "2021-06-30T07:19:45.369Z"
   },
   {
    "duration": 6,
    "start_time": "2021-06-30T07:19:45.923Z"
   },
   {
    "duration": 40,
    "start_time": "2021-06-30T07:19:45.931Z"
   },
   {
    "duration": 87,
    "start_time": "2021-06-30T07:19:45.974Z"
   },
   {
    "duration": 15,
    "start_time": "2021-06-30T07:19:46.064Z"
   },
   {
    "duration": 351,
    "start_time": "2021-06-30T07:19:46.081Z"
   },
   {
    "duration": 21,
    "start_time": "2021-06-30T07:19:46.435Z"
   },
   {
    "duration": 268,
    "start_time": "2021-06-30T07:19:46.458Z"
   },
   {
    "duration": 36,
    "start_time": "2021-06-30T07:19:46.728Z"
   },
   {
    "duration": 17,
    "start_time": "2021-06-30T07:19:46.766Z"
   },
   {
    "duration": 888,
    "start_time": "2021-06-30T07:19:46.785Z"
   },
   {
    "duration": 6,
    "start_time": "2021-06-30T07:19:47.675Z"
   },
   {
    "duration": 18,
    "start_time": "2021-06-30T07:19:47.683Z"
   },
   {
    "duration": 14,
    "start_time": "2021-06-30T07:19:47.703Z"
   },
   {
    "duration": 830,
    "start_time": "2021-06-30T07:19:47.720Z"
   },
   {
    "duration": 17,
    "start_time": "2021-06-30T07:19:48.555Z"
   },
   {
    "duration": 949,
    "start_time": "2021-06-30T07:19:48.574Z"
   },
   {
    "duration": 6,
    "start_time": "2021-06-30T07:19:49.525Z"
   },
   {
    "duration": 23,
    "start_time": "2021-06-30T07:19:49.533Z"
   },
   {
    "duration": 902,
    "start_time": "2021-06-30T07:19:49.559Z"
   },
   {
    "duration": 19,
    "start_time": "2021-06-30T07:19:50.464Z"
   },
   {
    "duration": 882,
    "start_time": "2021-06-30T07:19:50.486Z"
   },
   {
    "duration": 238,
    "start_time": "2021-06-30T07:19:51.371Z"
   },
   {
    "duration": 675,
    "start_time": "2021-06-30T07:19:51.612Z"
   },
   {
    "duration": 9,
    "start_time": "2021-06-30T07:19:52.289Z"
   },
   {
    "duration": 704,
    "start_time": "2021-06-30T07:19:52.300Z"
   },
   {
    "duration": 8,
    "start_time": "2021-06-30T07:19:53.007Z"
   },
   {
    "duration": 40,
    "start_time": "2021-06-30T07:19:53.018Z"
   },
   {
    "duration": 8,
    "start_time": "2021-06-30T07:19:53.060Z"
   },
   {
    "duration": 12,
    "start_time": "2021-06-30T07:19:53.071Z"
   },
   {
    "duration": 17,
    "start_time": "2021-06-30T07:19:53.085Z"
   },
   {
    "duration": 15,
    "start_time": "2021-06-30T07:19:53.104Z"
   },
   {
    "duration": 38,
    "start_time": "2021-06-30T07:19:53.121Z"
   },
   {
    "duration": 13,
    "start_time": "2021-06-30T07:19:53.162Z"
   },
   {
    "duration": 21,
    "start_time": "2021-06-30T07:19:53.177Z"
   },
   {
    "duration": 11,
    "start_time": "2021-06-30T07:19:53.200Z"
   },
   {
    "duration": 45,
    "start_time": "2021-06-30T07:19:53.213Z"
   },
   {
    "duration": 1444,
    "start_time": "2021-06-30T07:21:30.161Z"
   },
   {
    "duration": 3,
    "start_time": "2021-06-30T07:21:31.608Z"
   },
   {
    "duration": 184,
    "start_time": "2021-06-30T07:21:31.614Z"
   },
   {
    "duration": 4,
    "start_time": "2021-06-30T07:21:31.801Z"
   },
   {
    "duration": 94,
    "start_time": "2021-06-30T07:21:31.808Z"
   },
   {
    "duration": 77,
    "start_time": "2021-06-30T07:21:31.904Z"
   },
   {
    "duration": 42,
    "start_time": "2021-06-30T07:21:31.984Z"
   },
   {
    "duration": 30,
    "start_time": "2021-06-30T07:21:32.029Z"
   },
   {
    "duration": 18,
    "start_time": "2021-06-30T07:21:32.062Z"
   },
   {
    "duration": 22,
    "start_time": "2021-06-30T07:21:32.082Z"
   },
   {
    "duration": 16,
    "start_time": "2021-06-30T07:21:32.107Z"
   },
   {
    "duration": 39,
    "start_time": "2021-06-30T07:21:32.126Z"
   },
   {
    "duration": 72,
    "start_time": "2021-06-30T07:21:32.168Z"
   },
   {
    "duration": 19,
    "start_time": "2021-06-30T07:21:32.243Z"
   },
   {
    "duration": 28,
    "start_time": "2021-06-30T07:21:32.265Z"
   },
   {
    "duration": 28,
    "start_time": "2021-06-30T07:21:32.295Z"
   },
   {
    "duration": 26,
    "start_time": "2021-06-30T07:21:32.325Z"
   },
   {
    "duration": 20,
    "start_time": "2021-06-30T07:21:32.354Z"
   },
   {
    "duration": 40,
    "start_time": "2021-06-30T07:21:32.377Z"
   },
   {
    "duration": 45,
    "start_time": "2021-06-30T07:21:32.419Z"
   },
   {
    "duration": 37,
    "start_time": "2021-06-30T07:21:32.466Z"
   },
   {
    "duration": 22,
    "start_time": "2021-06-30T07:21:32.505Z"
   },
   {
    "duration": 562,
    "start_time": "2021-06-30T07:21:32.532Z"
   },
   {
    "duration": 6,
    "start_time": "2021-06-30T07:21:33.098Z"
   },
   {
    "duration": 28,
    "start_time": "2021-06-30T07:21:33.106Z"
   },
   {
    "duration": 89,
    "start_time": "2021-06-30T07:21:33.136Z"
   },
   {
    "duration": 41,
    "start_time": "2021-06-30T07:21:33.228Z"
   },
   {
    "duration": 356,
    "start_time": "2021-06-30T07:21:33.272Z"
   },
   {
    "duration": 10,
    "start_time": "2021-06-30T07:21:33.630Z"
   },
   {
    "duration": 267,
    "start_time": "2021-06-30T07:21:33.642Z"
   },
   {
    "duration": 30,
    "start_time": "2021-06-30T07:21:33.911Z"
   },
   {
    "duration": 20,
    "start_time": "2021-06-30T07:21:33.943Z"
   },
   {
    "duration": 853,
    "start_time": "2021-06-30T07:21:33.966Z"
   },
   {
    "duration": 5,
    "start_time": "2021-06-30T07:21:34.821Z"
   },
   {
    "duration": 27,
    "start_time": "2021-06-30T07:21:34.828Z"
   },
   {
    "duration": 14,
    "start_time": "2021-06-30T07:21:34.858Z"
   },
   {
    "duration": 835,
    "start_time": "2021-06-30T07:21:34.875Z"
   },
   {
    "duration": 18,
    "start_time": "2021-06-30T07:21:35.712Z"
   },
   {
    "duration": 986,
    "start_time": "2021-06-30T07:21:35.733Z"
   },
   {
    "duration": 5,
    "start_time": "2021-06-30T07:21:36.722Z"
   },
   {
    "duration": 26,
    "start_time": "2021-06-30T07:21:36.730Z"
   },
   {
    "duration": 1052,
    "start_time": "2021-06-30T07:21:36.758Z"
   },
   {
    "duration": 20,
    "start_time": "2021-06-30T07:21:37.813Z"
   },
   {
    "duration": 1004,
    "start_time": "2021-06-30T07:21:37.836Z"
   },
   {
    "duration": 204,
    "start_time": "2021-06-30T07:21:38.842Z"
   },
   {
    "duration": 679,
    "start_time": "2021-06-30T07:21:39.057Z"
   },
   {
    "duration": 20,
    "start_time": "2021-06-30T07:21:39.739Z"
   },
   {
    "duration": 701,
    "start_time": "2021-06-30T07:21:39.761Z"
   },
   {
    "duration": 9,
    "start_time": "2021-06-30T07:21:40.465Z"
   },
   {
    "duration": 16,
    "start_time": "2021-06-30T07:21:40.476Z"
   },
   {
    "duration": 8,
    "start_time": "2021-06-30T07:21:40.494Z"
   },
   {
    "duration": 11,
    "start_time": "2021-06-30T07:21:40.505Z"
   },
   {
    "duration": 46,
    "start_time": "2021-06-30T07:21:40.519Z"
   },
   {
    "duration": 16,
    "start_time": "2021-06-30T07:21:40.568Z"
   },
   {
    "duration": 13,
    "start_time": "2021-06-30T07:21:40.586Z"
   },
   {
    "duration": 56,
    "start_time": "2021-06-30T07:21:40.602Z"
   },
   {
    "duration": 10,
    "start_time": "2021-06-30T07:21:40.661Z"
   },
   {
    "duration": 12,
    "start_time": "2021-06-30T07:21:40.674Z"
   },
   {
    "duration": 16,
    "start_time": "2021-06-30T07:21:40.688Z"
   },
   {
    "duration": 60,
    "start_time": "2021-06-30T17:11:09.208Z"
   },
   {
    "duration": 1125,
    "start_time": "2021-06-30T17:13:17.678Z"
   },
   {
    "duration": 3,
    "start_time": "2021-06-30T17:13:18.804Z"
   },
   {
    "duration": 356,
    "start_time": "2021-06-30T17:13:18.809Z"
   },
   {
    "duration": 3,
    "start_time": "2021-06-30T17:13:19.167Z"
   },
   {
    "duration": 40,
    "start_time": "2021-06-30T17:13:19.172Z"
   },
   {
    "duration": 34,
    "start_time": "2021-06-30T17:13:19.213Z"
   },
   {
    "duration": 60,
    "start_time": "2021-06-30T17:13:19.249Z"
   },
   {
    "duration": 4,
    "start_time": "2021-06-30T17:13:19.312Z"
   },
   {
    "duration": 12,
    "start_time": "2021-06-30T17:13:19.318Z"
   },
   {
    "duration": 6,
    "start_time": "2021-06-30T17:13:19.331Z"
   },
   {
    "duration": 46,
    "start_time": "2021-06-30T17:13:19.339Z"
   },
   {
    "duration": 8,
    "start_time": "2021-06-30T17:13:19.387Z"
   },
   {
    "duration": 21,
    "start_time": "2021-06-30T17:13:19.397Z"
   },
   {
    "duration": 8,
    "start_time": "2021-06-30T17:13:19.420Z"
   },
   {
    "duration": 8,
    "start_time": "2021-06-30T17:13:19.429Z"
   },
   {
    "duration": 11,
    "start_time": "2021-06-30T17:13:19.438Z"
   },
   {
    "duration": 14,
    "start_time": "2021-06-30T17:13:19.450Z"
   },
   {
    "duration": 19,
    "start_time": "2021-06-30T17:13:19.466Z"
   },
   {
    "duration": 16,
    "start_time": "2021-06-30T17:13:19.487Z"
   },
   {
    "duration": 18,
    "start_time": "2021-06-30T17:13:19.505Z"
   },
   {
    "duration": 13,
    "start_time": "2021-06-30T17:13:19.525Z"
   },
   {
    "duration": 9,
    "start_time": "2021-06-30T17:13:19.540Z"
   },
   {
    "duration": 675,
    "start_time": "2021-06-30T17:13:19.586Z"
   },
   {
    "duration": 5,
    "start_time": "2021-06-30T17:13:20.263Z"
   },
   {
    "duration": 25,
    "start_time": "2021-06-30T17:13:20.269Z"
   },
   {
    "duration": 41,
    "start_time": "2021-06-30T17:13:20.295Z"
   },
   {
    "duration": 11,
    "start_time": "2021-06-30T17:13:20.337Z"
   },
   {
    "duration": 220,
    "start_time": "2021-06-30T17:13:20.350Z"
   },
   {
    "duration": 14,
    "start_time": "2021-06-30T17:13:20.572Z"
   },
   {
    "duration": 161,
    "start_time": "2021-06-30T17:13:20.588Z"
   },
   {
    "duration": 13,
    "start_time": "2021-06-30T17:13:20.751Z"
   },
   {
    "duration": 23,
    "start_time": "2021-06-30T17:13:20.766Z"
   },
   {
    "duration": 594,
    "start_time": "2021-06-30T17:13:20.791Z"
   },
   {
    "duration": 6,
    "start_time": "2021-06-30T17:13:21.387Z"
   },
   {
    "duration": 7,
    "start_time": "2021-06-30T17:13:21.395Z"
   },
   {
    "duration": 14,
    "start_time": "2021-06-30T17:13:21.404Z"
   },
   {
    "duration": 620,
    "start_time": "2021-06-30T17:13:21.421Z"
   },
   {
    "duration": 11,
    "start_time": "2021-06-30T17:13:22.043Z"
   },
   {
    "duration": 679,
    "start_time": "2021-06-30T17:13:22.056Z"
   },
   {
    "duration": 4,
    "start_time": "2021-06-30T17:13:22.737Z"
   },
   {
    "duration": 8,
    "start_time": "2021-06-30T17:13:22.743Z"
   },
   {
    "duration": 672,
    "start_time": "2021-06-30T17:13:22.753Z"
   },
   {
    "duration": 17,
    "start_time": "2021-06-30T17:13:23.427Z"
   },
   {
    "duration": 641,
    "start_time": "2021-06-30T17:13:23.446Z"
   },
   {
    "duration": 132,
    "start_time": "2021-06-30T17:13:24.089Z"
   },
   {
    "duration": 462,
    "start_time": "2021-06-30T17:13:24.222Z"
   },
   {
    "duration": 6,
    "start_time": "2021-06-30T17:13:24.686Z"
   },
   {
    "duration": 517,
    "start_time": "2021-06-30T17:13:24.693Z"
   },
   {
    "duration": 7,
    "start_time": "2021-06-30T17:13:25.211Z"
   },
   {
    "duration": 10,
    "start_time": "2021-06-30T17:13:25.220Z"
   },
   {
    "duration": 4,
    "start_time": "2021-06-30T17:13:25.232Z"
   },
   {
    "duration": 6,
    "start_time": "2021-06-30T17:13:25.238Z"
   },
   {
    "duration": 40,
    "start_time": "2021-06-30T17:13:25.245Z"
   },
   {
    "duration": 10,
    "start_time": "2021-06-30T17:13:25.287Z"
   },
   {
    "duration": 8,
    "start_time": "2021-06-30T17:13:25.299Z"
   },
   {
    "duration": 8,
    "start_time": "2021-06-30T17:13:25.309Z"
   },
   {
    "duration": 9,
    "start_time": "2021-06-30T17:13:25.319Z"
   },
   {
    "duration": 7,
    "start_time": "2021-06-30T17:13:25.330Z"
   },
   {
    "duration": 11,
    "start_time": "2021-06-30T17:13:25.338Z"
   },
   {
    "duration": 59,
    "start_time": "2021-06-30T17:17:16.415Z"
   },
   {
    "duration": 1720,
    "start_time": "2021-07-01T01:14:47.317Z"
   },
   {
    "duration": 3,
    "start_time": "2021-07-01T01:14:49.040Z"
   },
   {
    "duration": 477,
    "start_time": "2021-07-01T01:14:49.046Z"
   },
   {
    "duration": 4,
    "start_time": "2021-07-01T01:14:49.526Z"
   },
   {
    "duration": 63,
    "start_time": "2021-07-01T01:14:49.532Z"
   },
   {
    "duration": 87,
    "start_time": "2021-07-01T01:14:49.597Z"
   },
   {
    "duration": 46,
    "start_time": "2021-07-01T01:14:49.686Z"
   },
   {
    "duration": 5,
    "start_time": "2021-07-01T01:14:49.769Z"
   },
   {
    "duration": 32,
    "start_time": "2021-07-01T01:14:49.778Z"
   },
   {
    "duration": 13,
    "start_time": "2021-07-01T01:14:49.812Z"
   },
   {
    "duration": 12,
    "start_time": "2021-07-01T01:14:49.828Z"
   },
   {
    "duration": 24,
    "start_time": "2021-07-01T01:14:49.843Z"
   },
   {
    "duration": 32,
    "start_time": "2021-07-01T01:14:49.871Z"
   },
   {
    "duration": 13,
    "start_time": "2021-07-01T01:14:49.905Z"
   },
   {
    "duration": 5,
    "start_time": "2021-07-01T01:14:49.922Z"
   },
   {
    "duration": 6,
    "start_time": "2021-07-01T01:14:49.968Z"
   },
   {
    "duration": 10,
    "start_time": "2021-07-01T01:14:49.977Z"
   },
   {
    "duration": 11,
    "start_time": "2021-07-01T01:14:49.990Z"
   },
   {
    "duration": 28,
    "start_time": "2021-07-01T01:14:50.004Z"
   },
   {
    "duration": 53,
    "start_time": "2021-07-01T01:14:50.035Z"
   },
   {
    "duration": 19,
    "start_time": "2021-07-01T01:14:50.091Z"
   },
   {
    "duration": 22,
    "start_time": "2021-07-01T01:14:50.113Z"
   },
   {
    "duration": 679,
    "start_time": "2021-07-01T01:14:50.141Z"
   },
   {
    "duration": 7,
    "start_time": "2021-07-01T01:14:50.825Z"
   },
   {
    "duration": 42,
    "start_time": "2021-07-01T01:14:50.835Z"
   },
   {
    "duration": 94,
    "start_time": "2021-07-01T01:14:50.880Z"
   },
   {
    "duration": 17,
    "start_time": "2021-07-01T01:14:50.977Z"
   },
   {
    "duration": 382,
    "start_time": "2021-07-01T01:14:50.997Z"
   },
   {
    "duration": 10,
    "start_time": "2021-07-01T01:14:51.382Z"
   },
   {
    "duration": 289,
    "start_time": "2021-07-01T01:14:51.395Z"
   },
   {
    "duration": 20,
    "start_time": "2021-07-01T01:14:51.686Z"
   },
   {
    "duration": 15,
    "start_time": "2021-07-01T01:14:51.708Z"
   },
   {
    "duration": 912,
    "start_time": "2021-07-01T01:14:51.725Z"
   },
   {
    "duration": 8,
    "start_time": "2021-07-01T01:14:52.640Z"
   },
   {
    "duration": 18,
    "start_time": "2021-07-01T01:14:52.651Z"
   },
   {
    "duration": 14,
    "start_time": "2021-07-01T01:14:52.671Z"
   },
   {
    "duration": 895,
    "start_time": "2021-07-01T01:14:52.687Z"
   },
   {
    "duration": 17,
    "start_time": "2021-07-01T01:14:53.585Z"
   },
   {
    "duration": 980,
    "start_time": "2021-07-01T01:14:53.604Z"
   },
   {
    "duration": 5,
    "start_time": "2021-07-01T01:14:54.588Z"
   },
   {
    "duration": 10,
    "start_time": "2021-07-01T01:14:54.595Z"
   },
   {
    "duration": 946,
    "start_time": "2021-07-01T01:14:54.607Z"
   },
   {
    "duration": 29,
    "start_time": "2021-07-01T01:14:55.555Z"
   },
   {
    "duration": 905,
    "start_time": "2021-07-01T01:14:55.587Z"
   },
   {
    "duration": 242,
    "start_time": "2021-07-01T01:14:56.495Z"
   },
   {
    "duration": 676,
    "start_time": "2021-07-01T01:14:56.739Z"
   },
   {
    "duration": 10,
    "start_time": "2021-07-01T01:14:57.418Z"
   },
   {
    "duration": 1036,
    "start_time": "2021-07-01T01:14:57.431Z"
   },
   {
    "duration": 9,
    "start_time": "2021-07-01T01:14:58.470Z"
   },
   {
    "duration": 23,
    "start_time": "2021-07-01T01:14:58.482Z"
   },
   {
    "duration": 10,
    "start_time": "2021-07-01T01:14:58.508Z"
   },
   {
    "duration": 51,
    "start_time": "2021-07-01T01:14:58.521Z"
   },
   {
    "duration": 16,
    "start_time": "2021-07-01T01:14:58.575Z"
   },
   {
    "duration": 21,
    "start_time": "2021-07-01T01:14:58.594Z"
   },
   {
    "duration": 49,
    "start_time": "2021-07-01T01:14:58.618Z"
   },
   {
    "duration": 17,
    "start_time": "2021-07-01T01:14:58.670Z"
   },
   {
    "duration": 14,
    "start_time": "2021-07-01T01:14:58.689Z"
   },
   {
    "duration": 12,
    "start_time": "2021-07-01T01:14:58.706Z"
   },
   {
    "duration": 54,
    "start_time": "2021-07-01T01:14:58.720Z"
   },
   {
    "duration": 22,
    "start_time": "2021-07-01T01:21:54.968Z"
   },
   {
    "duration": 7,
    "start_time": "2021-07-01T01:25:41.932Z"
   },
   {
    "duration": 27,
    "start_time": "2021-07-01T01:25:52.355Z"
   },
   {
    "duration": 23,
    "start_time": "2021-07-01T01:26:56.745Z"
   },
   {
    "duration": 23,
    "start_time": "2021-07-01T01:27:15.989Z"
   },
   {
    "duration": 24,
    "start_time": "2021-07-01T01:27:32.997Z"
   },
   {
    "duration": 19,
    "start_time": "2021-07-01T01:28:59.961Z"
   },
   {
    "duration": 25,
    "start_time": "2021-07-01T01:29:14.010Z"
   },
   {
    "duration": 8,
    "start_time": "2021-07-01T01:31:07.173Z"
   },
   {
    "duration": 535,
    "start_time": "2021-07-01T01:31:36.683Z"
   },
   {
    "duration": 14,
    "start_time": "2021-07-01T01:31:45.532Z"
   },
   {
    "duration": 6,
    "start_time": "2021-07-01T01:32:51.043Z"
   },
   {
    "duration": 7,
    "start_time": "2021-07-01T01:32:59.097Z"
   },
   {
    "duration": 134,
    "start_time": "2021-07-01T01:33:11.921Z"
   },
   {
    "duration": 25,
    "start_time": "2021-07-01T01:33:18.435Z"
   },
   {
    "duration": 366,
    "start_time": "2021-07-01T01:33:45.933Z"
   },
   {
    "duration": 6,
    "start_time": "2021-07-01T01:33:51.854Z"
   },
   {
    "duration": 25,
    "start_time": "2021-07-01T01:38:39.851Z"
   },
   {
    "duration": 14,
    "start_time": "2021-07-01T01:42:32.793Z"
   },
   {
    "duration": 15,
    "start_time": "2021-07-01T01:43:29.621Z"
   },
   {
    "duration": 14,
    "start_time": "2021-07-01T01:44:08.022Z"
   },
   {
    "duration": 9,
    "start_time": "2021-07-01T01:45:16.865Z"
   },
   {
    "duration": 10,
    "start_time": "2021-07-01T01:47:43.403Z"
   },
   {
    "duration": 22,
    "start_time": "2021-07-01T01:47:54.212Z"
   },
   {
    "duration": 16,
    "start_time": "2021-07-01T01:49:17.692Z"
   },
   {
    "duration": 66,
    "start_time": "2021-07-01T01:50:05.918Z"
   },
   {
    "duration": 19,
    "start_time": "2021-07-01T01:50:31.659Z"
   },
   {
    "duration": 16,
    "start_time": "2021-07-01T01:50:56.250Z"
   },
   {
    "duration": 14,
    "start_time": "2021-07-01T01:51:47.342Z"
   },
   {
    "duration": 14,
    "start_time": "2021-07-01T01:51:59.618Z"
   },
   {
    "duration": 14,
    "start_time": "2021-07-01T01:52:18.069Z"
   },
   {
    "duration": 11,
    "start_time": "2021-07-01T01:52:53.238Z"
   },
   {
    "duration": 14,
    "start_time": "2021-07-01T01:53:07.483Z"
   },
   {
    "duration": 14,
    "start_time": "2021-07-01T01:53:19.235Z"
   },
   {
    "duration": 669,
    "start_time": "2021-07-01T01:55:07.658Z"
   },
   {
    "duration": 16,
    "start_time": "2021-07-01T01:55:50.340Z"
   },
   {
    "duration": 16,
    "start_time": "2021-07-01T01:56:05.353Z"
   },
   {
    "duration": 13,
    "start_time": "2021-07-01T01:56:19.634Z"
   },
   {
    "duration": 15,
    "start_time": "2021-07-01T01:56:37.757Z"
   },
   {
    "duration": 13,
    "start_time": "2021-07-01T01:57:01.578Z"
   },
   {
    "duration": 22,
    "start_time": "2021-07-01T01:58:05.924Z"
   },
   {
    "duration": 360,
    "start_time": "2021-07-01T01:59:16.794Z"
   },
   {
    "duration": 5,
    "start_time": "2021-07-01T01:59:23.514Z"
   },
   {
    "duration": 7,
    "start_time": "2021-07-01T01:59:23.522Z"
   },
   {
    "duration": 107,
    "start_time": "2021-07-01T01:59:23.532Z"
   },
   {
    "duration": 5,
    "start_time": "2021-07-01T01:59:23.642Z"
   },
   {
    "duration": 66,
    "start_time": "2021-07-01T01:59:23.649Z"
   },
   {
    "duration": 86,
    "start_time": "2021-07-01T01:59:23.717Z"
   },
   {
    "duration": 83,
    "start_time": "2021-07-01T01:59:23.806Z"
   },
   {
    "duration": 6,
    "start_time": "2021-07-01T01:59:23.892Z"
   },
   {
    "duration": 22,
    "start_time": "2021-07-01T01:59:23.902Z"
   },
   {
    "duration": 6,
    "start_time": "2021-07-01T01:59:23.928Z"
   },
   {
    "duration": 8,
    "start_time": "2021-07-01T01:59:23.968Z"
   },
   {
    "duration": 6,
    "start_time": "2021-07-01T01:59:23.978Z"
   },
   {
    "duration": 29,
    "start_time": "2021-07-01T01:59:23.986Z"
   },
   {
    "duration": 688,
    "start_time": "2021-07-01T01:59:24.017Z"
   },
   {
    "duration": 8,
    "start_time": "2021-07-01T01:59:24.707Z"
   },
   {
    "duration": 7,
    "start_time": "2021-07-01T01:59:24.717Z"
   },
   {
    "duration": 42,
    "start_time": "2021-07-01T01:59:24.727Z"
   },
   {
    "duration": 5,
    "start_time": "2021-07-01T01:59:24.771Z"
   },
   {
    "duration": 7,
    "start_time": "2021-07-01T01:59:24.779Z"
   },
   {
    "duration": 14,
    "start_time": "2021-07-01T01:59:24.788Z"
   },
   {
    "duration": 8,
    "start_time": "2021-07-01T01:59:24.805Z"
   },
   {
    "duration": 57,
    "start_time": "2021-07-01T01:59:24.815Z"
   },
   {
    "duration": 25,
    "start_time": "2021-07-01T01:59:24.874Z"
   },
   {
    "duration": 14,
    "start_time": "2021-07-01T01:59:24.901Z"
   },
   {
    "duration": 18,
    "start_time": "2021-07-01T01:59:24.917Z"
   },
   {
    "duration": 58,
    "start_time": "2021-07-01T01:59:24.937Z"
   },
   {
    "duration": 5,
    "start_time": "2021-07-01T01:59:25.001Z"
   },
   {
    "duration": 24,
    "start_time": "2021-07-01T01:59:25.009Z"
   },
   {
    "duration": 100,
    "start_time": "2021-07-01T01:59:25.040Z"
   },
   {
    "duration": 36,
    "start_time": "2021-07-01T01:59:25.142Z"
   },
   {
    "duration": 363,
    "start_time": "2021-07-01T01:59:25.181Z"
   },
   {
    "duration": 20,
    "start_time": "2021-07-01T01:59:25.546Z"
   },
   {
    "duration": 278,
    "start_time": "2021-07-01T01:59:25.568Z"
   },
   {
    "duration": 35,
    "start_time": "2021-07-01T01:59:25.848Z"
   },
   {
    "duration": 12,
    "start_time": "2021-07-01T01:59:25.885Z"
   },
   {
    "duration": 882,
    "start_time": "2021-07-01T01:59:25.899Z"
   },
   {
    "duration": 6,
    "start_time": "2021-07-01T01:59:26.783Z"
   },
   {
    "duration": 10,
    "start_time": "2021-07-01T01:59:26.791Z"
   },
   {
    "duration": 13,
    "start_time": "2021-07-01T01:59:26.803Z"
   },
   {
    "duration": 880,
    "start_time": "2021-07-01T01:59:26.819Z"
   },
   {
    "duration": 17,
    "start_time": "2021-07-01T01:59:27.702Z"
   },
   {
    "duration": 1007,
    "start_time": "2021-07-01T01:59:27.721Z"
   },
   {
    "duration": 6,
    "start_time": "2021-07-01T01:59:28.730Z"
   },
   {
    "duration": 9,
    "start_time": "2021-07-01T01:59:28.738Z"
   },
   {
    "duration": 947,
    "start_time": "2021-07-01T01:59:28.768Z"
   },
   {
    "duration": 21,
    "start_time": "2021-07-01T01:59:29.717Z"
   },
   {
    "duration": 955,
    "start_time": "2021-07-01T01:59:29.740Z"
   },
   {
    "duration": 206,
    "start_time": "2021-07-01T01:59:30.698Z"
   },
   {
    "duration": 722,
    "start_time": "2021-07-01T01:59:30.906Z"
   },
   {
    "duration": 8,
    "start_time": "2021-07-01T01:59:31.631Z"
   },
   {
    "duration": 723,
    "start_time": "2021-07-01T01:59:31.641Z"
   },
   {
    "duration": 7,
    "start_time": "2021-07-01T01:59:32.366Z"
   },
   {
    "duration": 28,
    "start_time": "2021-07-01T01:59:32.376Z"
   },
   {
    "duration": 18,
    "start_time": "2021-07-01T01:59:32.407Z"
   },
   {
    "duration": 26,
    "start_time": "2021-07-01T01:59:32.428Z"
   },
   {
    "duration": 35,
    "start_time": "2021-07-01T01:59:32.457Z"
   },
   {
    "duration": 16,
    "start_time": "2021-07-01T01:59:32.495Z"
   },
   {
    "duration": 26,
    "start_time": "2021-07-01T01:59:32.513Z"
   },
   {
    "duration": 30,
    "start_time": "2021-07-01T01:59:32.542Z"
   },
   {
    "duration": 21,
    "start_time": "2021-07-01T01:59:32.575Z"
   },
   {
    "duration": 30,
    "start_time": "2021-07-01T01:59:32.598Z"
   },
   {
    "duration": 27,
    "start_time": "2021-07-01T01:59:32.630Z"
   },
   {
    "duration": 667,
    "start_time": "2021-07-01T02:05:46.483Z"
   },
   {
    "duration": 657,
    "start_time": "2021-07-01T02:08:00.430Z"
   },
   {
    "duration": 673,
    "start_time": "2021-07-01T02:10:09.074Z"
   },
   {
    "duration": 10,
    "start_time": "2021-07-01T02:10:10.958Z"
   },
   {
    "duration": 9,
    "start_time": "2021-07-01T02:11:03.863Z"
   },
   {
    "duration": 17,
    "start_time": "2021-07-01T02:12:22.149Z"
   },
   {
    "duration": 320,
    "start_time": "2021-07-01T02:15:31.250Z"
   },
   {
    "duration": 5,
    "start_time": "2021-07-01T02:15:45.203Z"
   },
   {
    "duration": 7,
    "start_time": "2021-07-01T02:15:45.210Z"
   },
   {
    "duration": 233,
    "start_time": "2021-07-01T02:15:45.220Z"
   },
   {
    "duration": 5,
    "start_time": "2021-07-01T02:15:45.455Z"
   },
   {
    "duration": 62,
    "start_time": "2021-07-01T02:15:45.463Z"
   },
   {
    "duration": 87,
    "start_time": "2021-07-01T02:15:45.528Z"
   },
   {
    "duration": 80,
    "start_time": "2021-07-01T02:15:45.617Z"
   },
   {
    "duration": 5,
    "start_time": "2021-07-01T02:15:45.701Z"
   },
   {
    "duration": 20,
    "start_time": "2021-07-01T02:15:45.709Z"
   },
   {
    "duration": 36,
    "start_time": "2021-07-01T02:15:45.732Z"
   },
   {
    "duration": 11,
    "start_time": "2021-07-01T02:15:45.770Z"
   },
   {
    "duration": 6,
    "start_time": "2021-07-01T02:15:45.784Z"
   },
   {
    "duration": 687,
    "start_time": "2021-07-01T02:15:45.793Z"
   },
   {
    "duration": 384,
    "start_time": "2021-07-01T02:15:46.483Z"
   },
   {
    "duration": -931,
    "start_time": "2021-07-01T02:15:47.803Z"
   },
   {
    "duration": -932,
    "start_time": "2021-07-01T02:15:47.806Z"
   },
   {
    "duration": -945,
    "start_time": "2021-07-01T02:15:47.820Z"
   },
   {
    "duration": -947,
    "start_time": "2021-07-01T02:15:47.824Z"
   },
   {
    "duration": -957,
    "start_time": "2021-07-01T02:15:47.835Z"
   },
   {
    "duration": -962,
    "start_time": "2021-07-01T02:15:47.841Z"
   },
   {
    "duration": -968,
    "start_time": "2021-07-01T02:15:47.849Z"
   },
   {
    "duration": -1050,
    "start_time": "2021-07-01T02:15:47.932Z"
   },
   {
    "duration": -1063,
    "start_time": "2021-07-01T02:15:47.947Z"
   },
   {
    "duration": -1064,
    "start_time": "2021-07-01T02:15:47.949Z"
   },
   {
    "duration": -1065,
    "start_time": "2021-07-01T02:15:47.951Z"
   },
   {
    "duration": -1065,
    "start_time": "2021-07-01T02:15:47.953Z"
   },
   {
    "duration": -1066,
    "start_time": "2021-07-01T02:15:47.955Z"
   },
   {
    "duration": -1067,
    "start_time": "2021-07-01T02:15:47.958Z"
   },
   {
    "duration": -1068,
    "start_time": "2021-07-01T02:15:47.960Z"
   },
   {
    "duration": -1069,
    "start_time": "2021-07-01T02:15:47.962Z"
   },
   {
    "duration": -1069,
    "start_time": "2021-07-01T02:15:47.964Z"
   },
   {
    "duration": -1070,
    "start_time": "2021-07-01T02:15:47.966Z"
   },
   {
    "duration": -1067,
    "start_time": "2021-07-01T02:15:47.968Z"
   },
   {
    "duration": -1068,
    "start_time": "2021-07-01T02:15:47.970Z"
   },
   {
    "duration": -1068,
    "start_time": "2021-07-01T02:15:47.972Z"
   },
   {
    "duration": -1100,
    "start_time": "2021-07-01T02:15:48.005Z"
   },
   {
    "duration": -1101,
    "start_time": "2021-07-01T02:15:48.008Z"
   },
   {
    "duration": -1102,
    "start_time": "2021-07-01T02:15:48.010Z"
   },
   {
    "duration": -1103,
    "start_time": "2021-07-01T02:15:48.012Z"
   },
   {
    "duration": -1103,
    "start_time": "2021-07-01T02:15:48.014Z"
   },
   {
    "duration": -1050,
    "start_time": "2021-07-01T02:15:48.017Z"
   },
   {
    "duration": -1052,
    "start_time": "2021-07-01T02:15:48.020Z"
   },
   {
    "duration": -1052,
    "start_time": "2021-07-01T02:15:48.022Z"
   },
   {
    "duration": -1054,
    "start_time": "2021-07-01T02:15:48.025Z"
   },
   {
    "duration": -1055,
    "start_time": "2021-07-01T02:15:48.027Z"
   },
   {
    "duration": -1056,
    "start_time": "2021-07-01T02:15:48.030Z"
   },
   {
    "duration": -1056,
    "start_time": "2021-07-01T02:15:48.032Z"
   },
   {
    "duration": -1057,
    "start_time": "2021-07-01T02:15:48.034Z"
   },
   {
    "duration": -1058,
    "start_time": "2021-07-01T02:15:48.036Z"
   },
   {
    "duration": -1058,
    "start_time": "2021-07-01T02:15:48.038Z"
   },
   {
    "duration": -1062,
    "start_time": "2021-07-01T02:15:48.043Z"
   },
   {
    "duration": -1063,
    "start_time": "2021-07-01T02:15:48.045Z"
   },
   {
    "duration": -1064,
    "start_time": "2021-07-01T02:15:48.048Z"
   },
   {
    "duration": -1066,
    "start_time": "2021-07-01T02:15:48.051Z"
   },
   {
    "duration": -1078,
    "start_time": "2021-07-01T02:15:48.065Z"
   },
   {
    "duration": -1080,
    "start_time": "2021-07-01T02:15:48.068Z"
   },
   {
    "duration": -1081,
    "start_time": "2021-07-01T02:15:48.070Z"
   },
   {
    "duration": -1081,
    "start_time": "2021-07-01T02:15:48.072Z"
   },
   {
    "duration": -1087,
    "start_time": "2021-07-01T02:15:48.079Z"
   },
   {
    "duration": 26,
    "start_time": "2021-07-01T02:16:12.627Z"
   },
   {
    "duration": 12,
    "start_time": "2021-07-01T02:18:55.964Z"
   },
   {
    "duration": 321,
    "start_time": "2021-07-01T02:19:10.389Z"
   },
   {
    "duration": 11,
    "start_time": "2021-07-01T02:19:23.918Z"
   },
   {
    "duration": 12,
    "start_time": "2021-07-01T02:19:51.942Z"
   },
   {
    "duration": 9,
    "start_time": "2021-07-01T02:20:37.799Z"
   },
   {
    "duration": 12,
    "start_time": "2021-07-01T02:20:46.335Z"
   },
   {
    "duration": 913,
    "start_time": "2021-07-01T02:21:01.308Z"
   },
   {
    "duration": 9,
    "start_time": "2021-07-01T02:21:10.031Z"
   },
   {
    "duration": 24,
    "start_time": "2021-07-01T02:21:38.502Z"
   },
   {
    "duration": 17,
    "start_time": "2021-07-01T02:21:55.327Z"
   },
   {
    "duration": 5,
    "start_time": "2021-07-01T02:22:07.949Z"
   },
   {
    "duration": 14,
    "start_time": "2021-07-01T02:22:07.957Z"
   },
   {
    "duration": 118,
    "start_time": "2021-07-01T02:22:07.974Z"
   },
   {
    "duration": 4,
    "start_time": "2021-07-01T02:22:08.095Z"
   },
   {
    "duration": 59,
    "start_time": "2021-07-01T02:22:08.102Z"
   },
   {
    "duration": 55,
    "start_time": "2021-07-01T02:22:08.167Z"
   },
   {
    "duration": 76,
    "start_time": "2021-07-01T02:22:08.224Z"
   },
   {
    "duration": 6,
    "start_time": "2021-07-01T02:22:08.304Z"
   },
   {
    "duration": 60,
    "start_time": "2021-07-01T02:22:08.313Z"
   },
   {
    "duration": 6,
    "start_time": "2021-07-01T02:22:08.375Z"
   },
   {
    "duration": 10,
    "start_time": "2021-07-01T02:22:08.384Z"
   },
   {
    "duration": 7,
    "start_time": "2021-07-01T02:22:08.396Z"
   },
   {
    "duration": 789,
    "start_time": "2021-07-01T02:22:08.405Z"
   },
   {
    "duration": 28,
    "start_time": "2021-07-01T02:22:09.197Z"
   },
   {
    "duration": 5,
    "start_time": "2021-07-01T02:22:09.228Z"
   },
   {
    "duration": 32,
    "start_time": "2021-07-01T02:22:09.235Z"
   },
   {
    "duration": 6,
    "start_time": "2021-07-01T02:22:09.270Z"
   },
   {
    "duration": 27,
    "start_time": "2021-07-01T02:22:09.278Z"
   },
   {
    "duration": 369,
    "start_time": "2021-07-01T02:22:09.308Z"
   },
   {
    "duration": -2421,
    "start_time": "2021-07-01T02:22:12.102Z"
   },
   {
    "duration": -2421,
    "start_time": "2021-07-01T02:22:12.104Z"
   },
   {
    "duration": -2424,
    "start_time": "2021-07-01T02:22:12.108Z"
   },
   {
    "duration": -2426,
    "start_time": "2021-07-01T02:22:12.111Z"
   },
   {
    "duration": -2426,
    "start_time": "2021-07-01T02:22:12.113Z"
   },
   {
    "duration": -2427,
    "start_time": "2021-07-01T02:22:12.115Z"
   },
   {
    "duration": -2428,
    "start_time": "2021-07-01T02:22:12.117Z"
   },
   {
    "duration": -2428,
    "start_time": "2021-07-01T02:22:12.119Z"
   },
   {
    "duration": -2430,
    "start_time": "2021-07-01T02:22:12.122Z"
   },
   {
    "duration": -2432,
    "start_time": "2021-07-01T02:22:12.126Z"
   },
   {
    "duration": -2435,
    "start_time": "2021-07-01T02:22:12.130Z"
   },
   {
    "duration": -2435,
    "start_time": "2021-07-01T02:22:12.132Z"
   },
   {
    "duration": -2437,
    "start_time": "2021-07-01T02:22:12.136Z"
   },
   {
    "duration": -2438,
    "start_time": "2021-07-01T02:22:12.138Z"
   },
   {
    "duration": -2441,
    "start_time": "2021-07-01T02:22:12.142Z"
   },
   {
    "duration": -2442,
    "start_time": "2021-07-01T02:22:12.145Z"
   },
   {
    "duration": -2444,
    "start_time": "2021-07-01T02:22:12.148Z"
   },
   {
    "duration": -2446,
    "start_time": "2021-07-01T02:22:12.151Z"
   },
   {
    "duration": -2448,
    "start_time": "2021-07-01T02:22:12.154Z"
   },
   {
    "duration": -2450,
    "start_time": "2021-07-01T02:22:12.157Z"
   },
   {
    "duration": -2452,
    "start_time": "2021-07-01T02:22:12.161Z"
   },
   {
    "duration": -2453,
    "start_time": "2021-07-01T02:22:12.163Z"
   },
   {
    "duration": -2501,
    "start_time": "2021-07-01T02:22:12.212Z"
   },
   {
    "duration": -2537,
    "start_time": "2021-07-01T02:22:12.249Z"
   },
   {
    "duration": -2540,
    "start_time": "2021-07-01T02:22:12.253Z"
   },
   {
    "duration": -2540,
    "start_time": "2021-07-01T02:22:12.255Z"
   },
   {
    "duration": -2544,
    "start_time": "2021-07-01T02:22:12.260Z"
   },
   {
    "duration": -2550,
    "start_time": "2021-07-01T02:22:12.267Z"
   },
   {
    "duration": -2552,
    "start_time": "2021-07-01T02:22:12.270Z"
   },
   {
    "duration": -2554,
    "start_time": "2021-07-01T02:22:12.273Z"
   },
   {
    "duration": -2561,
    "start_time": "2021-07-01T02:22:12.282Z"
   },
   {
    "duration": -2564,
    "start_time": "2021-07-01T02:22:12.286Z"
   },
   {
    "duration": -2566,
    "start_time": "2021-07-01T02:22:12.289Z"
   },
   {
    "duration": -2574,
    "start_time": "2021-07-01T02:22:12.299Z"
   },
   {
    "duration": -2575,
    "start_time": "2021-07-01T02:22:12.302Z"
   },
   {
    "duration": -2576,
    "start_time": "2021-07-01T02:22:12.304Z"
   },
   {
    "duration": -2578,
    "start_time": "2021-07-01T02:22:12.307Z"
   },
   {
    "duration": -2585,
    "start_time": "2021-07-01T02:22:12.316Z"
   },
   {
    "duration": -2587,
    "start_time": "2021-07-01T02:22:12.319Z"
   },
   {
    "duration": -2588,
    "start_time": "2021-07-01T02:22:12.321Z"
   },
   {
    "duration": 5,
    "start_time": "2021-07-01T02:33:20.919Z"
   },
   {
    "duration": 6,
    "start_time": "2021-07-01T02:33:20.927Z"
   },
   {
    "duration": 112,
    "start_time": "2021-07-01T02:33:20.936Z"
   },
   {
    "duration": 4,
    "start_time": "2021-07-01T02:33:21.052Z"
   },
   {
    "duration": 67,
    "start_time": "2021-07-01T02:33:21.059Z"
   },
   {
    "duration": 84,
    "start_time": "2021-07-01T02:33:21.128Z"
   },
   {
    "duration": 72,
    "start_time": "2021-07-01T02:33:21.214Z"
   },
   {
    "duration": 6,
    "start_time": "2021-07-01T02:33:21.290Z"
   },
   {
    "duration": 20,
    "start_time": "2021-07-01T02:33:21.299Z"
   },
   {
    "duration": 6,
    "start_time": "2021-07-01T02:33:21.321Z"
   },
   {
    "duration": 44,
    "start_time": "2021-07-01T02:33:21.329Z"
   },
   {
    "duration": 7,
    "start_time": "2021-07-01T02:33:21.377Z"
   },
   {
    "duration": 697,
    "start_time": "2021-07-01T02:33:21.387Z"
   },
   {
    "duration": 11,
    "start_time": "2021-07-01T02:33:22.087Z"
   },
   {
    "duration": 5,
    "start_time": "2021-07-01T02:33:22.100Z"
   },
   {
    "duration": 18,
    "start_time": "2021-07-01T02:33:22.107Z"
   },
   {
    "duration": 8,
    "start_time": "2021-07-01T02:33:22.127Z"
   },
   {
    "duration": 48,
    "start_time": "2021-07-01T02:33:22.137Z"
   },
   {
    "duration": 1389,
    "start_time": "2021-07-01T02:33:22.187Z"
   },
   {
    "duration": -961,
    "start_time": "2021-07-01T02:33:24.542Z"
   },
   {
    "duration": -963,
    "start_time": "2021-07-01T02:33:24.545Z"
   },
   {
    "duration": -1037,
    "start_time": "2021-07-01T02:33:24.620Z"
   },
   {
    "duration": -1045,
    "start_time": "2021-07-01T02:33:24.630Z"
   },
   {
    "duration": -1047,
    "start_time": "2021-07-01T02:33:24.633Z"
   },
   {
    "duration": -1050,
    "start_time": "2021-07-01T02:33:24.637Z"
   },
   {
    "duration": -1052,
    "start_time": "2021-07-01T02:33:24.640Z"
   },
   {
    "duration": -1054,
    "start_time": "2021-07-01T02:33:24.643Z"
   },
   {
    "duration": -1055,
    "start_time": "2021-07-01T02:33:24.645Z"
   },
   {
    "duration": -1055,
    "start_time": "2021-07-01T02:33:24.647Z"
   },
   {
    "duration": -1057,
    "start_time": "2021-07-01T02:33:24.650Z"
   },
   {
    "duration": -1059,
    "start_time": "2021-07-01T02:33:24.653Z"
   },
   {
    "duration": -1061,
    "start_time": "2021-07-01T02:33:24.656Z"
   },
   {
    "duration": -1062,
    "start_time": "2021-07-01T02:33:24.658Z"
   },
   {
    "duration": -1062,
    "start_time": "2021-07-01T02:33:24.660Z"
   },
   {
    "duration": -1063,
    "start_time": "2021-07-01T02:33:24.662Z"
   },
   {
    "duration": -1064,
    "start_time": "2021-07-01T02:33:24.664Z"
   },
   {
    "duration": -1065,
    "start_time": "2021-07-01T02:33:24.666Z"
   },
   {
    "duration": -1065,
    "start_time": "2021-07-01T02:33:24.668Z"
   },
   {
    "duration": -1071,
    "start_time": "2021-07-01T02:33:24.675Z"
   },
   {
    "duration": -1072,
    "start_time": "2021-07-01T02:33:24.677Z"
   },
   {
    "duration": -1073,
    "start_time": "2021-07-01T02:33:24.679Z"
   },
   {
    "duration": -1073,
    "start_time": "2021-07-01T02:33:24.681Z"
   },
   {
    "duration": -1126,
    "start_time": "2021-07-01T02:33:24.735Z"
   },
   {
    "duration": -1134,
    "start_time": "2021-07-01T02:33:24.744Z"
   },
   {
    "duration": -1134,
    "start_time": "2021-07-01T02:33:24.746Z"
   },
   {
    "duration": -1135,
    "start_time": "2021-07-01T02:33:24.748Z"
   },
   {
    "duration": -1136,
    "start_time": "2021-07-01T02:33:24.750Z"
   },
   {
    "duration": -1137,
    "start_time": "2021-07-01T02:33:24.752Z"
   },
   {
    "duration": -1138,
    "start_time": "2021-07-01T02:33:24.755Z"
   },
   {
    "duration": -1139,
    "start_time": "2021-07-01T02:33:24.757Z"
   },
   {
    "duration": -1092,
    "start_time": "2021-07-01T02:33:24.759Z"
   },
   {
    "duration": -1093,
    "start_time": "2021-07-01T02:33:24.762Z"
   },
   {
    "duration": -1094,
    "start_time": "2021-07-01T02:33:24.764Z"
   },
   {
    "duration": -1095,
    "start_time": "2021-07-01T02:33:24.766Z"
   },
   {
    "duration": -1095,
    "start_time": "2021-07-01T02:33:24.768Z"
   },
   {
    "duration": -1096,
    "start_time": "2021-07-01T02:33:24.770Z"
   },
   {
    "duration": -1097,
    "start_time": "2021-07-01T02:33:24.772Z"
   },
   {
    "duration": -1098,
    "start_time": "2021-07-01T02:33:24.774Z"
   },
   {
    "duration": -1099,
    "start_time": "2021-07-01T02:33:24.776Z"
   },
   {
    "duration": 26,
    "start_time": "2021-07-01T02:34:07.854Z"
   },
   {
    "duration": 23,
    "start_time": "2021-07-01T02:36:02.551Z"
   },
   {
    "duration": 22,
    "start_time": "2021-07-01T02:36:29.535Z"
   },
   {
    "duration": 21,
    "start_time": "2021-07-01T02:36:40.494Z"
   },
   {
    "duration": 31,
    "start_time": "2021-07-01T02:39:07.627Z"
   },
   {
    "duration": 28,
    "start_time": "2021-07-01T02:39:28.302Z"
   },
   {
    "duration": 20,
    "start_time": "2021-07-01T02:39:35.263Z"
   },
   {
    "duration": 15,
    "start_time": "2021-07-01T02:39:38.949Z"
   },
   {
    "duration": 13,
    "start_time": "2021-07-01T02:39:42.981Z"
   },
   {
    "duration": 5,
    "start_time": "2021-07-01T02:41:39.120Z"
   },
   {
    "duration": 18,
    "start_time": "2021-07-01T02:41:39.127Z"
   },
   {
    "duration": 125,
    "start_time": "2021-07-01T02:41:39.148Z"
   },
   {
    "duration": 5,
    "start_time": "2021-07-01T02:41:39.276Z"
   },
   {
    "duration": 69,
    "start_time": "2021-07-01T02:41:39.283Z"
   },
   {
    "duration": 54,
    "start_time": "2021-07-01T02:41:39.367Z"
   },
   {
    "duration": 77,
    "start_time": "2021-07-01T02:41:39.423Z"
   },
   {
    "duration": 6,
    "start_time": "2021-07-01T02:41:39.504Z"
   },
   {
    "duration": 35,
    "start_time": "2021-07-01T02:41:39.512Z"
   },
   {
    "duration": 20,
    "start_time": "2021-07-01T02:41:39.550Z"
   },
   {
    "duration": 9,
    "start_time": "2021-07-01T02:41:39.573Z"
   },
   {
    "duration": 6,
    "start_time": "2021-07-01T02:41:39.584Z"
   },
   {
    "duration": 709,
    "start_time": "2021-07-01T02:41:39.592Z"
   },
   {
    "duration": 10,
    "start_time": "2021-07-01T02:41:40.303Z"
   },
   {
    "duration": 6,
    "start_time": "2021-07-01T02:41:40.315Z"
   },
   {
    "duration": 7,
    "start_time": "2021-07-01T02:41:40.323Z"
   },
   {
    "duration": 6,
    "start_time": "2021-07-01T02:41:40.332Z"
   },
   {
    "duration": 24,
    "start_time": "2021-07-01T02:41:40.368Z"
   },
   {
    "duration": 26,
    "start_time": "2021-07-01T02:41:40.395Z"
   },
   {
    "duration": 52,
    "start_time": "2021-07-01T02:41:40.424Z"
   },
   {
    "duration": 15,
    "start_time": "2021-07-01T02:41:40.478Z"
   },
   {
    "duration": 13,
    "start_time": "2021-07-01T02:41:40.496Z"
   },
   {
    "duration": 72,
    "start_time": "2021-07-01T02:41:40.516Z"
   },
   {
    "duration": 5,
    "start_time": "2021-07-01T02:41:40.591Z"
   },
   {
    "duration": 28,
    "start_time": "2021-07-01T02:41:40.598Z"
   },
   {
    "duration": 91,
    "start_time": "2021-07-01T02:41:40.628Z"
   },
   {
    "duration": 17,
    "start_time": "2021-07-01T02:41:40.721Z"
   },
   {
    "duration": 376,
    "start_time": "2021-07-01T02:41:40.740Z"
   },
   {
    "duration": 10,
    "start_time": "2021-07-01T02:41:41.118Z"
   },
   {
    "duration": 280,
    "start_time": "2021-07-01T02:41:41.130Z"
   },
   {
    "duration": 17,
    "start_time": "2021-07-01T02:41:41.412Z"
   },
   {
    "duration": 10,
    "start_time": "2021-07-01T02:41:41.431Z"
   },
   {
    "duration": 886,
    "start_time": "2021-07-01T02:41:41.443Z"
   },
   {
    "duration": 6,
    "start_time": "2021-07-01T02:41:42.331Z"
   },
   {
    "duration": 7,
    "start_time": "2021-07-01T02:41:42.339Z"
   },
   {
    "duration": 12,
    "start_time": "2021-07-01T02:41:42.368Z"
   },
   {
    "duration": 874,
    "start_time": "2021-07-01T02:41:42.382Z"
   },
   {
    "duration": 22,
    "start_time": "2021-07-01T02:41:43.258Z"
   },
   {
    "duration": 905,
    "start_time": "2021-07-01T02:41:43.282Z"
   },
   {
    "duration": 5,
    "start_time": "2021-07-01T02:41:44.189Z"
   },
   {
    "duration": 10,
    "start_time": "2021-07-01T02:41:44.196Z"
   },
   {
    "duration": 861,
    "start_time": "2021-07-01T02:41:44.209Z"
   },
   {
    "duration": 18,
    "start_time": "2021-07-01T02:41:45.073Z"
   },
   {
    "duration": 907,
    "start_time": "2021-07-01T02:41:45.093Z"
   },
   {
    "duration": 190,
    "start_time": "2021-07-01T02:41:46.003Z"
   },
   {
    "duration": 794,
    "start_time": "2021-07-01T02:41:46.196Z"
   },
   {
    "duration": 9,
    "start_time": "2021-07-01T02:41:46.992Z"
   },
   {
    "duration": 833,
    "start_time": "2021-07-01T02:41:47.003Z"
   },
   {
    "duration": 8,
    "start_time": "2021-07-01T02:41:47.839Z"
   },
   {
    "duration": 30,
    "start_time": "2021-07-01T02:41:47.850Z"
   },
   {
    "duration": 7,
    "start_time": "2021-07-01T02:41:47.883Z"
   },
   {
    "duration": 8,
    "start_time": "2021-07-01T02:41:47.892Z"
   },
   {
    "duration": 15,
    "start_time": "2021-07-01T02:41:47.903Z"
   },
   {
    "duration": 52,
    "start_time": "2021-07-01T02:41:47.921Z"
   },
   {
    "duration": 17,
    "start_time": "2021-07-01T02:41:47.975Z"
   },
   {
    "duration": 14,
    "start_time": "2021-07-01T02:41:47.995Z"
   },
   {
    "duration": 17,
    "start_time": "2021-07-01T02:41:48.012Z"
   },
   {
    "duration": 13,
    "start_time": "2021-07-01T02:41:48.068Z"
   },
   {
    "duration": 14,
    "start_time": "2021-07-01T02:41:48.083Z"
   },
   {
    "duration": 971,
    "start_time": "2021-07-01T02:51:01.853Z"
   },
   {
    "duration": 11,
    "start_time": "2021-07-01T02:59:54.850Z"
   },
   {
    "duration": 9,
    "start_time": "2021-07-01T03:00:29.158Z"
   },
   {
    "duration": 12,
    "start_time": "2021-07-01T03:01:25.761Z"
   },
   {
    "duration": 21,
    "start_time": "2021-07-01T03:03:34.924Z"
   },
   {
    "duration": 19,
    "start_time": "2021-07-01T03:04:04.965Z"
   },
   {
    "duration": 20,
    "start_time": "2021-07-01T03:04:31.758Z"
   },
   {
    "duration": 19,
    "start_time": "2021-07-01T03:04:47.774Z"
   },
   {
    "duration": 21,
    "start_time": "2021-07-01T03:06:23.563Z"
   },
   {
    "duration": 956,
    "start_time": "2021-07-01T03:08:20.736Z"
   },
   {
    "duration": 948,
    "start_time": "2021-07-01T03:09:18.391Z"
   },
   {
    "duration": 954,
    "start_time": "2021-07-01T03:09:24.751Z"
   },
   {
    "duration": 1038,
    "start_time": "2021-07-01T03:09:39.624Z"
   },
   {
    "duration": 1499,
    "start_time": "2021-07-01T03:29:09.177Z"
   },
   {
    "duration": 4,
    "start_time": "2021-07-01T03:29:10.679Z"
   },
   {
    "duration": 379,
    "start_time": "2021-07-01T03:29:10.687Z"
   },
   {
    "duration": 4,
    "start_time": "2021-07-01T03:29:11.069Z"
   },
   {
    "duration": 91,
    "start_time": "2021-07-01T03:29:11.076Z"
   },
   {
    "duration": 58,
    "start_time": "2021-07-01T03:29:11.170Z"
   },
   {
    "duration": 80,
    "start_time": "2021-07-01T03:29:11.231Z"
   },
   {
    "duration": 5,
    "start_time": "2021-07-01T03:29:11.315Z"
   },
   {
    "duration": 62,
    "start_time": "2021-07-01T03:29:11.323Z"
   },
   {
    "duration": 5,
    "start_time": "2021-07-01T03:29:11.388Z"
   },
   {
    "duration": 9,
    "start_time": "2021-07-01T03:29:11.395Z"
   },
   {
    "duration": 17,
    "start_time": "2021-07-01T03:29:11.407Z"
   },
   {
    "duration": 681,
    "start_time": "2021-07-01T03:29:11.427Z"
   },
   {
    "duration": 13,
    "start_time": "2021-07-01T03:29:12.111Z"
   },
   {
    "duration": 43,
    "start_time": "2021-07-01T03:29:12.126Z"
   },
   {
    "duration": 26,
    "start_time": "2021-07-01T03:29:12.172Z"
   },
   {
    "duration": 28,
    "start_time": "2021-07-01T03:29:12.201Z"
   },
   {
    "duration": 44,
    "start_time": "2021-07-01T03:29:12.232Z"
   },
   {
    "duration": 17,
    "start_time": "2021-07-01T03:29:12.280Z"
   },
   {
    "duration": 610,
    "start_time": "2021-07-01T03:29:12.300Z"
   },
   {
    "duration": 7,
    "start_time": "2021-07-01T03:29:12.913Z"
   },
   {
    "duration": 52,
    "start_time": "2021-07-01T03:29:12.924Z"
   },
   {
    "duration": 90,
    "start_time": "2021-07-01T03:29:12.983Z"
   },
   {
    "duration": 16,
    "start_time": "2021-07-01T03:29:13.076Z"
   },
   {
    "duration": 388,
    "start_time": "2021-07-01T03:29:13.095Z"
   },
   {
    "duration": 11,
    "start_time": "2021-07-01T03:29:13.486Z"
   },
   {
    "duration": 283,
    "start_time": "2021-07-01T03:29:13.500Z"
   },
   {
    "duration": 31,
    "start_time": "2021-07-01T03:29:13.786Z"
   },
   {
    "duration": 14,
    "start_time": "2021-07-01T03:29:13.820Z"
   },
   {
    "duration": 1016,
    "start_time": "2021-07-01T03:29:13.836Z"
   },
   {
    "duration": 14,
    "start_time": "2021-07-01T03:29:14.854Z"
   },
   {
    "duration": 10,
    "start_time": "2021-07-01T03:29:14.871Z"
   },
   {
    "duration": 19,
    "start_time": "2021-07-01T03:29:14.883Z"
   },
   {
    "duration": 1003,
    "start_time": "2021-07-01T03:29:14.904Z"
   },
   {
    "duration": 17,
    "start_time": "2021-07-01T03:29:15.910Z"
   },
   {
    "duration": 1056,
    "start_time": "2021-07-01T03:29:15.930Z"
   },
   {
    "duration": 5,
    "start_time": "2021-07-01T03:29:16.988Z"
   },
   {
    "duration": 14,
    "start_time": "2021-07-01T03:29:16.995Z"
   },
   {
    "duration": 888,
    "start_time": "2021-07-01T03:29:17.012Z"
   },
   {
    "duration": 20,
    "start_time": "2021-07-01T03:29:17.904Z"
   },
   {
    "duration": 955,
    "start_time": "2021-07-01T03:29:17.927Z"
   },
   {
    "duration": 247,
    "start_time": "2021-07-01T03:29:18.885Z"
   },
   {
    "duration": 729,
    "start_time": "2021-07-01T03:29:19.135Z"
   },
   {
    "duration": 8,
    "start_time": "2021-07-01T03:29:19.867Z"
   },
   {
    "duration": 705,
    "start_time": "2021-07-01T03:29:19.877Z"
   },
   {
    "duration": 9,
    "start_time": "2021-07-01T03:29:20.584Z"
   },
   {
    "duration": 27,
    "start_time": "2021-07-01T03:29:20.596Z"
   },
   {
    "duration": 8,
    "start_time": "2021-07-01T03:29:20.625Z"
   },
   {
    "duration": 38,
    "start_time": "2021-07-01T03:29:20.636Z"
   },
   {
    "duration": 23,
    "start_time": "2021-07-01T03:29:20.677Z"
   },
   {
    "duration": 16,
    "start_time": "2021-07-01T03:29:20.703Z"
   },
   {
    "duration": 47,
    "start_time": "2021-07-01T03:29:20.721Z"
   },
   {
    "duration": 18,
    "start_time": "2021-07-01T03:29:20.771Z"
   },
   {
    "duration": 21,
    "start_time": "2021-07-01T03:29:20.791Z"
   },
   {
    "duration": 12,
    "start_time": "2021-07-01T03:29:20.814Z"
   },
   {
    "duration": 48,
    "start_time": "2021-07-01T03:29:20.828Z"
   },
   {
    "duration": 22,
    "start_time": "2021-07-01T03:29:20.878Z"
   }
  ],
  "kernelspec": {
   "display_name": "Python 3",
   "language": "python",
   "name": "python3"
  },
  "language_info": {
   "codemirror_mode": {
    "name": "ipython",
    "version": 3
   },
   "file_extension": ".py",
   "mimetype": "text/x-python",
   "name": "python",
   "nbconvert_exporter": "python",
   "pygments_lexer": "ipython3",
   "version": "3.8.5"
  },
  "toc": {
   "base_numbering": 1,
   "nav_menu": {},
   "number_sections": true,
   "sideBar": true,
   "skip_h1_title": true,
   "title_cell": "Оглавление",
   "title_sidebar": "Contents",
   "toc_cell": true,
   "toc_position": {},
   "toc_section_display": true,
   "toc_window_display": true
  }
 },
 "nbformat": 4,
 "nbformat_minor": 2
}
