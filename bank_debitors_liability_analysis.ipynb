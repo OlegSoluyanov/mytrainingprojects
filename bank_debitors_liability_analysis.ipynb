{
 "cells": [
  {
   "cell_type": "markdown",
   "metadata": {},
   "source": [
    "# **Исследование надёжности заёмщиков**\n",
    "\n",
    "Исследование необходимо для кредитного подразделения банка. Задача - влияет ли семейное положение и количество детей клиента на факт погашения кредита в срок. Входные данные от банка — статистика о платёжеспособности клиентов.\n",
    "\n",
    "Результаты исследования необходимы при построении модели **кредитного скоринга**"
   ]
  },
  {
   "cell_type": "markdown",
   "metadata": {},
   "source": [
    "### Описание данных"
   ]
  },
  {
   "cell_type": "markdown",
   "metadata": {},
   "source": [
    "children — количество детей в семье\n",
    "\n",
    "days_employed — общий трудовой стаж в днях\n",
    "\n",
    "dob_years — возраст клиента в годах\n",
    "\n",
    "education — уровень образования клиента\n",
    "\n",
    "education_id — идентификатор уровня образования\n",
    "\n",
    "family_status — семейное положение\n",
    "\n",
    "family_status_id — идентификатор семейного положения\n",
    "\n",
    "gender — пол клиента\n",
    "\n",
    "income_type — тип занятости\n",
    "\n",
    "debt — имел ли задолженность по возврату кредитов\n",
    "\n",
    "total_income — ежемесячный доход\n",
    "\n",
    "purpose — цель получения кредита"
   ]
  },
  {
   "cell_type": "markdown",
   "metadata": {},
   "source": [
    "## Шаг 1. Импорт библиотек и загрузка файла с данными"
   ]
  },
  {
   "cell_type": "markdown",
   "metadata": {},
   "source": [
    "### Загрузка и оценка файла данных"
   ]
  },
  {
   "cell_type": "code",
   "execution_count": 2,
   "metadata": {},
   "outputs": [],
   "source": [
    "# Импорт библиотек, загрузка файла данных\n",
    "import pandas as pd\n",
    "import numpy as np\n",
    "import warnings\n",
    "warnings.simplefilter(action='ignore', category=FutureWarning)\n",
    "try:\n",
    "    data = pd.read_csv('/datasets/data.csv')\n",
    "except:\n",
    "    data = pd.read_csv('data.csv')"
   ]
  },
  {
   "cell_type": "code",
   "execution_count": 3,
   "metadata": {
    "scrolled": true
   },
   "outputs": [
    {
     "name": "stdout",
     "output_type": "stream",
     "text": [
      "<class 'pandas.core.frame.DataFrame'>\n",
      "RangeIndex: 21525 entries, 0 to 21524\n",
      "Data columns (total 12 columns):\n",
      "children            21525 non-null int64\n",
      "days_employed       19351 non-null float64\n",
      "dob_years           21525 non-null int64\n",
      "education           21525 non-null object\n",
      "education_id        21525 non-null int64\n",
      "family_status       21525 non-null object\n",
      "family_status_id    21525 non-null int64\n",
      "gender              21525 non-null object\n",
      "income_type         21525 non-null object\n",
      "debt                21525 non-null int64\n",
      "total_income        19351 non-null float64\n",
      "purpose             21525 non-null object\n",
      "dtypes: float64(2), int64(5), object(5)\n",
      "memory usage: 2.0+ MB\n"
     ]
    }
   ],
   "source": [
    "# Вызов общей информации о данных, визуальная оценка\n",
    "data.info()"
   ]
  },
  {
   "cell_type": "markdown",
   "metadata": {},
   "source": [
    "<span style='color:blue'>В Dataframe присутствуют **пропуски** в столбце **days_employed** в **2174** строках и в столбце **total_income** в **2174** строках. Тип данных в столбцах соответствует логике названия столбцов</span>"
   ]
  },
  {
   "cell_type": "code",
   "execution_count": 4,
   "metadata": {},
   "outputs": [
    {
     "data": {
      "text/plain": [
       "Index(['children', 'days_employed', 'dob_years', 'education', 'education_id',\n",
       "       'family_status', 'family_status_id', 'gender', 'income_type', 'debt',\n",
       "       'total_income', 'purpose'],\n",
       "      dtype='object')"
      ]
     },
     "execution_count": 4,
     "metadata": {},
     "output_type": "execute_result"
    }
   ],
   "source": [
    "#Проверка наличия пробелов в названии столбцов\n",
    "data.columns"
   ]
  },
  {
   "cell_type": "markdown",
   "metadata": {},
   "source": [
    "<span style='color:blue'>В названиях столбцов отсутствуют лишние пробелы</span>"
   ]
  },
  {
   "cell_type": "markdown",
   "metadata": {},
   "source": [
    "### Визуальная оценка сэмплов данных"
   ]
  },
  {
   "cell_type": "code",
   "execution_count": 5,
   "metadata": {},
   "outputs": [
    {
     "data": {
      "text/html": [
       "<div>\n",
       "<style scoped>\n",
       "    .dataframe tbody tr th:only-of-type {\n",
       "        vertical-align: middle;\n",
       "    }\n",
       "\n",
       "    .dataframe tbody tr th {\n",
       "        vertical-align: top;\n",
       "    }\n",
       "\n",
       "    .dataframe thead th {\n",
       "        text-align: right;\n",
       "    }\n",
       "</style>\n",
       "<table border=\"1\" class=\"dataframe\">\n",
       "  <thead>\n",
       "    <tr style=\"text-align: right;\">\n",
       "      <th></th>\n",
       "      <th>children</th>\n",
       "      <th>days_employed</th>\n",
       "      <th>dob_years</th>\n",
       "      <th>education</th>\n",
       "      <th>education_id</th>\n",
       "      <th>family_status</th>\n",
       "      <th>family_status_id</th>\n",
       "      <th>gender</th>\n",
       "      <th>income_type</th>\n",
       "      <th>debt</th>\n",
       "      <th>total_income</th>\n",
       "      <th>purpose</th>\n",
       "    </tr>\n",
       "  </thead>\n",
       "  <tbody>\n",
       "    <tr>\n",
       "      <td>0</td>\n",
       "      <td>1</td>\n",
       "      <td>-8437.673028</td>\n",
       "      <td>42</td>\n",
       "      <td>высшее</td>\n",
       "      <td>0</td>\n",
       "      <td>женат / замужем</td>\n",
       "      <td>0</td>\n",
       "      <td>F</td>\n",
       "      <td>сотрудник</td>\n",
       "      <td>0</td>\n",
       "      <td>253875.639453</td>\n",
       "      <td>покупка жилья</td>\n",
       "    </tr>\n",
       "    <tr>\n",
       "      <td>1</td>\n",
       "      <td>1</td>\n",
       "      <td>-4024.803754</td>\n",
       "      <td>36</td>\n",
       "      <td>среднее</td>\n",
       "      <td>1</td>\n",
       "      <td>женат / замужем</td>\n",
       "      <td>0</td>\n",
       "      <td>F</td>\n",
       "      <td>сотрудник</td>\n",
       "      <td>0</td>\n",
       "      <td>112080.014102</td>\n",
       "      <td>приобретение автомобиля</td>\n",
       "    </tr>\n",
       "    <tr>\n",
       "      <td>2</td>\n",
       "      <td>0</td>\n",
       "      <td>-5623.422610</td>\n",
       "      <td>33</td>\n",
       "      <td>Среднее</td>\n",
       "      <td>1</td>\n",
       "      <td>женат / замужем</td>\n",
       "      <td>0</td>\n",
       "      <td>M</td>\n",
       "      <td>сотрудник</td>\n",
       "      <td>0</td>\n",
       "      <td>145885.952297</td>\n",
       "      <td>покупка жилья</td>\n",
       "    </tr>\n",
       "    <tr>\n",
       "      <td>3</td>\n",
       "      <td>3</td>\n",
       "      <td>-4124.747207</td>\n",
       "      <td>32</td>\n",
       "      <td>среднее</td>\n",
       "      <td>1</td>\n",
       "      <td>женат / замужем</td>\n",
       "      <td>0</td>\n",
       "      <td>M</td>\n",
       "      <td>сотрудник</td>\n",
       "      <td>0</td>\n",
       "      <td>267628.550329</td>\n",
       "      <td>дополнительное образование</td>\n",
       "    </tr>\n",
       "    <tr>\n",
       "      <td>4</td>\n",
       "      <td>0</td>\n",
       "      <td>340266.072047</td>\n",
       "      <td>53</td>\n",
       "      <td>среднее</td>\n",
       "      <td>1</td>\n",
       "      <td>гражданский брак</td>\n",
       "      <td>1</td>\n",
       "      <td>F</td>\n",
       "      <td>пенсионер</td>\n",
       "      <td>0</td>\n",
       "      <td>158616.077870</td>\n",
       "      <td>сыграть свадьбу</td>\n",
       "    </tr>\n",
       "  </tbody>\n",
       "</table>\n",
       "</div>"
      ],
      "text/plain": [
       "   children  days_employed  dob_years education  education_id  \\\n",
       "0         1   -8437.673028         42    высшее             0   \n",
       "1         1   -4024.803754         36   среднее             1   \n",
       "2         0   -5623.422610         33   Среднее             1   \n",
       "3         3   -4124.747207         32   среднее             1   \n",
       "4         0  340266.072047         53   среднее             1   \n",
       "\n",
       "      family_status  family_status_id gender income_type  debt   total_income  \\\n",
       "0   женат / замужем                 0      F   сотрудник     0  253875.639453   \n",
       "1   женат / замужем                 0      F   сотрудник     0  112080.014102   \n",
       "2   женат / замужем                 0      M   сотрудник     0  145885.952297   \n",
       "3   женат / замужем                 0      M   сотрудник     0  267628.550329   \n",
       "4  гражданский брак                 1      F   пенсионер     0  158616.077870   \n",
       "\n",
       "                      purpose  \n",
       "0               покупка жилья  \n",
       "1     приобретение автомобиля  \n",
       "2               покупка жилья  \n",
       "3  дополнительное образование  \n",
       "4             сыграть свадьбу  "
      ]
     },
     "execution_count": 5,
     "metadata": {},
     "output_type": "execute_result"
    }
   ],
   "source": [
    "# Вывод первых пяти строк Dataframe для визуальной оценки\n",
    "data.head()"
   ]
  },
  {
   "cell_type": "code",
   "execution_count": 6,
   "metadata": {},
   "outputs": [
    {
     "data": {
      "text/html": [
       "<div>\n",
       "<style scoped>\n",
       "    .dataframe tbody tr th:only-of-type {\n",
       "        vertical-align: middle;\n",
       "    }\n",
       "\n",
       "    .dataframe tbody tr th {\n",
       "        vertical-align: top;\n",
       "    }\n",
       "\n",
       "    .dataframe thead th {\n",
       "        text-align: right;\n",
       "    }\n",
       "</style>\n",
       "<table border=\"1\" class=\"dataframe\">\n",
       "  <thead>\n",
       "    <tr style=\"text-align: right;\">\n",
       "      <th></th>\n",
       "      <th>children</th>\n",
       "      <th>days_employed</th>\n",
       "      <th>dob_years</th>\n",
       "      <th>education</th>\n",
       "      <th>education_id</th>\n",
       "      <th>family_status</th>\n",
       "      <th>family_status_id</th>\n",
       "      <th>gender</th>\n",
       "      <th>income_type</th>\n",
       "      <th>debt</th>\n",
       "      <th>total_income</th>\n",
       "      <th>purpose</th>\n",
       "    </tr>\n",
       "  </thead>\n",
       "  <tbody>\n",
       "    <tr>\n",
       "      <td>21520</td>\n",
       "      <td>1</td>\n",
       "      <td>-4529.316663</td>\n",
       "      <td>43</td>\n",
       "      <td>среднее</td>\n",
       "      <td>1</td>\n",
       "      <td>гражданский брак</td>\n",
       "      <td>1</td>\n",
       "      <td>F</td>\n",
       "      <td>компаньон</td>\n",
       "      <td>0</td>\n",
       "      <td>224791.862382</td>\n",
       "      <td>операции с жильем</td>\n",
       "    </tr>\n",
       "    <tr>\n",
       "      <td>21521</td>\n",
       "      <td>0</td>\n",
       "      <td>343937.404131</td>\n",
       "      <td>67</td>\n",
       "      <td>среднее</td>\n",
       "      <td>1</td>\n",
       "      <td>женат / замужем</td>\n",
       "      <td>0</td>\n",
       "      <td>F</td>\n",
       "      <td>пенсионер</td>\n",
       "      <td>0</td>\n",
       "      <td>155999.806512</td>\n",
       "      <td>сделка с автомобилем</td>\n",
       "    </tr>\n",
       "    <tr>\n",
       "      <td>21522</td>\n",
       "      <td>1</td>\n",
       "      <td>-2113.346888</td>\n",
       "      <td>38</td>\n",
       "      <td>среднее</td>\n",
       "      <td>1</td>\n",
       "      <td>гражданский брак</td>\n",
       "      <td>1</td>\n",
       "      <td>M</td>\n",
       "      <td>сотрудник</td>\n",
       "      <td>1</td>\n",
       "      <td>89672.561153</td>\n",
       "      <td>недвижимость</td>\n",
       "    </tr>\n",
       "    <tr>\n",
       "      <td>21523</td>\n",
       "      <td>3</td>\n",
       "      <td>-3112.481705</td>\n",
       "      <td>38</td>\n",
       "      <td>среднее</td>\n",
       "      <td>1</td>\n",
       "      <td>женат / замужем</td>\n",
       "      <td>0</td>\n",
       "      <td>M</td>\n",
       "      <td>сотрудник</td>\n",
       "      <td>1</td>\n",
       "      <td>244093.050500</td>\n",
       "      <td>на покупку своего автомобиля</td>\n",
       "    </tr>\n",
       "    <tr>\n",
       "      <td>21524</td>\n",
       "      <td>2</td>\n",
       "      <td>-1984.507589</td>\n",
       "      <td>40</td>\n",
       "      <td>среднее</td>\n",
       "      <td>1</td>\n",
       "      <td>женат / замужем</td>\n",
       "      <td>0</td>\n",
       "      <td>F</td>\n",
       "      <td>сотрудник</td>\n",
       "      <td>0</td>\n",
       "      <td>82047.418899</td>\n",
       "      <td>на покупку автомобиля</td>\n",
       "    </tr>\n",
       "  </tbody>\n",
       "</table>\n",
       "</div>"
      ],
      "text/plain": [
       "       children  days_employed  dob_years education  education_id  \\\n",
       "21520         1   -4529.316663         43   среднее             1   \n",
       "21521         0  343937.404131         67   среднее             1   \n",
       "21522         1   -2113.346888         38   среднее             1   \n",
       "21523         3   -3112.481705         38   среднее             1   \n",
       "21524         2   -1984.507589         40   среднее             1   \n",
       "\n",
       "          family_status  family_status_id gender income_type  debt  \\\n",
       "21520  гражданский брак                 1      F   компаньон     0   \n",
       "21521   женат / замужем                 0      F   пенсионер     0   \n",
       "21522  гражданский брак                 1      M   сотрудник     1   \n",
       "21523   женат / замужем                 0      M   сотрудник     1   \n",
       "21524   женат / замужем                 0      F   сотрудник     0   \n",
       "\n",
       "        total_income                       purpose  \n",
       "21520  224791.862382             операции с жильем  \n",
       "21521  155999.806512          сделка с автомобилем  \n",
       "21522   89672.561153                  недвижимость  \n",
       "21523  244093.050500  на покупку своего автомобиля  \n",
       "21524   82047.418899         на покупку автомобиля  "
      ]
     },
     "execution_count": 6,
     "metadata": {},
     "output_type": "execute_result"
    }
   ],
   "source": [
    "# Вывод последних пяти строк Dataframe для визуальной оценки\n",
    "data.tail()"
   ]
  },
  {
   "cell_type": "markdown",
   "metadata": {},
   "source": [
    "<span style='color:blue'>В сэмплах строк столбца days_employed заметны **минусовые значения** и **аномально высокие плюсовые** (**343937 дней стажа**) значения для логики столбца.</span>"
   ]
  },
  {
   "cell_type": "code",
   "execution_count": 7,
   "metadata": {},
   "outputs": [
    {
     "name": "stdout",
     "output_type": "stream",
     "text": [
      "Cтаж в годах по этой строке 932\n"
     ]
    }
   ],
   "source": [
    "# Перевод сэмплов строки с аномально высоким плюсовым значением стажа в днях в годы\n",
    "print('Cтаж в годах по этой строке {:.0f}'.format(data.loc[4,'days_employed'] / 365))"
   ]
  },
  {
   "cell_type": "code",
   "execution_count": 8,
   "metadata": {},
   "outputs": [
    {
     "name": "stdout",
     "output_type": "stream",
     "text": [
      "Cтаж в годах по этой строке 942\n"
     ]
    }
   ],
   "source": [
    "print('Cтаж в годах по этой строке {:.0f}'.format(data.loc[21521,'days_employed'] / 365))"
   ]
  },
  {
   "cell_type": "markdown",
   "metadata": {},
   "source": [
    "<span style='color:blue'>Полученные значения в двух сэмплах выше вероятно **ошибочные**, у человека такой стаж **невозможен** даже с применением коэффицентов для льготных категорий</span>.\n",
    "Возможно аномально большие числовые значения со знаком плюс, а также знак минус в остальных значениях - результат вычисления определенного алгоритма, или кода с ошибкой когда они попадают в базу, либо при выгрузке, либо компиляция из разных баз."
   ]
  },
  {
   "cell_type": "markdown",
   "metadata": {},
   "source": [
    "<div class=\"alert alert-warning\" style= \"background-color: #d3e5f0\" style=\"border-radius: 15px\">Возможно аномально большие числовые значения со знаком плюс, а также знак минус в остальных значениях - результат вычисления определенного алгоритма, или кода с ошибкой когда они попадают в базу, либо при выгрузке, либо компиляция из разных баз.\n",
    "</div>"
   ]
  },
  {
   "cell_type": "markdown",
   "metadata": {},
   "source": [
    "#### Вывод описания колличественных признаков"
   ]
  },
  {
   "cell_type": "code",
   "execution_count": 9,
   "metadata": {},
   "outputs": [
    {
     "data": {
      "text/html": [
       "<div>\n",
       "<style scoped>\n",
       "    .dataframe tbody tr th:only-of-type {\n",
       "        vertical-align: middle;\n",
       "    }\n",
       "\n",
       "    .dataframe tbody tr th {\n",
       "        vertical-align: top;\n",
       "    }\n",
       "\n",
       "    .dataframe thead th {\n",
       "        text-align: right;\n",
       "    }\n",
       "</style>\n",
       "<table border=\"1\" class=\"dataframe\">\n",
       "  <thead>\n",
       "    <tr style=\"text-align: right;\">\n",
       "      <th></th>\n",
       "      <th>children</th>\n",
       "      <th>days_employed</th>\n",
       "      <th>dob_years</th>\n",
       "      <th>education_id</th>\n",
       "      <th>family_status_id</th>\n",
       "      <th>debt</th>\n",
       "      <th>total_income</th>\n",
       "    </tr>\n",
       "  </thead>\n",
       "  <tbody>\n",
       "    <tr>\n",
       "      <td>count</td>\n",
       "      <td>21525</td>\n",
       "      <td>19351</td>\n",
       "      <td>21525</td>\n",
       "      <td>21525</td>\n",
       "      <td>21525</td>\n",
       "      <td>21525</td>\n",
       "      <td>19351</td>\n",
       "    </tr>\n",
       "    <tr>\n",
       "      <td>mean</td>\n",
       "      <td>0.54</td>\n",
       "      <td>63046.50</td>\n",
       "      <td>43.29</td>\n",
       "      <td>0.82</td>\n",
       "      <td>0.97</td>\n",
       "      <td>0.08</td>\n",
       "      <td>167422.30</td>\n",
       "    </tr>\n",
       "    <tr>\n",
       "      <td>std</td>\n",
       "      <td>1.38</td>\n",
       "      <td>140827.31</td>\n",
       "      <td>12.57</td>\n",
       "      <td>0.55</td>\n",
       "      <td>1.42</td>\n",
       "      <td>0.27</td>\n",
       "      <td>102971.57</td>\n",
       "    </tr>\n",
       "    <tr>\n",
       "      <td>min</td>\n",
       "      <td>-1.00</td>\n",
       "      <td>-18388.95</td>\n",
       "      <td>0.00</td>\n",
       "      <td>0.00</td>\n",
       "      <td>0.00</td>\n",
       "      <td>0.00</td>\n",
       "      <td>20667.26</td>\n",
       "    </tr>\n",
       "    <tr>\n",
       "      <td>25%</td>\n",
       "      <td>0.00</td>\n",
       "      <td>-2747.42</td>\n",
       "      <td>33.00</td>\n",
       "      <td>1.00</td>\n",
       "      <td>0.00</td>\n",
       "      <td>0.00</td>\n",
       "      <td>103053.15</td>\n",
       "    </tr>\n",
       "    <tr>\n",
       "      <td>50%</td>\n",
       "      <td>0.00</td>\n",
       "      <td>-1203.37</td>\n",
       "      <td>42.00</td>\n",
       "      <td>1.00</td>\n",
       "      <td>0.00</td>\n",
       "      <td>0.00</td>\n",
       "      <td>145017.94</td>\n",
       "    </tr>\n",
       "    <tr>\n",
       "      <td>75%</td>\n",
       "      <td>1.00</td>\n",
       "      <td>-291.10</td>\n",
       "      <td>53.00</td>\n",
       "      <td>1.00</td>\n",
       "      <td>1.00</td>\n",
       "      <td>0.00</td>\n",
       "      <td>203435.07</td>\n",
       "    </tr>\n",
       "    <tr>\n",
       "      <td>max</td>\n",
       "      <td>20.00</td>\n",
       "      <td>401755.40</td>\n",
       "      <td>75.00</td>\n",
       "      <td>4.00</td>\n",
       "      <td>4.00</td>\n",
       "      <td>1.00</td>\n",
       "      <td>2265604.03</td>\n",
       "    </tr>\n",
       "  </tbody>\n",
       "</table>\n",
       "</div>"
      ],
      "text/plain": [
       "      children days_employed dob_years education_id family_status_id   debt  \\\n",
       "count    21525         19351     21525        21525            21525  21525   \n",
       "mean      0.54      63046.50     43.29         0.82             0.97   0.08   \n",
       "std       1.38     140827.31     12.57         0.55             1.42   0.27   \n",
       "min      -1.00     -18388.95      0.00         0.00             0.00   0.00   \n",
       "25%       0.00      -2747.42     33.00         1.00             0.00   0.00   \n",
       "50%       0.00      -1203.37     42.00         1.00             0.00   0.00   \n",
       "75%       1.00       -291.10     53.00         1.00             1.00   0.00   \n",
       "max      20.00     401755.40     75.00         4.00             4.00   1.00   \n",
       "\n",
       "      total_income  \n",
       "count        19351  \n",
       "mean     167422.30  \n",
       "std      102971.57  \n",
       "min       20667.26  \n",
       "25%      103053.15  \n",
       "50%      145017.94  \n",
       "75%      203435.07  \n",
       "max     2265604.03  "
      ]
     },
     "execution_count": 9,
     "metadata": {},
     "output_type": "execute_result"
    }
   ],
   "source": [
    "# Вывод описания колличественных признаков с форматированием вывода через переменную categorial_data_summary и метод describe()\n",
    "categorial_data_summary = data.describe()\n",
    "categorial_data_summary.loc['count'] = categorial_data_summary.loc['count'].astype(int).astype(str)\n",
    "categorial_data_summary.iloc[1:] = categorial_data_summary.iloc[1:].applymap('{:.2f}'.format)\n",
    "categorial_data_summary"
   ]
  },
  {
   "cell_type": "markdown",
   "metadata": {},
   "source": [
    "<span style='color:blue'><br>В столбце **сhildren** замечен артефакт **минус 1 ребенок**, и вероятная ошибка **20 детей**. \n",
    "<br>В **столбце days_employed** подтверждается вывод об ошибочности положительных данных о стаже max значение стажа в годах = **1100 лет**. \n",
    "<br>В столбце **dob_years** замечена явная ошибка - **возраст 0 лет** как **min** значение.</span>"
   ]
  },
  {
   "cell_type": "markdown",
   "metadata": {},
   "source": [
    "#### Вывод описания категориальных признаков"
   ]
  },
  {
   "cell_type": "code",
   "execution_count": 10,
   "metadata": {},
   "outputs": [
    {
     "data": {
      "text/html": [
       "<div>\n",
       "<style scoped>\n",
       "    .dataframe tbody tr th:only-of-type {\n",
       "        vertical-align: middle;\n",
       "    }\n",
       "\n",
       "    .dataframe tbody tr th {\n",
       "        vertical-align: top;\n",
       "    }\n",
       "\n",
       "    .dataframe thead th {\n",
       "        text-align: right;\n",
       "    }\n",
       "</style>\n",
       "<table border=\"1\" class=\"dataframe\">\n",
       "  <thead>\n",
       "    <tr style=\"text-align: right;\">\n",
       "      <th></th>\n",
       "      <th>education</th>\n",
       "      <th>family_status</th>\n",
       "      <th>gender</th>\n",
       "      <th>income_type</th>\n",
       "      <th>purpose</th>\n",
       "    </tr>\n",
       "  </thead>\n",
       "  <tbody>\n",
       "    <tr>\n",
       "      <td>count</td>\n",
       "      <td>21525</td>\n",
       "      <td>21525</td>\n",
       "      <td>21525</td>\n",
       "      <td>21525</td>\n",
       "      <td>21525</td>\n",
       "    </tr>\n",
       "    <tr>\n",
       "      <td>unique</td>\n",
       "      <td>15</td>\n",
       "      <td>5</td>\n",
       "      <td>3</td>\n",
       "      <td>8</td>\n",
       "      <td>38</td>\n",
       "    </tr>\n",
       "    <tr>\n",
       "      <td>top</td>\n",
       "      <td>среднее</td>\n",
       "      <td>женат / замужем</td>\n",
       "      <td>F</td>\n",
       "      <td>сотрудник</td>\n",
       "      <td>свадьба</td>\n",
       "    </tr>\n",
       "    <tr>\n",
       "      <td>freq</td>\n",
       "      <td>13750</td>\n",
       "      <td>12380</td>\n",
       "      <td>14236</td>\n",
       "      <td>11119</td>\n",
       "      <td>797</td>\n",
       "    </tr>\n",
       "  </tbody>\n",
       "</table>\n",
       "</div>"
      ],
      "text/plain": [
       "       education    family_status gender income_type  purpose\n",
       "count      21525            21525  21525       21525    21525\n",
       "unique        15                5      3           8       38\n",
       "top      среднее  женат / замужем      F   сотрудник  свадьба\n",
       "freq       13750            12380  14236       11119      797"
      ]
     },
     "execution_count": 10,
     "metadata": {},
     "output_type": "execute_result"
    }
   ],
   "source": [
    "#Вывод описания категориальных признаков через метод describe()\n",
    "data.describe(include=[object])"
   ]
  },
  {
   "cell_type": "markdown",
   "metadata": {},
   "source": [
    "<br><span style='color:blue'>Замечено ошибочное значение в столбце **gender** - **третье значение для признака пола**</span>\n",
    "<br><span style='color:blue'> Получен *предварительный* мини-портрет заемщика: женщина, имеет среднее образование, замужем, работает по найму, кредит берет на свадьбу.</span>"
   ]
  },
  {
   "cell_type": "code",
   "execution_count": 11,
   "metadata": {
    "scrolled": true
   },
   "outputs": [
    {
     "data": {
      "text/plain": [
       "array(['F', 'M', 'XNA'], dtype=object)"
      ]
     },
     "execution_count": 11,
     "metadata": {},
     "output_type": "execute_result"
    }
   ],
   "source": [
    "data['gender'].unique() # Вывод всех значени пола для контроля"
   ]
  },
  {
   "cell_type": "markdown",
   "metadata": {},
   "source": [
    "<span style='color:blue'>Ошибочное значение признака пола - **'XNA'**</span>"
   ]
  },
  {
   "cell_type": "markdown",
   "metadata": {},
   "source": [
    "**Вывод**"
   ]
  },
  {
   "cell_type": "markdown",
   "metadata": {},
   "source": [
    "<br>Dataframe содержит 21525 строк в 12 столбцах, типы данных в них соответствуют логике. \n",
    "<br><span style='color:darkblue'>**Пропуски**</span> данных в столбцах **days_employed** и **total_income** в количестве <span style='color:darkblue'>**2174**</span> строк.\n",
    "<br>В столбце **days_employed** присутствуют <span style='color:darkblue'>**минусовые и положительные значения**</span>, среди положительных значений присутствуют <span style='color:darkblue'>**ошибки данных**</span>, например в **строке 4** - стаж в днях **340266.072047** в годах - <span style='color:darkblue'>**932 года**</span>. \n",
    "<br>В столбце **children** выявленна явная <span style='color:darkblue'>**ошибка**</span> данных - <span style='color:darkblue'>**минусовое значение**</span>для количества детей и аномально высокое <span style='color:darkblue'>**max значение - 20 детей**</span>. \n",
    "<br>В столбце **dob_years** выявлена явная <span style='color:darkblue'>**ошибка**</span> данных - <span style='color:darkblue'>**нулевое значения для возраста**</span>. \n",
    "<br>В столбце **gender** выявлен <span style='color:darkblue'>**ошибочный признак**</span> пола - значение <span style='color:darkblue'>**XNA**.</span></span>"
   ]
  },
  {
   "cell_type": "markdown",
   "metadata": {},
   "source": [
    "## Шаг 2. Предобработка данных"
   ]
  },
  {
   "cell_type": "markdown",
   "metadata": {},
   "source": [
    "### Обработка пропусков"
   ]
  },
  {
   "cell_type": "markdown",
   "metadata": {},
   "source": [
    "#### Проверка взаимосвязи пропусков в столбцах days_employed и total_income по строкам"
   ]
  },
  {
   "cell_type": "code",
   "execution_count": 12,
   "metadata": {},
   "outputs": [
    {
     "name": "stdout",
     "output_type": "stream",
     "text": [
      "children - 0%\n",
      "days_employed - 10%\n",
      "dob_years - 0%\n",
      "education - 0%\n",
      "education_id - 0%\n",
      "family_status - 0%\n",
      "family_status_id - 0%\n",
      "gender - 0%\n",
      "income_type - 0%\n",
      "debt - 0%\n",
      "total_income - 10%\n",
      "purpose - 0%\n"
     ]
    }
   ],
   "source": [
    "# Процент пропусков по столбцам в Dataframe\n",
    "empty_spaces = data.copy()\n",
    "for col in empty_spaces.columns:\n",
    "    str_missing = np.mean(empty_spaces[col].isnull())\n",
    "    print('{} - {}%'.format(col, round(str_missing*100)))"
   ]
  },
  {
   "cell_type": "code",
   "execution_count": 13,
   "metadata": {
    "scrolled": true
   },
   "outputs": [
    {
     "data": {
      "text/html": [
       "<div>\n",
       "<style scoped>\n",
       "    .dataframe tbody tr th:only-of-type {\n",
       "        vertical-align: middle;\n",
       "    }\n",
       "\n",
       "    .dataframe tbody tr th {\n",
       "        vertical-align: top;\n",
       "    }\n",
       "\n",
       "    .dataframe thead th {\n",
       "        text-align: right;\n",
       "    }\n",
       "</style>\n",
       "<table border=\"1\" class=\"dataframe\">\n",
       "  <thead>\n",
       "    <tr style=\"text-align: right;\">\n",
       "      <th></th>\n",
       "      <th>children</th>\n",
       "      <th>days_employed</th>\n",
       "      <th>dob_years</th>\n",
       "      <th>education_id</th>\n",
       "      <th>family_status_id</th>\n",
       "      <th>debt</th>\n",
       "      <th>total_income</th>\n",
       "    </tr>\n",
       "  </thead>\n",
       "  <tbody>\n",
       "    <tr>\n",
       "      <td>count</td>\n",
       "      <td>2174.000000</td>\n",
       "      <td>0.0</td>\n",
       "      <td>2174.000000</td>\n",
       "      <td>2174.000000</td>\n",
       "      <td>2174.000000</td>\n",
       "      <td>2174.000000</td>\n",
       "      <td>0.0</td>\n",
       "    </tr>\n",
       "    <tr>\n",
       "      <td>mean</td>\n",
       "      <td>0.552438</td>\n",
       "      <td>NaN</td>\n",
       "      <td>43.632015</td>\n",
       "      <td>0.800828</td>\n",
       "      <td>0.975161</td>\n",
       "      <td>0.078197</td>\n",
       "      <td>NaN</td>\n",
       "    </tr>\n",
       "    <tr>\n",
       "      <td>std</td>\n",
       "      <td>1.469356</td>\n",
       "      <td>NaN</td>\n",
       "      <td>12.531481</td>\n",
       "      <td>0.530157</td>\n",
       "      <td>1.418220</td>\n",
       "      <td>0.268543</td>\n",
       "      <td>NaN</td>\n",
       "    </tr>\n",
       "    <tr>\n",
       "      <td>min</td>\n",
       "      <td>-1.000000</td>\n",
       "      <td>NaN</td>\n",
       "      <td>0.000000</td>\n",
       "      <td>0.000000</td>\n",
       "      <td>0.000000</td>\n",
       "      <td>0.000000</td>\n",
       "      <td>NaN</td>\n",
       "    </tr>\n",
       "    <tr>\n",
       "      <td>25%</td>\n",
       "      <td>0.000000</td>\n",
       "      <td>NaN</td>\n",
       "      <td>34.000000</td>\n",
       "      <td>0.250000</td>\n",
       "      <td>0.000000</td>\n",
       "      <td>0.000000</td>\n",
       "      <td>NaN</td>\n",
       "    </tr>\n",
       "    <tr>\n",
       "      <td>50%</td>\n",
       "      <td>0.000000</td>\n",
       "      <td>NaN</td>\n",
       "      <td>43.000000</td>\n",
       "      <td>1.000000</td>\n",
       "      <td>0.000000</td>\n",
       "      <td>0.000000</td>\n",
       "      <td>NaN</td>\n",
       "    </tr>\n",
       "    <tr>\n",
       "      <td>75%</td>\n",
       "      <td>1.000000</td>\n",
       "      <td>NaN</td>\n",
       "      <td>54.000000</td>\n",
       "      <td>1.000000</td>\n",
       "      <td>1.000000</td>\n",
       "      <td>0.000000</td>\n",
       "      <td>NaN</td>\n",
       "    </tr>\n",
       "    <tr>\n",
       "      <td>max</td>\n",
       "      <td>20.000000</td>\n",
       "      <td>NaN</td>\n",
       "      <td>73.000000</td>\n",
       "      <td>3.000000</td>\n",
       "      <td>4.000000</td>\n",
       "      <td>1.000000</td>\n",
       "      <td>NaN</td>\n",
       "    </tr>\n",
       "  </tbody>\n",
       "</table>\n",
       "</div>"
      ],
      "text/plain": [
       "          children  days_employed    dob_years  education_id  \\\n",
       "count  2174.000000            0.0  2174.000000   2174.000000   \n",
       "mean      0.552438            NaN    43.632015      0.800828   \n",
       "std       1.469356            NaN    12.531481      0.530157   \n",
       "min      -1.000000            NaN     0.000000      0.000000   \n",
       "25%       0.000000            NaN    34.000000      0.250000   \n",
       "50%       0.000000            NaN    43.000000      1.000000   \n",
       "75%       1.000000            NaN    54.000000      1.000000   \n",
       "max      20.000000            NaN    73.000000      3.000000   \n",
       "\n",
       "       family_status_id         debt  total_income  \n",
       "count       2174.000000  2174.000000           0.0  \n",
       "mean           0.975161     0.078197           NaN  \n",
       "std            1.418220     0.268543           NaN  \n",
       "min            0.000000     0.000000           NaN  \n",
       "25%            0.000000     0.000000           NaN  \n",
       "50%            0.000000     0.000000           NaN  \n",
       "75%            1.000000     0.000000           NaN  \n",
       "max            4.000000     1.000000           NaN  "
      ]
     },
     "execution_count": 13,
     "metadata": {},
     "output_type": "execute_result"
    }
   ],
   "source": [
    "# Проверка предположения - в каждой строке с пропуском в столбце days_employed есть пропуск в столбце income_type\n",
    "null_data = empty_spaces[empty_spaces.isnull().any(axis=1)]\n",
    "null_data.describe()"
   ]
  },
  {
   "cell_type": "code",
   "execution_count": 14,
   "metadata": {},
   "outputs": [
    {
     "data": {
      "text/plain": [
       "170"
      ]
     },
     "execution_count": 14,
     "metadata": {},
     "output_type": "execute_result"
    }
   ],
   "source": [
    "# Количество дебиторов в строках где пропущены значения days_employed и total_income\n",
    "null_data = empty_spaces.fillna(0)\n",
    "debitors_in_null_data = null_data.loc[(null_data['days_employed'] == 0) & (null_data['total_income'] == 0)]\n",
    "debitors_in_null_data['debt'].sum()"
   ]
  },
  {
   "cell_type": "code",
   "execution_count": 15,
   "metadata": {},
   "outputs": [
    {
     "data": {
      "text/plain": [
       "1741"
      ]
     },
     "execution_count": 15,
     "metadata": {},
     "output_type": "execute_result"
    }
   ],
   "source": [
    "# Количество дебиторов в общем Dataframe\n",
    "debitors_in_data = empty_spaces['debt'].sum()\n",
    "debitors_in_data"
   ]
  },
  {
   "cell_type": "code",
   "execution_count": 16,
   "metadata": {},
   "outputs": [
    {
     "data": {
      "text/plain": [
       "income_type\n",
       "госслужащий         147\n",
       "компаньон           508\n",
       "пенсионер           413\n",
       "предприниматель       1\n",
       "сотрудник          1105\n",
       "Name: days_employed, dtype: int64"
      ]
     },
     "execution_count": 16,
     "metadata": {},
     "output_type": "execute_result"
    }
   ],
   "source": [
    "# Группировка пропущенных значений стажа по типу дохода\n",
    "null_data = null_data.loc[null_data['days_employed'] == 0]\n",
    "null_data.groupby('income_type')['days_employed'].count()"
   ]
  },
  {
   "cell_type": "markdown",
   "metadata": {},
   "source": [
    "<br><span style='color:blue'>Количество **должников** в строках с пропусками - 10% что соотносится с количеством строк с пропусками в общем Dataframe - 10%, что означает что в пропущеных строках такое же распределения должников, как и в общем Dataframe</span>\n",
    "<br><span style='color:blue'>Если в строке есть **пропуск** в стаже по столбцу **days_employed** то данные о доходе в столбце **total_income** также **отсутствуют**, возможно такие заемщики не могут потвердить стаж и доход официально</span>"
   ]
  },
  {
   "cell_type": "markdown",
   "metadata": {},
   "source": [
    "#### Замена пропусков в столбце стажа days_employed"
   ]
  },
  {
   "cell_type": "code",
   "execution_count": 17,
   "metadata": {
    "scrolled": true
   },
   "outputs": [
    {
     "data": {
      "text/html": [
       "<div>\n",
       "<style scoped>\n",
       "    .dataframe tbody tr th:only-of-type {\n",
       "        vertical-align: middle;\n",
       "    }\n",
       "\n",
       "    .dataframe tbody tr th {\n",
       "        vertical-align: top;\n",
       "    }\n",
       "\n",
       "    .dataframe thead th {\n",
       "        text-align: right;\n",
       "    }\n",
       "</style>\n",
       "<table border=\"1\" class=\"dataframe\">\n",
       "  <thead>\n",
       "    <tr style=\"text-align: right;\">\n",
       "      <th></th>\n",
       "      <th>children</th>\n",
       "      <th>days_employed</th>\n",
       "      <th>dob_years</th>\n",
       "      <th>education_id</th>\n",
       "      <th>family_status_id</th>\n",
       "      <th>debt</th>\n",
       "      <th>total_income</th>\n",
       "    </tr>\n",
       "  </thead>\n",
       "  <tbody>\n",
       "    <tr>\n",
       "      <td>count</td>\n",
       "      <td>3445.00</td>\n",
       "      <td>3445.00</td>\n",
       "      <td>3445.00</td>\n",
       "      <td>3445.00</td>\n",
       "      <td>3445.00</td>\n",
       "      <td>3445.00</td>\n",
       "      <td>3445.00</td>\n",
       "    </tr>\n",
       "    <tr>\n",
       "      <td>mean</td>\n",
       "      <td>0.13</td>\n",
       "      <td>1000.01</td>\n",
       "      <td>59.12</td>\n",
       "      <td>0.91</td>\n",
       "      <td>0.98</td>\n",
       "      <td>0.05</td>\n",
       "      <td>137124.11</td>\n",
       "    </tr>\n",
       "    <tr>\n",
       "      <td>std</td>\n",
       "      <td>0.96</td>\n",
       "      <td>57.74</td>\n",
       "      <td>7.58</td>\n",
       "      <td>0.52</td>\n",
       "      <td>1.32</td>\n",
       "      <td>0.22</td>\n",
       "      <td>80242.21</td>\n",
       "    </tr>\n",
       "    <tr>\n",
       "      <td>min</td>\n",
       "      <td>-1.00</td>\n",
       "      <td>900.63</td>\n",
       "      <td>0.00</td>\n",
       "      <td>0.00</td>\n",
       "      <td>0.00</td>\n",
       "      <td>0.00</td>\n",
       "      <td>20667.26</td>\n",
       "    </tr>\n",
       "    <tr>\n",
       "      <td>25%</td>\n",
       "      <td>0.00</td>\n",
       "      <td>949.70</td>\n",
       "      <td>56.00</td>\n",
       "      <td>1.00</td>\n",
       "      <td>0.00</td>\n",
       "      <td>0.00</td>\n",
       "      <td>82876.34</td>\n",
       "    </tr>\n",
       "    <tr>\n",
       "      <td>50%</td>\n",
       "      <td>0.00</td>\n",
       "      <td>1000.58</td>\n",
       "      <td>60.00</td>\n",
       "      <td>1.00</td>\n",
       "      <td>0.00</td>\n",
       "      <td>0.00</td>\n",
       "      <td>118514.49</td>\n",
       "    </tr>\n",
       "    <tr>\n",
       "      <td>75%</td>\n",
       "      <td>0.00</td>\n",
       "      <td>1049.99</td>\n",
       "      <td>64.00</td>\n",
       "      <td>1.00</td>\n",
       "      <td>2.00</td>\n",
       "      <td>0.00</td>\n",
       "      <td>169746.26</td>\n",
       "    </tr>\n",
       "    <tr>\n",
       "      <td>max</td>\n",
       "      <td>20.00</td>\n",
       "      <td>1100.70</td>\n",
       "      <td>74.00</td>\n",
       "      <td>4.00</td>\n",
       "      <td>4.00</td>\n",
       "      <td>1.00</td>\n",
       "      <td>735103.27</td>\n",
       "    </tr>\n",
       "  </tbody>\n",
       "</table>\n",
       "</div>"
      ],
      "text/plain": [
       "      children days_employed dob_years education_id family_status_id     debt  \\\n",
       "count  3445.00       3445.00   3445.00      3445.00          3445.00  3445.00   \n",
       "mean      0.13       1000.01     59.12         0.91             0.98     0.05   \n",
       "std       0.96         57.74      7.58         0.52             1.32     0.22   \n",
       "min      -1.00        900.63      0.00         0.00             0.00     0.00   \n",
       "25%       0.00        949.70     56.00         1.00             0.00     0.00   \n",
       "50%       0.00       1000.58     60.00         1.00             0.00     0.00   \n",
       "75%       0.00       1049.99     64.00         1.00             2.00     0.00   \n",
       "max      20.00       1100.70     74.00         4.00             4.00     1.00   \n",
       "\n",
       "      total_income  \n",
       "count      3445.00  \n",
       "mean     137124.11  \n",
       "std       80242.21  \n",
       "min       20667.26  \n",
       "25%       82876.34  \n",
       "50%      118514.49  \n",
       "75%      169746.26  \n",
       "max      735103.27  "
      ]
     },
     "execution_count": 17,
     "metadata": {},
     "output_type": "execute_result"
    }
   ],
   "source": [
    "# Оценка значений стажа в столбце days_employed со знаком плюс в годах\n",
    "data_in_years = data.copy()\n",
    "data_in_years['days_employed']= data_in_years['days_employed'].apply(lambda x: x/365)\n",
    "positve_days_employed = data_in_years[data['days_employed'] > 0]\n",
    "positve_days_employed.describe().applymap('{:.2f}'.format)"
   ]
  },
  {
   "cell_type": "code",
   "execution_count": 18,
   "metadata": {
    "scrolled": false
   },
   "outputs": [
    {
     "name": "stderr",
     "output_type": "stream",
     "text": [
      "/opt/conda/lib/python3.7/site-packages/pandas/core/ops/__init__.py:1115: FutureWarning: elementwise comparison failed; returning scalar instead, but in the future will perform elementwise comparison\n",
      "  result = method(y)\n"
     ]
    },
    {
     "data": {
      "text/html": [
       "<div>\n",
       "<style scoped>\n",
       "    .dataframe tbody tr th:only-of-type {\n",
       "        vertical-align: middle;\n",
       "    }\n",
       "\n",
       "    .dataframe tbody tr th {\n",
       "        vertical-align: top;\n",
       "    }\n",
       "\n",
       "    .dataframe thead th {\n",
       "        text-align: right;\n",
       "    }\n",
       "</style>\n",
       "<table border=\"1\" class=\"dataframe\">\n",
       "  <thead>\n",
       "    <tr style=\"text-align: right;\">\n",
       "      <th></th>\n",
       "      <th>children</th>\n",
       "      <th>days_employed</th>\n",
       "      <th>dob_years</th>\n",
       "      <th>education</th>\n",
       "      <th>education_id</th>\n",
       "      <th>family_status</th>\n",
       "      <th>family_status_id</th>\n",
       "      <th>gender</th>\n",
       "      <th>income_type</th>\n",
       "      <th>debt</th>\n",
       "      <th>total_income</th>\n",
       "      <th>purpose</th>\n",
       "    </tr>\n",
       "  </thead>\n",
       "  <tbody>\n",
       "  </tbody>\n",
       "</table>\n",
       "</div>"
      ],
      "text/plain": [
       "Empty DataFrame\n",
       "Columns: [children, days_employed, dob_years, education, education_id, family_status, family_status_id, gender, income_type, debt, total_income, purpose]\n",
       "Index: []"
      ]
     },
     "execution_count": 18,
     "metadata": {},
     "output_type": "execute_result"
    }
   ],
   "source": [
    "negative_days_employed = data[(data['days_employed'] < 0) & (data['days_employed'] == 'пенсионер')]\n",
    "negative_days_employed"
   ]
  },
  {
   "cell_type": "markdown",
   "metadata": {},
   "source": [
    "<br><span style='color:blue'>Как можно видеть позитивные значения в столбце стажа days_employed в 3445 строках. Все они - аномальные, если перевести дни в годы, **min** значение стажа в этих строках - **900 лет**, среднее - **1000 лет** </span>"
   ]
  },
  {
   "cell_type": "code",
   "execution_count": 19,
   "metadata": {},
   "outputs": [
    {
     "data": {
      "text/plain": [
       "сотрудник          11119\n",
       "компаньон           5085\n",
       "пенсионер           3856\n",
       "госслужащий         1459\n",
       "безработный            2\n",
       "предприниматель        2\n",
       "студент                1\n",
       "в декрете              1\n",
       "Name: income_type, dtype: int64"
      ]
     },
     "execution_count": 19,
     "metadata": {},
     "output_type": "execute_result"
    }
   ],
   "source": [
    "# Еще раз вывод состава столбца income_type - тип дохода\n",
    "data['income_type'].value_counts()"
   ]
  },
  {
   "cell_type": "code",
   "execution_count": 20,
   "metadata": {},
   "outputs": [
    {
     "data": {
      "text/plain": [
       "income_type\n",
       "безработный       2\n",
       "пенсионер      3443\n",
       "Name: days_employed, dtype: int64"
      ]
     },
     "execution_count": 20,
     "metadata": {},
     "output_type": "execute_result"
    }
   ],
   "source": [
    "# Вывод инфо кто имеет аномальные плюсовые значения стажа, т.е. запредельный стаж\n",
    "positve_days_employed.groupby('income_type')['days_employed'].count()"
   ]
  },
  {
   "cell_type": "code",
   "execution_count": 21,
   "metadata": {},
   "outputs": [
    {
     "data": {
      "text/plain": [
       "Series([], Name: days_employed, dtype: int64)"
      ]
     },
     "execution_count": 21,
     "metadata": {},
     "output_type": "execute_result"
    }
   ],
   "source": [
    "# Проверка - есть ли пенсионеры в строках с отрицательным стажем, который логичен по значениям\n",
    "negative_days_employed = data[(data['days_employed'] < 0) & (data['days_employed'] == 'пенсионер')]\n",
    "negative_days_employed.groupby('income_type')['days_employed'].count()"
   ]
  },
  {
   "cell_type": "markdown",
   "metadata": {},
   "source": [
    "<br><span style='color:blue'> Все пенсионеры имеют либо пропуск (413 строк) в стаже либо аномально высокие плюсовые значения (3443 строки). У обоих безработных из выборки - тоже аномально высокий плюсовой стаж.  </span>"
   ]
  },
  {
   "cell_type": "code",
   "execution_count": 22,
   "metadata": {},
   "outputs": [],
   "source": [
    "# Заполнение пропусков в столбце days_employed медианой по группам nbgf lj[jlf b djphfcnf]\n",
    "med = data.groupby(['income_type','dob_years'])['days_employed'].transform('median')\n",
    "data['days_employed'].fillna(med,inplace=True)"
   ]
  },
  {
   "cell_type": "code",
   "execution_count": 23,
   "metadata": {},
   "outputs": [
    {
     "name": "stdout",
     "output_type": "stream",
     "text": [
      "Количество пропусков: 4\n"
     ]
    }
   ],
   "source": [
    "\n",
    "print('Количество пропусков:',data['days_employed'].isnull().sum()) # Проверка"
   ]
  },
  {
   "cell_type": "markdown",
   "metadata": {},
   "source": [
    "<div class=\"alert alert-warning\" style= \"background-color: #d3e5f0\" style=\"border-radius: 15px\"><br><span style='color:blue'>После подтерждения гипотезы что аномально высокий плюсовой стаж только у пенсионеров и безработных, пропуски в столбце стажа days_employed заполнены медианой по столбцам типа дохода и возраста.\n",
    "<br>Для выяснения причин появляния аномального стажа в виде плюсовых значений и логичного стажа - в виде минусовых, необходимо сделать запрос к поставщику данных об источнике и порядке их формирования.</span></div>"
   ]
  },
  {
   "cell_type": "markdown",
   "metadata": {},
   "source": [
    "#### Замена минусового значения в количестве детей"
   ]
  },
  {
   "cell_type": "code",
   "execution_count": 1116,
   "metadata": {},
   "outputs": [
    {
     "data": {
      "text/html": [
       "<div>\n",
       "<style scoped>\n",
       "    .dataframe tbody tr th:only-of-type {\n",
       "        vertical-align: middle;\n",
       "    }\n",
       "\n",
       "    .dataframe tbody tr th {\n",
       "        vertical-align: top;\n",
       "    }\n",
       "\n",
       "    .dataframe thead th {\n",
       "        text-align: right;\n",
       "    }\n",
       "</style>\n",
       "<table border=\"1\" class=\"dataframe\">\n",
       "  <thead>\n",
       "    <tr style=\"text-align: right;\">\n",
       "      <th></th>\n",
       "      <th>children</th>\n",
       "      <th>days_employed</th>\n",
       "      <th>dob_years</th>\n",
       "      <th>education</th>\n",
       "      <th>education_id</th>\n",
       "      <th>family_status</th>\n",
       "      <th>family_status_id</th>\n",
       "      <th>gender</th>\n",
       "      <th>income_type</th>\n",
       "      <th>debt</th>\n",
       "      <th>total_income</th>\n",
       "      <th>purpose</th>\n",
       "    </tr>\n",
       "  </thead>\n",
       "  <tbody>\n",
       "  </tbody>\n",
       "</table>\n",
       "</div>"
      ],
      "text/plain": [
       "Empty DataFrame\n",
       "Columns: [children, days_employed, dob_years, education, education_id, family_status, family_status_id, gender, income_type, debt, total_income, purpose]\n",
       "Index: []"
      ]
     },
     "execution_count": 1116,
     "metadata": {},
     "output_type": "execute_result"
    }
   ],
   "source": [
    "# Устранение минусового значения в 47 строках\n",
    "data['children'] = data['children'].abs()\n",
    "# Проверка\n",
    "data[data['children'] < 0]"
   ]
  },
  {
   "cell_type": "code",
   "execution_count": 1117,
   "metadata": {
    "scrolled": false
   },
   "outputs": [
    {
     "name": "stdout",
     "output_type": "stream",
     "text": [
      "Количество заемщиков числом детей 20 - 76\n"
     ]
    }
   ],
   "source": [
    "print(\"Количество заемщиков числом детей 20 -\", data[data['children'] == 20].count()[0])"
   ]
  },
  {
   "cell_type": "code",
   "execution_count": 1118,
   "metadata": {
    "scrolled": true
   },
   "outputs": [
    {
     "data": {
      "text/html": [
       "<div>\n",
       "<style scoped>\n",
       "    .dataframe tbody tr th:only-of-type {\n",
       "        vertical-align: middle;\n",
       "    }\n",
       "\n",
       "    .dataframe tbody tr th {\n",
       "        vertical-align: top;\n",
       "    }\n",
       "\n",
       "    .dataframe thead th {\n",
       "        text-align: right;\n",
       "    }\n",
       "</style>\n",
       "<table border=\"1\" class=\"dataframe\">\n",
       "  <thead>\n",
       "    <tr style=\"text-align: right;\">\n",
       "      <th></th>\n",
       "      <th>children</th>\n",
       "      <th>days_employed</th>\n",
       "      <th>dob_years</th>\n",
       "      <th>education</th>\n",
       "      <th>education_id</th>\n",
       "      <th>family_status</th>\n",
       "      <th>family_status_id</th>\n",
       "      <th>gender</th>\n",
       "      <th>income_type</th>\n",
       "      <th>debt</th>\n",
       "      <th>total_income</th>\n",
       "      <th>purpose</th>\n",
       "    </tr>\n",
       "  </thead>\n",
       "  <tbody>\n",
       "  </tbody>\n",
       "</table>\n",
       "</div>"
      ],
      "text/plain": [
       "Empty DataFrame\n",
       "Columns: [children, days_employed, dob_years, education, education_id, family_status, family_status_id, gender, income_type, debt, total_income, purpose]\n",
       "Index: []"
      ]
     },
     "execution_count": 1118,
     "metadata": {},
     "output_type": "execute_result"
    }
   ],
   "source": [
    "# Приведение количества детей от 20 к 2\n",
    "data.loc[data['children'] == 20, 'children'] = 2\n",
    "data.loc[data['children'] == 20] # Проверка "
   ]
  },
  {
   "cell_type": "markdown",
   "metadata": {},
   "source": [
    "<br><span style='color:blue'>47 строк (**0,21%** от общего количества) со значением **-1** были приведены к значению **1**, исходя из логики ошибочности минуса при заполнении данных. Необходимо также уточнить у поставщика данных причны появления таких записей, хотя в процентном соотношении они ничтожны для объема данных.</span>\n",
    "<br><span style='color:blue'> Количество детей - **20**, исходя из описания колличественных столбцов проведенного ранее, среднее количество детей в данных - 0,54, среднее отклонение - 1.38, поэтому можно считать **76** (**0.35%** от общего количества) строк с количеством детей - 20 явной ошибкой заполнения данных. Эти строке приведены **к значению 2 ребенка**. Это не приведет к искажению данных в виду незначительности доли таких значений. Необходимо также сделать запрос поставщику данных о причинах возникновения таких аномальных значений, если существуют семьи с таким количеством детей то их вероятность попасть представленную выборку очень маловерятна.</span>"
   ]
  },
  {
   "cell_type": "markdown",
   "metadata": {},
   "source": [
    "#### Замена нулевых значений возраста в столбце возраста dob_years"
   ]
  },
  {
   "cell_type": "code",
   "execution_count": 1119,
   "metadata": {},
   "outputs": [
    {
     "name": "stdout",
     "output_type": "stream",
     "text": [
      "Количество нулевых значений в столбце dob_years: 101\n",
      "% нулевых значений в столбце dob_years: 0.2694541231126597\n"
     ]
    }
   ],
   "source": [
    "# Оценка количества значений 0 в столбце dob_years\n",
    "print('Количество нулевых значений в столбце dob_years:',data['dob_years'][data['dob_years'] == 0].count())\n",
    "print(\n",
    "    '% нулевых значений в столбце dob_years:',(len(data['dob_years'].value_counts(normalize=True)) / len(\n",
    "        data['dob_years']))*100)"
   ]
  },
  {
   "cell_type": "code",
   "execution_count": 1120,
   "metadata": {},
   "outputs": [
    {
     "data": {
      "text/plain": [
       "сотрудник      55\n",
       "пенсионер      20\n",
       "компаньон      20\n",
       "госслужащий     6\n",
       "Name: income_type, dtype: int64"
      ]
     },
     "execution_count": 1120,
     "metadata": {},
     "output_type": "execute_result"
    }
   ],
   "source": [
    "# Оценка типов занятости income_type для строк с нулевым возрастом\n",
    "data.loc[data['dob_years'] == 0, 'income_type'].value_counts()"
   ]
  },
  {
   "cell_type": "code",
   "execution_count": 1121,
   "metadata": {},
   "outputs": [
    {
     "data": {
      "text/html": [
       "<div>\n",
       "<style scoped>\n",
       "    .dataframe tbody tr th:only-of-type {\n",
       "        vertical-align: middle;\n",
       "    }\n",
       "\n",
       "    .dataframe tbody tr th {\n",
       "        vertical-align: top;\n",
       "    }\n",
       "\n",
       "    .dataframe thead th {\n",
       "        text-align: right;\n",
       "    }\n",
       "</style>\n",
       "<table border=\"1\" class=\"dataframe\">\n",
       "  <thead>\n",
       "    <tr style=\"text-align: right;\">\n",
       "      <th></th>\n",
       "      <th>children</th>\n",
       "      <th>days_employed</th>\n",
       "      <th>dob_years</th>\n",
       "      <th>education</th>\n",
       "      <th>education_id</th>\n",
       "      <th>family_status</th>\n",
       "      <th>family_status_id</th>\n",
       "      <th>gender</th>\n",
       "      <th>income_type</th>\n",
       "      <th>debt</th>\n",
       "      <th>total_income</th>\n",
       "      <th>purpose</th>\n",
       "    </tr>\n",
       "  </thead>\n",
       "  <tbody>\n",
       "  </tbody>\n",
       "</table>\n",
       "</div>"
      ],
      "text/plain": [
       "Empty DataFrame\n",
       "Columns: [children, days_employed, dob_years, education, education_id, family_status, family_status_id, gender, income_type, debt, total_income, purpose]\n",
       "Index: []"
      ]
     },
     "execution_count": 1121,
     "metadata": {},
     "output_type": "execute_result"
    }
   ],
   "source": [
    "# Замена значений нулевого возраста в основном Dataframe на медианный возраст соответствующий типу занятости по столбцу income_type\n",
    "median_age = data.groupby('income_type')['dob_years'].median()\n",
    "data.loc[(data['dob_years'] == 0) & (data['income_type'] == 'сотрудник'), 'dob_years'] = median_age[6]\n",
    "data.loc[(data['dob_years'] == 0) & (data['income_type'] == 'пенсионер'), 'dob_years'] = median_age[4]\n",
    "data.loc[(data['dob_years'] == 0) & (data['income_type'] == 'компаньон'), 'dob_years'] = median_age[3]\n",
    "data.loc[(data['dob_years'] == 0) & (data['income_type'] == 'госслужащий'), 'dob_years'] = median_age[2]\n",
    "data[data['dob_years'] == 0]"
   ]
  },
  {
   "cell_type": "markdown",
   "metadata": {},
   "source": [
    "<br><span style='color:blue'>Нулевые значения возраста заменены на **медианные**, для соответствующего типа занятости **income_type** т.к. % таких значений незначителен и составляет **0.26**</span>"
   ]
  },
  {
   "cell_type": "markdown",
   "metadata": {},
   "source": [
    "#### Замена ошибочного значения пола XNA в столбце gender"
   ]
  },
  {
   "cell_type": "code",
   "execution_count": 1122,
   "metadata": {},
   "outputs": [
    {
     "data": {
      "text/html": [
       "<div>\n",
       "<style scoped>\n",
       "    .dataframe tbody tr th:only-of-type {\n",
       "        vertical-align: middle;\n",
       "    }\n",
       "\n",
       "    .dataframe tbody tr th {\n",
       "        vertical-align: top;\n",
       "    }\n",
       "\n",
       "    .dataframe thead th {\n",
       "        text-align: right;\n",
       "    }\n",
       "</style>\n",
       "<table border=\"1\" class=\"dataframe\">\n",
       "  <thead>\n",
       "    <tr style=\"text-align: right;\">\n",
       "      <th></th>\n",
       "      <th>children</th>\n",
       "      <th>days_employed</th>\n",
       "      <th>dob_years</th>\n",
       "      <th>education</th>\n",
       "      <th>education_id</th>\n",
       "      <th>family_status</th>\n",
       "      <th>family_status_id</th>\n",
       "      <th>gender</th>\n",
       "      <th>income_type</th>\n",
       "      <th>debt</th>\n",
       "      <th>total_income</th>\n",
       "      <th>purpose</th>\n",
       "    </tr>\n",
       "  </thead>\n",
       "  <tbody>\n",
       "    <tr>\n",
       "      <td>10701</td>\n",
       "      <td>0</td>\n",
       "      <td>-2358.60</td>\n",
       "      <td>24.00</td>\n",
       "      <td>неоконченное высшее</td>\n",
       "      <td>2</td>\n",
       "      <td>гражданский брак</td>\n",
       "      <td>1</td>\n",
       "      <td>XNA</td>\n",
       "      <td>компаньон</td>\n",
       "      <td>0</td>\n",
       "      <td>203905.16</td>\n",
       "      <td>покупка недвижимости</td>\n",
       "    </tr>\n",
       "  </tbody>\n",
       "</table>\n",
       "</div>"
      ],
      "text/plain": [
       "       children  days_employed  dob_years            education  education_id  \\\n",
       "10701         0       -2358.60      24.00  неоконченное высшее             2   \n",
       "\n",
       "          family_status  family_status_id gender income_type  debt  \\\n",
       "10701  гражданский брак                 1    XNA   компаньон     0   \n",
       "\n",
       "       total_income               purpose  \n",
       "10701     203905.16  покупка недвижимости  "
      ]
     },
     "execution_count": 1122,
     "metadata": {},
     "output_type": "execute_result"
    }
   ],
   "source": [
    "# Поиск строки с ошибочным значением, оценка количества\n",
    "data[data['gender'] == 'XNA']"
   ]
  },
  {
   "cell_type": "code",
   "execution_count": 1123,
   "metadata": {},
   "outputs": [
    {
     "data": {
      "text/html": [
       "<div>\n",
       "<style scoped>\n",
       "    .dataframe tbody tr th:only-of-type {\n",
       "        vertical-align: middle;\n",
       "    }\n",
       "\n",
       "    .dataframe tbody tr th {\n",
       "        vertical-align: top;\n",
       "    }\n",
       "\n",
       "    .dataframe thead th {\n",
       "        text-align: right;\n",
       "    }\n",
       "</style>\n",
       "<table border=\"1\" class=\"dataframe\">\n",
       "  <thead>\n",
       "    <tr style=\"text-align: right;\">\n",
       "      <th></th>\n",
       "      <th>children</th>\n",
       "      <th>days_employed</th>\n",
       "      <th>dob_years</th>\n",
       "      <th>education</th>\n",
       "      <th>education_id</th>\n",
       "      <th>family_status</th>\n",
       "      <th>family_status_id</th>\n",
       "      <th>gender</th>\n",
       "      <th>income_type</th>\n",
       "      <th>debt</th>\n",
       "      <th>total_income</th>\n",
       "      <th>purpose</th>\n",
       "    </tr>\n",
       "  </thead>\n",
       "  <tbody>\n",
       "  </tbody>\n",
       "</table>\n",
       "</div>"
      ],
      "text/plain": [
       "Empty DataFrame\n",
       "Columns: [children, days_employed, dob_years, education, education_id, family_status, family_status_id, gender, income_type, debt, total_income, purpose]\n",
       "Index: []"
      ]
     },
     "execution_count": 1123,
     "metadata": {},
     "output_type": "execute_result"
    }
   ],
   "source": [
    "# Замена значения XMA\n",
    "data.loc[10701, 'gender'] = data.loc[10701, 'gender'].replace('XNA','F')\n",
    "data[data['gender'] == 'XNA'] # Проверка"
   ]
  },
  {
   "cell_type": "markdown",
   "metadata": {},
   "source": [
    "<br><span style='color:blue'>Ошибочное значение **XMA** в столбце **gender** заменено на **F**, Т.к. ему соответствует **family_status_id = 1**</span>"
   ]
  },
  {
   "cell_type": "markdown",
   "metadata": {},
   "source": [
    "#### Замена пропусков дохода в столбцe total_income"
   ]
  },
  {
   "cell_type": "code",
   "execution_count": 1124,
   "metadata": {
    "scrolled": true
   },
   "outputs": [
    {
     "data": {
      "text/html": [
       "<div>\n",
       "<style scoped>\n",
       "    .dataframe tbody tr th:only-of-type {\n",
       "        vertical-align: middle;\n",
       "    }\n",
       "\n",
       "    .dataframe tbody tr th {\n",
       "        vertical-align: top;\n",
       "    }\n",
       "\n",
       "    .dataframe thead th {\n",
       "        text-align: right;\n",
       "    }\n",
       "</style>\n",
       "<table border=\"1\" class=\"dataframe\">\n",
       "  <thead>\n",
       "    <tr style=\"text-align: right;\">\n",
       "      <th></th>\n",
       "      <th>min_income</th>\n",
       "      <th>max_income</th>\n",
       "      <th>mean_income</th>\n",
       "      <th>median_income</th>\n",
       "    </tr>\n",
       "    <tr>\n",
       "      <th>income_type</th>\n",
       "      <th></th>\n",
       "      <th></th>\n",
       "      <th></th>\n",
       "      <th></th>\n",
       "    </tr>\n",
       "  </thead>\n",
       "  <tbody>\n",
       "    <tr>\n",
       "      <td>безработный</td>\n",
       "      <td>59956.99</td>\n",
       "      <td>202722.51</td>\n",
       "      <td>131339.75</td>\n",
       "      <td>131339.75</td>\n",
       "    </tr>\n",
       "    <tr>\n",
       "      <td>в декрете</td>\n",
       "      <td>53829.13</td>\n",
       "      <td>53829.13</td>\n",
       "      <td>53829.13</td>\n",
       "      <td>53829.13</td>\n",
       "    </tr>\n",
       "    <tr>\n",
       "      <td>госслужащий</td>\n",
       "      <td>29200.08</td>\n",
       "      <td>910451.47</td>\n",
       "      <td>170898.31</td>\n",
       "      <td>150447.94</td>\n",
       "    </tr>\n",
       "    <tr>\n",
       "      <td>компаньон</td>\n",
       "      <td>28702.81</td>\n",
       "      <td>2265604.03</td>\n",
       "      <td>202417.46</td>\n",
       "      <td>172357.95</td>\n",
       "    </tr>\n",
       "    <tr>\n",
       "      <td>пенсионер</td>\n",
       "      <td>20667.26</td>\n",
       "      <td>735103.27</td>\n",
       "      <td>137127.47</td>\n",
       "      <td>118514.49</td>\n",
       "    </tr>\n",
       "    <tr>\n",
       "      <td>предприниматель</td>\n",
       "      <td>499163.14</td>\n",
       "      <td>499163.14</td>\n",
       "      <td>499163.14</td>\n",
       "      <td>499163.14</td>\n",
       "    </tr>\n",
       "    <tr>\n",
       "      <td>сотрудник</td>\n",
       "      <td>21367.65</td>\n",
       "      <td>1726276.01</td>\n",
       "      <td>161380.26</td>\n",
       "      <td>142594.40</td>\n",
       "    </tr>\n",
       "    <tr>\n",
       "      <td>студент</td>\n",
       "      <td>98201.63</td>\n",
       "      <td>98201.63</td>\n",
       "      <td>98201.63</td>\n",
       "      <td>98201.63</td>\n",
       "    </tr>\n",
       "  </tbody>\n",
       "</table>\n",
       "</div>"
      ],
      "text/plain": [
       "                 min_income  max_income  mean_income  median_income\n",
       "income_type                                                        \n",
       "безработный        59956.99   202722.51    131339.75      131339.75\n",
       "в декрете          53829.13    53829.13     53829.13       53829.13\n",
       "госслужащий        29200.08   910451.47    170898.31      150447.94\n",
       "компаньон          28702.81  2265604.03    202417.46      172357.95\n",
       "пенсионер          20667.26   735103.27    137127.47      118514.49\n",
       "предприниматель   499163.14   499163.14    499163.14      499163.14\n",
       "сотрудник          21367.65  1726276.01    161380.26      142594.40\n",
       "студент            98201.63    98201.63     98201.63       98201.63"
      ]
     },
     "execution_count": 1124,
     "metadata": {},
     "output_type": "execute_result"
    }
   ],
   "source": [
    "# Просмотр min/max значений, среднего и медианы дохода по типам занятости incom_type\n",
    "pd.set_option('display.float_format', '{:.2f}'.format)\n",
    "data.groupby(\n",
    "    'income_type').agg(min_income=(\"total_income\", \"min\"), max_income=pd.NamedAgg(column = \"total_income\", aggfunc=\"max\"),\n",
    "mean_income=(\"total_income\", np.mean),median_income=pd.NamedAgg(column = \"total_income\", aggfunc='median'))"
   ]
  },
  {
   "cell_type": "code",
   "execution_count": 1125,
   "metadata": {
    "scrolled": true
   },
   "outputs": [
    {
     "data": {
      "text/html": [
       "<div>\n",
       "<style scoped>\n",
       "    .dataframe tbody tr th:only-of-type {\n",
       "        vertical-align: middle;\n",
       "    }\n",
       "\n",
       "    .dataframe tbody tr th {\n",
       "        vertical-align: top;\n",
       "    }\n",
       "\n",
       "    .dataframe thead th {\n",
       "        text-align: right;\n",
       "    }\n",
       "</style>\n",
       "<table border=\"1\" class=\"dataframe\">\n",
       "  <thead>\n",
       "    <tr style=\"text-align: right;\">\n",
       "      <th></th>\n",
       "      <th>children</th>\n",
       "      <th>days_employed</th>\n",
       "      <th>dob_years</th>\n",
       "      <th>education_id</th>\n",
       "      <th>family_status_id</th>\n",
       "      <th>debt</th>\n",
       "      <th>total_income</th>\n",
       "    </tr>\n",
       "  </thead>\n",
       "  <tbody>\n",
       "    <tr>\n",
       "      <td>count</td>\n",
       "      <td>21525.00</td>\n",
       "      <td>21521.00</td>\n",
       "      <td>21525.00</td>\n",
       "      <td>21525.00</td>\n",
       "      <td>21525.00</td>\n",
       "      <td>21525.00</td>\n",
       "      <td>19351.00</td>\n",
       "    </tr>\n",
       "    <tr>\n",
       "      <td>mean</td>\n",
       "      <td>0.48</td>\n",
       "      <td>63509.94</td>\n",
       "      <td>43.50</td>\n",
       "      <td>0.82</td>\n",
       "      <td>0.97</td>\n",
       "      <td>0.08</td>\n",
       "      <td>167422.30</td>\n",
       "    </tr>\n",
       "    <tr>\n",
       "      <td>std</td>\n",
       "      <td>0.76</td>\n",
       "      <td>141126.94</td>\n",
       "      <td>12.23</td>\n",
       "      <td>0.55</td>\n",
       "      <td>1.42</td>\n",
       "      <td>0.27</td>\n",
       "      <td>102971.57</td>\n",
       "    </tr>\n",
       "    <tr>\n",
       "      <td>min</td>\n",
       "      <td>0.00</td>\n",
       "      <td>-18388.95</td>\n",
       "      <td>19.00</td>\n",
       "      <td>0.00</td>\n",
       "      <td>0.00</td>\n",
       "      <td>0.00</td>\n",
       "      <td>20667.26</td>\n",
       "    </tr>\n",
       "    <tr>\n",
       "      <td>25%</td>\n",
       "      <td>0.00</td>\n",
       "      <td>-2573.91</td>\n",
       "      <td>34.00</td>\n",
       "      <td>1.00</td>\n",
       "      <td>0.00</td>\n",
       "      <td>0.00</td>\n",
       "      <td>103053.15</td>\n",
       "    </tr>\n",
       "    <tr>\n",
       "      <td>50%</td>\n",
       "      <td>0.00</td>\n",
       "      <td>-1283.69</td>\n",
       "      <td>43.00</td>\n",
       "      <td>1.00</td>\n",
       "      <td>0.00</td>\n",
       "      <td>0.00</td>\n",
       "      <td>145017.94</td>\n",
       "    </tr>\n",
       "    <tr>\n",
       "      <td>75%</td>\n",
       "      <td>1.00</td>\n",
       "      <td>-316.24</td>\n",
       "      <td>53.00</td>\n",
       "      <td>1.00</td>\n",
       "      <td>1.00</td>\n",
       "      <td>0.00</td>\n",
       "      <td>203435.07</td>\n",
       "    </tr>\n",
       "    <tr>\n",
       "      <td>max</td>\n",
       "      <td>5.00</td>\n",
       "      <td>401755.40</td>\n",
       "      <td>75.00</td>\n",
       "      <td>4.00</td>\n",
       "      <td>4.00</td>\n",
       "      <td>1.00</td>\n",
       "      <td>2265604.03</td>\n",
       "    </tr>\n",
       "  </tbody>\n",
       "</table>\n",
       "</div>"
      ],
      "text/plain": [
       "       children  days_employed  dob_years  education_id  family_status_id  \\\n",
       "count  21525.00       21521.00   21525.00      21525.00          21525.00   \n",
       "mean       0.48       63509.94      43.50          0.82              0.97   \n",
       "std        0.76      141126.94      12.23          0.55              1.42   \n",
       "min        0.00      -18388.95      19.00          0.00              0.00   \n",
       "25%        0.00       -2573.91      34.00          1.00              0.00   \n",
       "50%        0.00       -1283.69      43.00          1.00              0.00   \n",
       "75%        1.00        -316.24      53.00          1.00              1.00   \n",
       "max        5.00      401755.40      75.00          4.00              4.00   \n",
       "\n",
       "          debt  total_income  \n",
       "count 21525.00      19351.00  \n",
       "mean      0.08     167422.30  \n",
       "std       0.27     102971.57  \n",
       "min       0.00      20667.26  \n",
       "25%       0.00     103053.15  \n",
       "50%       0.00     145017.94  \n",
       "75%       0.00     203435.07  \n",
       "max       1.00    2265604.03  "
      ]
     },
     "execution_count": 1125,
     "metadata": {},
     "output_type": "execute_result"
    }
   ],
   "source": [
    "# оценка среднего и квартилей дохода до заполнения пропусков\n",
    "data.describe()"
   ]
  },
  {
   "cell_type": "code",
   "execution_count": 1126,
   "metadata": {},
   "outputs": [
    {
     "name": "stdout",
     "output_type": "stream",
     "text": [
      "Количество пропусков в total_income: 0\n"
     ]
    }
   ],
   "source": [
    "# Замена пропусков в доходе по медиане соотествующего значения типа занятости и образования\n",
    "med = data.groupby(['income_type','education'])['total_income'].transform('median')\n",
    "data['total_income'].fillna(med,inplace=True)\n",
    "print('Количество пропусков в total_income:',data['total_income'].isnull().sum()) # Проверка"
   ]
  },
  {
   "cell_type": "code",
   "execution_count": 1127,
   "metadata": {
    "scrolled": true
   },
   "outputs": [
    {
     "data": {
      "text/html": [
       "<div>\n",
       "<style scoped>\n",
       "    .dataframe tbody tr th:only-of-type {\n",
       "        vertical-align: middle;\n",
       "    }\n",
       "\n",
       "    .dataframe tbody tr th {\n",
       "        vertical-align: top;\n",
       "    }\n",
       "\n",
       "    .dataframe thead th {\n",
       "        text-align: right;\n",
       "    }\n",
       "</style>\n",
       "<table border=\"1\" class=\"dataframe\">\n",
       "  <thead>\n",
       "    <tr style=\"text-align: right;\">\n",
       "      <th></th>\n",
       "      <th>children</th>\n",
       "      <th>days_employed</th>\n",
       "      <th>dob_years</th>\n",
       "      <th>education_id</th>\n",
       "      <th>family_status_id</th>\n",
       "      <th>debt</th>\n",
       "      <th>total_income</th>\n",
       "    </tr>\n",
       "  </thead>\n",
       "  <tbody>\n",
       "    <tr>\n",
       "      <td>count</td>\n",
       "      <td>21525.00</td>\n",
       "      <td>21521.00</td>\n",
       "      <td>21525.00</td>\n",
       "      <td>21525.00</td>\n",
       "      <td>21525.00</td>\n",
       "      <td>21525.00</td>\n",
       "      <td>21525.00</td>\n",
       "    </tr>\n",
       "    <tr>\n",
       "      <td>mean</td>\n",
       "      <td>0.48</td>\n",
       "      <td>63509.94</td>\n",
       "      <td>43.50</td>\n",
       "      <td>0.82</td>\n",
       "      <td>0.97</td>\n",
       "      <td>0.08</td>\n",
       "      <td>165375.89</td>\n",
       "    </tr>\n",
       "    <tr>\n",
       "      <td>std</td>\n",
       "      <td>0.76</td>\n",
       "      <td>141126.94</td>\n",
       "      <td>12.23</td>\n",
       "      <td>0.55</td>\n",
       "      <td>1.42</td>\n",
       "      <td>0.27</td>\n",
       "      <td>98164.25</td>\n",
       "    </tr>\n",
       "    <tr>\n",
       "      <td>min</td>\n",
       "      <td>0.00</td>\n",
       "      <td>-18388.95</td>\n",
       "      <td>19.00</td>\n",
       "      <td>0.00</td>\n",
       "      <td>0.00</td>\n",
       "      <td>0.00</td>\n",
       "      <td>20667.26</td>\n",
       "    </tr>\n",
       "    <tr>\n",
       "      <td>25%</td>\n",
       "      <td>0.00</td>\n",
       "      <td>-2573.91</td>\n",
       "      <td>34.00</td>\n",
       "      <td>1.00</td>\n",
       "      <td>0.00</td>\n",
       "      <td>0.00</td>\n",
       "      <td>107714.24</td>\n",
       "    </tr>\n",
       "    <tr>\n",
       "      <td>50%</td>\n",
       "      <td>0.00</td>\n",
       "      <td>-1283.69</td>\n",
       "      <td>43.00</td>\n",
       "      <td>1.00</td>\n",
       "      <td>0.00</td>\n",
       "      <td>0.00</td>\n",
       "      <td>143111.63</td>\n",
       "    </tr>\n",
       "    <tr>\n",
       "      <td>75%</td>\n",
       "      <td>1.00</td>\n",
       "      <td>-316.24</td>\n",
       "      <td>53.00</td>\n",
       "      <td>1.00</td>\n",
       "      <td>1.00</td>\n",
       "      <td>0.00</td>\n",
       "      <td>198105.57</td>\n",
       "    </tr>\n",
       "    <tr>\n",
       "      <td>max</td>\n",
       "      <td>5.00</td>\n",
       "      <td>401755.40</td>\n",
       "      <td>75.00</td>\n",
       "      <td>4.00</td>\n",
       "      <td>4.00</td>\n",
       "      <td>1.00</td>\n",
       "      <td>2265604.03</td>\n",
       "    </tr>\n",
       "  </tbody>\n",
       "</table>\n",
       "</div>"
      ],
      "text/plain": [
       "       children  days_employed  dob_years  education_id  family_status_id  \\\n",
       "count  21525.00       21521.00   21525.00      21525.00          21525.00   \n",
       "mean       0.48       63509.94      43.50          0.82              0.97   \n",
       "std        0.76      141126.94      12.23          0.55              1.42   \n",
       "min        0.00      -18388.95      19.00          0.00              0.00   \n",
       "25%        0.00       -2573.91      34.00          1.00              0.00   \n",
       "50%        0.00       -1283.69      43.00          1.00              0.00   \n",
       "75%        1.00        -316.24      53.00          1.00              1.00   \n",
       "max        5.00      401755.40      75.00          4.00              4.00   \n",
       "\n",
       "          debt  total_income  \n",
       "count 21525.00      21525.00  \n",
       "mean      0.08     165375.89  \n",
       "std       0.27      98164.25  \n",
       "min       0.00      20667.26  \n",
       "25%       0.00     107714.24  \n",
       "50%       0.00     143111.63  \n",
       "75%       0.00     198105.57  \n",
       "max       1.00    2265604.03  "
      ]
     },
     "execution_count": 1127,
     "metadata": {},
     "output_type": "execute_result"
    }
   ],
   "source": [
    "# Оценка изменений в средней и квартилях дохода после заполнения пропусков\n",
    "data.describe()"
   ]
  },
  {
   "cell_type": "markdown",
   "metadata": {},
   "source": [
    "<br><span style='color:blue'>Для **замены пропусков** дохода в **total_income** выбраны **медианные значения** соответствующего типа занятости **income_type** т.к. в столбце income_type все значения даны в полном объеме и логически связаны с уровнем дохода</span>"
   ]
  },
  {
   "cell_type": "markdown",
   "metadata": {},
   "source": [
    "<div class=\"alert alert-warning\" style= \"background-color: #d3e5f0\" style=\"border-radius: 15px\"><span style='color:blue'>Выполнена новая группировка для заполнения пропусков дохода: по типу дохода и образованию.  \n",
    "</span></div>"
   ]
  },
  {
   "cell_type": "code",
   "execution_count": 1128,
   "metadata": {},
   "outputs": [
    {
     "data": {
      "text/html": [
       "<div>\n",
       "<style scoped>\n",
       "    .dataframe tbody tr th:only-of-type {\n",
       "        vertical-align: middle;\n",
       "    }\n",
       "\n",
       "    .dataframe tbody tr th {\n",
       "        vertical-align: top;\n",
       "    }\n",
       "\n",
       "    .dataframe thead th {\n",
       "        text-align: right;\n",
       "    }\n",
       "</style>\n",
       "<table border=\"1\" class=\"dataframe\">\n",
       "  <thead>\n",
       "    <tr style=\"text-align: right;\">\n",
       "      <th></th>\n",
       "      <th>children</th>\n",
       "      <th>days_employed</th>\n",
       "      <th>dob_years</th>\n",
       "      <th>education_id</th>\n",
       "      <th>family_status_id</th>\n",
       "      <th>debt</th>\n",
       "      <th>total_income</th>\n",
       "    </tr>\n",
       "  </thead>\n",
       "  <tbody>\n",
       "    <tr>\n",
       "      <td>count</td>\n",
       "      <td>21525.00</td>\n",
       "      <td>21521.00</td>\n",
       "      <td>21525.00</td>\n",
       "      <td>21525.00</td>\n",
       "      <td>21525.00</td>\n",
       "      <td>21525.00</td>\n",
       "      <td>21525.00</td>\n",
       "    </tr>\n",
       "    <tr>\n",
       "      <td>mean</td>\n",
       "      <td>0.48</td>\n",
       "      <td>63509.94</td>\n",
       "      <td>43.50</td>\n",
       "      <td>0.82</td>\n",
       "      <td>0.97</td>\n",
       "      <td>0.08</td>\n",
       "      <td>165375.89</td>\n",
       "    </tr>\n",
       "    <tr>\n",
       "      <td>std</td>\n",
       "      <td>0.76</td>\n",
       "      <td>141126.94</td>\n",
       "      <td>12.23</td>\n",
       "      <td>0.55</td>\n",
       "      <td>1.42</td>\n",
       "      <td>0.27</td>\n",
       "      <td>98164.25</td>\n",
       "    </tr>\n",
       "    <tr>\n",
       "      <td>min</td>\n",
       "      <td>0.00</td>\n",
       "      <td>-18388.95</td>\n",
       "      <td>19.00</td>\n",
       "      <td>0.00</td>\n",
       "      <td>0.00</td>\n",
       "      <td>0.00</td>\n",
       "      <td>20667.26</td>\n",
       "    </tr>\n",
       "    <tr>\n",
       "      <td>25%</td>\n",
       "      <td>0.00</td>\n",
       "      <td>-2573.91</td>\n",
       "      <td>34.00</td>\n",
       "      <td>1.00</td>\n",
       "      <td>0.00</td>\n",
       "      <td>0.00</td>\n",
       "      <td>107714.24</td>\n",
       "    </tr>\n",
       "    <tr>\n",
       "      <td>50%</td>\n",
       "      <td>0.00</td>\n",
       "      <td>-1283.69</td>\n",
       "      <td>43.00</td>\n",
       "      <td>1.00</td>\n",
       "      <td>0.00</td>\n",
       "      <td>0.00</td>\n",
       "      <td>143111.63</td>\n",
       "    </tr>\n",
       "    <tr>\n",
       "      <td>75%</td>\n",
       "      <td>1.00</td>\n",
       "      <td>-316.24</td>\n",
       "      <td>53.00</td>\n",
       "      <td>1.00</td>\n",
       "      <td>1.00</td>\n",
       "      <td>0.00</td>\n",
       "      <td>198105.57</td>\n",
       "    </tr>\n",
       "    <tr>\n",
       "      <td>max</td>\n",
       "      <td>5.00</td>\n",
       "      <td>401755.40</td>\n",
       "      <td>75.00</td>\n",
       "      <td>4.00</td>\n",
       "      <td>4.00</td>\n",
       "      <td>1.00</td>\n",
       "      <td>2265604.03</td>\n",
       "    </tr>\n",
       "  </tbody>\n",
       "</table>\n",
       "</div>"
      ],
      "text/plain": [
       "       children  days_employed  dob_years  education_id  family_status_id  \\\n",
       "count  21525.00       21521.00   21525.00      21525.00          21525.00   \n",
       "mean       0.48       63509.94      43.50          0.82              0.97   \n",
       "std        0.76      141126.94      12.23          0.55              1.42   \n",
       "min        0.00      -18388.95      19.00          0.00              0.00   \n",
       "25%        0.00       -2573.91      34.00          1.00              0.00   \n",
       "50%        0.00       -1283.69      43.00          1.00              0.00   \n",
       "75%        1.00        -316.24      53.00          1.00              1.00   \n",
       "max        5.00      401755.40      75.00          4.00              4.00   \n",
       "\n",
       "          debt  total_income  \n",
       "count 21525.00      21525.00  \n",
       "mean      0.08     165375.89  \n",
       "std       0.27      98164.25  \n",
       "min       0.00      20667.26  \n",
       "25%       0.00     107714.24  \n",
       "50%       0.00     143111.63  \n",
       "75%       0.00     198105.57  \n",
       "max       1.00    2265604.03  "
      ]
     },
     "execution_count": 1128,
     "metadata": {},
     "output_type": "execute_result"
    }
   ],
   "source": [
    "# Проверка результатов замен пропусков и нулевых значений\n",
    "data.describe()"
   ]
  },
  {
   "cell_type": "markdown",
   "metadata": {},
   "source": [
    "**Вывод**"
   ]
  },
  {
   "cell_type": "markdown",
   "metadata": {},
   "source": [
    "<br>Пропуски в столбцах <span style='color:darkblue'>**days_employed**</span> и <span style='color:darkblue'>**total_income**</span> совпадают - в строках где пропущен стаж, также пропущено значение дохода заемщика. Скорее всего часть заемщиков не может подтвердить официально стаж и соответственно доход, т.е. имеют неофицальные источники дохода. В столбце стажа также имеются <span style='color:darkblue'>**аномально высокие (все - плюсовые)**</span> данные о стаже в годах, например <span style='color:darkblue'>**1100 лет**</span>. Такие данные оставлены без изменений, необходима дополнительная информация от поставщика данных о причинах или логике их появления.\n",
    "\n",
    "<br><span style='color:darkblue'>**Плюсовые**</span> аномально высокие данные по стажу <span style='color:darkblue'>**только у пенсионеров и безработных**.</span>. Необходим запрос поставщику данных о причинах аномально высоких плюсовых значениях у этих двух групп и минусовых но логичных значений у всех остальных. Пропуски в столбце данных стажа, составляют <span style='color:darkblue'>**10%**</span>, заменены на <span style='color:darkblue'>**медианные**</span> значения группировки типа дохода и возраста, по логике наличия взаимосвязи.\n",
    "\n",
    "<br>Пропуски дохода в столбце <span style='color:darkblue'>**total_income**</span> - <span style='color:darkblue'>**10%**</span>, заполнены по <span style='color:darkblue'>**медианному**</span> значению соответвстующего <span style='color:darkblue'>группировке **типа занятости и образования**</span> столбца <span style='color:darkblue'>**uncome_type**</span>, т.к. в столбце с тиапми дохода присутствует данные по каждой строк без пропусков и логически взаимосвязаны с доходом.</span>\n",
    "\n",
    "<br><span style='color:darkblue'>**Минусовые**</span> значения количества детей в столбце <span style='color:darkblue'>**children**</span> приведены <span style='color:darkblue'>**к плюсовым**</span>, т.к. минусовое значение в этом столбце явно ошибочное. Данные (76 строк, 0.35%) с количеством детей - 20, приведены к значению 2, т.к. 20 детей -аномально высокое значение в выборке, явнвя ошибка заполнения данных.</span>\n",
    "\n",
    "<br><span style='color:darkblue'>**Нулевые**</span> значения в столбце возраста <span style='color:darkblue'>**dob_years**</span> заполнены на <span style='color:darkblue'>**медианный возраст**</span> по соответсвующему <span style='color:darkblue'>**типу доходов**</span> в столбце <span style='color:darkblue'>**income_type**</span>, т.к. столбец типа дохода не имеет пропусков и логически взаимосвязан с возрастом клиента. Замененные значения стажа составили <span style='color:darkblue'>**0.26%**</span>, такая замена не приведет к искажению данных.\n",
    "\n",
    "<br><span style='color:darkblue'>**Третье значение пола**</span> в столбце <span style='color:darkblue'>**gender**</span>, в одной строк со значением <span style='color:darkblue'>**XMA**</span> заменено на значение <span style='color:darkblue'>**F**</span> как <span style='color:darkblue'>**наиболее частотное**</span>."
   ]
  },
  {
   "cell_type": "markdown",
   "metadata": {},
   "source": [
    "### Замена типа данных"
   ]
  },
  {
   "cell_type": "code",
   "execution_count": 1129,
   "metadata": {},
   "outputs": [
    {
     "data": {
      "text/plain": [
       "children              int64\n",
       "days_employed       float64\n",
       "dob_years           float64\n",
       "education            object\n",
       "education_id          int64\n",
       "family_status        object\n",
       "family_status_id      int64\n",
       "gender               object\n",
       "income_type          object\n",
       "debt                  int64\n",
       "total_income        float64\n",
       "purpose              object\n",
       "dtype: object"
      ]
     },
     "execution_count": 1129,
     "metadata": {},
     "output_type": "execute_result"
    }
   ],
   "source": [
    "# Проверка текущего типа данных\n",
    "data.dtypes"
   ]
  },
  {
   "cell_type": "code",
   "execution_count": 1130,
   "metadata": {},
   "outputs": [],
   "source": [
    "# Замена типа float на int в данных столбца возраста\n",
    "data['dob_years'] = data['dob_years'].astype('int64')"
   ]
  },
  {
   "cell_type": "code",
   "execution_count": 1131,
   "metadata": {},
   "outputs": [
    {
     "data": {
      "text/plain": [
       "children              int64\n",
       "days_employed       float64\n",
       "dob_years             int64\n",
       "education            object\n",
       "education_id          int64\n",
       "family_status        object\n",
       "family_status_id      int64\n",
       "gender               object\n",
       "income_type          object\n",
       "debt                  int64\n",
       "total_income        float64\n",
       "purpose              object\n",
       "dtype: object"
      ]
     },
     "execution_count": 1131,
     "metadata": {},
     "output_type": "execute_result"
    }
   ],
   "source": [
    "# Проверка текущего типа данных\n",
    "data.dtypes"
   ]
  },
  {
   "cell_type": "markdown",
   "metadata": {},
   "source": [
    "**Вывод**"
   ]
  },
  {
   "cell_type": "markdown",
   "metadata": {},
   "source": [
    "Был изменен <span style='color:darkblue'>**тип данных**</span> в столбце возраста <span style='color:darkblue'>**dob_years**</span>, который уже <span style='color:darkblue'>**подвергался обработке**</span> при заполнении нулевых значений, с <span style='color:darkblue'>**дробного на целочисленный**</span> методом <span style='color:darkblue'>**astype()**</span>"
   ]
  },
  {
   "cell_type": "markdown",
   "metadata": {},
   "source": [
    "### Обработка дубликатов"
   ]
  },
  {
   "cell_type": "code",
   "execution_count": 1132,
   "metadata": {
    "scrolled": false
   },
   "outputs": [
    {
     "name": "stdout",
     "output_type": "stream",
     "text": [
      "['высшее' 'среднее' 'Среднее' 'СРЕДНЕЕ' 'ВЫСШЕЕ' 'неоконченное высшее'\n",
      " 'начальное' 'Высшее' 'НЕОКОНЧЕННОЕ ВЫСШЕЕ' 'Неоконченное высшее'\n",
      " 'НАЧАЛЬНОЕ' 'Начальное' 'Ученая степень' 'УЧЕНАЯ СТЕПЕНЬ'\n",
      " 'ученая степень']\n",
      "['женат / замужем' 'гражданский брак' 'вдовец / вдова' 'в разводе'\n",
      " 'Не женат / не замужем']\n",
      "['сотрудник' 'пенсионер' 'компаньон' 'госслужащий' 'безработный'\n",
      " 'предприниматель' 'студент' 'в декрете']\n",
      "['покупка жилья' 'приобретение автомобиля' 'дополнительное образование'\n",
      " 'сыграть свадьбу' 'операции с жильем' 'образование'\n",
      " 'на проведение свадьбы' 'покупка жилья для семьи' 'покупка недвижимости'\n",
      " 'покупка коммерческой недвижимости' 'покупка жилой недвижимости'\n",
      " 'строительство собственной недвижимости' 'недвижимость'\n",
      " 'строительство недвижимости' 'на покупку подержанного автомобиля'\n",
      " 'на покупку своего автомобиля' 'операции с коммерческой недвижимостью'\n",
      " 'строительство жилой недвижимости' 'жилье'\n",
      " 'операции со своей недвижимостью' 'автомобили' 'заняться образованием'\n",
      " 'сделка с подержанным автомобилем' 'получение образования' 'автомобиль'\n",
      " 'свадьба' 'получение дополнительного образования' 'покупка своего жилья'\n",
      " 'операции с недвижимостью' 'получение высшего образования'\n",
      " 'свой автомобиль' 'сделка с автомобилем' 'профильное образование'\n",
      " 'высшее образование' 'покупка жилья для сдачи' 'на покупку автомобиля'\n",
      " 'ремонт жилью' 'заняться высшим образованием']\n"
     ]
    }
   ],
   "source": [
    "# Просмотр категориальных признаков, определение наличия повторов\n",
    "print(data['education'].unique())\n",
    "print(data['family_status'].unique())\n",
    "print(data['income_type'].unique())\n",
    "print(data['purpose'].unique())"
   ]
  },
  {
   "cell_type": "markdown",
   "metadata": {},
   "source": [
    "<br><span style='color:blue'>В столбце **education** - разный регистр одинаковых значений</span>\n",
    "<br><span style='color:blue'>В столбце **family_status** - дубликатов значений нет</span>\n",
    "<br><span style='color:blue'>В столбце **income_type** - дублткатов значений нет</span>\n",
    "<br><span style='color:blue'>В столбце **purpose** - есть дубликаты по смыслу, столбец будет леммизирован</span>"
   ]
  },
  {
   "cell_type": "code",
   "execution_count": 1133,
   "metadata": {},
   "outputs": [
    {
     "data": {
      "text/plain": [
       "21525"
      ]
     },
     "execution_count": 1133,
     "metadata": {},
     "output_type": "execute_result"
    }
   ],
   "source": [
    "# Приведение столбца education к нижнему регистру\n",
    "data['education'] = data['education'].str.lower()\n",
    "data['education'].value_counts().sum()"
   ]
  },
  {
   "cell_type": "code",
   "execution_count": 1134,
   "metadata": {},
   "outputs": [
    {
     "name": "stdout",
     "output_type": "stream",
     "text": [
      "колличество дублированных строк: 54\n",
      "Доля дубликатов в общем Dataframe: 0.25%\n"
     ]
    }
   ],
   "source": [
    "# Вывод количества и доли дубликатов\n",
    "print('колличество дублированных строк:', data.duplicated().sum())\n",
    "print('Доля дубликатов в общем Dataframe: {:.2%}'.format(data.duplicated().sum() / len(data)))"
   ]
  },
  {
   "cell_type": "code",
   "execution_count": 1135,
   "metadata": {},
   "outputs": [
    {
     "data": {
      "text/html": [
       "<div>\n",
       "<style scoped>\n",
       "    .dataframe tbody tr th:only-of-type {\n",
       "        vertical-align: middle;\n",
       "    }\n",
       "\n",
       "    .dataframe tbody tr th {\n",
       "        vertical-align: top;\n",
       "    }\n",
       "\n",
       "    .dataframe thead th {\n",
       "        text-align: right;\n",
       "    }\n",
       "</style>\n",
       "<table border=\"1\" class=\"dataframe\">\n",
       "  <thead>\n",
       "    <tr style=\"text-align: right;\">\n",
       "      <th></th>\n",
       "      <th>children</th>\n",
       "      <th>days_employed</th>\n",
       "      <th>dob_years</th>\n",
       "      <th>education</th>\n",
       "      <th>education_id</th>\n",
       "      <th>family_status</th>\n",
       "      <th>family_status_id</th>\n",
       "      <th>gender</th>\n",
       "      <th>income_type</th>\n",
       "      <th>debt</th>\n",
       "      <th>total_income</th>\n",
       "      <th>purpose</th>\n",
       "    </tr>\n",
       "  </thead>\n",
       "  <tbody>\n",
       "    <tr>\n",
       "      <td>19321</td>\n",
       "      <td>0</td>\n",
       "      <td>-740.20</td>\n",
       "      <td>23</td>\n",
       "      <td>среднее</td>\n",
       "      <td>1</td>\n",
       "      <td>Не женат / не замужем</td>\n",
       "      <td>4</td>\n",
       "      <td>F</td>\n",
       "      <td>сотрудник</td>\n",
       "      <td>0</td>\n",
       "      <td>136818.12</td>\n",
       "      <td>сделка с подержанным автомобилем</td>\n",
       "    </tr>\n",
       "    <tr>\n",
       "      <td>15892</td>\n",
       "      <td>0</td>\n",
       "      <td>-740.20</td>\n",
       "      <td>23</td>\n",
       "      <td>среднее</td>\n",
       "      <td>1</td>\n",
       "      <td>Не женат / не замужем</td>\n",
       "      <td>4</td>\n",
       "      <td>F</td>\n",
       "      <td>сотрудник</td>\n",
       "      <td>0</td>\n",
       "      <td>136818.12</td>\n",
       "      <td>сделка с подержанным автомобилем</td>\n",
       "    </tr>\n",
       "    <tr>\n",
       "      <td>18328</td>\n",
       "      <td>0</td>\n",
       "      <td>-1272.24</td>\n",
       "      <td>29</td>\n",
       "      <td>высшее</td>\n",
       "      <td>0</td>\n",
       "      <td>женат / замужем</td>\n",
       "      <td>0</td>\n",
       "      <td>M</td>\n",
       "      <td>сотрудник</td>\n",
       "      <td>0</td>\n",
       "      <td>166164.08</td>\n",
       "      <td>покупка жилой недвижимости</td>\n",
       "    </tr>\n",
       "    <tr>\n",
       "      <td>3452</td>\n",
       "      <td>0</td>\n",
       "      <td>-1272.24</td>\n",
       "      <td>29</td>\n",
       "      <td>высшее</td>\n",
       "      <td>0</td>\n",
       "      <td>женат / замужем</td>\n",
       "      <td>0</td>\n",
       "      <td>M</td>\n",
       "      <td>сотрудник</td>\n",
       "      <td>0</td>\n",
       "      <td>166164.08</td>\n",
       "      <td>покупка жилой недвижимости</td>\n",
       "    </tr>\n",
       "    <tr>\n",
       "      <td>8629</td>\n",
       "      <td>1</td>\n",
       "      <td>-1361.78</td>\n",
       "      <td>30</td>\n",
       "      <td>высшее</td>\n",
       "      <td>0</td>\n",
       "      <td>женат / замужем</td>\n",
       "      <td>0</td>\n",
       "      <td>F</td>\n",
       "      <td>сотрудник</td>\n",
       "      <td>0</td>\n",
       "      <td>166164.08</td>\n",
       "      <td>покупка коммерческой недвижимости</td>\n",
       "    </tr>\n",
       "    <tr>\n",
       "      <td>...</td>\n",
       "      <td>...</td>\n",
       "      <td>...</td>\n",
       "      <td>...</td>\n",
       "      <td>...</td>\n",
       "      <td>...</td>\n",
       "      <td>...</td>\n",
       "      <td>...</td>\n",
       "      <td>...</td>\n",
       "      <td>...</td>\n",
       "      <td>...</td>\n",
       "      <td>...</td>\n",
       "      <td>...</td>\n",
       "    </tr>\n",
       "    <tr>\n",
       "      <td>13639</td>\n",
       "      <td>0</td>\n",
       "      <td>366617.00</td>\n",
       "      <td>64</td>\n",
       "      <td>среднее</td>\n",
       "      <td>1</td>\n",
       "      <td>женат / замужем</td>\n",
       "      <td>0</td>\n",
       "      <td>F</td>\n",
       "      <td>пенсионер</td>\n",
       "      <td>0</td>\n",
       "      <td>114483.37</td>\n",
       "      <td>автомобиль</td>\n",
       "    </tr>\n",
       "    <tr>\n",
       "      <td>3609</td>\n",
       "      <td>0</td>\n",
       "      <td>366617.00</td>\n",
       "      <td>64</td>\n",
       "      <td>среднее</td>\n",
       "      <td>1</td>\n",
       "      <td>женат / замужем</td>\n",
       "      <td>0</td>\n",
       "      <td>F</td>\n",
       "      <td>пенсионер</td>\n",
       "      <td>0</td>\n",
       "      <td>114483.37</td>\n",
       "      <td>жилье</td>\n",
       "    </tr>\n",
       "    <tr>\n",
       "      <td>12389</td>\n",
       "      <td>0</td>\n",
       "      <td>366617.00</td>\n",
       "      <td>64</td>\n",
       "      <td>среднее</td>\n",
       "      <td>1</td>\n",
       "      <td>женат / замужем</td>\n",
       "      <td>0</td>\n",
       "      <td>F</td>\n",
       "      <td>пенсионер</td>\n",
       "      <td>0</td>\n",
       "      <td>114483.37</td>\n",
       "      <td>дополнительное образование</td>\n",
       "    </tr>\n",
       "    <tr>\n",
       "      <td>5865</td>\n",
       "      <td>0</td>\n",
       "      <td>371258.56</td>\n",
       "      <td>66</td>\n",
       "      <td>среднее</td>\n",
       "      <td>1</td>\n",
       "      <td>вдовец / вдова</td>\n",
       "      <td>2</td>\n",
       "      <td>F</td>\n",
       "      <td>пенсионер</td>\n",
       "      <td>0</td>\n",
       "      <td>114483.37</td>\n",
       "      <td>операции со своей недвижимостью</td>\n",
       "    </tr>\n",
       "    <tr>\n",
       "      <td>9528</td>\n",
       "      <td>0</td>\n",
       "      <td>371258.56</td>\n",
       "      <td>66</td>\n",
       "      <td>среднее</td>\n",
       "      <td>1</td>\n",
       "      <td>вдовец / вдова</td>\n",
       "      <td>2</td>\n",
       "      <td>F</td>\n",
       "      <td>пенсионер</td>\n",
       "      <td>0</td>\n",
       "      <td>114483.37</td>\n",
       "      <td>операции со своей недвижимостью</td>\n",
       "    </tr>\n",
       "  </tbody>\n",
       "</table>\n",
       "<p>106 rows × 12 columns</p>\n",
       "</div>"
      ],
      "text/plain": [
       "       children  days_employed  dob_years education  education_id  \\\n",
       "19321         0        -740.20         23   среднее             1   \n",
       "15892         0        -740.20         23   среднее             1   \n",
       "18328         0       -1272.24         29    высшее             0   \n",
       "3452          0       -1272.24         29    высшее             0   \n",
       "8629          1       -1361.78         30    высшее             0   \n",
       "...         ...            ...        ...       ...           ...   \n",
       "13639         0      366617.00         64   среднее             1   \n",
       "3609          0      366617.00         64   среднее             1   \n",
       "12389         0      366617.00         64   среднее             1   \n",
       "5865          0      371258.56         66   среднее             1   \n",
       "9528          0      371258.56         66   среднее             1   \n",
       "\n",
       "               family_status  family_status_id gender income_type  debt  \\\n",
       "19321  Не женат / не замужем                 4      F   сотрудник     0   \n",
       "15892  Не женат / не замужем                 4      F   сотрудник     0   \n",
       "18328        женат / замужем                 0      M   сотрудник     0   \n",
       "3452         женат / замужем                 0      M   сотрудник     0   \n",
       "8629         женат / замужем                 0      F   сотрудник     0   \n",
       "...                      ...               ...    ...         ...   ...   \n",
       "13639        женат / замужем                 0      F   пенсионер     0   \n",
       "3609         женат / замужем                 0      F   пенсионер     0   \n",
       "12389        женат / замужем                 0      F   пенсионер     0   \n",
       "5865          вдовец / вдова                 2      F   пенсионер     0   \n",
       "9528          вдовец / вдова                 2      F   пенсионер     0   \n",
       "\n",
       "       total_income                            purpose  \n",
       "19321     136818.12   сделка с подержанным автомобилем  \n",
       "15892     136818.12   сделка с подержанным автомобилем  \n",
       "18328     166164.08         покупка жилой недвижимости  \n",
       "3452      166164.08         покупка жилой недвижимости  \n",
       "8629      166164.08  покупка коммерческой недвижимости  \n",
       "...             ...                                ...  \n",
       "13639     114483.37                         автомобиль  \n",
       "3609      114483.37                              жилье  \n",
       "12389     114483.37         дополнительное образование  \n",
       "5865      114483.37    операции со своей недвижимостью  \n",
       "9528      114483.37    операции со своей недвижимостью  \n",
       "\n",
       "[106 rows x 12 columns]"
      ]
     },
     "execution_count": 1135,
     "metadata": {},
     "output_type": "execute_result"
    }
   ],
   "source": [
    "# Визуальная оценка дубликатов\n",
    "data[data.duplicated(keep=False)].sort_values(by=['dob_years'])"
   ]
  },
  {
   "cell_type": "code",
   "execution_count": 1136,
   "metadata": {},
   "outputs": [
    {
     "name": "stdout",
     "output_type": "stream",
     "text": [
      "Число дубликатов в массиве данных: 0\n"
     ]
    }
   ],
   "source": [
    "# Удаление дубликатов\n",
    "data = data.drop_duplicates().reset_index(drop = True)\n",
    "print('Число дубликатов в массиве данных:', data.duplicated().sum()) # Проверка"
   ]
  },
  {
   "cell_type": "markdown",
   "metadata": {},
   "source": [
    "**Вывод**"
   ]
  },
  {
   "cell_type": "markdown",
   "metadata": {},
   "source": [
    "<br><span style='color:blue'> **54** полных дубликатов удалено, что составило **0.25%** от длинны Dataframe. Рекомендация поставщику данных - ввести в их порядок формирования уникальный id каждому заемщику.</span>"
   ]
  },
  {
   "cell_type": "markdown",
   "metadata": {},
   "source": [
    "### Лемматизация"
   ]
  },
  {
   "cell_type": "code",
   "execution_count": 1137,
   "metadata": {},
   "outputs": [],
   "source": [
    "# Импрорт библиотек pymystem3 и collections\n",
    "from pymystem3 import Mystem\n",
    "from collections import Counter\n",
    "m = Mystem()"
   ]
  },
  {
   "cell_type": "code",
   "execution_count": 1138,
   "metadata": {
    "scrolled": false
   },
   "outputs": [
    {
     "data": {
      "text/plain": [
       "свадьба                                   793\n",
       "на проведение свадьбы                     773\n",
       "сыграть свадьбу                           769\n",
       "операции с недвижимостью                  675\n",
       "покупка коммерческой недвижимости         662\n",
       "покупка жилья для сдачи                   652\n",
       "операции с жильем                         652\n",
       "операции с коммерческой недвижимостью     650\n",
       "жилье                                     646\n",
       "покупка жилья                             646\n",
       "покупка жилья для семьи                   638\n",
       "строительство собственной недвижимости    635\n",
       "недвижимость                              633\n",
       "операции со своей недвижимостью           627\n",
       "строительство жилой недвижимости          625\n",
       "покупка недвижимости                      621\n",
       "покупка своего жилья                      620\n",
       "строительство недвижимости                619\n",
       "ремонт жилью                              607\n",
       "покупка жилой недвижимости                606\n",
       "на покупку своего автомобиля              505\n",
       "заняться высшим образованием              496\n",
       "автомобиль                                494\n",
       "сделка с подержанным автомобилем          486\n",
       "свой автомобиль                           479\n",
       "автомобили                                478\n",
       "на покупку подержанного автомобиля        478\n",
       "на покупку автомобиля                     472\n",
       "приобретение автомобиля                   461\n",
       "дополнительное образование                460\n",
       "сделка с автомобилем                      455\n",
       "высшее образование                        452\n",
       "образование                               447\n",
       "получение дополнительного образования     447\n",
       "получение образования                     442\n",
       "профильное образование                    436\n",
       "получение высшего образования             426\n",
       "заняться образованием                     408\n",
       "Name: purpose, dtype: int64"
      ]
     },
     "execution_count": 1138,
     "metadata": {},
     "output_type": "execute_result"
    }
   ],
   "source": [
    "# Подсчет количества каждой цели кредита\n",
    "data['purpose'].value_counts()"
   ]
  },
  {
   "cell_type": "markdown",
   "metadata": {},
   "source": [
    "<br><span style='color:blue'> После оценки списка выделено **шесть основных целей** получения кредита по словам ключевым словам для создания списка категорий на основании которго после выделения лемм будут категоризированы цели</span>"
   ]
  },
  {
   "cell_type": "code",
   "execution_count": 1139,
   "metadata": {},
   "outputs": [],
   "source": [
    "# Создание списка ключевых слов \n",
    "purpose_categories = ['сдача', 'коммерческий', 'жилье','образование', 'свадьба', 'недвижимость', 'автомобиль']"
   ]
  },
  {
   "cell_type": "markdown",
   "metadata": {},
   "source": [
    "<div class=\"alert alert-warning\" style= \"background-color: #d3e5f0\" style=\"border-radius: 15px\"><span style='color:blue'>Ниже цели перегруппированы в обновленный столбец purposes_cat: в недвижимость, свадьба, автомобиль и образование. В цель недвижимость вошли \"сдача\", \"жилье\", \"коммерческий\" как близкие по смыслу. \n",
    "</span></div>"
   ]
  },
  {
   "cell_type": "code",
   "execution_count": 1140,
   "metadata": {},
   "outputs": [
    {
     "data": {
      "text/html": [
       "<div>\n",
       "<style scoped>\n",
       "    .dataframe tbody tr th:only-of-type {\n",
       "        vertical-align: middle;\n",
       "    }\n",
       "\n",
       "    .dataframe tbody tr th {\n",
       "        vertical-align: top;\n",
       "    }\n",
       "\n",
       "    .dataframe thead th {\n",
       "        text-align: right;\n",
       "    }\n",
       "</style>\n",
       "<table border=\"1\" class=\"dataframe\">\n",
       "  <thead>\n",
       "    <tr style=\"text-align: right;\">\n",
       "      <th></th>\n",
       "      <th>children</th>\n",
       "      <th>days_employed</th>\n",
       "      <th>dob_years</th>\n",
       "      <th>education</th>\n",
       "      <th>education_id</th>\n",
       "      <th>family_status</th>\n",
       "      <th>family_status_id</th>\n",
       "      <th>gender</th>\n",
       "      <th>income_type</th>\n",
       "      <th>debt</th>\n",
       "      <th>total_income</th>\n",
       "      <th>purpose</th>\n",
       "      <th>purpose_groups</th>\n",
       "    </tr>\n",
       "  </thead>\n",
       "  <tbody>\n",
       "    <tr>\n",
       "      <td>0</td>\n",
       "      <td>1</td>\n",
       "      <td>-8437.67</td>\n",
       "      <td>42</td>\n",
       "      <td>высшее</td>\n",
       "      <td>0</td>\n",
       "      <td>женат / замужем</td>\n",
       "      <td>0</td>\n",
       "      <td>F</td>\n",
       "      <td>сотрудник</td>\n",
       "      <td>0</td>\n",
       "      <td>253875.64</td>\n",
       "      <td>покупка жилья</td>\n",
       "      <td>жилье</td>\n",
       "    </tr>\n",
       "    <tr>\n",
       "      <td>1</td>\n",
       "      <td>1</td>\n",
       "      <td>-4024.80</td>\n",
       "      <td>36</td>\n",
       "      <td>среднее</td>\n",
       "      <td>1</td>\n",
       "      <td>женат / замужем</td>\n",
       "      <td>0</td>\n",
       "      <td>F</td>\n",
       "      <td>сотрудник</td>\n",
       "      <td>0</td>\n",
       "      <td>112080.01</td>\n",
       "      <td>приобретение автомобиля</td>\n",
       "      <td>автомобиль</td>\n",
       "    </tr>\n",
       "    <tr>\n",
       "      <td>2</td>\n",
       "      <td>0</td>\n",
       "      <td>-5623.42</td>\n",
       "      <td>33</td>\n",
       "      <td>среднее</td>\n",
       "      <td>1</td>\n",
       "      <td>женат / замужем</td>\n",
       "      <td>0</td>\n",
       "      <td>M</td>\n",
       "      <td>сотрудник</td>\n",
       "      <td>0</td>\n",
       "      <td>145885.95</td>\n",
       "      <td>покупка жилья</td>\n",
       "      <td>жилье</td>\n",
       "    </tr>\n",
       "    <tr>\n",
       "      <td>3</td>\n",
       "      <td>3</td>\n",
       "      <td>-4124.75</td>\n",
       "      <td>32</td>\n",
       "      <td>среднее</td>\n",
       "      <td>1</td>\n",
       "      <td>женат / замужем</td>\n",
       "      <td>0</td>\n",
       "      <td>M</td>\n",
       "      <td>сотрудник</td>\n",
       "      <td>0</td>\n",
       "      <td>267628.55</td>\n",
       "      <td>дополнительное образование</td>\n",
       "      <td>образование</td>\n",
       "    </tr>\n",
       "    <tr>\n",
       "      <td>4</td>\n",
       "      <td>0</td>\n",
       "      <td>340266.07</td>\n",
       "      <td>53</td>\n",
       "      <td>среднее</td>\n",
       "      <td>1</td>\n",
       "      <td>гражданский брак</td>\n",
       "      <td>1</td>\n",
       "      <td>F</td>\n",
       "      <td>пенсионер</td>\n",
       "      <td>0</td>\n",
       "      <td>158616.08</td>\n",
       "      <td>сыграть свадьбу</td>\n",
       "      <td>свадьба</td>\n",
       "    </tr>\n",
       "  </tbody>\n",
       "</table>\n",
       "</div>"
      ],
      "text/plain": [
       "   children  days_employed  dob_years education  education_id  \\\n",
       "0         1       -8437.67         42    высшее             0   \n",
       "1         1       -4024.80         36   среднее             1   \n",
       "2         0       -5623.42         33   среднее             1   \n",
       "3         3       -4124.75         32   среднее             1   \n",
       "4         0      340266.07         53   среднее             1   \n",
       "\n",
       "      family_status  family_status_id gender income_type  debt  total_income  \\\n",
       "0   женат / замужем                 0      F   сотрудник     0     253875.64   \n",
       "1   женат / замужем                 0      F   сотрудник     0     112080.01   \n",
       "2   женат / замужем                 0      M   сотрудник     0     145885.95   \n",
       "3   женат / замужем                 0      M   сотрудник     0     267628.55   \n",
       "4  гражданский брак                 1      F   пенсионер     0     158616.08   \n",
       "\n",
       "                      purpose purpose_groups  \n",
       "0               покупка жилья          жилье  \n",
       "1     приобретение автомобиля     автомобиль  \n",
       "2               покупка жилья          жилье  \n",
       "3  дополнительное образование    образование  \n",
       "4             сыграть свадьбу        свадьба  "
      ]
     },
     "execution_count": 1140,
     "metadata": {},
     "output_type": "execute_result"
    }
   ],
   "source": [
    "# Проведение лемматизации, замена полученных лемм на ключевое слово списка \n",
    "def lemmatize(text):\n",
    "    lemma = m.lemmatize(text)\n",
    "    for word in purpose_categories:\n",
    "        if word in lemma:\n",
    "            lemma = word\n",
    "    return lemma\n",
    "\n",
    "data['purpose_groups'] = data['purpose'].apply(lemmatize)        \n",
    "data.head() # Оценка результата"
   ]
  },
  {
   "cell_type": "code",
   "execution_count": 1141,
   "metadata": {
    "scrolled": true
   },
   "outputs": [
    {
     "data": {
      "text/plain": [
       "недвижимость    5041\n",
       "автомобиль      4308\n",
       "образование     4014\n",
       "жилье           3809\n",
       "свадьба         2335\n",
       "коммерческий    1312\n",
       "сдача            652\n",
       "Name: purpose_groups, dtype: int64"
      ]
     },
     "execution_count": 1141,
     "metadata": {},
     "output_type": "execute_result"
    }
   ],
   "source": [
    "# Подсчет значений всех групп целей кредита\n",
    "data['purpose_groups'].value_counts()"
   ]
  },
  {
   "cell_type": "code",
   "execution_count": 1142,
   "metadata": {},
   "outputs": [
    {
     "data": {
      "text/plain": [
       "недвижимость    10814\n",
       "автомобиль       4308\n",
       "образование      4014\n",
       "свадьба          2335\n",
       "Name: purpose_groups, dtype: int64"
      ]
     },
     "execution_count": 1142,
     "metadata": {},
     "output_type": "execute_result"
    }
   ],
   "source": [
    "# Замена цели \"жилье\" на \"недвижимость\", \"сдача\" на инвестиции в недвижимость\n",
    "data.loc[(data['purpose_groups'] == 'жилье')\n",
    "| (data['purpose_groups'] == 'коммерческий') | (data['purpose_groups'] == 'сдача'), 'purpose_groups'] = 'недвижимость'\n",
    "data['purpose_groups'].value_counts()"
   ]
  },
  {
   "cell_type": "markdown",
   "metadata": {},
   "source": [
    "<br><span style='color:blue'>Цель **\"жилье\"**, **коммерческий** и **сдача** вошла в цель **\"недвижимость\"** по равнозначному смыслу.</span>"
   ]
  },
  {
   "cell_type": "markdown",
   "metadata": {},
   "source": [
    "**Вывод**"
   ]
  },
  {
   "cell_type": "markdown",
   "metadata": {},
   "source": [
    "Логически категоризированы цели по <span style='color:darkblue'>**ключевым словам**</span>, по типу <span style='color:darkblue'>**\"свадьба\"**</span> для целей содержащих <span style='color:darkblue'>**сыграть свадьбу\"**</span> и <span style='color:darkblue'>**\"на проведение свадьбы\"**</span> для упрощения дальнейшего анализа.\n",
    "\n",
    "Обеденены логически цели содержащие ключевое слово <span style='color:darkblue'>**\"жилье\"</span>, **\"коммерческий\"**, **\"сдача\"** и <span style='color:darkblue'>**\"недвижимость\"**</span> в общую категорию <span style='color:darkblue'>**\"недвижимость\"**</span>.\n",
    "\n",
    "<span style='color:darkblue'>Лемматизированные цели добавлены в столбец purposes_cat</span>."
   ]
  },
  {
   "cell_type": "markdown",
   "metadata": {},
   "source": [
    "### Категоризация данных"
   ]
  },
  {
   "cell_type": "markdown",
   "metadata": {},
   "source": [
    "#### Категоризация столбца children"
   ]
  },
  {
   "cell_type": "code",
   "execution_count": 1143,
   "metadata": {
    "scrolled": true
   },
   "outputs": [
    {
     "data": {
      "text/plain": [
       "нет детей    14107\n",
       "есть дети     7364\n",
       "Name: children_status, dtype: int64"
      ]
     },
     "execution_count": 1143,
     "metadata": {},
     "output_type": "execute_result"
    }
   ],
   "source": [
    "# Добавление столбца с отметкой о наличии или отсутствии детей \n",
    "def children_mark(children):\n",
    "    if children > 0: return 'есть дети'\n",
    "    else: return 'нет детей'\n",
    "data['children_status'] = data['children'].apply(children_mark)\n",
    "data['children_status'].value_counts()"
   ]
  },
  {
   "cell_type": "markdown",
   "metadata": {},
   "source": [
    "Cтолбец с количеством детей children отмаркирован по наличию детей"
   ]
  },
  {
   "cell_type": "markdown",
   "metadata": {},
   "source": [
    "#### Категоризация столбца доходы total_income"
   ]
  },
  {
   "cell_type": "code",
   "execution_count": 1144,
   "metadata": {
    "scrolled": false
   },
   "outputs": [
    {
     "data": {
      "text/plain": [
       "count     21471.00\n",
       "mean     165449.11\n",
       "std       98271.01\n",
       "min       20667.26\n",
       "25%      107520.53\n",
       "50%      143206.18\n",
       "75%      198251.97\n",
       "max     2265604.03\n",
       "Name: total_income, dtype: float64"
      ]
     },
     "execution_count": 1144,
     "metadata": {},
     "output_type": "execute_result"
    }
   ],
   "source": [
    "# Получение значений квантилей из описания столбца\n",
    "income_stat_data = data['total_income'].describe()\n",
    "income_stat_data"
   ]
  },
  {
   "cell_type": "code",
   "execution_count": 1145,
   "metadata": {},
   "outputs": [
    {
     "data": {
      "text/html": [
       "<div>\n",
       "<style scoped>\n",
       "    .dataframe tbody tr th:only-of-type {\n",
       "        vertical-align: middle;\n",
       "    }\n",
       "\n",
       "    .dataframe tbody tr th {\n",
       "        vertical-align: top;\n",
       "    }\n",
       "\n",
       "    .dataframe thead th {\n",
       "        text-align: right;\n",
       "    }\n",
       "</style>\n",
       "<table border=\"1\" class=\"dataframe\">\n",
       "  <thead>\n",
       "    <tr style=\"text-align: right;\">\n",
       "      <th></th>\n",
       "      <th>children</th>\n",
       "      <th>days_employed</th>\n",
       "      <th>dob_years</th>\n",
       "      <th>education</th>\n",
       "      <th>education_id</th>\n",
       "      <th>family_status</th>\n",
       "      <th>family_status_id</th>\n",
       "      <th>gender</th>\n",
       "      <th>income_type</th>\n",
       "      <th>debt</th>\n",
       "      <th>total_income</th>\n",
       "      <th>purpose</th>\n",
       "      <th>purpose_groups</th>\n",
       "      <th>children_status</th>\n",
       "      <th>income_cat</th>\n",
       "    </tr>\n",
       "  </thead>\n",
       "  <tbody>\n",
       "    <tr>\n",
       "      <td>0</td>\n",
       "      <td>1</td>\n",
       "      <td>-8437.67</td>\n",
       "      <td>42</td>\n",
       "      <td>высшее</td>\n",
       "      <td>0</td>\n",
       "      <td>женат / замужем</td>\n",
       "      <td>0</td>\n",
       "      <td>F</td>\n",
       "      <td>сотрудник</td>\n",
       "      <td>0</td>\n",
       "      <td>253875.64</td>\n",
       "      <td>покупка жилья</td>\n",
       "      <td>недвижимость</td>\n",
       "      <td>есть дети</td>\n",
       "      <td>более 200000 р</td>\n",
       "    </tr>\n",
       "    <tr>\n",
       "      <td>1</td>\n",
       "      <td>1</td>\n",
       "      <td>-4024.80</td>\n",
       "      <td>36</td>\n",
       "      <td>среднее</td>\n",
       "      <td>1</td>\n",
       "      <td>женат / замужем</td>\n",
       "      <td>0</td>\n",
       "      <td>F</td>\n",
       "      <td>сотрудник</td>\n",
       "      <td>0</td>\n",
       "      <td>112080.01</td>\n",
       "      <td>приобретение автомобиля</td>\n",
       "      <td>автомобиль</td>\n",
       "      <td>есть дети</td>\n",
       "      <td>от 100000 р до 150000 р</td>\n",
       "    </tr>\n",
       "    <tr>\n",
       "      <td>2</td>\n",
       "      <td>0</td>\n",
       "      <td>-5623.42</td>\n",
       "      <td>33</td>\n",
       "      <td>среднее</td>\n",
       "      <td>1</td>\n",
       "      <td>женат / замужем</td>\n",
       "      <td>0</td>\n",
       "      <td>M</td>\n",
       "      <td>сотрудник</td>\n",
       "      <td>0</td>\n",
       "      <td>145885.95</td>\n",
       "      <td>покупка жилья</td>\n",
       "      <td>недвижимость</td>\n",
       "      <td>нет детей</td>\n",
       "      <td>от 100000 р до 150000 р</td>\n",
       "    </tr>\n",
       "    <tr>\n",
       "      <td>3</td>\n",
       "      <td>3</td>\n",
       "      <td>-4124.75</td>\n",
       "      <td>32</td>\n",
       "      <td>среднее</td>\n",
       "      <td>1</td>\n",
       "      <td>женат / замужем</td>\n",
       "      <td>0</td>\n",
       "      <td>M</td>\n",
       "      <td>сотрудник</td>\n",
       "      <td>0</td>\n",
       "      <td>267628.55</td>\n",
       "      <td>дополнительное образование</td>\n",
       "      <td>образование</td>\n",
       "      <td>есть дети</td>\n",
       "      <td>более 200000 р</td>\n",
       "    </tr>\n",
       "    <tr>\n",
       "      <td>4</td>\n",
       "      <td>0</td>\n",
       "      <td>340266.07</td>\n",
       "      <td>53</td>\n",
       "      <td>среднее</td>\n",
       "      <td>1</td>\n",
       "      <td>гражданский брак</td>\n",
       "      <td>1</td>\n",
       "      <td>F</td>\n",
       "      <td>пенсионер</td>\n",
       "      <td>0</td>\n",
       "      <td>158616.08</td>\n",
       "      <td>сыграть свадьбу</td>\n",
       "      <td>свадьба</td>\n",
       "      <td>нет детей</td>\n",
       "      <td>от 150000 р до 200000 р</td>\n",
       "    </tr>\n",
       "  </tbody>\n",
       "</table>\n",
       "</div>"
      ],
      "text/plain": [
       "   children  days_employed  dob_years education  education_id  \\\n",
       "0         1       -8437.67         42    высшее             0   \n",
       "1         1       -4024.80         36   среднее             1   \n",
       "2         0       -5623.42         33   среднее             1   \n",
       "3         3       -4124.75         32   среднее             1   \n",
       "4         0      340266.07         53   среднее             1   \n",
       "\n",
       "      family_status  family_status_id gender income_type  debt  total_income  \\\n",
       "0   женат / замужем                 0      F   сотрудник     0     253875.64   \n",
       "1   женат / замужем                 0      F   сотрудник     0     112080.01   \n",
       "2   женат / замужем                 0      M   сотрудник     0     145885.95   \n",
       "3   женат / замужем                 0      M   сотрудник     0     267628.55   \n",
       "4  гражданский брак                 1      F   пенсионер     0     158616.08   \n",
       "\n",
       "                      purpose purpose_groups children_status  \\\n",
       "0               покупка жилья   недвижимость       есть дети   \n",
       "1     приобретение автомобиля     автомобиль       есть дети   \n",
       "2               покупка жилья   недвижимость       нет детей   \n",
       "3  дополнительное образование    образование       есть дети   \n",
       "4             сыграть свадьбу        свадьба       нет детей   \n",
       "\n",
       "                income_cat  \n",
       "0           более 200000 р  \n",
       "1  от 100000 р до 150000 р  \n",
       "2  от 100000 р до 150000 р  \n",
       "3           более 200000 р  \n",
       "4  от 150000 р до 200000 р  "
      ]
     },
     "execution_count": 1145,
     "metadata": {},
     "output_type": "execute_result"
    }
   ],
   "source": [
    "# Определение категории доходов по квантилям\n",
    "def income_group_mark(income):\n",
    "    if income <= 100000: return 'менее 100000 р'\n",
    "    elif 100000 < income <= 150000: return 'от 100000 р до 150000 р'\n",
    "    elif 150000 < income <= 200000: return 'от 150000 р до 200000 р'\n",
    "    else: return 'более 200000 р'\n",
    "\n",
    "# Применим функцию к столбцу доходов\n",
    "data['income_cat'] = data['total_income'].apply(income_group_mark)\n",
    "data.head()"
   ]
  },
  {
   "cell_type": "markdown",
   "metadata": {},
   "source": [
    "<span style='color:blue'>Добавлен новый столбец **income_cat** с категориями на основе квантилей для столбца доход **total_income**. Поскольку использование значений квантилей в их точном числовом значении затрудняет визуально анализ и восприятие, группы прведены к близлежащим круглым значениям в рублях. Например группа доходов **от 100000 р до 150000 р**, вместо **от 107623 р до 142594 р**</span>\n",
    "\n",
    "<span style='color:blue'> Итоговые категории дохода:\n",
    "    \n",
    " <br><span style='color:blue'> **менее 100000 р | от 100000 р до 150000 р | от 100000 р до 150000 р | более 200000 р** </span>\n",
    " </span>"
   ]
  },
  {
   "cell_type": "markdown",
   "metadata": {},
   "source": [
    "#### Категоризация возраста заемщиков dob_years"
   ]
  },
  {
   "cell_type": "code",
   "execution_count": 1146,
   "metadata": {
    "scrolled": true
   },
   "outputs": [
    {
     "data": {
      "text/plain": [
       "count   21471.00\n",
       "mean       43.48\n",
       "std        12.23\n",
       "min        19.00\n",
       "25%        33.50\n",
       "50%        43.00\n",
       "75%        53.00\n",
       "max        75.00\n",
       "Name: dob_years, dtype: float64"
      ]
     },
     "execution_count": 1146,
     "metadata": {},
     "output_type": "execute_result"
    }
   ],
   "source": [
    "# Получение значений квантилей из описания столбца\n",
    "age_stat_data = data['dob_years'].describe()\n",
    "age_stat_data"
   ]
  },
  {
   "cell_type": "code",
   "execution_count": 1147,
   "metadata": {
    "scrolled": true
   },
   "outputs": [
    {
     "data": {
      "text/html": [
       "<div>\n",
       "<style scoped>\n",
       "    .dataframe tbody tr th:only-of-type {\n",
       "        vertical-align: middle;\n",
       "    }\n",
       "\n",
       "    .dataframe tbody tr th {\n",
       "        vertical-align: top;\n",
       "    }\n",
       "\n",
       "    .dataframe thead th {\n",
       "        text-align: right;\n",
       "    }\n",
       "</style>\n",
       "<table border=\"1\" class=\"dataframe\">\n",
       "  <thead>\n",
       "    <tr style=\"text-align: right;\">\n",
       "      <th></th>\n",
       "      <th>children</th>\n",
       "      <th>days_employed</th>\n",
       "      <th>dob_years</th>\n",
       "      <th>education</th>\n",
       "      <th>education_id</th>\n",
       "      <th>family_status</th>\n",
       "      <th>family_status_id</th>\n",
       "      <th>gender</th>\n",
       "      <th>income_type</th>\n",
       "      <th>debt</th>\n",
       "      <th>total_income</th>\n",
       "      <th>purpose</th>\n",
       "      <th>purpose_groups</th>\n",
       "      <th>children_status</th>\n",
       "      <th>income_cat</th>\n",
       "      <th>age_cat</th>\n",
       "    </tr>\n",
       "  </thead>\n",
       "  <tbody>\n",
       "    <tr>\n",
       "      <td>0</td>\n",
       "      <td>1</td>\n",
       "      <td>-8437.67</td>\n",
       "      <td>42</td>\n",
       "      <td>высшее</td>\n",
       "      <td>0</td>\n",
       "      <td>женат / замужем</td>\n",
       "      <td>0</td>\n",
       "      <td>F</td>\n",
       "      <td>сотрудник</td>\n",
       "      <td>0</td>\n",
       "      <td>253875.64</td>\n",
       "      <td>покупка жилья</td>\n",
       "      <td>недвижимость</td>\n",
       "      <td>есть дети</td>\n",
       "      <td>более 200000 р</td>\n",
       "      <td>от 33 до 42</td>\n",
       "    </tr>\n",
       "    <tr>\n",
       "      <td>1</td>\n",
       "      <td>1</td>\n",
       "      <td>-4024.80</td>\n",
       "      <td>36</td>\n",
       "      <td>среднее</td>\n",
       "      <td>1</td>\n",
       "      <td>женат / замужем</td>\n",
       "      <td>0</td>\n",
       "      <td>F</td>\n",
       "      <td>сотрудник</td>\n",
       "      <td>0</td>\n",
       "      <td>112080.01</td>\n",
       "      <td>приобретение автомобиля</td>\n",
       "      <td>автомобиль</td>\n",
       "      <td>есть дети</td>\n",
       "      <td>от 100000 р до 150000 р</td>\n",
       "      <td>от 33 до 42</td>\n",
       "    </tr>\n",
       "    <tr>\n",
       "      <td>2</td>\n",
       "      <td>0</td>\n",
       "      <td>-5623.42</td>\n",
       "      <td>33</td>\n",
       "      <td>среднее</td>\n",
       "      <td>1</td>\n",
       "      <td>женат / замужем</td>\n",
       "      <td>0</td>\n",
       "      <td>M</td>\n",
       "      <td>сотрудник</td>\n",
       "      <td>0</td>\n",
       "      <td>145885.95</td>\n",
       "      <td>покупка жилья</td>\n",
       "      <td>недвижимость</td>\n",
       "      <td>нет детей</td>\n",
       "      <td>от 100000 р до 150000 р</td>\n",
       "      <td>младше 33</td>\n",
       "    </tr>\n",
       "    <tr>\n",
       "      <td>3</td>\n",
       "      <td>3</td>\n",
       "      <td>-4124.75</td>\n",
       "      <td>32</td>\n",
       "      <td>среднее</td>\n",
       "      <td>1</td>\n",
       "      <td>женат / замужем</td>\n",
       "      <td>0</td>\n",
       "      <td>M</td>\n",
       "      <td>сотрудник</td>\n",
       "      <td>0</td>\n",
       "      <td>267628.55</td>\n",
       "      <td>дополнительное образование</td>\n",
       "      <td>образование</td>\n",
       "      <td>есть дети</td>\n",
       "      <td>более 200000 р</td>\n",
       "      <td>младше 33</td>\n",
       "    </tr>\n",
       "    <tr>\n",
       "      <td>4</td>\n",
       "      <td>0</td>\n",
       "      <td>340266.07</td>\n",
       "      <td>53</td>\n",
       "      <td>среднее</td>\n",
       "      <td>1</td>\n",
       "      <td>гражданский брак</td>\n",
       "      <td>1</td>\n",
       "      <td>F</td>\n",
       "      <td>пенсионер</td>\n",
       "      <td>0</td>\n",
       "      <td>158616.08</td>\n",
       "      <td>сыграть свадьбу</td>\n",
       "      <td>свадьба</td>\n",
       "      <td>нет детей</td>\n",
       "      <td>от 150000 р до 200000 р</td>\n",
       "      <td>от 42 до 53</td>\n",
       "    </tr>\n",
       "  </tbody>\n",
       "</table>\n",
       "</div>"
      ],
      "text/plain": [
       "   children  days_employed  dob_years education  education_id  \\\n",
       "0         1       -8437.67         42    высшее             0   \n",
       "1         1       -4024.80         36   среднее             1   \n",
       "2         0       -5623.42         33   среднее             1   \n",
       "3         3       -4124.75         32   среднее             1   \n",
       "4         0      340266.07         53   среднее             1   \n",
       "\n",
       "      family_status  family_status_id gender income_type  debt  total_income  \\\n",
       "0   женат / замужем                 0      F   сотрудник     0     253875.64   \n",
       "1   женат / замужем                 0      F   сотрудник     0     112080.01   \n",
       "2   женат / замужем                 0      M   сотрудник     0     145885.95   \n",
       "3   женат / замужем                 0      M   сотрудник     0     267628.55   \n",
       "4  гражданский брак                 1      F   пенсионер     0     158616.08   \n",
       "\n",
       "                      purpose purpose_groups children_status  \\\n",
       "0               покупка жилья   недвижимость       есть дети   \n",
       "1     приобретение автомобиля     автомобиль       есть дети   \n",
       "2               покупка жилья   недвижимость       нет детей   \n",
       "3  дополнительное образование    образование       есть дети   \n",
       "4             сыграть свадьбу        свадьба       нет детей   \n",
       "\n",
       "                income_cat      age_cat  \n",
       "0           более 200000 р  от 33 до 42  \n",
       "1  от 100000 р до 150000 р  от 33 до 42  \n",
       "2  от 100000 р до 150000 р    младше 33  \n",
       "3           более 200000 р    младше 33  \n",
       "4  от 150000 р до 200000 р  от 42 до 53  "
      ]
     },
     "execution_count": 1147,
     "metadata": {},
     "output_type": "execute_result"
    }
   ],
   "source": [
    "# Определение категории возраста по квантилям\n",
    "def age_group_mark(age):\n",
    "    if age <= age_stat_data[4]: return 'младше 33'\n",
    "    elif age_stat_data[4] < age <= age_stat_data[5]: return 'от 33 до 42'\n",
    "    elif age_stat_data[5] < age <= age_stat_data[6]: return 'от 42 до 53'\n",
    "    else: return 'старше 53'\n",
    "# Применение функции к столбцу возраста\n",
    "data['age_cat'] = data['dob_years'].apply(age_group_mark)\n",
    "data.head()"
   ]
  },
  {
   "cell_type": "code",
   "execution_count": 1148,
   "metadata": {},
   "outputs": [
    {
     "data": {
      "text/html": [
       "<div>\n",
       "<style scoped>\n",
       "    .dataframe tbody tr th:only-of-type {\n",
       "        vertical-align: middle;\n",
       "    }\n",
       "\n",
       "    .dataframe tbody tr th {\n",
       "        vertical-align: top;\n",
       "    }\n",
       "\n",
       "    .dataframe thead th {\n",
       "        text-align: right;\n",
       "    }\n",
       "</style>\n",
       "<table border=\"1\" class=\"dataframe\">\n",
       "  <thead>\n",
       "    <tr style=\"text-align: right;\">\n",
       "      <th></th>\n",
       "      <th>total_clients</th>\n",
       "      <th>debitors</th>\n",
       "      <th>debt_probability_pct</th>\n",
       "    </tr>\n",
       "    <tr>\n",
       "      <th>gender</th>\n",
       "      <th></th>\n",
       "      <th></th>\n",
       "      <th></th>\n",
       "    </tr>\n",
       "  </thead>\n",
       "  <tbody>\n",
       "    <tr>\n",
       "      <td>M</td>\n",
       "      <td>7281</td>\n",
       "      <td>747</td>\n",
       "      <td>10.26</td>\n",
       "    </tr>\n",
       "    <tr>\n",
       "      <td>F</td>\n",
       "      <td>14190</td>\n",
       "      <td>994</td>\n",
       "      <td>7.00</td>\n",
       "    </tr>\n",
       "  </tbody>\n",
       "</table>\n",
       "</div>"
      ],
      "text/plain": [
       "        total_clients  debitors  debt_probability_pct\n",
       "gender                                               \n",
       "M                7281       747                 10.26\n",
       "F               14190       994                  7.00"
      ]
     },
     "execution_count": 1148,
     "metadata": {},
     "output_type": "execute_result"
    }
   ],
   "source": [
    "# Группировка  пола для последующего анализа\n",
    "age_gender_probability = data.groupby('gender')['debt'].agg(\n",
    "    total_clients='count',debitors='sum',debt_probability_pct=lambda x:\n",
    "    (x.sum() / x.count())*100).sort_values(by='debt_probability_pct',ascending=False)\n",
    "age_gender_probability"
   ]
  },
  {
   "cell_type": "code",
   "execution_count": 1149,
   "metadata": {},
   "outputs": [
    {
     "data": {
      "text/html": [
       "<div>\n",
       "<style scoped>\n",
       "    .dataframe tbody tr th:only-of-type {\n",
       "        vertical-align: middle;\n",
       "    }\n",
       "\n",
       "    .dataframe tbody tr th {\n",
       "        vertical-align: top;\n",
       "    }\n",
       "\n",
       "    .dataframe thead th {\n",
       "        text-align: right;\n",
       "    }\n",
       "</style>\n",
       "<table border=\"1\" class=\"dataframe\">\n",
       "  <thead>\n",
       "    <tr style=\"text-align: right;\">\n",
       "      <th></th>\n",
       "      <th></th>\n",
       "      <th>total_clients</th>\n",
       "      <th>debitors</th>\n",
       "      <th>debt_probability_pct</th>\n",
       "    </tr>\n",
       "    <tr>\n",
       "      <th>age_cat</th>\n",
       "      <th>gender</th>\n",
       "      <th></th>\n",
       "      <th></th>\n",
       "      <th></th>\n",
       "    </tr>\n",
       "  </thead>\n",
       "  <tbody>\n",
       "    <tr>\n",
       "      <td rowspan=\"2\" valign=\"top\">младше 33</td>\n",
       "      <td>M</td>\n",
       "      <td>2235</td>\n",
       "      <td>268</td>\n",
       "      <td>11.99</td>\n",
       "    </tr>\n",
       "    <tr>\n",
       "      <td>F</td>\n",
       "      <td>3133</td>\n",
       "      <td>319</td>\n",
       "      <td>10.18</td>\n",
       "    </tr>\n",
       "    <tr>\n",
       "      <td>от 33 до 42</td>\n",
       "      <td>M</td>\n",
       "      <td>2181</td>\n",
       "      <td>218</td>\n",
       "      <td>10.00</td>\n",
       "    </tr>\n",
       "    <tr>\n",
       "      <td>от 42 до 53</td>\n",
       "      <td>M</td>\n",
       "      <td>1574</td>\n",
       "      <td>152</td>\n",
       "      <td>9.66</td>\n",
       "    </tr>\n",
       "    <tr>\n",
       "      <td>старше 53</td>\n",
       "      <td>M</td>\n",
       "      <td>1291</td>\n",
       "      <td>109</td>\n",
       "      <td>8.44</td>\n",
       "    </tr>\n",
       "    <tr>\n",
       "      <td>от 33 до 42</td>\n",
       "      <td>F</td>\n",
       "      <td>3697</td>\n",
       "      <td>286</td>\n",
       "      <td>7.74</td>\n",
       "    </tr>\n",
       "    <tr>\n",
       "      <td>от 42 до 53</td>\n",
       "      <td>F</td>\n",
       "      <td>3367</td>\n",
       "      <td>203</td>\n",
       "      <td>6.03</td>\n",
       "    </tr>\n",
       "    <tr>\n",
       "      <td>старше 53</td>\n",
       "      <td>F</td>\n",
       "      <td>3993</td>\n",
       "      <td>186</td>\n",
       "      <td>4.66</td>\n",
       "    </tr>\n",
       "  </tbody>\n",
       "</table>\n",
       "</div>"
      ],
      "text/plain": [
       "                    total_clients  debitors  debt_probability_pct\n",
       "age_cat     gender                                               \n",
       "младше 33   M                2235       268                 11.99\n",
       "            F                3133       319                 10.18\n",
       "от 33 до 42 M                2181       218                 10.00\n",
       "от 42 до 53 M                1574       152                  9.66\n",
       "старше 53   M                1291       109                  8.44\n",
       "от 33 до 42 F                3697       286                  7.74\n",
       "от 42 до 53 F                3367       203                  6.03\n",
       "старше 53   F                3993       186                  4.66"
      ]
     },
     "execution_count": 1149,
     "metadata": {},
     "output_type": "execute_result"
    }
   ],
   "source": [
    "# Группировка возраста и пола для последующего анализа\n",
    "age_gender_probability = data.groupby(['age_cat','gender'])['debt'].agg(\n",
    "    total_clients='count',debitors='sum',debt_probability_pct=lambda x:\n",
    "    (x.sum() / x.count())*100).sort_values(by='debt_probability_pct',ascending=False)\n",
    "age_gender_probability"
   ]
  },
  {
   "cell_type": "markdown",
   "metadata": {},
   "source": [
    "<span style='color:blue'>Добавлен новый столбец **age_cat** с категориями на основе квантилей для столбца возраст **dob_years**. Также использованы квартили для равномерной группировки по всему распределению. Группировка возраста и пола необходима для финального вывода.</span>"
   ]
  },
  {
   "cell_type": "markdown",
   "metadata": {},
   "source": [
    "**Вывод**"
   ]
  },
  {
   "cell_type": "markdown",
   "metadata": {},
   "source": [
    "Были категоризированы данные по столбцу количества детей <span style='color:darkblue'>**children** в столбец <span style='color:darkblue'>**children status**, в виде значений  \"дети есть\" или \"детей нет\". Данная категория необходима для ответа на вопрос: <span style='color:darkblue'>*влияет ли наличие детей на платежеспособность*.</span>\n",
    "\n",
    "Были категоризированы доходы по круглым значениям близким к квантилям столбца <span style='color:darkblue'>**total_income в** столбец <span style='color:darkblue'>**income_cat** для анализа доходов и ответа на вопрос: <span style='color:darkblue'>*есть ли зависимость дохода и погащением кредита в срок.*</span>\n",
    "\n",
    "Был категоризирован данные по столбцу возраста клиентов <span style='color:darkblue'>**dob_years** в столбец <span style='color:darkblue'>**age_cat** по квантилям для упрощения анализа.</span>\n",
    "\n",
    "Ранее были лемматизированы и категоризированы цели кредита в обновленный столбец <span style='color:darkblue'>**purposes**</span> в виде пяти вариантов целей для ответа на вопрос: <span style='color:darkblue'>*как разные цели кредита влияют на его возврат в срок.*</span>\n",
    "\n",
    "Ответ на вопрос: <span style='color:darkblue'>*есть ли зависимость между семейным положением и возвратом кредита в срок,*</span> будет получен после анализа текущих значений столбца семейное положение <span style='color:darkblue'>**family_status**</span>\n",
    "\n",
    "**Квантили** послужили основой для категоризации доходов по близким к ним округленным значениям и границами групп возраста. Выбраны для анализа всей широты распределения значений.</span>"
   ]
  },
  {
   "cell_type": "markdown",
   "metadata": {},
   "source": [
    "## Шаг 3. Ответьте на вопросы"
   ]
  },
  {
   "cell_type": "markdown",
   "metadata": {},
   "source": [
    "- Есть ли зависимость между наличием детей и возвратом кредита в срок?"
   ]
  },
  {
   "cell_type": "code",
   "execution_count": 1150,
   "metadata": {
    "scrolled": false
   },
   "outputs": [
    {
     "data": {
      "text/html": [
       "<div>\n",
       "<style scoped>\n",
       "    .dataframe tbody tr th:only-of-type {\n",
       "        vertical-align: middle;\n",
       "    }\n",
       "\n",
       "    .dataframe tbody tr th {\n",
       "        vertical-align: top;\n",
       "    }\n",
       "\n",
       "    .dataframe thead th {\n",
       "        text-align: right;\n",
       "    }\n",
       "</style>\n",
       "<table border=\"1\" class=\"dataframe\">\n",
       "  <thead>\n",
       "    <tr style=\"text-align: right;\">\n",
       "      <th></th>\n",
       "      <th>total_clients</th>\n",
       "      <th>debitors</th>\n",
       "      <th>debt_probability_pct</th>\n",
       "    </tr>\n",
       "    <tr>\n",
       "      <th>children_status</th>\n",
       "      <th></th>\n",
       "      <th></th>\n",
       "      <th></th>\n",
       "    </tr>\n",
       "  </thead>\n",
       "  <tbody>\n",
       "    <tr>\n",
       "      <td>есть дети</td>\n",
       "      <td>7364</td>\n",
       "      <td>678</td>\n",
       "      <td>9.21</td>\n",
       "    </tr>\n",
       "    <tr>\n",
       "      <td>нет детей</td>\n",
       "      <td>14107</td>\n",
       "      <td>1063</td>\n",
       "      <td>7.54</td>\n",
       "    </tr>\n",
       "  </tbody>\n",
       "</table>\n",
       "</div>"
      ],
      "text/plain": [
       "                 total_clients  debitors  debt_probability_pct\n",
       "children_status                                               \n",
       "есть дети                 7364       678                  9.21\n",
       "нет детей                14107      1063                  7.54"
      ]
     },
     "execution_count": 1150,
     "metadata": {},
     "output_type": "execute_result"
    }
   ],
   "source": [
    "# Группировка просрочки по наличию детей\n",
    "children_status_probability = data.groupby('children_status')['debt'].agg(\n",
    "    total_clients='count',debitors='sum',debt_probability_pct=lambda x: (x.sum() / x.count())*100)\n",
    "children_status_probability"
   ]
  },
  {
   "cell_type": "markdown",
   "metadata": {},
   "source": [
    "<span style='color:blue'>**Зависимость** между наличием детей и возвратом кредита в срок **существует**. Вероятность просрочки выше у заемщиков с детьми. Дети - большая статья расходов. Ниже рассмотрим гипотезу: чем больше детей тем более вероятна просрочка.</span>"
   ]
  },
  {
   "cell_type": "code",
   "execution_count": 1151,
   "metadata": {
    "scrolled": false
   },
   "outputs": [
    {
     "data": {
      "text/html": [
       "<div>\n",
       "<style scoped>\n",
       "    .dataframe tbody tr th:only-of-type {\n",
       "        vertical-align: middle;\n",
       "    }\n",
       "\n",
       "    .dataframe tbody tr th {\n",
       "        vertical-align: top;\n",
       "    }\n",
       "\n",
       "    .dataframe thead th {\n",
       "        text-align: right;\n",
       "    }\n",
       "</style>\n",
       "<table border=\"1\" class=\"dataframe\">\n",
       "  <thead>\n",
       "    <tr style=\"text-align: right;\">\n",
       "      <th></th>\n",
       "      <th>total_clients</th>\n",
       "      <th>debitors</th>\n",
       "      <th>debt_probability_pct</th>\n",
       "    </tr>\n",
       "    <tr>\n",
       "      <th>children</th>\n",
       "      <th></th>\n",
       "      <th></th>\n",
       "      <th></th>\n",
       "    </tr>\n",
       "  </thead>\n",
       "  <tbody>\n",
       "    <tr>\n",
       "      <td>4</td>\n",
       "      <td>41</td>\n",
       "      <td>4</td>\n",
       "      <td>9.76</td>\n",
       "    </tr>\n",
       "    <tr>\n",
       "      <td>2</td>\n",
       "      <td>2128</td>\n",
       "      <td>202</td>\n",
       "      <td>9.49</td>\n",
       "    </tr>\n",
       "    <tr>\n",
       "      <td>1</td>\n",
       "      <td>4856</td>\n",
       "      <td>445</td>\n",
       "      <td>9.16</td>\n",
       "    </tr>\n",
       "    <tr>\n",
       "      <td>3</td>\n",
       "      <td>330</td>\n",
       "      <td>27</td>\n",
       "      <td>8.18</td>\n",
       "    </tr>\n",
       "    <tr>\n",
       "      <td>0</td>\n",
       "      <td>14107</td>\n",
       "      <td>1063</td>\n",
       "      <td>7.54</td>\n",
       "    </tr>\n",
       "    <tr>\n",
       "      <td>5</td>\n",
       "      <td>9</td>\n",
       "      <td>0</td>\n",
       "      <td>0.00</td>\n",
       "    </tr>\n",
       "  </tbody>\n",
       "</table>\n",
       "</div>"
      ],
      "text/plain": [
       "          total_clients  debitors  debt_probability_pct\n",
       "children                                               \n",
       "4                    41         4                  9.76\n",
       "2                  2128       202                  9.49\n",
       "1                  4856       445                  9.16\n",
       "3                   330        27                  8.18\n",
       "0                 14107      1063                  7.54\n",
       "5                     9         0                  0.00"
      ]
     },
     "execution_count": 1151,
     "metadata": {},
     "output_type": "execute_result"
    }
   ],
   "source": [
    "# Группировка просрочки по количеству детей\n",
    "qty_children_probability = data.groupby('children')['debt'].agg(\n",
    "    total_clients='count',debitors='sum',debt_probability_pct=lambda x:\n",
    "    (x.sum() / x.count())*100).sort_values(by='debt_probability_pct',ascending=False)\n",
    "qty_children_probability"
   ]
  },
  {
   "cell_type": "markdown",
   "metadata": {},
   "source": [
    "<span style='color:blue'>**Количество детей** ожидаемо **влияет** на вероятность просрочки, чем больше детей тем она выше Однако вероятные исключения, заемщики с **5** детьми не допускли просрочек, хотя число таких заемщиков не велико. Заемщики с **3** детьми оказались отетственнее чем заемщики с двумя. Ниже рассмотрим количество детей в связке с доходом, для выяснения этой странности, ведь дети требуют серьезных расходов.</span>"
   ]
  },
  {
   "cell_type": "code",
   "execution_count": 1152,
   "metadata": {
    "scrolled": false
   },
   "outputs": [
    {
     "data": {
      "text/html": [
       "<div>\n",
       "<style scoped>\n",
       "    .dataframe tbody tr th:only-of-type {\n",
       "        vertical-align: middle;\n",
       "    }\n",
       "\n",
       "    .dataframe tbody tr th {\n",
       "        vertical-align: top;\n",
       "    }\n",
       "\n",
       "    .dataframe thead th {\n",
       "        text-align: right;\n",
       "    }\n",
       "</style>\n",
       "<table border=\"1\" class=\"dataframe\">\n",
       "  <thead>\n",
       "    <tr style=\"text-align: right;\">\n",
       "      <th></th>\n",
       "      <th></th>\n",
       "      <th>total_clients</th>\n",
       "      <th>debitors</th>\n",
       "      <th>debt_probability_pct</th>\n",
       "    </tr>\n",
       "    <tr>\n",
       "      <th>children</th>\n",
       "      <th>income_cat</th>\n",
       "      <th></th>\n",
       "      <th></th>\n",
       "      <th></th>\n",
       "    </tr>\n",
       "  </thead>\n",
       "  <tbody>\n",
       "    <tr>\n",
       "      <td rowspan=\"2\" valign=\"top\">4</td>\n",
       "      <td>менее 100000 р</td>\n",
       "      <td>5</td>\n",
       "      <td>1</td>\n",
       "      <td>20.00</td>\n",
       "    </tr>\n",
       "    <tr>\n",
       "      <td>более 200000 р</td>\n",
       "      <td>7</td>\n",
       "      <td>1</td>\n",
       "      <td>14.29</td>\n",
       "    </tr>\n",
       "    <tr>\n",
       "      <td>3</td>\n",
       "      <td>менее 100000 р</td>\n",
       "      <td>59</td>\n",
       "      <td>8</td>\n",
       "      <td>13.56</td>\n",
       "    </tr>\n",
       "    <tr>\n",
       "      <td>2</td>\n",
       "      <td>от 100000 р до 150000 р</td>\n",
       "      <td>675</td>\n",
       "      <td>73</td>\n",
       "      <td>10.81</td>\n",
       "    </tr>\n",
       "    <tr>\n",
       "      <td>1</td>\n",
       "      <td>от 100000 р до 150000 р</td>\n",
       "      <td>1598</td>\n",
       "      <td>161</td>\n",
       "      <td>10.08</td>\n",
       "    </tr>\n",
       "    <tr>\n",
       "      <td>2</td>\n",
       "      <td>от 150000 р до 200000 р</td>\n",
       "      <td>460</td>\n",
       "      <td>46</td>\n",
       "      <td>10.00</td>\n",
       "    </tr>\n",
       "    <tr>\n",
       "      <td>3</td>\n",
       "      <td>от 150000 р до 200000 р</td>\n",
       "      <td>73</td>\n",
       "      <td>7</td>\n",
       "      <td>9.59</td>\n",
       "    </tr>\n",
       "    <tr>\n",
       "      <td rowspan=\"2\" valign=\"top\">1</td>\n",
       "      <td>менее 100000 р</td>\n",
       "      <td>898</td>\n",
       "      <td>86</td>\n",
       "      <td>9.58</td>\n",
       "    </tr>\n",
       "    <tr>\n",
       "      <td>от 150000 р до 200000 р</td>\n",
       "      <td>1138</td>\n",
       "      <td>108</td>\n",
       "      <td>9.49</td>\n",
       "    </tr>\n",
       "    <tr>\n",
       "      <td rowspan=\"2\" valign=\"top\">2</td>\n",
       "      <td>менее 100000 р</td>\n",
       "      <td>448</td>\n",
       "      <td>38</td>\n",
       "      <td>8.48</td>\n",
       "    </tr>\n",
       "    <tr>\n",
       "      <td>более 200000 р</td>\n",
       "      <td>545</td>\n",
       "      <td>45</td>\n",
       "      <td>8.26</td>\n",
       "    </tr>\n",
       "    <tr>\n",
       "      <td rowspan=\"2\" valign=\"top\">0</td>\n",
       "      <td>от 100000 р до 150000 р</td>\n",
       "      <td>4635</td>\n",
       "      <td>374</td>\n",
       "      <td>8.07</td>\n",
       "    </tr>\n",
       "    <tr>\n",
       "      <td>от 150000 р до 200000 р</td>\n",
       "      <td>3040</td>\n",
       "      <td>242</td>\n",
       "      <td>7.96</td>\n",
       "    </tr>\n",
       "    <tr>\n",
       "      <td>3</td>\n",
       "      <td>от 100000 р до 150000 р</td>\n",
       "      <td>106</td>\n",
       "      <td>8</td>\n",
       "      <td>7.55</td>\n",
       "    </tr>\n",
       "    <tr>\n",
       "      <td>1</td>\n",
       "      <td>более 200000 р</td>\n",
       "      <td>1222</td>\n",
       "      <td>90</td>\n",
       "      <td>7.36</td>\n",
       "    </tr>\n",
       "    <tr>\n",
       "      <td>0</td>\n",
       "      <td>менее 100000 р</td>\n",
       "      <td>3053</td>\n",
       "      <td>221</td>\n",
       "      <td>7.24</td>\n",
       "    </tr>\n",
       "    <tr>\n",
       "      <td>4</td>\n",
       "      <td>от 150000 р до 200000 р</td>\n",
       "      <td>14</td>\n",
       "      <td>1</td>\n",
       "      <td>7.14</td>\n",
       "    </tr>\n",
       "    <tr>\n",
       "      <td>0</td>\n",
       "      <td>более 200000 р</td>\n",
       "      <td>3379</td>\n",
       "      <td>226</td>\n",
       "      <td>6.69</td>\n",
       "    </tr>\n",
       "    <tr>\n",
       "      <td>4</td>\n",
       "      <td>от 100000 р до 150000 р</td>\n",
       "      <td>15</td>\n",
       "      <td>1</td>\n",
       "      <td>6.67</td>\n",
       "    </tr>\n",
       "    <tr>\n",
       "      <td>3</td>\n",
       "      <td>более 200000 р</td>\n",
       "      <td>92</td>\n",
       "      <td>4</td>\n",
       "      <td>4.35</td>\n",
       "    </tr>\n",
       "    <tr>\n",
       "      <td rowspan=\"4\" valign=\"top\">5</td>\n",
       "      <td>более 200000 р</td>\n",
       "      <td>4</td>\n",
       "      <td>0</td>\n",
       "      <td>0.00</td>\n",
       "    </tr>\n",
       "    <tr>\n",
       "      <td>менее 100000 р</td>\n",
       "      <td>2</td>\n",
       "      <td>0</td>\n",
       "      <td>0.00</td>\n",
       "    </tr>\n",
       "    <tr>\n",
       "      <td>от 100000 р до 150000 р</td>\n",
       "      <td>2</td>\n",
       "      <td>0</td>\n",
       "      <td>0.00</td>\n",
       "    </tr>\n",
       "    <tr>\n",
       "      <td>от 150000 р до 200000 р</td>\n",
       "      <td>1</td>\n",
       "      <td>0</td>\n",
       "      <td>0.00</td>\n",
       "    </tr>\n",
       "  </tbody>\n",
       "</table>\n",
       "</div>"
      ],
      "text/plain": [
       "                                  total_clients  debitors  \\\n",
       "children income_cat                                         \n",
       "4        менее 100000 р                       5         1   \n",
       "         более 200000 р                       7         1   \n",
       "3        менее 100000 р                      59         8   \n",
       "2        от 100000 р до 150000 р            675        73   \n",
       "1        от 100000 р до 150000 р           1598       161   \n",
       "2        от 150000 р до 200000 р            460        46   \n",
       "3        от 150000 р до 200000 р             73         7   \n",
       "1        менее 100000 р                     898        86   \n",
       "         от 150000 р до 200000 р           1138       108   \n",
       "2        менее 100000 р                     448        38   \n",
       "         более 200000 р                     545        45   \n",
       "0        от 100000 р до 150000 р           4635       374   \n",
       "         от 150000 р до 200000 р           3040       242   \n",
       "3        от 100000 р до 150000 р            106         8   \n",
       "1        более 200000 р                    1222        90   \n",
       "0        менее 100000 р                    3053       221   \n",
       "4        от 150000 р до 200000 р             14         1   \n",
       "0        более 200000 р                    3379       226   \n",
       "4        от 100000 р до 150000 р             15         1   \n",
       "3        более 200000 р                      92         4   \n",
       "5        более 200000 р                       4         0   \n",
       "         менее 100000 р                       2         0   \n",
       "         от 100000 р до 150000 р              2         0   \n",
       "         от 150000 р до 200000 р              1         0   \n",
       "\n",
       "                                  debt_probability_pct  \n",
       "children income_cat                                     \n",
       "4        менее 100000 р                          20.00  \n",
       "         более 200000 р                          14.29  \n",
       "3        менее 100000 р                          13.56  \n",
       "2        от 100000 р до 150000 р                 10.81  \n",
       "1        от 100000 р до 150000 р                 10.08  \n",
       "2        от 150000 р до 200000 р                 10.00  \n",
       "3        от 150000 р до 200000 р                  9.59  \n",
       "1        менее 100000 р                           9.58  \n",
       "         от 150000 р до 200000 р                  9.49  \n",
       "2        менее 100000 р                           8.48  \n",
       "         более 200000 р                           8.26  \n",
       "0        от 100000 р до 150000 р                  8.07  \n",
       "         от 150000 р до 200000 р                  7.96  \n",
       "3        от 100000 р до 150000 р                  7.55  \n",
       "1        более 200000 р                           7.36  \n",
       "0        менее 100000 р                           7.24  \n",
       "4        от 150000 р до 200000 р                  7.14  \n",
       "0        более 200000 р                           6.69  \n",
       "4        от 100000 р до 150000 р                  6.67  \n",
       "3        более 200000 р                           4.35  \n",
       "5        более 200000 р                           0.00  \n",
       "         менее 100000 р                           0.00  \n",
       "         от 100000 р до 150000 р                  0.00  \n",
       "         от 150000 р до 200000 р                  0.00  "
      ]
     },
     "execution_count": 1152,
     "metadata": {},
     "output_type": "execute_result"
    }
   ],
   "source": [
    "# Группировка просрочки по количеству детей и уровню дохода\n",
    "qty_children_income_probability = data.groupby(['children','income_cat'])['debt'].agg(\n",
    "    total_clients='count',debitors='sum',debt_probability_pct=lambda x:\n",
    "    (x.sum() / x.count())*100).sort_values(by='debt_probability_pct',ascending=False)\n",
    "qty_children_income_probability"
   ]
  },
  {
   "cell_type": "markdown",
   "metadata": {},
   "source": [
    "<span style='color:blue'>Заемщики с **5** детьми не допускают просрочек при любом уровне доходов, возможно меры поддержки государства играют роль.Среди заемщиков с **3** детьми действительно меньше просрочек чему у заемщиков с **2** детьми. в РФ заемщики с тремя детьми уже считаются многодетными семьями и получают дополнительную поддержку от федеральных властей и часто - от местных, что может помогать им исполнять обязательства в срок. Заемщики с **4** детьми достаточно дисциплинированы за исключением их самых небогатых и наоборот самых обеспеченных представителей Заемщики с **5** детьми не допускают просрочек при любом уровне доходов, возможно меры поддержки государства играют роль.</span>"
   ]
  },
  {
   "cell_type": "markdown",
   "metadata": {},
   "source": [
    "**Вывод**"
   ]
  },
  {
   "cell_type": "markdown",
   "metadata": {},
   "source": [
    "Зависимость между наличием детей и исполнением обязательств в срок присутствует. Вероятность просрочки у заемщиков с детьми выше - <span style='color:darkblue'>**9.21%**</span>  против <span style='color:darkblue'>**7.54%**</span>. С увеличением количества детей у заемщика вероятность просрочки увеличивается, однако при наличии <span style='color:darkblue'>**3 и более детей**</span> возможны исключения. Вероятно играет роль господдержка."
   ]
  },
  {
   "cell_type": "markdown",
   "metadata": {},
   "source": [
    "- Есть ли зависимость между семейным положением и возвратом кредита в срок?"
   ]
  },
  {
   "cell_type": "code",
   "execution_count": 1153,
   "metadata": {
    "scrolled": false
   },
   "outputs": [
    {
     "data": {
      "text/html": [
       "<div>\n",
       "<style scoped>\n",
       "    .dataframe tbody tr th:only-of-type {\n",
       "        vertical-align: middle;\n",
       "    }\n",
       "\n",
       "    .dataframe tbody tr th {\n",
       "        vertical-align: top;\n",
       "    }\n",
       "\n",
       "    .dataframe thead th {\n",
       "        text-align: right;\n",
       "    }\n",
       "</style>\n",
       "<table border=\"1\" class=\"dataframe\">\n",
       "  <thead>\n",
       "    <tr style=\"text-align: right;\">\n",
       "      <th></th>\n",
       "      <th>total_clients</th>\n",
       "      <th>debitors</th>\n",
       "      <th>debt_probability_pct</th>\n",
       "    </tr>\n",
       "    <tr>\n",
       "      <th>family_status</th>\n",
       "      <th></th>\n",
       "      <th></th>\n",
       "      <th></th>\n",
       "    </tr>\n",
       "  </thead>\n",
       "  <tbody>\n",
       "    <tr>\n",
       "      <td>Не женат / не замужем</td>\n",
       "      <td>2810</td>\n",
       "      <td>274</td>\n",
       "      <td>9.75</td>\n",
       "    </tr>\n",
       "    <tr>\n",
       "      <td>гражданский брак</td>\n",
       "      <td>4163</td>\n",
       "      <td>388</td>\n",
       "      <td>9.32</td>\n",
       "    </tr>\n",
       "    <tr>\n",
       "      <td>женат / замужем</td>\n",
       "      <td>12344</td>\n",
       "      <td>931</td>\n",
       "      <td>7.54</td>\n",
       "    </tr>\n",
       "    <tr>\n",
       "      <td>в разводе</td>\n",
       "      <td>1195</td>\n",
       "      <td>85</td>\n",
       "      <td>7.11</td>\n",
       "    </tr>\n",
       "    <tr>\n",
       "      <td>вдовец / вдова</td>\n",
       "      <td>959</td>\n",
       "      <td>63</td>\n",
       "      <td>6.57</td>\n",
       "    </tr>\n",
       "  </tbody>\n",
       "</table>\n",
       "</div>"
      ],
      "text/plain": [
       "                       total_clients  debitors  debt_probability_pct\n",
       "family_status                                                       \n",
       "Не женат / не замужем           2810       274                  9.75\n",
       "гражданский брак                4163       388                  9.32\n",
       "женат / замужем                12344       931                  7.54\n",
       "в разводе                       1195        85                  7.11\n",
       "вдовец / вдова                   959        63                  6.57"
      ]
     },
     "execution_count": 1153,
     "metadata": {},
     "output_type": "execute_result"
    }
   ],
   "source": [
    "# Группировка просрочки по семейному положению заемщиков\n",
    "familiy_stat_probability = data.groupby('family_status')['debt'].agg(\n",
    "    total_clients='count',debitors='sum',debt_probability_pct=lambda x:\n",
    "    (x.sum() / x.count())*100).sort_values(by='debt_probability_pct',ascending=False)\n",
    "familiy_stat_probability"
   ]
  },
  {
   "cell_type": "markdown",
   "metadata": {},
   "source": [
    "<span style='color:blue'>Наиболее ответственны в погашении кредитов одинокие заемщики, однако бывшие в браке. Официальный брак также влияет на снижение просрочек.</span>"
   ]
  },
  {
   "cell_type": "code",
   "execution_count": 1154,
   "metadata": {
    "scrolled": false
   },
   "outputs": [
    {
     "data": {
      "text/html": [
       "<div>\n",
       "<style scoped>\n",
       "    .dataframe tbody tr th:only-of-type {\n",
       "        vertical-align: middle;\n",
       "    }\n",
       "\n",
       "    .dataframe tbody tr th {\n",
       "        vertical-align: top;\n",
       "    }\n",
       "\n",
       "    .dataframe thead th {\n",
       "        text-align: right;\n",
       "    }\n",
       "</style>\n",
       "<table border=\"1\" class=\"dataframe\">\n",
       "  <thead>\n",
       "    <tr style=\"text-align: right;\">\n",
       "      <th></th>\n",
       "      <th></th>\n",
       "      <th>total_clients</th>\n",
       "      <th>debitors</th>\n",
       "      <th>debt_probability_pct</th>\n",
       "    </tr>\n",
       "    <tr>\n",
       "      <th>family_status</th>\n",
       "      <th>children_status</th>\n",
       "      <th></th>\n",
       "      <th></th>\n",
       "      <th></th>\n",
       "    </tr>\n",
       "  </thead>\n",
       "  <tbody>\n",
       "    <tr>\n",
       "      <td>Не женат / не замужем</td>\n",
       "      <td>есть дети</td>\n",
       "      <td>548</td>\n",
       "      <td>64</td>\n",
       "      <td>11.68</td>\n",
       "    </tr>\n",
       "    <tr>\n",
       "      <td>гражданский брак</td>\n",
       "      <td>есть дети</td>\n",
       "      <td>1422</td>\n",
       "      <td>159</td>\n",
       "      <td>11.18</td>\n",
       "    </tr>\n",
       "    <tr>\n",
       "      <td>Не женат / не замужем</td>\n",
       "      <td>нет детей</td>\n",
       "      <td>2262</td>\n",
       "      <td>210</td>\n",
       "      <td>9.28</td>\n",
       "    </tr>\n",
       "    <tr>\n",
       "      <td>вдовец / вдова</td>\n",
       "      <td>есть дети</td>\n",
       "      <td>112</td>\n",
       "      <td>10</td>\n",
       "      <td>8.93</td>\n",
       "    </tr>\n",
       "    <tr>\n",
       "      <td>женат / замужем</td>\n",
       "      <td>есть дети</td>\n",
       "      <td>4871</td>\n",
       "      <td>415</td>\n",
       "      <td>8.52</td>\n",
       "    </tr>\n",
       "    <tr>\n",
       "      <td>гражданский брак</td>\n",
       "      <td>нет детей</td>\n",
       "      <td>2741</td>\n",
       "      <td>229</td>\n",
       "      <td>8.35</td>\n",
       "    </tr>\n",
       "    <tr>\n",
       "      <td rowspan=\"2\" valign=\"top\">в разводе</td>\n",
       "      <td>есть дети</td>\n",
       "      <td>411</td>\n",
       "      <td>30</td>\n",
       "      <td>7.30</td>\n",
       "    </tr>\n",
       "    <tr>\n",
       "      <td>нет детей</td>\n",
       "      <td>784</td>\n",
       "      <td>55</td>\n",
       "      <td>7.02</td>\n",
       "    </tr>\n",
       "    <tr>\n",
       "      <td>женат / замужем</td>\n",
       "      <td>нет детей</td>\n",
       "      <td>7473</td>\n",
       "      <td>516</td>\n",
       "      <td>6.90</td>\n",
       "    </tr>\n",
       "    <tr>\n",
       "      <td>вдовец / вдова</td>\n",
       "      <td>нет детей</td>\n",
       "      <td>847</td>\n",
       "      <td>53</td>\n",
       "      <td>6.26</td>\n",
       "    </tr>\n",
       "  </tbody>\n",
       "</table>\n",
       "</div>"
      ],
      "text/plain": [
       "                                       total_clients  debitors  \\\n",
       "family_status         children_status                            \n",
       "Не женат / не замужем есть дети                  548        64   \n",
       "гражданский брак      есть дети                 1422       159   \n",
       "Не женат / не замужем нет детей                 2262       210   \n",
       "вдовец / вдова        есть дети                  112        10   \n",
       "женат / замужем       есть дети                 4871       415   \n",
       "гражданский брак      нет детей                 2741       229   \n",
       "в разводе             есть дети                  411        30   \n",
       "                      нет детей                  784        55   \n",
       "женат / замужем       нет детей                 7473       516   \n",
       "вдовец / вдова        нет детей                  847        53   \n",
       "\n",
       "                                       debt_probability_pct  \n",
       "family_status         children_status                        \n",
       "Не женат / не замужем есть дети                       11.68  \n",
       "гражданский брак      есть дети                       11.18  \n",
       "Не женат / не замужем нет детей                        9.28  \n",
       "вдовец / вдова        есть дети                        8.93  \n",
       "женат / замужем       есть дети                        8.52  \n",
       "гражданский брак      нет детей                        8.35  \n",
       "в разводе             есть дети                        7.30  \n",
       "                      нет детей                        7.02  \n",
       "женат / замужем       нет детей                        6.90  \n",
       "вдовец / вдова        нет детей                        6.26  "
      ]
     },
     "execution_count": 1154,
     "metadata": {},
     "output_type": "execute_result"
    }
   ],
   "source": [
    "# Группировка просрочки по семейному положению заемщиков и наличию детей\n",
    "family_stat_children_probability = data.groupby(['family_status','children_status'])['debt'].agg(\n",
    "    total_clients='count',debitors='sum',debt_probability_pct=lambda x:\n",
    "    (x.sum() / x.count())*100).sort_values(by='debt_probability_pct',ascending=False)\n",
    "family_stat_children_probability"
   ]
  },
  {
   "cell_type": "markdown",
   "metadata": {},
   "source": [
    "<span style='color:blue'>Подтверждается ранее сделанный вывод - наличие детей увеличивает вероятность просрочки вне зависимости от семейного статуса. Заемщики состоящие в браке более дисциплинированы как и заемщики бывшие в браке, вне зависимости от наличия детей.</span>"
   ]
  },
  {
   "cell_type": "markdown",
   "metadata": {},
   "source": [
    "**Вывод**"
   ]
  },
  {
   "cell_type": "markdown",
   "metadata": {},
   "source": [
    "Зависимость между семейным положением и возвратом кредита в срок присутствует. Официальный брак снижает риск невозврата в срок с вероятностью <span style='color:darkblue'>**7.55%**</span> против гражданского брака и одиноких заемщиков <span style='color:darkblue'>**9.35%**</span> и <span style='color:darkblue'>**9.75%**</span> соответственно. Олинокие заемщики бывшие в браке - самые дисциплиннированные заемщики, их вероятность просрочки - <span style='color:darkblue'>**менее 7%**.</span>"
   ]
  },
  {
   "cell_type": "markdown",
   "metadata": {},
   "source": [
    "- Есть ли зависимость между уровнем дохода и возвратом кредита в срок?"
   ]
  },
  {
   "cell_type": "code",
   "execution_count": 1155,
   "metadata": {
    "scrolled": true
   },
   "outputs": [
    {
     "data": {
      "text/html": [
       "<div>\n",
       "<style scoped>\n",
       "    .dataframe tbody tr th:only-of-type {\n",
       "        vertical-align: middle;\n",
       "    }\n",
       "\n",
       "    .dataframe tbody tr th {\n",
       "        vertical-align: top;\n",
       "    }\n",
       "\n",
       "    .dataframe thead th {\n",
       "        text-align: right;\n",
       "    }\n",
       "</style>\n",
       "<table border=\"1\" class=\"dataframe\">\n",
       "  <thead>\n",
       "    <tr style=\"text-align: right;\">\n",
       "      <th></th>\n",
       "      <th>total_clients</th>\n",
       "      <th>debitors</th>\n",
       "      <th>debt_probability_pct</th>\n",
       "    </tr>\n",
       "    <tr>\n",
       "      <th>income_cat</th>\n",
       "      <th></th>\n",
       "      <th></th>\n",
       "      <th></th>\n",
       "    </tr>\n",
       "  </thead>\n",
       "  <tbody>\n",
       "    <tr>\n",
       "      <td>от 100000 р до 150000 р</td>\n",
       "      <td>7031</td>\n",
       "      <td>617</td>\n",
       "      <td>8.78</td>\n",
       "    </tr>\n",
       "    <tr>\n",
       "      <td>от 150000 р до 200000 р</td>\n",
       "      <td>4726</td>\n",
       "      <td>404</td>\n",
       "      <td>8.55</td>\n",
       "    </tr>\n",
       "    <tr>\n",
       "      <td>менее 100000 р</td>\n",
       "      <td>4465</td>\n",
       "      <td>354</td>\n",
       "      <td>7.93</td>\n",
       "    </tr>\n",
       "    <tr>\n",
       "      <td>более 200000 р</td>\n",
       "      <td>5249</td>\n",
       "      <td>366</td>\n",
       "      <td>6.97</td>\n",
       "    </tr>\n",
       "  </tbody>\n",
       "</table>\n",
       "</div>"
      ],
      "text/plain": [
       "                         total_clients  debitors  debt_probability_pct\n",
       "income_cat                                                            \n",
       "от 100000 р до 150000 р           7031       617                  8.78\n",
       "от 150000 р до 200000 р           4726       404                  8.55\n",
       "менее 100000 р                    4465       354                  7.93\n",
       "более 200000 р                    5249       366                  6.97"
      ]
     },
     "execution_count": 1155,
     "metadata": {},
     "output_type": "execute_result"
    }
   ],
   "source": [
    "# Группировка просрочки по доходу заемщиков\n",
    "income_probability = data.groupby('income_cat')['debt'].agg(\n",
    "    total_clients='count',debitors='sum',debt_probability_pct=lambda x:\n",
    "    (x.sum() / x.count())*100).sort_values(by='debt_probability_pct',ascending=False)\n",
    "income_probability"
   ]
  },
  {
   "cell_type": "markdown",
   "metadata": {},
   "source": [
    "<span style='color:blue'>Вероятность просрочки больше - **у среднего-минус класса по доходам**, самые небогатые и самые обеспеченные - самые ответственные заемщики. Тут необходимо рассмотреть взаимосвязь между возникновением просрочк и связки дохода с образованием заемщика, т.к. наличие образования в целом важно для зарабатывания денег.</span>"
   ]
  },
  {
   "cell_type": "code",
   "execution_count": 1156,
   "metadata": {},
   "outputs": [
    {
     "data": {
      "text/html": [
       "<div>\n",
       "<style scoped>\n",
       "    .dataframe tbody tr th:only-of-type {\n",
       "        vertical-align: middle;\n",
       "    }\n",
       "\n",
       "    .dataframe tbody tr th {\n",
       "        vertical-align: top;\n",
       "    }\n",
       "\n",
       "    .dataframe thead th {\n",
       "        text-align: right;\n",
       "    }\n",
       "</style>\n",
       "<table border=\"1\" class=\"dataframe\">\n",
       "  <thead>\n",
       "    <tr style=\"text-align: right;\">\n",
       "      <th></th>\n",
       "      <th></th>\n",
       "      <th>total_clients</th>\n",
       "      <th>debitors</th>\n",
       "      <th>debt_probability_pct</th>\n",
       "    </tr>\n",
       "    <tr>\n",
       "      <th>income_cat</th>\n",
       "      <th>education</th>\n",
       "      <th></th>\n",
       "      <th></th>\n",
       "      <th></th>\n",
       "    </tr>\n",
       "  </thead>\n",
       "  <tbody>\n",
       "    <tr>\n",
       "      <td>от 150000 р до 200000 р</td>\n",
       "      <td>начальное</td>\n",
       "      <td>44</td>\n",
       "      <td>6</td>\n",
       "      <td>13.64</td>\n",
       "    </tr>\n",
       "    <tr>\n",
       "      <td>от 100000 р до 150000 р</td>\n",
       "      <td>начальное</td>\n",
       "      <td>103</td>\n",
       "      <td>14</td>\n",
       "      <td>13.59</td>\n",
       "    </tr>\n",
       "    <tr>\n",
       "      <td rowspan=\"2\" valign=\"top\">более 200000 р</td>\n",
       "      <td>неоконченное высшее</td>\n",
       "      <td>219</td>\n",
       "      <td>27</td>\n",
       "      <td>12.33</td>\n",
       "    </tr>\n",
       "    <tr>\n",
       "      <td>начальное</td>\n",
       "      <td>41</td>\n",
       "      <td>5</td>\n",
       "      <td>12.20</td>\n",
       "    </tr>\n",
       "    <tr>\n",
       "      <td>от 150000 р до 200000 р</td>\n",
       "      <td>среднее</td>\n",
       "      <td>3125</td>\n",
       "      <td>298</td>\n",
       "      <td>9.54</td>\n",
       "    </tr>\n",
       "    <tr>\n",
       "      <td rowspan=\"2\" valign=\"top\">от 100000 р до 150000 р</td>\n",
       "      <td>среднее</td>\n",
       "      <td>5484</td>\n",
       "      <td>519</td>\n",
       "      <td>9.46</td>\n",
       "    </tr>\n",
       "    <tr>\n",
       "      <td>неоконченное высшее</td>\n",
       "      <td>229</td>\n",
       "      <td>21</td>\n",
       "      <td>9.17</td>\n",
       "    </tr>\n",
       "    <tr>\n",
       "      <td>менее 100000 р</td>\n",
       "      <td>среднее</td>\n",
       "      <td>3648</td>\n",
       "      <td>304</td>\n",
       "      <td>8.33</td>\n",
       "    </tr>\n",
       "    <tr>\n",
       "      <td>более 200000 р</td>\n",
       "      <td>среднее</td>\n",
       "      <td>2931</td>\n",
       "      <td>243</td>\n",
       "      <td>8.29</td>\n",
       "    </tr>\n",
       "    <tr>\n",
       "      <td>менее 100000 р</td>\n",
       "      <td>неоконченное высшее</td>\n",
       "      <td>115</td>\n",
       "      <td>8</td>\n",
       "      <td>6.96</td>\n",
       "    </tr>\n",
       "    <tr>\n",
       "      <td rowspan=\"2\" valign=\"top\">от 150000 р до 200000 р</td>\n",
       "      <td>неоконченное высшее</td>\n",
       "      <td>181</td>\n",
       "      <td>12</td>\n",
       "      <td>6.63</td>\n",
       "    </tr>\n",
       "    <tr>\n",
       "      <td>высшее</td>\n",
       "      <td>1375</td>\n",
       "      <td>88</td>\n",
       "      <td>6.40</td>\n",
       "    </tr>\n",
       "    <tr>\n",
       "      <td rowspan=\"2\" valign=\"top\">менее 100000 р</td>\n",
       "      <td>начальное</td>\n",
       "      <td>94</td>\n",
       "      <td>6</td>\n",
       "      <td>6.38</td>\n",
       "    </tr>\n",
       "    <tr>\n",
       "      <td>высшее</td>\n",
       "      <td>607</td>\n",
       "      <td>36</td>\n",
       "      <td>5.93</td>\n",
       "    </tr>\n",
       "    <tr>\n",
       "      <td>от 100000 р до 150000 р</td>\n",
       "      <td>высшее</td>\n",
       "      <td>1213</td>\n",
       "      <td>63</td>\n",
       "      <td>5.19</td>\n",
       "    </tr>\n",
       "    <tr>\n",
       "      <td>более 200000 р</td>\n",
       "      <td>высшее</td>\n",
       "      <td>2056</td>\n",
       "      <td>91</td>\n",
       "      <td>4.43</td>\n",
       "    </tr>\n",
       "    <tr>\n",
       "      <td>от 100000 р до 150000 р</td>\n",
       "      <td>ученая степень</td>\n",
       "      <td>2</td>\n",
       "      <td>0</td>\n",
       "      <td>0.00</td>\n",
       "    </tr>\n",
       "    <tr>\n",
       "      <td>менее 100000 р</td>\n",
       "      <td>ученая степень</td>\n",
       "      <td>1</td>\n",
       "      <td>0</td>\n",
       "      <td>0.00</td>\n",
       "    </tr>\n",
       "    <tr>\n",
       "      <td>более 200000 р</td>\n",
       "      <td>ученая степень</td>\n",
       "      <td>2</td>\n",
       "      <td>0</td>\n",
       "      <td>0.00</td>\n",
       "    </tr>\n",
       "    <tr>\n",
       "      <td>от 150000 р до 200000 р</td>\n",
       "      <td>ученая степень</td>\n",
       "      <td>1</td>\n",
       "      <td>0</td>\n",
       "      <td>0.00</td>\n",
       "    </tr>\n",
       "  </tbody>\n",
       "</table>\n",
       "</div>"
      ],
      "text/plain": [
       "                                             total_clients  debitors  \\\n",
       "income_cat              education                                      \n",
       "от 150000 р до 200000 р начальное                       44         6   \n",
       "от 100000 р до 150000 р начальное                      103        14   \n",
       "более 200000 р          неоконченное высшее            219        27   \n",
       "                        начальное                       41         5   \n",
       "от 150000 р до 200000 р среднее                       3125       298   \n",
       "от 100000 р до 150000 р среднее                       5484       519   \n",
       "                        неоконченное высшее            229        21   \n",
       "менее 100000 р          среднее                       3648       304   \n",
       "более 200000 р          среднее                       2931       243   \n",
       "менее 100000 р          неоконченное высшее            115         8   \n",
       "от 150000 р до 200000 р неоконченное высшее            181        12   \n",
       "                        высшее                        1375        88   \n",
       "менее 100000 р          начальное                       94         6   \n",
       "                        высшее                         607        36   \n",
       "от 100000 р до 150000 р высшее                        1213        63   \n",
       "более 200000 р          высшее                        2056        91   \n",
       "от 100000 р до 150000 р ученая степень                   2         0   \n",
       "менее 100000 р          ученая степень                   1         0   \n",
       "более 200000 р          ученая степень                   2         0   \n",
       "от 150000 р до 200000 р ученая степень                   1         0   \n",
       "\n",
       "                                             debt_probability_pct  \n",
       "income_cat              education                                  \n",
       "от 150000 р до 200000 р начальное                           13.64  \n",
       "от 100000 р до 150000 р начальное                           13.59  \n",
       "более 200000 р          неоконченное высшее                 12.33  \n",
       "                        начальное                           12.20  \n",
       "от 150000 р до 200000 р среднее                              9.54  \n",
       "от 100000 р до 150000 р среднее                              9.46  \n",
       "                        неоконченное высшее                  9.17  \n",
       "менее 100000 р          среднее                              8.33  \n",
       "более 200000 р          среднее                              8.29  \n",
       "менее 100000 р          неоконченное высшее                  6.96  \n",
       "от 150000 р до 200000 р неоконченное высшее                  6.63  \n",
       "                        высшее                               6.40  \n",
       "менее 100000 р          начальное                            6.38  \n",
       "                        высшее                               5.93  \n",
       "от 100000 р до 150000 р высшее                               5.19  \n",
       "более 200000 р          высшее                               4.43  \n",
       "от 100000 р до 150000 р ученая степень                       0.00  \n",
       "менее 100000 р          ученая степень                       0.00  \n",
       "более 200000 р          ученая степень                       0.00  \n",
       "от 150000 р до 200000 р ученая степень                       0.00  "
      ]
     },
     "execution_count": 1156,
     "metadata": {},
     "output_type": "execute_result"
    }
   ],
   "source": [
    "# Группировка просрочки доходу и образованию заемщиков\n",
    "income_education_probability = data.groupby(['income_cat','education'])['debt'].agg(\n",
    "    total_clients='count',debitors='sum',debt_probability_pct=lambda x:\n",
    "    (x.sum() / x.count())*100).sort_values(by='debt_probability_pct',ascending=False)\n",
    "income_education_probability"
   ]
  },
  {
   "cell_type": "markdown",
   "metadata": {},
   "source": [
    "**Вывод**"
   ]
  },
  {
   "cell_type": "markdown",
   "metadata": {},
   "source": [
    "Зависимость между уровнем дохода и возвратом кредита в срок присутствует. У заемщиков с уровнем дохода \"средний минус\" <span style='color:darkblue'>**от 100000 до 150000 р**</span>. - самая высокая вероятность возникновения просрочки - <span style='color:darkblue'>**8.78%**</span> против <span style='color:darkblue'>**6.97%**</span> у самых обеспеченных заемшиков. Стоить заметить, что наименее обеспеченные заемщики, также дисциплиннированы с вероятностью просрочки <span style='color:darkblue'>**7.93%**</span>\n",
    "Образование через доходы также влияет на вероятность просрочки, <span style='color:darkblue'>**чем выше его уровень**</span> - тем она менее вероятна, вне зависимости от доходов, за исключением самых небогатых заемщиков с начальным образованием и доходом менее <span style='color:darkblue'>**100000**</span> р.<span style='color:darkblue'>(вероятность просрочки **6.38%**)</span>, они наиболии финансово дисциплинированы, после заемщиков с вышим образованием и учеными степенями.\n",
    "Если заемщиков с высшим образованием и ученых вероятно отличает более высокий уровень финансовой грамотности и способность обеспечить себе высокий доход, то малообеспеченные и малообразованные заемщики возможно более способны ограничить себя в расходах, либо берут небольшие суммы по своему доходу и возможностям. Другая вероятность для этой категории заемщиков - высокий отсев на этапе одобрения кредитов."
   ]
  },
  {
   "cell_type": "markdown",
   "metadata": {},
   "source": [
    "- Как разные цели кредита влияют на его возврат в срок?"
   ]
  },
  {
   "cell_type": "code",
   "execution_count": 1157,
   "metadata": {
    "scrolled": true
   },
   "outputs": [
    {
     "data": {
      "text/html": [
       "<div>\n",
       "<style scoped>\n",
       "    .dataframe tbody tr th:only-of-type {\n",
       "        vertical-align: middle;\n",
       "    }\n",
       "\n",
       "    .dataframe tbody tr th {\n",
       "        vertical-align: top;\n",
       "    }\n",
       "\n",
       "    .dataframe thead th {\n",
       "        text-align: right;\n",
       "    }\n",
       "</style>\n",
       "<table border=\"1\" class=\"dataframe\">\n",
       "  <thead>\n",
       "    <tr style=\"text-align: right;\">\n",
       "      <th></th>\n",
       "      <th>total_clients</th>\n",
       "      <th>debitors</th>\n",
       "      <th>debt_probability_pct</th>\n",
       "    </tr>\n",
       "    <tr>\n",
       "      <th>purpose_groups</th>\n",
       "      <th></th>\n",
       "      <th></th>\n",
       "      <th></th>\n",
       "    </tr>\n",
       "  </thead>\n",
       "  <tbody>\n",
       "    <tr>\n",
       "      <td>автомобиль</td>\n",
       "      <td>4308</td>\n",
       "      <td>403</td>\n",
       "      <td>9.35</td>\n",
       "    </tr>\n",
       "    <tr>\n",
       "      <td>образование</td>\n",
       "      <td>4014</td>\n",
       "      <td>370</td>\n",
       "      <td>9.22</td>\n",
       "    </tr>\n",
       "    <tr>\n",
       "      <td>свадьба</td>\n",
       "      <td>2335</td>\n",
       "      <td>186</td>\n",
       "      <td>7.97</td>\n",
       "    </tr>\n",
       "    <tr>\n",
       "      <td>недвижимость</td>\n",
       "      <td>10814</td>\n",
       "      <td>782</td>\n",
       "      <td>7.23</td>\n",
       "    </tr>\n",
       "  </tbody>\n",
       "</table>\n",
       "</div>"
      ],
      "text/plain": [
       "                total_clients  debitors  debt_probability_pct\n",
       "purpose_groups                                               \n",
       "автомобиль               4308       403                  9.35\n",
       "образование              4014       370                  9.22\n",
       "свадьба                  2335       186                  7.97\n",
       "недвижимость            10814       782                  7.23"
      ]
     },
     "execution_count": 1157,
     "metadata": {},
     "output_type": "execute_result"
    }
   ],
   "source": [
    "# Группировка просрочки по целям кредита\n",
    "purpose_probability = data.groupby('purpose_groups')['debt'].agg(\n",
    "    total_clients='count',debitors='sum',debt_probability_pct=lambda x:\n",
    "    (x.sum() / x.count())*100).sort_values(by='debt_probability_pct',ascending=False)\n",
    "purpose_probability"
   ]
  },
  {
   "cell_type": "markdown",
   "metadata": {},
   "source": [
    "**Вывод**"
   ]
  },
  {
   "cell_type": "markdown",
   "metadata": {},
   "source": [
    "Цели получения кредита влияют на возникновение просрочек. Самая высокая вероятность возникновения просрочки у заемщиков покупающих в кредит автомобиль, несмотря на оформление залога - <span style='color:darkblue'>**9.35%**</span>, как движимое имущество автомобиль подвержен высоким рискам утраты или повреждения, несмотря на страхование. Для него характерен быстрый износ и следовательно обесценение как предмета залога, он требует постоянных расходов на содержание.\n",
    "\n",
    "Высокую вероятность просрочки по образовательному кредиту - <span style='color:darkblue'>**9.22%**</span> можно объяснить в том числе проблемами с выбором учебного заведения, программы и направления обучения, переоценкой своих возможностей и как следстве - невозможности достичь дохода, позволяющего обслуживать такой кредит.\n",
    "\n",
    "Приобретение недвижимости как цель, несет в себе самую низкую вероятность просрочки <span style='color:darkblue'>**7.23%**</span> Недвижимость - хороший залог, почти не подвержена обесценению, для большинства заемщиков - одно из главных приобретений в жизни, базовая потребность иметь крышу над головой, что в итоге стимулирует платежную дисциплину."
   ]
  },
  {
   "cell_type": "markdown",
   "metadata": {},
   "source": [
    "## Шаг 4. Общий вывод"
   ]
  },
  {
   "cell_type": "markdown",
   "metadata": {},
   "source": [
    "На все поставленные вопросы даны утвердительные ответы, описаны выводы и возможные взаимосвязи для них. Выявленны зависимости появления просрочки кредита от наличия детей, семейного положения, уровня доходов заемщика, а также влияние на просрочку целей получения кредита.\n",
    "\n",
    "<br>Возможно составить портрет клиента с наименьшей вероятностью появления просрочки по кредиту исходя из полученных данных:\n",
    "\n",
    "<div class=\"alert alert-warning\" style= \"background-color: #d3e5f0\" style=\"border-radius: 15px\"><br>Это женщина от 53 лет и старше, без детей, и вдова с доходом свыше 200000 р, имеющая  ученую степень, берущая кредит на приобретение недвижимости.</div>\n",
    "\n",
    "<br>Возможно также составить портрет клиента с наибольшей вероятностью появления просрочки:\n",
    "\n",
    "\n",
    "<div class=\"alert alert-warning\" style= \"background-color: #d3e5f0\" style=\"border-radius: 15px\"><br>Это мужчина младше 33 лет, с 4 детьми, не женат, с доходом 100000 - 150000 р, начальное образование, берущий кредит на приобретение автомобиля.</div>\n",
    "\n",
    "    \n",
    "| Признак | Лучший | (% невозврата) | Худший | (% невозврата) |\n",
    "| :--- | :--- | ---: | :--- | ---: |\n",
    "| Пол и возраст        | Женщина 53+                  |  4.66 | Мужчина 33-                   | 11.99 |\n",
    "| Дети                 | нет детей                    |  7.54 | четверо                       | 9.76  |  \n",
    "| Семейный статус      | вдова                        |  6.26 | не женат                      | 9.75  |\n",
    "| Доход и образование  | более 200 т.р ученая степень |  0.00 | 100 тр -150 т.р. начальное    | 13.64 |\n",
    "| Цель кредита         | недвижимость                 |  7.23 | автомобиль                    | 9.35  |"
   ]
  }
 ],
 "metadata": {
  "kernelspec": {
   "display_name": "Python 3",
   "language": "python",
   "name": "python3"
  },
  "language_info": {
   "codemirror_mode": {
    "name": "ipython",
    "version": 3
   },
   "file_extension": ".py",
   "mimetype": "text/x-python",
   "name": "python",
   "nbconvert_exporter": "python",
   "pygments_lexer": "ipython3",
   "version": "3.8.5"
  },
  "toc": {
   "base_numbering": 1,
   "nav_menu": {},
   "number_sections": true,
   "sideBar": true,
   "skip_h1_title": true,
   "title_cell": "Table of Contents",
   "title_sidebar": "Contents",
   "toc_cell": false,
   "toc_position": {
    "height": "calc(100% - 180px)",
    "left": "10px",
    "top": "150px",
    "width": "272.594px"
   },
   "toc_section_display": true,
   "toc_window_display": true
  }
 },
 "nbformat": 4,
 "nbformat_minor": 2
}
