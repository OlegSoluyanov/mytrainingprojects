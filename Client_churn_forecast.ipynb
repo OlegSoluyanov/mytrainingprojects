{
 "cells": [
  {
   "cell_type": "markdown",
   "metadata": {},
   "source": [
    "# Прогнозирование оттока клиентов фитнес-клуба"
   ]
  },
  {
   "cell_type": "markdown",
   "metadata": {},
   "source": [
    "**ЗАДАЧИ АНАЛИЗА**\n",
    "<br>**- прогноз вероятности оттока для каждого клиента на уровне следующего месяца**\n",
    "<br>**- формирование типичного портрета клиента, групп клиентов**\n",
    "<br>**- анализ основных признаков влияющих на отток**\n",
    "<br>**- сформировать выводы и дать рекомендации по снижению оттока**"
   ]
  },
  {
   "cell_type": "markdown",
   "metadata": {},
   "source": [
    "**ОПИСАНИЕ ДАННЫХ**\n",
    "\n",
    "***Файл данных gym_churn.csv***\n",
    "\n",
    "<br>***'Churn'*** — факт оттока в текущем месяце;\n",
    "<br>***'gender'*** — пол;\n",
    "<br>***'Near_Location'*** — проживание или работа в районе, где находится фитнес-центр;\n",
    "<br>***'Partner'*** — сотрудник компании-партнёра клуба (сотрудничество с компаниями, чьи сотрудники могут получать скидки на абонемент — в таком случае фитнес-центр хранит информацию о работодателе клиента);\n",
    "<br>***'Promo_friends'*** — факт первоначальной записи в рамках акции «приведи друга» (использовал промо-код от знакомого при оплате первого абонемента);\n",
    "<br>***'Phone'*** — наличие контактного телефона;\n",
    "<br>***'Age'*** — возраст;\n",
    "<br>***'Lifetime'*** — время с момента первого обращения в фитнес-центр (в месяцах);\n",
    "<br>***'Contract_period'*** — длительность текущего действующего абонемента (месяц, 3 месяца, 6 месяцев, год);\n",
    "<br>***'Month_to_end_contract'*** — срок до окончания текущего действующего абонемента (в месяцах);\n",
    "<br>***'Group_visits'*** — факт посещения групповых занятий;\n",
    "<br>***'Avg_class_frequency_total'*** — средняя частота посещений в неделю за все время с начала действия абонемента;\n",
    "<br>***'Avg_class_frequency_current_month'*** — средняя частота посещений в неделю за предыдущий месяц;\n",
    "<br>***'Avg_additional_charges_total'*** — суммарная выручка от других услуг фитнес-центра: кафе, спорт-товары, косметический и массажный салон."
   ]
  },
  {
   "cell_type": "markdown",
   "metadata": {},
   "source": [
    "<h1>Оглавление<span class=\"tocSkip\"></span></h1>\n",
    "<div class=\"toc\"><ul class=\"toc-item\"><li><span><a href=\"#Загрузка-и-предобработка-данных\" data-toc-modified-id=\"Загрузка-и-предобработка-данных-1\"><span class=\"toc-item-num\">1&nbsp;&nbsp;</span>Загрузка и предобработка данных</a></span></li><li><span><a href=\"#Исследовательский-анализ-данных\" data-toc-modified-id=\"Исследовательский-анализ-данных-2\"><span class=\"toc-item-num\">2&nbsp;&nbsp;</span>Исследовательский анализ данных</a></span><ul class=\"toc-item\"><li><span><a href=\"#Описательные-статистики\" data-toc-modified-id=\"Описательные-статистики-2.1\"><span class=\"toc-item-num\">2.1&nbsp;&nbsp;</span>Описательные статистики</a></span></li><li><span><a href=\"#Средние-различия-в-группах-ушедших-и-оставшихся-клиентов\" data-toc-modified-id=\"Средние-различия-в-группах-ушедших-и-оставшихся-клиентов-2.2\"><span class=\"toc-item-num\">2.2&nbsp;&nbsp;</span>Средние различия в группах ушедших и оставшихся клиентов</a></span></li><li><span><a href=\"#Распределение-признаков\" data-toc-modified-id=\"Распределение-признаков-2.3\"><span class=\"toc-item-num\">2.3&nbsp;&nbsp;</span>Распределение признаков</a></span></li><li><span><a href=\"#Матрица-корреляции-признаков\" data-toc-modified-id=\"Матрица-корреляции-признаков-2.4\"><span class=\"toc-item-num\">2.4&nbsp;&nbsp;</span>Матрица корреляции признаков</a></span></li></ul></li><li><span><a href=\"#Построение-модели-прогнозирования-оттока-клиентов\" data-toc-modified-id=\"Построение-модели-прогнозирования-оттока-клиентов-3\"><span class=\"toc-item-num\">3&nbsp;&nbsp;</span>Построение модели прогнозирования оттока клиентов</a></span><ul class=\"toc-item\"><li><span><a href=\"#Подготовка-выборок-для-обучения\" data-toc-modified-id=\"Подготовка-выборок-для-обучения-3.1\"><span class=\"toc-item-num\">3.1&nbsp;&nbsp;</span>Подготовка выборок для обучения</a></span></li><li><span><a href=\"#Логистическая-регрессия\" data-toc-modified-id=\"Логистическая-регрессия-3.2\"><span class=\"toc-item-num\">3.2&nbsp;&nbsp;</span>Логистическая регрессия</a></span></li><li><span><a href=\"#Случайный-лес\" data-toc-modified-id=\"Случайный-лес-3.3\"><span class=\"toc-item-num\">3.3&nbsp;&nbsp;</span>Случайный лес</a></span></li><li><span><a href=\"#Расчет-метрик-и-выбор-лучшей-модели\" data-toc-modified-id=\"Расчет-метрик-и-выбор-лучшей-модели-3.4\"><span class=\"toc-item-num\">3.4&nbsp;&nbsp;</span>Расчет метрик и выбор лучшей модели</a></span></li></ul></li><li><span><a href=\"#Кластеризация-клиентов\" data-toc-modified-id=\"Кластеризация-клиентов-4\"><span class=\"toc-item-num\">4&nbsp;&nbsp;</span>Кластеризация клиентов</a></span><ul class=\"toc-item\"><li><span><a href=\"#Стандартизация-данных\" data-toc-modified-id=\"Стандартизация-данных-4.1\"><span class=\"toc-item-num\">4.1&nbsp;&nbsp;</span>Стандартизация данных</a></span></li><li><span><a href=\"#Вывод-дендрограммы\" data-toc-modified-id=\"Вывод-дендрограммы-4.2\"><span class=\"toc-item-num\">4.2&nbsp;&nbsp;</span>Вывод дендрограммы</a></span></li><li><span><a href=\"#Обучение-модели-кластеризации\" data-toc-modified-id=\"Обучение-модели-кластеризации-4.3\"><span class=\"toc-item-num\">4.3&nbsp;&nbsp;</span>Обучение модели кластеризации</a></span></li><li><span><a href=\"#Cредние-значения-признаков-для-кластеров\" data-toc-modified-id=\"Cредние-значения-признаков-для-кластеров-4.4\"><span class=\"toc-item-num\">4.4&nbsp;&nbsp;</span>Cредние значения признаков для кластеров</a></span></li><li><span><a href=\"#Распределения-признаков-для-кластеров\" data-toc-modified-id=\"Распределения-признаков-для-кластеров-4.5\"><span class=\"toc-item-num\">4.5&nbsp;&nbsp;</span>Распределения признаков для кластеров</a></span></li><li><span><a href=\"#Доля-оттока-для-кластера\" data-toc-modified-id=\"Доля-оттока-для-кластера-4.6\"><span class=\"toc-item-num\">4.6&nbsp;&nbsp;</span>Доля оттока для кластера</a></span></li></ul></li><li><span><a href=\"#Итоговый-вывод-и-рекомендации\" data-toc-modified-id=\"Итоговый-вывод-и-рекомендации-5\"><span class=\"toc-item-num\">5&nbsp;&nbsp;</span>Итоговый вывод и рекомендации</a></span></li></ul></div>"
   ]
  },
  {
   "cell_type": "code",
   "execution_count": 1,
   "metadata": {},
   "outputs": [],
   "source": [
    "# Импорт необходимых библиотек\n",
    "import pandas as pd\n",
    "import numpy as np\n",
    "import seaborn as sns; sns.set()\n",
    "import matplotlib.pyplot as plt\n",
    "from sklearn.preprocessing import StandardScaler\n",
    "from sklearn.model_selection import train_test_split\n",
    "from sklearn.linear_model import LogisticRegression\n",
    "from sklearn.tree import DecisionTreeRegressor, DecisionTreeClassifier\n",
    "from sklearn.ensemble import RandomForestRegressor, GradientBoostingRegressor\n",
    "from sklearn.ensemble import RandomForestClassifier, GradientBoostingClassifier\n",
    "from sklearn.metrics import roc_auc_score\n",
    "from sklearn.metrics import accuracy_score, precision_score, recall_score, f1_score\n",
    "from sklearn.cluster import KMeans\n",
    "from scipy.cluster.hierarchy import dendrogram, linkage"
   ]
  },
  {
   "cell_type": "code",
   "execution_count": 2,
   "metadata": {},
   "outputs": [],
   "source": [
    "# Настройки библиотек\n",
    "pd.set_option('display.float_format', lambda x: '%.2f' % x)\n",
    "pd.set_option('display.max_columns', 100)\n",
    "pd.options.display.expand_frame_repr = False\n",
    "import warnings\n",
    "warnings.simplefilter(action='ignore', category=FutureWarning)\n",
    "cm = sns.light_palette(\"brown\", as_cmap=True)"
   ]
  },
  {
   "cell_type": "markdown",
   "metadata": {},
   "source": [
    "## Загрузка и предобработка данных"
   ]
  },
  {
   "cell_type": "code",
   "execution_count": 3,
   "metadata": {},
   "outputs": [],
   "source": [
    "# Чтение данных\n",
    "df = pd.read_csv('gym_churn.csv')"
   ]
  },
  {
   "cell_type": "code",
   "execution_count": 4,
   "metadata": {},
   "outputs": [],
   "source": [
    "# Функция просмотра\n",
    "def datalook (dataset):\n",
    "    display(dataset.info())\n",
    "    display(dataset.head())\n",
    "    dataset.columns = [i.lower() for i in dataset]\n",
    "    print('Количество полных дубликатов:', dataset.duplicated().sum())\n",
    "    return"
   ]
  },
  {
   "cell_type": "code",
   "execution_count": 5,
   "metadata": {},
   "outputs": [
    {
     "name": "stdout",
     "output_type": "stream",
     "text": [
      "<class 'pandas.core.frame.DataFrame'>\n",
      "RangeIndex: 4000 entries, 0 to 3999\n",
      "Data columns (total 14 columns):\n",
      "gender                               4000 non-null int64\n",
      "Near_Location                        4000 non-null int64\n",
      "Partner                              4000 non-null int64\n",
      "Promo_friends                        4000 non-null int64\n",
      "Phone                                4000 non-null int64\n",
      "Contract_period                      4000 non-null int64\n",
      "Group_visits                         4000 non-null int64\n",
      "Age                                  4000 non-null int64\n",
      "Avg_additional_charges_total         4000 non-null float64\n",
      "Month_to_end_contract                4000 non-null float64\n",
      "Lifetime                             4000 non-null int64\n",
      "Avg_class_frequency_total            4000 non-null float64\n",
      "Avg_class_frequency_current_month    4000 non-null float64\n",
      "Churn                                4000 non-null int64\n",
      "dtypes: float64(4), int64(10)\n",
      "memory usage: 437.6 KB\n"
     ]
    },
    {
     "data": {
      "text/plain": [
       "None"
      ]
     },
     "metadata": {},
     "output_type": "display_data"
    },
    {
     "data": {
      "text/html": [
       "<div>\n",
       "<style scoped>\n",
       "    .dataframe tbody tr th:only-of-type {\n",
       "        vertical-align: middle;\n",
       "    }\n",
       "\n",
       "    .dataframe tbody tr th {\n",
       "        vertical-align: top;\n",
       "    }\n",
       "\n",
       "    .dataframe thead th {\n",
       "        text-align: right;\n",
       "    }\n",
       "</style>\n",
       "<table border=\"1\" class=\"dataframe\">\n",
       "  <thead>\n",
       "    <tr style=\"text-align: right;\">\n",
       "      <th></th>\n",
       "      <th>gender</th>\n",
       "      <th>Near_Location</th>\n",
       "      <th>Partner</th>\n",
       "      <th>Promo_friends</th>\n",
       "      <th>Phone</th>\n",
       "      <th>Contract_period</th>\n",
       "      <th>Group_visits</th>\n",
       "      <th>Age</th>\n",
       "      <th>Avg_additional_charges_total</th>\n",
       "      <th>Month_to_end_contract</th>\n",
       "      <th>Lifetime</th>\n",
       "      <th>Avg_class_frequency_total</th>\n",
       "      <th>Avg_class_frequency_current_month</th>\n",
       "      <th>Churn</th>\n",
       "    </tr>\n",
       "  </thead>\n",
       "  <tbody>\n",
       "    <tr>\n",
       "      <td>0</td>\n",
       "      <td>1</td>\n",
       "      <td>1</td>\n",
       "      <td>1</td>\n",
       "      <td>1</td>\n",
       "      <td>0</td>\n",
       "      <td>6</td>\n",
       "      <td>1</td>\n",
       "      <td>29</td>\n",
       "      <td>14.23</td>\n",
       "      <td>5.00</td>\n",
       "      <td>3</td>\n",
       "      <td>0.02</td>\n",
       "      <td>0.00</td>\n",
       "      <td>0</td>\n",
       "    </tr>\n",
       "    <tr>\n",
       "      <td>1</td>\n",
       "      <td>0</td>\n",
       "      <td>1</td>\n",
       "      <td>0</td>\n",
       "      <td>0</td>\n",
       "      <td>1</td>\n",
       "      <td>12</td>\n",
       "      <td>1</td>\n",
       "      <td>31</td>\n",
       "      <td>113.20</td>\n",
       "      <td>12.00</td>\n",
       "      <td>7</td>\n",
       "      <td>1.92</td>\n",
       "      <td>1.91</td>\n",
       "      <td>0</td>\n",
       "    </tr>\n",
       "    <tr>\n",
       "      <td>2</td>\n",
       "      <td>0</td>\n",
       "      <td>1</td>\n",
       "      <td>1</td>\n",
       "      <td>0</td>\n",
       "      <td>1</td>\n",
       "      <td>1</td>\n",
       "      <td>0</td>\n",
       "      <td>28</td>\n",
       "      <td>129.45</td>\n",
       "      <td>1.00</td>\n",
       "      <td>2</td>\n",
       "      <td>1.86</td>\n",
       "      <td>1.74</td>\n",
       "      <td>0</td>\n",
       "    </tr>\n",
       "    <tr>\n",
       "      <td>3</td>\n",
       "      <td>0</td>\n",
       "      <td>1</td>\n",
       "      <td>1</td>\n",
       "      <td>1</td>\n",
       "      <td>1</td>\n",
       "      <td>12</td>\n",
       "      <td>1</td>\n",
       "      <td>33</td>\n",
       "      <td>62.67</td>\n",
       "      <td>12.00</td>\n",
       "      <td>2</td>\n",
       "      <td>3.21</td>\n",
       "      <td>3.36</td>\n",
       "      <td>0</td>\n",
       "    </tr>\n",
       "    <tr>\n",
       "      <td>4</td>\n",
       "      <td>1</td>\n",
       "      <td>1</td>\n",
       "      <td>1</td>\n",
       "      <td>1</td>\n",
       "      <td>1</td>\n",
       "      <td>1</td>\n",
       "      <td>0</td>\n",
       "      <td>26</td>\n",
       "      <td>198.36</td>\n",
       "      <td>1.00</td>\n",
       "      <td>3</td>\n",
       "      <td>1.11</td>\n",
       "      <td>1.12</td>\n",
       "      <td>0</td>\n",
       "    </tr>\n",
       "  </tbody>\n",
       "</table>\n",
       "</div>"
      ],
      "text/plain": [
       "   gender  Near_Location  Partner  Promo_friends  Phone  Contract_period  Group_visits  Age  Avg_additional_charges_total  Month_to_end_contract  Lifetime  Avg_class_frequency_total  Avg_class_frequency_current_month  Churn\n",
       "0       1              1        1              1      0                6             1   29                         14.23                   5.00         3                       0.02                               0.00      0\n",
       "1       0              1        0              0      1               12             1   31                        113.20                  12.00         7                       1.92                               1.91      0\n",
       "2       0              1        1              0      1                1             0   28                        129.45                   1.00         2                       1.86                               1.74      0\n",
       "3       0              1        1              1      1               12             1   33                         62.67                  12.00         2                       3.21                               3.36      0\n",
       "4       1              1        1              1      1                1             0   26                        198.36                   1.00         3                       1.11                               1.12      0"
      ]
     },
     "metadata": {},
     "output_type": "display_data"
    },
    {
     "name": "stdout",
     "output_type": "stream",
     "text": [
      "Количество полных дубликатов: 0\n"
     ]
    }
   ],
   "source": [
    "# Просмотр данных\n",
    "datalook(df)"
   ]
  },
  {
   "cell_type": "code",
   "execution_count": 6,
   "metadata": {},
   "outputs": [
    {
     "data": {
      "text/html": [
       "<div>\n",
       "<style scoped>\n",
       "    .dataframe tbody tr th:only-of-type {\n",
       "        vertical-align: middle;\n",
       "    }\n",
       "\n",
       "    .dataframe tbody tr th {\n",
       "        vertical-align: top;\n",
       "    }\n",
       "\n",
       "    .dataframe thead th {\n",
       "        text-align: right;\n",
       "    }\n",
       "</style>\n",
       "<table border=\"1\" class=\"dataframe\">\n",
       "  <thead>\n",
       "    <tr style=\"text-align: right;\">\n",
       "      <th></th>\n",
       "      <th>gender</th>\n",
       "      <th>near_location</th>\n",
       "      <th>partner</th>\n",
       "      <th>promo_friends</th>\n",
       "      <th>phone</th>\n",
       "      <th>contract_period</th>\n",
       "      <th>group_visits</th>\n",
       "      <th>age</th>\n",
       "      <th>avg_additional_charges_total</th>\n",
       "      <th>month_to_end_contract</th>\n",
       "      <th>lifetime</th>\n",
       "      <th>avg_class_frequency_total</th>\n",
       "      <th>avg_class_frequency_current_month</th>\n",
       "      <th>churn</th>\n",
       "    </tr>\n",
       "  </thead>\n",
       "  <tbody>\n",
       "    <tr>\n",
       "      <td>3575</td>\n",
       "      <td>0</td>\n",
       "      <td>1</td>\n",
       "      <td>1</td>\n",
       "      <td>1</td>\n",
       "      <td>1</td>\n",
       "      <td>6</td>\n",
       "      <td>0</td>\n",
       "      <td>31</td>\n",
       "      <td>34.68</td>\n",
       "      <td>6.00</td>\n",
       "      <td>3</td>\n",
       "      <td>0.95</td>\n",
       "      <td>1.02</td>\n",
       "      <td>0</td>\n",
       "    </tr>\n",
       "  </tbody>\n",
       "</table>\n",
       "</div>"
      ],
      "text/plain": [
       "      gender  near_location  partner  promo_friends  phone  contract_period  group_visits  age  avg_additional_charges_total  month_to_end_contract  lifetime  avg_class_frequency_total  avg_class_frequency_current_month  churn\n",
       "3575       0              1        1              1      1                6             0   31                         34.68                   6.00         3                       0.95                               1.02      0"
      ]
     },
     "execution_count": 6,
     "metadata": {},
     "output_type": "execute_result"
    }
   ],
   "source": [
    "df.sample()"
   ]
  },
  {
   "cell_type": "markdown",
   "metadata": {},
   "source": [
    "**В данных 4000 записей, пропусков нет**"
   ]
  },
  {
   "cell_type": "markdown",
   "metadata": {},
   "source": [
    "## Исследовательский анализ данных"
   ]
  },
  {
   "cell_type": "markdown",
   "metadata": {},
   "source": [
    "### Описательные статистики"
   ]
  },
  {
   "cell_type": "code",
   "execution_count": 7,
   "metadata": {},
   "outputs": [
    {
     "data": {
      "text/html": [
       "<div>\n",
       "<style scoped>\n",
       "    .dataframe tbody tr th:only-of-type {\n",
       "        vertical-align: middle;\n",
       "    }\n",
       "\n",
       "    .dataframe tbody tr th {\n",
       "        vertical-align: top;\n",
       "    }\n",
       "\n",
       "    .dataframe thead th {\n",
       "        text-align: right;\n",
       "    }\n",
       "</style>\n",
       "<table border=\"1\" class=\"dataframe\">\n",
       "  <thead>\n",
       "    <tr style=\"text-align: right;\">\n",
       "      <th></th>\n",
       "      <th>count</th>\n",
       "      <th>mean</th>\n",
       "      <th>std</th>\n",
       "      <th>min</th>\n",
       "      <th>25%</th>\n",
       "      <th>50%</th>\n",
       "      <th>75%</th>\n",
       "      <th>max</th>\n",
       "    </tr>\n",
       "  </thead>\n",
       "  <tbody>\n",
       "    <tr>\n",
       "      <td>gender</td>\n",
       "      <td>4000.00</td>\n",
       "      <td>0.51</td>\n",
       "      <td>0.50</td>\n",
       "      <td>0.00</td>\n",
       "      <td>0.00</td>\n",
       "      <td>1.00</td>\n",
       "      <td>1.00</td>\n",
       "      <td>1.00</td>\n",
       "    </tr>\n",
       "    <tr>\n",
       "      <td>near_location</td>\n",
       "      <td>4000.00</td>\n",
       "      <td>0.85</td>\n",
       "      <td>0.36</td>\n",
       "      <td>0.00</td>\n",
       "      <td>1.00</td>\n",
       "      <td>1.00</td>\n",
       "      <td>1.00</td>\n",
       "      <td>1.00</td>\n",
       "    </tr>\n",
       "    <tr>\n",
       "      <td>partner</td>\n",
       "      <td>4000.00</td>\n",
       "      <td>0.49</td>\n",
       "      <td>0.50</td>\n",
       "      <td>0.00</td>\n",
       "      <td>0.00</td>\n",
       "      <td>0.00</td>\n",
       "      <td>1.00</td>\n",
       "      <td>1.00</td>\n",
       "    </tr>\n",
       "    <tr>\n",
       "      <td>promo_friends</td>\n",
       "      <td>4000.00</td>\n",
       "      <td>0.31</td>\n",
       "      <td>0.46</td>\n",
       "      <td>0.00</td>\n",
       "      <td>0.00</td>\n",
       "      <td>0.00</td>\n",
       "      <td>1.00</td>\n",
       "      <td>1.00</td>\n",
       "    </tr>\n",
       "    <tr>\n",
       "      <td>phone</td>\n",
       "      <td>4000.00</td>\n",
       "      <td>0.90</td>\n",
       "      <td>0.30</td>\n",
       "      <td>0.00</td>\n",
       "      <td>1.00</td>\n",
       "      <td>1.00</td>\n",
       "      <td>1.00</td>\n",
       "      <td>1.00</td>\n",
       "    </tr>\n",
       "    <tr>\n",
       "      <td>contract_period</td>\n",
       "      <td>4000.00</td>\n",
       "      <td>4.68</td>\n",
       "      <td>4.55</td>\n",
       "      <td>1.00</td>\n",
       "      <td>1.00</td>\n",
       "      <td>1.00</td>\n",
       "      <td>6.00</td>\n",
       "      <td>12.00</td>\n",
       "    </tr>\n",
       "    <tr>\n",
       "      <td>group_visits</td>\n",
       "      <td>4000.00</td>\n",
       "      <td>0.41</td>\n",
       "      <td>0.49</td>\n",
       "      <td>0.00</td>\n",
       "      <td>0.00</td>\n",
       "      <td>0.00</td>\n",
       "      <td>1.00</td>\n",
       "      <td>1.00</td>\n",
       "    </tr>\n",
       "    <tr>\n",
       "      <td>age</td>\n",
       "      <td>4000.00</td>\n",
       "      <td>29.18</td>\n",
       "      <td>3.26</td>\n",
       "      <td>18.00</td>\n",
       "      <td>27.00</td>\n",
       "      <td>29.00</td>\n",
       "      <td>31.00</td>\n",
       "      <td>41.00</td>\n",
       "    </tr>\n",
       "    <tr>\n",
       "      <td>avg_additional_charges_total</td>\n",
       "      <td>4000.00</td>\n",
       "      <td>146.94</td>\n",
       "      <td>96.36</td>\n",
       "      <td>0.15</td>\n",
       "      <td>68.87</td>\n",
       "      <td>136.22</td>\n",
       "      <td>210.95</td>\n",
       "      <td>552.59</td>\n",
       "    </tr>\n",
       "    <tr>\n",
       "      <td>month_to_end_contract</td>\n",
       "      <td>4000.00</td>\n",
       "      <td>4.32</td>\n",
       "      <td>4.19</td>\n",
       "      <td>1.00</td>\n",
       "      <td>1.00</td>\n",
       "      <td>1.00</td>\n",
       "      <td>6.00</td>\n",
       "      <td>12.00</td>\n",
       "    </tr>\n",
       "    <tr>\n",
       "      <td>lifetime</td>\n",
       "      <td>4000.00</td>\n",
       "      <td>3.72</td>\n",
       "      <td>3.75</td>\n",
       "      <td>0.00</td>\n",
       "      <td>1.00</td>\n",
       "      <td>3.00</td>\n",
       "      <td>5.00</td>\n",
       "      <td>31.00</td>\n",
       "    </tr>\n",
       "    <tr>\n",
       "      <td>avg_class_frequency_total</td>\n",
       "      <td>4000.00</td>\n",
       "      <td>1.88</td>\n",
       "      <td>0.97</td>\n",
       "      <td>0.00</td>\n",
       "      <td>1.18</td>\n",
       "      <td>1.83</td>\n",
       "      <td>2.54</td>\n",
       "      <td>6.02</td>\n",
       "    </tr>\n",
       "    <tr>\n",
       "      <td>avg_class_frequency_current_month</td>\n",
       "      <td>4000.00</td>\n",
       "      <td>1.77</td>\n",
       "      <td>1.05</td>\n",
       "      <td>0.00</td>\n",
       "      <td>0.96</td>\n",
       "      <td>1.72</td>\n",
       "      <td>2.51</td>\n",
       "      <td>6.15</td>\n",
       "    </tr>\n",
       "    <tr>\n",
       "      <td>churn</td>\n",
       "      <td>4000.00</td>\n",
       "      <td>0.27</td>\n",
       "      <td>0.44</td>\n",
       "      <td>0.00</td>\n",
       "      <td>0.00</td>\n",
       "      <td>0.00</td>\n",
       "      <td>1.00</td>\n",
       "      <td>1.00</td>\n",
       "    </tr>\n",
       "  </tbody>\n",
       "</table>\n",
       "</div>"
      ],
      "text/plain": [
       "                                    count   mean   std   min   25%    50%    75%    max\n",
       "gender                            4000.00   0.51  0.50  0.00  0.00   1.00   1.00   1.00\n",
       "near_location                     4000.00   0.85  0.36  0.00  1.00   1.00   1.00   1.00\n",
       "partner                           4000.00   0.49  0.50  0.00  0.00   0.00   1.00   1.00\n",
       "promo_friends                     4000.00   0.31  0.46  0.00  0.00   0.00   1.00   1.00\n",
       "phone                             4000.00   0.90  0.30  0.00  1.00   1.00   1.00   1.00\n",
       "contract_period                   4000.00   4.68  4.55  1.00  1.00   1.00   6.00  12.00\n",
       "group_visits                      4000.00   0.41  0.49  0.00  0.00   0.00   1.00   1.00\n",
       "age                               4000.00  29.18  3.26 18.00 27.00  29.00  31.00  41.00\n",
       "avg_additional_charges_total      4000.00 146.94 96.36  0.15 68.87 136.22 210.95 552.59\n",
       "month_to_end_contract             4000.00   4.32  4.19  1.00  1.00   1.00   6.00  12.00\n",
       "lifetime                          4000.00   3.72  3.75  0.00  1.00   3.00   5.00  31.00\n",
       "avg_class_frequency_total         4000.00   1.88  0.97  0.00  1.18   1.83   2.54   6.02\n",
       "avg_class_frequency_current_month 4000.00   1.77  1.05  0.00  0.96   1.72   2.51   6.15\n",
       "churn                             4000.00   0.27  0.44  0.00  0.00   0.00   1.00   1.00"
      ]
     },
     "execution_count": 7,
     "metadata": {},
     "output_type": "execute_result"
    }
   ],
   "source": [
    "df.describe().T"
   ]
  },
  {
   "cell_type": "markdown",
   "metadata": {},
   "source": [
    "**Из 4000 клиентов в отток попало 27%:**\n",
    "\n",
    "<br> **- Мужчин и женщин в выборке примерно равное число. \n",
    "<br> - Средний возраст клиента 29 лет.\n",
    "<br> - 85% клиентов часто находятся недалеко от фитнес-клуба.\n",
    "<br> - 49% работают в одной из компаний-партнере.\n",
    "<br> - 31% пришли по акции \"Приведи друга\".\n",
    "<br> - 41% посещают групповые занятия.\n",
    "<br> - В среднем клиент посещает зал 1,7 раз в неделю.**"
   ]
  },
  {
   "cell_type": "markdown",
   "metadata": {},
   "source": [
    "### Средние различия в группах ушедших и оставшихся клиентов"
   ]
  },
  {
   "cell_type": "code",
   "execution_count": 8,
   "metadata": {},
   "outputs": [],
   "source": [
    "# Функция подсветки\n",
    "def mean_check(s):\n",
    "    is_min = s == s.min()\n",
    "    return ['background-color: pink' if v else '' for v in is_min]"
   ]
  },
  {
   "cell_type": "code",
   "execution_count": 9,
   "metadata": {},
   "outputs": [
    {
     "data": {
      "text/html": [
       "<style  type=\"text/css\" >\n",
       "    #T_b339f2e0_21ad_11ec_af59_02420a3901d2row0_col0 {\n",
       "            background-color:  pink;\n",
       "        }    #T_b339f2e0_21ad_11ec_af59_02420a3901d2row1_col1 {\n",
       "            background-color:  pink;\n",
       "        }    #T_b339f2e0_21ad_11ec_af59_02420a3901d2row2_col1 {\n",
       "            background-color:  pink;\n",
       "        }    #T_b339f2e0_21ad_11ec_af59_02420a3901d2row3_col1 {\n",
       "            background-color:  pink;\n",
       "        }    #T_b339f2e0_21ad_11ec_af59_02420a3901d2row4_col1 {\n",
       "            background-color:  pink;\n",
       "        }    #T_b339f2e0_21ad_11ec_af59_02420a3901d2row5_col1 {\n",
       "            background-color:  pink;\n",
       "        }    #T_b339f2e0_21ad_11ec_af59_02420a3901d2row6_col1 {\n",
       "            background-color:  pink;\n",
       "        }    #T_b339f2e0_21ad_11ec_af59_02420a3901d2row7_col1 {\n",
       "            background-color:  pink;\n",
       "        }    #T_b339f2e0_21ad_11ec_af59_02420a3901d2row8_col1 {\n",
       "            background-color:  pink;\n",
       "        }    #T_b339f2e0_21ad_11ec_af59_02420a3901d2row9_col1 {\n",
       "            background-color:  pink;\n",
       "        }    #T_b339f2e0_21ad_11ec_af59_02420a3901d2row10_col1 {\n",
       "            background-color:  pink;\n",
       "        }    #T_b339f2e0_21ad_11ec_af59_02420a3901d2row11_col1 {\n",
       "            background-color:  pink;\n",
       "        }    #T_b339f2e0_21ad_11ec_af59_02420a3901d2row12_col1 {\n",
       "            background-color:  pink;\n",
       "        }</style><table id=\"T_b339f2e0_21ad_11ec_af59_02420a3901d2\" ><thead>    <tr>        <th class=\"index_name level0\" >churn</th>        <th class=\"col_heading level0 col0\" >0</th>        <th class=\"col_heading level0 col1\" >1</th>    </tr></thead><tbody>\n",
       "                <tr>\n",
       "                        <th id=\"T_b339f2e0_21ad_11ec_af59_02420a3901d2level0_row0\" class=\"row_heading level0 row0\" >gender</th>\n",
       "                        <td id=\"T_b339f2e0_21ad_11ec_af59_02420a3901d2row0_col0\" class=\"data row0 col0\" >0.510037</td>\n",
       "                        <td id=\"T_b339f2e0_21ad_11ec_af59_02420a3901d2row0_col1\" class=\"data row0 col1\" >0.510839</td>\n",
       "            </tr>\n",
       "            <tr>\n",
       "                        <th id=\"T_b339f2e0_21ad_11ec_af59_02420a3901d2level0_row1\" class=\"row_heading level0 row1\" >near_location</th>\n",
       "                        <td id=\"T_b339f2e0_21ad_11ec_af59_02420a3901d2row1_col0\" class=\"data row1 col0\" >0.873086</td>\n",
       "                        <td id=\"T_b339f2e0_21ad_11ec_af59_02420a3901d2row1_col1\" class=\"data row1 col1\" >0.768143</td>\n",
       "            </tr>\n",
       "            <tr>\n",
       "                        <th id=\"T_b339f2e0_21ad_11ec_af59_02420a3901d2level0_row2\" class=\"row_heading level0 row2\" >partner</th>\n",
       "                        <td id=\"T_b339f2e0_21ad_11ec_af59_02420a3901d2row2_col0\" class=\"data row2 col0\" >0.534195</td>\n",
       "                        <td id=\"T_b339f2e0_21ad_11ec_af59_02420a3901d2row2_col1\" class=\"data row2 col1\" >0.355325</td>\n",
       "            </tr>\n",
       "            <tr>\n",
       "                        <th id=\"T_b339f2e0_21ad_11ec_af59_02420a3901d2level0_row3\" class=\"row_heading level0 row3\" >promo_friends</th>\n",
       "                        <td id=\"T_b339f2e0_21ad_11ec_af59_02420a3901d2row3_col0\" class=\"data row3 col0\" >0.353522</td>\n",
       "                        <td id=\"T_b339f2e0_21ad_11ec_af59_02420a3901d2row3_col1\" class=\"data row3 col1\" >0.183789</td>\n",
       "            </tr>\n",
       "            <tr>\n",
       "                        <th id=\"T_b339f2e0_21ad_11ec_af59_02420a3901d2level0_row4\" class=\"row_heading level0 row4\" >phone</th>\n",
       "                        <td id=\"T_b339f2e0_21ad_11ec_af59_02420a3901d2row4_col0\" class=\"data row4 col0\" >0.903709</td>\n",
       "                        <td id=\"T_b339f2e0_21ad_11ec_af59_02420a3901d2row4_col1\" class=\"data row4 col1\" >0.902922</td>\n",
       "            </tr>\n",
       "            <tr>\n",
       "                        <th id=\"T_b339f2e0_21ad_11ec_af59_02420a3901d2level0_row5\" class=\"row_heading level0 row5\" >contract_period</th>\n",
       "                        <td id=\"T_b339f2e0_21ad_11ec_af59_02420a3901d2row5_col0\" class=\"data row5 col0\" >5.74719</td>\n",
       "                        <td id=\"T_b339f2e0_21ad_11ec_af59_02420a3901d2row5_col1\" class=\"data row5 col1\" >1.72856</td>\n",
       "            </tr>\n",
       "            <tr>\n",
       "                        <th id=\"T_b339f2e0_21ad_11ec_af59_02420a3901d2level0_row6\" class=\"row_heading level0 row6\" >group_visits</th>\n",
       "                        <td id=\"T_b339f2e0_21ad_11ec_af59_02420a3901d2row6_col0\" class=\"data row6 col0\" >0.464103</td>\n",
       "                        <td id=\"T_b339f2e0_21ad_11ec_af59_02420a3901d2row6_col1\" class=\"data row6 col1\" >0.268615</td>\n",
       "            </tr>\n",
       "            <tr>\n",
       "                        <th id=\"T_b339f2e0_21ad_11ec_af59_02420a3901d2level0_row7\" class=\"row_heading level0 row7\" >age</th>\n",
       "                        <td id=\"T_b339f2e0_21ad_11ec_af59_02420a3901d2row7_col0\" class=\"data row7 col0\" >29.9765</td>\n",
       "                        <td id=\"T_b339f2e0_21ad_11ec_af59_02420a3901d2row7_col1\" class=\"data row7 col1\" >26.9896</td>\n",
       "            </tr>\n",
       "            <tr>\n",
       "                        <th id=\"T_b339f2e0_21ad_11ec_af59_02420a3901d2level0_row8\" class=\"row_heading level0 row8\" >avg_additional_charges_total</th>\n",
       "                        <td id=\"T_b339f2e0_21ad_11ec_af59_02420a3901d2row8_col0\" class=\"data row8 col0\" >158.446</td>\n",
       "                        <td id=\"T_b339f2e0_21ad_11ec_af59_02420a3901d2row8_col1\" class=\"data row8 col1\" >115.083</td>\n",
       "            </tr>\n",
       "            <tr>\n",
       "                        <th id=\"T_b339f2e0_21ad_11ec_af59_02420a3901d2level0_row9\" class=\"row_heading level0 row9\" >month_to_end_contract</th>\n",
       "                        <td id=\"T_b339f2e0_21ad_11ec_af59_02420a3901d2row9_col0\" class=\"data row9 col0\" >5.28309</td>\n",
       "                        <td id=\"T_b339f2e0_21ad_11ec_af59_02420a3901d2row9_col1\" class=\"data row9 col1\" >1.66258</td>\n",
       "            </tr>\n",
       "            <tr>\n",
       "                        <th id=\"T_b339f2e0_21ad_11ec_af59_02420a3901d2level0_row10\" class=\"row_heading level0 row10\" >lifetime</th>\n",
       "                        <td id=\"T_b339f2e0_21ad_11ec_af59_02420a3901d2row10_col0\" class=\"data row10 col0\" >4.71181</td>\n",
       "                        <td id=\"T_b339f2e0_21ad_11ec_af59_02420a3901d2row10_col1\" class=\"data row10 col1\" >0.990575</td>\n",
       "            </tr>\n",
       "            <tr>\n",
       "                        <th id=\"T_b339f2e0_21ad_11ec_af59_02420a3901d2level0_row11\" class=\"row_heading level0 row11\" >avg_class_frequency_total</th>\n",
       "                        <td id=\"T_b339f2e0_21ad_11ec_af59_02420a3901d2row11_col0\" class=\"data row11 col0\" >2.02488</td>\n",
       "                        <td id=\"T_b339f2e0_21ad_11ec_af59_02420a3901d2row11_col1\" class=\"data row11 col1\" >1.47499</td>\n",
       "            </tr>\n",
       "            <tr>\n",
       "                        <th id=\"T_b339f2e0_21ad_11ec_af59_02420a3901d2level0_row12\" class=\"row_heading level0 row12\" >avg_class_frequency_current_month</th>\n",
       "                        <td id=\"T_b339f2e0_21ad_11ec_af59_02420a3901d2row12_col0\" class=\"data row12 col0\" >2.02788</td>\n",
       "                        <td id=\"T_b339f2e0_21ad_11ec_af59_02420a3901d2row12_col1\" class=\"data row12 col1\" >1.04455</td>\n",
       "            </tr>\n",
       "    </tbody></table>"
      ],
      "text/plain": [
       "<pandas.io.formats.style.Styler at 0x7f8983f2a490>"
      ]
     },
     "execution_count": 9,
     "metadata": {},
     "output_type": "execute_result"
    }
   ],
   "source": [
    "# Группировка средних по статусу оттока\n",
    "df.groupby('churn').agg('mean').T.style.apply(mean_check, axis = 1)"
   ]
  },
  {
   "cell_type": "markdown",
   "metadata": {},
   "source": [
    "**Клиенты в оттоке:**\n",
    "\n",
    "<br>**- более молодого возраста\n",
    "<br>- покупают более краткосрочный абонемент\n",
    "<br>- в два раза меньше посещают груповые занятия\n",
    "<br>- почти на треть тратят меньше\n",
    "<br>- за предыдущий месяц вдвое реже посещают зал**"
   ]
  },
  {
   "cell_type": "markdown",
   "metadata": {},
   "source": [
    "### Распределение признаков"
   ]
  },
  {
   "cell_type": "code",
   "execution_count": 10,
   "metadata": {},
   "outputs": [],
   "source": [
    "# Разбивка данных по признаку оттока\n",
    "left_clients = df.query('churn == 1')\n",
    "stayed_clients = df.query('churn == 0')"
   ]
  },
  {
   "cell_type": "code",
   "execution_count": 11,
   "metadata": {},
   "outputs": [],
   "source": [
    "# Выделение категориальных признаков\n",
    "cat_columns = ['gender',\n",
    "               'near_location',\n",
    "               'partner',\n",
    "               'promo_friends',\n",
    "               'phone',\n",
    "               'contract_period',\n",
    "               'group_visits' ]"
   ]
  },
  {
   "cell_type": "code",
   "execution_count": 12,
   "metadata": {},
   "outputs": [],
   "source": [
    "# Выделение числовых признаков\n",
    "data_columns = ['age',\n",
    "                'avg_additional_charges_total',\n",
    "                'month_to_end_contract',\n",
    "                'lifetime',\n",
    "                'avg_class_frequency_total',\n",
    "                'avg_class_frequency_current_month']"
   ]
  },
  {
   "cell_type": "code",
   "execution_count": 13,
   "metadata": {
    "scrolled": false
   },
   "outputs": [
    {
     "data": {
      "image/png": "[encoded data removed]",
      "text/plain": [
       "<Figure size 720x288 with 1 Axes>"
      ]
     },
     "metadata": {},
     "output_type": "display_data"
    },
    {
     "data": {
      "image/png": "[encoded data removed]",
      "text/plain": [
       "<Figure size 720x288 with 1 Axes>"
      ]
     },
     "metadata": {},
     "output_type": "display_data"
    },
    {
     "data": {
      "image/png": "[encoded data removed]",
      "text/plain": [
       "<Figure size 720x288 with 1 Axes>"
      ]
     },
     "metadata": {},
     "output_type": "display_data"
    },
    {
     "data": {
      "image/png": "[encoded data removed]",
      "text/plain": [
       "<Figure size 720x288 with 1 Axes>"
      ]
     },
     "metadata": {},
     "output_type": "display_data"
    },
    {
     "data": {
      "image/png": "[encoded data removed]",
      "text/plain": [
       "<Figure size 720x288 with 1 Axes>"
      ]
     },
     "metadata": {},
     "output_type": "display_data"
    },
    {
     "data": {
      "image/png": "[encoded data removed]",
      "text/plain": [
       "<Figure size 720x288 with 1 Axes>"
      ]
     },
     "metadata": {},
     "output_type": "display_data"
    }
   ],
   "source": [
    "for column in data_columns:\n",
    "    plt.figure(figsize=(10,4)) \n",
    "    plt.title(f\"Распределение {column}\")\n",
    "    sns.distplot(left_clients[column])\n",
    "    sns.distplot(stayed_clients[column])\n",
    "    plt.legend(['Отток', 'Оставшиеся'])\n",
    "    plt.show()"
   ]
  },
  {
   "cell_type": "markdown",
   "metadata": {},
   "source": [
    "**По распределению признаков клиенты в оттоке:**\n",
    "\n",
    "<br>**- в основном покупают месячный абонемент\n",
    "<br>- новые клиенты, после пяти месяцев отток стремится к нулю\n",
    "<br>- ходят один - два раза в неделю\n",
    "<br>- не посещают ни одного занятия**"
   ]
  },
  {
   "cell_type": "code",
   "execution_count": 14,
   "metadata": {
    "scrolled": false
   },
   "outputs": [
    {
     "data": {
      "image/png": "[encoded data removed]",
      "text/plain": [
       "<Figure size 720x288 with 1 Axes>"
      ]
     },
     "metadata": {},
     "output_type": "display_data"
    },
    {
     "data": {
      "image/png": "[encoded data removed]",
      "text/plain": [
       "<Figure size 720x288 with 1 Axes>"
      ]
     },
     "metadata": {},
     "output_type": "display_data"
    },
    {
     "data": {
      "image/png": "[encoded data removed]",
      "text/plain": [
       "<Figure size 720x288 with 1 Axes>"
      ]
     },
     "metadata": {},
     "output_type": "display_data"
    },
    {
     "data": {
      "image/png": "[encoded data removed]",
      "text/plain": [
       "<Figure size 720x288 with 1 Axes>"
      ]
     },
     "metadata": {},
     "output_type": "display_data"
    },
    {
     "data": {
      "image/png": "[encoded data removed]",
      "text/plain": [
       "<Figure size 720x288 with 1 Axes>"
      ]
     },
     "metadata": {},
     "output_type": "display_data"
    },
    {
     "data": {
      "image/png": "[encoded data removed]",
      "text/plain": [
       "<Figure size 720x288 with 1 Axes>"
      ]
     },
     "metadata": {},
     "output_type": "display_data"
    },
    {
     "data": {
      "image/png": "[encoded data removed]",
      "text/plain": [
       "<Figure size 720x288 with 1 Axes>"
      ]
     },
     "metadata": {},
     "output_type": "display_data"
    }
   ],
   "source": [
    "for column in cat_columns:\n",
    "    plt.figure(figsize=(10,4)) \n",
    "    sns.countplot(x = df[column], hue='churn', data=df)\n",
    "    plt.title(f\"Распределение {column}\")\n",
    "    plt.legend(['Оставшиеся', 'Отток'])\n",
    "    plt.show()"
   ]
  },
  {
   "cell_type": "markdown",
   "metadata": {},
   "source": [
    "**После визуализации бинарных признаков показатели оттока ниже в группе клиентов, которые:**\n",
    "\n",
    "<br>**- живут или работают недалеко от фитнес-клуба \n",
    "<br>- воспользовались по промо-акции\n",
    "<br>- покупают более длительные абонементы\n",
    "<br>- посещают групповые занятия.**"
   ]
  },
  {
   "cell_type": "markdown",
   "metadata": {},
   "source": [
    "### Матрица корреляции признаков"
   ]
  },
  {
   "cell_type": "code",
   "execution_count": 15,
   "metadata": {},
   "outputs": [
    {
     "data": {
      "image/png": "[encoded data removed]",
      "text/plain": [
       "<Figure size 1440x720 with 2 Axes>"
      ]
     },
     "metadata": {},
     "output_type": "display_data"
    }
   ],
   "source": [
    "# Построение матрицы\n",
    "sns.set(font_scale=0.9)\n",
    "plt.figure(figsize=(20,10))\n",
    "sns.heatmap(data = df.corr(), annot=True, fmt = '0.2f', linewidths=.5, cmap=cm, vmin=0, vmax=0.8)\n",
    "plt.title('Матрица корреляций')\n",
    "plt.show()    "
   ]
  },
  {
   "cell_type": "markdown",
   "metadata": {},
   "source": [
    "**Сильную корреляцию имеют 2 пары признаков:**\n",
    "\n",
    "<br>**- период абонемента и количество оставшихся месяцев до конца абонемента\n",
    "<br>- среднее число посещений в неделю за последний месяц и среднее число посещений в неделю с начала действия абонемента.**\n",
    "\n",
    "<br>**Довольно сильная взаимосвязь этих признаков логически обоснована. Практически не влияют на отток пол и наличие телефона в анкете.**"
   ]
  },
  {
   "cell_type": "markdown",
   "metadata": {},
   "source": [
    "## Построение модели прогнозирования оттока клиентов"
   ]
  },
  {
   "cell_type": "markdown",
   "metadata": {},
   "source": [
    "### Подготовка выборок для обучения"
   ]
  },
  {
   "cell_type": "code",
   "execution_count": 16,
   "metadata": {},
   "outputs": [],
   "source": [
    "# Разделение матрицу признаков и целевую переменную\n",
    "X = df.drop(['churn'], axis = 1)\n",
    "y = df['churn']"
   ]
  },
  {
   "cell_type": "code",
   "execution_count": 17,
   "metadata": {},
   "outputs": [],
   "source": [
    "# Разделение на обучающую и валидационную выборку\n",
    "X_train, X_test, y_train, y_test = train_test_split(X, y, test_size=0.2, random_state=0)"
   ]
  },
  {
   "cell_type": "markdown",
   "metadata": {},
   "source": [
    "### Логистическая регрессия"
   ]
  },
  {
   "cell_type": "code",
   "execution_count": 18,
   "metadata": {},
   "outputs": [
    {
     "data": {
      "text/plain": [
       "LogisticRegression(C=1.0, class_weight=None, dual=False, fit_intercept=True,\n",
       "                   intercept_scaling=1, l1_ratio=None, max_iter=100,\n",
       "                   multi_class='warn', n_jobs=None, penalty='l2',\n",
       "                   random_state=0, solver='warn', tol=0.0001, verbose=0,\n",
       "                   warm_start=False)"
      ]
     },
     "execution_count": 18,
     "metadata": {},
     "output_type": "execute_result"
    }
   ],
   "source": [
    "# Обучение модели логистической регрессией\n",
    "lr_model = LogisticRegression(random_state = 0)\n",
    "lr_model.fit(X_train, y_train)"
   ]
  },
  {
   "cell_type": "code",
   "execution_count": 19,
   "metadata": {},
   "outputs": [],
   "source": [
    "# Валидация\n",
    "lr_predictions = lr_model.predict(X_test) \n",
    "lr_probabilities = lr_model.predict_proba(X_test)[:,1]"
   ]
  },
  {
   "cell_type": "markdown",
   "metadata": {},
   "source": [
    "### Случайный лес"
   ]
  },
  {
   "cell_type": "code",
   "execution_count": 20,
   "metadata": {},
   "outputs": [
    {
     "data": {
      "text/plain": [
       "RandomForestClassifier(bootstrap=True, class_weight=None, criterion='gini',\n",
       "                       max_depth=None, max_features='auto', max_leaf_nodes=None,\n",
       "                       min_impurity_decrease=0.0, min_impurity_split=None,\n",
       "                       min_samples_leaf=1, min_samples_split=2,\n",
       "                       min_weight_fraction_leaf=0.0, n_estimators=100,\n",
       "                       n_jobs=None, oob_score=False, random_state=0, verbose=0,\n",
       "                       warm_start=False)"
      ]
     },
     "execution_count": 20,
     "metadata": {},
     "output_type": "execute_result"
    }
   ],
   "source": [
    "# Обучение модели случайный лес\n",
    "rf_model = RandomForestClassifier(n_estimators = 100, random_state = 0)\n",
    "rf_model.fit(X_train, y_train)"
   ]
  },
  {
   "cell_type": "code",
   "execution_count": 21,
   "metadata": {},
   "outputs": [],
   "source": [
    "# Валидация\n",
    "rf_predictions = rf_model.predict(X_test)\n",
    "rf_probabilities = rf_model.predict_proba(X_test)[:,1]"
   ]
  },
  {
   "cell_type": "markdown",
   "metadata": {},
   "source": [
    "### Расчет метрик и выбор лучшей модели"
   ]
  },
  {
   "cell_type": "code",
   "execution_count": 22,
   "metadata": {},
   "outputs": [],
   "source": [
    "# Функция метрик для логистической регрессии\n",
    "def print_all_metrics(y_true, y_pred, y_proba, title = 'Метрики классификации'):\n",
    "    print(title)\n",
    "    print('\\tAccuracy: {:.2f}'.format(accuracy_score(y_true, y_pred)))\n",
    "    print('\\tPrecision: {:.2f}'.format(precision_score(y_true, y_pred)))\n",
    "    print('\\tRecall: {:.2f}'.format(recall_score(y_true, y_pred)))\n",
    "    print('\\tF1: {:.2f}'.format(f1_score(y_true, y_pred)))\n",
    "    print('\\tROC_AUC: {:.2f}'.format(roc_auc_score(y_true, y_proba)))"
   ]
  },
  {
   "cell_type": "code",
   "execution_count": 23,
   "metadata": {},
   "outputs": [
    {
     "name": "stdout",
     "output_type": "stream",
     "text": [
      "Метрики для модели логистической регрессии:\n",
      "\tAccuracy: 0.93\n",
      "\tPrecision: 0.86\n",
      "\tRecall: 0.83\n",
      "\tF1: 0.85\n",
      "\tROC_AUC: 0.97\n"
     ]
    }
   ],
   "source": [
    "# Вывод метрик логистической регрессии\n",
    "print_all_metrics(y_test, lr_predictions, lr_probabilities , title='Метрики для модели логистической регрессии:')"
   ]
  },
  {
   "cell_type": "code",
   "execution_count": 24,
   "metadata": {},
   "outputs": [
    {
     "name": "stdout",
     "output_type": "stream",
     "text": [
      "Метрики для модели случайного леса:\n",
      "\tAccuracy: 0.92\n",
      "\tPrecision: 0.84\n",
      "\tRecall: 0.82\n",
      "\tF1: 0.83\n",
      "\tROC_AUC: 0.97\n"
     ]
    }
   ],
   "source": [
    "# Вывод метрик случайного леса\n",
    "print_all_metrics(y_test, rf_predictions, rf_probabilities, title = 'Метрики для модели случайного леса:')"
   ]
  },
  {
   "cell_type": "markdown",
   "metadata": {},
   "source": [
    "**Метрики двух примененных алгоритмов похожи, логистическая регрессия чуть впереди по всем метрикам кроме ROC_AUC, возможно оценить важность признаков по степени влияния на показатель оттока**"
   ]
  },
  {
   "cell_type": "code",
   "execution_count": 25,
   "metadata": {},
   "outputs": [
    {
     "data": {
      "text/html": [
       "<style  type=\"text/css\" >\n",
       "    #T_b8df3b4c_21ad_11ec_af59_02420a3901d2row0_col2 {\n",
       "            background-color:  #a52a2a;\n",
       "            color:  #f1f1f1;\n",
       "        }    #T_b8df3b4c_21ad_11ec_af59_02420a3901d2row1_col2 {\n",
       "            background-color:  #b34a4a;\n",
       "            color:  #f1f1f1;\n",
       "        }    #T_b8df3b4c_21ad_11ec_af59_02420a3901d2row2_col2 {\n",
       "            background-color:  #e6bebe;\n",
       "            color:  #000000;\n",
       "        }    #T_b8df3b4c_21ad_11ec_af59_02420a3901d2row3_col2 {\n",
       "            background-color:  #eccaca;\n",
       "            color:  #000000;\n",
       "        }    #T_b8df3b4c_21ad_11ec_af59_02420a3901d2row4_col2 {\n",
       "            background-color:  #eecfcf;\n",
       "            color:  #000000;\n",
       "        }    #T_b8df3b4c_21ad_11ec_af59_02420a3901d2row5_col2 {\n",
       "            background-color:  #efd1d1;\n",
       "            color:  #000000;\n",
       "        }    #T_b8df3b4c_21ad_11ec_af59_02420a3901d2row6_col2 {\n",
       "            background-color:  #f6e2e2;\n",
       "            color:  #000000;\n",
       "        }    #T_b8df3b4c_21ad_11ec_af59_02420a3901d2row7_col2 {\n",
       "            background-color:  #f6e3e3;\n",
       "            color:  #000000;\n",
       "        }    #T_b8df3b4c_21ad_11ec_af59_02420a3901d2row8_col2 {\n",
       "            background-color:  #f9e8e8;\n",
       "            color:  #000000;\n",
       "        }    #T_b8df3b4c_21ad_11ec_af59_02420a3901d2row9_col2 {\n",
       "            background-color:  #f9e9e9;\n",
       "            color:  #000000;\n",
       "        }    #T_b8df3b4c_21ad_11ec_af59_02420a3901d2row10_col2 {\n",
       "            background-color:  #f9e9e9;\n",
       "            color:  #000000;\n",
       "        }    #T_b8df3b4c_21ad_11ec_af59_02420a3901d2row11_col2 {\n",
       "            background-color:  #f9e9e9;\n",
       "            color:  #000000;\n",
       "        }    #T_b8df3b4c_21ad_11ec_af59_02420a3901d2row12_col2 {\n",
       "            background-color:  #faebeb;\n",
       "            color:  #000000;\n",
       "        }</style><table id=\"T_b8df3b4c_21ad_11ec_af59_02420a3901d2\" ><thead>    <tr>        <th class=\"blank level0\" ></th>        <th class=\"col_heading level0 col0\" >feature</th>        <th class=\"col_heading level0 col1\" >coef</th>        <th class=\"col_heading level0 col2\" >coef_abs</th>    </tr></thead><tbody>\n",
       "                <tr>\n",
       "                        <th id=\"T_b8df3b4c_21ad_11ec_af59_02420a3901d2level0_row0\" class=\"row_heading level0 row0\" >12</th>\n",
       "                        <td id=\"T_b8df3b4c_21ad_11ec_af59_02420a3901d2row0_col0\" class=\"data row0 col0\" >avg_class_frequency_current_month</td>\n",
       "                        <td id=\"T_b8df3b4c_21ad_11ec_af59_02420a3901d2row0_col1\" class=\"data row0 col1\" >-4.16198</td>\n",
       "                        <td id=\"T_b8df3b4c_21ad_11ec_af59_02420a3901d2row0_col2\" class=\"data row0 col2\" >4.16198</td>\n",
       "            </tr>\n",
       "            <tr>\n",
       "                        <th id=\"T_b8df3b4c_21ad_11ec_af59_02420a3901d2level0_row1\" class=\"row_heading level0 row1\" >11</th>\n",
       "                        <td id=\"T_b8df3b4c_21ad_11ec_af59_02420a3901d2row1_col0\" class=\"data row1 col0\" >avg_class_frequency_total</td>\n",
       "                        <td id=\"T_b8df3b4c_21ad_11ec_af59_02420a3901d2row1_col1\" class=\"data row1 col1\" >3.47085</td>\n",
       "                        <td id=\"T_b8df3b4c_21ad_11ec_af59_02420a3901d2row1_col2\" class=\"data row1 col2\" >3.47085</td>\n",
       "            </tr>\n",
       "            <tr>\n",
       "                        <th id=\"T_b8df3b4c_21ad_11ec_af59_02420a3901d2level0_row2\" class=\"row_heading level0 row2\" >10</th>\n",
       "                        <td id=\"T_b8df3b4c_21ad_11ec_af59_02420a3901d2row2_col0\" class=\"data row2 col0\" >lifetime</td>\n",
       "                        <td id=\"T_b8df3b4c_21ad_11ec_af59_02420a3901d2row2_col1\" class=\"data row2 col1\" >-0.972874</td>\n",
       "                        <td id=\"T_b8df3b4c_21ad_11ec_af59_02420a3901d2row2_col2\" class=\"data row2 col2\" >0.972874</td>\n",
       "            </tr>\n",
       "            <tr>\n",
       "                        <th id=\"T_b8df3b4c_21ad_11ec_af59_02420a3901d2level0_row3\" class=\"row_heading level0 row3\" >6</th>\n",
       "                        <td id=\"T_b8df3b4c_21ad_11ec_af59_02420a3901d2row3_col0\" class=\"data row3 col0\" >group_visits</td>\n",
       "                        <td id=\"T_b8df3b4c_21ad_11ec_af59_02420a3901d2row3_col1\" class=\"data row3 col1\" >-0.712743</td>\n",
       "                        <td id=\"T_b8df3b4c_21ad_11ec_af59_02420a3901d2row3_col2\" class=\"data row3 col2\" >0.712743</td>\n",
       "            </tr>\n",
       "            <tr>\n",
       "                        <th id=\"T_b8df3b4c_21ad_11ec_af59_02420a3901d2level0_row4\" class=\"row_heading level0 row4\" >4</th>\n",
       "                        <td id=\"T_b8df3b4c_21ad_11ec_af59_02420a3901d2row4_col0\" class=\"data row4 col0\" >phone</td>\n",
       "                        <td id=\"T_b8df3b4c_21ad_11ec_af59_02420a3901d2row4_col1\" class=\"data row4 col1\" >0.611301</td>\n",
       "                        <td id=\"T_b8df3b4c_21ad_11ec_af59_02420a3901d2row4_col2\" class=\"data row4 col2\" >0.611301</td>\n",
       "            </tr>\n",
       "            <tr>\n",
       "                        <th id=\"T_b8df3b4c_21ad_11ec_af59_02420a3901d2level0_row5\" class=\"row_heading level0 row5\" >3</th>\n",
       "                        <td id=\"T_b8df3b4c_21ad_11ec_af59_02420a3901d2row5_col0\" class=\"data row5 col0\" >promo_friends</td>\n",
       "                        <td id=\"T_b8df3b4c_21ad_11ec_af59_02420a3901d2row5_col1\" class=\"data row5 col1\" >-0.568434</td>\n",
       "                        <td id=\"T_b8df3b4c_21ad_11ec_af59_02420a3901d2row5_col2\" class=\"data row5 col2\" >0.568434</td>\n",
       "            </tr>\n",
       "            <tr>\n",
       "                        <th id=\"T_b8df3b4c_21ad_11ec_af59_02420a3901d2level0_row6\" class=\"row_heading level0 row6\" >5</th>\n",
       "                        <td id=\"T_b8df3b4c_21ad_11ec_af59_02420a3901d2row6_col0\" class=\"data row6 col0\" >contract_period</td>\n",
       "                        <td id=\"T_b8df3b4c_21ad_11ec_af59_02420a3901d2row6_col1\" class=\"data row6 col1\" >-0.188969</td>\n",
       "                        <td id=\"T_b8df3b4c_21ad_11ec_af59_02420a3901d2row6_col2\" class=\"data row6 col2\" >0.188969</td>\n",
       "            </tr>\n",
       "            <tr>\n",
       "                        <th id=\"T_b8df3b4c_21ad_11ec_af59_02420a3901d2level0_row7\" class=\"row_heading level0 row7\" >7</th>\n",
       "                        <td id=\"T_b8df3b4c_21ad_11ec_af59_02420a3901d2row7_col0\" class=\"data row7 col0\" >age</td>\n",
       "                        <td id=\"T_b8df3b4c_21ad_11ec_af59_02420a3901d2row7_col1\" class=\"data row7 col1\" >-0.181963</td>\n",
       "                        <td id=\"T_b8df3b4c_21ad_11ec_af59_02420a3901d2row7_col2\" class=\"data row7 col2\" >0.181963</td>\n",
       "            </tr>\n",
       "            <tr>\n",
       "                        <th id=\"T_b8df3b4c_21ad_11ec_af59_02420a3901d2level0_row8\" class=\"row_heading level0 row8\" >9</th>\n",
       "                        <td id=\"T_b8df3b4c_21ad_11ec_af59_02420a3901d2row8_col0\" class=\"data row8 col0\" >month_to_end_contract</td>\n",
       "                        <td id=\"T_b8df3b4c_21ad_11ec_af59_02420a3901d2row8_col1\" class=\"data row8 col1\" >-0.0669398</td>\n",
       "                        <td id=\"T_b8df3b4c_21ad_11ec_af59_02420a3901d2row8_col2\" class=\"data row8 col2\" >0.0669398</td>\n",
       "            </tr>\n",
       "            <tr>\n",
       "                        <th id=\"T_b8df3b4c_21ad_11ec_af59_02420a3901d2level0_row9\" class=\"row_heading level0 row9\" >1</th>\n",
       "                        <td id=\"T_b8df3b4c_21ad_11ec_af59_02420a3901d2row9_col0\" class=\"data row9 col0\" >near_location</td>\n",
       "                        <td id=\"T_b8df3b4c_21ad_11ec_af59_02420a3901d2row9_col1\" class=\"data row9 col1\" >0.0529758</td>\n",
       "                        <td id=\"T_b8df3b4c_21ad_11ec_af59_02420a3901d2row9_col2\" class=\"data row9 col2\" >0.0529758</td>\n",
       "            </tr>\n",
       "            <tr>\n",
       "                        <th id=\"T_b8df3b4c_21ad_11ec_af59_02420a3901d2level0_row10\" class=\"row_heading level0 row10\" >2</th>\n",
       "                        <td id=\"T_b8df3b4c_21ad_11ec_af59_02420a3901d2row10_col0\" class=\"data row10 col0\" >partner</td>\n",
       "                        <td id=\"T_b8df3b4c_21ad_11ec_af59_02420a3901d2row10_col1\" class=\"data row10 col1\" >-0.048439</td>\n",
       "                        <td id=\"T_b8df3b4c_21ad_11ec_af59_02420a3901d2row10_col2\" class=\"data row10 col2\" >0.048439</td>\n",
       "            </tr>\n",
       "            <tr>\n",
       "                        <th id=\"T_b8df3b4c_21ad_11ec_af59_02420a3901d2level0_row11\" class=\"row_heading level0 row11\" >0</th>\n",
       "                        <td id=\"T_b8df3b4c_21ad_11ec_af59_02420a3901d2row11_col0\" class=\"data row11 col0\" >gender</td>\n",
       "                        <td id=\"T_b8df3b4c_21ad_11ec_af59_02420a3901d2row11_col1\" class=\"data row11 col1\" >0.0477771</td>\n",
       "                        <td id=\"T_b8df3b4c_21ad_11ec_af59_02420a3901d2row11_col2\" class=\"data row11 col2\" >0.0477771</td>\n",
       "            </tr>\n",
       "            <tr>\n",
       "                        <th id=\"T_b8df3b4c_21ad_11ec_af59_02420a3901d2level0_row12\" class=\"row_heading level0 row12\" >8</th>\n",
       "                        <td id=\"T_b8df3b4c_21ad_11ec_af59_02420a3901d2row12_col0\" class=\"data row12 col0\" >avg_additional_charges_total</td>\n",
       "                        <td id=\"T_b8df3b4c_21ad_11ec_af59_02420a3901d2row12_col1\" class=\"data row12 col1\" >-0.00467586</td>\n",
       "                        <td id=\"T_b8df3b4c_21ad_11ec_af59_02420a3901d2row12_col2\" class=\"data row12 col2\" >0.00467586</td>\n",
       "            </tr>\n",
       "    </tbody></table>"
      ],
      "text/plain": [
       "<pandas.io.formats.style.Styler at 0x7f89f1ba87d0>"
      ]
     },
     "execution_count": 25,
     "metadata": {},
     "output_type": "execute_result"
    }
   ],
   "source": [
    "# Вывод весов признаков для логистической регрессии\n",
    "lr_importance = pd.DataFrame({'feature' : X_train.columns, 'coef' : lr_model.coef_[0]})\n",
    "lr_importance['coef_abs'] = lr_importance['coef'].abs()\n",
    "lr_importance.sort_values(by='coef_abs', ascending=False).style.background_gradient(cmap=cm, subset=['coef_abs'])"
   ]
  },
  {
   "cell_type": "code",
   "execution_count": 26,
   "metadata": {},
   "outputs": [
    {
     "data": {
      "text/html": [
       "<style  type=\"text/css\" >\n",
       "    #T_b8e5e56e_21ad_11ec_af59_02420a3901d2row0_col1 {\n",
       "            background-color:  #a52a2a;\n",
       "            color:  #f1f1f1;\n",
       "        }    #T_b8e5e56e_21ad_11ec_af59_02420a3901d2row1_col1 {\n",
       "            background-color:  #c36f6f;\n",
       "            color:  #000000;\n",
       "        }    #T_b8e5e56e_21ad_11ec_af59_02420a3901d2row2_col1 {\n",
       "            background-color:  #d39292;\n",
       "            color:  #000000;\n",
       "        }    #T_b8e5e56e_21ad_11ec_af59_02420a3901d2row3_col1 {\n",
       "            background-color:  #d79b9b;\n",
       "            color:  #000000;\n",
       "        }    #T_b8e5e56e_21ad_11ec_af59_02420a3901d2row4_col1 {\n",
       "            background-color:  #dfaeae;\n",
       "            color:  #000000;\n",
       "        }    #T_b8e5e56e_21ad_11ec_af59_02420a3901d2row5_col1 {\n",
       "            background-color:  #e6bebe;\n",
       "            color:  #000000;\n",
       "        }    #T_b8e5e56e_21ad_11ec_af59_02420a3901d2row6_col1 {\n",
       "            background-color:  #e7c0c0;\n",
       "            color:  #000000;\n",
       "        }    #T_b8e5e56e_21ad_11ec_af59_02420a3901d2row7_col1 {\n",
       "            background-color:  #f7e5e5;\n",
       "            color:  #000000;\n",
       "        }    #T_b8e5e56e_21ad_11ec_af59_02420a3901d2row8_col1 {\n",
       "            background-color:  #f8e7e7;\n",
       "            color:  #000000;\n",
       "        }    #T_b8e5e56e_21ad_11ec_af59_02420a3901d2row9_col1 {\n",
       "            background-color:  #f8e7e7;\n",
       "            color:  #000000;\n",
       "        }    #T_b8e5e56e_21ad_11ec_af59_02420a3901d2row10_col1 {\n",
       "            background-color:  #f8e7e7;\n",
       "            color:  #000000;\n",
       "        }    #T_b8e5e56e_21ad_11ec_af59_02420a3901d2row11_col1 {\n",
       "            background-color:  #f9e8e8;\n",
       "            color:  #000000;\n",
       "        }    #T_b8e5e56e_21ad_11ec_af59_02420a3901d2row12_col1 {\n",
       "            background-color:  #faebeb;\n",
       "            color:  #000000;\n",
       "        }</style><table id=\"T_b8e5e56e_21ad_11ec_af59_02420a3901d2\" ><thead>    <tr>        <th class=\"blank level0\" ></th>        <th class=\"col_heading level0 col0\" >feature</th>        <th class=\"col_heading level0 col1\" >importance</th>    </tr></thead><tbody>\n",
       "                <tr>\n",
       "                        <th id=\"T_b8e5e56e_21ad_11ec_af59_02420a3901d2level0_row0\" class=\"row_heading level0 row0\" >10</th>\n",
       "                        <td id=\"T_b8e5e56e_21ad_11ec_af59_02420a3901d2row0_col0\" class=\"data row0 col0\" >lifetime</td>\n",
       "                        <td id=\"T_b8e5e56e_21ad_11ec_af59_02420a3901d2row0_col1\" class=\"data row0 col1\" >0.276499</td>\n",
       "            </tr>\n",
       "            <tr>\n",
       "                        <th id=\"T_b8e5e56e_21ad_11ec_af59_02420a3901d2level0_row1\" class=\"row_heading level0 row1\" >12</th>\n",
       "                        <td id=\"T_b8e5e56e_21ad_11ec_af59_02420a3901d2row1_col0\" class=\"data row1 col0\" >avg_class_frequency_current_month</td>\n",
       "                        <td id=\"T_b8e5e56e_21ad_11ec_af59_02420a3901d2row1_col1\" class=\"data row1 col1\" >0.18017</td>\n",
       "            </tr>\n",
       "            <tr>\n",
       "                        <th id=\"T_b8e5e56e_21ad_11ec_af59_02420a3901d2level0_row2\" class=\"row_heading level0 row2\" >11</th>\n",
       "                        <td id=\"T_b8e5e56e_21ad_11ec_af59_02420a3901d2row2_col0\" class=\"data row2 col0\" >avg_class_frequency_total</td>\n",
       "                        <td id=\"T_b8e5e56e_21ad_11ec_af59_02420a3901d2row2_col1\" class=\"data row2 col1\" >0.129883</td>\n",
       "            </tr>\n",
       "            <tr>\n",
       "                        <th id=\"T_b8e5e56e_21ad_11ec_af59_02420a3901d2level0_row3\" class=\"row_heading level0 row3\" >7</th>\n",
       "                        <td id=\"T_b8e5e56e_21ad_11ec_af59_02420a3901d2row3_col0\" class=\"data row3 col0\" >age</td>\n",
       "                        <td id=\"T_b8e5e56e_21ad_11ec_af59_02420a3901d2row3_col1\" class=\"data row3 col1\" >0.119129</td>\n",
       "            </tr>\n",
       "            <tr>\n",
       "                        <th id=\"T_b8e5e56e_21ad_11ec_af59_02420a3901d2level0_row4\" class=\"row_heading level0 row4\" >8</th>\n",
       "                        <td id=\"T_b8e5e56e_21ad_11ec_af59_02420a3901d2row4_col0\" class=\"data row4 col0\" >avg_additional_charges_total</td>\n",
       "                        <td id=\"T_b8e5e56e_21ad_11ec_af59_02420a3901d2row4_col1\" class=\"data row4 col1\" >0.0914729</td>\n",
       "            </tr>\n",
       "            <tr>\n",
       "                        <th id=\"T_b8e5e56e_21ad_11ec_af59_02420a3901d2level0_row5\" class=\"row_heading level0 row5\" >9</th>\n",
       "                        <td id=\"T_b8e5e56e_21ad_11ec_af59_02420a3901d2row5_col0\" class=\"data row5 col0\" >month_to_end_contract</td>\n",
       "                        <td id=\"T_b8e5e56e_21ad_11ec_af59_02420a3901d2row5_col1\" class=\"data row5 col1\" >0.068855</td>\n",
       "            </tr>\n",
       "            <tr>\n",
       "                        <th id=\"T_b8e5e56e_21ad_11ec_af59_02420a3901d2level0_row6\" class=\"row_heading level0 row6\" >5</th>\n",
       "                        <td id=\"T_b8e5e56e_21ad_11ec_af59_02420a3901d2row6_col0\" class=\"data row6 col0\" >contract_period</td>\n",
       "                        <td id=\"T_b8e5e56e_21ad_11ec_af59_02420a3901d2row6_col1\" class=\"data row6 col1\" >0.0659637</td>\n",
       "            </tr>\n",
       "            <tr>\n",
       "                        <th id=\"T_b8e5e56e_21ad_11ec_af59_02420a3901d2level0_row7\" class=\"row_heading level0 row7\" >6</th>\n",
       "                        <td id=\"T_b8e5e56e_21ad_11ec_af59_02420a3901d2row7_col0\" class=\"data row7 col0\" >group_visits</td>\n",
       "                        <td id=\"T_b8e5e56e_21ad_11ec_af59_02420a3901d2row7_col1\" class=\"data row7 col1\" >0.0156516</td>\n",
       "            </tr>\n",
       "            <tr>\n",
       "                        <th id=\"T_b8e5e56e_21ad_11ec_af59_02420a3901d2level0_row8\" class=\"row_heading level0 row8\" >0</th>\n",
       "                        <td id=\"T_b8e5e56e_21ad_11ec_af59_02420a3901d2row8_col0\" class=\"data row8 col0\" >gender</td>\n",
       "                        <td id=\"T_b8e5e56e_21ad_11ec_af59_02420a3901d2row8_col1\" class=\"data row8 col1\" >0.0124253</td>\n",
       "            </tr>\n",
       "            <tr>\n",
       "                        <th id=\"T_b8e5e56e_21ad_11ec_af59_02420a3901d2level0_row9\" class=\"row_heading level0 row9\" >2</th>\n",
       "                        <td id=\"T_b8e5e56e_21ad_11ec_af59_02420a3901d2row9_col0\" class=\"data row9 col0\" >partner</td>\n",
       "                        <td id=\"T_b8e5e56e_21ad_11ec_af59_02420a3901d2row9_col1\" class=\"data row9 col1\" >0.0122845</td>\n",
       "            </tr>\n",
       "            <tr>\n",
       "                        <th id=\"T_b8e5e56e_21ad_11ec_af59_02420a3901d2level0_row10\" class=\"row_heading level0 row10\" >3</th>\n",
       "                        <td id=\"T_b8e5e56e_21ad_11ec_af59_02420a3901d2row10_col0\" class=\"data row10 col0\" >promo_friends</td>\n",
       "                        <td id=\"T_b8e5e56e_21ad_11ec_af59_02420a3901d2row10_col1\" class=\"data row10 col1\" >0.0120534</td>\n",
       "            </tr>\n",
       "            <tr>\n",
       "                        <th id=\"T_b8e5e56e_21ad_11ec_af59_02420a3901d2level0_row11\" class=\"row_heading level0 row11\" >1</th>\n",
       "                        <td id=\"T_b8e5e56e_21ad_11ec_af59_02420a3901d2row11_col0\" class=\"data row11 col0\" >near_location</td>\n",
       "                        <td id=\"T_b8e5e56e_21ad_11ec_af59_02420a3901d2row11_col1\" class=\"data row11 col1\" >0.00942085</td>\n",
       "            </tr>\n",
       "            <tr>\n",
       "                        <th id=\"T_b8e5e56e_21ad_11ec_af59_02420a3901d2level0_row12\" class=\"row_heading level0 row12\" >4</th>\n",
       "                        <td id=\"T_b8e5e56e_21ad_11ec_af59_02420a3901d2row12_col0\" class=\"data row12 col0\" >phone</td>\n",
       "                        <td id=\"T_b8e5e56e_21ad_11ec_af59_02420a3901d2row12_col1\" class=\"data row12 col1\" >0.0061919</td>\n",
       "            </tr>\n",
       "    </tbody></table>"
      ],
      "text/plain": [
       "<pandas.io.formats.style.Styler at 0x7f89f12059d0>"
      ]
     },
     "execution_count": 26,
     "metadata": {},
     "output_type": "execute_result"
    }
   ],
   "source": [
    "# Вывод весов для случайного леса\n",
    "rf_importance = pd.DataFrame({'feature' : X_train.columns, 'importance' : rf_model.feature_importances_})\n",
    "rf_importance.sort_values(by='importance', ascending=False).style.background_gradient(cmap=cm)"
   ]
  },
  {
   "cell_type": "markdown",
   "metadata": {},
   "source": [
    "**Многие значения коэфицентов логистической регрессии отрицательные что показывают обратно пропорциональную взаимосвязь, т.е. чем ниже клиент посещает зал в последний месяц, групповые занятия, приходит по промо тем выше у него вероятность оттока. Также повышает вероятность ухода клиента более короткий Lifetime, время с первого визита. Пол, траты, близость локации и время до окончания абонемента имеют малую важность для целевого признака.**"
   ]
  },
  {
   "cell_type": "markdown",
   "metadata": {},
   "source": [
    "## Кластеризация клиентов"
   ]
  },
  {
   "cell_type": "markdown",
   "metadata": {},
   "source": [
    "### Стандартизация данных"
   ]
  },
  {
   "cell_type": "code",
   "execution_count": 27,
   "metadata": {},
   "outputs": [],
   "source": [
    "# Стандартизация\n",
    "sc = StandardScaler()\n",
    "x_sc = sc.fit_transform(X)"
   ]
  },
  {
   "cell_type": "markdown",
   "metadata": {},
   "source": [
    "### Вывод дендрограммы"
   ]
  },
  {
   "cell_type": "code",
   "execution_count": 28,
   "metadata": {},
   "outputs": [
    {
     "data": {
      "image/png": "[encoded data removed]",
      "text/plain": [
       "<Figure size 1080x720 with 1 Axes>"
      ]
     },
     "metadata": {},
     "output_type": "display_data"
    }
   ],
   "source": [
    "linked = linkage(x_sc, method = 'ward')\n",
    "plt.figure(figsize=(15, 10))  \n",
    "dendrogram(linked, orientation='top')\n",
    "plt.title('\\n Иерархическая кластеризация')\n",
    "plt.show()"
   ]
  },
  {
   "cell_type": "markdown",
   "metadata": {},
   "source": [
    "### Обучение модели кластеризации"
   ]
  },
  {
   "cell_type": "code",
   "execution_count": 29,
   "metadata": {},
   "outputs": [],
   "source": [
    "# Число кластеров\n",
    "km = KMeans(n_clusters = 5, random_state=0)"
   ]
  },
  {
   "cell_type": "code",
   "execution_count": 30,
   "metadata": {},
   "outputs": [],
   "source": [
    "# Применение алгоритма и формирование вектора кластеров\n",
    "labels = km.fit_predict(x_sc)\n",
    "df['cluster_km'] = labels"
   ]
  },
  {
   "cell_type": "markdown",
   "metadata": {},
   "source": [
    "### Cредние значения признаков для кластеров"
   ]
  },
  {
   "cell_type": "code",
   "execution_count": 31,
   "metadata": {},
   "outputs": [
    {
     "data": {
      "text/html": [
       "<div>\n",
       "<style scoped>\n",
       "    .dataframe tbody tr th:only-of-type {\n",
       "        vertical-align: middle;\n",
       "    }\n",
       "\n",
       "    .dataframe tbody tr th {\n",
       "        vertical-align: top;\n",
       "    }\n",
       "\n",
       "    .dataframe thead th {\n",
       "        text-align: right;\n",
       "    }\n",
       "</style>\n",
       "<table border=\"1\" class=\"dataframe\">\n",
       "  <thead>\n",
       "    <tr style=\"text-align: right;\">\n",
       "      <th>cluster_km</th>\n",
       "      <th>0</th>\n",
       "      <th>1</th>\n",
       "      <th>2</th>\n",
       "      <th>3</th>\n",
       "      <th>4</th>\n",
       "    </tr>\n",
       "  </thead>\n",
       "  <tbody>\n",
       "    <tr>\n",
       "      <td>gender</td>\n",
       "      <td>0.50</td>\n",
       "      <td>0.52</td>\n",
       "      <td>0.50</td>\n",
       "      <td>0.49</td>\n",
       "      <td>0.56</td>\n",
       "    </tr>\n",
       "    <tr>\n",
       "      <td>near_location</td>\n",
       "      <td>0.96</td>\n",
       "      <td>0.86</td>\n",
       "      <td>0.00</td>\n",
       "      <td>1.00</td>\n",
       "      <td>0.98</td>\n",
       "    </tr>\n",
       "    <tr>\n",
       "      <td>partner</td>\n",
       "      <td>0.78</td>\n",
       "      <td>0.47</td>\n",
       "      <td>0.46</td>\n",
       "      <td>0.35</td>\n",
       "      <td>0.36</td>\n",
       "    </tr>\n",
       "    <tr>\n",
       "      <td>promo_friends</td>\n",
       "      <td>0.57</td>\n",
       "      <td>0.31</td>\n",
       "      <td>0.08</td>\n",
       "      <td>0.24</td>\n",
       "      <td>0.23</td>\n",
       "    </tr>\n",
       "    <tr>\n",
       "      <td>phone</td>\n",
       "      <td>1.00</td>\n",
       "      <td>0.00</td>\n",
       "      <td>1.00</td>\n",
       "      <td>1.00</td>\n",
       "      <td>1.00</td>\n",
       "    </tr>\n",
       "    <tr>\n",
       "      <td>contract_period</td>\n",
       "      <td>10.88</td>\n",
       "      <td>4.79</td>\n",
       "      <td>2.35</td>\n",
       "      <td>1.95</td>\n",
       "      <td>2.67</td>\n",
       "    </tr>\n",
       "    <tr>\n",
       "      <td>group_visits</td>\n",
       "      <td>0.54</td>\n",
       "      <td>0.43</td>\n",
       "      <td>0.22</td>\n",
       "      <td>0.34</td>\n",
       "      <td>0.47</td>\n",
       "    </tr>\n",
       "    <tr>\n",
       "      <td>age</td>\n",
       "      <td>29.98</td>\n",
       "      <td>29.30</td>\n",
       "      <td>28.48</td>\n",
       "      <td>28.17</td>\n",
       "      <td>30.13</td>\n",
       "    </tr>\n",
       "    <tr>\n",
       "      <td>avg_additional_charges_total</td>\n",
       "      <td>160.71</td>\n",
       "      <td>143.96</td>\n",
       "      <td>135.46</td>\n",
       "      <td>131.62</td>\n",
       "      <td>161.72</td>\n",
       "    </tr>\n",
       "    <tr>\n",
       "      <td>month_to_end_contract</td>\n",
       "      <td>9.95</td>\n",
       "      <td>4.48</td>\n",
       "      <td>2.20</td>\n",
       "      <td>1.86</td>\n",
       "      <td>2.46</td>\n",
       "    </tr>\n",
       "    <tr>\n",
       "      <td>lifetime</td>\n",
       "      <td>4.74</td>\n",
       "      <td>3.92</td>\n",
       "      <td>2.81</td>\n",
       "      <td>2.44</td>\n",
       "      <td>4.90</td>\n",
       "    </tr>\n",
       "    <tr>\n",
       "      <td>avg_class_frequency_total</td>\n",
       "      <td>1.98</td>\n",
       "      <td>1.85</td>\n",
       "      <td>1.66</td>\n",
       "      <td>1.25</td>\n",
       "      <td>2.85</td>\n",
       "    </tr>\n",
       "    <tr>\n",
       "      <td>avg_class_frequency_current_month</td>\n",
       "      <td>1.98</td>\n",
       "      <td>1.72</td>\n",
       "      <td>1.48</td>\n",
       "      <td>1.01</td>\n",
       "      <td>2.85</td>\n",
       "    </tr>\n",
       "    <tr>\n",
       "      <td>churn</td>\n",
       "      <td>0.03</td>\n",
       "      <td>0.27</td>\n",
       "      <td>0.44</td>\n",
       "      <td>0.51</td>\n",
       "      <td>0.07</td>\n",
       "    </tr>\n",
       "  </tbody>\n",
       "</table>\n",
       "</div>"
      ],
      "text/plain": [
       "cluster_km                             0      1      2      3      4\n",
       "gender                              0.50   0.52   0.50   0.49   0.56\n",
       "near_location                       0.96   0.86   0.00   1.00   0.98\n",
       "partner                             0.78   0.47   0.46   0.35   0.36\n",
       "promo_friends                       0.57   0.31   0.08   0.24   0.23\n",
       "phone                               1.00   0.00   1.00   1.00   1.00\n",
       "contract_period                    10.88   4.79   2.35   1.95   2.67\n",
       "group_visits                        0.54   0.43   0.22   0.34   0.47\n",
       "age                                29.98  29.30  28.48  28.17  30.13\n",
       "avg_additional_charges_total      160.71 143.96 135.46 131.62 161.72\n",
       "month_to_end_contract               9.95   4.48   2.20   1.86   2.46\n",
       "lifetime                            4.74   3.92   2.81   2.44   4.90\n",
       "avg_class_frequency_total           1.98   1.85   1.66   1.25   2.85\n",
       "avg_class_frequency_current_month   1.98   1.72   1.48   1.01   2.85\n",
       "churn                               0.03   0.27   0.44   0.51   0.07"
      ]
     },
     "execution_count": 31,
     "metadata": {},
     "output_type": "execute_result"
    }
   ],
   "source": [
    "df.groupby('cluster_km').mean().T"
   ]
  },
  {
   "cell_type": "markdown",
   "metadata": {},
   "source": [
    "<br>**Самая высокая доля оттока у 3-го кластера - 51%, у 1-го и 2-го кластеров - 27% и 44% соотвественно, минимальные значения у 4-го и 0-го кластеров - 7% и 3%.**\n",
    "\n",
    "<br>**Однако можно заметить что у двух кластеров с высоким оттоком, 2-го и 3-го, немного разные показатели в близости локации и групповых визитах. Вероятнее уйдут клиенты с контрактом заканчивающимся менее чем через 2.5 месяца, посетившие в среднем одно занятие в прошедшем месяце. Интересно что у клиентов 4-го кластера с низкой вероятностью оттока средний контракт меньше чем у клиентов 2-го кластера с вчетверо большей вероятностью оттока.**"
   ]
  },
  {
   "cell_type": "markdown",
   "metadata": {},
   "source": [
    "### Распределения признаков для кластеров"
   ]
  },
  {
   "cell_type": "code",
   "execution_count": 32,
   "metadata": {},
   "outputs": [],
   "source": [
    "df_cluster = df.copy()"
   ]
  },
  {
   "cell_type": "code",
   "execution_count": 33,
   "metadata": {},
   "outputs": [],
   "source": [
    "non_binary_col = df_cluster.drop(columns =(['gender', \n",
    "                                'near_location',\n",
    "                                'partner',\n",
    "                                'promo_friends',\n",
    "                                'phone',\n",
    "                                'group_visits',\n",
    "                                'churn',\n",
    "                                'cluster_km',\n",
    "                                'contract_period',\n",
    "                                'month_to_end_contract',\n",
    "                                'lifetime']))\n",
    "binary_col = df_cluster[['gender',\n",
    "                 'near_location', \n",
    "                 'partner','promo_friends',\n",
    "                 'phone',\n",
    "                 'group_visits',\n",
    "                 'contract_period',\n",
    "                 'month_to_end_contract',\n",
    "                 'lifetime']]"
   ]
  },
  {
   "cell_type": "code",
   "execution_count": 34,
   "metadata": {
    "scrolled": false
   },
   "outputs": [
    {
     "data": {
      "image/png": "[encoded data removed]",
      "text/plain": [
       "<Figure size 720x288 with 1 Axes>"
      ]
     },
     "metadata": {},
     "output_type": "display_data"
    },
    {
     "data": {
      "image/png": "[encoded data removed]",
      "text/plain": [
       "<Figure size 720x288 with 1 Axes>"
      ]
     },
     "metadata": {},
     "output_type": "display_data"
    },
    {
     "data": {
      "image/png": "[encoded data removed]",
      "text/plain": [
       "<Figure size 720x288 with 1 Axes>"
      ]
     },
     "metadata": {},
     "output_type": "display_data"
    },
    {
     "data": {
      "image/png": "[encoded data removed]",
      "text/plain": [
       "<Figure size 720x288 with 1 Axes>"
      ]
     },
     "metadata": {},
     "output_type": "display_data"
    }
   ],
   "source": [
    "for col in non_binary_col:\n",
    "    plt.figure(figsize=(10,4)) \n",
    "    for i in range(0,5):\n",
    "        plt.title(f\"Распределение {col}\")\n",
    "        sns.distplot(df_cluster.query('cluster_km == @i')[col],\n",
    "                    hist=False,\n",
    "                    rug=True,\n",
    "                    kde_kws={'label':'Кластер'+' '+str(i), 'lw': 3})\n",
    "plt.show()"
   ]
  },
  {
   "cell_type": "markdown",
   "metadata": {},
   "source": [
    "<br>**По графику возраста больше всего склонны к оттоку достаточно молодые клиенты, большей частью 28 лет - в 3 кластере, в менее подверженных оттоку кластерах возраст на пике - 30 и 32 года.**\n",
    "\n",
    "<br>**Меньше всего тратит 3 кластер с самой большой вероятностью оттока, дополнительные траты - важный показатель вероятности оттока.**\n",
    "\n",
    "<br>**Разница в противоположных по оттоку кластерах - около 2 посещений в неделю, что подтверждает факт - если клиент пришел 2 раза и более в неделю, вероятнее всего он продолжит пользоватся услугами заведения.**"
   ]
  },
  {
   "cell_type": "code",
   "execution_count": 35,
   "metadata": {},
   "outputs": [
    {
     "data": {
      "image/png": "[encoded data removed]",
      "text/plain": [
       "<Figure size 1296x864 with 9 Axes>"
      ]
     },
     "metadata": {},
     "output_type": "display_data"
    }
   ],
   "source": [
    "plt.figure(figsize=(18,12))\n",
    "for i in range(len(binary_col.columns)):\n",
    "    plt.subplot(3,3,i+1)\n",
    "    x = df_cluster['cluster_km']\n",
    "    y = binary_col.iloc[:,i]\n",
    "    sns.barplot(x=x, y=y)\n",
    "plt.show()"
   ]
  },
  {
   "cell_type": "markdown",
   "metadata": {},
   "source": [
    "**Партнерская программа и промо важны для одного надежного кластера, но гораздо менее важны для другого надежного кластера, можно сделать вывод что не одни скидки и бонусы удерживают людей.\n",
    "<br>Групповые визиты ожидаемо ниже у склонных к оттоку кластеров.\n",
    "Высока вероятность оттока у клиентов 2 и 3 кластера, когда остаеться 2 месяца до окончания абонемента.\n",
    "Срок жизни у 0-го надежного кластера высок в сочетании с партнерской программой и промо и низок у другого не склонного к отттоку <br>4 кластера. Клиенты 0 кластера в основном с годичными абонементами, клиенты 4 кластера - с трехмесячными. Промо и партнерка побуждает клиентов покупать более длинные абонементы и оставаться с большой вероятностью.\n",
    "<br>Клиенты 2 кластера очевидно не живут или работают рядом, но приходят по партнерской программе.\n",
    "<br>Клиенты 1 кластера не оставили ни одного телефона - возможно им нужна и удобна другая коммуникация.**"
   ]
  },
  {
   "cell_type": "markdown",
   "metadata": {},
   "source": [
    "### Доля оттока для кластера"
   ]
  },
  {
   "cell_type": "code",
   "execution_count": 36,
   "metadata": {},
   "outputs": [
    {
     "data": {
      "text/html": [
       "<style  type=\"text/css\" >\n",
       "    #T_151a4460_21ae_11ec_af59_02420a3901d2row0_col0 {\n",
       "            background-color:  #faebeb;\n",
       "            color:  #000000;\n",
       "        }    #T_151a4460_21ae_11ec_af59_02420a3901d2row1_col0 {\n",
       "            background-color:  #d08b8b;\n",
       "            color:  #000000;\n",
       "        }    #T_151a4460_21ae_11ec_af59_02420a3901d2row2_col0 {\n",
       "            background-color:  #b14646;\n",
       "            color:  #f1f1f1;\n",
       "        }    #T_151a4460_21ae_11ec_af59_02420a3901d2row3_col0 {\n",
       "            background-color:  #a52a2a;\n",
       "            color:  #f1f1f1;\n",
       "        }    #T_151a4460_21ae_11ec_af59_02420a3901d2row4_col0 {\n",
       "            background-color:  #f3dbdb;\n",
       "            color:  #000000;\n",
       "        }</style><table id=\"T_151a4460_21ae_11ec_af59_02420a3901d2\" ><thead>    <tr>        <th class=\"blank level0\" ></th>        <th class=\"col_heading level0 col0\" >churn</th>    </tr>    <tr>        <th class=\"index_name level0\" >cluster_km</th>        <th class=\"blank\" ></th>    </tr></thead><tbody>\n",
       "                <tr>\n",
       "                        <th id=\"T_151a4460_21ae_11ec_af59_02420a3901d2level0_row0\" class=\"row_heading level0 row0\" >0</th>\n",
       "                        <td id=\"T_151a4460_21ae_11ec_af59_02420a3901d2row0_col0\" class=\"data row0 col0\" >0.0276954</td>\n",
       "            </tr>\n",
       "            <tr>\n",
       "                        <th id=\"T_151a4460_21ae_11ec_af59_02420a3901d2level0_row1\" class=\"row_heading level0 row1\" >1</th>\n",
       "                        <td id=\"T_151a4460_21ae_11ec_af59_02420a3901d2row1_col0\" class=\"data row1 col0\" >0.267532</td>\n",
       "            </tr>\n",
       "            <tr>\n",
       "                        <th id=\"T_151a4460_21ae_11ec_af59_02420a3901d2level0_row2\" class=\"row_heading level0 row2\" >2</th>\n",
       "                        <td id=\"T_151a4460_21ae_11ec_af59_02420a3901d2row2_col0\" class=\"data row2 col0\" >0.443564</td>\n",
       "            </tr>\n",
       "            <tr>\n",
       "                        <th id=\"T_151a4460_21ae_11ec_af59_02420a3901d2level0_row3\" class=\"row_heading level0 row3\" >3</th>\n",
       "                        <td id=\"T_151a4460_21ae_11ec_af59_02420a3901d2row3_col0\" class=\"data row3 col0\" >0.514263</td>\n",
       "            </tr>\n",
       "            <tr>\n",
       "                        <th id=\"T_151a4460_21ae_11ec_af59_02420a3901d2level0_row4\" class=\"row_heading level0 row4\" >4</th>\n",
       "                        <td id=\"T_151a4460_21ae_11ec_af59_02420a3901d2row4_col0\" class=\"data row4 col0\" >0.0681004</td>\n",
       "            </tr>\n",
       "    </tbody></table>"
      ],
      "text/plain": [
       "<pandas.io.formats.style.Styler at 0x7f89799a14d0>"
      ]
     },
     "execution_count": 36,
     "metadata": {},
     "output_type": "execute_result"
    }
   ],
   "source": [
    "df.groupby('cluster_km').agg({'churn':'mean'}).style.background_gradient(cmap=cm)"
   ]
  },
  {
   "cell_type": "markdown",
   "metadata": {},
   "source": [
    "## Итоговый вывод и рекомендации"
   ]
  },
  {
   "cell_type": "markdown",
   "metadata": {},
   "source": [
    "<br>**Вероятнее всего перестают посещать занятия клиенты около 28 лет, как мужчины так и женщины, до 30 лет - вероятная группа риска. Для аудитории до 30, необходимы отдельные стимулы.**\n",
    "\n",
    "<br>**Самый рискованный период посещений - между первым и вторым занятием, первый месяц абонемента, необходимо стремиться получать или стимулировать клиентов предоставлять обратную связь после первого посещения, а также от тех кто посещает заведение первый месяц не чаще 1 раза в неделю. Customer feedback очень важен так как клиенты двух самых проблемных кластеров в основном берут двухмесячные абонементы и могут перестать ходить буквально сразу после 1 - 2 занятий. Возможна практика бесплатного первого занятия или мотивирующий кэшбэк.** \n",
    "\n",
    "<br>**Очевидно что партнерская программа вместе с промо и посещением групповых занятий дает кумулятивный эффект в увеличении срока абонемента, что очень сильно снижает вероятность ухода клиента. Необходима дальнейшая работа в этом направлении, расширение программ, регулярные промо, основные метрики - срок абонемента и срок жизни клиента более 5 месяцев. 1 и 2 кластеры имеют возможные точки роста в этом направлении. Стимулирующая мотивация нужна начиная с 2 месяца абониемента/жизни клиента.**\n",
    "\n",
    "<br>**Так же есть кластер клиентов с высокой лояльностью, но с коротким сроком абонемента одновременно с большим сроком жизни, которые тем не менее приходят вне партнерской программы и скидок. Возможно нужно пристальнее изучить эту группу клиентов. Они старше, меньше ориентируются на скидки и партнерку, однако регулярно продляют абонимент, очевидно у них не ценовая мотивация. Изучение этой группы позволит найти точки роста для 2 и 3 кластера - кластеров с высоким риском оттока. Хорошим способом может стать проведение своеобразного Customer panel для групп клиентов, для получения обратной связи и понимания запросов и мотивации.**"
   ]
  }
 ],
 "metadata": {
  "ExecuteTimeLog": [
   {
    "duration": 2609,
    "start_time": "2021-08-23T14:29:04.897Z"
   },
   {
    "duration": 4,
    "start_time": "2021-08-23T14:29:07.509Z"
   },
   {
    "duration": 182,
    "start_time": "2021-08-23T14:30:24.812Z"
   },
   {
    "duration": 74,
    "start_time": "2021-08-23T14:30:44.502Z"
   },
   {
    "duration": 4,
    "start_time": "2021-08-23T14:35:25.819Z"
   },
   {
    "duration": 795,
    "start_time": "2021-08-23T14:35:41.208Z"
   },
   {
    "duration": 5,
    "start_time": "2021-08-23T14:36:22.938Z"
   },
   {
    "duration": 7,
    "start_time": "2021-08-23T14:36:22.945Z"
   },
   {
    "duration": 61,
    "start_time": "2021-08-23T14:36:22.955Z"
   },
   {
    "duration": 5,
    "start_time": "2021-08-23T14:36:23.018Z"
   },
   {
    "duration": 679,
    "start_time": "2021-08-23T14:36:23.026Z"
   },
   {
    "duration": 6,
    "start_time": "2021-08-23T14:37:13.594Z"
   },
   {
    "duration": 8,
    "start_time": "2021-08-23T14:37:13.602Z"
   },
   {
    "duration": 63,
    "start_time": "2021-08-23T14:37:13.612Z"
   },
   {
    "duration": 4,
    "start_time": "2021-08-23T14:37:13.678Z"
   },
   {
    "duration": 108,
    "start_time": "2021-08-23T14:37:13.685Z"
   },
   {
    "duration": 4,
    "start_time": "2021-08-23T14:39:21.126Z"
   },
   {
    "duration": 19,
    "start_time": "2021-08-23T14:39:33.199Z"
   },
   {
    "duration": 6,
    "start_time": "2021-08-23T14:42:20.455Z"
   },
   {
    "duration": 8,
    "start_time": "2021-08-23T14:42:20.465Z"
   },
   {
    "duration": 60,
    "start_time": "2021-08-23T14:42:20.477Z"
   },
   {
    "duration": 5,
    "start_time": "2021-08-23T14:42:20.539Z"
   },
   {
    "duration": 98,
    "start_time": "2021-08-23T14:42:20.546Z"
   },
   {
    "duration": 4,
    "start_time": "2021-08-23T14:42:20.646Z"
   },
   {
    "duration": 40,
    "start_time": "2021-08-23T14:42:20.652Z"
   },
   {
    "duration": 18,
    "start_time": "2021-08-23T14:48:21.466Z"
   },
   {
    "duration": 5,
    "start_time": "2021-08-23T14:51:11.049Z"
   },
   {
    "duration": 10,
    "start_time": "2021-08-23T14:51:11.057Z"
   },
   {
    "duration": 65,
    "start_time": "2021-08-23T14:51:11.070Z"
   },
   {
    "duration": 4,
    "start_time": "2021-08-23T14:51:11.138Z"
   },
   {
    "duration": 92,
    "start_time": "2021-08-23T14:51:11.145Z"
   },
   {
    "duration": 4,
    "start_time": "2021-08-23T14:51:11.240Z"
   },
   {
    "duration": 24,
    "start_time": "2021-08-23T14:51:11.246Z"
   },
   {
    "duration": 18,
    "start_time": "2021-08-23T14:51:11.281Z"
   },
   {
    "duration": 6,
    "start_time": "2021-08-23T15:02:53.684Z"
   },
   {
    "duration": 10,
    "start_time": "2021-08-23T15:02:53.693Z"
   },
   {
    "duration": 81,
    "start_time": "2021-08-23T15:02:53.705Z"
   },
   {
    "duration": 6,
    "start_time": "2021-08-23T15:02:53.789Z"
   },
   {
    "duration": 33,
    "start_time": "2021-08-23T15:02:53.797Z"
   },
   {
    "duration": 4,
    "start_time": "2021-08-23T15:02:53.832Z"
   },
   {
    "duration": 47,
    "start_time": "2021-08-23T15:02:53.838Z"
   },
   {
    "duration": 6,
    "start_time": "2021-08-23T15:04:08.184Z"
   },
   {
    "duration": 7,
    "start_time": "2021-08-23T15:04:08.193Z"
   },
   {
    "duration": 53,
    "start_time": "2021-08-23T15:04:08.203Z"
   },
   {
    "duration": 5,
    "start_time": "2021-08-23T15:04:08.258Z"
   },
   {
    "duration": 37,
    "start_time": "2021-08-23T15:04:08.266Z"
   },
   {
    "duration": 15,
    "start_time": "2021-08-23T15:04:08.305Z"
   },
   {
    "duration": 66,
    "start_time": "2021-08-23T15:05:04.485Z"
   },
   {
    "duration": 108,
    "start_time": "2021-08-23T15:12:44.877Z"
   },
   {
    "duration": 5,
    "start_time": "2021-08-23T15:13:26.944Z"
   },
   {
    "duration": 13,
    "start_time": "2021-08-23T15:13:26.952Z"
   },
   {
    "duration": 63,
    "start_time": "2021-08-23T15:13:26.968Z"
   },
   {
    "duration": 6,
    "start_time": "2021-08-23T15:13:27.034Z"
   },
   {
    "duration": 33,
    "start_time": "2021-08-23T15:13:27.043Z"
   },
   {
    "duration": 15,
    "start_time": "2021-08-23T15:13:27.079Z"
   },
   {
    "duration": 58,
    "start_time": "2021-08-23T15:13:27.096Z"
   },
   {
    "duration": 137,
    "start_time": "2021-08-23T15:13:27.159Z"
   },
   {
    "duration": 4,
    "start_time": "2021-08-23T15:22:25.021Z"
   },
   {
    "duration": 889,
    "start_time": "2021-08-23T15:22:28.325Z"
   },
   {
    "duration": 4,
    "start_time": "2021-08-23T15:22:56.785Z"
   },
   {
    "duration": 37,
    "start_time": "2021-08-23T15:22:57.750Z"
   },
   {
    "duration": 4,
    "start_time": "2021-08-23T15:24:12.902Z"
   },
   {
    "duration": 35,
    "start_time": "2021-08-23T15:24:13.518Z"
   },
   {
    "duration": 4,
    "start_time": "2021-08-23T15:24:37.856Z"
   },
   {
    "duration": 33,
    "start_time": "2021-08-23T15:24:38.518Z"
   },
   {
    "duration": 3,
    "start_time": "2021-08-23T15:26:55.655Z"
   },
   {
    "duration": 32,
    "start_time": "2021-08-23T15:26:56.239Z"
   },
   {
    "duration": 11,
    "start_time": "2021-08-23T15:39:36.295Z"
   },
   {
    "duration": 5,
    "start_time": "2021-08-24T09:17:22.831Z"
   },
   {
    "duration": 4,
    "start_time": "2021-08-24T09:17:23.780Z"
   },
   {
    "duration": 475,
    "start_time": "2021-08-24T09:27:10.227Z"
   },
   {
    "duration": 1857,
    "start_time": "2021-08-24T09:27:43.926Z"
   },
   {
    "duration": 5,
    "start_time": "2021-08-24T09:27:45.786Z"
   },
   {
    "duration": 213,
    "start_time": "2021-08-24T09:27:45.802Z"
   },
   {
    "duration": 4,
    "start_time": "2021-08-24T09:27:46.018Z"
   },
   {
    "duration": 54,
    "start_time": "2021-08-24T09:27:46.025Z"
   },
   {
    "duration": 15,
    "start_time": "2021-08-24T09:27:46.101Z"
   },
   {
    "duration": 81,
    "start_time": "2021-08-24T09:27:46.119Z"
   },
   {
    "duration": 4,
    "start_time": "2021-08-24T09:27:46.204Z"
   },
   {
    "duration": 2083,
    "start_time": "2021-08-24T09:27:46.211Z"
   },
   {
    "duration": 31,
    "start_time": "2021-08-24T09:27:48.296Z"
   },
   {
    "duration": 4,
    "start_time": "2021-08-24T09:27:48.330Z"
   },
   {
    "duration": 7,
    "start_time": "2021-08-24T09:27:48.336Z"
   },
   {
    "duration": 16387,
    "start_time": "2021-08-24T09:27:48.345Z"
   },
   {
    "duration": 3,
    "start_time": "2021-08-24T09:28:35.189Z"
   },
   {
    "duration": 3364,
    "start_time": "2021-08-24T09:28:36.139Z"
   },
   {
    "duration": 474,
    "start_time": "2021-08-24T09:32:51.781Z"
   },
   {
    "duration": 1811,
    "start_time": "2021-08-24T09:34:10.758Z"
   },
   {
    "duration": 8,
    "start_time": "2021-08-24T09:43:37.997Z"
   },
   {
    "duration": 18,
    "start_time": "2021-08-24T09:43:38.008Z"
   },
   {
    "duration": 112,
    "start_time": "2021-08-24T09:43:38.030Z"
   },
   {
    "duration": 6,
    "start_time": "2021-08-24T09:43:38.146Z"
   },
   {
    "duration": 43,
    "start_time": "2021-08-24T09:43:38.154Z"
   },
   {
    "duration": 14,
    "start_time": "2021-08-24T09:43:38.200Z"
   },
   {
    "duration": 64,
    "start_time": "2021-08-24T09:43:38.217Z"
   },
   {
    "duration": 5,
    "start_time": "2021-08-24T09:43:38.300Z"
   },
   {
    "duration": 37,
    "start_time": "2021-08-24T09:43:38.308Z"
   },
   {
    "duration": 9,
    "start_time": "2021-08-24T09:43:38.348Z"
   },
   {
    "duration": 8,
    "start_time": "2021-08-24T09:43:38.360Z"
   },
   {
    "duration": 31,
    "start_time": "2021-08-24T09:43:38.370Z"
   },
   {
    "duration": 4159,
    "start_time": "2021-08-24T09:43:38.403Z"
   },
   {
    "duration": 1959,
    "start_time": "2021-08-24T09:43:42.564Z"
   },
   {
    "duration": 4,
    "start_time": "2021-08-24T09:45:41.551Z"
   },
   {
    "duration": 4,
    "start_time": "2021-08-24T09:45:42.227Z"
   },
   {
    "duration": 4213,
    "start_time": "2021-08-24T09:45:43.074Z"
   },
   {
    "duration": 9,
    "start_time": "2021-08-24T09:46:31.700Z"
   },
   {
    "duration": 12,
    "start_time": "2021-08-24T09:46:31.712Z"
   },
   {
    "duration": 134,
    "start_time": "2021-08-24T09:46:31.727Z"
   },
   {
    "duration": 5,
    "start_time": "2021-08-24T09:46:31.864Z"
   },
   {
    "duration": 35,
    "start_time": "2021-08-24T09:46:31.872Z"
   },
   {
    "duration": 14,
    "start_time": "2021-08-24T09:46:31.909Z"
   },
   {
    "duration": 80,
    "start_time": "2021-08-24T09:46:31.925Z"
   },
   {
    "duration": 4,
    "start_time": "2021-08-24T09:46:32.008Z"
   },
   {
    "duration": 39,
    "start_time": "2021-08-24T09:46:32.015Z"
   },
   {
    "duration": 12,
    "start_time": "2021-08-24T09:46:32.057Z"
   },
   {
    "duration": 31,
    "start_time": "2021-08-24T09:46:32.071Z"
   },
   {
    "duration": 17,
    "start_time": "2021-08-24T09:46:32.104Z"
   },
   {
    "duration": 4169,
    "start_time": "2021-08-24T09:46:32.123Z"
   },
   {
    "duration": 9550,
    "start_time": "2021-08-24T09:46:36.294Z"
   },
   {
    "duration": 6,
    "start_time": "2021-08-24T09:47:05.332Z"
   },
   {
    "duration": 16,
    "start_time": "2021-08-24T09:47:05.341Z"
   },
   {
    "duration": 114,
    "start_time": "2021-08-24T09:47:05.360Z"
   },
   {
    "duration": 4,
    "start_time": "2021-08-24T09:47:05.477Z"
   },
   {
    "duration": 43,
    "start_time": "2021-08-24T09:47:05.483Z"
   },
   {
    "duration": 14,
    "start_time": "2021-08-24T09:47:05.528Z"
   },
   {
    "duration": 90,
    "start_time": "2021-08-24T09:47:05.544Z"
   },
   {
    "duration": 5,
    "start_time": "2021-08-24T09:47:05.636Z"
   },
   {
    "duration": 58,
    "start_time": "2021-08-24T09:47:05.644Z"
   },
   {
    "duration": 10,
    "start_time": "2021-08-24T09:47:05.705Z"
   },
   {
    "duration": 9,
    "start_time": "2021-08-24T09:47:05.717Z"
   },
   {
    "duration": 7,
    "start_time": "2021-08-24T09:47:05.728Z"
   },
   {
    "duration": 3556,
    "start_time": "2021-08-24T09:47:05.737Z"
   },
   {
    "duration": 9647,
    "start_time": "2021-08-24T09:47:09.295Z"
   },
   {
    "duration": 10,
    "start_time": "2021-08-24T09:47:35.077Z"
   },
   {
    "duration": 11,
    "start_time": "2021-08-24T09:47:35.091Z"
   },
   {
    "duration": 118,
    "start_time": "2021-08-24T09:47:35.106Z"
   },
   {
    "duration": 5,
    "start_time": "2021-08-24T09:47:35.227Z"
   },
   {
    "duration": 40,
    "start_time": "2021-08-24T09:47:35.235Z"
   },
   {
    "duration": 24,
    "start_time": "2021-08-24T09:47:35.278Z"
   },
   {
    "duration": 64,
    "start_time": "2021-08-24T09:47:35.305Z"
   },
   {
    "duration": 4,
    "start_time": "2021-08-24T09:47:35.372Z"
   },
   {
    "duration": 57,
    "start_time": "2021-08-24T09:47:35.379Z"
   },
   {
    "duration": 14,
    "start_time": "2021-08-24T09:47:35.440Z"
   },
   {
    "duration": 7,
    "start_time": "2021-08-24T09:47:35.457Z"
   },
   {
    "duration": 37,
    "start_time": "2021-08-24T09:47:35.467Z"
   },
   {
    "duration": 4242,
    "start_time": "2021-08-24T09:47:35.507Z"
   },
   {
    "duration": 3693,
    "start_time": "2021-08-24T09:47:39.751Z"
   },
   {
    "duration": 7,
    "start_time": "2021-08-24T09:49:03.890Z"
   },
   {
    "duration": 10,
    "start_time": "2021-08-24T09:49:03.901Z"
   },
   {
    "duration": 108,
    "start_time": "2021-08-24T09:49:03.913Z"
   },
   {
    "duration": 5,
    "start_time": "2021-08-24T09:49:04.024Z"
   },
   {
    "duration": 35,
    "start_time": "2021-08-24T09:49:04.031Z"
   },
   {
    "duration": 15,
    "start_time": "2021-08-24T09:49:04.068Z"
   },
   {
    "duration": 63,
    "start_time": "2021-08-24T09:49:04.101Z"
   },
   {
    "duration": 4,
    "start_time": "2021-08-24T09:49:04.166Z"
   },
   {
    "duration": 58,
    "start_time": "2021-08-24T09:49:04.173Z"
   },
   {
    "duration": 9,
    "start_time": "2021-08-24T09:49:04.234Z"
   },
   {
    "duration": 3,
    "start_time": "2021-08-24T09:49:04.246Z"
   },
   {
    "duration": 7,
    "start_time": "2021-08-24T09:49:04.252Z"
   },
   {
    "duration": 4393,
    "start_time": "2021-08-24T09:49:04.262Z"
   },
   {
    "duration": 2013,
    "start_time": "2021-08-24T09:49:08.657Z"
   },
   {
    "duration": 10,
    "start_time": "2021-08-24T09:49:50.643Z"
   },
   {
    "duration": 31,
    "start_time": "2021-08-24T09:49:50.657Z"
   },
   {
    "duration": 100,
    "start_time": "2021-08-24T09:49:50.691Z"
   },
   {
    "duration": 5,
    "start_time": "2021-08-24T09:49:50.794Z"
   },
   {
    "duration": 40,
    "start_time": "2021-08-24T09:49:50.802Z"
   },
   {
    "duration": 14,
    "start_time": "2021-08-24T09:49:50.844Z"
   },
   {
    "duration": 95,
    "start_time": "2021-08-24T09:49:50.860Z"
   },
   {
    "duration": 4,
    "start_time": "2021-08-24T09:49:50.959Z"
   },
   {
    "duration": 63,
    "start_time": "2021-08-24T09:49:50.966Z"
   },
   {
    "duration": 10,
    "start_time": "2021-08-24T09:49:51.032Z"
   },
   {
    "duration": 11,
    "start_time": "2021-08-24T09:49:51.045Z"
   },
   {
    "duration": 16,
    "start_time": "2021-08-24T09:49:51.058Z"
   },
   {
    "duration": 4230,
    "start_time": "2021-08-24T09:49:51.076Z"
   },
   {
    "duration": 2148,
    "start_time": "2021-08-24T09:49:55.309Z"
   },
   {
    "duration": 798,
    "start_time": "2021-08-24T09:52:10.247Z"
   },
   {
    "duration": 4001,
    "start_time": "2021-08-24T09:52:30.793Z"
   },
   {
    "duration": 3890,
    "start_time": "2021-08-24T09:52:48.414Z"
   },
   {
    "duration": 4214,
    "start_time": "2021-08-24T09:55:39.507Z"
   },
   {
    "duration": 854,
    "start_time": "2021-08-24T10:17:31.583Z"
   },
   {
    "duration": 828,
    "start_time": "2021-08-24T10:18:03.288Z"
   },
   {
    "duration": 827,
    "start_time": "2021-08-24T10:18:31.027Z"
   },
   {
    "duration": 899,
    "start_time": "2021-08-24T10:19:05.155Z"
   },
   {
    "duration": 1072,
    "start_time": "2021-08-24T10:22:20.832Z"
   },
   {
    "duration": 862,
    "start_time": "2021-08-24T10:22:31.369Z"
   },
   {
    "duration": 758,
    "start_time": "2021-08-24T10:22:38.804Z"
   },
   {
    "duration": 2189,
    "start_time": "2021-08-24T10:23:58.576Z"
   },
   {
    "duration": 1961,
    "start_time": "2021-08-24T10:25:03.280Z"
   },
   {
    "duration": 2115,
    "start_time": "2021-08-24T10:25:11.994Z"
   },
   {
    "duration": 2093,
    "start_time": "2021-08-24T10:26:39.472Z"
   },
   {
    "duration": 2353,
    "start_time": "2021-08-24T10:26:50.394Z"
   },
   {
    "duration": 2333,
    "start_time": "2021-08-24T10:27:59.899Z"
   },
   {
    "duration": 2923,
    "start_time": "2021-08-24T10:28:45.593Z"
   },
   {
    "duration": 206,
    "start_time": "2021-08-24T10:29:42.568Z"
   },
   {
    "duration": 2164,
    "start_time": "2021-08-24T10:29:52.153Z"
   },
   {
    "duration": 2346,
    "start_time": "2021-08-24T10:31:41.431Z"
   },
   {
    "duration": 2090,
    "start_time": "2021-08-24T10:38:22.642Z"
   },
   {
    "duration": 1963,
    "start_time": "2021-08-24T10:38:41.391Z"
   },
   {
    "duration": 2127,
    "start_time": "2021-08-24T10:39:19.456Z"
   },
   {
    "duration": 2150,
    "start_time": "2021-08-24T10:40:26.225Z"
   },
   {
    "duration": 139,
    "start_time": "2021-08-24T10:40:48.192Z"
   },
   {
    "duration": 1824,
    "start_time": "2021-08-24T10:41:08.807Z"
   },
   {
    "duration": 2895,
    "start_time": "2021-08-24T10:43:21.098Z"
   },
   {
    "duration": 1973,
    "start_time": "2021-08-24T10:43:41.431Z"
   },
   {
    "duration": 2135,
    "start_time": "2021-08-24T10:45:00.162Z"
   },
   {
    "duration": 1983,
    "start_time": "2021-08-24T10:45:19.536Z"
   },
   {
    "duration": 1872,
    "start_time": "2021-08-24T10:45:31.711Z"
   },
   {
    "duration": 2050,
    "start_time": "2021-08-24T10:47:18.768Z"
   },
   {
    "duration": 1995,
    "start_time": "2021-08-24T10:47:57.405Z"
   },
   {
    "duration": 1904,
    "start_time": "2021-08-24T10:48:16.775Z"
   },
   {
    "duration": 1946,
    "start_time": "2021-08-24T10:55:09.095Z"
   },
   {
    "duration": 982,
    "start_time": "2021-08-24T10:56:11.200Z"
   },
   {
    "duration": 2007,
    "start_time": "2021-08-24T10:56:22.136Z"
   },
   {
    "duration": 2129,
    "start_time": "2021-08-24T10:57:23.944Z"
   },
   {
    "duration": 35,
    "start_time": "2021-08-24T11:06:30.328Z"
   },
   {
    "duration": 35,
    "start_time": "2021-08-24T11:06:54.153Z"
   },
   {
    "duration": 538,
    "start_time": "2021-08-24T11:55:00.900Z"
   },
   {
    "duration": 5,
    "start_time": "2021-08-24T11:55:22.464Z"
   },
   {
    "duration": 8,
    "start_time": "2021-08-24T11:55:24.092Z"
   },
   {
    "duration": 7,
    "start_time": "2021-08-24T12:20:18.491Z"
   },
   {
    "duration": 24,
    "start_time": "2021-08-24T12:20:18.500Z"
   },
   {
    "duration": 172,
    "start_time": "2021-08-24T12:20:18.527Z"
   },
   {
    "duration": 5,
    "start_time": "2021-08-24T12:20:18.701Z"
   },
   {
    "duration": 36,
    "start_time": "2021-08-24T12:20:18.708Z"
   },
   {
    "duration": 13,
    "start_time": "2021-08-24T12:20:18.746Z"
   },
   {
    "duration": 92,
    "start_time": "2021-08-24T12:20:18.762Z"
   },
   {
    "duration": 4,
    "start_time": "2021-08-24T12:20:18.857Z"
   },
   {
    "duration": 45,
    "start_time": "2021-08-24T12:20:18.864Z"
   },
   {
    "duration": 10,
    "start_time": "2021-08-24T12:20:18.912Z"
   },
   {
    "duration": 11,
    "start_time": "2021-08-24T12:20:18.924Z"
   },
   {
    "duration": 15,
    "start_time": "2021-08-24T12:20:18.937Z"
   },
   {
    "duration": 4084,
    "start_time": "2021-08-24T12:20:18.954Z"
   },
   {
    "duration": 2049,
    "start_time": "2021-08-24T12:20:23.040Z"
   },
   {
    "duration": 2144,
    "start_time": "2021-08-24T12:20:25.092Z"
   },
   {
    "duration": 6,
    "start_time": "2021-08-24T12:20:27.239Z"
   },
   {
    "duration": 14,
    "start_time": "2021-08-24T12:20:27.248Z"
   },
   {
    "duration": 40,
    "start_time": "2021-08-24T12:20:27.265Z"
   },
   {
    "duration": 5,
    "start_time": "2021-08-24T12:20:27.308Z"
   },
   {
    "duration": 978,
    "start_time": "2021-08-24T12:20:27.316Z"
   },
   {
    "duration": 7,
    "start_time": "2021-08-24T12:22:19.421Z"
   },
   {
    "duration": 7,
    "start_time": "2021-08-24T12:22:19.431Z"
   },
   {
    "duration": 101,
    "start_time": "2021-08-24T12:22:19.441Z"
   },
   {
    "duration": 4,
    "start_time": "2021-08-24T12:22:19.545Z"
   },
   {
    "duration": 42,
    "start_time": "2021-08-24T12:22:19.551Z"
   },
   {
    "duration": 13,
    "start_time": "2021-08-24T12:22:19.596Z"
   },
   {
    "duration": 63,
    "start_time": "2021-08-24T12:22:19.612Z"
   },
   {
    "duration": 3,
    "start_time": "2021-08-24T12:22:19.679Z"
   },
   {
    "duration": 47,
    "start_time": "2021-08-24T12:22:19.685Z"
   },
   {
    "duration": 10,
    "start_time": "2021-08-24T12:22:19.734Z"
   },
   {
    "duration": 13,
    "start_time": "2021-08-24T12:22:19.746Z"
   },
   {
    "duration": 7,
    "start_time": "2021-08-24T12:22:19.762Z"
   },
   {
    "duration": 4184,
    "start_time": "2021-08-24T12:22:19.771Z"
   },
   {
    "duration": 2076,
    "start_time": "2021-08-24T12:22:23.957Z"
   },
   {
    "duration": 2101,
    "start_time": "2021-08-24T12:22:26.036Z"
   },
   {
    "duration": 6,
    "start_time": "2021-08-24T12:22:28.140Z"
   },
   {
    "duration": 13,
    "start_time": "2021-08-24T12:22:28.149Z"
   },
   {
    "duration": 36,
    "start_time": "2021-08-24T12:22:28.165Z"
   },
   {
    "duration": 6,
    "start_time": "2021-08-24T12:22:28.204Z"
   },
   {
    "duration": 961,
    "start_time": "2021-08-24T12:22:28.212Z"
   },
   {
    "duration": 7,
    "start_time": "2021-08-24T12:27:27.617Z"
   },
   {
    "duration": 7,
    "start_time": "2021-08-24T12:27:27.633Z"
   },
   {
    "duration": 153,
    "start_time": "2021-08-24T12:27:27.642Z"
   },
   {
    "duration": 4,
    "start_time": "2021-08-24T12:27:27.798Z"
   },
   {
    "duration": 31,
    "start_time": "2021-08-24T12:27:27.805Z"
   },
   {
    "duration": 13,
    "start_time": "2021-08-24T12:27:27.839Z"
   },
   {
    "duration": 93,
    "start_time": "2021-08-24T12:27:27.855Z"
   },
   {
    "duration": 4,
    "start_time": "2021-08-24T12:27:27.950Z"
   },
   {
    "duration": 53,
    "start_time": "2021-08-24T12:27:27.956Z"
   },
   {
    "duration": 9,
    "start_time": "2021-08-24T12:27:28.014Z"
   },
   {
    "duration": 9,
    "start_time": "2021-08-24T12:27:28.026Z"
   },
   {
    "duration": 13,
    "start_time": "2021-08-24T12:27:28.037Z"
   },
   {
    "duration": 4207,
    "start_time": "2021-08-24T12:27:28.052Z"
   },
   {
    "duration": 2264,
    "start_time": "2021-08-24T12:27:32.262Z"
   },
   {
    "duration": 2244,
    "start_time": "2021-08-24T12:27:34.529Z"
   },
   {
    "duration": 8,
    "start_time": "2021-08-24T12:27:36.776Z"
   },
   {
    "duration": 9,
    "start_time": "2021-08-24T12:27:36.802Z"
   },
   {
    "duration": 13,
    "start_time": "2021-08-24T12:27:36.815Z"
   },
   {
    "duration": 11,
    "start_time": "2021-08-24T12:27:36.831Z"
   },
   {
    "duration": 172,
    "start_time": "2021-08-24T12:27:36.844Z"
   },
   {
    "duration": 521,
    "start_time": "2021-08-24T17:48:49.500Z"
   },
   {
    "duration": 387,
    "start_time": "2021-08-24T18:27:57.496Z"
   },
   {
    "duration": -1447,
    "start_time": "2021-08-24T18:27:59.332Z"
   },
   {
    "duration": -1459,
    "start_time": "2021-08-24T18:27:59.346Z"
   },
   {
    "duration": -1460,
    "start_time": "2021-08-24T18:27:59.348Z"
   },
   {
    "duration": -1460,
    "start_time": "2021-08-24T18:27:59.350Z"
   },
   {
    "duration": 8,
    "start_time": "2021-08-24T18:28:18.285Z"
   },
   {
    "duration": 9,
    "start_time": "2021-08-24T18:28:18.295Z"
   },
   {
    "duration": 175,
    "start_time": "2021-08-24T18:28:18.306Z"
   },
   {
    "duration": 4,
    "start_time": "2021-08-24T18:28:18.484Z"
   },
   {
    "duration": 38,
    "start_time": "2021-08-24T18:28:18.490Z"
   },
   {
    "duration": 14,
    "start_time": "2021-08-24T18:28:18.530Z"
   },
   {
    "duration": 88,
    "start_time": "2021-08-24T18:28:18.546Z"
   },
   {
    "duration": 4,
    "start_time": "2021-08-24T18:28:18.639Z"
   },
   {
    "duration": 36,
    "start_time": "2021-08-24T18:28:18.646Z"
   },
   {
    "duration": 10,
    "start_time": "2021-08-24T18:28:18.701Z"
   },
   {
    "duration": 3,
    "start_time": "2021-08-24T18:28:18.714Z"
   },
   {
    "duration": 8,
    "start_time": "2021-08-24T18:28:18.720Z"
   },
   {
    "duration": 4174,
    "start_time": "2021-08-24T18:28:18.730Z"
   },
   {
    "duration": 2024,
    "start_time": "2021-08-24T18:28:22.906Z"
   },
   {
    "duration": 2022,
    "start_time": "2021-08-24T18:28:24.933Z"
   },
   {
    "duration": 6,
    "start_time": "2021-08-24T18:28:26.957Z"
   },
   {
    "duration": 10,
    "start_time": "2021-08-24T18:28:26.966Z"
   },
   {
    "duration": 30,
    "start_time": "2021-08-24T18:28:26.978Z"
   },
   {
    "duration": 9,
    "start_time": "2021-08-24T18:28:27.011Z"
   },
   {
    "duration": 31,
    "start_time": "2021-08-24T18:28:27.023Z"
   },
   {
    "duration": 45,
    "start_time": "2021-08-24T18:28:27.057Z"
   },
   {
    "duration": 108,
    "start_time": "2021-08-24T18:28:27.105Z"
   },
   {
    "duration": 18,
    "start_time": "2021-08-24T18:28:27.303Z"
   },
   {
    "duration": 524,
    "start_time": "2021-08-24T18:28:27.324Z"
   },
   {
    "duration": 7,
    "start_time": "2021-08-24T18:37:00.224Z"
   },
   {
    "duration": 18,
    "start_time": "2021-08-24T18:37:00.234Z"
   },
   {
    "duration": 143,
    "start_time": "2021-08-24T18:37:00.255Z"
   },
   {
    "duration": 4,
    "start_time": "2021-08-24T18:37:00.401Z"
   },
   {
    "duration": 36,
    "start_time": "2021-08-24T18:37:00.407Z"
   },
   {
    "duration": 15,
    "start_time": "2021-08-24T18:37:00.445Z"
   },
   {
    "duration": 94,
    "start_time": "2021-08-24T18:37:00.463Z"
   },
   {
    "duration": 5,
    "start_time": "2021-08-24T18:37:00.559Z"
   },
   {
    "duration": 61,
    "start_time": "2021-08-24T18:37:00.568Z"
   },
   {
    "duration": 9,
    "start_time": "2021-08-24T18:37:00.633Z"
   },
   {
    "duration": 17,
    "start_time": "2021-08-24T18:37:00.645Z"
   },
   {
    "duration": 11,
    "start_time": "2021-08-24T18:37:00.665Z"
   },
   {
    "duration": 4207,
    "start_time": "2021-08-24T18:37:00.678Z"
   },
   {
    "duration": 2082,
    "start_time": "2021-08-24T18:37:04.888Z"
   },
   {
    "duration": 2042,
    "start_time": "2021-08-24T18:37:06.973Z"
   },
   {
    "duration": 6,
    "start_time": "2021-08-24T18:37:09.017Z"
   },
   {
    "duration": 12,
    "start_time": "2021-08-24T18:37:09.025Z"
   },
   {
    "duration": 17,
    "start_time": "2021-08-24T18:37:09.039Z"
   },
   {
    "duration": 6,
    "start_time": "2021-08-24T18:37:09.059Z"
   },
   {
    "duration": 55,
    "start_time": "2021-08-24T18:37:09.067Z"
   },
   {
    "duration": 80,
    "start_time": "2021-08-24T18:37:09.125Z"
   },
   {
    "duration": 593,
    "start_time": "2021-08-24T18:37:09.209Z"
   },
   {
    "duration": 57,
    "start_time": "2021-08-24T18:37:09.804Z"
   },
   {
    "duration": 6,
    "start_time": "2021-08-24T18:37:09.863Z"
   },
   {
    "duration": 38,
    "start_time": "2021-08-24T18:37:09.871Z"
   },
   {
    "duration": 15,
    "start_time": "2021-08-24T18:37:09.911Z"
   },
   {
    "duration": 14,
    "start_time": "2021-08-24T19:00:58.369Z"
   },
   {
    "duration": 4,
    "start_time": "2021-08-24T19:46:48.361Z"
   },
   {
    "duration": 22,
    "start_time": "2021-08-24T19:47:26.257Z"
   },
   {
    "duration": 15,
    "start_time": "2021-08-24T19:51:57.551Z"
   },
   {
    "duration": 27,
    "start_time": "2021-08-24T19:52:50.794Z"
   },
   {
    "duration": 37,
    "start_time": "2021-08-24T19:55:38.148Z"
   },
   {
    "duration": 36,
    "start_time": "2021-08-24T19:55:48.070Z"
   },
   {
    "duration": 26,
    "start_time": "2021-08-24T19:58:29.761Z"
   },
   {
    "duration": 1539,
    "start_time": "2021-08-25T07:48:22.977Z"
   },
   {
    "duration": 5,
    "start_time": "2021-08-25T07:48:24.518Z"
   },
   {
    "duration": 180,
    "start_time": "2021-08-25T07:48:24.526Z"
   },
   {
    "duration": 5,
    "start_time": "2021-08-25T07:48:24.709Z"
   },
   {
    "duration": 42,
    "start_time": "2021-08-25T07:48:24.716Z"
   },
   {
    "duration": 14,
    "start_time": "2021-08-25T07:48:24.760Z"
   },
   {
    "duration": 66,
    "start_time": "2021-08-25T07:48:24.776Z"
   },
   {
    "duration": 18,
    "start_time": "2021-08-25T07:48:24.844Z"
   },
   {
    "duration": 643,
    "start_time": "2021-08-25T07:48:24.866Z"
   },
   {
    "duration": 18,
    "start_time": "2021-08-25T07:48:25.512Z"
   },
   {
    "duration": 4,
    "start_time": "2021-08-25T07:48:25.533Z"
   },
   {
    "duration": 22,
    "start_time": "2021-08-25T07:48:25.539Z"
   },
   {
    "duration": 4086,
    "start_time": "2021-08-25T07:48:25.563Z"
   },
   {
    "duration": 2101,
    "start_time": "2021-08-25T07:48:29.652Z"
   },
   {
    "duration": 1908,
    "start_time": "2021-08-25T07:48:31.762Z"
   },
   {
    "duration": 6,
    "start_time": "2021-08-25T07:48:33.672Z"
   },
   {
    "duration": 9,
    "start_time": "2021-08-25T07:48:33.680Z"
   },
   {
    "duration": 9,
    "start_time": "2021-08-25T07:48:33.692Z"
   },
   {
    "duration": 6,
    "start_time": "2021-08-25T07:48:33.703Z"
   },
   {
    "duration": 63,
    "start_time": "2021-08-25T07:48:33.712Z"
   },
   {
    "duration": 12,
    "start_time": "2021-08-25T07:48:33.777Z"
   },
   {
    "duration": 543,
    "start_time": "2021-08-25T07:48:33.864Z"
   },
   {
    "duration": 71,
    "start_time": "2021-08-25T07:48:34.409Z"
   },
   {
    "duration": 5,
    "start_time": "2021-08-25T07:48:34.482Z"
   },
   {
    "duration": 18,
    "start_time": "2021-08-25T07:48:34.489Z"
   },
   {
    "duration": 15,
    "start_time": "2021-08-25T07:48:34.510Z"
   },
   {
    "duration": 53,
    "start_time": "2021-08-25T07:48:34.529Z"
   },
   {
    "duration": 34,
    "start_time": "2021-08-25T07:48:34.585Z"
   },
   {
    "duration": 8,
    "start_time": "2021-08-25T08:05:43.386Z"
   },
   {
    "duration": 139729,
    "start_time": "2021-08-25T08:08:59.154Z"
   },
   {
    "duration": 3,
    "start_time": "2021-08-25T08:17:16.553Z"
   },
   {
    "duration": 445,
    "start_time": "2021-08-25T08:17:17.467Z"
   },
   {
    "duration": 1483,
    "start_time": "2021-08-25T08:18:08.779Z"
   },
   {
    "duration": 288,
    "start_time": "2021-08-25T08:19:55.628Z"
   },
   {
    "duration": 16,
    "start_time": "2021-08-25T08:20:13.713Z"
   },
   {
    "duration": 8,
    "start_time": "2021-08-25T08:31:07.376Z"
   },
   {
    "duration": 94,
    "start_time": "2021-08-25T08:31:47.186Z"
   },
   {
    "duration": 1204,
    "start_time": "2021-08-25T08:31:59.969Z"
   },
   {
    "duration": 3935,
    "start_time": "2021-08-25T08:32:20.037Z"
   },
   {
    "duration": 3524,
    "start_time": "2021-08-25T08:36:21.365Z"
   },
   {
    "duration": 3542,
    "start_time": "2021-08-25T08:36:55.955Z"
   },
   {
    "duration": 3633,
    "start_time": "2021-08-25T09:23:37.193Z"
   },
   {
    "duration": 4185,
    "start_time": "2021-08-25T09:25:46.123Z"
   },
   {
    "duration": 3744,
    "start_time": "2021-08-25T09:27:47.273Z"
   },
   {
    "duration": 4577,
    "start_time": "2021-08-25T09:28:10.873Z"
   },
   {
    "duration": 4133,
    "start_time": "2021-08-25T09:29:05.239Z"
   },
   {
    "duration": 2182,
    "start_time": "2021-08-25T09:29:18.057Z"
   },
   {
    "duration": 275,
    "start_time": "2021-08-25T09:31:14.058Z"
   },
   {
    "duration": 240,
    "start_time": "2021-08-25T09:32:41.986Z"
   },
   {
    "duration": 309,
    "start_time": "2021-08-25T09:32:53.811Z"
   },
   {
    "duration": 1897,
    "start_time": "2021-08-25T09:33:03.160Z"
   },
   {
    "duration": 306,
    "start_time": "2021-08-25T09:33:30.682Z"
   },
   {
    "duration": 4231,
    "start_time": "2021-08-25T09:33:42.372Z"
   },
   {
    "duration": 837,
    "start_time": "2021-08-25T09:35:03.888Z"
   },
   {
    "duration": 5615,
    "start_time": "2021-08-25T09:35:15.610Z"
   },
   {
    "duration": 4948,
    "start_time": "2021-08-25T09:36:00.585Z"
   },
   {
    "duration": 4549,
    "start_time": "2021-08-25T09:36:43.892Z"
   },
   {
    "duration": 4759,
    "start_time": "2021-08-25T09:37:31.922Z"
   },
   {
    "duration": 282,
    "start_time": "2021-08-25T09:40:48.803Z"
   },
   {
    "duration": 235,
    "start_time": "2021-08-25T09:40:55.548Z"
   },
   {
    "duration": 5,
    "start_time": "2021-08-25T09:43:07.338Z"
   },
   {
    "duration": 18,
    "start_time": "2021-08-25T09:43:07.345Z"
   },
   {
    "duration": 4788,
    "start_time": "2021-08-25T09:43:07.369Z"
   },
   {
    "duration": 5411,
    "start_time": "2021-08-25T09:43:12.163Z"
   },
   {
    "duration": 303,
    "start_time": "2021-08-25T09:43:17.578Z"
   },
   {
    "duration": 291,
    "start_time": "2021-08-25T09:43:29.707Z"
   },
   {
    "duration": 37,
    "start_time": "2021-08-25T09:43:38.483Z"
   },
   {
    "duration": 1028,
    "start_time": "2021-08-25T09:44:08.850Z"
   },
   {
    "duration": 26,
    "start_time": "2021-08-25T09:44:20.735Z"
   },
   {
    "duration": 13,
    "start_time": "2021-08-25T09:45:51.862Z"
   },
   {
    "duration": 326,
    "start_time": "2021-08-25T09:46:50.498Z"
   },
   {
    "duration": 565,
    "start_time": "2021-08-25T09:47:01.290Z"
   },
   {
    "duration": 9,
    "start_time": "2021-08-25T09:49:21.305Z"
   },
   {
    "duration": 9,
    "start_time": "2021-08-25T09:49:49.912Z"
   },
   {
    "duration": 4,
    "start_time": "2021-08-25T09:50:56.411Z"
   },
   {
    "duration": 1456,
    "start_time": "2021-08-25T09:50:56.417Z"
   },
   {
    "duration": 96,
    "start_time": "2021-08-25T09:50:57.879Z"
   },
   {
    "duration": 4,
    "start_time": "2021-08-25T09:50:57.978Z"
   },
   {
    "duration": 14,
    "start_time": "2021-08-25T09:50:57.984Z"
   },
   {
    "duration": 5065,
    "start_time": "2021-08-25T09:50:58.001Z"
   },
   {
    "duration": 4704,
    "start_time": "2021-08-25T09:51:03.069Z"
   },
   {
    "duration": 9,
    "start_time": "2021-08-25T09:51:07.775Z"
   },
   {
    "duration": 577,
    "start_time": "2021-08-25T09:51:07.787Z"
   },
   {
    "duration": 7,
    "start_time": "2021-08-25T09:51:08.367Z"
   },
   {
    "duration": 537,
    "start_time": "2021-08-25T10:05:23.050Z"
   },
   {
    "duration": 5,
    "start_time": "2021-08-25T10:10:36.910Z"
   },
   {
    "duration": 4,
    "start_time": "2021-08-25T10:10:44.857Z"
   },
   {
    "duration": 13,
    "start_time": "2021-08-25T10:10:44.864Z"
   },
   {
    "duration": 4548,
    "start_time": "2021-08-25T10:10:44.884Z"
   },
   {
    "duration": 4961,
    "start_time": "2021-08-25T10:10:49.435Z"
   },
   {
    "duration": 11,
    "start_time": "2021-08-25T10:10:54.399Z"
   },
   {
    "duration": 605,
    "start_time": "2021-08-25T10:10:54.413Z"
   },
   {
    "duration": 19,
    "start_time": "2021-08-25T10:11:28.624Z"
   },
   {
    "duration": 777,
    "start_time": "2021-08-25T10:11:32.585Z"
   },
   {
    "duration": 9,
    "start_time": "2021-08-25T10:15:22.439Z"
   },
   {
    "duration": 610,
    "start_time": "2021-08-25T10:15:29.786Z"
   },
   {
    "duration": 676,
    "start_time": "2021-08-25T10:16:48.744Z"
   },
   {
    "duration": 9,
    "start_time": "2021-08-25T10:17:06.441Z"
   },
   {
    "duration": 8,
    "start_time": "2021-08-25T12:00:01.736Z"
   },
   {
    "duration": 33,
    "start_time": "2021-08-25T12:00:01.746Z"
   },
   {
    "duration": 121,
    "start_time": "2021-08-25T12:00:01.782Z"
   },
   {
    "duration": 5,
    "start_time": "2021-08-25T12:00:01.906Z"
   },
   {
    "duration": 52,
    "start_time": "2021-08-25T12:00:01.914Z"
   },
   {
    "duration": 14,
    "start_time": "2021-08-25T12:00:01.969Z"
   },
   {
    "duration": 84,
    "start_time": "2021-08-25T12:00:01.986Z"
   },
   {
    "duration": 4,
    "start_time": "2021-08-25T12:00:02.072Z"
   },
   {
    "duration": 55,
    "start_time": "2021-08-25T12:00:02.080Z"
   },
   {
    "duration": 9,
    "start_time": "2021-08-25T12:00:02.138Z"
   },
   {
    "duration": 32,
    "start_time": "2021-08-25T12:00:02.150Z"
   },
   {
    "duration": 30,
    "start_time": "2021-08-25T12:00:02.185Z"
   },
   {
    "duration": 4300,
    "start_time": "2021-08-25T12:00:02.218Z"
   },
   {
    "duration": 2098,
    "start_time": "2021-08-25T12:00:06.520Z"
   },
   {
    "duration": 2015,
    "start_time": "2021-08-25T12:00:08.620Z"
   },
   {
    "duration": 6,
    "start_time": "2021-08-25T12:00:10.637Z"
   },
   {
    "duration": 21,
    "start_time": "2021-08-25T12:00:10.645Z"
   },
   {
    "duration": 53,
    "start_time": "2021-08-25T12:00:10.668Z"
   },
   {
    "duration": 139,
    "start_time": "2021-08-25T12:00:10.724Z"
   },
   {
    "duration": 611,
    "start_time": "2021-08-25T12:00:10.867Z"
   },
   {
    "duration": 59,
    "start_time": "2021-08-25T12:00:11.481Z"
   },
   {
    "duration": 22,
    "start_time": "2021-08-25T12:00:11.542Z"
   },
   {
    "duration": 36,
    "start_time": "2021-08-25T12:00:11.567Z"
   },
   {
    "duration": 14,
    "start_time": "2021-08-25T12:00:11.606Z"
   },
   {
    "duration": 39,
    "start_time": "2021-08-25T12:00:11.623Z"
   },
   {
    "duration": 36,
    "start_time": "2021-08-25T12:00:11.665Z"
   },
   {
    "duration": 8,
    "start_time": "2021-08-25T12:00:11.706Z"
   },
   {
    "duration": 142393,
    "start_time": "2021-08-25T12:00:11.717Z"
   },
   {
    "duration": 3,
    "start_time": "2021-08-25T12:02:34.113Z"
   },
   {
    "duration": 1550,
    "start_time": "2021-08-25T12:02:34.118Z"
   },
   {
    "duration": 101,
    "start_time": "2021-08-25T12:02:35.670Z"
   },
   {
    "duration": 9,
    "start_time": "2021-08-25T12:02:35.773Z"
   },
   {
    "duration": 9,
    "start_time": "2021-08-25T12:02:35.785Z"
   },
   {
    "duration": 4585,
    "start_time": "2021-08-25T12:02:35.796Z"
   },
   {
    "duration": 4720,
    "start_time": "2021-08-25T12:02:40.384Z"
   },
   {
    "duration": 9,
    "start_time": "2021-08-25T12:02:45.106Z"
   },
   {
    "duration": 588,
    "start_time": "2021-08-25T12:02:45.118Z"
   },
   {
    "duration": 11,
    "start_time": "2021-08-25T12:02:45.710Z"
   },
   {
    "duration": 578,
    "start_time": "2021-08-25T12:07:59.998Z"
   },
   {
    "duration": 565,
    "start_time": "2021-08-25T12:08:26.220Z"
   },
   {
    "duration": 1812,
    "start_time": "2021-08-25T13:04:41.751Z"
   },
   {
    "duration": 21,
    "start_time": "2021-08-25T13:04:43.565Z"
   },
   {
    "duration": 7,
    "start_time": "2021-08-25T13:04:43.589Z"
   },
   {
    "duration": 13,
    "start_time": "2021-08-25T13:04:43.598Z"
   },
   {
    "duration": 4839,
    "start_time": "2021-08-25T13:04:43.614Z"
   },
   {
    "duration": 4629,
    "start_time": "2021-08-25T13:04:48.462Z"
   },
   {
    "duration": 8,
    "start_time": "2021-08-25T13:04:53.093Z"
   },
   {
    "duration": 561,
    "start_time": "2021-08-25T13:04:53.103Z"
   },
   {
    "duration": 8,
    "start_time": "2021-08-25T13:04:53.668Z"
   },
   {
    "duration": 13,
    "start_time": "2021-08-25T13:34:30.773Z"
   },
   {
    "duration": 557,
    "start_time": "2021-08-25T13:35:30.016Z"
   },
   {
    "duration": 20,
    "start_time": "2021-08-25T13:36:11.847Z"
   },
   {
    "duration": 8,
    "start_time": "2021-08-25T13:54:35.544Z"
   },
   {
    "duration": 14,
    "start_time": "2021-08-25T13:54:35.555Z"
   },
   {
    "duration": 123,
    "start_time": "2021-08-25T13:54:35.572Z"
   },
   {
    "duration": 5,
    "start_time": "2021-08-25T13:54:35.698Z"
   },
   {
    "duration": 47,
    "start_time": "2021-08-25T13:54:35.706Z"
   },
   {
    "duration": 13,
    "start_time": "2021-08-25T13:54:35.755Z"
   },
   {
    "duration": 63,
    "start_time": "2021-08-25T13:54:35.771Z"
   },
   {
    "duration": 3,
    "start_time": "2021-08-25T13:54:35.837Z"
   },
   {
    "duration": 32,
    "start_time": "2021-08-25T13:54:35.863Z"
   },
   {
    "duration": 10,
    "start_time": "2021-08-25T13:54:35.898Z"
   },
   {
    "duration": 9,
    "start_time": "2021-08-25T13:54:35.910Z"
   },
   {
    "duration": 18,
    "start_time": "2021-08-25T13:54:35.921Z"
   },
   {
    "duration": 4137,
    "start_time": "2021-08-25T13:54:35.941Z"
   },
   {
    "duration": 2194,
    "start_time": "2021-08-25T13:54:40.081Z"
   },
   {
    "duration": 1912,
    "start_time": "2021-08-25T13:54:42.277Z"
   },
   {
    "duration": 6,
    "start_time": "2021-08-25T13:54:44.191Z"
   },
   {
    "duration": 16,
    "start_time": "2021-08-25T13:54:44.199Z"
   },
   {
    "duration": 61,
    "start_time": "2021-08-25T13:54:44.218Z"
   },
   {
    "duration": 81,
    "start_time": "2021-08-25T13:54:44.281Z"
   },
   {
    "duration": 540,
    "start_time": "2021-08-25T13:54:44.366Z"
   },
   {
    "duration": 70,
    "start_time": "2021-08-25T13:54:44.909Z"
   },
   {
    "duration": 6,
    "start_time": "2021-08-25T13:54:44.982Z"
   },
   {
    "duration": 25,
    "start_time": "2021-08-25T13:54:44.990Z"
   },
   {
    "duration": 17,
    "start_time": "2021-08-25T13:54:45.018Z"
   },
   {
    "duration": 43,
    "start_time": "2021-08-25T13:54:45.038Z"
   },
   {
    "duration": 51,
    "start_time": "2021-08-25T13:54:45.084Z"
   },
   {
    "duration": 7,
    "start_time": "2021-08-25T13:54:45.140Z"
   },
   {
    "duration": 141785,
    "start_time": "2021-08-25T13:54:45.150Z"
   },
   {
    "duration": 4,
    "start_time": "2021-08-25T13:57:06.937Z"
   },
   {
    "duration": 1924,
    "start_time": "2021-08-25T13:57:06.943Z"
   },
   {
    "duration": 20,
    "start_time": "2021-08-25T13:57:08.869Z"
   },
   {
    "duration": 4,
    "start_time": "2021-08-25T13:57:08.891Z"
   },
   {
    "duration": 10,
    "start_time": "2021-08-25T13:57:08.898Z"
   },
   {
    "duration": 4362,
    "start_time": "2021-08-25T13:57:08.910Z"
   },
   {
    "duration": 5002,
    "start_time": "2021-08-25T13:57:13.275Z"
   },
   {
    "duration": 21,
    "start_time": "2021-08-25T13:57:18.279Z"
   },
   {
    "duration": 600,
    "start_time": "2021-08-25T13:57:18.303Z"
   },
   {
    "duration": 10,
    "start_time": "2021-08-25T14:20:48.562Z"
   },
   {
    "duration": 6,
    "start_time": "2021-08-25T14:20:48.575Z"
   },
   {
    "duration": 67,
    "start_time": "2021-08-25T14:20:48.585Z"
   },
   {
    "duration": 5,
    "start_time": "2021-08-25T14:20:48.655Z"
   },
   {
    "duration": 38,
    "start_time": "2021-08-25T14:20:48.664Z"
   },
   {
    "duration": 14,
    "start_time": "2021-08-25T14:20:48.902Z"
   },
   {
    "duration": 63,
    "start_time": "2021-08-25T14:20:48.919Z"
   },
   {
    "duration": 4,
    "start_time": "2021-08-25T14:20:48.985Z"
   },
   {
    "duration": 42,
    "start_time": "2021-08-25T14:20:48.991Z"
   },
   {
    "duration": 28,
    "start_time": "2021-08-25T14:20:49.035Z"
   },
   {
    "duration": 6,
    "start_time": "2021-08-25T14:20:49.066Z"
   },
   {
    "duration": 7,
    "start_time": "2021-08-25T14:20:49.076Z"
   },
   {
    "duration": 4539,
    "start_time": "2021-08-25T14:20:49.085Z"
   },
   {
    "duration": 2328,
    "start_time": "2021-08-25T14:20:53.628Z"
   },
   {
    "duration": 2059,
    "start_time": "2021-08-25T14:20:55.966Z"
   },
   {
    "duration": 5,
    "start_time": "2021-08-25T14:20:58.028Z"
   },
   {
    "duration": 29,
    "start_time": "2021-08-25T14:20:58.035Z"
   },
   {
    "duration": 61,
    "start_time": "2021-08-25T14:20:58.068Z"
   },
   {
    "duration": 131,
    "start_time": "2021-08-25T14:20:58.132Z"
   },
   {
    "duration": 260,
    "start_time": "2021-08-25T14:20:58.266Z"
   },
   {
    "duration": -2885,
    "start_time": "2021-08-25T14:21:01.414Z"
   },
   {
    "duration": -2887,
    "start_time": "2021-08-25T14:21:01.418Z"
   },
   {
    "duration": -2888,
    "start_time": "2021-08-25T14:21:01.420Z"
   },
   {
    "duration": -2889,
    "start_time": "2021-08-25T14:21:01.422Z"
   },
   {
    "duration": -2889,
    "start_time": "2021-08-25T14:21:01.424Z"
   },
   {
    "duration": -2891,
    "start_time": "2021-08-25T14:21:01.427Z"
   },
   {
    "duration": -2892,
    "start_time": "2021-08-25T14:21:01.430Z"
   },
   {
    "duration": -2893,
    "start_time": "2021-08-25T14:21:01.432Z"
   },
   {
    "duration": -2894,
    "start_time": "2021-08-25T14:21:01.434Z"
   },
   {
    "duration": -2894,
    "start_time": "2021-08-25T14:21:01.436Z"
   },
   {
    "duration": -2895,
    "start_time": "2021-08-25T14:21:01.438Z"
   },
   {
    "duration": -2895,
    "start_time": "2021-08-25T14:21:01.440Z"
   },
   {
    "duration": -2896,
    "start_time": "2021-08-25T14:21:01.442Z"
   },
   {
    "duration": -2897,
    "start_time": "2021-08-25T14:21:01.444Z"
   },
   {
    "duration": -2897,
    "start_time": "2021-08-25T14:21:01.446Z"
   },
   {
    "duration": -2897,
    "start_time": "2021-08-25T14:21:01.447Z"
   },
   {
    "duration": -2897,
    "start_time": "2021-08-25T14:21:01.449Z"
   },
   {
    "duration": 12,
    "start_time": "2021-08-25T14:22:00.488Z"
   },
   {
    "duration": 16,
    "start_time": "2021-08-25T14:22:00.504Z"
   },
   {
    "duration": 63,
    "start_time": "2021-08-25T14:22:00.523Z"
   },
   {
    "duration": 5,
    "start_time": "2021-08-25T14:22:00.589Z"
   },
   {
    "duration": 51,
    "start_time": "2021-08-25T14:22:00.597Z"
   },
   {
    "duration": 15,
    "start_time": "2021-08-25T14:22:00.651Z"
   },
   {
    "duration": 73,
    "start_time": "2021-08-25T14:22:00.668Z"
   },
   {
    "duration": 4,
    "start_time": "2021-08-25T14:22:00.744Z"
   },
   {
    "duration": 36,
    "start_time": "2021-08-25T14:22:00.765Z"
   },
   {
    "duration": 11,
    "start_time": "2021-08-25T14:22:00.804Z"
   },
   {
    "duration": 37,
    "start_time": "2021-08-25T14:22:00.817Z"
   },
   {
    "duration": 16,
    "start_time": "2021-08-25T14:22:00.857Z"
   },
   {
    "duration": 4316,
    "start_time": "2021-08-25T14:22:00.876Z"
   },
   {
    "duration": 2448,
    "start_time": "2021-08-25T14:22:05.194Z"
   },
   {
    "duration": 1963,
    "start_time": "2021-08-25T14:22:07.644Z"
   },
   {
    "duration": 8,
    "start_time": "2021-08-25T14:22:09.610Z"
   },
   {
    "duration": 14,
    "start_time": "2021-08-25T14:22:09.621Z"
   },
   {
    "duration": 93,
    "start_time": "2021-08-25T14:22:09.639Z"
   },
   {
    "duration": 34,
    "start_time": "2021-08-25T14:22:09.736Z"
   },
   {
    "duration": 277,
    "start_time": "2021-08-25T14:22:09.773Z"
   },
   {
    "duration": -2822,
    "start_time": "2021-08-25T14:22:12.875Z"
   },
   {
    "duration": -2823,
    "start_time": "2021-08-25T14:22:12.878Z"
   },
   {
    "duration": -2826,
    "start_time": "2021-08-25T14:22:12.882Z"
   },
   {
    "duration": -2828,
    "start_time": "2021-08-25T14:22:12.886Z"
   },
   {
    "duration": -2829,
    "start_time": "2021-08-25T14:22:12.888Z"
   },
   {
    "duration": -2842,
    "start_time": "2021-08-25T14:22:12.902Z"
   },
   {
    "duration": -2844,
    "start_time": "2021-08-25T14:22:12.906Z"
   },
   {
    "duration": -2846,
    "start_time": "2021-08-25T14:22:12.909Z"
   },
   {
    "duration": -2847,
    "start_time": "2021-08-25T14:22:12.911Z"
   },
   {
    "duration": -2848,
    "start_time": "2021-08-25T14:22:12.914Z"
   },
   {
    "duration": -2849,
    "start_time": "2021-08-25T14:22:12.916Z"
   },
   {
    "duration": -2851,
    "start_time": "2021-08-25T14:22:12.919Z"
   },
   {
    "duration": -2852,
    "start_time": "2021-08-25T14:22:12.922Z"
   },
   {
    "duration": -2853,
    "start_time": "2021-08-25T14:22:12.924Z"
   },
   {
    "duration": -2862,
    "start_time": "2021-08-25T14:22:12.935Z"
   },
   {
    "duration": -2863,
    "start_time": "2021-08-25T14:22:12.937Z"
   },
   {
    "duration": -2865,
    "start_time": "2021-08-25T14:22:12.940Z"
   },
   {
    "duration": 8,
    "start_time": "2021-08-25T14:23:15.993Z"
   },
   {
    "duration": 7,
    "start_time": "2021-08-25T14:23:16.003Z"
   },
   {
    "duration": 63,
    "start_time": "2021-08-25T14:23:16.013Z"
   },
   {
    "duration": 5,
    "start_time": "2021-08-25T14:23:16.078Z"
   },
   {
    "duration": 33,
    "start_time": "2021-08-25T14:23:16.085Z"
   },
   {
    "duration": 12,
    "start_time": "2021-08-25T14:23:16.120Z"
   },
   {
    "duration": 62,
    "start_time": "2021-08-25T14:23:16.162Z"
   },
   {
    "duration": 4,
    "start_time": "2021-08-25T14:23:16.226Z"
   },
   {
    "duration": 32,
    "start_time": "2021-08-25T14:23:16.262Z"
   },
   {
    "duration": 9,
    "start_time": "2021-08-25T14:23:16.297Z"
   },
   {
    "duration": 7,
    "start_time": "2021-08-25T14:23:16.309Z"
   },
   {
    "duration": 9,
    "start_time": "2021-08-25T14:23:16.318Z"
   },
   {
    "duration": 4140,
    "start_time": "2021-08-25T14:23:16.329Z"
   },
   {
    "duration": 2170,
    "start_time": "2021-08-25T14:23:20.471Z"
   },
   {
    "duration": 1896,
    "start_time": "2021-08-25T14:23:22.644Z"
   },
   {
    "duration": 5,
    "start_time": "2021-08-25T14:23:24.542Z"
   },
   {
    "duration": 17,
    "start_time": "2021-08-25T14:23:24.549Z"
   },
   {
    "duration": 50,
    "start_time": "2021-08-25T14:23:24.569Z"
   },
   {
    "duration": 42,
    "start_time": "2021-08-25T14:23:24.621Z"
   },
   {
    "duration": 639,
    "start_time": "2021-08-25T14:23:24.667Z"
   },
   {
    "duration": 72,
    "start_time": "2021-08-25T14:23:25.308Z"
   },
   {
    "duration": 6,
    "start_time": "2021-08-25T14:23:25.383Z"
   },
   {
    "duration": 21,
    "start_time": "2021-08-25T14:23:25.391Z"
   },
   {
    "duration": 13,
    "start_time": "2021-08-25T14:23:25.414Z"
   },
   {
    "duration": 50,
    "start_time": "2021-08-25T14:23:25.430Z"
   },
   {
    "duration": 36,
    "start_time": "2021-08-25T14:23:25.482Z"
   },
   {
    "duration": 8,
    "start_time": "2021-08-25T14:23:25.522Z"
   },
   {
    "duration": 136784,
    "start_time": "2021-08-25T14:23:25.532Z"
   },
   {
    "duration": 4,
    "start_time": "2021-08-25T14:25:42.318Z"
   },
   {
    "duration": 1443,
    "start_time": "2021-08-25T14:25:42.324Z"
   },
   {
    "duration": 102,
    "start_time": "2021-08-25T14:25:43.769Z"
   },
   {
    "duration": 11,
    "start_time": "2021-08-25T14:25:43.874Z"
   },
   {
    "duration": 20,
    "start_time": "2021-08-25T14:25:43.887Z"
   },
   {
    "duration": 4019,
    "start_time": "2021-08-25T14:25:43.909Z"
   },
   {
    "duration": 4880,
    "start_time": "2021-08-25T14:25:47.930Z"
   },
   {
    "duration": 22,
    "start_time": "2021-08-25T14:25:52.813Z"
   },
   {
    "duration": 588,
    "start_time": "2021-08-25T14:25:52.861Z"
   },
   {
    "duration": 4724,
    "start_time": "2021-08-25T14:53:08.922Z"
   },
   {
    "duration": 17,
    "start_time": "2021-08-25T15:36:03.356Z"
   },
   {
    "duration": 1370,
    "start_time": "2021-08-26T06:52:03.835Z"
   },
   {
    "duration": 4,
    "start_time": "2021-08-26T06:52:05.207Z"
   },
   {
    "duration": 75,
    "start_time": "2021-08-26T06:52:05.213Z"
   },
   {
    "duration": 4,
    "start_time": "2021-08-26T06:52:05.290Z"
   },
   {
    "duration": 31,
    "start_time": "2021-08-26T06:52:05.296Z"
   },
   {
    "duration": 8,
    "start_time": "2021-08-26T06:52:05.328Z"
   },
   {
    "duration": 55,
    "start_time": "2021-08-26T06:52:05.338Z"
   },
   {
    "duration": 3,
    "start_time": "2021-08-26T06:52:05.394Z"
   },
   {
    "duration": 169682,
    "start_time": "2021-08-26T06:52:05.400Z"
   },
   {
    "duration": 10,
    "start_time": "2021-08-26T06:54:55.084Z"
   },
   {
    "duration": 8,
    "start_time": "2021-08-26T06:54:55.097Z"
   },
   {
    "duration": 15,
    "start_time": "2021-08-26T06:54:55.107Z"
   },
   {
    "duration": 2800,
    "start_time": "2021-08-26T06:54:55.123Z"
   },
   {
    "duration": 577,
    "start_time": "2021-08-26T06:54:57.924Z"
   },
   {
    "duration": 19,
    "start_time": "2021-08-26T06:54:58.484Z"
   },
   {
    "duration": 17,
    "start_time": "2021-08-26T06:54:58.487Z"
   },
   {
    "duration": 16,
    "start_time": "2021-08-26T06:54:58.489Z"
   },
   {
    "duration": 14,
    "start_time": "2021-08-26T06:54:58.492Z"
   },
   {
    "duration": 13,
    "start_time": "2021-08-26T06:54:58.494Z"
   },
   {
    "duration": 12,
    "start_time": "2021-08-26T06:54:58.496Z"
   },
   {
    "duration": 11,
    "start_time": "2021-08-26T06:54:58.498Z"
   },
   {
    "duration": 10,
    "start_time": "2021-08-26T06:54:58.500Z"
   },
   {
    "duration": 9,
    "start_time": "2021-08-26T06:54:58.502Z"
   },
   {
    "duration": 8,
    "start_time": "2021-08-26T06:54:58.504Z"
   },
   {
    "duration": 7,
    "start_time": "2021-08-26T06:54:58.506Z"
   },
   {
    "duration": 6,
    "start_time": "2021-08-26T06:54:58.508Z"
   },
   {
    "duration": 5,
    "start_time": "2021-08-26T06:54:58.510Z"
   },
   {
    "duration": 28,
    "start_time": "2021-08-26T06:54:58.512Z"
   },
   {
    "duration": 27,
    "start_time": "2021-08-26T06:54:58.514Z"
   },
   {
    "duration": 26,
    "start_time": "2021-08-26T06:54:58.517Z"
   },
   {
    "duration": 25,
    "start_time": "2021-08-26T06:54:58.519Z"
   },
   {
    "duration": 24,
    "start_time": "2021-08-26T06:54:58.521Z"
   },
   {
    "duration": 23,
    "start_time": "2021-08-26T06:54:58.523Z"
   },
   {
    "duration": 21,
    "start_time": "2021-08-26T06:54:58.526Z"
   },
   {
    "duration": 20,
    "start_time": "2021-08-26T06:54:58.528Z"
   },
   {
    "duration": 19,
    "start_time": "2021-08-26T06:54:58.530Z"
   },
   {
    "duration": 1519,
    "start_time": "2021-08-26T06:58:11.973Z"
   },
   {
    "duration": 4,
    "start_time": "2021-08-26T06:58:19.702Z"
   },
   {
    "duration": 17,
    "start_time": "2021-08-26T06:58:19.709Z"
   },
   {
    "duration": 40,
    "start_time": "2021-08-26T06:58:19.728Z"
   },
   {
    "duration": 9,
    "start_time": "2021-08-26T06:58:19.770Z"
   },
   {
    "duration": 512,
    "start_time": "2021-08-26T06:58:19.781Z"
   },
   {
    "duration": 37,
    "start_time": "2021-08-26T06:58:20.294Z"
   },
   {
    "duration": 4,
    "start_time": "2021-08-26T06:58:20.333Z"
   },
   {
    "duration": 27,
    "start_time": "2021-08-26T06:58:20.338Z"
   },
   {
    "duration": 9,
    "start_time": "2021-08-26T06:58:20.369Z"
   },
   {
    "duration": 16,
    "start_time": "2021-08-26T06:58:20.380Z"
   },
   {
    "duration": 21,
    "start_time": "2021-08-26T06:58:20.398Z"
   },
   {
    "duration": 30,
    "start_time": "2021-08-26T06:58:20.420Z"
   },
   {
    "duration": 92850,
    "start_time": "2021-08-26T06:58:20.452Z"
   },
   {
    "duration": 3,
    "start_time": "2021-08-26T06:59:53.303Z"
   },
   {
    "duration": 1437,
    "start_time": "2021-08-26T06:59:53.307Z"
   },
   {
    "duration": 107,
    "start_time": "2021-08-26T06:59:54.746Z"
   },
   {
    "duration": 3,
    "start_time": "2021-08-26T06:59:54.855Z"
   },
   {
    "duration": 8,
    "start_time": "2021-08-26T06:59:54.860Z"
   },
   {
    "duration": 4011,
    "start_time": "2021-08-26T06:59:54.869Z"
   },
   {
    "duration": 2693,
    "start_time": "2021-08-26T06:59:58.882Z"
   },
   {
    "duration": 14,
    "start_time": "2021-08-26T07:00:01.577Z"
   },
   {
    "duration": 1498,
    "start_time": "2021-08-26T07:37:13.079Z"
   },
   {
    "duration": 5,
    "start_time": "2021-08-26T07:37:14.580Z"
   },
   {
    "duration": 191,
    "start_time": "2021-08-26T07:37:14.589Z"
   },
   {
    "duration": 5,
    "start_time": "2021-08-26T07:37:14.783Z"
   },
   {
    "duration": 38,
    "start_time": "2021-08-26T07:37:14.791Z"
   },
   {
    "duration": 36,
    "start_time": "2021-08-26T07:37:14.832Z"
   },
   {
    "duration": 61,
    "start_time": "2021-08-26T07:37:14.878Z"
   },
   {
    "duration": 4,
    "start_time": "2021-08-26T07:37:14.961Z"
   },
   {
    "duration": 673,
    "start_time": "2021-08-26T07:37:14.969Z"
   },
   {
    "duration": 30,
    "start_time": "2021-08-26T07:37:15.646Z"
   },
   {
    "duration": 4,
    "start_time": "2021-08-26T07:37:15.678Z"
   },
   {
    "duration": 10,
    "start_time": "2021-08-26T07:37:15.685Z"
   },
   {
    "duration": 4237,
    "start_time": "2021-08-26T07:37:15.698Z"
   },
   {
    "duration": 2205,
    "start_time": "2021-08-26T07:37:19.938Z"
   },
   {
    "duration": 1919,
    "start_time": "2021-08-26T07:37:22.145Z"
   },
   {
    "duration": 6,
    "start_time": "2021-08-26T07:37:24.066Z"
   },
   {
    "duration": 11,
    "start_time": "2021-08-26T07:37:24.075Z"
   },
   {
    "duration": 74,
    "start_time": "2021-08-26T07:37:24.088Z"
   },
   {
    "duration": 9,
    "start_time": "2021-08-26T07:37:24.165Z"
   },
   {
    "duration": 529,
    "start_time": "2021-08-26T07:37:24.263Z"
   },
   {
    "duration": 72,
    "start_time": "2021-08-26T07:37:24.794Z"
   },
   {
    "duration": 5,
    "start_time": "2021-08-26T07:37:24.869Z"
   },
   {
    "duration": 16,
    "start_time": "2021-08-26T07:37:24.877Z"
   },
   {
    "duration": 22,
    "start_time": "2021-08-26T07:37:24.895Z"
   },
   {
    "duration": 46,
    "start_time": "2021-08-26T07:37:24.919Z"
   },
   {
    "duration": 40,
    "start_time": "2021-08-26T07:37:24.967Z"
   },
   {
    "duration": 7,
    "start_time": "2021-08-26T07:37:25.012Z"
   },
   {
    "duration": 145592,
    "start_time": "2021-08-26T07:37:25.022Z"
   },
   {
    "duration": 4,
    "start_time": "2021-08-26T07:39:50.616Z"
   },
   {
    "duration": 1442,
    "start_time": "2021-08-26T07:39:50.622Z"
   },
   {
    "duration": 106,
    "start_time": "2021-08-26T07:39:52.070Z"
   },
   {
    "duration": 4,
    "start_time": "2021-08-26T07:39:52.180Z"
   },
   {
    "duration": 20,
    "start_time": "2021-08-26T07:39:52.187Z"
   },
   {
    "duration": 4850,
    "start_time": "2021-08-26T07:39:52.210Z"
   },
   {
    "duration": 4462,
    "start_time": "2021-08-26T07:39:57.064Z"
   },
   {
    "duration": 36,
    "start_time": "2021-08-26T07:40:01.529Z"
   },
   {
    "duration": 7,
    "start_time": "2021-08-26T07:55:23.755Z"
   },
   {
    "duration": 18,
    "start_time": "2021-08-26T07:55:23.765Z"
   },
   {
    "duration": 62,
    "start_time": "2021-08-26T07:55:23.789Z"
   },
   {
    "duration": 4,
    "start_time": "2021-08-26T07:55:23.854Z"
   },
   {
    "duration": 43,
    "start_time": "2021-08-26T07:55:23.861Z"
   },
   {
    "duration": 14,
    "start_time": "2021-08-26T07:55:23.906Z"
   },
   {
    "duration": 96,
    "start_time": "2021-08-26T07:55:23.923Z"
   },
   {
    "duration": 4,
    "start_time": "2021-08-26T07:55:24.021Z"
   },
   {
    "duration": 57,
    "start_time": "2021-08-26T07:55:24.029Z"
   },
   {
    "duration": 12,
    "start_time": "2021-08-26T07:55:24.090Z"
   },
   {
    "duration": 9,
    "start_time": "2021-08-26T07:55:24.105Z"
   },
   {
    "duration": 10,
    "start_time": "2021-08-26T07:55:24.117Z"
   },
   {
    "duration": 4278,
    "start_time": "2021-08-26T07:55:24.130Z"
   },
   {
    "duration": 2165,
    "start_time": "2021-08-26T07:55:28.410Z"
   },
   {
    "duration": 1859,
    "start_time": "2021-08-26T07:55:30.578Z"
   },
   {
    "duration": 5,
    "start_time": "2021-08-26T07:55:32.440Z"
   },
   {
    "duration": 28,
    "start_time": "2021-08-26T07:55:32.447Z"
   },
   {
    "duration": 63,
    "start_time": "2021-08-26T07:55:32.478Z"
   },
   {
    "duration": 24,
    "start_time": "2021-08-26T07:55:32.543Z"
   },
   {
    "duration": 619,
    "start_time": "2021-08-26T07:55:32.569Z"
   },
   {
    "duration": 71,
    "start_time": "2021-08-26T07:55:33.191Z"
   },
   {
    "duration": 5,
    "start_time": "2021-08-26T07:55:33.265Z"
   },
   {
    "duration": 29,
    "start_time": "2021-08-26T07:55:33.273Z"
   },
   {
    "duration": 14,
    "start_time": "2021-08-26T07:55:33.304Z"
   },
   {
    "duration": 55,
    "start_time": "2021-08-26T07:55:33.321Z"
   },
   {
    "duration": 44,
    "start_time": "2021-08-26T07:55:33.380Z"
   },
   {
    "duration": 7,
    "start_time": "2021-08-26T07:55:33.430Z"
   },
   {
    "duration": 155117,
    "start_time": "2021-08-26T07:55:33.439Z"
   },
   {
    "duration": 5,
    "start_time": "2021-08-26T07:58:08.561Z"
   },
   {
    "duration": 1493,
    "start_time": "2021-08-26T07:58:08.569Z"
   },
   {
    "duration": 18,
    "start_time": "2021-08-26T07:58:10.065Z"
   },
   {
    "duration": 5,
    "start_time": "2021-08-26T07:58:10.085Z"
   },
   {
    "duration": 17,
    "start_time": "2021-08-26T07:58:10.093Z"
   },
   {
    "duration": 4231,
    "start_time": "2021-08-26T07:58:10.113Z"
   },
   {
    "duration": 4768,
    "start_time": "2021-08-26T07:58:14.346Z"
   },
   {
    "duration": 20,
    "start_time": "2021-08-26T07:58:19.116Z"
   },
   {
    "duration": 1603,
    "start_time": "2021-09-30T05:17:23.298Z"
   },
   {
    "duration": 6,
    "start_time": "2021-09-30T05:17:24.903Z"
   },
   {
    "duration": 234,
    "start_time": "2021-09-30T05:17:24.916Z"
   },
   {
    "duration": 4,
    "start_time": "2021-09-30T05:17:25.153Z"
   },
   {
    "duration": 40,
    "start_time": "2021-09-30T05:17:25.160Z"
   },
   {
    "duration": 15,
    "start_time": "2021-09-30T05:17:25.202Z"
   },
   {
    "duration": 72,
    "start_time": "2021-09-30T05:17:25.219Z"
   },
   {
    "duration": 4,
    "start_time": "2021-09-30T05:17:25.293Z"
   },
   {
    "duration": 870,
    "start_time": "2021-09-30T05:17:25.301Z"
   },
   {
    "duration": 18,
    "start_time": "2021-09-30T05:17:26.175Z"
   },
   {
    "duration": 5,
    "start_time": "2021-09-30T05:17:26.196Z"
   },
   {
    "duration": 17,
    "start_time": "2021-09-30T05:17:26.204Z"
   },
   {
    "duration": 4229,
    "start_time": "2021-09-30T05:17:26.224Z"
   },
   {
    "duration": 2195,
    "start_time": "2021-09-30T05:17:30.456Z"
   },
   {
    "duration": 2003,
    "start_time": "2021-09-30T05:17:32.653Z"
   },
   {
    "duration": 6,
    "start_time": "2021-09-30T05:17:34.659Z"
   },
   {
    "duration": 21,
    "start_time": "2021-09-30T05:17:34.667Z"
   },
   {
    "duration": 64,
    "start_time": "2021-09-30T05:17:34.691Z"
   },
   {
    "duration": 62,
    "start_time": "2021-09-30T05:17:34.758Z"
   },
   {
    "duration": 637,
    "start_time": "2021-09-30T05:17:34.824Z"
   },
   {
    "duration": 72,
    "start_time": "2021-09-30T05:17:35.464Z"
   },
   {
    "duration": 5,
    "start_time": "2021-09-30T05:17:35.539Z"
   },
   {
    "duration": 24,
    "start_time": "2021-09-30T05:17:35.546Z"
   },
   {
    "duration": 15,
    "start_time": "2021-09-30T05:17:35.573Z"
   },
   {
    "duration": 26,
    "start_time": "2021-09-30T05:17:35.615Z"
   },
   {
    "duration": 39,
    "start_time": "2021-09-30T05:17:35.644Z"
   },
   {
    "duration": 33,
    "start_time": "2021-09-30T05:17:35.688Z"
   },
   {
    "duration": 142693,
    "start_time": "2021-09-30T05:17:35.724Z"
   },
   {
    "duration": 3,
    "start_time": "2021-09-30T05:19:58.419Z"
   },
   {
    "duration": 1791,
    "start_time": "2021-09-30T05:19:58.426Z"
   },
   {
    "duration": 20,
    "start_time": "2021-09-30T05:20:00.220Z"
   },
   {
    "duration": 4,
    "start_time": "2021-09-30T05:20:00.243Z"
   },
   {
    "duration": 11,
    "start_time": "2021-09-30T05:20:00.250Z"
   },
   {
    "duration": 5121,
    "start_time": "2021-09-30T05:20:00.264Z"
   },
   {
    "duration": 4964,
    "start_time": "2021-09-30T05:20:05.388Z"
   },
   {
    "duration": 21,
    "start_time": "2021-09-30T05:20:10.355Z"
   }
  ],
  "kernelspec": {
   "display_name": "Python 3",
   "language": "python",
   "name": "python3"
  },
  "language_info": {
   "codemirror_mode": {
    "name": "ipython",
    "version": 3
   },
   "file_extension": ".py",
   "mimetype": "text/x-python",
   "name": "python",
   "nbconvert_exporter": "python",
   "pygments_lexer": "ipython3",
   "version": "3.7.8"
  },
  "toc": {
   "base_numbering": 1,
   "nav_menu": {},
   "number_sections": true,
   "sideBar": true,
   "skip_h1_title": true,
   "title_cell": "Оглавление",
   "title_sidebar": "Contents",
   "toc_cell": true,
   "toc_position": {},
   "toc_section_display": true,
   "toc_window_display": false
  }
 },
 "nbformat": 4,
 "nbformat_minor": 2
}
