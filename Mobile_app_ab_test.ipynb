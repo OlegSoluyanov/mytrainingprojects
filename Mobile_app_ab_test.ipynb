{
 "cells": [
  {
   "cell_type": "markdown",
   "metadata": {},
   "source": [
    "# Аналитика мобильного приложения"
   ]
  },
  {
   "cell_type": "markdown",
   "metadata": {},
   "source": [
    "**ОПИСАНИЕ ПРОЕКТА:**\n",
    "\n",
    "**Необходимо проанализировать как изменилось поведение пользователей мобильного приложения стартапа по продаже продуктов питания в двух контрольных и одной экспериментальной группе после изменения шрифтов во всем приложении**\n",
    "\n",
    "**ОПИСАНИЕ ДАННЫХ:**\n",
    "\n",
    "**Файл с данными logs.csv**\n",
    "\n",
    "<br>**EventName** — ***название события;***\n",
    "<br>**DeviceIDHash** — ***уникальный идентификатор пользователя;***\n",
    "<br>**EventTimestamp** — ***время события;***\n",
    "<br>**ExpId** — ***номер эксперимента: 246 и 247 — контрольные группы, а 248 — экспериментальная;***"
   ]
  },
  {
   "cell_type": "markdown",
   "metadata": {},
   "source": [
    "<h1>Оглавление<span class=\"tocSkip\"></span></h1>\n",
    "<div class=\"toc\"><ul class=\"toc-item\"><li><span><a href=\"#Чтение-файла-с-данными-и-изучение-общей-информации\" data-toc-modified-id=\"Чтение-файла-с-данными-и-изучение-общей-информации-1\"><span class=\"toc-item-num\">1&nbsp;&nbsp;</span>Чтение файла с данными и изучение общей информации</a></span></li><li><span><a href=\"#Подготовка-данных\" data-toc-modified-id=\"Подготовка-данных-2\"><span class=\"toc-item-num\">2&nbsp;&nbsp;</span>Подготовка данных</a></span><ul class=\"toc-item\"><li><span><a href=\"#Обработка-столбцов\" data-toc-modified-id=\"Обработка-столбцов-2.1\"><span class=\"toc-item-num\">2.1&nbsp;&nbsp;</span>Обработка столбцов</a></span></li><li><span><a href=\"#Обработка-дубликатов-и-типов-данных\" data-toc-modified-id=\"Обработка-дубликатов-и-типов-данных-2.2\"><span class=\"toc-item-num\">2.2&nbsp;&nbsp;</span>Обработка дубликатов и типов данных</a></span></li><li><span><a href=\"#Добавдение-столбца-с-датой\" data-toc-modified-id=\"Добавдение-столбца-с-датой-2.3\"><span class=\"toc-item-num\">2.3&nbsp;&nbsp;</span>Добавдение столбца с датой</a></span></li></ul></li><li><span><a href=\"#Изучение-и-проверка-данных\" data-toc-modified-id=\"Изучение-и-проверка-данных-3\"><span class=\"toc-item-num\">3&nbsp;&nbsp;</span>Изучение и проверка данных</a></span><ul class=\"toc-item\"><li><span><a href=\"#Количество-событий,-пользователей,-среднее-число-событий-на-пользователя\" data-toc-modified-id=\"Количество-событий,-пользователей,-среднее-число-событий-на-пользователя-3.1\"><span class=\"toc-item-num\">3.1&nbsp;&nbsp;</span>Количество событий, пользователей, среднее число событий на пользователя</a></span></li><li><span><a href=\"#Период-данных\" data-toc-modified-id=\"Период-данных-3.2\"><span class=\"toc-item-num\">3.2&nbsp;&nbsp;</span>Период данных</a></span></li><li><span><a href=\"#Процент-потерь-в-данных-после-актуализации-периода\" data-toc-modified-id=\"Процент-потерь-в-данных-после-актуализации-периода-3.3\"><span class=\"toc-item-num\">3.3&nbsp;&nbsp;</span>Процент потерь в данных после актуализации периода</a></span></li><li><span><a href=\"#Пользователи-эксперементальных-групп\" data-toc-modified-id=\"Пользователи-эксперементальных-групп-3.4\"><span class=\"toc-item-num\">3.4&nbsp;&nbsp;</span>Пользователи эксперементальных групп</a></span></li></ul></li><li><span><a href=\"#Изучение-воронки-событий\" data-toc-modified-id=\"Изучение-воронки-событий-4\"><span class=\"toc-item-num\">4&nbsp;&nbsp;</span>Изучение воронки событий</a></span><ul class=\"toc-item\"><li><span><a href=\"#Частотность-событий-в-логах\" data-toc-modified-id=\"Частотность-событий-в-логах-4.1\"><span class=\"toc-item-num\">4.1&nbsp;&nbsp;</span>Частотность событий в логах</a></span></li><li><span><a href=\"#Количество-пользователей-совершивших-событие\" data-toc-modified-id=\"Количество-пользователей-совершивших-событие-4.2\"><span class=\"toc-item-num\">4.2&nbsp;&nbsp;</span>Количество пользователей совершивших событие</a></span></li><li><span><a href=\"#Пользовательская-воронка\" data-toc-modified-id=\"Пользовательская-воронка-4.3\"><span class=\"toc-item-num\">4.3&nbsp;&nbsp;</span>Пользовательская воронка</a></span></li></ul></li><li><span><a href=\"#Анализ-результатов-эксперимента\" data-toc-modified-id=\"Анализ-результатов-эксперимента-5\"><span class=\"toc-item-num\">5&nbsp;&nbsp;</span>Анализ результатов эксперимента</a></span><ul class=\"toc-item\"><li><span><a href=\"#Количество-пользователей-в-экспериментальных-группах\" data-toc-modified-id=\"Количество-пользователей-в-экспериментальных-группах-5.1\"><span class=\"toc-item-num\">5.1&nbsp;&nbsp;</span>Количество пользователей в экспериментальных группах</a></span></li><li><span><a href=\"#Группы-для-АА-эксперимента\" data-toc-modified-id=\"Группы-для-АА-эксперимента-5.2\"><span class=\"toc-item-num\">5.2&nbsp;&nbsp;</span>Группы для АА эксперимента</a></span></li><li><span><a href=\"#Cтатистический-тест-для-АА-групп\" data-toc-modified-id=\"Cтатистический-тест-для-АА-групп-5.3\"><span class=\"toc-item-num\">5.3&nbsp;&nbsp;</span>Cтатистический тест для АА групп</a></span></li><li><span><a href=\"#Статистический-тест-для-AB-групп\" data-toc-modified-id=\"Статистический-тест-для-AB-групп-5.4\"><span class=\"toc-item-num\">5.4&nbsp;&nbsp;</span>Статистический тест для AB групп</a></span></li></ul></li></ul></div>"
   ]
  },
  {
   "cell_type": "code",
   "execution_count": 53,
   "metadata": {},
   "outputs": [],
   "source": [
    "# Импорт необходимых библиотек\n",
    "import pandas as pd\n",
    "import seaborn as sns ; sns.set()\n",
    "import matplotlib.pyplot as plt\n",
    "import matplotlib.ticker as ticker\n",
    "import matplotlib.dates as mdates\n",
    "from plotly import graph_objects as go\n",
    "import numpy as np\n",
    "import datetime as dt\n",
    "import scipy.stats as st\n",
    "from scipy import stats\n",
    "import math as mth\n",
    "\n",
    "import warnings\n",
    "warnings.simplefilter(action='ignore', category=FutureWarning)\n",
    "sns.set_style('darkgrid')\n",
    "pd.set_option('display.max_colwidth', 255)\n",
    "pd.set_option('display.float_format', lambda x: '%.2f' % x)\n",
    "pd.set_option('display.max_columns', 100)\n",
    "cm = sns.light_palette(\"brown\", as_cmap=True)"
   ]
  },
  {
   "cell_type": "markdown",
   "metadata": {},
   "source": [
    "## Чтение файла с данными и изучение общей информации"
   ]
  },
  {
   "cell_type": "code",
   "execution_count": 54,
   "metadata": {},
   "outputs": [],
   "source": [
    "#Чтение файлйлов\n",
    "df = pd.read_csv('logs_exp.csv', sep='\\t')"
   ]
  },
  {
   "cell_type": "code",
   "execution_count": 55,
   "metadata": {},
   "outputs": [],
   "source": [
    "# Функция просмотра датасетов\n",
    "def datalook (dataset):\n",
    "    display(dataset.info())\n",
    "    display(dataset.head())\n",
    "    display(dataset.describe())\n",
    "    display(dataset.describe(include=[object]))\n",
    "    print('Количество полных дубликатов:', dataset.duplicated().sum())\n",
    "    return"
   ]
  },
  {
   "cell_type": "code",
   "execution_count": 56,
   "metadata": {},
   "outputs": [
    {
     "name": "stdout",
     "output_type": "stream",
     "text": [
      "<class 'pandas.core.frame.DataFrame'>\n",
      "RangeIndex: 244126 entries, 0 to 244125\n",
      "Data columns (total 4 columns):\n",
      "EventName         244126 non-null object\n",
      "DeviceIDHash      244126 non-null int64\n",
      "EventTimestamp    244126 non-null int64\n",
      "ExpId             244126 non-null int64\n",
      "dtypes: int64(3), object(1)\n",
      "memory usage: 7.5+ MB\n"
     ]
    },
    {
     "data": {
      "text/plain": [
       "None"
      ]
     },
     "metadata": {},
     "output_type": "display_data"
    },
    {
     "data": {
      "text/html": [
       "<div>\n",
       "<style scoped>\n",
       "    .dataframe tbody tr th:only-of-type {\n",
       "        vertical-align: middle;\n",
       "    }\n",
       "\n",
       "    .dataframe tbody tr th {\n",
       "        vertical-align: top;\n",
       "    }\n",
       "\n",
       "    .dataframe thead th {\n",
       "        text-align: right;\n",
       "    }\n",
       "</style>\n",
       "<table border=\"1\" class=\"dataframe\">\n",
       "  <thead>\n",
       "    <tr style=\"text-align: right;\">\n",
       "      <th></th>\n",
       "      <th>EventName</th>\n",
       "      <th>DeviceIDHash</th>\n",
       "      <th>EventTimestamp</th>\n",
       "      <th>ExpId</th>\n",
       "    </tr>\n",
       "  </thead>\n",
       "  <tbody>\n",
       "    <tr>\n",
       "      <td>0</td>\n",
       "      <td>MainScreenAppear</td>\n",
       "      <td>4575588528974610257</td>\n",
       "      <td>1564029816</td>\n",
       "      <td>246</td>\n",
       "    </tr>\n",
       "    <tr>\n",
       "      <td>1</td>\n",
       "      <td>MainScreenAppear</td>\n",
       "      <td>7416695313311560658</td>\n",
       "      <td>1564053102</td>\n",
       "      <td>246</td>\n",
       "    </tr>\n",
       "    <tr>\n",
       "      <td>2</td>\n",
       "      <td>PaymentScreenSuccessful</td>\n",
       "      <td>3518123091307005509</td>\n",
       "      <td>1564054127</td>\n",
       "      <td>248</td>\n",
       "    </tr>\n",
       "    <tr>\n",
       "      <td>3</td>\n",
       "      <td>CartScreenAppear</td>\n",
       "      <td>3518123091307005509</td>\n",
       "      <td>1564054127</td>\n",
       "      <td>248</td>\n",
       "    </tr>\n",
       "    <tr>\n",
       "      <td>4</td>\n",
       "      <td>PaymentScreenSuccessful</td>\n",
       "      <td>6217807653094995999</td>\n",
       "      <td>1564055322</td>\n",
       "      <td>248</td>\n",
       "    </tr>\n",
       "  </tbody>\n",
       "</table>\n",
       "</div>"
      ],
      "text/plain": [
       "                 EventName         DeviceIDHash  EventTimestamp  ExpId\n",
       "0         MainScreenAppear  4575588528974610257      1564029816    246\n",
       "1         MainScreenAppear  7416695313311560658      1564053102    246\n",
       "2  PaymentScreenSuccessful  3518123091307005509      1564054127    248\n",
       "3         CartScreenAppear  3518123091307005509      1564054127    248\n",
       "4  PaymentScreenSuccessful  6217807653094995999      1564055322    248"
      ]
     },
     "metadata": {},
     "output_type": "display_data"
    },
    {
     "data": {
      "text/html": [
       "<div>\n",
       "<style scoped>\n",
       "    .dataframe tbody tr th:only-of-type {\n",
       "        vertical-align: middle;\n",
       "    }\n",
       "\n",
       "    .dataframe tbody tr th {\n",
       "        vertical-align: top;\n",
       "    }\n",
       "\n",
       "    .dataframe thead th {\n",
       "        text-align: right;\n",
       "    }\n",
       "</style>\n",
       "<table border=\"1\" class=\"dataframe\">\n",
       "  <thead>\n",
       "    <tr style=\"text-align: right;\">\n",
       "      <th></th>\n",
       "      <th>DeviceIDHash</th>\n",
       "      <th>EventTimestamp</th>\n",
       "      <th>ExpId</th>\n",
       "    </tr>\n",
       "  </thead>\n",
       "  <tbody>\n",
       "    <tr>\n",
       "      <td>count</td>\n",
       "      <td>244126.00</td>\n",
       "      <td>244126.00</td>\n",
       "      <td>244126.00</td>\n",
       "    </tr>\n",
       "    <tr>\n",
       "      <td>mean</td>\n",
       "      <td>4627568124591259648.00</td>\n",
       "      <td>1564913915.84</td>\n",
       "      <td>247.02</td>\n",
       "    </tr>\n",
       "    <tr>\n",
       "      <td>std</td>\n",
       "      <td>2642424998963961856.00</td>\n",
       "      <td>177134.32</td>\n",
       "      <td>0.82</td>\n",
       "    </tr>\n",
       "    <tr>\n",
       "      <td>min</td>\n",
       "      <td>6888746892508752.00</td>\n",
       "      <td>1564029816.00</td>\n",
       "      <td>246.00</td>\n",
       "    </tr>\n",
       "    <tr>\n",
       "      <td>25%</td>\n",
       "      <td>2372212476992240640.00</td>\n",
       "      <td>1564756580.25</td>\n",
       "      <td>246.00</td>\n",
       "    </tr>\n",
       "    <tr>\n",
       "      <td>50%</td>\n",
       "      <td>4623191541214045184.00</td>\n",
       "      <td>1564919395.00</td>\n",
       "      <td>247.00</td>\n",
       "    </tr>\n",
       "    <tr>\n",
       "      <td>75%</td>\n",
       "      <td>6932517045703054336.00</td>\n",
       "      <td>1565074511.00</td>\n",
       "      <td>248.00</td>\n",
       "    </tr>\n",
       "    <tr>\n",
       "      <td>max</td>\n",
       "      <td>9222603179720523776.00</td>\n",
       "      <td>1565212517.00</td>\n",
       "      <td>248.00</td>\n",
       "    </tr>\n",
       "  </tbody>\n",
       "</table>\n",
       "</div>"
      ],
      "text/plain": [
       "                DeviceIDHash  EventTimestamp     ExpId\n",
       "count              244126.00       244126.00 244126.00\n",
       "mean  4627568124591259648.00   1564913915.84    247.02\n",
       "std   2642424998963961856.00       177134.32      0.82\n",
       "min      6888746892508752.00   1564029816.00    246.00\n",
       "25%   2372212476992240640.00   1564756580.25    246.00\n",
       "50%   4623191541214045184.00   1564919395.00    247.00\n",
       "75%   6932517045703054336.00   1565074511.00    248.00\n",
       "max   9222603179720523776.00   1565212517.00    248.00"
      ]
     },
     "metadata": {},
     "output_type": "display_data"
    },
    {
     "data": {
      "text/html": [
       "<div>\n",
       "<style scoped>\n",
       "    .dataframe tbody tr th:only-of-type {\n",
       "        vertical-align: middle;\n",
       "    }\n",
       "\n",
       "    .dataframe tbody tr th {\n",
       "        vertical-align: top;\n",
       "    }\n",
       "\n",
       "    .dataframe thead th {\n",
       "        text-align: right;\n",
       "    }\n",
       "</style>\n",
       "<table border=\"1\" class=\"dataframe\">\n",
       "  <thead>\n",
       "    <tr style=\"text-align: right;\">\n",
       "      <th></th>\n",
       "      <th>EventName</th>\n",
       "    </tr>\n",
       "  </thead>\n",
       "  <tbody>\n",
       "    <tr>\n",
       "      <td>count</td>\n",
       "      <td>244126</td>\n",
       "    </tr>\n",
       "    <tr>\n",
       "      <td>unique</td>\n",
       "      <td>5</td>\n",
       "    </tr>\n",
       "    <tr>\n",
       "      <td>top</td>\n",
       "      <td>MainScreenAppear</td>\n",
       "    </tr>\n",
       "    <tr>\n",
       "      <td>freq</td>\n",
       "      <td>119205</td>\n",
       "    </tr>\n",
       "  </tbody>\n",
       "</table>\n",
       "</div>"
      ],
      "text/plain": [
       "               EventName\n",
       "count             244126\n",
       "unique                 5\n",
       "top     MainScreenAppear\n",
       "freq              119205"
      ]
     },
     "metadata": {},
     "output_type": "display_data"
    },
    {
     "name": "stdout",
     "output_type": "stream",
     "text": [
      "Количество полных дубликатов: 413\n"
     ]
    }
   ],
   "source": [
    "# Оценка таблицы\n",
    "datalook(df)"
   ]
  },
  {
   "cell_type": "markdown",
   "metadata": {},
   "source": [
    "**Необходимо поменять формат EventTimestamp на формат даты, привести названия столбцов к нижнему регистру, обработать дубликаты.**"
   ]
  },
  {
   "cell_type": "markdown",
   "metadata": {},
   "source": [
    "## Подготовка данных"
   ]
  },
  {
   "cell_type": "markdown",
   "metadata": {},
   "source": [
    "### Обработка столбцов"
   ]
  },
  {
   "cell_type": "code",
   "execution_count": 57,
   "metadata": {},
   "outputs": [],
   "source": [
    "# Замена названий столбцов\n",
    "df.rename(\n",
    "    columns = {\n",
    "        'EventName':'event_name', 'DeviceIDHash':'user_id', 'EventTimestamp':'event_time', 'ExpId':'exp_id'}, inplace=True)"
   ]
  },
  {
   "cell_type": "code",
   "execution_count": 58,
   "metadata": {},
   "outputs": [
    {
     "data": {
      "text/html": [
       "<div>\n",
       "<style scoped>\n",
       "    .dataframe tbody tr th:only-of-type {\n",
       "        vertical-align: middle;\n",
       "    }\n",
       "\n",
       "    .dataframe tbody tr th {\n",
       "        vertical-align: top;\n",
       "    }\n",
       "\n",
       "    .dataframe thead th {\n",
       "        text-align: right;\n",
       "    }\n",
       "</style>\n",
       "<table border=\"1\" class=\"dataframe\">\n",
       "  <thead>\n",
       "    <tr style=\"text-align: right;\">\n",
       "      <th></th>\n",
       "      <th>event_name</th>\n",
       "      <th>user_id</th>\n",
       "      <th>event_time</th>\n",
       "      <th>exp_id</th>\n",
       "    </tr>\n",
       "  </thead>\n",
       "  <tbody>\n",
       "    <tr>\n",
       "      <td>223221</td>\n",
       "      <td>MainScreenAppear</td>\n",
       "      <td>4431142023936154775</td>\n",
       "      <td>1565172508</td>\n",
       "      <td>246</td>\n",
       "    </tr>\n",
       "  </tbody>\n",
       "</table>\n",
       "</div>"
      ],
      "text/plain": [
       "              event_name              user_id  event_time  exp_id\n",
       "223221  MainScreenAppear  4431142023936154775  1565172508     246"
      ]
     },
     "execution_count": 58,
     "metadata": {},
     "output_type": "execute_result"
    }
   ],
   "source": [
    "df.sample()"
   ]
  },
  {
   "cell_type": "markdown",
   "metadata": {},
   "source": [
    "### Обработка дубликатов и типов данных"
   ]
  },
  {
   "cell_type": "code",
   "execution_count": 59,
   "metadata": {},
   "outputs": [],
   "source": [
    "# Удаление полных дубликатов\n",
    "df = df.drop_duplicates().reset_index(drop=True)"
   ]
  },
  {
   "cell_type": "code",
   "execution_count": 60,
   "metadata": {},
   "outputs": [],
   "source": [
    "# Изменение формата данных event_time на формат даты\n",
    "df.event_time = pd.to_datetime(df['event_time'], unit='s')"
   ]
  },
  {
   "cell_type": "code",
   "execution_count": 61,
   "metadata": {},
   "outputs": [
    {
     "data": {
      "text/html": [
       "<div>\n",
       "<style scoped>\n",
       "    .dataframe tbody tr th:only-of-type {\n",
       "        vertical-align: middle;\n",
       "    }\n",
       "\n",
       "    .dataframe tbody tr th {\n",
       "        vertical-align: top;\n",
       "    }\n",
       "\n",
       "    .dataframe thead th {\n",
       "        text-align: right;\n",
       "    }\n",
       "</style>\n",
       "<table border=\"1\" class=\"dataframe\">\n",
       "  <thead>\n",
       "    <tr style=\"text-align: right;\">\n",
       "      <th></th>\n",
       "      <th>event_name</th>\n",
       "      <th>user_id</th>\n",
       "      <th>event_time</th>\n",
       "      <th>exp_id</th>\n",
       "    </tr>\n",
       "  </thead>\n",
       "  <tbody>\n",
       "    <tr>\n",
       "      <td>173501</td>\n",
       "      <td>MainScreenAppear</td>\n",
       "      <td>1618772384609580447</td>\n",
       "      <td>2019-08-05 19:18:05</td>\n",
       "      <td>246</td>\n",
       "    </tr>\n",
       "    <tr>\n",
       "      <td>195940</td>\n",
       "      <td>PaymentScreenSuccessful</td>\n",
       "      <td>6613527411922640441</td>\n",
       "      <td>2019-08-06 13:49:38</td>\n",
       "      <td>246</td>\n",
       "    </tr>\n",
       "    <tr>\n",
       "      <td>76889</td>\n",
       "      <td>MainScreenAppear</td>\n",
       "      <td>5122452238037348165</td>\n",
       "      <td>2019-08-03 05:38:18</td>\n",
       "      <td>248</td>\n",
       "    </tr>\n",
       "  </tbody>\n",
       "</table>\n",
       "</div>"
      ],
      "text/plain": [
       "                     event_name              user_id          event_time  \\\n",
       "173501         MainScreenAppear  1618772384609580447 2019-08-05 19:18:05   \n",
       "195940  PaymentScreenSuccessful  6613527411922640441 2019-08-06 13:49:38   \n",
       "76889          MainScreenAppear  5122452238037348165 2019-08-03 05:38:18   \n",
       "\n",
       "        exp_id  \n",
       "173501     246  \n",
       "195940     246  \n",
       "76889      248  "
      ]
     },
     "execution_count": 61,
     "metadata": {},
     "output_type": "execute_result"
    }
   ],
   "source": [
    "df.sample(3)"
   ]
  },
  {
   "cell_type": "markdown",
   "metadata": {},
   "source": [
    "### Добавдение столбца с датой"
   ]
  },
  {
   "cell_type": "code",
   "execution_count": 62,
   "metadata": {},
   "outputs": [],
   "source": [
    "# Столбец с днем события\n",
    "df['date'] = df['event_time'].astype('datetime64[D]')"
   ]
  },
  {
   "cell_type": "code",
   "execution_count": 63,
   "metadata": {},
   "outputs": [
    {
     "data": {
      "text/html": [
       "<div>\n",
       "<style scoped>\n",
       "    .dataframe tbody tr th:only-of-type {\n",
       "        vertical-align: middle;\n",
       "    }\n",
       "\n",
       "    .dataframe tbody tr th {\n",
       "        vertical-align: top;\n",
       "    }\n",
       "\n",
       "    .dataframe thead th {\n",
       "        text-align: right;\n",
       "    }\n",
       "</style>\n",
       "<table border=\"1\" class=\"dataframe\">\n",
       "  <thead>\n",
       "    <tr style=\"text-align: right;\">\n",
       "      <th></th>\n",
       "      <th>event_name</th>\n",
       "      <th>user_id</th>\n",
       "      <th>event_time</th>\n",
       "      <th>exp_id</th>\n",
       "      <th>date</th>\n",
       "    </tr>\n",
       "  </thead>\n",
       "  <tbody>\n",
       "    <tr>\n",
       "      <td>221291</td>\n",
       "      <td>MainScreenAppear</td>\n",
       "      <td>967030565535610279</td>\n",
       "      <td>2019-08-07 09:23:31</td>\n",
       "      <td>248</td>\n",
       "      <td>2019-08-07</td>\n",
       "    </tr>\n",
       "    <tr>\n",
       "      <td>111386</td>\n",
       "      <td>CartScreenAppear</td>\n",
       "      <td>5416764107181797491</td>\n",
       "      <td>2019-08-04 06:38:44</td>\n",
       "      <td>248</td>\n",
       "      <td>2019-08-04</td>\n",
       "    </tr>\n",
       "    <tr>\n",
       "      <td>166071</td>\n",
       "      <td>PaymentScreenSuccessful</td>\n",
       "      <td>6613527411922640441</td>\n",
       "      <td>2019-08-05 16:01:08</td>\n",
       "      <td>246</td>\n",
       "      <td>2019-08-05</td>\n",
       "    </tr>\n",
       "  </tbody>\n",
       "</table>\n",
       "</div>"
      ],
      "text/plain": [
       "                     event_name              user_id          event_time  \\\n",
       "221291         MainScreenAppear   967030565535610279 2019-08-07 09:23:31   \n",
       "111386         CartScreenAppear  5416764107181797491 2019-08-04 06:38:44   \n",
       "166071  PaymentScreenSuccessful  6613527411922640441 2019-08-05 16:01:08   \n",
       "\n",
       "        exp_id       date  \n",
       "221291     248 2019-08-07  \n",
       "111386     248 2019-08-04  \n",
       "166071     246 2019-08-05  "
      ]
     },
     "execution_count": 63,
     "metadata": {},
     "output_type": "execute_result"
    }
   ],
   "source": [
    "df.sample(3)"
   ]
  },
  {
   "cell_type": "code",
   "execution_count": 64,
   "metadata": {},
   "outputs": [
    {
     "name": "stdout",
     "output_type": "stream",
     "text": [
      "<class 'pandas.core.frame.DataFrame'>\n",
      "RangeIndex: 243713 entries, 0 to 243712\n",
      "Data columns (total 5 columns):\n",
      "event_name    243713 non-null object\n",
      "user_id       243713 non-null int64\n",
      "event_time    243713 non-null datetime64[ns]\n",
      "exp_id        243713 non-null int64\n",
      "date          243713 non-null datetime64[ns]\n",
      "dtypes: datetime64[ns](2), int64(2), object(1)\n",
      "memory usage: 9.3+ MB\n"
     ]
    }
   ],
   "source": [
    "df.info()"
   ]
  },
  {
   "cell_type": "markdown",
   "metadata": {},
   "source": [
    "**Обработаны названия столбцов, удалены дубли, event_time приведен в формат даты, добавлен столбец с датой**"
   ]
  },
  {
   "cell_type": "markdown",
   "metadata": {},
   "source": [
    "## Изучение и проверка данных"
   ]
  },
  {
   "cell_type": "markdown",
   "metadata": {},
   "source": [
    "### Количество событий, пользователей, среднее число событий на пользователя"
   ]
  },
  {
   "cell_type": "code",
   "execution_count": 65,
   "metadata": {},
   "outputs": [
    {
     "name": "stdout",
     "output_type": "stream",
     "text": [
      "Всего событий 243713, типов событий 5.\n",
      "Всего пользователей в логе 7551.\n",
      "В среднем событий на пользователя 32.\n"
     ]
    }
   ],
   "source": [
    "print('Всего событий %d, типов событий %d.' % (df.shape[0], df['event_name'].nunique()))\n",
    "print('Всего пользователей в логе %d.' % (df['user_id'].nunique()))\n",
    "print('В среднем событий на пользователя %d.' % (df.shape[0] / df['user_id'].nunique()))"
   ]
  },
  {
   "cell_type": "code",
   "execution_count": 66,
   "metadata": {},
   "outputs": [
    {
     "data": {
      "image/png": "[encoded data removed]",
      "text/plain": [
       "<Figure size 1152x72 with 1 Axes>"
      ]
     },
     "metadata": {},
     "output_type": "display_data"
    }
   ],
   "source": [
    "plt.figure(figsize=(16, 1))\n",
    "sns.boxplot(df.groupby('user_id')['event_name'].count(), showfliers=False, palette=\"rocket_r\")\n",
    "plt.title('Разброс количества событий на одного пользователя')\n",
    "plt.xlabel('количество событий')\n",
    "plt.show()"
   ]
  },
  {
   "cell_type": "markdown",
   "metadata": {},
   "source": [
    "**Медианное значение количества событий на пользователя 20, среднее 32, что свидетельствует о наличии пользователей поучавствоващих в очень большом количестве событий**"
   ]
  },
  {
   "cell_type": "markdown",
   "metadata": {},
   "source": [
    "### Период данных"
   ]
  },
  {
   "cell_type": "code",
   "execution_count": 67,
   "metadata": {},
   "outputs": [
    {
     "name": "stdout",
     "output_type": "stream",
     "text": [
      "От 2019-07-25 00:00:00 до 2019-08-07 00:00:00.\n"
     ]
    }
   ],
   "source": [
    "# Диапазон данных\n",
    "print('От %s до %s.' % (df['date'].min(), df['date'].max()))"
   ]
  },
  {
   "cell_type": "code",
   "execution_count": 68,
   "metadata": {},
   "outputs": [],
   "source": [
    "# Определение временного периода данных\n",
    "time_bounds = df.groupby('date').agg({'event_name': 'count'}).reset_index()\n",
    "time_bounds.columns = ['date', 'event_qty']\n",
    "time_bounds['date'] = time_bounds['date'].dt.strftime('%Y-%m-%d')"
   ]
  },
  {
   "cell_type": "code",
   "execution_count": 69,
   "metadata": {},
   "outputs": [
    {
     "data": {
      "text/html": [
       "<style  type=\"text/css\" >\n",
       "    #T_c329d02a_219f_11ec_ace5_02420a3901d2row0_col1 {\n",
       "            background-color:  #faebeb;\n",
       "            color:  #000000;\n",
       "        }    #T_c329d02a_219f_11ec_ace5_02420a3901d2row0_col2 {\n",
       "            background-color:  #faebeb;\n",
       "            color:  #000000;\n",
       "        }    #T_c329d02a_219f_11ec_ace5_02420a3901d2row0_col3 {\n",
       "            background-color:  #faebeb;\n",
       "            color:  #000000;\n",
       "        }    #T_c329d02a_219f_11ec_ace5_02420a3901d2row1_col1 {\n",
       "            background-color:  #faebeb;\n",
       "            color:  #000000;\n",
       "        }    #T_c329d02a_219f_11ec_ace5_02420a3901d2row1_col2 {\n",
       "            background-color:  #faebeb;\n",
       "            color:  #000000;\n",
       "        }    #T_c329d02a_219f_11ec_ace5_02420a3901d2row1_col3 {\n",
       "            background-color:  #faebeb;\n",
       "            color:  #000000;\n",
       "        }    #T_c329d02a_219f_11ec_ace5_02420a3901d2row2_col1 {\n",
       "            background-color:  #faebeb;\n",
       "            color:  #000000;\n",
       "        }    #T_c329d02a_219f_11ec_ace5_02420a3901d2row2_col2 {\n",
       "            background-color:  #faebeb;\n",
       "            color:  #000000;\n",
       "        }    #T_c329d02a_219f_11ec_ace5_02420a3901d2row2_col3 {\n",
       "            background-color:  #faebeb;\n",
       "            color:  #000000;\n",
       "        }    #T_c329d02a_219f_11ec_ace5_02420a3901d2row3_col1 {\n",
       "            background-color:  #faebeb;\n",
       "            color:  #000000;\n",
       "        }    #T_c329d02a_219f_11ec_ace5_02420a3901d2row3_col2 {\n",
       "            background-color:  #faebeb;\n",
       "            color:  #000000;\n",
       "        }    #T_c329d02a_219f_11ec_ace5_02420a3901d2row3_col3 {\n",
       "            background-color:  #faebeb;\n",
       "            color:  #000000;\n",
       "        }    #T_c329d02a_219f_11ec_ace5_02420a3901d2row4_col1 {\n",
       "            background-color:  #f9eaea;\n",
       "            color:  #000000;\n",
       "        }    #T_c329d02a_219f_11ec_ace5_02420a3901d2row4_col2 {\n",
       "            background-color:  #f9eaea;\n",
       "            color:  #000000;\n",
       "        }    #T_c329d02a_219f_11ec_ace5_02420a3901d2row4_col3 {\n",
       "            background-color:  #faebeb;\n",
       "            color:  #000000;\n",
       "        }    #T_c329d02a_219f_11ec_ace5_02420a3901d2row5_col1 {\n",
       "            background-color:  #f9e9e9;\n",
       "            color:  #000000;\n",
       "        }    #T_c329d02a_219f_11ec_ace5_02420a3901d2row5_col2 {\n",
       "            background-color:  #f9e9e9;\n",
       "            color:  #000000;\n",
       "        }    #T_c329d02a_219f_11ec_ace5_02420a3901d2row5_col3 {\n",
       "            background-color:  #faebeb;\n",
       "            color:  #000000;\n",
       "        }    #T_c329d02a_219f_11ec_ace5_02420a3901d2row6_col1 {\n",
       "            background-color:  #f5e0e0;\n",
       "            color:  #000000;\n",
       "        }    #T_c329d02a_219f_11ec_ace5_02420a3901d2row6_col2 {\n",
       "            background-color:  #f5e0e0;\n",
       "            color:  #000000;\n",
       "        }    #T_c329d02a_219f_11ec_ace5_02420a3901d2row6_col3 {\n",
       "            background-color:  #f9e9e9;\n",
       "            color:  #000000;\n",
       "        }    #T_c329d02a_219f_11ec_ace5_02420a3901d2row7_col1 {\n",
       "            background-color:  #a52a2a;\n",
       "            color:  #f1f1f1;\n",
       "        }    #T_c329d02a_219f_11ec_ace5_02420a3901d2row7_col2 {\n",
       "            background-color:  #a52a2a;\n",
       "            color:  #f1f1f1;\n",
       "        }    #T_c329d02a_219f_11ec_ace5_02420a3901d2row7_col3 {\n",
       "            background-color:  #edcccc;\n",
       "            color:  #000000;\n",
       "        }    #T_c329d02a_219f_11ec_ace5_02420a3901d2row8_col1 {\n",
       "            background-color:  #a62d2d;\n",
       "            color:  #f1f1f1;\n",
       "        }    #T_c329d02a_219f_11ec_ace5_02420a3901d2row8_col2 {\n",
       "            background-color:  #a62d2d;\n",
       "            color:  #f1f1f1;\n",
       "        }    #T_c329d02a_219f_11ec_ace5_02420a3901d2row8_col3 {\n",
       "            background-color:  #e0b0b0;\n",
       "            color:  #000000;\n",
       "        }    #T_c329d02a_219f_11ec_ace5_02420a3901d2row9_col1 {\n",
       "            background-color:  #ac3939;\n",
       "            color:  #f1f1f1;\n",
       "        }    #T_c329d02a_219f_11ec_ace5_02420a3901d2row9_col2 {\n",
       "            background-color:  #ac3939;\n",
       "            color:  #f1f1f1;\n",
       "        }    #T_c329d02a_219f_11ec_ace5_02420a3901d2row9_col3 {\n",
       "            background-color:  #d49595;\n",
       "            color:  #000000;\n",
       "        }    #T_c329d02a_219f_11ec_ace5_02420a3901d2row10_col1 {\n",
       "            background-color:  #ac3b3b;\n",
       "            color:  #f1f1f1;\n",
       "        }    #T_c329d02a_219f_11ec_ace5_02420a3901d2row10_col2 {\n",
       "            background-color:  #ac3b3b;\n",
       "            color:  #f1f1f1;\n",
       "        }    #T_c329d02a_219f_11ec_ace5_02420a3901d2row10_col3 {\n",
       "            background-color:  #c97c7c;\n",
       "            color:  #000000;\n",
       "        }    #T_c329d02a_219f_11ec_ace5_02420a3901d2row11_col1 {\n",
       "            background-color:  #a52a2a;\n",
       "            color:  #f1f1f1;\n",
       "        }    #T_c329d02a_219f_11ec_ace5_02420a3901d2row11_col2 {\n",
       "            background-color:  #a52a2a;\n",
       "            color:  #f1f1f1;\n",
       "        }    #T_c329d02a_219f_11ec_ace5_02420a3901d2row11_col3 {\n",
       "            background-color:  #bc5f5f;\n",
       "            color:  #000000;\n",
       "        }    #T_c329d02a_219f_11ec_ace5_02420a3901d2row12_col1 {\n",
       "            background-color:  #a62c2c;\n",
       "            color:  #f1f1f1;\n",
       "        }    #T_c329d02a_219f_11ec_ace5_02420a3901d2row12_col2 {\n",
       "            background-color:  #a62c2c;\n",
       "            color:  #f1f1f1;\n",
       "        }    #T_c329d02a_219f_11ec_ace5_02420a3901d2row12_col3 {\n",
       "            background-color:  #b04242;\n",
       "            color:  #f1f1f1;\n",
       "        }    #T_c329d02a_219f_11ec_ace5_02420a3901d2row13_col1 {\n",
       "            background-color:  #b14444;\n",
       "            color:  #f1f1f1;\n",
       "        }    #T_c329d02a_219f_11ec_ace5_02420a3901d2row13_col2 {\n",
       "            background-color:  #b14444;\n",
       "            color:  #f1f1f1;\n",
       "        }    #T_c329d02a_219f_11ec_ace5_02420a3901d2row13_col3 {\n",
       "            background-color:  #a52a2a;\n",
       "            color:  #f1f1f1;\n",
       "        }</style><table id=\"T_c329d02a_219f_11ec_ace5_02420a3901d2\" ><thead>    <tr>        <th class=\"blank level0\" ></th>        <th class=\"col_heading level0 col0\" >date</th>        <th class=\"col_heading level0 col1\" >event_qty</th>        <th class=\"col_heading level0 col2\" >daily_pct</th>        <th class=\"col_heading level0 col3\" >cum_pct</th>    </tr></thead><tbody>\n",
       "                <tr>\n",
       "                        <th id=\"T_c329d02a_219f_11ec_ace5_02420a3901d2level0_row0\" class=\"row_heading level0 row0\" >0</th>\n",
       "                        <td id=\"T_c329d02a_219f_11ec_ace5_02420a3901d2row0_col0\" class=\"data row0 col0\" >2019-07-25</td>\n",
       "                        <td id=\"T_c329d02a_219f_11ec_ace5_02420a3901d2row0_col1\" class=\"data row0 col1\" >9</td>\n",
       "                        <td id=\"T_c329d02a_219f_11ec_ace5_02420a3901d2row0_col2\" class=\"data row0 col2\" >0</td>\n",
       "                        <td id=\"T_c329d02a_219f_11ec_ace5_02420a3901d2row0_col3\" class=\"data row0 col3\" >0</td>\n",
       "            </tr>\n",
       "            <tr>\n",
       "                        <th id=\"T_c329d02a_219f_11ec_ace5_02420a3901d2level0_row1\" class=\"row_heading level0 row1\" >1</th>\n",
       "                        <td id=\"T_c329d02a_219f_11ec_ace5_02420a3901d2row1_col0\" class=\"data row1 col0\" >2019-07-26</td>\n",
       "                        <td id=\"T_c329d02a_219f_11ec_ace5_02420a3901d2row1_col1\" class=\"data row1 col1\" >31</td>\n",
       "                        <td id=\"T_c329d02a_219f_11ec_ace5_02420a3901d2row1_col2\" class=\"data row1 col2\" >0.01</td>\n",
       "                        <td id=\"T_c329d02a_219f_11ec_ace5_02420a3901d2row1_col3\" class=\"data row1 col3\" >0.01</td>\n",
       "            </tr>\n",
       "            <tr>\n",
       "                        <th id=\"T_c329d02a_219f_11ec_ace5_02420a3901d2level0_row2\" class=\"row_heading level0 row2\" >2</th>\n",
       "                        <td id=\"T_c329d02a_219f_11ec_ace5_02420a3901d2row2_col0\" class=\"data row2 col0\" >2019-07-27</td>\n",
       "                        <td id=\"T_c329d02a_219f_11ec_ace5_02420a3901d2row2_col1\" class=\"data row2 col1\" >55</td>\n",
       "                        <td id=\"T_c329d02a_219f_11ec_ace5_02420a3901d2row2_col2\" class=\"data row2 col2\" >0.02</td>\n",
       "                        <td id=\"T_c329d02a_219f_11ec_ace5_02420a3901d2row2_col3\" class=\"data row2 col3\" >0.03</td>\n",
       "            </tr>\n",
       "            <tr>\n",
       "                        <th id=\"T_c329d02a_219f_11ec_ace5_02420a3901d2level0_row3\" class=\"row_heading level0 row3\" >3</th>\n",
       "                        <td id=\"T_c329d02a_219f_11ec_ace5_02420a3901d2row3_col0\" class=\"data row3 col0\" >2019-07-28</td>\n",
       "                        <td id=\"T_c329d02a_219f_11ec_ace5_02420a3901d2row3_col1\" class=\"data row3 col1\" >105</td>\n",
       "                        <td id=\"T_c329d02a_219f_11ec_ace5_02420a3901d2row3_col2\" class=\"data row3 col2\" >0.04</td>\n",
       "                        <td id=\"T_c329d02a_219f_11ec_ace5_02420a3901d2row3_col3\" class=\"data row3 col3\" >0.07</td>\n",
       "            </tr>\n",
       "            <tr>\n",
       "                        <th id=\"T_c329d02a_219f_11ec_ace5_02420a3901d2level0_row4\" class=\"row_heading level0 row4\" >4</th>\n",
       "                        <td id=\"T_c329d02a_219f_11ec_ace5_02420a3901d2row4_col0\" class=\"data row4 col0\" >2019-07-29</td>\n",
       "                        <td id=\"T_c329d02a_219f_11ec_ace5_02420a3901d2row4_col1\" class=\"data row4 col1\" >184</td>\n",
       "                        <td id=\"T_c329d02a_219f_11ec_ace5_02420a3901d2row4_col2\" class=\"data row4 col2\" >0.08</td>\n",
       "                        <td id=\"T_c329d02a_219f_11ec_ace5_02420a3901d2row4_col3\" class=\"data row4 col3\" >0.15</td>\n",
       "            </tr>\n",
       "            <tr>\n",
       "                        <th id=\"T_c329d02a_219f_11ec_ace5_02420a3901d2level0_row5\" class=\"row_heading level0 row5\" >5</th>\n",
       "                        <td id=\"T_c329d02a_219f_11ec_ace5_02420a3901d2row5_col0\" class=\"data row5 col0\" >2019-07-30</td>\n",
       "                        <td id=\"T_c329d02a_219f_11ec_ace5_02420a3901d2row5_col1\" class=\"data row5 col1\" >412</td>\n",
       "                        <td id=\"T_c329d02a_219f_11ec_ace5_02420a3901d2row5_col2\" class=\"data row5 col2\" >0.17</td>\n",
       "                        <td id=\"T_c329d02a_219f_11ec_ace5_02420a3901d2row5_col3\" class=\"data row5 col3\" >0.32</td>\n",
       "            </tr>\n",
       "            <tr>\n",
       "                        <th id=\"T_c329d02a_219f_11ec_ace5_02420a3901d2level0_row6\" class=\"row_heading level0 row6\" >6</th>\n",
       "                        <td id=\"T_c329d02a_219f_11ec_ace5_02420a3901d2row6_col0\" class=\"data row6 col0\" >2019-07-31</td>\n",
       "                        <td id=\"T_c329d02a_219f_11ec_ace5_02420a3901d2row6_col1\" class=\"data row6 col1\" >2030</td>\n",
       "                        <td id=\"T_c329d02a_219f_11ec_ace5_02420a3901d2row6_col2\" class=\"data row6 col2\" >0.83</td>\n",
       "                        <td id=\"T_c329d02a_219f_11ec_ace5_02420a3901d2row6_col3\" class=\"data row6 col3\" >1.15</td>\n",
       "            </tr>\n",
       "            <tr>\n",
       "                        <th id=\"T_c329d02a_219f_11ec_ace5_02420a3901d2level0_row7\" class=\"row_heading level0 row7\" >7</th>\n",
       "                        <td id=\"T_c329d02a_219f_11ec_ace5_02420a3901d2row7_col0\" class=\"data row7 col0\" >2019-08-01</td>\n",
       "                        <td id=\"T_c329d02a_219f_11ec_ace5_02420a3901d2row7_col1\" class=\"data row7 col1\" >36141</td>\n",
       "                        <td id=\"T_c329d02a_219f_11ec_ace5_02420a3901d2row7_col2\" class=\"data row7 col2\" >14.83</td>\n",
       "                        <td id=\"T_c329d02a_219f_11ec_ace5_02420a3901d2row7_col3\" class=\"data row7 col3\" >15.98</td>\n",
       "            </tr>\n",
       "            <tr>\n",
       "                        <th id=\"T_c329d02a_219f_11ec_ace5_02420a3901d2level0_row8\" class=\"row_heading level0 row8\" >8</th>\n",
       "                        <td id=\"T_c329d02a_219f_11ec_ace5_02420a3901d2row8_col0\" class=\"data row8 col0\" >2019-08-02</td>\n",
       "                        <td id=\"T_c329d02a_219f_11ec_ace5_02420a3901d2row8_col1\" class=\"data row8 col1\" >35554</td>\n",
       "                        <td id=\"T_c329d02a_219f_11ec_ace5_02420a3901d2row8_col2\" class=\"data row8 col2\" >14.59</td>\n",
       "                        <td id=\"T_c329d02a_219f_11ec_ace5_02420a3901d2row8_col3\" class=\"data row8 col3\" >30.57</td>\n",
       "            </tr>\n",
       "            <tr>\n",
       "                        <th id=\"T_c329d02a_219f_11ec_ace5_02420a3901d2level0_row9\" class=\"row_heading level0 row9\" >9</th>\n",
       "                        <td id=\"T_c329d02a_219f_11ec_ace5_02420a3901d2row9_col0\" class=\"data row9 col0\" >2019-08-03</td>\n",
       "                        <td id=\"T_c329d02a_219f_11ec_ace5_02420a3901d2row9_col1\" class=\"data row9 col1\" >33282</td>\n",
       "                        <td id=\"T_c329d02a_219f_11ec_ace5_02420a3901d2row9_col2\" class=\"data row9 col2\" >13.66</td>\n",
       "                        <td id=\"T_c329d02a_219f_11ec_ace5_02420a3901d2row9_col3\" class=\"data row9 col3\" >44.23</td>\n",
       "            </tr>\n",
       "            <tr>\n",
       "                        <th id=\"T_c329d02a_219f_11ec_ace5_02420a3901d2level0_row10\" class=\"row_heading level0 row10\" >10</th>\n",
       "                        <td id=\"T_c329d02a_219f_11ec_ace5_02420a3901d2row10_col0\" class=\"data row10 col0\" >2019-08-04</td>\n",
       "                        <td id=\"T_c329d02a_219f_11ec_ace5_02420a3901d2row10_col1\" class=\"data row10 col1\" >32968</td>\n",
       "                        <td id=\"T_c329d02a_219f_11ec_ace5_02420a3901d2row10_col2\" class=\"data row10 col2\" >13.53</td>\n",
       "                        <td id=\"T_c329d02a_219f_11ec_ace5_02420a3901d2row10_col3\" class=\"data row10 col3\" >57.76</td>\n",
       "            </tr>\n",
       "            <tr>\n",
       "                        <th id=\"T_c329d02a_219f_11ec_ace5_02420a3901d2level0_row11\" class=\"row_heading level0 row11\" >11</th>\n",
       "                        <td id=\"T_c329d02a_219f_11ec_ace5_02420a3901d2row11_col0\" class=\"data row11 col0\" >2019-08-05</td>\n",
       "                        <td id=\"T_c329d02a_219f_11ec_ace5_02420a3901d2row11_col1\" class=\"data row11 col1\" >36058</td>\n",
       "                        <td id=\"T_c329d02a_219f_11ec_ace5_02420a3901d2row11_col2\" class=\"data row11 col2\" >14.8</td>\n",
       "                        <td id=\"T_c329d02a_219f_11ec_ace5_02420a3901d2row11_col3\" class=\"data row11 col3\" >72.56</td>\n",
       "            </tr>\n",
       "            <tr>\n",
       "                        <th id=\"T_c329d02a_219f_11ec_ace5_02420a3901d2level0_row12\" class=\"row_heading level0 row12\" >12</th>\n",
       "                        <td id=\"T_c329d02a_219f_11ec_ace5_02420a3901d2row12_col0\" class=\"data row12 col0\" >2019-08-06</td>\n",
       "                        <td id=\"T_c329d02a_219f_11ec_ace5_02420a3901d2row12_col1\" class=\"data row12 col1\" >35788</td>\n",
       "                        <td id=\"T_c329d02a_219f_11ec_ace5_02420a3901d2row12_col2\" class=\"data row12 col2\" >14.68</td>\n",
       "                        <td id=\"T_c329d02a_219f_11ec_ace5_02420a3901d2row12_col3\" class=\"data row12 col3\" >87.24</td>\n",
       "            </tr>\n",
       "            <tr>\n",
       "                        <th id=\"T_c329d02a_219f_11ec_ace5_02420a3901d2level0_row13\" class=\"row_heading level0 row13\" >13</th>\n",
       "                        <td id=\"T_c329d02a_219f_11ec_ace5_02420a3901d2row13_col0\" class=\"data row13 col0\" >2019-08-07</td>\n",
       "                        <td id=\"T_c329d02a_219f_11ec_ace5_02420a3901d2row13_col1\" class=\"data row13 col1\" >31096</td>\n",
       "                        <td id=\"T_c329d02a_219f_11ec_ace5_02420a3901d2row13_col2\" class=\"data row13 col2\" >12.76</td>\n",
       "                        <td id=\"T_c329d02a_219f_11ec_ace5_02420a3901d2row13_col3\" class=\"data row13 col3\" >100</td>\n",
       "            </tr>\n",
       "    </tbody></table>"
      ],
      "text/plain": [
       "<pandas.io.formats.style.Styler at 0x7f17ef148850>"
      ]
     },
     "execution_count": 69,
     "metadata": {},
     "output_type": "execute_result"
    }
   ],
   "source": [
    "# Динамика временного периода данных\n",
    "time_bounds['daily_pct'] = round((time_bounds['event_qty'] / time_bounds['event_qty'].sum() * 100),2)\n",
    "time_bounds['cum_pct'] = time_bounds['daily_pct'].cumsum()\n",
    "time_bounds.style.background_gradient(cmap=cm)"
   ]
  },
  {
   "cell_type": "code",
   "execution_count": 70,
   "metadata": {},
   "outputs": [
    {
     "data": {
      "image/png": "[encoded data removed]",
      "text/plain": [
       "<Figure size 720x288 with 1 Axes>"
      ]
     },
     "metadata": {},
     "output_type": "display_data"
    }
   ],
   "source": [
    "# Гистограмма количества данных во временном периоде\n",
    "fig, ax = plt.subplots(figsize=(10,4))\n",
    "df['event_time'].hist(bins=14)\n",
    "ax.xaxis.set_major_locator(mdates.DayLocator())\n",
    "ax.xaxis.set_major_formatter(mdates.DateFormatter('%y-%m-%d'))\n",
    "plt.xticks(rotation=45)\n",
    "plt.title('Распределение событий лога по времени')\n",
    "plt.xlabel('дата')\n",
    "plt.ylabel('кол-во событий')\n",
    "plt.show()"
   ]
  },
  {
   "cell_type": "markdown",
   "metadata": {},
   "source": [
    "**Накопленный процент количества событий за июль всего 1.15, наиболее полные данные - за вторую неделю с 1 по 7 августа включительно**"
   ]
  },
  {
   "cell_type": "markdown",
   "metadata": {},
   "source": [
    "### Процент потерь в данных после актуализации периода"
   ]
  },
  {
   "cell_type": "code",
   "execution_count": 71,
   "metadata": {},
   "outputs": [],
   "source": [
    "# Срез позже 31 июля\n",
    "df_actual = df.query('date > \"2019-07-31\"')"
   ]
  },
  {
   "cell_type": "code",
   "execution_count": 72,
   "metadata": {},
   "outputs": [
    {
     "data": {
      "text/html": [
       "<style  type=\"text/css\" >\n",
       "    #T_c397a802_219f_11ec_ace5_02420a3901d2row0_col1 {\n",
       "            background-color:  #a52a2a;\n",
       "            color:  #f1f1f1;\n",
       "        }    #T_c397a802_219f_11ec_ace5_02420a3901d2row1_col1 {\n",
       "            background-color:  #faebeb;\n",
       "            color:  #000000;\n",
       "        }    #T_c397a802_219f_11ec_ace5_02420a3901d2row2_col1 {\n",
       "            background-color:  #e9c5c5;\n",
       "            color:  #000000;\n",
       "        }</style><table id=\"T_c397a802_219f_11ec_ace5_02420a3901d2\" ><thead>    <tr>        <th class=\"blank level0\" ></th>        <th class=\"col_heading level0 col0\" >lost_data</th>        <th class=\"col_heading level0 col1\" >%</th>    </tr></thead><tbody>\n",
       "                <tr>\n",
       "                        <th id=\"T_c397a802_219f_11ec_ace5_02420a3901d2level0_row0\" class=\"row_heading level0 row0\" >0</th>\n",
       "                        <td id=\"T_c397a802_219f_11ec_ace5_02420a3901d2row0_col0\" class=\"data row0 col0\" >события</td>\n",
       "                        <td id=\"T_c397a802_219f_11ec_ace5_02420a3901d2row0_col1\" class=\"data row0 col1\" >1.16</td>\n",
       "            </tr>\n",
       "            <tr>\n",
       "                        <th id=\"T_c397a802_219f_11ec_ace5_02420a3901d2level0_row1\" class=\"row_heading level0 row1\" >1</th>\n",
       "                        <td id=\"T_c397a802_219f_11ec_ace5_02420a3901d2row1_col0\" class=\"data row1 col0\" >типы событий</td>\n",
       "                        <td id=\"T_c397a802_219f_11ec_ace5_02420a3901d2row1_col1\" class=\"data row1 col1\" >0</td>\n",
       "            </tr>\n",
       "            <tr>\n",
       "                        <th id=\"T_c397a802_219f_11ec_ace5_02420a3901d2level0_row2\" class=\"row_heading level0 row2\" >2</th>\n",
       "                        <td id=\"T_c397a802_219f_11ec_ace5_02420a3901d2row2_col0\" class=\"data row2 col0\" >пользователи</td>\n",
       "                        <td id=\"T_c397a802_219f_11ec_ace5_02420a3901d2row2_col1\" class=\"data row2 col1\" >0.23</td>\n",
       "            </tr>\n",
       "    </tbody></table>"
      ],
      "text/plain": [
       "<pandas.io.formats.style.Styler at 0x7f17ef2a5a10>"
      ]
     },
     "execution_count": 72,
     "metadata": {},
     "output_type": "execute_result"
    }
   ],
   "source": [
    "# Показатели потерь в данных\n",
    "losts = pd.DataFrame(\n",
    "    {'lost_data':['события', 'типы событий', 'пользователи'],\n",
    "     '%':[round(100 - ((df_actual.shape[0] / df.shape[0])*100),2),\n",
    "         round(100 - ((df_actual['event_name'].nunique()) / (df['event_name'].nunique())*100),2),\n",
    "    round(100 - ((df_actual['user_id'].nunique() / df['user_id'].nunique())*100),2)]})\n",
    "losts.style.background_gradient(cmap=cm)"
   ]
  },
  {
   "cell_type": "code",
   "execution_count": 73,
   "metadata": {
    "scrolled": false
   },
   "outputs": [
    {
     "data": {
      "text/html": [
       "<style  type=\"text/css\" >\n",
       "    #T_c3cf7d72_219f_11ec_ace5_02420a3901d2row0_col1 {\n",
       "            background-color:  #a52a2a;\n",
       "            color:  #f1f1f1;\n",
       "        }    #T_c3cf7d72_219f_11ec_ace5_02420a3901d2row0_col2 {\n",
       "            background-color:  #a52a2a;\n",
       "            color:  #f1f1f1;\n",
       "        }    #T_c3cf7d72_219f_11ec_ace5_02420a3901d2row0_col3 {\n",
       "            background-color:  #a52a2a;\n",
       "            color:  #f1f1f1;\n",
       "        }    #T_c3cf7d72_219f_11ec_ace5_02420a3901d2row1_col1 {\n",
       "            background-color:  #faebeb;\n",
       "            color:  #000000;\n",
       "        }    #T_c3cf7d72_219f_11ec_ace5_02420a3901d2row1_col2 {\n",
       "            background-color:  #faebeb;\n",
       "            color:  #000000;\n",
       "        }    #T_c3cf7d72_219f_11ec_ace5_02420a3901d2row1_col3 {\n",
       "            background-color:  #faebeb;\n",
       "            color:  #000000;\n",
       "        }    #T_c3cf7d72_219f_11ec_ace5_02420a3901d2row2_col1 {\n",
       "            background-color:  #f7e5e5;\n",
       "            color:  #000000;\n",
       "        }    #T_c3cf7d72_219f_11ec_ace5_02420a3901d2row2_col2 {\n",
       "            background-color:  #f7e5e5;\n",
       "            color:  #000000;\n",
       "        }    #T_c3cf7d72_219f_11ec_ace5_02420a3901d2row2_col3 {\n",
       "            background-color:  #e9c5c5;\n",
       "            color:  #000000;\n",
       "        }</style><table id=\"T_c3cf7d72_219f_11ec_ace5_02420a3901d2\" ><thead>    <tr>        <th class=\"blank level0\" ></th>        <th class=\"col_heading level0 col0\" >lost_data</th>        <th class=\"col_heading level0 col1\" >total_qty</th>        <th class=\"col_heading level0 col2\" >actual_qty</th>        <th class=\"col_heading level0 col3\" >lost_%</th>    </tr></thead><tbody>\n",
       "                <tr>\n",
       "                        <th id=\"T_c3cf7d72_219f_11ec_ace5_02420a3901d2level0_row0\" class=\"row_heading level0 row0\" >0</th>\n",
       "                        <td id=\"T_c3cf7d72_219f_11ec_ace5_02420a3901d2row0_col0\" class=\"data row0 col0\" >события</td>\n",
       "                        <td id=\"T_c3cf7d72_219f_11ec_ace5_02420a3901d2row0_col1\" class=\"data row0 col1\" >243713</td>\n",
       "                        <td id=\"T_c3cf7d72_219f_11ec_ace5_02420a3901d2row0_col2\" class=\"data row0 col2\" >240887</td>\n",
       "                        <td id=\"T_c3cf7d72_219f_11ec_ace5_02420a3901d2row0_col3\" class=\"data row0 col3\" >1.16</td>\n",
       "            </tr>\n",
       "            <tr>\n",
       "                        <th id=\"T_c3cf7d72_219f_11ec_ace5_02420a3901d2level0_row1\" class=\"row_heading level0 row1\" >1</th>\n",
       "                        <td id=\"T_c3cf7d72_219f_11ec_ace5_02420a3901d2row1_col0\" class=\"data row1 col0\" >типы событий</td>\n",
       "                        <td id=\"T_c3cf7d72_219f_11ec_ace5_02420a3901d2row1_col1\" class=\"data row1 col1\" >5</td>\n",
       "                        <td id=\"T_c3cf7d72_219f_11ec_ace5_02420a3901d2row1_col2\" class=\"data row1 col2\" >5</td>\n",
       "                        <td id=\"T_c3cf7d72_219f_11ec_ace5_02420a3901d2row1_col3\" class=\"data row1 col3\" >0</td>\n",
       "            </tr>\n",
       "            <tr>\n",
       "                        <th id=\"T_c3cf7d72_219f_11ec_ace5_02420a3901d2level0_row2\" class=\"row_heading level0 row2\" >2</th>\n",
       "                        <td id=\"T_c3cf7d72_219f_11ec_ace5_02420a3901d2row2_col0\" class=\"data row2 col0\" >пользователи</td>\n",
       "                        <td id=\"T_c3cf7d72_219f_11ec_ace5_02420a3901d2row2_col1\" class=\"data row2 col1\" >7551</td>\n",
       "                        <td id=\"T_c3cf7d72_219f_11ec_ace5_02420a3901d2row2_col2\" class=\"data row2 col2\" >7534</td>\n",
       "                        <td id=\"T_c3cf7d72_219f_11ec_ace5_02420a3901d2row2_col3\" class=\"data row2 col3\" >0.23</td>\n",
       "            </tr>\n",
       "    </tbody></table>"
      ],
      "text/plain": [
       "<pandas.io.formats.style.Styler at 0x7f17ef128290>"
      ]
     },
     "execution_count": 73,
     "metadata": {},
     "output_type": "execute_result"
    }
   ],
   "source": [
    "# Показатели потерь в данных\n",
    "losts = pd.DataFrame(\n",
    "    {'lost_data':['события', 'типы событий', 'пользователи'],\n",
    "     'total_qty':[df.shape[0], df['event_name'].nunique(), df['user_id'].nunique()],\n",
    "    'actual_qty':[df_actual.shape[0], df_actual['event_name'].nunique(), df_actual['user_id'].nunique()],\n",
    "    'lost_%':[round(100 - ((df_actual.shape[0] / df.shape[0])*100),2),\n",
    "             round(100 - ((df_actual['event_name'].nunique()) / (df['event_name'].nunique())*100),2),\n",
    "             round(100 - ((df_actual['user_id'].nunique() / df['user_id'].nunique())*100),2)]})\n",
    "losts.style.background_gradient(cmap=cm)"
   ]
  },
  {
   "cell_type": "markdown",
   "metadata": {},
   "source": [
    "**Процент потерянных пользователей и количества событий незначителен.**"
   ]
  },
  {
   "cell_type": "markdown",
   "metadata": {},
   "source": [
    "### Пользователи эксперементальных групп"
   ]
  },
  {
   "cell_type": "code",
   "execution_count": 74,
   "metadata": {},
   "outputs": [
    {
     "data": {
      "text/html": [
       "<style  type=\"text/css\" >\n",
       "    #T_c3db0a7a_219f_11ec_ace5_02420a3901d2row0_col0 {\n",
       "            background-color:  #faebeb;\n",
       "            color:  #000000;\n",
       "        }    #T_c3db0a7a_219f_11ec_ace5_02420a3901d2row0_col1 {\n",
       "            background-color:  #faebeb;\n",
       "            color:  #000000;\n",
       "        }    #T_c3db0a7a_219f_11ec_ace5_02420a3901d2row1_col0 {\n",
       "            background-color:  #cf8a8a;\n",
       "            color:  #000000;\n",
       "        }    #T_c3db0a7a_219f_11ec_ace5_02420a3901d2row1_col1 {\n",
       "            background-color:  #cb8181;\n",
       "            color:  #000000;\n",
       "        }    #T_c3db0a7a_219f_11ec_ace5_02420a3901d2row2_col0 {\n",
       "            background-color:  #a52a2a;\n",
       "            color:  #f1f1f1;\n",
       "        }    #T_c3db0a7a_219f_11ec_ace5_02420a3901d2row2_col1 {\n",
       "            background-color:  #a52a2a;\n",
       "            color:  #f1f1f1;\n",
       "        }</style><table id=\"T_c3db0a7a_219f_11ec_ace5_02420a3901d2\" ><thead>    <tr>        <th class=\"blank level0\" ></th>        <th class=\"col_heading level0 col0\" >exp_id</th>        <th class=\"col_heading level0 col1\" >user_id</th>    </tr></thead><tbody>\n",
       "                <tr>\n",
       "                        <th id=\"T_c3db0a7a_219f_11ec_ace5_02420a3901d2level0_row0\" class=\"row_heading level0 row0\" >0</th>\n",
       "                        <td id=\"T_c3db0a7a_219f_11ec_ace5_02420a3901d2row0_col0\" class=\"data row0 col0\" >246</td>\n",
       "                        <td id=\"T_c3db0a7a_219f_11ec_ace5_02420a3901d2row0_col1\" class=\"data row0 col1\" >2484</td>\n",
       "            </tr>\n",
       "            <tr>\n",
       "                        <th id=\"T_c3db0a7a_219f_11ec_ace5_02420a3901d2level0_row1\" class=\"row_heading level0 row1\" >1</th>\n",
       "                        <td id=\"T_c3db0a7a_219f_11ec_ace5_02420a3901d2row1_col0\" class=\"data row1 col0\" >247</td>\n",
       "                        <td id=\"T_c3db0a7a_219f_11ec_ace5_02420a3901d2row1_col1\" class=\"data row1 col1\" >2513</td>\n",
       "            </tr>\n",
       "            <tr>\n",
       "                        <th id=\"T_c3db0a7a_219f_11ec_ace5_02420a3901d2level0_row2\" class=\"row_heading level0 row2\" >2</th>\n",
       "                        <td id=\"T_c3db0a7a_219f_11ec_ace5_02420a3901d2row2_col0\" class=\"data row2 col0\" >248</td>\n",
       "                        <td id=\"T_c3db0a7a_219f_11ec_ace5_02420a3901d2row2_col1\" class=\"data row2 col1\" >2537</td>\n",
       "            </tr>\n",
       "    </tbody></table>"
      ],
      "text/plain": [
       "<pandas.io.formats.style.Styler at 0x7f17ef148950>"
      ]
     },
     "execution_count": 74,
     "metadata": {},
     "output_type": "execute_result"
    }
   ],
   "source": [
    "# Пользователи сгруппированные по экспериментам\n",
    "users_by_exp = df_actual.groupby('exp_id').agg({'user_id': 'nunique'}).reset_index()\n",
    "users_by_exp.style.background_gradient(cmap=cm)"
   ]
  },
  {
   "cell_type": "code",
   "execution_count": 75,
   "metadata": {},
   "outputs": [
    {
     "data": {
      "text/plain": [
       "7534"
      ]
     },
     "execution_count": 75,
     "metadata": {},
     "output_type": "execute_result"
    }
   ],
   "source": [
    "# Количество пользователей в актуализированном датафрейме\n",
    "df_actual.groupby('exp_id')['user_id'].nunique().sum()"
   ]
  },
  {
   "cell_type": "markdown",
   "metadata": {},
   "source": [
    "**Есть все три группы, количество уникальных пользователей сопадает  с количеством пользователей, пересечений нет.**"
   ]
  },
  {
   "cell_type": "markdown",
   "metadata": {},
   "source": [
    "## Изучение воронки событий"
   ]
  },
  {
   "cell_type": "markdown",
   "metadata": {},
   "source": [
    "### Частотность событий в логах"
   ]
  },
  {
   "cell_type": "code",
   "execution_count": 76,
   "metadata": {},
   "outputs": [
    {
     "data": {
      "text/html": [
       "<style  type=\"text/css\" >\n",
       "    #T_c3f041c4_219f_11ec_ace5_02420a3901d2row0_col1 {\n",
       "            background-color:  #a52a2a;\n",
       "            color:  #f1f1f1;\n",
       "        }    #T_c3f041c4_219f_11ec_ace5_02420a3901d2row1_col1 {\n",
       "            background-color:  #d9a0a0;\n",
       "            color:  #000000;\n",
       "        }    #T_c3f041c4_219f_11ec_ace5_02420a3901d2row2_col1 {\n",
       "            background-color:  #dca7a7;\n",
       "            color:  #000000;\n",
       "        }    #T_c3f041c4_219f_11ec_ace5_02420a3901d2row3_col1 {\n",
       "            background-color:  #e2b4b4;\n",
       "            color:  #000000;\n",
       "        }    #T_c3f041c4_219f_11ec_ace5_02420a3901d2row4_col1 {\n",
       "            background-color:  #faebeb;\n",
       "            color:  #000000;\n",
       "        }</style><table id=\"T_c3f041c4_219f_11ec_ace5_02420a3901d2\" ><thead>    <tr>        <th class=\"blank level0\" ></th>        <th class=\"col_heading level0 col0\" >event_name</th>        <th class=\"col_heading level0 col1\" >event_qty</th>    </tr></thead><tbody>\n",
       "                <tr>\n",
       "                        <th id=\"T_c3f041c4_219f_11ec_ace5_02420a3901d2level0_row0\" class=\"row_heading level0 row0\" >0</th>\n",
       "                        <td id=\"T_c3f041c4_219f_11ec_ace5_02420a3901d2row0_col0\" class=\"data row0 col0\" >MainScreenAppear</td>\n",
       "                        <td id=\"T_c3f041c4_219f_11ec_ace5_02420a3901d2row0_col1\" class=\"data row0 col1\" >117328</td>\n",
       "            </tr>\n",
       "            <tr>\n",
       "                        <th id=\"T_c3f041c4_219f_11ec_ace5_02420a3901d2level0_row1\" class=\"row_heading level0 row1\" >1</th>\n",
       "                        <td id=\"T_c3f041c4_219f_11ec_ace5_02420a3901d2row1_col0\" class=\"data row1 col0\" >OffersScreenAppear</td>\n",
       "                        <td id=\"T_c3f041c4_219f_11ec_ace5_02420a3901d2row1_col1\" class=\"data row1 col1\" >46333</td>\n",
       "            </tr>\n",
       "            <tr>\n",
       "                        <th id=\"T_c3f041c4_219f_11ec_ace5_02420a3901d2level0_row2\" class=\"row_heading level0 row2\" >2</th>\n",
       "                        <td id=\"T_c3f041c4_219f_11ec_ace5_02420a3901d2row2_col0\" class=\"data row2 col0\" >CartScreenAppear</td>\n",
       "                        <td id=\"T_c3f041c4_219f_11ec_ace5_02420a3901d2row2_col1\" class=\"data row2 col1\" >42303</td>\n",
       "            </tr>\n",
       "            <tr>\n",
       "                        <th id=\"T_c3f041c4_219f_11ec_ace5_02420a3901d2level0_row3\" class=\"row_heading level0 row3\" >3</th>\n",
       "                        <td id=\"T_c3f041c4_219f_11ec_ace5_02420a3901d2row3_col0\" class=\"data row3 col0\" >PaymentScreenSuccessful</td>\n",
       "                        <td id=\"T_c3f041c4_219f_11ec_ace5_02420a3901d2row3_col1\" class=\"data row3 col1\" >33918</td>\n",
       "            </tr>\n",
       "            <tr>\n",
       "                        <th id=\"T_c3f041c4_219f_11ec_ace5_02420a3901d2level0_row4\" class=\"row_heading level0 row4\" >4</th>\n",
       "                        <td id=\"T_c3f041c4_219f_11ec_ace5_02420a3901d2row4_col0\" class=\"data row4 col0\" >Tutorial</td>\n",
       "                        <td id=\"T_c3f041c4_219f_11ec_ace5_02420a3901d2row4_col1\" class=\"data row4 col1\" >1005</td>\n",
       "            </tr>\n",
       "    </tbody></table>"
      ],
      "text/plain": [
       "<pandas.io.formats.style.Styler at 0x7f17d3a59950>"
      ]
     },
     "execution_count": 76,
     "metadata": {},
     "output_type": "execute_result"
    }
   ],
   "source": [
    "events_qty = df_actual['event_name'].value_counts().reset_index()\n",
    "events_qty.columns = ['event_name', 'event_qty']\n",
    "events_qty.style.background_gradient(cmap=cm)"
   ]
  },
  {
   "cell_type": "markdown",
   "metadata": {},
   "source": [
    "### Количество пользователей совершивших событие"
   ]
  },
  {
   "cell_type": "code",
   "execution_count": 77,
   "metadata": {
    "scrolled": true
   },
   "outputs": [
    {
     "data": {
      "text/html": [
       "<style  type=\"text/css\" >\n",
       "    #T_c4034e40_219f_11ec_ace5_02420a3901d2row0_col1 {\n",
       "            background-color:  #a52a2a;\n",
       "            color:  #f1f1f1;\n",
       "        }    #T_c4034e40_219f_11ec_ace5_02420a3901d2row0_col2 {\n",
       "            background-color:  #a52a2a;\n",
       "            color:  #f1f1f1;\n",
       "        }    #T_c4034e40_219f_11ec_ace5_02420a3901d2row1_col1 {\n",
       "            background-color:  #c97c7c;\n",
       "            color:  #000000;\n",
       "        }    #T_c4034e40_219f_11ec_ace5_02420a3901d2row1_col2 {\n",
       "            background-color:  #c97c7c;\n",
       "            color:  #000000;\n",
       "        }    #T_c4034e40_219f_11ec_ace5_02420a3901d2row2_col1 {\n",
       "            background-color:  #d59696;\n",
       "            color:  #000000;\n",
       "        }    #T_c4034e40_219f_11ec_ace5_02420a3901d2row2_col2 {\n",
       "            background-color:  #d59696;\n",
       "            color:  #000000;\n",
       "        }    #T_c4034e40_219f_11ec_ace5_02420a3901d2row3_col1 {\n",
       "            background-color:  #d79b9b;\n",
       "            color:  #000000;\n",
       "        }    #T_c4034e40_219f_11ec_ace5_02420a3901d2row3_col2 {\n",
       "            background-color:  #d79b9b;\n",
       "            color:  #000000;\n",
       "        }    #T_c4034e40_219f_11ec_ace5_02420a3901d2row4_col1 {\n",
       "            background-color:  #faebeb;\n",
       "            color:  #000000;\n",
       "        }    #T_c4034e40_219f_11ec_ace5_02420a3901d2row4_col2 {\n",
       "            background-color:  #faebeb;\n",
       "            color:  #000000;\n",
       "        }</style><table id=\"T_c4034e40_219f_11ec_ace5_02420a3901d2\" ><thead>    <tr>        <th class=\"blank level0\" ></th>        <th class=\"col_heading level0 col0\" >event_name</th>        <th class=\"col_heading level0 col1\" >user_qty</th>        <th class=\"col_heading level0 col2\" >user_%</th>    </tr></thead><tbody>\n",
       "                <tr>\n",
       "                        <th id=\"T_c4034e40_219f_11ec_ace5_02420a3901d2level0_row0\" class=\"row_heading level0 row0\" >0</th>\n",
       "                        <td id=\"T_c4034e40_219f_11ec_ace5_02420a3901d2row0_col0\" class=\"data row0 col0\" >MainScreenAppear</td>\n",
       "                        <td id=\"T_c4034e40_219f_11ec_ace5_02420a3901d2row0_col1\" class=\"data row0 col1\" >7419</td>\n",
       "                        <td id=\"T_c4034e40_219f_11ec_ace5_02420a3901d2row0_col2\" class=\"data row0 col2\" >98.25</td>\n",
       "            </tr>\n",
       "            <tr>\n",
       "                        <th id=\"T_c4034e40_219f_11ec_ace5_02420a3901d2level0_row1\" class=\"row_heading level0 row1\" >1</th>\n",
       "                        <td id=\"T_c4034e40_219f_11ec_ace5_02420a3901d2row1_col0\" class=\"data row1 col0\" >OffersScreenAppear</td>\n",
       "                        <td id=\"T_c4034e40_219f_11ec_ace5_02420a3901d2row1_col1\" class=\"data row1 col1\" >4593</td>\n",
       "                        <td id=\"T_c4034e40_219f_11ec_ace5_02420a3901d2row1_col2\" class=\"data row1 col2\" >60.83</td>\n",
       "            </tr>\n",
       "            <tr>\n",
       "                        <th id=\"T_c4034e40_219f_11ec_ace5_02420a3901d2level0_row2\" class=\"row_heading level0 row2\" >2</th>\n",
       "                        <td id=\"T_c4034e40_219f_11ec_ace5_02420a3901d2row2_col0\" class=\"data row2 col0\" >CartScreenAppear</td>\n",
       "                        <td id=\"T_c4034e40_219f_11ec_ace5_02420a3901d2row2_col1\" class=\"data row2 col1\" >3734</td>\n",
       "                        <td id=\"T_c4034e40_219f_11ec_ace5_02420a3901d2row2_col2\" class=\"data row2 col2\" >49.45</td>\n",
       "            </tr>\n",
       "            <tr>\n",
       "                        <th id=\"T_c4034e40_219f_11ec_ace5_02420a3901d2level0_row3\" class=\"row_heading level0 row3\" >3</th>\n",
       "                        <td id=\"T_c4034e40_219f_11ec_ace5_02420a3901d2row3_col0\" class=\"data row3 col0\" >PaymentScreenSuccessful</td>\n",
       "                        <td id=\"T_c4034e40_219f_11ec_ace5_02420a3901d2row3_col1\" class=\"data row3 col1\" >3539</td>\n",
       "                        <td id=\"T_c4034e40_219f_11ec_ace5_02420a3901d2row3_col2\" class=\"data row3 col2\" >46.87</td>\n",
       "            </tr>\n",
       "            <tr>\n",
       "                        <th id=\"T_c4034e40_219f_11ec_ace5_02420a3901d2level0_row4\" class=\"row_heading level0 row4\" >4</th>\n",
       "                        <td id=\"T_c4034e40_219f_11ec_ace5_02420a3901d2row4_col0\" class=\"data row4 col0\" >Tutorial</td>\n",
       "                        <td id=\"T_c4034e40_219f_11ec_ace5_02420a3901d2row4_col1\" class=\"data row4 col1\" >840</td>\n",
       "                        <td id=\"T_c4034e40_219f_11ec_ace5_02420a3901d2row4_col2\" class=\"data row4 col2\" >11.12</td>\n",
       "            </tr>\n",
       "    </tbody></table>"
      ],
      "text/plain": [
       "<pandas.io.formats.style.Styler at 0x7f17ef1925d0>"
      ]
     },
     "execution_count": 77,
     "metadata": {},
     "output_type": "execute_result"
    }
   ],
   "source": [
    "user_funnel = df_actual.groupby('event_name')['user_id'].nunique().sort_values(ascending=False).to_frame().reset_index()\n",
    "user_funnel.columns = ['event_name', 'user_qty']\n",
    "user_funnel['user_%'] = round((user_funnel['user_qty'] / df['user_id'].nunique() * 100),2)\n",
    "user_funnel.style.background_gradient(cmap=cm)"
   ]
  },
  {
   "cell_type": "markdown",
   "metadata": {},
   "source": [
    "**Customer Journey Map:**\n",
    "<br>***- Главный экран***\n",
    "<br>***- Экран с товаром***\n",
    "<br>***- Корзина с товаром***\n",
    "<br>***- Успешная оплата***\n",
    "\n",
    "<br>**Очевидно что Tutorial, т.е. ознакомление с приложением можно исключить, как малозначительное действие не влияющее на результат.**"
   ]
  },
  {
   "cell_type": "code",
   "execution_count": 78,
   "metadata": {},
   "outputs": [],
   "source": [
    "# Исключение действия Tutorial\n",
    "user_funnel = user_funnel.query('event_name != \"Tutorial\"')"
   ]
  },
  {
   "cell_type": "markdown",
   "metadata": {},
   "source": [
    "### Пользовательская воронка"
   ]
  },
  {
   "cell_type": "code",
   "execution_count": 79,
   "metadata": {},
   "outputs": [
    {
     "data": {
      "application/vnd.plotly.v1+json": {
       "config": {
        "plotlyServerURL": "https://plot.ly"
       },
       "data": [
        {
         "marker": {
          "color": [
           "#800000",
           "#CD853F",
           "#DEB887",
           "#FFDEAD"
          ]
         },
         "opacity": 0.85,
         "textinfo": "value+percent initial",
         "textposition": "inside",
         "type": "funnel",
         "x": [
          7419,
          4593,
          3734,
          3539
         ],
         "y": [
          "MainScreenAppear",
          "OffersScreenAppear",
          "CartScreenAppear",
          "PaymentScreenSuccessful"
         ]
        }
       ],
       "layout": {
        "template": {
         "data": {
          "bar": [
           {
            "error_x": {
             "color": "#2a3f5f"
            },
            "error_y": {
             "color": "#2a3f5f"
            },
            "marker": {
             "line": {
              "color": "#E5ECF6",
              "width": 0.5
             }
            },
            "type": "bar"
           }
          ],
          "barpolar": [
           {
            "marker": {
             "line": {
              "color": "#E5ECF6",
              "width": 0.5
             }
            },
            "type": "barpolar"
           }
          ],
          "carpet": [
           {
            "aaxis": {
             "endlinecolor": "#2a3f5f",
             "gridcolor": "white",
             "linecolor": "white",
             "minorgridcolor": "white",
             "startlinecolor": "#2a3f5f"
            },
            "baxis": {
             "endlinecolor": "#2a3f5f",
             "gridcolor": "white",
             "linecolor": "white",
             "minorgridcolor": "white",
             "startlinecolor": "#2a3f5f"
            },
            "type": "carpet"
           }
          ],
          "choropleth": [
           {
            "colorbar": {
             "outlinewidth": 0,
             "ticks": ""
            },
            "type": "choropleth"
           }
          ],
          "contour": [
           {
            "colorbar": {
             "outlinewidth": 0,
             "ticks": ""
            },
            "colorscale": [
             [
              0,
              "#0d0887"
             ],
             [
              0.1111111111111111,
              "#46039f"
             ],
             [
              0.2222222222222222,
              "#7201a8"
             ],
             [
              0.3333333333333333,
              "#9c179e"
             ],
             [
              0.4444444444444444,
              "#bd3786"
             ],
             [
              0.5555555555555556,
              "#d8576b"
             ],
             [
              0.6666666666666666,
              "#ed7953"
             ],
             [
              0.7777777777777778,
              "#fb9f3a"
             ],
             [
              0.8888888888888888,
              "#fdca26"
             ],
             [
              1,
              "#f0f921"
             ]
            ],
            "type": "contour"
           }
          ],
          "contourcarpet": [
           {
            "colorbar": {
             "outlinewidth": 0,
             "ticks": ""
            },
            "type": "contourcarpet"
           }
          ],
          "heatmap": [
           {
            "colorbar": {
             "outlinewidth": 0,
             "ticks": ""
            },
            "colorscale": [
             [
              0,
              "#0d0887"
             ],
             [
              0.1111111111111111,
              "#46039f"
             ],
             [
              0.2222222222222222,
              "#7201a8"
             ],
             [
              0.3333333333333333,
              "#9c179e"
             ],
             [
              0.4444444444444444,
              "#bd3786"
             ],
             [
              0.5555555555555556,
              "#d8576b"
             ],
             [
              0.6666666666666666,
              "#ed7953"
             ],
             [
              0.7777777777777778,
              "#fb9f3a"
             ],
             [
              0.8888888888888888,
              "#fdca26"
             ],
             [
              1,
              "#f0f921"
             ]
            ],
            "type": "heatmap"
           }
          ],
          "heatmapgl": [
           {
            "colorbar": {
             "outlinewidth": 0,
             "ticks": ""
            },
            "colorscale": [
             [
              0,
              "#0d0887"
             ],
             [
              0.1111111111111111,
              "#46039f"
             ],
             [
              0.2222222222222222,
              "#7201a8"
             ],
             [
              0.3333333333333333,
              "#9c179e"
             ],
             [
              0.4444444444444444,
              "#bd3786"
             ],
             [
              0.5555555555555556,
              "#d8576b"
             ],
             [
              0.6666666666666666,
              "#ed7953"
             ],
             [
              0.7777777777777778,
              "#fb9f3a"
             ],
             [
              0.8888888888888888,
              "#fdca26"
             ],
             [
              1,
              "#f0f921"
             ]
            ],
            "type": "heatmapgl"
           }
          ],
          "histogram": [
           {
            "marker": {
             "colorbar": {
              "outlinewidth": 0,
              "ticks": ""
             }
            },
            "type": "histogram"
           }
          ],
          "histogram2d": [
           {
            "colorbar": {
             "outlinewidth": 0,
             "ticks": ""
            },
            "colorscale": [
             [
              0,
              "#0d0887"
             ],
             [
              0.1111111111111111,
              "#46039f"
             ],
             [
              0.2222222222222222,
              "#7201a8"
             ],
             [
              0.3333333333333333,
              "#9c179e"
             ],
             [
              0.4444444444444444,
              "#bd3786"
             ],
             [
              0.5555555555555556,
              "#d8576b"
             ],
             [
              0.6666666666666666,
              "#ed7953"
             ],
             [
              0.7777777777777778,
              "#fb9f3a"
             ],
             [
              0.8888888888888888,
              "#fdca26"
             ],
             [
              1,
              "#f0f921"
             ]
            ],
            "type": "histogram2d"
           }
          ],
          "histogram2dcontour": [
           {
            "colorbar": {
             "outlinewidth": 0,
             "ticks": ""
            },
            "colorscale": [
             [
              0,
              "#0d0887"
             ],
             [
              0.1111111111111111,
              "#46039f"
             ],
             [
              0.2222222222222222,
              "#7201a8"
             ],
             [
              0.3333333333333333,
              "#9c179e"
             ],
             [
              0.4444444444444444,
              "#bd3786"
             ],
             [
              0.5555555555555556,
              "#d8576b"
             ],
             [
              0.6666666666666666,
              "#ed7953"
             ],
             [
              0.7777777777777778,
              "#fb9f3a"
             ],
             [
              0.8888888888888888,
              "#fdca26"
             ],
             [
              1,
              "#f0f921"
             ]
            ],
            "type": "histogram2dcontour"
           }
          ],
          "mesh3d": [
           {
            "colorbar": {
             "outlinewidth": 0,
             "ticks": ""
            },
            "type": "mesh3d"
           }
          ],
          "parcoords": [
           {
            "line": {
             "colorbar": {
              "outlinewidth": 0,
              "ticks": ""
             }
            },
            "type": "parcoords"
           }
          ],
          "scatter": [
           {
            "marker": {
             "colorbar": {
              "outlinewidth": 0,
              "ticks": ""
             }
            },
            "type": "scatter"
           }
          ],
          "scatter3d": [
           {
            "line": {
             "colorbar": {
              "outlinewidth": 0,
              "ticks": ""
             }
            },
            "marker": {
             "colorbar": {
              "outlinewidth": 0,
              "ticks": ""
             }
            },
            "type": "scatter3d"
           }
          ],
          "scattercarpet": [
           {
            "marker": {
             "colorbar": {
              "outlinewidth": 0,
              "ticks": ""
             }
            },
            "type": "scattercarpet"
           }
          ],
          "scattergeo": [
           {
            "marker": {
             "colorbar": {
              "outlinewidth": 0,
              "ticks": ""
             }
            },
            "type": "scattergeo"
           }
          ],
          "scattergl": [
           {
            "marker": {
             "colorbar": {
              "outlinewidth": 0,
              "ticks": ""
             }
            },
            "type": "scattergl"
           }
          ],
          "scattermapbox": [
           {
            "marker": {
             "colorbar": {
              "outlinewidth": 0,
              "ticks": ""
             }
            },
            "type": "scattermapbox"
           }
          ],
          "scatterpolar": [
           {
            "marker": {
             "colorbar": {
              "outlinewidth": 0,
              "ticks": ""
             }
            },
            "type": "scatterpolar"
           }
          ],
          "scatterpolargl": [
           {
            "marker": {
             "colorbar": {
              "outlinewidth": 0,
              "ticks": ""
             }
            },
            "type": "scatterpolargl"
           }
          ],
          "scatterternary": [
           {
            "marker": {
             "colorbar": {
              "outlinewidth": 0,
              "ticks": ""
             }
            },
            "type": "scatterternary"
           }
          ],
          "surface": [
           {
            "colorbar": {
             "outlinewidth": 0,
             "ticks": ""
            },
            "colorscale": [
             [
              0,
              "#0d0887"
             ],
             [
              0.1111111111111111,
              "#46039f"
             ],
             [
              0.2222222222222222,
              "#7201a8"
             ],
             [
              0.3333333333333333,
              "#9c179e"
             ],
             [
              0.4444444444444444,
              "#bd3786"
             ],
             [
              0.5555555555555556,
              "#d8576b"
             ],
             [
              0.6666666666666666,
              "#ed7953"
             ],
             [
              0.7777777777777778,
              "#fb9f3a"
             ],
             [
              0.8888888888888888,
              "#fdca26"
             ],
             [
              1,
              "#f0f921"
             ]
            ],
            "type": "surface"
           }
          ],
          "table": [
           {
            "cells": {
             "fill": {
              "color": "#EBF0F8"
             },
             "line": {
              "color": "white"
             }
            },
            "header": {
             "fill": {
              "color": "#C8D4E3"
             },
             "line": {
              "color": "white"
             }
            },
            "type": "table"
           }
          ]
         },
         "layout": {
          "annotationdefaults": {
           "arrowcolor": "#2a3f5f",
           "arrowhead": 0,
           "arrowwidth": 1
          },
          "colorscale": {
           "diverging": [
            [
             0,
             "#8e0152"
            ],
            [
             0.1,
             "#c51b7d"
            ],
            [
             0.2,
             "#de77ae"
            ],
            [
             0.3,
             "#f1b6da"
            ],
            [
             0.4,
             "#fde0ef"
            ],
            [
             0.5,
             "#f7f7f7"
            ],
            [
             0.6,
             "#e6f5d0"
            ],
            [
             0.7,
             "#b8e186"
            ],
            [
             0.8,
             "#7fbc41"
            ],
            [
             0.9,
             "#4d9221"
            ],
            [
             1,
             "#276419"
            ]
           ],
           "sequential": [
            [
             0,
             "#0d0887"
            ],
            [
             0.1111111111111111,
             "#46039f"
            ],
            [
             0.2222222222222222,
             "#7201a8"
            ],
            [
             0.3333333333333333,
             "#9c179e"
            ],
            [
             0.4444444444444444,
             "#bd3786"
            ],
            [
             0.5555555555555556,
             "#d8576b"
            ],
            [
             0.6666666666666666,
             "#ed7953"
            ],
            [
             0.7777777777777778,
             "#fb9f3a"
            ],
            [
             0.8888888888888888,
             "#fdca26"
            ],
            [
             1,
             "#f0f921"
            ]
           ],
           "sequentialminus": [
            [
             0,
             "#0d0887"
            ],
            [
             0.1111111111111111,
             "#46039f"
            ],
            [
             0.2222222222222222,
             "#7201a8"
            ],
            [
             0.3333333333333333,
             "#9c179e"
            ],
            [
             0.4444444444444444,
             "#bd3786"
            ],
            [
             0.5555555555555556,
             "#d8576b"
            ],
            [
             0.6666666666666666,
             "#ed7953"
            ],
            [
             0.7777777777777778,
             "#fb9f3a"
            ],
            [
             0.8888888888888888,
             "#fdca26"
            ],
            [
             1,
             "#f0f921"
            ]
           ]
          },
          "colorway": [
           "#636efa",
           "#EF553B",
           "#00cc96",
           "#ab63fa",
           "#FFA15A",
           "#19d3f3",
           "#FF6692",
           "#B6E880",
           "#FF97FF",
           "#FECB52"
          ],
          "font": {
           "color": "#2a3f5f"
          },
          "geo": {
           "bgcolor": "white",
           "lakecolor": "white",
           "landcolor": "#E5ECF6",
           "showlakes": true,
           "showland": true,
           "subunitcolor": "white"
          },
          "hoverlabel": {
           "align": "left"
          },
          "hovermode": "closest",
          "mapbox": {
           "style": "light"
          },
          "paper_bgcolor": "white",
          "plot_bgcolor": "#E5ECF6",
          "polar": {
           "angularaxis": {
            "gridcolor": "white",
            "linecolor": "white",
            "ticks": ""
           },
           "bgcolor": "#E5ECF6",
           "radialaxis": {
            "gridcolor": "white",
            "linecolor": "white",
            "ticks": ""
           }
          },
          "scene": {
           "xaxis": {
            "backgroundcolor": "#E5ECF6",
            "gridcolor": "white",
            "gridwidth": 2,
            "linecolor": "white",
            "showbackground": true,
            "ticks": "",
            "zerolinecolor": "white"
           },
           "yaxis": {
            "backgroundcolor": "#E5ECF6",
            "gridcolor": "white",
            "gridwidth": 2,
            "linecolor": "white",
            "showbackground": true,
            "ticks": "",
            "zerolinecolor": "white"
           },
           "zaxis": {
            "backgroundcolor": "#E5ECF6",
            "gridcolor": "white",
            "gridwidth": 2,
            "linecolor": "white",
            "showbackground": true,
            "ticks": "",
            "zerolinecolor": "white"
           }
          },
          "shapedefaults": {
           "line": {
            "color": "#2a3f5f"
           }
          },
          "ternary": {
           "aaxis": {
            "gridcolor": "white",
            "linecolor": "white",
            "ticks": ""
           },
           "baxis": {
            "gridcolor": "white",
            "linecolor": "white",
            "ticks": ""
           },
           "bgcolor": "#E5ECF6",
           "caxis": {
            "gridcolor": "white",
            "linecolor": "white",
            "ticks": ""
           }
          },
          "title": {
           "x": 0.05
          },
          "xaxis": {
           "automargin": true,
           "gridcolor": "white",
           "linecolor": "white",
           "ticks": "",
           "zerolinecolor": "white",
           "zerolinewidth": 2
          },
          "yaxis": {
           "automargin": true,
           "gridcolor": "white",
           "linecolor": "white",
           "ticks": "",
           "zerolinecolor": "white",
           "zerolinewidth": 2
          }
         }
        },
        "title": {
         "text": "Воронка действий пользователей",
         "x": 0.5,
         "xanchor": "center",
         "y": 0.9,
         "yanchor": "top"
        }
       }
      },
      "text/html": [
       "<div>\n",
       "        \n",
       "        \n",
       "            <div id=\"efb99e19-a454-4ff1-98cf-1f9a7a673d24\" class=\"plotly-graph-div\" style=\"height:525px; width:100%;\"></div>\n",
       "            <script type=\"text/javascript\">\n",
       "                require([\"plotly\"], function(Plotly) {\n",
       "                    window.PLOTLYENV=window.PLOTLYENV || {};\n",
       "                    \n",
       "                if (document.getElementById(\"efb99e19-a454-4ff1-98cf-1f9a7a673d24\")) {\n",
       "                    Plotly.newPlot(\n",
       "                        'efb99e19-a454-4ff1-98cf-1f9a7a673d24',\n",
       "                        [{\"marker\": {\"color\": [\"#800000\", \"#CD853F\", \"#DEB887\", \"#FFDEAD\"]}, \"opacity\": 0.85, \"textinfo\": \"value+percent initial\", \"textposition\": \"inside\", \"type\": \"funnel\", \"x\": [7419, 4593, 3734, 3539], \"y\": [\"MainScreenAppear\", \"OffersScreenAppear\", \"CartScreenAppear\", \"PaymentScreenSuccessful\"]}],\n",
       "                        {\"template\": {\"data\": {\"bar\": [{\"error_x\": {\"color\": \"#2a3f5f\"}, \"error_y\": {\"color\": \"#2a3f5f\"}, \"marker\": {\"line\": {\"color\": \"#E5ECF6\", \"width\": 0.5}}, \"type\": \"bar\"}], \"barpolar\": [{\"marker\": {\"line\": {\"color\": \"#E5ECF6\", \"width\": 0.5}}, \"type\": \"barpolar\"}], \"carpet\": [{\"aaxis\": {\"endlinecolor\": \"#2a3f5f\", \"gridcolor\": \"white\", \"linecolor\": \"white\", \"minorgridcolor\": \"white\", \"startlinecolor\": \"#2a3f5f\"}, \"baxis\": {\"endlinecolor\": \"#2a3f5f\", \"gridcolor\": \"white\", \"linecolor\": \"white\", \"minorgridcolor\": \"white\", \"startlinecolor\": \"#2a3f5f\"}, \"type\": \"carpet\"}], \"choropleth\": [{\"colorbar\": {\"outlinewidth\": 0, \"ticks\": \"\"}, \"type\": \"choropleth\"}], \"contour\": [{\"colorbar\": {\"outlinewidth\": 0, \"ticks\": \"\"}, \"colorscale\": [[0.0, \"#0d0887\"], [0.1111111111111111, \"#46039f\"], [0.2222222222222222, \"#7201a8\"], [0.3333333333333333, \"#9c179e\"], [0.4444444444444444, \"#bd3786\"], [0.5555555555555556, \"#d8576b\"], [0.6666666666666666, \"#ed7953\"], [0.7777777777777778, \"#fb9f3a\"], [0.8888888888888888, \"#fdca26\"], [1.0, \"#f0f921\"]], \"type\": \"contour\"}], \"contourcarpet\": [{\"colorbar\": {\"outlinewidth\": 0, \"ticks\": \"\"}, \"type\": \"contourcarpet\"}], \"heatmap\": [{\"colorbar\": {\"outlinewidth\": 0, \"ticks\": \"\"}, \"colorscale\": [[0.0, \"#0d0887\"], [0.1111111111111111, \"#46039f\"], [0.2222222222222222, \"#7201a8\"], [0.3333333333333333, \"#9c179e\"], [0.4444444444444444, \"#bd3786\"], [0.5555555555555556, \"#d8576b\"], [0.6666666666666666, \"#ed7953\"], [0.7777777777777778, \"#fb9f3a\"], [0.8888888888888888, \"#fdca26\"], [1.0, \"#f0f921\"]], \"type\": \"heatmap\"}], \"heatmapgl\": [{\"colorbar\": {\"outlinewidth\": 0, \"ticks\": \"\"}, \"colorscale\": [[0.0, \"#0d0887\"], [0.1111111111111111, \"#46039f\"], [0.2222222222222222, \"#7201a8\"], [0.3333333333333333, \"#9c179e\"], [0.4444444444444444, \"#bd3786\"], [0.5555555555555556, \"#d8576b\"], [0.6666666666666666, \"#ed7953\"], [0.7777777777777778, \"#fb9f3a\"], [0.8888888888888888, \"#fdca26\"], [1.0, \"#f0f921\"]], \"type\": \"heatmapgl\"}], \"histogram\": [{\"marker\": {\"colorbar\": {\"outlinewidth\": 0, \"ticks\": \"\"}}, \"type\": \"histogram\"}], \"histogram2d\": [{\"colorbar\": {\"outlinewidth\": 0, \"ticks\": \"\"}, \"colorscale\": [[0.0, \"#0d0887\"], [0.1111111111111111, \"#46039f\"], [0.2222222222222222, \"#7201a8\"], [0.3333333333333333, \"#9c179e\"], [0.4444444444444444, \"#bd3786\"], [0.5555555555555556, \"#d8576b\"], [0.6666666666666666, \"#ed7953\"], [0.7777777777777778, \"#fb9f3a\"], [0.8888888888888888, \"#fdca26\"], [1.0, \"#f0f921\"]], \"type\": \"histogram2d\"}], \"histogram2dcontour\": [{\"colorbar\": {\"outlinewidth\": 0, \"ticks\": \"\"}, \"colorscale\": [[0.0, \"#0d0887\"], [0.1111111111111111, \"#46039f\"], [0.2222222222222222, \"#7201a8\"], [0.3333333333333333, \"#9c179e\"], [0.4444444444444444, \"#bd3786\"], [0.5555555555555556, \"#d8576b\"], [0.6666666666666666, \"#ed7953\"], [0.7777777777777778, \"#fb9f3a\"], [0.8888888888888888, \"#fdca26\"], [1.0, \"#f0f921\"]], \"type\": \"histogram2dcontour\"}], \"mesh3d\": [{\"colorbar\": {\"outlinewidth\": 0, \"ticks\": \"\"}, \"type\": \"mesh3d\"}], \"parcoords\": [{\"line\": {\"colorbar\": {\"outlinewidth\": 0, \"ticks\": \"\"}}, \"type\": \"parcoords\"}], \"scatter\": [{\"marker\": {\"colorbar\": {\"outlinewidth\": 0, \"ticks\": \"\"}}, \"type\": \"scatter\"}], \"scatter3d\": [{\"line\": {\"colorbar\": {\"outlinewidth\": 0, \"ticks\": \"\"}}, \"marker\": {\"colorbar\": {\"outlinewidth\": 0, \"ticks\": \"\"}}, \"type\": \"scatter3d\"}], \"scattercarpet\": [{\"marker\": {\"colorbar\": {\"outlinewidth\": 0, \"ticks\": \"\"}}, \"type\": \"scattercarpet\"}], \"scattergeo\": [{\"marker\": {\"colorbar\": {\"outlinewidth\": 0, \"ticks\": \"\"}}, \"type\": \"scattergeo\"}], \"scattergl\": [{\"marker\": {\"colorbar\": {\"outlinewidth\": 0, \"ticks\": \"\"}}, \"type\": \"scattergl\"}], \"scattermapbox\": [{\"marker\": {\"colorbar\": {\"outlinewidth\": 0, \"ticks\": \"\"}}, \"type\": \"scattermapbox\"}], \"scatterpolar\": [{\"marker\": {\"colorbar\": {\"outlinewidth\": 0, \"ticks\": \"\"}}, \"type\": \"scatterpolar\"}], \"scatterpolargl\": [{\"marker\": {\"colorbar\": {\"outlinewidth\": 0, \"ticks\": \"\"}}, \"type\": \"scatterpolargl\"}], \"scatterternary\": [{\"marker\": {\"colorbar\": {\"outlinewidth\": 0, \"ticks\": \"\"}}, \"type\": \"scatterternary\"}], \"surface\": [{\"colorbar\": {\"outlinewidth\": 0, \"ticks\": \"\"}, \"colorscale\": [[0.0, \"#0d0887\"], [0.1111111111111111, \"#46039f\"], [0.2222222222222222, \"#7201a8\"], [0.3333333333333333, \"#9c179e\"], [0.4444444444444444, \"#bd3786\"], [0.5555555555555556, \"#d8576b\"], [0.6666666666666666, \"#ed7953\"], [0.7777777777777778, \"#fb9f3a\"], [0.8888888888888888, \"#fdca26\"], [1.0, \"#f0f921\"]], \"type\": \"surface\"}], \"table\": [{\"cells\": {\"fill\": {\"color\": \"#EBF0F8\"}, \"line\": {\"color\": \"white\"}}, \"header\": {\"fill\": {\"color\": \"#C8D4E3\"}, \"line\": {\"color\": \"white\"}}, \"type\": \"table\"}]}, \"layout\": {\"annotationdefaults\": {\"arrowcolor\": \"#2a3f5f\", \"arrowhead\": 0, \"arrowwidth\": 1}, \"colorscale\": {\"diverging\": [[0, \"#8e0152\"], [0.1, \"#c51b7d\"], [0.2, \"#de77ae\"], [0.3, \"#f1b6da\"], [0.4, \"#fde0ef\"], [0.5, \"#f7f7f7\"], [0.6, \"#e6f5d0\"], [0.7, \"#b8e186\"], [0.8, \"#7fbc41\"], [0.9, \"#4d9221\"], [1, \"#276419\"]], \"sequential\": [[0.0, \"#0d0887\"], [0.1111111111111111, \"#46039f\"], [0.2222222222222222, \"#7201a8\"], [0.3333333333333333, \"#9c179e\"], [0.4444444444444444, \"#bd3786\"], [0.5555555555555556, \"#d8576b\"], [0.6666666666666666, \"#ed7953\"], [0.7777777777777778, \"#fb9f3a\"], [0.8888888888888888, \"#fdca26\"], [1.0, \"#f0f921\"]], \"sequentialminus\": [[0.0, \"#0d0887\"], [0.1111111111111111, \"#46039f\"], [0.2222222222222222, \"#7201a8\"], [0.3333333333333333, \"#9c179e\"], [0.4444444444444444, \"#bd3786\"], [0.5555555555555556, \"#d8576b\"], [0.6666666666666666, \"#ed7953\"], [0.7777777777777778, \"#fb9f3a\"], [0.8888888888888888, \"#fdca26\"], [1.0, \"#f0f921\"]]}, \"colorway\": [\"#636efa\", \"#EF553B\", \"#00cc96\", \"#ab63fa\", \"#FFA15A\", \"#19d3f3\", \"#FF6692\", \"#B6E880\", \"#FF97FF\", \"#FECB52\"], \"font\": {\"color\": \"#2a3f5f\"}, \"geo\": {\"bgcolor\": \"white\", \"lakecolor\": \"white\", \"landcolor\": \"#E5ECF6\", \"showlakes\": true, \"showland\": true, \"subunitcolor\": \"white\"}, \"hoverlabel\": {\"align\": \"left\"}, \"hovermode\": \"closest\", \"mapbox\": {\"style\": \"light\"}, \"paper_bgcolor\": \"white\", \"plot_bgcolor\": \"#E5ECF6\", \"polar\": {\"angularaxis\": {\"gridcolor\": \"white\", \"linecolor\": \"white\", \"ticks\": \"\"}, \"bgcolor\": \"#E5ECF6\", \"radialaxis\": {\"gridcolor\": \"white\", \"linecolor\": \"white\", \"ticks\": \"\"}}, \"scene\": {\"xaxis\": {\"backgroundcolor\": \"#E5ECF6\", \"gridcolor\": \"white\", \"gridwidth\": 2, \"linecolor\": \"white\", \"showbackground\": true, \"ticks\": \"\", \"zerolinecolor\": \"white\"}, \"yaxis\": {\"backgroundcolor\": \"#E5ECF6\", \"gridcolor\": \"white\", \"gridwidth\": 2, \"linecolor\": \"white\", \"showbackground\": true, \"ticks\": \"\", \"zerolinecolor\": \"white\"}, \"zaxis\": {\"backgroundcolor\": \"#E5ECF6\", \"gridcolor\": \"white\", \"gridwidth\": 2, \"linecolor\": \"white\", \"showbackground\": true, \"ticks\": \"\", \"zerolinecolor\": \"white\"}}, \"shapedefaults\": {\"line\": {\"color\": \"#2a3f5f\"}}, \"ternary\": {\"aaxis\": {\"gridcolor\": \"white\", \"linecolor\": \"white\", \"ticks\": \"\"}, \"baxis\": {\"gridcolor\": \"white\", \"linecolor\": \"white\", \"ticks\": \"\"}, \"bgcolor\": \"#E5ECF6\", \"caxis\": {\"gridcolor\": \"white\", \"linecolor\": \"white\", \"ticks\": \"\"}}, \"title\": {\"x\": 0.05}, \"xaxis\": {\"automargin\": true, \"gridcolor\": \"white\", \"linecolor\": \"white\", \"ticks\": \"\", \"zerolinecolor\": \"white\", \"zerolinewidth\": 2}, \"yaxis\": {\"automargin\": true, \"gridcolor\": \"white\", \"linecolor\": \"white\", \"ticks\": \"\", \"zerolinecolor\": \"white\", \"zerolinewidth\": 2}}}, \"title\": {\"text\": \"\\u0412\\u043e\\u0440\\u043e\\u043d\\u043a\\u0430 \\u0434\\u0435\\u0439\\u0441\\u0442\\u0432\\u0438\\u0439 \\u043f\\u043e\\u043b\\u044c\\u0437\\u043e\\u0432\\u0430\\u0442\\u0435\\u043b\\u0435\\u0439\", \"x\": 0.5, \"xanchor\": \"center\", \"y\": 0.9, \"yanchor\": \"top\"}},\n",
       "                        {\"responsive\": true}\n",
       "                    ).then(function(){\n",
       "                            \n",
       "var gd = document.getElementById('efb99e19-a454-4ff1-98cf-1f9a7a673d24');\n",
       "var x = new MutationObserver(function (mutations, observer) {{\n",
       "        var display = window.getComputedStyle(gd).display;\n",
       "        if (!display || display === 'none') {{\n",
       "            console.log([gd, 'removed!']);\n",
       "            Plotly.purge(gd);\n",
       "            observer.disconnect();\n",
       "        }}\n",
       "}});\n",
       "\n",
       "// Listen for the removal of the full notebook cells\n",
       "var notebookContainer = gd.closest('#notebook-container');\n",
       "if (notebookContainer) {{\n",
       "    x.observe(notebookContainer, {childList: true});\n",
       "}}\n",
       "\n",
       "// Listen for the clearing of the current output cell\n",
       "var outputEl = gd.closest('.output');\n",
       "if (outputEl) {{\n",
       "    x.observe(outputEl, {childList: true});\n",
       "}}\n",
       "\n",
       "                        })\n",
       "                };\n",
       "                });\n",
       "            </script>\n",
       "        </div>"
      ]
     },
     "metadata": {},
     "output_type": "display_data"
    }
   ],
   "source": [
    "# Воронка действий\n",
    "events = user_funnel['event_name']\n",
    "users = user_funnel['user_qty']\n",
    "fig = go.Figure()\n",
    "fig = go.Figure(go.Funnel(\n",
    "    y = events,\n",
    "    x = users,\n",
    "    textposition = \"inside\",\n",
    "    textinfo = \"value+percent initial\",\n",
    "    opacity = 0.85,\n",
    "    marker = {'color': ['#800000','#CD853F','#DEB887', '#FFDEAD']}))\n",
    "fig.update_layout(\n",
    "    title={\n",
    "        'text': \"Воронка действий пользователей\",\n",
    "        'y':0.9,\n",
    "        'x':0.5,\n",
    "        'xanchor': 'center',\n",
    "        'yanchor': 'top'})\n",
    "fig.show()"
   ]
  },
  {
   "cell_type": "markdown",
   "metadata": {},
   "source": [
    "**38% Пользвателей попав на главный экран, прекращают взаимодействие с приложением, не доходят до экрана с товаром. До успешной покупки доходят 48% пользователей попавших на главный экран приложения. 95% пользователей положивших товар в корзину успешно его оплаичают. Самый слабый этап - из главного экрана перейти к товарам, самый сильный этап - оплата положенных в корзину товаров.**"
   ]
  },
  {
   "cell_type": "markdown",
   "metadata": {},
   "source": [
    "## Анализ результатов эксперимента"
   ]
  },
  {
   "cell_type": "markdown",
   "metadata": {},
   "source": [
    "### Количество пользователей в экспериментальных группах"
   ]
  },
  {
   "cell_type": "code",
   "execution_count": 80,
   "metadata": {},
   "outputs": [
    {
     "data": {
      "text/html": [
       "<style  type=\"text/css\" >\n",
       "    #T_c4434c16_219f_11ec_ace5_02420a3901d2row0_col0 {\n",
       "            background-color:  #faebeb;\n",
       "            color:  #000000;\n",
       "        }    #T_c4434c16_219f_11ec_ace5_02420a3901d2row0_col1 {\n",
       "            background-color:  #faebeb;\n",
       "            color:  #000000;\n",
       "        }    #T_c4434c16_219f_11ec_ace5_02420a3901d2row1_col0 {\n",
       "            background-color:  #cf8a8a;\n",
       "            color:  #000000;\n",
       "        }    #T_c4434c16_219f_11ec_ace5_02420a3901d2row1_col1 {\n",
       "            background-color:  #cb8181;\n",
       "            color:  #000000;\n",
       "        }    #T_c4434c16_219f_11ec_ace5_02420a3901d2row2_col0 {\n",
       "            background-color:  #a52a2a;\n",
       "            color:  #f1f1f1;\n",
       "        }    #T_c4434c16_219f_11ec_ace5_02420a3901d2row2_col1 {\n",
       "            background-color:  #a52a2a;\n",
       "            color:  #f1f1f1;\n",
       "        }</style><table id=\"T_c4434c16_219f_11ec_ace5_02420a3901d2\" ><thead>    <tr>        <th class=\"blank level0\" ></th>        <th class=\"col_heading level0 col0\" >exp_id</th>        <th class=\"col_heading level0 col1\" >user_id</th>    </tr></thead><tbody>\n",
       "                <tr>\n",
       "                        <th id=\"T_c4434c16_219f_11ec_ace5_02420a3901d2level0_row0\" class=\"row_heading level0 row0\" >0</th>\n",
       "                        <td id=\"T_c4434c16_219f_11ec_ace5_02420a3901d2row0_col0\" class=\"data row0 col0\" >246</td>\n",
       "                        <td id=\"T_c4434c16_219f_11ec_ace5_02420a3901d2row0_col1\" class=\"data row0 col1\" >2484</td>\n",
       "            </tr>\n",
       "            <tr>\n",
       "                        <th id=\"T_c4434c16_219f_11ec_ace5_02420a3901d2level0_row1\" class=\"row_heading level0 row1\" >1</th>\n",
       "                        <td id=\"T_c4434c16_219f_11ec_ace5_02420a3901d2row1_col0\" class=\"data row1 col0\" >247</td>\n",
       "                        <td id=\"T_c4434c16_219f_11ec_ace5_02420a3901d2row1_col1\" class=\"data row1 col1\" >2513</td>\n",
       "            </tr>\n",
       "            <tr>\n",
       "                        <th id=\"T_c4434c16_219f_11ec_ace5_02420a3901d2level0_row2\" class=\"row_heading level0 row2\" >2</th>\n",
       "                        <td id=\"T_c4434c16_219f_11ec_ace5_02420a3901d2row2_col0\" class=\"data row2 col0\" >248</td>\n",
       "                        <td id=\"T_c4434c16_219f_11ec_ace5_02420a3901d2row2_col1\" class=\"data row2 col1\" >2537</td>\n",
       "            </tr>\n",
       "    </tbody></table>"
      ],
      "text/plain": [
       "<pandas.io.formats.style.Styler at 0x7f17ef1f8210>"
      ]
     },
     "execution_count": 80,
     "metadata": {},
     "output_type": "execute_result"
    }
   ],
   "source": [
    "# Группировка уникальных пользователей по группе\n",
    "group_users = df_actual.groupby('exp_id')['user_id'].nunique().to_frame().reset_index()\n",
    "group_users.style.background_gradient(cmap=cm)"
   ]
  },
  {
   "cell_type": "markdown",
   "metadata": {},
   "source": [
    "### Группы для АА эксперимента"
   ]
  },
  {
   "cell_type": "code",
   "execution_count": 81,
   "metadata": {},
   "outputs": [
    {
     "data": {
      "text/plain": [
       "2513"
      ]
     },
     "execution_count": 81,
     "metadata": {},
     "output_type": "execute_result"
    }
   ],
   "source": [
    "group_users['user_id'].iloc[1:2].sum()"
   ]
  },
  {
   "cell_type": "code",
   "execution_count": 82,
   "metadata": {},
   "outputs": [
    {
     "data": {
      "text/html": [
       "<style  type=\"text/css\" >\n",
       "    #T_c451c2f0_219f_11ec_ace5_02420a3901d2row0_col1 {\n",
       "            background-color:  #a52a2a;\n",
       "            color:  #f1f1f1;\n",
       "        }    #T_c451c2f0_219f_11ec_ace5_02420a3901d2row0_col2 {\n",
       "            background-color:  #a52a2a;\n",
       "            color:  #f1f1f1;\n",
       "        }    #T_c451c2f0_219f_11ec_ace5_02420a3901d2row1_col1 {\n",
       "            background-color:  #e3b6b6;\n",
       "            color:  #000000;\n",
       "        }    #T_c451c2f0_219f_11ec_ace5_02420a3901d2row1_col2 {\n",
       "            background-color:  #e3b6b6;\n",
       "            color:  #000000;\n",
       "        }    #T_c451c2f0_219f_11ec_ace5_02420a3901d2row2_col1 {\n",
       "            background-color:  #f6e1e1;\n",
       "            color:  #000000;\n",
       "        }    #T_c451c2f0_219f_11ec_ace5_02420a3901d2row2_col2 {\n",
       "            background-color:  #f6e1e1;\n",
       "            color:  #000000;\n",
       "        }    #T_c451c2f0_219f_11ec_ace5_02420a3901d2row3_col1 {\n",
       "            background-color:  #faebeb;\n",
       "            color:  #000000;\n",
       "        }    #T_c451c2f0_219f_11ec_ace5_02420a3901d2row3_col2 {\n",
       "            background-color:  #faebeb;\n",
       "            color:  #000000;\n",
       "        }</style><table id=\"T_c451c2f0_219f_11ec_ace5_02420a3901d2\" ><thead>    <tr>        <th class=\"blank level0\" ></th>        <th class=\"col_heading level0 col0\" >event_name</th>        <th class=\"col_heading level0 col1\" >users_qty</th>        <th class=\"col_heading level0 col2\" >user_share</th>    </tr></thead><tbody>\n",
       "                <tr>\n",
       "                        <th id=\"T_c451c2f0_219f_11ec_ace5_02420a3901d2level0_row0\" class=\"row_heading level0 row0\" >0</th>\n",
       "                        <td id=\"T_c451c2f0_219f_11ec_ace5_02420a3901d2row0_col0\" class=\"data row0 col0\" >MainScreenAppear</td>\n",
       "                        <td id=\"T_c451c2f0_219f_11ec_ace5_02420a3901d2row0_col1\" class=\"data row0 col1\" >2450</td>\n",
       "                        <td id=\"T_c451c2f0_219f_11ec_ace5_02420a3901d2row0_col2\" class=\"data row0 col2\" >0.986312</td>\n",
       "            </tr>\n",
       "            <tr>\n",
       "                        <th id=\"T_c451c2f0_219f_11ec_ace5_02420a3901d2level0_row1\" class=\"row_heading level0 row1\" >1</th>\n",
       "                        <td id=\"T_c451c2f0_219f_11ec_ace5_02420a3901d2row1_col0\" class=\"data row1 col0\" >OffersScreenAppear</td>\n",
       "                        <td id=\"T_c451c2f0_219f_11ec_ace5_02420a3901d2row1_col1\" class=\"data row1 col1\" >1542</td>\n",
       "                        <td id=\"T_c451c2f0_219f_11ec_ace5_02420a3901d2row1_col2\" class=\"data row1 col2\" >0.620773</td>\n",
       "            </tr>\n",
       "            <tr>\n",
       "                        <th id=\"T_c451c2f0_219f_11ec_ace5_02420a3901d2level0_row2\" class=\"row_heading level0 row2\" >2</th>\n",
       "                        <td id=\"T_c451c2f0_219f_11ec_ace5_02420a3901d2row2_col0\" class=\"data row2 col0\" >CartScreenAppear</td>\n",
       "                        <td id=\"T_c451c2f0_219f_11ec_ace5_02420a3901d2row2_col1\" class=\"data row2 col1\" >1266</td>\n",
       "                        <td id=\"T_c451c2f0_219f_11ec_ace5_02420a3901d2row2_col2\" class=\"data row2 col2\" >0.509662</td>\n",
       "            </tr>\n",
       "            <tr>\n",
       "                        <th id=\"T_c451c2f0_219f_11ec_ace5_02420a3901d2level0_row3\" class=\"row_heading level0 row3\" >3</th>\n",
       "                        <td id=\"T_c451c2f0_219f_11ec_ace5_02420a3901d2row3_col0\" class=\"data row3 col0\" >PaymentScreenSuccessful</td>\n",
       "                        <td id=\"T_c451c2f0_219f_11ec_ace5_02420a3901d2row3_col1\" class=\"data row3 col1\" >1200</td>\n",
       "                        <td id=\"T_c451c2f0_219f_11ec_ace5_02420a3901d2row3_col2\" class=\"data row3 col2\" >0.483092</td>\n",
       "            </tr>\n",
       "    </tbody></table>"
      ],
      "text/plain": [
       "<pandas.io.formats.style.Styler at 0x7f17ef440790>"
      ]
     },
     "execution_count": 82,
     "metadata": {},
     "output_type": "execute_result"
    }
   ],
   "source": [
    "# Группировка уникальных пользователей группы 246 по событиям\n",
    "funnel_246 = df_actual.query(\n",
    "    'exp_id == 246 and event_name != \"Tutorial\"').groupby(\n",
    "    'event_name')['user_id'].nunique().sort_values(ascending=False).to_frame(\n",
    "                    ).reset_index().rename(columns={'user_id': 'users_qty'})\n",
    "funnel_246['user_share'] = funnel_246['users_qty'] / group_users['user_id'].iloc[0:1].sum()\n",
    "funnel_246.style.background_gradient(cmap=cm)"
   ]
  },
  {
   "cell_type": "code",
   "execution_count": 83,
   "metadata": {},
   "outputs": [
    {
     "data": {
      "text/html": [
       "<style  type=\"text/css\" >\n",
       "    #T_c45e93c2_219f_11ec_ace5_02420a3901d2row0_col1 {\n",
       "            background-color:  #a52a2a;\n",
       "            color:  #f1f1f1;\n",
       "        }    #T_c45e93c2_219f_11ec_ace5_02420a3901d2row0_col2 {\n",
       "            background-color:  #a52a2a;\n",
       "            color:  #f1f1f1;\n",
       "        }    #T_c45e93c2_219f_11ec_ace5_02420a3901d2row1_col1 {\n",
       "            background-color:  #e3b6b6;\n",
       "            color:  #000000;\n",
       "        }    #T_c45e93c2_219f_11ec_ace5_02420a3901d2row1_col2 {\n",
       "            background-color:  #e3b6b6;\n",
       "            color:  #000000;\n",
       "        }    #T_c45e93c2_219f_11ec_ace5_02420a3901d2row2_col1 {\n",
       "            background-color:  #f5dfdf;\n",
       "            color:  #000000;\n",
       "        }    #T_c45e93c2_219f_11ec_ace5_02420a3901d2row2_col2 {\n",
       "            background-color:  #f5dfdf;\n",
       "            color:  #000000;\n",
       "        }    #T_c45e93c2_219f_11ec_ace5_02420a3901d2row3_col1 {\n",
       "            background-color:  #faebeb;\n",
       "            color:  #000000;\n",
       "        }    #T_c45e93c2_219f_11ec_ace5_02420a3901d2row3_col2 {\n",
       "            background-color:  #faebeb;\n",
       "            color:  #000000;\n",
       "        }</style><table id=\"T_c45e93c2_219f_11ec_ace5_02420a3901d2\" ><thead>    <tr>        <th class=\"blank level0\" ></th>        <th class=\"col_heading level0 col0\" >event_name</th>        <th class=\"col_heading level0 col1\" >users_qty</th>        <th class=\"col_heading level0 col2\" >user_share</th>    </tr></thead><tbody>\n",
       "                <tr>\n",
       "                        <th id=\"T_c45e93c2_219f_11ec_ace5_02420a3901d2level0_row0\" class=\"row_heading level0 row0\" >0</th>\n",
       "                        <td id=\"T_c45e93c2_219f_11ec_ace5_02420a3901d2row0_col0\" class=\"data row0 col0\" >MainScreenAppear</td>\n",
       "                        <td id=\"T_c45e93c2_219f_11ec_ace5_02420a3901d2row0_col1\" class=\"data row0 col1\" >2476</td>\n",
       "                        <td id=\"T_c45e93c2_219f_11ec_ace5_02420a3901d2row0_col2\" class=\"data row0 col2\" >0.985277</td>\n",
       "            </tr>\n",
       "            <tr>\n",
       "                        <th id=\"T_c45e93c2_219f_11ec_ace5_02420a3901d2level0_row1\" class=\"row_heading level0 row1\" >1</th>\n",
       "                        <td id=\"T_c45e93c2_219f_11ec_ace5_02420a3901d2row1_col0\" class=\"data row1 col0\" >OffersScreenAppear</td>\n",
       "                        <td id=\"T_c45e93c2_219f_11ec_ace5_02420a3901d2row1_col1\" class=\"data row1 col1\" >1520</td>\n",
       "                        <td id=\"T_c45e93c2_219f_11ec_ace5_02420a3901d2row1_col2\" class=\"data row1 col2\" >0.604855</td>\n",
       "            </tr>\n",
       "            <tr>\n",
       "                        <th id=\"T_c45e93c2_219f_11ec_ace5_02420a3901d2level0_row2\" class=\"row_heading level0 row2\" >2</th>\n",
       "                        <td id=\"T_c45e93c2_219f_11ec_ace5_02420a3901d2row2_col0\" class=\"data row2 col0\" >CartScreenAppear</td>\n",
       "                        <td id=\"T_c45e93c2_219f_11ec_ace5_02420a3901d2row2_col1\" class=\"data row2 col1\" >1238</td>\n",
       "                        <td id=\"T_c45e93c2_219f_11ec_ace5_02420a3901d2row2_col2\" class=\"data row2 col2\" >0.492638</td>\n",
       "            </tr>\n",
       "            <tr>\n",
       "                        <th id=\"T_c45e93c2_219f_11ec_ace5_02420a3901d2level0_row3\" class=\"row_heading level0 row3\" >3</th>\n",
       "                        <td id=\"T_c45e93c2_219f_11ec_ace5_02420a3901d2row3_col0\" class=\"data row3 col0\" >PaymentScreenSuccessful</td>\n",
       "                        <td id=\"T_c45e93c2_219f_11ec_ace5_02420a3901d2row3_col1\" class=\"data row3 col1\" >1158</td>\n",
       "                        <td id=\"T_c45e93c2_219f_11ec_ace5_02420a3901d2row3_col2\" class=\"data row3 col2\" >0.460804</td>\n",
       "            </tr>\n",
       "    </tbody></table>"
      ],
      "text/plain": [
       "<pandas.io.formats.style.Styler at 0x7f17ef4409d0>"
      ]
     },
     "execution_count": 83,
     "metadata": {},
     "output_type": "execute_result"
    }
   ],
   "source": [
    "# Группировка уникальных пользователей группы 247 по событиям\n",
    "funnel_247 = df_actual.query(\n",
    "    'exp_id == 247 and event_name != \"Tutorial\"').groupby(\n",
    "    'event_name')['user_id'].nunique().sort_values(ascending=False).to_frame(\n",
    "                    ).reset_index().rename(columns={'user_id': 'users_qty'})\n",
    "funnel_247['user_share'] = funnel_247['users_qty'] / group_users['user_id'].iloc[1:2].sum()\n",
    "funnel_247.style.background_gradient(cmap=cm)"
   ]
  },
  {
   "cell_type": "code",
   "execution_count": 84,
   "metadata": {},
   "outputs": [
    {
     "data": {
      "text/html": [
       "<style  type=\"text/css\" >\n",
       "    #T_c46be360_219f_11ec_ace5_02420a3901d2row0_col1 {\n",
       "            background-color:  #a52a2a;\n",
       "            color:  #f1f1f1;\n",
       "        }    #T_c46be360_219f_11ec_ace5_02420a3901d2row0_col2 {\n",
       "            background-color:  #a52a2a;\n",
       "            color:  #f1f1f1;\n",
       "        }    #T_c46be360_219f_11ec_ace5_02420a3901d2row1_col1 {\n",
       "            background-color:  #e3b7b7;\n",
       "            color:  #000000;\n",
       "        }    #T_c46be360_219f_11ec_ace5_02420a3901d2row1_col2 {\n",
       "            background-color:  #e3b7b7;\n",
       "            color:  #000000;\n",
       "        }    #T_c46be360_219f_11ec_ace5_02420a3901d2row2_col1 {\n",
       "            background-color:  #f7e4e4;\n",
       "            color:  #000000;\n",
       "        }    #T_c46be360_219f_11ec_ace5_02420a3901d2row2_col2 {\n",
       "            background-color:  #f7e4e4;\n",
       "            color:  #000000;\n",
       "        }    #T_c46be360_219f_11ec_ace5_02420a3901d2row3_col1 {\n",
       "            background-color:  #faebeb;\n",
       "            color:  #000000;\n",
       "        }    #T_c46be360_219f_11ec_ace5_02420a3901d2row3_col2 {\n",
       "            background-color:  #faebeb;\n",
       "            color:  #000000;\n",
       "        }</style><table id=\"T_c46be360_219f_11ec_ace5_02420a3901d2\" ><thead>    <tr>        <th class=\"blank level0\" ></th>        <th class=\"col_heading level0 col0\" >event_name</th>        <th class=\"col_heading level0 col1\" >users_qty</th>        <th class=\"col_heading level0 col2\" >user_share</th>    </tr></thead><tbody>\n",
       "                <tr>\n",
       "                        <th id=\"T_c46be360_219f_11ec_ace5_02420a3901d2level0_row0\" class=\"row_heading level0 row0\" >0</th>\n",
       "                        <td id=\"T_c46be360_219f_11ec_ace5_02420a3901d2row0_col0\" class=\"data row0 col0\" >MainScreenAppear</td>\n",
       "                        <td id=\"T_c46be360_219f_11ec_ace5_02420a3901d2row0_col1\" class=\"data row0 col1\" >2493</td>\n",
       "                        <td id=\"T_c46be360_219f_11ec_ace5_02420a3901d2row0_col2\" class=\"data row0 col2\" >0.982657</td>\n",
       "            </tr>\n",
       "            <tr>\n",
       "                        <th id=\"T_c46be360_219f_11ec_ace5_02420a3901d2level0_row1\" class=\"row_heading level0 row1\" >1</th>\n",
       "                        <td id=\"T_c46be360_219f_11ec_ace5_02420a3901d2row1_col0\" class=\"data row1 col0\" >OffersScreenAppear</td>\n",
       "                        <td id=\"T_c46be360_219f_11ec_ace5_02420a3901d2row1_col1\" class=\"data row1 col1\" >1531</td>\n",
       "                        <td id=\"T_c46be360_219f_11ec_ace5_02420a3901d2row1_col2\" class=\"data row1 col2\" >0.603469</td>\n",
       "            </tr>\n",
       "            <tr>\n",
       "                        <th id=\"T_c46be360_219f_11ec_ace5_02420a3901d2level0_row2\" class=\"row_heading level0 row2\" >2</th>\n",
       "                        <td id=\"T_c46be360_219f_11ec_ace5_02420a3901d2row2_col0\" class=\"data row2 col0\" >CartScreenAppear</td>\n",
       "                        <td id=\"T_c46be360_219f_11ec_ace5_02420a3901d2row2_col1\" class=\"data row2 col1\" >1230</td>\n",
       "                        <td id=\"T_c46be360_219f_11ec_ace5_02420a3901d2row2_col2\" class=\"data row2 col2\" >0.484825</td>\n",
       "            </tr>\n",
       "            <tr>\n",
       "                        <th id=\"T_c46be360_219f_11ec_ace5_02420a3901d2level0_row3\" class=\"row_heading level0 row3\" >3</th>\n",
       "                        <td id=\"T_c46be360_219f_11ec_ace5_02420a3901d2row3_col0\" class=\"data row3 col0\" >PaymentScreenSuccessful</td>\n",
       "                        <td id=\"T_c46be360_219f_11ec_ace5_02420a3901d2row3_col1\" class=\"data row3 col1\" >1181</td>\n",
       "                        <td id=\"T_c46be360_219f_11ec_ace5_02420a3901d2row3_col2\" class=\"data row3 col2\" >0.46551</td>\n",
       "            </tr>\n",
       "    </tbody></table>"
      ],
      "text/plain": [
       "<pandas.io.formats.style.Styler at 0x7f17ef192050>"
      ]
     },
     "execution_count": 84,
     "metadata": {},
     "output_type": "execute_result"
    }
   ],
   "source": [
    "# Группировка уникальных пользователей группы 248 по событиям\n",
    "funnel_248 = df_actual.query(\n",
    "    'exp_id == 248 and event_name != \"Tutorial\"').groupby(\n",
    "    'event_name')['user_id'].nunique().sort_values(ascending=False).to_frame(\n",
    "                    ).reset_index().rename(columns={'user_id': 'users_qty'})\n",
    "funnel_248['user_share'] = funnel_248['users_qty'] / group_users['user_id'].iloc[2:3].sum()\n",
    "funnel_248.style.background_gradient(cmap=cm)"
   ]
  },
  {
   "cell_type": "markdown",
   "metadata": {},
   "source": [
    "**Количество пользователей и их доли по каждому событию имеют слабые различия между группами**"
   ]
  },
  {
   "cell_type": "code",
   "execution_count": 85,
   "metadata": {},
   "outputs": [
    {
     "name": "stdout",
     "output_type": "stream",
     "text": [
      "Процент разницы между количеством пользователей в контрольных группах 1.02\n"
     ]
    }
   ],
   "source": [
    "# Отношение между двумя контрольными группами\n",
    "print('Процент разницы между количеством пользователей в контрольных группах',round(100 - (\n",
    "    funnel_247['users_qty'].sum() / funnel_246['users_qty'].sum() * 100),2))"
   ]
  },
  {
   "cell_type": "markdown",
   "metadata": {},
   "source": [
    "**Количество пользователей различается в двух контрольных группах на 1%, можно считать это довольно большим процентом но допустимым**"
   ]
  },
  {
   "cell_type": "code",
   "execution_count": 86,
   "metadata": {},
   "outputs": [
    {
     "data": {
      "text/html": [
       "<style  type=\"text/css\" >\n",
       "    #T_c4757b5a_219f_11ec_ace5_02420a3901d2row0_col0 {\n",
       "            background-color:  #a52a2a;\n",
       "            color:  #f1f1f1;\n",
       "        }    #T_c4757b5a_219f_11ec_ace5_02420a3901d2row0_col2 {\n",
       "            background-color:  #a52a2a;\n",
       "            color:  #f1f1f1;\n",
       "        }    #T_c4757b5a_219f_11ec_ace5_02420a3901d2row1_col0 {\n",
       "            background-color:  #d39393;\n",
       "            color:  #000000;\n",
       "        }    #T_c4757b5a_219f_11ec_ace5_02420a3901d2row1_col2 {\n",
       "            background-color:  #d39393;\n",
       "            color:  #000000;\n",
       "        }    #T_c4757b5a_219f_11ec_ace5_02420a3901d2row2_col0 {\n",
       "            background-color:  #e2b4b4;\n",
       "            color:  #000000;\n",
       "        }    #T_c4757b5a_219f_11ec_ace5_02420a3901d2row2_col2 {\n",
       "            background-color:  #e2b4b4;\n",
       "            color:  #000000;\n",
       "        }    #T_c4757b5a_219f_11ec_ace5_02420a3901d2row3_col0 {\n",
       "            background-color:  #faebeb;\n",
       "            color:  #000000;\n",
       "        }    #T_c4757b5a_219f_11ec_ace5_02420a3901d2row3_col2 {\n",
       "            background-color:  #faebeb;\n",
       "            color:  #000000;\n",
       "        }</style><table id=\"T_c4757b5a_219f_11ec_ace5_02420a3901d2\" ><thead>    <tr>        <th class=\"blank level0\" ></th>        <th class=\"col_heading level0 col0\" >247_to_246</th>        <th class=\"col_heading level0 col1\" >event_name</th>        <th class=\"col_heading level0 col2\" >%_diff</th>    </tr></thead><tbody>\n",
       "                <tr>\n",
       "                        <th id=\"T_c4757b5a_219f_11ec_ace5_02420a3901d2level0_row0\" class=\"row_heading level0 row0\" >0</th>\n",
       "                        <td id=\"T_c4757b5a_219f_11ec_ace5_02420a3901d2row0_col0\" class=\"data row0 col0\" >101.06</td>\n",
       "                        <td id=\"T_c4757b5a_219f_11ec_ace5_02420a3901d2row0_col1\" class=\"data row0 col1\" >MainScreenAppear</td>\n",
       "                        <td id=\"T_c4757b5a_219f_11ec_ace5_02420a3901d2row0_col2\" class=\"data row0 col2\" >1.06</td>\n",
       "            </tr>\n",
       "            <tr>\n",
       "                        <th id=\"T_c4757b5a_219f_11ec_ace5_02420a3901d2level0_row1\" class=\"row_heading level0 row1\" >1</th>\n",
       "                        <td id=\"T_c4757b5a_219f_11ec_ace5_02420a3901d2row1_col0\" class=\"data row1 col0\" >98.57</td>\n",
       "                        <td id=\"T_c4757b5a_219f_11ec_ace5_02420a3901d2row1_col1\" class=\"data row1 col1\" >OffersScreenAppear</td>\n",
       "                        <td id=\"T_c4757b5a_219f_11ec_ace5_02420a3901d2row1_col2\" class=\"data row1 col2\" >-1.43</td>\n",
       "            </tr>\n",
       "            <tr>\n",
       "                        <th id=\"T_c4757b5a_219f_11ec_ace5_02420a3901d2level0_row2\" class=\"row_heading level0 row2\" >2</th>\n",
       "                        <td id=\"T_c4757b5a_219f_11ec_ace5_02420a3901d2row2_col0\" class=\"data row2 col0\" >97.79</td>\n",
       "                        <td id=\"T_c4757b5a_219f_11ec_ace5_02420a3901d2row2_col1\" class=\"data row2 col1\" >CartScreenAppear</td>\n",
       "                        <td id=\"T_c4757b5a_219f_11ec_ace5_02420a3901d2row2_col2\" class=\"data row2 col2\" >-2.21</td>\n",
       "            </tr>\n",
       "            <tr>\n",
       "                        <th id=\"T_c4757b5a_219f_11ec_ace5_02420a3901d2level0_row3\" class=\"row_heading level0 row3\" >3</th>\n",
       "                        <td id=\"T_c4757b5a_219f_11ec_ace5_02420a3901d2row3_col0\" class=\"data row3 col0\" >96.5</td>\n",
       "                        <td id=\"T_c4757b5a_219f_11ec_ace5_02420a3901d2row3_col1\" class=\"data row3 col1\" >PaymentScreenSuccessful</td>\n",
       "                        <td id=\"T_c4757b5a_219f_11ec_ace5_02420a3901d2row3_col2\" class=\"data row3 col2\" >-3.5</td>\n",
       "            </tr>\n",
       "    </tbody></table>"
      ],
      "text/plain": [
       "<pandas.io.formats.style.Styler at 0x7f182fd09550>"
      ]
     },
     "execution_count": 86,
     "metadata": {},
     "output_type": "execute_result"
    }
   ],
   "source": [
    "# Разницы между двумя контрольными группами по каждому событию\n",
    "group_difference = round((funnel_247['users_qty'] / funnel_246['users_qty'] * 100),2).to_frame()\n",
    "group_difference = group_difference.merge(funnel_246['event_name'], left_index=True, right_index=True)\n",
    "group_difference.columns = ['247_to_246', 'event_name']\n",
    "group_difference['%_diff'] = group_difference['247_to_246'] - 100\n",
    "group_difference.style.background_gradient(cmap=cm)"
   ]
  },
  {
   "cell_type": "markdown",
   "metadata": {},
   "source": [
    "**Если смотреть по событиям то различия чуть больше 1 %**"
   ]
  },
  {
   "cell_type": "code",
   "execution_count": 87,
   "metadata": {},
   "outputs": [
    {
     "data": {
      "application/vnd.plotly.v1+json": {
       "config": {
        "plotlyServerURL": "https://plot.ly"
       },
       "data": [
        {
         "marker": {
          "color": "#CD853F"
         },
         "name": "exp 246",
         "textinfo": "value+percent initial+percent previous",
         "textposition": "inside",
         "type": "funnel",
         "x": [
          2450,
          1542,
          1266,
          1200
         ],
         "y": [
          "MainScreenAppear",
          "OffersScreenAppear",
          "CartScreenAppear",
          "PaymentScreenSuccessful"
         ]
        },
        {
         "marker": {
          "color": "#DEB887"
         },
         "name": "exp 247",
         "textinfo": "value+percent initial+percent previous",
         "textposition": "inside",
         "type": "funnel",
         "x": [
          2476,
          1520,
          1238,
          1158
         ],
         "y": [
          "MainScreenAppear",
          "OffersScreenAppear",
          "CartScreenAppear",
          "PaymentScreenSuccessful"
         ]
        },
        {
         "marker": {
          "color": "#FFDEAD"
         },
         "name": "exp 248",
         "textinfo": "value+percent initial+percent previous",
         "textposition": "inside",
         "type": "funnel",
         "x": [
          2493,
          1531,
          1230,
          1181
         ],
         "y": [
          "MainScreenAppear",
          "OffersScreenAppear",
          "CartScreenAppear",
          "PaymentScreenSuccessful"
         ]
        }
       ],
       "layout": {
        "template": {
         "data": {
          "bar": [
           {
            "error_x": {
             "color": "#2a3f5f"
            },
            "error_y": {
             "color": "#2a3f5f"
            },
            "marker": {
             "line": {
              "color": "#E5ECF6",
              "width": 0.5
             }
            },
            "type": "bar"
           }
          ],
          "barpolar": [
           {
            "marker": {
             "line": {
              "color": "#E5ECF6",
              "width": 0.5
             }
            },
            "type": "barpolar"
           }
          ],
          "carpet": [
           {
            "aaxis": {
             "endlinecolor": "#2a3f5f",
             "gridcolor": "white",
             "linecolor": "white",
             "minorgridcolor": "white",
             "startlinecolor": "#2a3f5f"
            },
            "baxis": {
             "endlinecolor": "#2a3f5f",
             "gridcolor": "white",
             "linecolor": "white",
             "minorgridcolor": "white",
             "startlinecolor": "#2a3f5f"
            },
            "type": "carpet"
           }
          ],
          "choropleth": [
           {
            "colorbar": {
             "outlinewidth": 0,
             "ticks": ""
            },
            "type": "choropleth"
           }
          ],
          "contour": [
           {
            "colorbar": {
             "outlinewidth": 0,
             "ticks": ""
            },
            "colorscale": [
             [
              0,
              "#0d0887"
             ],
             [
              0.1111111111111111,
              "#46039f"
             ],
             [
              0.2222222222222222,
              "#7201a8"
             ],
             [
              0.3333333333333333,
              "#9c179e"
             ],
             [
              0.4444444444444444,
              "#bd3786"
             ],
             [
              0.5555555555555556,
              "#d8576b"
             ],
             [
              0.6666666666666666,
              "#ed7953"
             ],
             [
              0.7777777777777778,
              "#fb9f3a"
             ],
             [
              0.8888888888888888,
              "#fdca26"
             ],
             [
              1,
              "#f0f921"
             ]
            ],
            "type": "contour"
           }
          ],
          "contourcarpet": [
           {
            "colorbar": {
             "outlinewidth": 0,
             "ticks": ""
            },
            "type": "contourcarpet"
           }
          ],
          "heatmap": [
           {
            "colorbar": {
             "outlinewidth": 0,
             "ticks": ""
            },
            "colorscale": [
             [
              0,
              "#0d0887"
             ],
             [
              0.1111111111111111,
              "#46039f"
             ],
             [
              0.2222222222222222,
              "#7201a8"
             ],
             [
              0.3333333333333333,
              "#9c179e"
             ],
             [
              0.4444444444444444,
              "#bd3786"
             ],
             [
              0.5555555555555556,
              "#d8576b"
             ],
             [
              0.6666666666666666,
              "#ed7953"
             ],
             [
              0.7777777777777778,
              "#fb9f3a"
             ],
             [
              0.8888888888888888,
              "#fdca26"
             ],
             [
              1,
              "#f0f921"
             ]
            ],
            "type": "heatmap"
           }
          ],
          "heatmapgl": [
           {
            "colorbar": {
             "outlinewidth": 0,
             "ticks": ""
            },
            "colorscale": [
             [
              0,
              "#0d0887"
             ],
             [
              0.1111111111111111,
              "#46039f"
             ],
             [
              0.2222222222222222,
              "#7201a8"
             ],
             [
              0.3333333333333333,
              "#9c179e"
             ],
             [
              0.4444444444444444,
              "#bd3786"
             ],
             [
              0.5555555555555556,
              "#d8576b"
             ],
             [
              0.6666666666666666,
              "#ed7953"
             ],
             [
              0.7777777777777778,
              "#fb9f3a"
             ],
             [
              0.8888888888888888,
              "#fdca26"
             ],
             [
              1,
              "#f0f921"
             ]
            ],
            "type": "heatmapgl"
           }
          ],
          "histogram": [
           {
            "marker": {
             "colorbar": {
              "outlinewidth": 0,
              "ticks": ""
             }
            },
            "type": "histogram"
           }
          ],
          "histogram2d": [
           {
            "colorbar": {
             "outlinewidth": 0,
             "ticks": ""
            },
            "colorscale": [
             [
              0,
              "#0d0887"
             ],
             [
              0.1111111111111111,
              "#46039f"
             ],
             [
              0.2222222222222222,
              "#7201a8"
             ],
             [
              0.3333333333333333,
              "#9c179e"
             ],
             [
              0.4444444444444444,
              "#bd3786"
             ],
             [
              0.5555555555555556,
              "#d8576b"
             ],
             [
              0.6666666666666666,
              "#ed7953"
             ],
             [
              0.7777777777777778,
              "#fb9f3a"
             ],
             [
              0.8888888888888888,
              "#fdca26"
             ],
             [
              1,
              "#f0f921"
             ]
            ],
            "type": "histogram2d"
           }
          ],
          "histogram2dcontour": [
           {
            "colorbar": {
             "outlinewidth": 0,
             "ticks": ""
            },
            "colorscale": [
             [
              0,
              "#0d0887"
             ],
             [
              0.1111111111111111,
              "#46039f"
             ],
             [
              0.2222222222222222,
              "#7201a8"
             ],
             [
              0.3333333333333333,
              "#9c179e"
             ],
             [
              0.4444444444444444,
              "#bd3786"
             ],
             [
              0.5555555555555556,
              "#d8576b"
             ],
             [
              0.6666666666666666,
              "#ed7953"
             ],
             [
              0.7777777777777778,
              "#fb9f3a"
             ],
             [
              0.8888888888888888,
              "#fdca26"
             ],
             [
              1,
              "#f0f921"
             ]
            ],
            "type": "histogram2dcontour"
           }
          ],
          "mesh3d": [
           {
            "colorbar": {
             "outlinewidth": 0,
             "ticks": ""
            },
            "type": "mesh3d"
           }
          ],
          "parcoords": [
           {
            "line": {
             "colorbar": {
              "outlinewidth": 0,
              "ticks": ""
             }
            },
            "type": "parcoords"
           }
          ],
          "scatter": [
           {
            "marker": {
             "colorbar": {
              "outlinewidth": 0,
              "ticks": ""
             }
            },
            "type": "scatter"
           }
          ],
          "scatter3d": [
           {
            "line": {
             "colorbar": {
              "outlinewidth": 0,
              "ticks": ""
             }
            },
            "marker": {
             "colorbar": {
              "outlinewidth": 0,
              "ticks": ""
             }
            },
            "type": "scatter3d"
           }
          ],
          "scattercarpet": [
           {
            "marker": {
             "colorbar": {
              "outlinewidth": 0,
              "ticks": ""
             }
            },
            "type": "scattercarpet"
           }
          ],
          "scattergeo": [
           {
            "marker": {
             "colorbar": {
              "outlinewidth": 0,
              "ticks": ""
             }
            },
            "type": "scattergeo"
           }
          ],
          "scattergl": [
           {
            "marker": {
             "colorbar": {
              "outlinewidth": 0,
              "ticks": ""
             }
            },
            "type": "scattergl"
           }
          ],
          "scattermapbox": [
           {
            "marker": {
             "colorbar": {
              "outlinewidth": 0,
              "ticks": ""
             }
            },
            "type": "scattermapbox"
           }
          ],
          "scatterpolar": [
           {
            "marker": {
             "colorbar": {
              "outlinewidth": 0,
              "ticks": ""
             }
            },
            "type": "scatterpolar"
           }
          ],
          "scatterpolargl": [
           {
            "marker": {
             "colorbar": {
              "outlinewidth": 0,
              "ticks": ""
             }
            },
            "type": "scatterpolargl"
           }
          ],
          "scatterternary": [
           {
            "marker": {
             "colorbar": {
              "outlinewidth": 0,
              "ticks": ""
             }
            },
            "type": "scatterternary"
           }
          ],
          "surface": [
           {
            "colorbar": {
             "outlinewidth": 0,
             "ticks": ""
            },
            "colorscale": [
             [
              0,
              "#0d0887"
             ],
             [
              0.1111111111111111,
              "#46039f"
             ],
             [
              0.2222222222222222,
              "#7201a8"
             ],
             [
              0.3333333333333333,
              "#9c179e"
             ],
             [
              0.4444444444444444,
              "#bd3786"
             ],
             [
              0.5555555555555556,
              "#d8576b"
             ],
             [
              0.6666666666666666,
              "#ed7953"
             ],
             [
              0.7777777777777778,
              "#fb9f3a"
             ],
             [
              0.8888888888888888,
              "#fdca26"
             ],
             [
              1,
              "#f0f921"
             ]
            ],
            "type": "surface"
           }
          ],
          "table": [
           {
            "cells": {
             "fill": {
              "color": "#EBF0F8"
             },
             "line": {
              "color": "white"
             }
            },
            "header": {
             "fill": {
              "color": "#C8D4E3"
             },
             "line": {
              "color": "white"
             }
            },
            "type": "table"
           }
          ]
         },
         "layout": {
          "annotationdefaults": {
           "arrowcolor": "#2a3f5f",
           "arrowhead": 0,
           "arrowwidth": 1
          },
          "colorscale": {
           "diverging": [
            [
             0,
             "#8e0152"
            ],
            [
             0.1,
             "#c51b7d"
            ],
            [
             0.2,
             "#de77ae"
            ],
            [
             0.3,
             "#f1b6da"
            ],
            [
             0.4,
             "#fde0ef"
            ],
            [
             0.5,
             "#f7f7f7"
            ],
            [
             0.6,
             "#e6f5d0"
            ],
            [
             0.7,
             "#b8e186"
            ],
            [
             0.8,
             "#7fbc41"
            ],
            [
             0.9,
             "#4d9221"
            ],
            [
             1,
             "#276419"
            ]
           ],
           "sequential": [
            [
             0,
             "#0d0887"
            ],
            [
             0.1111111111111111,
             "#46039f"
            ],
            [
             0.2222222222222222,
             "#7201a8"
            ],
            [
             0.3333333333333333,
             "#9c179e"
            ],
            [
             0.4444444444444444,
             "#bd3786"
            ],
            [
             0.5555555555555556,
             "#d8576b"
            ],
            [
             0.6666666666666666,
             "#ed7953"
            ],
            [
             0.7777777777777778,
             "#fb9f3a"
            ],
            [
             0.8888888888888888,
             "#fdca26"
            ],
            [
             1,
             "#f0f921"
            ]
           ],
           "sequentialminus": [
            [
             0,
             "#0d0887"
            ],
            [
             0.1111111111111111,
             "#46039f"
            ],
            [
             0.2222222222222222,
             "#7201a8"
            ],
            [
             0.3333333333333333,
             "#9c179e"
            ],
            [
             0.4444444444444444,
             "#bd3786"
            ],
            [
             0.5555555555555556,
             "#d8576b"
            ],
            [
             0.6666666666666666,
             "#ed7953"
            ],
            [
             0.7777777777777778,
             "#fb9f3a"
            ],
            [
             0.8888888888888888,
             "#fdca26"
            ],
            [
             1,
             "#f0f921"
            ]
           ]
          },
          "colorway": [
           "#636efa",
           "#EF553B",
           "#00cc96",
           "#ab63fa",
           "#FFA15A",
           "#19d3f3",
           "#FF6692",
           "#B6E880",
           "#FF97FF",
           "#FECB52"
          ],
          "font": {
           "color": "#2a3f5f"
          },
          "geo": {
           "bgcolor": "white",
           "lakecolor": "white",
           "landcolor": "#E5ECF6",
           "showlakes": true,
           "showland": true,
           "subunitcolor": "white"
          },
          "hoverlabel": {
           "align": "left"
          },
          "hovermode": "closest",
          "mapbox": {
           "style": "light"
          },
          "paper_bgcolor": "white",
          "plot_bgcolor": "#E5ECF6",
          "polar": {
           "angularaxis": {
            "gridcolor": "white",
            "linecolor": "white",
            "ticks": ""
           },
           "bgcolor": "#E5ECF6",
           "radialaxis": {
            "gridcolor": "white",
            "linecolor": "white",
            "ticks": ""
           }
          },
          "scene": {
           "xaxis": {
            "backgroundcolor": "#E5ECF6",
            "gridcolor": "white",
            "gridwidth": 2,
            "linecolor": "white",
            "showbackground": true,
            "ticks": "",
            "zerolinecolor": "white"
           },
           "yaxis": {
            "backgroundcolor": "#E5ECF6",
            "gridcolor": "white",
            "gridwidth": 2,
            "linecolor": "white",
            "showbackground": true,
            "ticks": "",
            "zerolinecolor": "white"
           },
           "zaxis": {
            "backgroundcolor": "#E5ECF6",
            "gridcolor": "white",
            "gridwidth": 2,
            "linecolor": "white",
            "showbackground": true,
            "ticks": "",
            "zerolinecolor": "white"
           }
          },
          "shapedefaults": {
           "line": {
            "color": "#2a3f5f"
           }
          },
          "ternary": {
           "aaxis": {
            "gridcolor": "white",
            "linecolor": "white",
            "ticks": ""
           },
           "baxis": {
            "gridcolor": "white",
            "linecolor": "white",
            "ticks": ""
           },
           "bgcolor": "#E5ECF6",
           "caxis": {
            "gridcolor": "white",
            "linecolor": "white",
            "ticks": ""
           }
          },
          "title": {
           "x": 0.05
          },
          "xaxis": {
           "automargin": true,
           "gridcolor": "white",
           "linecolor": "white",
           "ticks": "",
           "zerolinecolor": "white",
           "zerolinewidth": 2
          },
          "yaxis": {
           "automargin": true,
           "gridcolor": "white",
           "linecolor": "white",
           "ticks": "",
           "zerolinecolor": "white",
           "zerolinewidth": 2
          }
         }
        },
        "title": {
         "text": "Воронка действий пользователей по группам",
         "x": 0.5,
         "xanchor": "center",
         "y": 0.9,
         "yanchor": "top"
        }
       }
      },
      "text/html": [
       "<div>\n",
       "        \n",
       "        \n",
       "            <div id=\"8cadbd4b-068f-4662-a3a0-7255ea9d8499\" class=\"plotly-graph-div\" style=\"height:525px; width:100%;\"></div>\n",
       "            <script type=\"text/javascript\">\n",
       "                require([\"plotly\"], function(Plotly) {\n",
       "                    window.PLOTLYENV=window.PLOTLYENV || {};\n",
       "                    \n",
       "                if (document.getElementById(\"8cadbd4b-068f-4662-a3a0-7255ea9d8499\")) {\n",
       "                    Plotly.newPlot(\n",
       "                        '8cadbd4b-068f-4662-a3a0-7255ea9d8499',\n",
       "                        [{\"marker\": {\"color\": \"#CD853F\"}, \"name\": \"exp 246\", \"textinfo\": \"value+percent initial+percent previous\", \"textposition\": \"inside\", \"type\": \"funnel\", \"x\": [2450, 1542, 1266, 1200], \"y\": [\"MainScreenAppear\", \"OffersScreenAppear\", \"CartScreenAppear\", \"PaymentScreenSuccessful\"]}, {\"marker\": {\"color\": \"#DEB887\"}, \"name\": \"exp 247\", \"textinfo\": \"value+percent initial+percent previous\", \"textposition\": \"inside\", \"type\": \"funnel\", \"x\": [2476, 1520, 1238, 1158], \"y\": [\"MainScreenAppear\", \"OffersScreenAppear\", \"CartScreenAppear\", \"PaymentScreenSuccessful\"]}, {\"marker\": {\"color\": \"#FFDEAD\"}, \"name\": \"exp 248\", \"textinfo\": \"value+percent initial+percent previous\", \"textposition\": \"inside\", \"type\": \"funnel\", \"x\": [2493, 1531, 1230, 1181], \"y\": [\"MainScreenAppear\", \"OffersScreenAppear\", \"CartScreenAppear\", \"PaymentScreenSuccessful\"]}],\n",
       "                        {\"template\": {\"data\": {\"bar\": [{\"error_x\": {\"color\": \"#2a3f5f\"}, \"error_y\": {\"color\": \"#2a3f5f\"}, \"marker\": {\"line\": {\"color\": \"#E5ECF6\", \"width\": 0.5}}, \"type\": \"bar\"}], \"barpolar\": [{\"marker\": {\"line\": {\"color\": \"#E5ECF6\", \"width\": 0.5}}, \"type\": \"barpolar\"}], \"carpet\": [{\"aaxis\": {\"endlinecolor\": \"#2a3f5f\", \"gridcolor\": \"white\", \"linecolor\": \"white\", \"minorgridcolor\": \"white\", \"startlinecolor\": \"#2a3f5f\"}, \"baxis\": {\"endlinecolor\": \"#2a3f5f\", \"gridcolor\": \"white\", \"linecolor\": \"white\", \"minorgridcolor\": \"white\", \"startlinecolor\": \"#2a3f5f\"}, \"type\": \"carpet\"}], \"choropleth\": [{\"colorbar\": {\"outlinewidth\": 0, \"ticks\": \"\"}, \"type\": \"choropleth\"}], \"contour\": [{\"colorbar\": {\"outlinewidth\": 0, \"ticks\": \"\"}, \"colorscale\": [[0.0, \"#0d0887\"], [0.1111111111111111, \"#46039f\"], [0.2222222222222222, \"#7201a8\"], [0.3333333333333333, \"#9c179e\"], [0.4444444444444444, \"#bd3786\"], [0.5555555555555556, \"#d8576b\"], [0.6666666666666666, \"#ed7953\"], [0.7777777777777778, \"#fb9f3a\"], [0.8888888888888888, \"#fdca26\"], [1.0, \"#f0f921\"]], \"type\": \"contour\"}], \"contourcarpet\": [{\"colorbar\": {\"outlinewidth\": 0, \"ticks\": \"\"}, \"type\": \"contourcarpet\"}], \"heatmap\": [{\"colorbar\": {\"outlinewidth\": 0, \"ticks\": \"\"}, \"colorscale\": [[0.0, \"#0d0887\"], [0.1111111111111111, \"#46039f\"], [0.2222222222222222, \"#7201a8\"], [0.3333333333333333, \"#9c179e\"], [0.4444444444444444, \"#bd3786\"], [0.5555555555555556, \"#d8576b\"], [0.6666666666666666, \"#ed7953\"], [0.7777777777777778, \"#fb9f3a\"], [0.8888888888888888, \"#fdca26\"], [1.0, \"#f0f921\"]], \"type\": \"heatmap\"}], \"heatmapgl\": [{\"colorbar\": {\"outlinewidth\": 0, \"ticks\": \"\"}, \"colorscale\": [[0.0, \"#0d0887\"], [0.1111111111111111, \"#46039f\"], [0.2222222222222222, \"#7201a8\"], [0.3333333333333333, \"#9c179e\"], [0.4444444444444444, \"#bd3786\"], [0.5555555555555556, \"#d8576b\"], [0.6666666666666666, \"#ed7953\"], [0.7777777777777778, \"#fb9f3a\"], [0.8888888888888888, \"#fdca26\"], [1.0, \"#f0f921\"]], \"type\": \"heatmapgl\"}], \"histogram\": [{\"marker\": {\"colorbar\": {\"outlinewidth\": 0, \"ticks\": \"\"}}, \"type\": \"histogram\"}], \"histogram2d\": [{\"colorbar\": {\"outlinewidth\": 0, \"ticks\": \"\"}, \"colorscale\": [[0.0, \"#0d0887\"], [0.1111111111111111, \"#46039f\"], [0.2222222222222222, \"#7201a8\"], [0.3333333333333333, \"#9c179e\"], [0.4444444444444444, \"#bd3786\"], [0.5555555555555556, \"#d8576b\"], [0.6666666666666666, \"#ed7953\"], [0.7777777777777778, \"#fb9f3a\"], [0.8888888888888888, \"#fdca26\"], [1.0, \"#f0f921\"]], \"type\": \"histogram2d\"}], \"histogram2dcontour\": [{\"colorbar\": {\"outlinewidth\": 0, \"ticks\": \"\"}, \"colorscale\": [[0.0, \"#0d0887\"], [0.1111111111111111, \"#46039f\"], [0.2222222222222222, \"#7201a8\"], [0.3333333333333333, \"#9c179e\"], [0.4444444444444444, \"#bd3786\"], [0.5555555555555556, \"#d8576b\"], [0.6666666666666666, \"#ed7953\"], [0.7777777777777778, \"#fb9f3a\"], [0.8888888888888888, \"#fdca26\"], [1.0, \"#f0f921\"]], \"type\": \"histogram2dcontour\"}], \"mesh3d\": [{\"colorbar\": {\"outlinewidth\": 0, \"ticks\": \"\"}, \"type\": \"mesh3d\"}], \"parcoords\": [{\"line\": {\"colorbar\": {\"outlinewidth\": 0, \"ticks\": \"\"}}, \"type\": \"parcoords\"}], \"scatter\": [{\"marker\": {\"colorbar\": {\"outlinewidth\": 0, \"ticks\": \"\"}}, \"type\": \"scatter\"}], \"scatter3d\": [{\"line\": {\"colorbar\": {\"outlinewidth\": 0, \"ticks\": \"\"}}, \"marker\": {\"colorbar\": {\"outlinewidth\": 0, \"ticks\": \"\"}}, \"type\": \"scatter3d\"}], \"scattercarpet\": [{\"marker\": {\"colorbar\": {\"outlinewidth\": 0, \"ticks\": \"\"}}, \"type\": \"scattercarpet\"}], \"scattergeo\": [{\"marker\": {\"colorbar\": {\"outlinewidth\": 0, \"ticks\": \"\"}}, \"type\": \"scattergeo\"}], \"scattergl\": [{\"marker\": {\"colorbar\": {\"outlinewidth\": 0, \"ticks\": \"\"}}, \"type\": \"scattergl\"}], \"scattermapbox\": [{\"marker\": {\"colorbar\": {\"outlinewidth\": 0, \"ticks\": \"\"}}, \"type\": \"scattermapbox\"}], \"scatterpolar\": [{\"marker\": {\"colorbar\": {\"outlinewidth\": 0, \"ticks\": \"\"}}, \"type\": \"scatterpolar\"}], \"scatterpolargl\": [{\"marker\": {\"colorbar\": {\"outlinewidth\": 0, \"ticks\": \"\"}}, \"type\": \"scatterpolargl\"}], \"scatterternary\": [{\"marker\": {\"colorbar\": {\"outlinewidth\": 0, \"ticks\": \"\"}}, \"type\": \"scatterternary\"}], \"surface\": [{\"colorbar\": {\"outlinewidth\": 0, \"ticks\": \"\"}, \"colorscale\": [[0.0, \"#0d0887\"], [0.1111111111111111, \"#46039f\"], [0.2222222222222222, \"#7201a8\"], [0.3333333333333333, \"#9c179e\"], [0.4444444444444444, \"#bd3786\"], [0.5555555555555556, \"#d8576b\"], [0.6666666666666666, \"#ed7953\"], [0.7777777777777778, \"#fb9f3a\"], [0.8888888888888888, \"#fdca26\"], [1.0, \"#f0f921\"]], \"type\": \"surface\"}], \"table\": [{\"cells\": {\"fill\": {\"color\": \"#EBF0F8\"}, \"line\": {\"color\": \"white\"}}, \"header\": {\"fill\": {\"color\": \"#C8D4E3\"}, \"line\": {\"color\": \"white\"}}, \"type\": \"table\"}]}, \"layout\": {\"annotationdefaults\": {\"arrowcolor\": \"#2a3f5f\", \"arrowhead\": 0, \"arrowwidth\": 1}, \"colorscale\": {\"diverging\": [[0, \"#8e0152\"], [0.1, \"#c51b7d\"], [0.2, \"#de77ae\"], [0.3, \"#f1b6da\"], [0.4, \"#fde0ef\"], [0.5, \"#f7f7f7\"], [0.6, \"#e6f5d0\"], [0.7, \"#b8e186\"], [0.8, \"#7fbc41\"], [0.9, \"#4d9221\"], [1, \"#276419\"]], \"sequential\": [[0.0, \"#0d0887\"], [0.1111111111111111, \"#46039f\"], [0.2222222222222222, \"#7201a8\"], [0.3333333333333333, \"#9c179e\"], [0.4444444444444444, \"#bd3786\"], [0.5555555555555556, \"#d8576b\"], [0.6666666666666666, \"#ed7953\"], [0.7777777777777778, \"#fb9f3a\"], [0.8888888888888888, \"#fdca26\"], [1.0, \"#f0f921\"]], \"sequentialminus\": [[0.0, \"#0d0887\"], [0.1111111111111111, \"#46039f\"], [0.2222222222222222, \"#7201a8\"], [0.3333333333333333, \"#9c179e\"], [0.4444444444444444, \"#bd3786\"], [0.5555555555555556, \"#d8576b\"], [0.6666666666666666, \"#ed7953\"], [0.7777777777777778, \"#fb9f3a\"], [0.8888888888888888, \"#fdca26\"], [1.0, \"#f0f921\"]]}, \"colorway\": [\"#636efa\", \"#EF553B\", \"#00cc96\", \"#ab63fa\", \"#FFA15A\", \"#19d3f3\", \"#FF6692\", \"#B6E880\", \"#FF97FF\", \"#FECB52\"], \"font\": {\"color\": \"#2a3f5f\"}, \"geo\": {\"bgcolor\": \"white\", \"lakecolor\": \"white\", \"landcolor\": \"#E5ECF6\", \"showlakes\": true, \"showland\": true, \"subunitcolor\": \"white\"}, \"hoverlabel\": {\"align\": \"left\"}, \"hovermode\": \"closest\", \"mapbox\": {\"style\": \"light\"}, \"paper_bgcolor\": \"white\", \"plot_bgcolor\": \"#E5ECF6\", \"polar\": {\"angularaxis\": {\"gridcolor\": \"white\", \"linecolor\": \"white\", \"ticks\": \"\"}, \"bgcolor\": \"#E5ECF6\", \"radialaxis\": {\"gridcolor\": \"white\", \"linecolor\": \"white\", \"ticks\": \"\"}}, \"scene\": {\"xaxis\": {\"backgroundcolor\": \"#E5ECF6\", \"gridcolor\": \"white\", \"gridwidth\": 2, \"linecolor\": \"white\", \"showbackground\": true, \"ticks\": \"\", \"zerolinecolor\": \"white\"}, \"yaxis\": {\"backgroundcolor\": \"#E5ECF6\", \"gridcolor\": \"white\", \"gridwidth\": 2, \"linecolor\": \"white\", \"showbackground\": true, \"ticks\": \"\", \"zerolinecolor\": \"white\"}, \"zaxis\": {\"backgroundcolor\": \"#E5ECF6\", \"gridcolor\": \"white\", \"gridwidth\": 2, \"linecolor\": \"white\", \"showbackground\": true, \"ticks\": \"\", \"zerolinecolor\": \"white\"}}, \"shapedefaults\": {\"line\": {\"color\": \"#2a3f5f\"}}, \"ternary\": {\"aaxis\": {\"gridcolor\": \"white\", \"linecolor\": \"white\", \"ticks\": \"\"}, \"baxis\": {\"gridcolor\": \"white\", \"linecolor\": \"white\", \"ticks\": \"\"}, \"bgcolor\": \"#E5ECF6\", \"caxis\": {\"gridcolor\": \"white\", \"linecolor\": \"white\", \"ticks\": \"\"}}, \"title\": {\"x\": 0.05}, \"xaxis\": {\"automargin\": true, \"gridcolor\": \"white\", \"linecolor\": \"white\", \"ticks\": \"\", \"zerolinecolor\": \"white\", \"zerolinewidth\": 2}, \"yaxis\": {\"automargin\": true, \"gridcolor\": \"white\", \"linecolor\": \"white\", \"ticks\": \"\", \"zerolinecolor\": \"white\", \"zerolinewidth\": 2}}}, \"title\": {\"text\": \"\\u0412\\u043e\\u0440\\u043e\\u043d\\u043a\\u0430 \\u0434\\u0435\\u0439\\u0441\\u0442\\u0432\\u0438\\u0439 \\u043f\\u043e\\u043b\\u044c\\u0437\\u043e\\u0432\\u0430\\u0442\\u0435\\u043b\\u0435\\u0439 \\u043f\\u043e \\u0433\\u0440\\u0443\\u043f\\u043f\\u0430\\u043c\", \"x\": 0.5, \"xanchor\": \"center\", \"y\": 0.9, \"yanchor\": \"top\"}},\n",
       "                        {\"responsive\": true}\n",
       "                    ).then(function(){\n",
       "                            \n",
       "var gd = document.getElementById('8cadbd4b-068f-4662-a3a0-7255ea9d8499');\n",
       "var x = new MutationObserver(function (mutations, observer) {{\n",
       "        var display = window.getComputedStyle(gd).display;\n",
       "        if (!display || display === 'none') {{\n",
       "            console.log([gd, 'removed!']);\n",
       "            Plotly.purge(gd);\n",
       "            observer.disconnect();\n",
       "        }}\n",
       "}});\n",
       "\n",
       "// Listen for the removal of the full notebook cells\n",
       "var notebookContainer = gd.closest('#notebook-container');\n",
       "if (notebookContainer) {{\n",
       "    x.observe(notebookContainer, {childList: true});\n",
       "}}\n",
       "\n",
       "// Listen for the clearing of the current output cell\n",
       "var outputEl = gd.closest('.output');\n",
       "if (outputEl) {{\n",
       "    x.observe(outputEl, {childList: true});\n",
       "}}\n",
       "\n",
       "                        })\n",
       "                };\n",
       "                });\n",
       "            </script>\n",
       "        </div>"
      ]
     },
     "metadata": {},
     "output_type": "display_data"
    }
   ],
   "source": [
    "fig = go.Figure()\n",
    "fig.add_trace(go.Funnel(\n",
    "    name = 'exp 246',\n",
    "    y = funnel_246['event_name'],\n",
    "    x = funnel_246['users_qty'],\n",
    "    textposition = \"inside\",\n",
    "    textinfo = \"value+percent initial+percent previous\",\n",
    "    marker={'color':'#CD853F'}\n",
    "    ))\n",
    "fig.add_trace(go.Funnel(\n",
    "    name = 'exp 247',\n",
    "    y = funnel_247['event_name'],\n",
    "    x = funnel_247['users_qty'],\n",
    "    textposition = \"inside\",\n",
    "    textinfo = \"value+percent initial+percent previous\",\n",
    "    marker={'color':'#DEB887'}\n",
    "    ))\n",
    "fig.add_trace(go.Funnel(\n",
    "    name = 'exp 248',\n",
    "    y = funnel_248['event_name'],\n",
    "    x = funnel_248['users_qty'],\n",
    "    textposition = \"inside\",\n",
    "    textinfo = \"value+percent initial+percent previous\",\n",
    "    marker={'color':'#FFDEAD'}\n",
    "    ))\n",
    "fig.update_layout(\n",
    "    title={\n",
    "        'text': \"Воронка действий пользователей по группам\",\n",
    "        'y':0.9,\n",
    "        'x':0.5,\n",
    "        'xanchor': 'center',\n",
    "        'yanchor': 'top'})\n",
    "fig.show()"
   ]
  },
  {
   "cell_type": "code",
   "execution_count": 88,
   "metadata": {},
   "outputs": [
    {
     "data": {
      "text/html": [
       "<div>\n",
       "<style scoped>\n",
       "    .dataframe tbody tr th:only-of-type {\n",
       "        vertical-align: middle;\n",
       "    }\n",
       "\n",
       "    .dataframe tbody tr th {\n",
       "        vertical-align: top;\n",
       "    }\n",
       "\n",
       "    .dataframe thead th {\n",
       "        text-align: right;\n",
       "    }\n",
       "</style>\n",
       "<table border=\"1\" class=\"dataframe\">\n",
       "  <thead>\n",
       "    <tr style=\"text-align: right;\">\n",
       "      <th></th>\n",
       "      <th>user_id</th>\n",
       "      <th>exp_id</th>\n",
       "    </tr>\n",
       "  </thead>\n",
       "  <tbody>\n",
       "  </tbody>\n",
       "</table>\n",
       "</div>"
      ],
      "text/plain": [
       "Empty DataFrame\n",
       "Columns: [user_id, exp_id]\n",
       "Index: []"
      ]
     },
     "execution_count": 88,
     "metadata": {},
     "output_type": "execute_result"
    }
   ],
   "source": [
    "# Группировка групп по пользователям с числом групп более 1\n",
    "df_actual.groupby('user_id')['exp_id'].nunique().reset_index().query('exp_id > 1')"
   ]
  },
  {
   "cell_type": "markdown",
   "metadata": {},
   "source": [
    "**Существенных различий между двумя контрольными группами не наблюдается, разница в количестве пользователей мала, пользователей попавших одновременно в две группы нет.**"
   ]
  },
  {
   "cell_type": "markdown",
   "metadata": {},
   "source": [
    "### Cтатистический тест для АА групп"
   ]
  },
  {
   "cell_type": "code",
   "execution_count": 89,
   "metadata": {},
   "outputs": [
    {
     "data": {
      "text/html": [
       "<style  type=\"text/css\" >\n",
       "    #T_c4d750a0_219f_11ec_ace5_02420a3901d2row0_col0 {\n",
       "            background-color:  #a52a2a;\n",
       "            color:  #f1f1f1;\n",
       "        }    #T_c4d750a0_219f_11ec_ace5_02420a3901d2row0_col1 {\n",
       "            background-color:  #a52a2a;\n",
       "            color:  #f1f1f1;\n",
       "        }    #T_c4d750a0_219f_11ec_ace5_02420a3901d2row0_col2 {\n",
       "            background-color:  #a52a2a;\n",
       "            color:  #f1f1f1;\n",
       "        }    #T_c4d750a0_219f_11ec_ace5_02420a3901d2row0_col3 {\n",
       "            background-color:  #a52a2a;\n",
       "            color:  #f1f1f1;\n",
       "        }    #T_c4d750a0_219f_11ec_ace5_02420a3901d2row1_col0 {\n",
       "            background-color:  #c97b7b;\n",
       "            color:  #000000;\n",
       "        }    #T_c4d750a0_219f_11ec_ace5_02420a3901d2row1_col1 {\n",
       "            background-color:  #ca7e7e;\n",
       "            color:  #000000;\n",
       "        }    #T_c4d750a0_219f_11ec_ace5_02420a3901d2row1_col2 {\n",
       "            background-color:  #ca7e7e;\n",
       "            color:  #000000;\n",
       "        }    #T_c4d750a0_219f_11ec_ace5_02420a3901d2row1_col3 {\n",
       "            background-color:  #c97c7c;\n",
       "            color:  #000000;\n",
       "        }    #T_c4d750a0_219f_11ec_ace5_02420a3901d2row2_col0 {\n",
       "            background-color:  #d39393;\n",
       "            color:  #000000;\n",
       "        }    #T_c4d750a0_219f_11ec_ace5_02420a3901d2row2_col1 {\n",
       "            background-color:  #d59797;\n",
       "            color:  #000000;\n",
       "        }    #T_c4d750a0_219f_11ec_ace5_02420a3901d2row2_col2 {\n",
       "            background-color:  #d69898;\n",
       "            color:  #000000;\n",
       "        }    #T_c4d750a0_219f_11ec_ace5_02420a3901d2row2_col3 {\n",
       "            background-color:  #d49595;\n",
       "            color:  #000000;\n",
       "        }    #T_c4d750a0_219f_11ec_ace5_02420a3901d2row3_col0 {\n",
       "            background-color:  #d69999;\n",
       "            color:  #000000;\n",
       "        }    #T_c4d750a0_219f_11ec_ace5_02420a3901d2row3_col1 {\n",
       "            background-color:  #d89e9e;\n",
       "            color:  #000000;\n",
       "        }    #T_c4d750a0_219f_11ec_ace5_02420a3901d2row3_col2 {\n",
       "            background-color:  #d79c9c;\n",
       "            color:  #000000;\n",
       "        }    #T_c4d750a0_219f_11ec_ace5_02420a3901d2row3_col3 {\n",
       "            background-color:  #d79b9b;\n",
       "            color:  #000000;\n",
       "        }    #T_c4d750a0_219f_11ec_ace5_02420a3901d2row4_col0 {\n",
       "            background-color:  #faebeb;\n",
       "            color:  #000000;\n",
       "        }    #T_c4d750a0_219f_11ec_ace5_02420a3901d2row4_col1 {\n",
       "            background-color:  #faebeb;\n",
       "            color:  #000000;\n",
       "        }    #T_c4d750a0_219f_11ec_ace5_02420a3901d2row4_col2 {\n",
       "            background-color:  #faebeb;\n",
       "            color:  #000000;\n",
       "        }    #T_c4d750a0_219f_11ec_ace5_02420a3901d2row4_col3 {\n",
       "            background-color:  #faebeb;\n",
       "            color:  #000000;\n",
       "        }</style><table id=\"T_c4d750a0_219f_11ec_ace5_02420a3901d2\" ><thead>    <tr>        <th class=\"index_name level0\" >exp_id</th>        <th class=\"col_heading level0 col0\" >246</th>        <th class=\"col_heading level0 col1\" >247</th>        <th class=\"col_heading level0 col2\" >248</th>        <th class=\"col_heading level0 col3\" >control_group</th>    </tr>    <tr>        <th class=\"index_name level0\" >event_name</th>        <th class=\"blank\" ></th>        <th class=\"blank\" ></th>        <th class=\"blank\" ></th>        <th class=\"blank\" ></th>    </tr></thead><tbody>\n",
       "                <tr>\n",
       "                        <th id=\"T_c4d750a0_219f_11ec_ace5_02420a3901d2level0_row0\" class=\"row_heading level0 row0\" >MainScreenAppear</th>\n",
       "                        <td id=\"T_c4d750a0_219f_11ec_ace5_02420a3901d2row0_col0\" class=\"data row0 col0\" >2450</td>\n",
       "                        <td id=\"T_c4d750a0_219f_11ec_ace5_02420a3901d2row0_col1\" class=\"data row0 col1\" >2476</td>\n",
       "                        <td id=\"T_c4d750a0_219f_11ec_ace5_02420a3901d2row0_col2\" class=\"data row0 col2\" >2493</td>\n",
       "                        <td id=\"T_c4d750a0_219f_11ec_ace5_02420a3901d2row0_col3\" class=\"data row0 col3\" >4926</td>\n",
       "            </tr>\n",
       "            <tr>\n",
       "                        <th id=\"T_c4d750a0_219f_11ec_ace5_02420a3901d2level0_row1\" class=\"row_heading level0 row1\" >OffersScreenAppear</th>\n",
       "                        <td id=\"T_c4d750a0_219f_11ec_ace5_02420a3901d2row1_col0\" class=\"data row1 col0\" >1542</td>\n",
       "                        <td id=\"T_c4d750a0_219f_11ec_ace5_02420a3901d2row1_col1\" class=\"data row1 col1\" >1520</td>\n",
       "                        <td id=\"T_c4d750a0_219f_11ec_ace5_02420a3901d2row1_col2\" class=\"data row1 col2\" >1531</td>\n",
       "                        <td id=\"T_c4d750a0_219f_11ec_ace5_02420a3901d2row1_col3\" class=\"data row1 col3\" >3062</td>\n",
       "            </tr>\n",
       "            <tr>\n",
       "                        <th id=\"T_c4d750a0_219f_11ec_ace5_02420a3901d2level0_row2\" class=\"row_heading level0 row2\" >CartScreenAppear</th>\n",
       "                        <td id=\"T_c4d750a0_219f_11ec_ace5_02420a3901d2row2_col0\" class=\"data row2 col0\" >1266</td>\n",
       "                        <td id=\"T_c4d750a0_219f_11ec_ace5_02420a3901d2row2_col1\" class=\"data row2 col1\" >1238</td>\n",
       "                        <td id=\"T_c4d750a0_219f_11ec_ace5_02420a3901d2row2_col2\" class=\"data row2 col2\" >1230</td>\n",
       "                        <td id=\"T_c4d750a0_219f_11ec_ace5_02420a3901d2row2_col3\" class=\"data row2 col3\" >2504</td>\n",
       "            </tr>\n",
       "            <tr>\n",
       "                        <th id=\"T_c4d750a0_219f_11ec_ace5_02420a3901d2level0_row3\" class=\"row_heading level0 row3\" >PaymentScreenSuccessful</th>\n",
       "                        <td id=\"T_c4d750a0_219f_11ec_ace5_02420a3901d2row3_col0\" class=\"data row3 col0\" >1200</td>\n",
       "                        <td id=\"T_c4d750a0_219f_11ec_ace5_02420a3901d2row3_col1\" class=\"data row3 col1\" >1158</td>\n",
       "                        <td id=\"T_c4d750a0_219f_11ec_ace5_02420a3901d2row3_col2\" class=\"data row3 col2\" >1181</td>\n",
       "                        <td id=\"T_c4d750a0_219f_11ec_ace5_02420a3901d2row3_col3\" class=\"data row3 col3\" >2358</td>\n",
       "            </tr>\n",
       "            <tr>\n",
       "                        <th id=\"T_c4d750a0_219f_11ec_ace5_02420a3901d2level0_row4\" class=\"row_heading level0 row4\" >Tutorial</th>\n",
       "                        <td id=\"T_c4d750a0_219f_11ec_ace5_02420a3901d2row4_col0\" class=\"data row4 col0\" >278</td>\n",
       "                        <td id=\"T_c4d750a0_219f_11ec_ace5_02420a3901d2row4_col1\" class=\"data row4 col1\" >283</td>\n",
       "                        <td id=\"T_c4d750a0_219f_11ec_ace5_02420a3901d2row4_col2\" class=\"data row4 col2\" >279</td>\n",
       "                        <td id=\"T_c4d750a0_219f_11ec_ace5_02420a3901d2row4_col3\" class=\"data row4 col3\" >561</td>\n",
       "            </tr>\n",
       "    </tbody></table>"
      ],
      "text/plain": [
       "<pandas.io.formats.style.Styler at 0x7f17ef4baed0>"
      ]
     },
     "execution_count": 89,
     "metadata": {},
     "output_type": "execute_result"
    }
   ],
   "source": [
    "# Группировка пользователей по событиям\n",
    "users_qty_by_events = df_actual.pivot_table(\n",
    "    index='event_name',columns='exp_id', values='user_id', aggfunc='nunique').sort_values(246,ascending=False)\n",
    "users_qty_by_events['control_group'] = users_qty_by_events[246] + users_qty_by_events[247]\n",
    "users_qty_by_events.style.background_gradient(cmap=cm)"
   ]
  },
  {
   "cell_type": "code",
   "execution_count": 90,
   "metadata": {},
   "outputs": [],
   "source": [
    "control = pd.DataFrame({'exp_id':'control_group', 'user_id':[group_users['user_id'].loc[0:1].sum()]})"
   ]
  },
  {
   "cell_type": "code",
   "execution_count": 91,
   "metadata": {
    "scrolled": true
   },
   "outputs": [
    {
     "data": {
      "text/html": [
       "<style  type=\"text/css\" >\n",
       "    #T_c4ddb742_219f_11ec_ace5_02420a3901d2row0_col0 {\n",
       "            background-color:  #faebeb;\n",
       "            color:  #000000;\n",
       "        }    #T_c4ddb742_219f_11ec_ace5_02420a3901d2row1_col0 {\n",
       "            background-color:  #f9e9e9;\n",
       "            color:  #000000;\n",
       "        }    #T_c4ddb742_219f_11ec_ace5_02420a3901d2row2_col0 {\n",
       "            background-color:  #f8e7e7;\n",
       "            color:  #000000;\n",
       "        }    #T_c4ddb742_219f_11ec_ace5_02420a3901d2row3_col0 {\n",
       "            background-color:  #a52a2a;\n",
       "            color:  #f1f1f1;\n",
       "        }</style><table id=\"T_c4ddb742_219f_11ec_ace5_02420a3901d2\" ><thead>    <tr>        <th class=\"blank level0\" ></th>        <th class=\"col_heading level0 col0\" >user_id</th>    </tr>    <tr>        <th class=\"index_name level0\" >exp_id</th>        <th class=\"blank\" ></th>    </tr></thead><tbody>\n",
       "                <tr>\n",
       "                        <th id=\"T_c4ddb742_219f_11ec_ace5_02420a3901d2level0_row0\" class=\"row_heading level0 row0\" >246</th>\n",
       "                        <td id=\"T_c4ddb742_219f_11ec_ace5_02420a3901d2row0_col0\" class=\"data row0 col0\" >2484</td>\n",
       "            </tr>\n",
       "            <tr>\n",
       "                        <th id=\"T_c4ddb742_219f_11ec_ace5_02420a3901d2level0_row1\" class=\"row_heading level0 row1\" >247</th>\n",
       "                        <td id=\"T_c4ddb742_219f_11ec_ace5_02420a3901d2row1_col0\" class=\"data row1 col0\" >2513</td>\n",
       "            </tr>\n",
       "            <tr>\n",
       "                        <th id=\"T_c4ddb742_219f_11ec_ace5_02420a3901d2level0_row2\" class=\"row_heading level0 row2\" >248</th>\n",
       "                        <td id=\"T_c4ddb742_219f_11ec_ace5_02420a3901d2row2_col0\" class=\"data row2 col0\" >2537</td>\n",
       "            </tr>\n",
       "            <tr>\n",
       "                        <th id=\"T_c4ddb742_219f_11ec_ace5_02420a3901d2level0_row3\" class=\"row_heading level0 row3\" >control_group</th>\n",
       "                        <td id=\"T_c4ddb742_219f_11ec_ace5_02420a3901d2row3_col0\" class=\"data row3 col0\" >4997</td>\n",
       "            </tr>\n",
       "    </tbody></table>"
      ],
      "text/plain": [
       "<pandas.io.formats.style.Styler at 0x7f182f87d090>"
      ]
     },
     "execution_count": 91,
     "metadata": {},
     "output_type": "execute_result"
    }
   ],
   "source": [
    "# Количество уникальных пользователей по группам\n",
    "users_by_group = group_users.append(control).set_index('exp_id')\n",
    "users_by_group.style.background_gradient(cmap=cm)"
   ]
  },
  {
   "cell_type": "code",
   "execution_count": 92,
   "metadata": {},
   "outputs": [],
   "source": [
    "# Функция применения Z критерия для событий групп 246 и 247\n",
    "def z_test(a_group1, a_group2, event, alpha):\n",
    "    # Количество пользователей, совершивших событие в первой группе\n",
    "    p1_events = users_qty_by_events.loc[event, a_group1]\n",
    "    # Количество пользователей, совершивших событие во второй группе\n",
    "    p2_events = users_qty_by_events.loc[event, a_group2]\n",
    "    # Количество пользователей в первой группе\n",
    "    p1_users = users_by_group.loc[a_group1, 'user_id']\n",
    "    # число пользователей во второй группе\n",
    "    p2_users = users_by_group.loc[a_group2, 'user_id']\n",
    "    # Пропорция успехов в первой группе\n",
    "    p1 = p1_events / p1_users\n",
    "    # Пропорция успехов во второй группе\n",
    "    p2 = p2_events / p2_users\n",
    "    # Разница пропорций\n",
    "    difference = p1 - p2\n",
    "    # пропорция успехов в комбинированном датасете:\n",
    "    p_combined = (p1_events + p2_events) / (p1_users + p2_users)\n",
    "    # Рсчет статистики в ст.отклонениях стандартного нормального распределения\n",
    "    z_value = difference / mth.sqrt(p_combined * (1 - p_combined) * (1 / p1_users + 1 / p2_users))\n",
    "    # Cтандартное нормальное распределение (среднее 0, ст.отклонение 1)\n",
    "    distr = st.norm(0, 1)\n",
    "    p_value = (1 - distr.cdf(abs(z_value))) * 2\n",
    "    print('Тест для {} и {}, событие: {}, p-значение: {p_value:.2f}'.format(a_group1, a_group2, event, p_value=p_value))\n",
    "    if (p_value < alpha):\n",
    "        print(\"Отвергаем нулевую гипотезу\")\n",
    "    else:\n",
    "        print(\"Не получилось отвергнуть нулевую гипотезу\")"
   ]
  },
  {
   "cell_type": "markdown",
   "metadata": {},
   "source": [
    "**Гипотезы для AA теста**\n",
    "\n",
    "<br>**$Ho$**  - ***доли в двух А (контрольных) группах не различаются***\n",
    "<br>**$H1$**  - ***доли в двух А (контрольных) группах различаются***"
   ]
  },
  {
   "cell_type": "markdown",
   "metadata": {},
   "source": [
    "<div class = \"alert alert-success\">\n",
    "<b> Комментарии ревьюера</b>\n",
    "\n",
    "Плюс за формулировки гипотез👍\n",
    "</div>"
   ]
  },
  {
   "cell_type": "code",
   "execution_count": 93,
   "metadata": {},
   "outputs": [
    {
     "name": "stdout",
     "output_type": "stream",
     "text": [
      "Тест для 246 и 247, событие: MainScreenAppear, p-значение: 0.76\n",
      "Не получилось отвергнуть нулевую гипотезу\n",
      "\n",
      "Тест для 246 и 247, событие: OffersScreenAppear, p-значение: 0.25\n",
      "Не получилось отвергнуть нулевую гипотезу\n",
      "\n",
      "Тест для 246 и 247, событие: CartScreenAppear, p-значение: 0.23\n",
      "Не получилось отвергнуть нулевую гипотезу\n",
      "\n",
      "Тест для 246 и 247, событие: PaymentScreenSuccessful, p-значение: 0.11\n",
      "Не получилось отвергнуть нулевую гипотезу\n",
      "\n",
      "Тест для 246 и 247, событие: Tutorial, p-значение: 0.94\n",
      "Не получилось отвергнуть нулевую гипотезу\n",
      "\n"
     ]
    }
   ],
   "source": [
    "for event in users_qty_by_events.index:\n",
    "    z_test(246, 247, event, 0.05)\n",
    "    print()"
   ]
  },
  {
   "cell_type": "markdown",
   "metadata": {},
   "source": [
    "**Статистическую значимость различий между двумя контрольными группами выявить не получилось.**"
   ]
  },
  {
   "cell_type": "markdown",
   "metadata": {},
   "source": [
    "### Статистический тест для AB групп"
   ]
  },
  {
   "cell_type": "markdown",
   "metadata": {},
   "source": [
    "**Гипотезы для AB теста**\n",
    "\n",
    "<br>**$Ho$**  - ***доли во первой контрольной и экспериментальной группах не различаются***\n",
    "<br>**$H1$**  - ***доли во первой контрольной и экспериментальной группах различаются***"
   ]
  },
  {
   "cell_type": "code",
   "execution_count": 94,
   "metadata": {},
   "outputs": [
    {
     "name": "stdout",
     "output_type": "stream",
     "text": [
      "Тест для 246 и 248, событие: MainScreenAppear, p-значение: 0.29\n",
      "Не получилось отвергнуть нулевую гипотезу\n",
      "\n",
      "Тест для 246 и 248, событие: OffersScreenAppear, p-значение: 0.21\n",
      "Не получилось отвергнуть нулевую гипотезу\n",
      "\n",
      "Тест для 246 и 248, событие: CartScreenAppear, p-значение: 0.08\n",
      "Не получилось отвергнуть нулевую гипотезу\n",
      "\n",
      "Тест для 246 и 248, событие: PaymentScreenSuccessful, p-значение: 0.21\n",
      "Не получилось отвергнуть нулевую гипотезу\n",
      "\n",
      "Тест для 246 и 248, событие: Tutorial, p-значение: 0.83\n",
      "Не получилось отвергнуть нулевую гипотезу\n",
      "\n"
     ]
    }
   ],
   "source": [
    "# Стат тест для первой контрольной груаппы и экспериментальной\n",
    "for event in users_qty_by_events.index:\n",
    "    z_test(246, 248, event, 0.05)\n",
    "    print()"
   ]
  },
  {
   "cell_type": "markdown",
   "metadata": {},
   "source": [
    "**Гипотезы для AB теста**\n",
    "\n",
    "<br>**$Ho$**  - ***доли во второй контрольной и экспериментальной группах не различаются***\n",
    "<br>**$H1$**  - ***доли во второй контрольной и экспериментальной группах различаются***"
   ]
  },
  {
   "cell_type": "code",
   "execution_count": 95,
   "metadata": {},
   "outputs": [
    {
     "name": "stdout",
     "output_type": "stream",
     "text": [
      "Тест для 247 и 248, событие: MainScreenAppear, p-значение: 0.46\n",
      "Не получилось отвергнуть нулевую гипотезу\n",
      "\n",
      "Тест для 247 и 248, событие: OffersScreenAppear, p-значение: 0.92\n",
      "Не получилось отвергнуть нулевую гипотезу\n",
      "\n",
      "Тест для 247 и 248, событие: CartScreenAppear, p-значение: 0.58\n",
      "Не получилось отвергнуть нулевую гипотезу\n",
      "\n",
      "Тест для 247 и 248, событие: PaymentScreenSuccessful, p-значение: 0.74\n",
      "Не получилось отвергнуть нулевую гипотезу\n",
      "\n",
      "Тест для 247 и 248, событие: Tutorial, p-значение: 0.77\n",
      "Не получилось отвергнуть нулевую гипотезу\n",
      "\n"
     ]
    }
   ],
   "source": [
    "# Стат тест для второй контрольной груаппы и экспериментальной\n",
    "for event in users_qty_by_events.index:\n",
    "    z_test(247, 248, event, 0.05)\n",
    "    print()"
   ]
  },
  {
   "cell_type": "markdown",
   "metadata": {},
   "source": [
    "**Гипотезы для AB теста**\n",
    "\n",
    "<br>**$Ho$**  - ***доли в контрольной и экспериментальной группах не различаются***\n",
    "<br>**$H1$**  - ***доли в контрольной и экспериментальной группах различаются***"
   ]
  },
  {
   "cell_type": "code",
   "execution_count": 96,
   "metadata": {},
   "outputs": [
    {
     "name": "stdout",
     "output_type": "stream",
     "text": [
      "Тест для control_group и 248, событие: MainScreenAppear, p-значение: 0.29\n",
      "Не получилось отвергнуть нулевую гипотезу\n",
      "\n",
      "Тест для control_group и 248, событие: OffersScreenAppear, p-значение: 0.43\n",
      "Не получилось отвергнуть нулевую гипотезу\n",
      "\n",
      "Тест для control_group и 248, событие: CartScreenAppear, p-значение: 0.18\n",
      "Не получилось отвергнуть нулевую гипотезу\n",
      "\n",
      "Тест для control_group и 248, событие: PaymentScreenSuccessful, p-значение: 0.60\n",
      "Не получилось отвергнуть нулевую гипотезу\n",
      "\n",
      "Тест для control_group и 248, событие: Tutorial, p-значение: 0.76\n",
      "Не получилось отвергнуть нулевую гипотезу\n",
      "\n"
     ]
    }
   ],
   "source": [
    "# Стат тест для объединенной контрольной и экспериментальной групп\n",
    "for event in users_qty_by_events.index:\n",
    "    z_test('control_group', 248, event, 0.05)\n",
    "    print()"
   ]
  },
  {
   "cell_type": "markdown",
   "metadata": {},
   "source": [
    "**AB тест также не смог выявить статистическую значимость различий долей в контрольной и экспериментальной группах**"
   ]
  },
  {
   "cell_type": "markdown",
   "metadata": {},
   "source": [
    "**Ни один тест не показал статистически значимую разницу. Но поскольку был проведен множественный тест на выборках из одного и того же набора данных, значит с каждой проверкой растет вероятность ошибки первого рода, для понимания нужно ли корректировать p-value можно сделать поправку на мно́жественную проверку гипотез методом Шидака-Холма.**"
   ]
  },
  {
   "cell_type": "code",
   "execution_count": 97,
   "metadata": {},
   "outputs": [],
   "source": [
    "# Лист значений p-value\n",
    "plist = [0.76, 0.25, 0.23, 0.11, 0.94, 0.29, 0.21, 0.08, 0.21, 0.83, 0.46, 0.92, 0.58, 0.74, 0.77, 0.29, 0.43, 0.18, 0.60, 0.76]"
   ]
  },
  {
   "cell_type": "code",
   "execution_count": 98,
   "metadata": {},
   "outputs": [],
   "source": [
    "from statsmodels.stats.multitest import multipletests\n",
    "reject, p_value_corrected, sidak_corr, bonf_corr = multipletests(plist, alpha=0.05, method='holm-sidak')"
   ]
  },
  {
   "cell_type": "code",
   "execution_count": 99,
   "metadata": {},
   "outputs": [
    {
     "data": {
      "text/plain": [
       "[False,\n",
       " False,\n",
       " False,\n",
       " False,\n",
       " False,\n",
       " False,\n",
       " False,\n",
       " False,\n",
       " False,\n",
       " False,\n",
       " False,\n",
       " False,\n",
       " False,\n",
       " False,\n",
       " False,\n",
       " False,\n",
       " False,\n",
       " False,\n",
       " False,\n",
       " False]"
      ]
     },
     "execution_count": 99,
     "metadata": {},
     "output_type": "execute_result"
    }
   ],
   "source": [
    "# Лист проверки гипотез\n",
    "reject.tolist()"
   ]
  },
  {
   "cell_type": "code",
   "execution_count": 100,
   "metadata": {},
   "outputs": [
    {
     "data": {
      "text/plain": [
       "[0.99991968189824,\n",
       " 0.9821820519864559,\n",
       " 0.9818172087853407,\n",
       " 0.8907528474392303,\n",
       " 0.99991968189824,\n",
       " 0.988349125254145,\n",
       " 0.9818172087853407,\n",
       " 0.8113066708372033,\n",
       " 0.9818172087853407,\n",
       " 0.99991968189824,\n",
       " 0.9979364100106957,\n",
       " 0.99991968189824,\n",
       " 0.9995933286161506,\n",
       " 0.99991968189824,\n",
       " 0.99991968189824,\n",
       " 0.988349125254145,\n",
       " 0.9979364100106957,\n",
       " 0.9719036863204473,\n",
       " 0.9995933286161506,\n",
       " 0.99991968189824]"
      ]
     },
     "execution_count": 100,
     "metadata": {},
     "output_type": "execute_result"
    }
   ],
   "source": [
    "# Лист скорректированных p-value\n",
    "p_value_corrected.tolist()"
   ]
  },
  {
   "cell_type": "code",
   "execution_count": 101,
   "metadata": {},
   "outputs": [
    {
     "data": {
      "text/plain": [
       "0.0025613787765302876"
      ]
     },
     "execution_count": 101,
     "metadata": {},
     "output_type": "execute_result"
    }
   ],
   "source": [
    "# Поправка Шидака\n",
    "sidak_corr"
   ]
  },
  {
   "cell_type": "code",
   "execution_count": 102,
   "metadata": {},
   "outputs": [
    {
     "data": {
      "text/plain": [
       "0.0025"
      ]
     },
     "execution_count": 102,
     "metadata": {},
     "output_type": "execute_result"
    }
   ],
   "source": [
    "# Поправка Бонферрони\n",
    "bonf_corr"
   ]
  },
  {
   "cell_type": "markdown",
   "metadata": {},
   "source": [
    "**Все гипотезы проверены правильно. При проведении пяти АА и пятнадцати АB тестов с уровнем значимости 5% ни один не показал статистической значимости, полученные p-value достаточно велики при выбранном уровне значимости. Корректировать p-value в связи с проведением мультитестов также нет необходимости.**"
   ]
  },
  {
   "cell_type": "markdown",
   "metadata": {},
   "source": [
    "**ОБЩИЙ ВЫВОД**\n",
    "\n",
    "<br>**Больше всего пользователей теряется после входа на главный экран приложения, до стадии выбора товара доходит лишь 62% пользователей.**\n",
    "\n",
    "<br>**До успешной оплаты доходят 48% пользователей зашедших в приложение.**\n",
    "\n",
    "<br>**Статзначимых различий между двумя контрольными группами не удалось обнаружить - это значит, что пользователи относятся к той или иной группе корректным, случайным образом.**\n",
    "\n",
    "<br>**Не удалось выявть также статистически значимых различий в поведении пользователей между контрольной и экспериментальной группами, значит изменение шрифтов во всем приложении не повлияло на конверсии событий и не привело к их улучшению.**\n",
    "\n",
    "<br>**В качестве рекомендации можно предложить обратить более детальное внимание на потерю пользователей между входом на главный экран и выбором товара.**"
   ]
  }
 ],
 "metadata": {
  "ExecuteTimeLog": [
   {
    "duration": 1520,
    "start_time": "2021-07-20T00:07:48.550Z"
   },
   {
    "duration": 614,
    "start_time": "2021-07-20T00:07:53.353Z"
   },
   {
    "duration": 5,
    "start_time": "2021-07-20T00:08:27.122Z"
   },
   {
    "duration": 1193,
    "start_time": "2021-07-20T00:08:46.297Z"
   },
   {
    "duration": 143,
    "start_time": "2021-07-20T00:09:12.480Z"
   },
   {
    "duration": 132,
    "start_time": "2021-07-20T00:09:29.058Z"
   },
   {
    "duration": 2076,
    "start_time": "2021-07-20T00:11:20.705Z"
   },
   {
    "duration": 4,
    "start_time": "2021-07-20T00:11:25.849Z"
   },
   {
    "duration": 193,
    "start_time": "2021-07-20T00:11:26.975Z"
   },
   {
    "duration": 5,
    "start_time": "2021-07-20T00:21:31.840Z"
   },
   {
    "duration": 4,
    "start_time": "2021-07-20T00:22:15.721Z"
   },
   {
    "duration": 4,
    "start_time": "2021-07-20T00:22:39.487Z"
   },
   {
    "duration": 17,
    "start_time": "2021-07-20T00:23:26.608Z"
   },
   {
    "duration": 84,
    "start_time": "2021-07-20T00:27:40.634Z"
   },
   {
    "duration": 9376,
    "start_time": "2021-07-20T00:28:42.976Z"
   },
   {
    "duration": 10,
    "start_time": "2021-07-20T00:29:02.180Z"
   },
   {
    "duration": 16,
    "start_time": "2021-07-20T00:29:08.848Z"
   },
   {
    "duration": 20,
    "start_time": "2021-07-20T00:29:37.481Z"
   },
   {
    "duration": 11,
    "start_time": "2021-07-20T00:32:44.209Z"
   },
   {
    "duration": 23,
    "start_time": "2021-07-20T00:32:45.857Z"
   },
   {
    "duration": 11,
    "start_time": "2021-07-20T00:32:53.819Z"
   },
   {
    "duration": 431,
    "start_time": "2021-07-20T00:32:53.833Z"
   },
   {
    "duration": 6,
    "start_time": "2021-07-20T00:32:54.267Z"
   },
   {
    "duration": 210,
    "start_time": "2021-07-20T00:32:54.276Z"
   },
   {
    "duration": 3,
    "start_time": "2021-07-20T00:32:54.489Z"
   },
   {
    "duration": 27,
    "start_time": "2021-07-20T00:32:54.494Z"
   },
   {
    "duration": 99,
    "start_time": "2021-07-20T00:32:54.523Z"
   },
   {
    "duration": 9,
    "start_time": "2021-07-20T00:32:54.624Z"
   },
   {
    "duration": 36,
    "start_time": "2021-07-20T00:32:54.636Z"
   },
   {
    "duration": 9272,
    "start_time": "2021-07-20T00:39:24.458Z"
   },
   {
    "duration": 22,
    "start_time": "2021-07-20T00:39:38.181Z"
   },
   {
    "duration": 21,
    "start_time": "2021-07-20T00:39:50.792Z"
   },
   {
    "duration": 22,
    "start_time": "2021-07-20T00:44:19.606Z"
   },
   {
    "duration": 22,
    "start_time": "2021-07-20T00:54:02.019Z"
   },
   {
    "duration": 28,
    "start_time": "2021-07-20T00:54:52.073Z"
   },
   {
    "duration": 367,
    "start_time": "2021-07-20T00:56:43.969Z"
   },
   {
    "duration": 413,
    "start_time": "2021-07-20T00:56:54.257Z"
   },
   {
    "duration": 406,
    "start_time": "2021-07-20T00:57:06.464Z"
   },
   {
    "duration": 402,
    "start_time": "2021-07-20T00:57:16.699Z"
   },
   {
    "duration": 360,
    "start_time": "2021-07-20T00:57:23.378Z"
   },
   {
    "duration": 371,
    "start_time": "2021-07-20T00:58:01.113Z"
   },
   {
    "duration": 370,
    "start_time": "2021-07-20T00:58:25.137Z"
   },
   {
    "duration": 495,
    "start_time": "2021-07-20T00:58:35.560Z"
   },
   {
    "duration": 406,
    "start_time": "2021-07-20T00:58:49.761Z"
   },
   {
    "duration": 148,
    "start_time": "2021-07-20T00:59:40.689Z"
   },
   {
    "duration": 423,
    "start_time": "2021-07-20T00:59:49.378Z"
   },
   {
    "duration": 9,
    "start_time": "2021-07-20T01:01:42.146Z"
   },
   {
    "duration": 522,
    "start_time": "2021-07-20T01:01:42.157Z"
   },
   {
    "duration": 5,
    "start_time": "2021-07-20T01:01:42.682Z"
   },
   {
    "duration": 209,
    "start_time": "2021-07-20T01:01:42.690Z"
   },
   {
    "duration": 4,
    "start_time": "2021-07-20T01:01:42.901Z"
   },
   {
    "duration": 25,
    "start_time": "2021-07-20T01:01:42.907Z"
   },
   {
    "duration": 99,
    "start_time": "2021-07-20T01:01:42.934Z"
   },
   {
    "duration": 10,
    "start_time": "2021-07-20T01:01:43.035Z"
   },
   {
    "duration": 34,
    "start_time": "2021-07-20T01:01:43.048Z"
   },
   {
    "duration": 24,
    "start_time": "2021-07-20T01:01:43.084Z"
   },
   {
    "duration": 22,
    "start_time": "2021-07-20T01:01:43.110Z"
   },
   {
    "duration": 49,
    "start_time": "2021-07-20T01:01:43.135Z"
   },
   {
    "duration": 26,
    "start_time": "2021-07-20T01:01:43.186Z"
   },
   {
    "duration": 2019,
    "start_time": "2021-07-20T01:01:43.215Z"
   },
   {
    "duration": 510,
    "start_time": "2021-07-20T01:01:51.865Z"
   },
   {
    "duration": 412,
    "start_time": "2021-07-20T01:02:15.196Z"
   },
   {
    "duration": 381,
    "start_time": "2021-07-20T01:03:04.354Z"
   },
   {
    "duration": 5,
    "start_time": "2021-07-20T01:17:28.951Z"
   },
   {
    "duration": 9173,
    "start_time": "2021-07-20T01:19:25.469Z"
   },
   {
    "duration": 9,
    "start_time": "2021-07-20T01:20:06.595Z"
   },
   {
    "duration": 425,
    "start_time": "2021-07-20T01:36:54.847Z"
   },
   {
    "duration": 395,
    "start_time": "2021-07-20T01:37:04.827Z"
   },
   {
    "duration": 7,
    "start_time": "2021-07-20T01:38:11.368Z"
   },
   {
    "duration": 368,
    "start_time": "2021-07-20T01:39:08.235Z"
   },
   {
    "duration": 44,
    "start_time": "2021-07-20T01:39:16.225Z"
   },
   {
    "duration": 10301,
    "start_time": "2021-07-20T01:39:59.863Z"
   },
   {
    "duration": 38,
    "start_time": "2021-07-20T01:40:11.097Z"
   },
   {
    "duration": 938,
    "start_time": "2021-07-20T01:41:35.707Z"
   },
   {
    "duration": 8975,
    "start_time": "2021-07-20T01:43:20.579Z"
   },
   {
    "duration": 30,
    "start_time": "2021-07-20T01:43:33.323Z"
   },
   {
    "duration": 34,
    "start_time": "2021-07-20T01:43:42.051Z"
   },
   {
    "duration": 60,
    "start_time": "2021-07-20T01:44:08.565Z"
   },
   {
    "duration": 9,
    "start_time": "2021-07-20T01:44:51.246Z"
   },
   {
    "duration": 561,
    "start_time": "2021-07-20T01:44:51.258Z"
   },
   {
    "duration": 5,
    "start_time": "2021-07-20T01:44:51.822Z"
   },
   {
    "duration": 208,
    "start_time": "2021-07-20T01:44:51.829Z"
   },
   {
    "duration": 4,
    "start_time": "2021-07-20T01:44:52.039Z"
   },
   {
    "duration": 36,
    "start_time": "2021-07-20T01:44:52.045Z"
   },
   {
    "duration": 103,
    "start_time": "2021-07-20T01:44:52.083Z"
   },
   {
    "duration": 10,
    "start_time": "2021-07-20T01:44:52.190Z"
   },
   {
    "duration": 18,
    "start_time": "2021-07-20T01:44:52.202Z"
   },
   {
    "duration": 49,
    "start_time": "2021-07-20T01:44:52.223Z"
   },
   {
    "duration": 21,
    "start_time": "2021-07-20T01:44:52.275Z"
   },
   {
    "duration": 21,
    "start_time": "2021-07-20T01:44:52.298Z"
   },
   {
    "duration": 56,
    "start_time": "2021-07-20T01:44:52.321Z"
   },
   {
    "duration": 394,
    "start_time": "2021-07-20T01:44:52.379Z"
   },
   {
    "duration": 57,
    "start_time": "2021-07-20T01:44:52.775Z"
   },
   {
    "duration": 1464,
    "start_time": "2021-07-20T01:45:22.205Z"
   },
   {
    "duration": 436,
    "start_time": "2021-07-20T01:45:23.672Z"
   },
   {
    "duration": 5,
    "start_time": "2021-07-20T01:45:24.110Z"
   },
   {
    "duration": 233,
    "start_time": "2021-07-20T01:45:24.118Z"
   },
   {
    "duration": 13,
    "start_time": "2021-07-20T01:45:24.354Z"
   },
   {
    "duration": 21,
    "start_time": "2021-07-20T01:45:24.370Z"
   },
   {
    "duration": 120,
    "start_time": "2021-07-20T01:45:24.394Z"
   },
   {
    "duration": 12,
    "start_time": "2021-07-20T01:45:24.518Z"
   },
   {
    "duration": 41,
    "start_time": "2021-07-20T01:45:24.533Z"
   },
   {
    "duration": 23,
    "start_time": "2021-07-20T01:45:24.577Z"
   },
   {
    "duration": 21,
    "start_time": "2021-07-20T01:45:24.602Z"
   },
   {
    "duration": 53,
    "start_time": "2021-07-20T01:45:24.626Z"
   },
   {
    "duration": 25,
    "start_time": "2021-07-20T01:45:24.681Z"
   },
   {
    "duration": 414,
    "start_time": "2021-07-20T01:45:24.708Z"
   },
   {
    "duration": 779,
    "start_time": "2021-07-20T01:45:25.124Z"
   },
   {
    "duration": 65,
    "start_time": "2021-07-20T01:45:45.721Z"
   },
   {
    "duration": 569,
    "start_time": "2021-07-20T01:46:30.266Z"
   },
   {
    "duration": 59,
    "start_time": "2021-07-20T01:46:45.736Z"
   },
   {
    "duration": 27,
    "start_time": "2021-07-20T01:47:17.379Z"
   },
   {
    "duration": 40,
    "start_time": "2021-07-20T01:47:19.145Z"
   },
   {
    "duration": 28,
    "start_time": "2021-07-20T01:48:04.201Z"
   },
   {
    "duration": 40,
    "start_time": "2021-07-20T01:48:06.033Z"
   },
   {
    "duration": 590,
    "start_time": "2021-07-20T01:50:03.289Z"
   },
   {
    "duration": 863,
    "start_time": "2021-07-20T01:51:42.745Z"
   },
   {
    "duration": 30,
    "start_time": "2021-07-20T01:51:57.272Z"
   },
   {
    "duration": 120,
    "start_time": "2021-07-20T01:51:57.987Z"
   },
   {
    "duration": 876,
    "start_time": "2021-07-20T01:51:59.961Z"
   },
   {
    "duration": 868,
    "start_time": "2021-07-20T01:53:10.879Z"
   },
   {
    "duration": 12,
    "start_time": "2021-07-20T01:53:16.804Z"
   },
   {
    "duration": 337,
    "start_time": "2021-07-20T01:53:16.819Z"
   },
   {
    "duration": 4,
    "start_time": "2021-07-20T01:53:17.159Z"
   },
   {
    "duration": 216,
    "start_time": "2021-07-20T01:53:17.167Z"
   },
   {
    "duration": 4,
    "start_time": "2021-07-20T01:53:17.386Z"
   },
   {
    "duration": 26,
    "start_time": "2021-07-20T01:53:17.393Z"
   },
   {
    "duration": 104,
    "start_time": "2021-07-20T01:53:17.422Z"
   },
   {
    "duration": 10,
    "start_time": "2021-07-20T01:53:17.528Z"
   },
   {
    "duration": 34,
    "start_time": "2021-07-20T01:53:17.542Z"
   },
   {
    "duration": 22,
    "start_time": "2021-07-20T01:53:17.578Z"
   },
   {
    "duration": 22,
    "start_time": "2021-07-20T01:53:17.602Z"
   },
   {
    "duration": 55,
    "start_time": "2021-07-20T01:53:17.626Z"
   },
   {
    "duration": 26,
    "start_time": "2021-07-20T01:53:17.683Z"
   },
   {
    "duration": 404,
    "start_time": "2021-07-20T01:53:17.711Z"
   },
   {
    "duration": 27,
    "start_time": "2021-07-20T01:53:18.118Z"
   },
   {
    "duration": 56,
    "start_time": "2021-07-20T01:53:18.147Z"
   },
   {
    "duration": 852,
    "start_time": "2021-07-20T01:53:18.205Z"
   },
   {
    "duration": 9,
    "start_time": "2021-07-20T01:53:29.229Z"
   },
   {
    "duration": 381,
    "start_time": "2021-07-20T01:53:29.240Z"
   },
   {
    "duration": 6,
    "start_time": "2021-07-20T01:53:29.625Z"
   },
   {
    "duration": 203,
    "start_time": "2021-07-20T01:53:29.633Z"
   },
   {
    "duration": 3,
    "start_time": "2021-07-20T01:53:29.839Z"
   },
   {
    "duration": 37,
    "start_time": "2021-07-20T01:53:29.845Z"
   },
   {
    "duration": 92,
    "start_time": "2021-07-20T01:53:29.884Z"
   },
   {
    "duration": 10,
    "start_time": "2021-07-20T01:53:29.978Z"
   },
   {
    "duration": 18,
    "start_time": "2021-07-20T01:53:29.992Z"
   },
   {
    "duration": 23,
    "start_time": "2021-07-20T01:53:30.013Z"
   },
   {
    "duration": 48,
    "start_time": "2021-07-20T01:53:30.039Z"
   },
   {
    "duration": 22,
    "start_time": "2021-07-20T01:53:30.090Z"
   },
   {
    "duration": 59,
    "start_time": "2021-07-20T01:53:30.115Z"
   },
   {
    "duration": 400,
    "start_time": "2021-07-20T01:53:30.176Z"
   },
   {
    "duration": 30,
    "start_time": "2021-07-20T01:53:30.579Z"
   },
   {
    "duration": 70,
    "start_time": "2021-07-20T01:53:30.612Z"
   },
   {
    "duration": 1836,
    "start_time": "2021-07-20T01:53:30.685Z"
   },
   {
    "duration": 830,
    "start_time": "2021-07-20T01:54:16.251Z"
   },
   {
    "duration": 9,
    "start_time": "2021-07-20T01:54:30.827Z"
   },
   {
    "duration": 340,
    "start_time": "2021-07-20T01:54:30.840Z"
   },
   {
    "duration": 5,
    "start_time": "2021-07-20T01:54:31.183Z"
   },
   {
    "duration": 222,
    "start_time": "2021-07-20T01:54:31.191Z"
   },
   {
    "duration": 4,
    "start_time": "2021-07-20T01:54:31.415Z"
   },
   {
    "duration": 31,
    "start_time": "2021-07-20T01:54:31.422Z"
   },
   {
    "duration": 89,
    "start_time": "2021-07-20T01:54:31.455Z"
   },
   {
    "duration": 23,
    "start_time": "2021-07-20T01:54:31.546Z"
   },
   {
    "duration": 18,
    "start_time": "2021-07-20T01:54:31.572Z"
   },
   {
    "duration": 34,
    "start_time": "2021-07-20T01:54:31.594Z"
   },
   {
    "duration": 51,
    "start_time": "2021-07-20T01:54:31.630Z"
   },
   {
    "duration": 23,
    "start_time": "2021-07-20T01:54:31.683Z"
   },
   {
    "duration": 27,
    "start_time": "2021-07-20T01:54:31.708Z"
   },
   {
    "duration": 419,
    "start_time": "2021-07-20T01:54:31.737Z"
   },
   {
    "duration": 31,
    "start_time": "2021-07-20T01:54:32.158Z"
   },
   {
    "duration": 41,
    "start_time": "2021-07-20T01:54:32.192Z"
   },
   {
    "duration": 809,
    "start_time": "2021-07-20T01:54:32.267Z"
   },
   {
    "duration": 31,
    "start_time": "2021-07-20T01:54:49.572Z"
   },
   {
    "duration": 391,
    "start_time": "2021-07-20T01:56:45.369Z"
   },
   {
    "duration": 366,
    "start_time": "2021-07-20T01:57:05.641Z"
   },
   {
    "duration": 363,
    "start_time": "2021-07-20T01:57:21.048Z"
   },
   {
    "duration": 375,
    "start_time": "2021-07-20T01:57:31.041Z"
   },
   {
    "duration": 382,
    "start_time": "2021-07-20T01:57:44.409Z"
   },
   {
    "duration": 378,
    "start_time": "2021-07-20T01:57:52.776Z"
   },
   {
    "duration": 9863,
    "start_time": "2021-07-20T01:58:22.999Z"
   },
   {
    "duration": 9049,
    "start_time": "2021-07-20T01:58:36.723Z"
   },
   {
    "duration": 780,
    "start_time": "2021-07-20T01:59:27.792Z"
   },
   {
    "duration": 27,
    "start_time": "2021-07-20T01:59:34.976Z"
   },
   {
    "duration": 788,
    "start_time": "2021-07-20T01:59:36.200Z"
   },
   {
    "duration": 480,
    "start_time": "2021-07-20T02:00:14.688Z"
   },
   {
    "duration": 425,
    "start_time": "2021-07-20T02:00:43.083Z"
   },
   {
    "duration": 8,
    "start_time": "2021-07-20T02:02:29.784Z"
   },
   {
    "duration": 574,
    "start_time": "2021-07-20T02:03:25.288Z"
   },
   {
    "duration": 831,
    "start_time": "2021-07-20T02:03:55.185Z"
   },
   {
    "duration": 30,
    "start_time": "2021-07-20T02:04:04.097Z"
   },
   {
    "duration": 8,
    "start_time": "2021-07-20T02:04:04.898Z"
   },
   {
    "duration": 749,
    "start_time": "2021-07-20T02:04:08.369Z"
   },
   {
    "duration": 38,
    "start_time": "2021-07-20T02:04:15.144Z"
   },
   {
    "duration": 453,
    "start_time": "2021-07-20T02:05:27.090Z"
   },
   {
    "duration": 448,
    "start_time": "2021-07-20T02:05:56.773Z"
   },
   {
    "duration": 480,
    "start_time": "2021-07-20T02:06:39.753Z"
   },
   {
    "duration": 485,
    "start_time": "2021-07-20T02:07:08.275Z"
   },
   {
    "duration": 921,
    "start_time": "2021-07-20T02:10:30.111Z"
   },
   {
    "duration": 9689,
    "start_time": "2021-07-20T02:10:48.458Z"
   },
   {
    "duration": 838,
    "start_time": "2021-07-20T02:11:49.667Z"
   },
   {
    "duration": 8,
    "start_time": "2021-07-20T02:11:58.247Z"
   },
   {
    "duration": 605,
    "start_time": "2021-07-20T02:11:58.258Z"
   },
   {
    "duration": 5,
    "start_time": "2021-07-20T02:11:58.868Z"
   },
   {
    "duration": 198,
    "start_time": "2021-07-20T02:11:58.876Z"
   },
   {
    "duration": 5,
    "start_time": "2021-07-20T02:11:59.076Z"
   },
   {
    "duration": 23,
    "start_time": "2021-07-20T02:11:59.095Z"
   },
   {
    "duration": 99,
    "start_time": "2021-07-20T02:11:59.121Z"
   },
   {
    "duration": 10,
    "start_time": "2021-07-20T02:11:59.223Z"
   },
   {
    "duration": 38,
    "start_time": "2021-07-20T02:11:59.238Z"
   },
   {
    "duration": 24,
    "start_time": "2021-07-20T02:11:59.280Z"
   },
   {
    "duration": 23,
    "start_time": "2021-07-20T02:11:59.307Z"
   },
   {
    "duration": 54,
    "start_time": "2021-07-20T02:11:59.334Z"
   },
   {
    "duration": 29,
    "start_time": "2021-07-20T02:11:59.391Z"
   },
   {
    "duration": 431,
    "start_time": "2021-07-20T02:11:59.423Z"
   },
   {
    "duration": 9519,
    "start_time": "2021-07-20T02:11:59.857Z"
   },
   {
    "duration": -2912,
    "start_time": "2021-07-20T02:12:12.291Z"
   },
   {
    "duration": -2916,
    "start_time": "2021-07-20T02:12:12.296Z"
   },
   {
    "duration": -2917,
    "start_time": "2021-07-20T02:12:12.299Z"
   },
   {
    "duration": -2918,
    "start_time": "2021-07-20T02:12:12.301Z"
   },
   {
    "duration": 9,
    "start_time": "2021-07-20T02:12:19.412Z"
   },
   {
    "duration": 371,
    "start_time": "2021-07-20T02:12:19.424Z"
   },
   {
    "duration": 5,
    "start_time": "2021-07-20T02:12:19.797Z"
   },
   {
    "duration": 215,
    "start_time": "2021-07-20T02:12:19.804Z"
   },
   {
    "duration": 4,
    "start_time": "2021-07-20T02:12:20.021Z"
   },
   {
    "duration": 24,
    "start_time": "2021-07-20T02:12:20.027Z"
   },
   {
    "duration": 94,
    "start_time": "2021-07-20T02:12:20.053Z"
   },
   {
    "duration": 23,
    "start_time": "2021-07-20T02:12:20.151Z"
   },
   {
    "duration": 18,
    "start_time": "2021-07-20T02:12:20.177Z"
   },
   {
    "duration": 24,
    "start_time": "2021-07-20T02:12:20.198Z"
   },
   {
    "duration": 50,
    "start_time": "2021-07-20T02:12:20.224Z"
   },
   {
    "duration": 20,
    "start_time": "2021-07-20T02:12:20.277Z"
   },
   {
    "duration": 26,
    "start_time": "2021-07-20T02:12:20.299Z"
   },
   {
    "duration": 434,
    "start_time": "2021-07-20T02:12:20.328Z"
   },
   {
    "duration": 5,
    "start_time": "2021-07-20T02:12:20.767Z"
   },
   {
    "duration": 34,
    "start_time": "2021-07-20T02:12:20.774Z"
   },
   {
    "duration": 7,
    "start_time": "2021-07-20T02:12:20.811Z"
   },
   {
    "duration": 69,
    "start_time": "2021-07-20T02:12:20.821Z"
   },
   {
    "duration": 1081,
    "start_time": "2021-07-20T02:12:20.892Z"
   },
   {
    "duration": 371,
    "start_time": "2021-07-20T02:12:53.423Z"
   },
   {
    "duration": 8,
    "start_time": "2021-07-20T02:13:38.561Z"
   },
   {
    "duration": 442,
    "start_time": "2021-07-20T02:13:38.572Z"
   },
   {
    "duration": 4,
    "start_time": "2021-07-20T02:13:39.017Z"
   },
   {
    "duration": 202,
    "start_time": "2021-07-20T02:13:39.024Z"
   },
   {
    "duration": 4,
    "start_time": "2021-07-20T02:13:39.228Z"
   },
   {
    "duration": 37,
    "start_time": "2021-07-20T02:13:39.234Z"
   },
   {
    "duration": 93,
    "start_time": "2021-07-20T02:13:39.274Z"
   },
   {
    "duration": 10,
    "start_time": "2021-07-20T02:13:39.371Z"
   },
   {
    "duration": 18,
    "start_time": "2021-07-20T02:13:39.384Z"
   },
   {
    "duration": 22,
    "start_time": "2021-07-20T02:13:39.405Z"
   },
   {
    "duration": 52,
    "start_time": "2021-07-20T02:13:39.429Z"
   },
   {
    "duration": 22,
    "start_time": "2021-07-20T02:13:39.483Z"
   },
   {
    "duration": 60,
    "start_time": "2021-07-20T02:13:39.507Z"
   },
   {
    "duration": 397,
    "start_time": "2021-07-20T02:13:39.570Z"
   },
   {
    "duration": 6,
    "start_time": "2021-07-20T02:13:39.969Z"
   },
   {
    "duration": 7,
    "start_time": "2021-07-20T02:13:39.978Z"
   },
   {
    "duration": 29,
    "start_time": "2021-07-20T02:13:39.987Z"
   },
   {
    "duration": 8,
    "start_time": "2021-07-20T02:13:40.019Z"
   },
   {
    "duration": 159,
    "start_time": "2021-07-20T02:13:40.067Z"
   },
   {
    "duration": 875,
    "start_time": "2021-07-20T02:13:40.229Z"
   },
   {
    "duration": 483,
    "start_time": "2021-07-20T02:15:28.147Z"
   },
   {
    "duration": 868,
    "start_time": "2021-07-20T02:16:34.133Z"
   },
   {
    "duration": 861,
    "start_time": "2021-07-20T02:17:03.572Z"
   },
   {
    "duration": 480,
    "start_time": "2021-07-20T02:17:25.657Z"
   },
   {
    "duration": 9,
    "start_time": "2021-07-20T02:18:05.512Z"
   },
   {
    "duration": 341,
    "start_time": "2021-07-20T02:18:05.523Z"
   },
   {
    "duration": 5,
    "start_time": "2021-07-20T02:18:05.867Z"
   },
   {
    "duration": 215,
    "start_time": "2021-07-20T02:18:05.875Z"
   },
   {
    "duration": 3,
    "start_time": "2021-07-20T02:18:06.093Z"
   },
   {
    "duration": 21,
    "start_time": "2021-07-20T02:18:06.099Z"
   },
   {
    "duration": 106,
    "start_time": "2021-07-20T02:18:06.122Z"
   },
   {
    "duration": 10,
    "start_time": "2021-07-20T02:18:06.230Z"
   },
   {
    "duration": 36,
    "start_time": "2021-07-20T02:18:06.244Z"
   },
   {
    "duration": 22,
    "start_time": "2021-07-20T02:18:06.283Z"
   },
   {
    "duration": 22,
    "start_time": "2021-07-20T02:18:06.307Z"
   },
   {
    "duration": 49,
    "start_time": "2021-07-20T02:18:06.331Z"
   },
   {
    "duration": 25,
    "start_time": "2021-07-20T02:18:06.383Z"
   },
   {
    "duration": 421,
    "start_time": "2021-07-20T02:18:06.410Z"
   },
   {
    "duration": 6,
    "start_time": "2021-07-20T02:18:06.833Z"
   },
   {
    "duration": 29,
    "start_time": "2021-07-20T02:18:06.841Z"
   },
   {
    "duration": 31,
    "start_time": "2021-07-20T02:18:06.872Z"
   },
   {
    "duration": 8,
    "start_time": "2021-07-20T02:18:06.906Z"
   },
   {
    "duration": 67,
    "start_time": "2021-07-20T02:18:06.916Z"
   },
   {
    "duration": 505,
    "start_time": "2021-07-20T02:18:06.986Z"
   },
   {
    "duration": 143,
    "start_time": "2021-07-20T02:18:48.940Z"
   },
   {
    "duration": 135,
    "start_time": "2021-07-20T02:18:55.784Z"
   },
   {
    "duration": 38,
    "start_time": "2021-07-20T02:19:13.551Z"
   },
   {
    "duration": 816,
    "start_time": "2021-07-20T02:21:40.665Z"
   },
   {
    "duration": 479,
    "start_time": "2021-07-20T02:21:50.784Z"
   },
   {
    "duration": 858,
    "start_time": "2021-07-20T02:28:00.130Z"
   },
   {
    "duration": 826,
    "start_time": "2021-07-20T02:28:13.352Z"
   },
   {
    "duration": 830,
    "start_time": "2021-07-20T02:29:58.456Z"
   },
   {
    "duration": 634,
    "start_time": "2021-07-20T02:30:13.479Z"
   },
   {
    "duration": 625,
    "start_time": "2021-07-20T02:30:25.809Z"
   },
   {
    "duration": 528,
    "start_time": "2021-07-20T02:31:14.600Z"
   },
   {
    "duration": 922,
    "start_time": "2021-07-20T02:31:32.648Z"
   },
   {
    "duration": 130,
    "start_time": "2021-07-20T02:32:00.345Z"
   },
   {
    "duration": 141,
    "start_time": "2021-07-20T02:32:07.807Z"
   },
   {
    "duration": 160,
    "start_time": "2021-07-20T02:32:15.304Z"
   },
   {
    "duration": 881,
    "start_time": "2021-07-20T02:32:27.981Z"
   },
   {
    "duration": 864,
    "start_time": "2021-07-20T02:32:46.721Z"
   },
   {
    "duration": 552,
    "start_time": "2021-07-20T02:33:00.210Z"
   },
   {
    "duration": 590,
    "start_time": "2021-07-20T02:33:15.880Z"
   },
   {
    "duration": 575,
    "start_time": "2021-07-20T02:33:26.526Z"
   },
   {
    "duration": 616,
    "start_time": "2021-07-20T02:33:47.576Z"
   },
   {
    "duration": 604,
    "start_time": "2021-07-20T02:34:00.129Z"
   },
   {
    "duration": 526,
    "start_time": "2021-07-20T02:34:38.128Z"
   },
   {
    "duration": 1038,
    "start_time": "2021-07-20T02:35:28.612Z"
   },
   {
    "duration": 535,
    "start_time": "2021-07-20T02:35:37.057Z"
   },
   {
    "duration": 757,
    "start_time": "2021-07-20T02:38:35.983Z"
   },
   {
    "duration": 10,
    "start_time": "2021-07-20T02:38:59.859Z"
   },
   {
    "duration": 461,
    "start_time": "2021-07-20T02:38:59.873Z"
   },
   {
    "duration": 5,
    "start_time": "2021-07-20T02:39:00.337Z"
   },
   {
    "duration": 214,
    "start_time": "2021-07-20T02:39:00.345Z"
   },
   {
    "duration": 5,
    "start_time": "2021-07-20T02:39:00.566Z"
   },
   {
    "duration": 26,
    "start_time": "2021-07-20T02:39:00.575Z"
   },
   {
    "duration": 104,
    "start_time": "2021-07-20T02:39:00.604Z"
   },
   {
    "duration": 10,
    "start_time": "2021-07-20T02:39:00.712Z"
   },
   {
    "duration": 25,
    "start_time": "2021-07-20T02:39:00.725Z"
   },
   {
    "duration": 34,
    "start_time": "2021-07-20T02:39:00.753Z"
   },
   {
    "duration": 23,
    "start_time": "2021-07-20T02:39:00.790Z"
   },
   {
    "duration": 28,
    "start_time": "2021-07-20T02:39:00.815Z"
   },
   {
    "duration": 26,
    "start_time": "2021-07-20T02:39:00.868Z"
   },
   {
    "duration": 407,
    "start_time": "2021-07-20T02:39:00.897Z"
   },
   {
    "duration": 6,
    "start_time": "2021-07-20T02:39:01.306Z"
   },
   {
    "duration": 10,
    "start_time": "2021-07-20T02:39:01.314Z"
   },
   {
    "duration": 60,
    "start_time": "2021-07-20T02:39:01.327Z"
   },
   {
    "duration": 9,
    "start_time": "2021-07-20T02:39:01.389Z"
   },
   {
    "duration": 43,
    "start_time": "2021-07-20T02:39:01.400Z"
   },
   {
    "duration": 590,
    "start_time": "2021-07-20T02:39:01.445Z"
   },
   {
    "duration": 9127,
    "start_time": "2021-07-20T02:40:43.744Z"
   },
   {
    "duration": 6,
    "start_time": "2021-07-20T02:40:56.962Z"
   },
   {
    "duration": 6,
    "start_time": "2021-07-20T02:41:34.719Z"
   },
   {
    "duration": 578,
    "start_time": "2021-07-20T02:44:23.026Z"
   },
   {
    "duration": 539,
    "start_time": "2021-07-20T02:44:38.573Z"
   },
   {
    "duration": 17,
    "start_time": "2021-07-20T02:54:16.409Z"
   },
   {
    "duration": 22,
    "start_time": "2021-07-20T02:54:24.128Z"
   },
   {
    "duration": 371,
    "start_time": "2021-07-20T02:57:40.529Z"
   },
   {
    "duration": 408,
    "start_time": "2021-07-20T02:57:58.065Z"
   },
   {
    "duration": 141,
    "start_time": "2021-07-20T02:58:55.905Z"
   },
   {
    "duration": 6,
    "start_time": "2021-07-20T02:59:10.270Z"
   },
   {
    "duration": 3,
    "start_time": "2021-07-20T03:00:36.380Z"
   },
   {
    "duration": 4,
    "start_time": "2021-07-20T03:01:19.819Z"
   },
   {
    "duration": 6,
    "start_time": "2021-07-20T03:01:26.207Z"
   },
   {
    "duration": 6,
    "start_time": "2021-07-20T03:01:40.607Z"
   },
   {
    "duration": 37,
    "start_time": "2021-07-20T03:02:07.096Z"
   },
   {
    "duration": 36,
    "start_time": "2021-07-20T03:04:11.912Z"
   },
   {
    "duration": 37,
    "start_time": "2021-07-20T03:04:21.233Z"
   },
   {
    "duration": 34,
    "start_time": "2021-07-20T03:04:57.839Z"
   },
   {
    "duration": 36,
    "start_time": "2021-07-20T03:05:05.514Z"
   },
   {
    "duration": 11,
    "start_time": "2021-07-20T03:05:42.793Z"
   },
   {
    "duration": 11,
    "start_time": "2021-07-20T03:06:25.716Z"
   },
   {
    "duration": 396,
    "start_time": "2021-07-20T03:09:45.632Z"
   },
   {
    "duration": 5,
    "start_time": "2021-07-20T03:10:02.815Z"
   },
   {
    "duration": 8,
    "start_time": "2021-07-20T03:10:08.144Z"
   },
   {
    "duration": 5,
    "start_time": "2021-07-20T03:12:13.194Z"
   },
   {
    "duration": 9,
    "start_time": "2021-07-20T03:12:14.475Z"
   },
   {
    "duration": 40,
    "start_time": "2021-07-20T03:15:21.064Z"
   },
   {
    "duration": 11,
    "start_time": "2021-07-20T03:15:22.544Z"
   },
   {
    "duration": 41,
    "start_time": "2021-07-20T03:15:43.024Z"
   },
   {
    "duration": 9,
    "start_time": "2021-07-20T03:15:44.489Z"
   },
   {
    "duration": 12,
    "start_time": "2021-07-20T03:16:10.858Z"
   },
   {
    "duration": 41,
    "start_time": "2021-07-20T03:16:26.984Z"
   },
   {
    "duration": 9,
    "start_time": "2021-07-20T03:16:29.132Z"
   },
   {
    "duration": 9,
    "start_time": "2021-07-20T03:16:33.763Z"
   },
   {
    "duration": 1898,
    "start_time": "2021-07-20T03:16:33.775Z"
   },
   {
    "duration": 4,
    "start_time": "2021-07-20T03:16:35.677Z"
   },
   {
    "duration": 206,
    "start_time": "2021-07-20T03:16:35.684Z"
   },
   {
    "duration": 3,
    "start_time": "2021-07-20T03:16:35.892Z"
   },
   {
    "duration": 21,
    "start_time": "2021-07-20T03:16:35.898Z"
   },
   {
    "duration": 104,
    "start_time": "2021-07-20T03:16:35.921Z"
   },
   {
    "duration": 11,
    "start_time": "2021-07-20T03:16:36.029Z"
   },
   {
    "duration": 32,
    "start_time": "2021-07-20T03:16:36.043Z"
   },
   {
    "duration": 21,
    "start_time": "2021-07-20T03:16:36.078Z"
   },
   {
    "duration": 22,
    "start_time": "2021-07-20T03:16:36.102Z"
   },
   {
    "duration": 54,
    "start_time": "2021-07-20T03:16:36.126Z"
   },
   {
    "duration": 26,
    "start_time": "2021-07-20T03:16:36.182Z"
   },
   {
    "duration": 414,
    "start_time": "2021-07-20T03:16:36.210Z"
   },
   {
    "duration": 6,
    "start_time": "2021-07-20T03:16:36.627Z"
   },
   {
    "duration": 54,
    "start_time": "2021-07-20T03:16:36.635Z"
   },
   {
    "duration": 42,
    "start_time": "2021-07-20T03:16:36.692Z"
   },
   {
    "duration": 592,
    "start_time": "2021-07-20T03:16:36.736Z"
   },
   {
    "duration": 37,
    "start_time": "2021-07-20T03:16:37.330Z"
   },
   {
    "duration": 7,
    "start_time": "2021-07-20T03:16:37.371Z"
   },
   {
    "duration": 38,
    "start_time": "2021-07-20T03:16:37.381Z"
   },
   {
    "duration": 10,
    "start_time": "2021-07-20T03:16:37.422Z"
   },
   {
    "duration": 69,
    "start_time": "2021-07-20T03:16:37.436Z"
   },
   {
    "duration": 8,
    "start_time": "2021-07-20T03:16:37.508Z"
   },
   {
    "duration": 54,
    "start_time": "2021-07-20T03:17:17.720Z"
   },
   {
    "duration": 357,
    "start_time": "2021-07-20T03:21:57.541Z"
   },
   {
    "duration": 36,
    "start_time": "2021-07-20T03:22:39.440Z"
   },
   {
    "duration": 36,
    "start_time": "2021-07-20T03:25:22.942Z"
   },
   {
    "duration": 55,
    "start_time": "2021-07-20T03:26:27.424Z"
   },
   {
    "duration": 94,
    "start_time": "2021-07-20T03:28:53.625Z"
   },
   {
    "duration": 11,
    "start_time": "2021-07-20T03:29:47.688Z"
   },
   {
    "duration": 40,
    "start_time": "2021-07-20T03:33:46.528Z"
   },
   {
    "duration": 49,
    "start_time": "2021-07-20T03:34:24.314Z"
   },
   {
    "duration": 39,
    "start_time": "2021-07-20T03:35:01.881Z"
   },
   {
    "duration": 8,
    "start_time": "2021-07-20T03:39:19.492Z"
   },
   {
    "duration": 429,
    "start_time": "2021-07-20T03:39:19.503Z"
   },
   {
    "duration": 5,
    "start_time": "2021-07-20T03:39:19.936Z"
   },
   {
    "duration": 209,
    "start_time": "2021-07-20T03:39:19.944Z"
   },
   {
    "duration": 13,
    "start_time": "2021-07-20T03:39:20.155Z"
   },
   {
    "duration": 21,
    "start_time": "2021-07-20T03:39:20.170Z"
   },
   {
    "duration": 94,
    "start_time": "2021-07-20T03:39:20.194Z"
   },
   {
    "duration": 10,
    "start_time": "2021-07-20T03:39:20.291Z"
   },
   {
    "duration": 19,
    "start_time": "2021-07-20T03:39:20.305Z"
   },
   {
    "duration": 51,
    "start_time": "2021-07-20T03:39:20.327Z"
   },
   {
    "duration": 21,
    "start_time": "2021-07-20T03:39:20.381Z"
   },
   {
    "duration": 22,
    "start_time": "2021-07-20T03:39:20.405Z"
   },
   {
    "duration": 50,
    "start_time": "2021-07-20T03:39:20.430Z"
   },
   {
    "duration": 406,
    "start_time": "2021-07-20T03:39:20.483Z"
   },
   {
    "duration": 6,
    "start_time": "2021-07-20T03:39:20.891Z"
   },
   {
    "duration": 31,
    "start_time": "2021-07-20T03:39:20.900Z"
   },
   {
    "duration": 67,
    "start_time": "2021-07-20T03:39:20.933Z"
   },
   {
    "duration": 570,
    "start_time": "2021-07-20T03:39:21.003Z"
   },
   {
    "duration": 17,
    "start_time": "2021-07-20T03:39:21.575Z"
   },
   {
    "duration": 75,
    "start_time": "2021-07-20T03:39:21.594Z"
   },
   {
    "duration": 105,
    "start_time": "2021-07-20T03:39:21.671Z"
   },
   {
    "duration": 52,
    "start_time": "2021-07-20T03:39:21.778Z"
   },
   {
    "duration": 61,
    "start_time": "2021-07-20T03:39:21.832Z"
   },
   {
    "duration": 37,
    "start_time": "2021-07-20T03:46:05.019Z"
   },
   {
    "duration": 37,
    "start_time": "2021-07-20T03:47:08.925Z"
   },
   {
    "duration": 38,
    "start_time": "2021-07-20T03:48:02.447Z"
   },
   {
    "duration": 44,
    "start_time": "2021-07-20T03:48:12.109Z"
   },
   {
    "duration": 63,
    "start_time": "2021-07-20T03:55:59.776Z"
   },
   {
    "duration": 68,
    "start_time": "2021-07-20T03:56:06.293Z"
   },
   {
    "duration": 68,
    "start_time": "2021-07-20T04:18:48.083Z"
   },
   {
    "duration": 73,
    "start_time": "2021-07-20T04:18:59.068Z"
   },
   {
    "duration": 83,
    "start_time": "2021-07-20T04:28:41.489Z"
   },
   {
    "duration": 79,
    "start_time": "2021-07-20T04:29:20.568Z"
   },
   {
    "duration": 78,
    "start_time": "2021-07-20T04:32:13.125Z"
   },
   {
    "duration": 78,
    "start_time": "2021-07-20T04:33:27.821Z"
   },
   {
    "duration": 1749,
    "start_time": "2021-07-20T04:49:51.191Z"
   },
   {
    "duration": 531,
    "start_time": "2021-07-20T04:54:20.312Z"
   },
   {
    "duration": 347,
    "start_time": "2021-07-20T04:54:32.185Z"
   },
   {
    "duration": 539,
    "start_time": "2021-07-20T04:55:21.808Z"
   },
   {
    "duration": 74,
    "start_time": "2021-07-20T05:07:47.167Z"
   },
   {
    "duration": 10165,
    "start_time": "2021-07-20T05:10:25.538Z"
   },
   {
    "duration": 10095,
    "start_time": "2021-07-20T05:10:43.697Z"
   },
   {
    "duration": 120,
    "start_time": "2021-07-20T05:11:12.832Z"
   },
   {
    "duration": 117,
    "start_time": "2021-07-20T05:11:36.211Z"
   },
   {
    "duration": 8,
    "start_time": "2021-07-20T05:20:04.462Z"
   },
   {
    "duration": 12,
    "start_time": "2021-07-20T05:20:42.584Z"
   },
   {
    "duration": 23,
    "start_time": "2021-07-20T05:33:12.693Z"
   },
   {
    "duration": 343,
    "start_time": "2021-07-20T05:34:12.328Z"
   },
   {
    "duration": 527,
    "start_time": "2021-07-20T05:34:25.951Z"
   },
   {
    "duration": 364,
    "start_time": "2021-07-20T05:35:58.475Z"
   },
   {
    "duration": 9,
    "start_time": "2021-07-20T06:31:41.838Z"
   },
   {
    "duration": 585,
    "start_time": "2021-07-20T06:31:41.850Z"
   },
   {
    "duration": 4,
    "start_time": "2021-07-20T06:31:42.439Z"
   },
   {
    "duration": 202,
    "start_time": "2021-07-20T06:31:42.446Z"
   },
   {
    "duration": 4,
    "start_time": "2021-07-20T06:31:42.650Z"
   },
   {
    "duration": 26,
    "start_time": "2021-07-20T06:31:42.656Z"
   },
   {
    "duration": 104,
    "start_time": "2021-07-20T06:31:42.684Z"
   },
   {
    "duration": 10,
    "start_time": "2021-07-20T06:31:42.792Z"
   },
   {
    "duration": 18,
    "start_time": "2021-07-20T06:31:42.805Z"
   },
   {
    "duration": 54,
    "start_time": "2021-07-20T06:31:42.825Z"
   },
   {
    "duration": 23,
    "start_time": "2021-07-20T06:31:42.881Z"
   },
   {
    "duration": 21,
    "start_time": "2021-07-20T06:31:42.907Z"
   },
   {
    "duration": 52,
    "start_time": "2021-07-20T06:31:42.931Z"
   },
   {
    "duration": 410,
    "start_time": "2021-07-20T06:31:42.986Z"
   },
   {
    "duration": 6,
    "start_time": "2021-07-20T06:31:43.399Z"
   },
   {
    "duration": 38,
    "start_time": "2021-07-20T06:31:43.408Z"
   },
   {
    "duration": 64,
    "start_time": "2021-07-20T06:31:43.449Z"
   },
   {
    "duration": 587,
    "start_time": "2021-07-20T06:31:43.515Z"
   },
   {
    "duration": 20,
    "start_time": "2021-07-20T06:31:44.105Z"
   },
   {
    "duration": 75,
    "start_time": "2021-07-20T06:31:44.128Z"
   },
   {
    "duration": 112,
    "start_time": "2021-07-20T06:31:44.205Z"
   },
   {
    "duration": 58,
    "start_time": "2021-07-20T06:31:44.319Z"
   },
   {
    "duration": 36,
    "start_time": "2021-07-20T06:31:44.381Z"
   },
   {
    "duration": 61,
    "start_time": "2021-07-20T06:31:44.420Z"
   },
   {
    "duration": 92,
    "start_time": "2021-07-20T06:31:44.484Z"
   },
   {
    "duration": 6,
    "start_time": "2021-07-20T06:31:44.578Z"
   },
   {
    "duration": 1051,
    "start_time": "2021-07-20T06:31:44.586Z"
   },
   {
    "duration": -78,
    "start_time": "2021-07-20T06:31:45.718Z"
   },
   {
    "duration": 78,
    "start_time": "2021-07-20T06:32:02.974Z"
   },
   {
    "duration": 13,
    "start_time": "2021-07-20T06:32:03.055Z"
   },
   {
    "duration": 346,
    "start_time": "2021-07-20T06:32:03.071Z"
   },
   {
    "duration": 343,
    "start_time": "2021-07-20T06:32:26.756Z"
   },
   {
    "duration": 572,
    "start_time": "2021-07-20T06:33:15.679Z"
   },
   {
    "duration": 497,
    "start_time": "2021-07-20T06:33:45.156Z"
   },
   {
    "duration": 337,
    "start_time": "2021-07-20T06:34:07.541Z"
   },
   {
    "duration": 571,
    "start_time": "2021-07-20T06:34:51.508Z"
   },
   {
    "duration": 341,
    "start_time": "2021-07-20T06:35:37.788Z"
   },
   {
    "duration": 348,
    "start_time": "2021-07-20T06:36:16.253Z"
   },
   {
    "duration": 581,
    "start_time": "2021-07-20T06:42:54.709Z"
   },
   {
    "duration": 345,
    "start_time": "2021-07-20T06:43:47.630Z"
   },
   {
    "duration": 702,
    "start_time": "2021-07-20T06:44:10.177Z"
   },
   {
    "duration": 348,
    "start_time": "2021-07-20T06:45:40.704Z"
   },
   {
    "duration": 953,
    "start_time": "2021-07-20T06:54:03.429Z"
   },
   {
    "duration": 343,
    "start_time": "2021-07-20T06:55:34.231Z"
   },
   {
    "duration": 347,
    "start_time": "2021-07-20T06:58:05.737Z"
   },
   {
    "duration": 968,
    "start_time": "2021-07-20T07:03:28.319Z"
   },
   {
    "duration": 338,
    "start_time": "2021-07-20T07:03:41.704Z"
   },
   {
    "duration": 573,
    "start_time": "2021-07-20T07:03:52.848Z"
   },
   {
    "duration": 599,
    "start_time": "2021-07-20T07:07:02.292Z"
   },
   {
    "duration": 763,
    "start_time": "2021-07-20T07:07:19.571Z"
   },
   {
    "duration": 568,
    "start_time": "2021-07-20T07:09:01.177Z"
   },
   {
    "duration": 1003,
    "start_time": "2021-07-20T07:09:25.235Z"
   },
   {
    "duration": 593,
    "start_time": "2021-07-20T07:09:52.508Z"
   },
   {
    "duration": 438,
    "start_time": "2021-07-20T07:10:10.073Z"
   },
   {
    "duration": 585,
    "start_time": "2021-07-20T07:20:50.067Z"
   },
   {
    "duration": 343,
    "start_time": "2021-07-20T07:21:05.235Z"
   },
   {
    "duration": 344,
    "start_time": "2021-07-20T07:21:50.163Z"
   },
   {
    "duration": 1024,
    "start_time": "2021-07-20T07:22:02.348Z"
   },
   {
    "duration": 348,
    "start_time": "2021-07-20T07:22:17.748Z"
   },
   {
    "duration": 1085,
    "start_time": "2021-07-20T07:22:32.804Z"
   },
   {
    "duration": 571,
    "start_time": "2021-07-20T07:22:57.787Z"
   },
   {
    "duration": 742,
    "start_time": "2021-07-20T07:23:12.228Z"
   },
   {
    "duration": 335,
    "start_time": "2021-07-20T07:23:53.897Z"
   },
   {
    "duration": 565,
    "start_time": "2021-07-20T07:24:09.011Z"
   },
   {
    "duration": 343,
    "start_time": "2021-07-20T07:24:33.532Z"
   },
   {
    "duration": 351,
    "start_time": "2021-07-20T07:25:55.311Z"
   },
   {
    "duration": 1024,
    "start_time": "2021-07-20T07:27:14.474Z"
   },
   {
    "duration": 338,
    "start_time": "2021-07-20T07:27:43.387Z"
   },
   {
    "duration": 177,
    "start_time": "2021-07-20T07:31:35.009Z"
   },
   {
    "duration": 435,
    "start_time": "2021-07-20T07:31:46.483Z"
   },
   {
    "duration": 746,
    "start_time": "2021-07-20T07:32:03.095Z"
   },
   {
    "duration": 357,
    "start_time": "2021-07-20T07:38:24.598Z"
   },
   {
    "duration": 533,
    "start_time": "2021-07-20T07:45:00.571Z"
   },
   {
    "duration": 578,
    "start_time": "2021-07-20T07:45:47.705Z"
   },
   {
    "duration": 571,
    "start_time": "2021-07-20T07:45:52.587Z"
   },
   {
    "duration": 656,
    "start_time": "2021-07-20T07:47:05.031Z"
   },
   {
    "duration": 437,
    "start_time": "2021-07-20T07:47:19.371Z"
   },
   {
    "duration": 568,
    "start_time": "2021-07-20T07:48:02.355Z"
   },
   {
    "duration": 569,
    "start_time": "2021-07-20T07:49:59.556Z"
   },
   {
    "duration": 142,
    "start_time": "2021-07-20T07:50:52.150Z"
   },
   {
    "duration": 597,
    "start_time": "2021-07-20T07:51:00.723Z"
   },
   {
    "duration": 656,
    "start_time": "2021-07-20T07:51:49.060Z"
   },
   {
    "duration": 340,
    "start_time": "2021-07-20T07:52:12.185Z"
   },
   {
    "duration": 577,
    "start_time": "2021-07-20T07:52:48.533Z"
   },
   {
    "duration": 357,
    "start_time": "2021-07-20T07:53:13.667Z"
   },
   {
    "duration": 356,
    "start_time": "2021-07-20T07:53:34.462Z"
   },
   {
    "duration": 624,
    "start_time": "2021-07-20T07:53:46.803Z"
   },
   {
    "duration": 340,
    "start_time": "2021-07-20T07:54:12.308Z"
   },
   {
    "duration": 335,
    "start_time": "2021-07-20T07:54:53.825Z"
   },
   {
    "duration": 576,
    "start_time": "2021-07-20T07:55:13.291Z"
   },
   {
    "duration": 359,
    "start_time": "2021-07-20T07:56:07.749Z"
   },
   {
    "duration": 330,
    "start_time": "2021-07-20T07:56:24.582Z"
   },
   {
    "duration": 585,
    "start_time": "2021-07-20T07:56:40.049Z"
   },
   {
    "duration": 346,
    "start_time": "2021-07-20T07:57:01.083Z"
   },
   {
    "duration": 346,
    "start_time": "2021-07-20T07:57:22.054Z"
   },
   {
    "duration": 561,
    "start_time": "2021-07-20T08:01:21.708Z"
   },
   {
    "duration": 581,
    "start_time": "2021-07-20T08:01:33.445Z"
   },
   {
    "duration": 523,
    "start_time": "2021-07-20T08:03:01.830Z"
   },
   {
    "duration": 562,
    "start_time": "2021-07-20T08:03:34.330Z"
   },
   {
    "duration": 569,
    "start_time": "2021-07-20T08:04:13.979Z"
   },
   {
    "duration": 4,
    "start_time": "2021-07-20T08:05:30.850Z"
   },
   {
    "duration": 420,
    "start_time": "2021-07-20T08:05:50.187Z"
   },
   {
    "duration": 409,
    "start_time": "2021-07-20T08:06:16.491Z"
   },
   {
    "duration": 809,
    "start_time": "2021-07-20T08:07:21.043Z"
   },
   {
    "duration": 340,
    "start_time": "2021-07-20T08:07:38.364Z"
   },
   {
    "duration": 339,
    "start_time": "2021-07-20T08:08:00.472Z"
   },
   {
    "duration": 581,
    "start_time": "2021-07-20T08:08:21.628Z"
   },
   {
    "duration": 337,
    "start_time": "2021-07-20T08:10:05.576Z"
   },
   {
    "duration": 2027,
    "start_time": "2021-07-21T11:30:04.064Z"
   },
   {
    "duration": 821,
    "start_time": "2021-07-21T11:30:06.094Z"
   },
   {
    "duration": 5,
    "start_time": "2021-07-21T11:30:06.918Z"
   },
   {
    "duration": 214,
    "start_time": "2021-07-21T11:30:06.926Z"
   },
   {
    "duration": 4,
    "start_time": "2021-07-21T11:30:07.143Z"
   },
   {
    "duration": 21,
    "start_time": "2021-07-21T11:30:07.149Z"
   },
   {
    "duration": 90,
    "start_time": "2021-07-21T11:30:07.172Z"
   },
   {
    "duration": 10,
    "start_time": "2021-07-21T11:30:07.265Z"
   },
   {
    "duration": 35,
    "start_time": "2021-07-21T11:30:07.279Z"
   },
   {
    "duration": 20,
    "start_time": "2021-07-21T11:30:07.317Z"
   },
   {
    "duration": 23,
    "start_time": "2021-07-21T11:30:07.340Z"
   },
   {
    "duration": 49,
    "start_time": "2021-07-21T11:30:07.365Z"
   },
   {
    "duration": 24,
    "start_time": "2021-07-21T11:30:07.417Z"
   },
   {
    "duration": 405,
    "start_time": "2021-07-21T11:30:07.444Z"
   },
   {
    "duration": 7,
    "start_time": "2021-07-21T11:30:07.851Z"
   },
   {
    "duration": 53,
    "start_time": "2021-07-21T11:30:07.860Z"
   },
   {
    "duration": 698,
    "start_time": "2021-07-21T11:30:07.916Z"
   },
   {
    "duration": 551,
    "start_time": "2021-07-21T11:30:08.617Z"
   },
   {
    "duration": 32,
    "start_time": "2021-07-21T11:30:09.171Z"
   },
   {
    "duration": 57,
    "start_time": "2021-07-21T11:30:09.205Z"
   },
   {
    "duration": 105,
    "start_time": "2021-07-21T11:30:09.264Z"
   },
   {
    "duration": 64,
    "start_time": "2021-07-21T11:30:09.372Z"
   },
   {
    "duration": 36,
    "start_time": "2021-07-21T11:30:09.438Z"
   },
   {
    "duration": 63,
    "start_time": "2021-07-21T11:30:09.476Z"
   },
   {
    "duration": 86,
    "start_time": "2021-07-21T11:30:09.542Z"
   },
   {
    "duration": 6,
    "start_time": "2021-07-21T11:30:09.631Z"
   },
   {
    "duration": 1001,
    "start_time": "2021-07-21T11:30:09.642Z"
   },
   {
    "duration": 36,
    "start_time": "2021-07-21T11:34:52.627Z"
   },
   {
    "duration": 40,
    "start_time": "2021-07-21T11:35:07.206Z"
   },
   {
    "duration": 39,
    "start_time": "2021-07-21T11:35:19.149Z"
   },
   {
    "duration": 46,
    "start_time": "2021-07-21T11:35:34.673Z"
   },
   {
    "duration": 2022,
    "start_time": "2021-07-23T16:49:44.240Z"
   },
   {
    "duration": 565,
    "start_time": "2021-07-23T16:49:46.264Z"
   },
   {
    "duration": 5,
    "start_time": "2021-07-23T16:49:46.832Z"
   },
   {
    "duration": 226,
    "start_time": "2021-07-23T16:49:46.841Z"
   },
   {
    "duration": 4,
    "start_time": "2021-07-23T16:49:47.069Z"
   },
   {
    "duration": 21,
    "start_time": "2021-07-23T16:49:47.075Z"
   },
   {
    "duration": 110,
    "start_time": "2021-07-23T16:49:47.097Z"
   },
   {
    "duration": 10,
    "start_time": "2021-07-23T16:49:47.211Z"
   },
   {
    "duration": 19,
    "start_time": "2021-07-23T16:49:47.225Z"
   },
   {
    "duration": 42,
    "start_time": "2021-07-23T16:49:47.246Z"
   },
   {
    "duration": 23,
    "start_time": "2021-07-23T16:49:47.291Z"
   },
   {
    "duration": 50,
    "start_time": "2021-07-23T16:49:47.317Z"
   },
   {
    "duration": 26,
    "start_time": "2021-07-23T16:49:47.370Z"
   },
   {
    "duration": 426,
    "start_time": "2021-07-23T16:49:47.399Z"
   },
   {
    "duration": 7,
    "start_time": "2021-07-23T16:49:47.828Z"
   },
   {
    "duration": 50,
    "start_time": "2021-07-23T16:49:47.837Z"
   },
   {
    "duration": 822,
    "start_time": "2021-07-23T16:49:47.889Z"
   },
   {
    "duration": 575,
    "start_time": "2021-07-23T16:49:48.714Z"
   },
   {
    "duration": 22,
    "start_time": "2021-07-23T16:49:49.292Z"
   },
   {
    "duration": 78,
    "start_time": "2021-07-23T16:49:49.317Z"
   },
   {
    "duration": 105,
    "start_time": "2021-07-23T16:49:49.398Z"
   },
   {
    "duration": 63,
    "start_time": "2021-07-23T16:49:49.505Z"
   },
   {
    "duration": 36,
    "start_time": "2021-07-23T16:49:49.573Z"
   },
   {
    "duration": 65,
    "start_time": "2021-07-23T16:49:49.611Z"
   },
   {
    "duration": 90,
    "start_time": "2021-07-23T16:49:49.678Z"
   },
   {
    "duration": 6,
    "start_time": "2021-07-23T16:49:49.771Z"
   },
   {
    "duration": 1189,
    "start_time": "2021-07-23T16:49:49.779Z"
   },
   {
    "duration": 101,
    "start_time": "2021-07-23T16:49:50.971Z"
   },
   {
    "duration": 653,
    "start_time": "2021-07-23T17:01:38.829Z"
   },
   {
    "duration": 51,
    "start_time": "2021-07-23T17:02:08.736Z"
   },
   {
    "duration": 21,
    "start_time": "2021-07-23T17:02:22.274Z"
   },
   {
    "duration": 68,
    "start_time": "2021-07-23T17:04:04.313Z"
   },
   {
    "duration": 9,
    "start_time": "2021-07-23T17:04:21.958Z"
   },
   {
    "duration": 9,
    "start_time": "2021-07-23T17:06:01.732Z"
   },
   {
    "duration": 9,
    "start_time": "2021-07-23T17:06:13.788Z"
   },
   {
    "duration": 7,
    "start_time": "2021-07-23T18:31:09.394Z"
   },
   {
    "duration": 7,
    "start_time": "2021-07-23T18:31:39.257Z"
   },
   {
    "duration": 8,
    "start_time": "2021-07-23T18:32:12.333Z"
   },
   {
    "duration": 10,
    "start_time": "2021-07-23T18:32:29.972Z"
   },
   {
    "duration": 7,
    "start_time": "2021-07-23T18:32:42.351Z"
   },
   {
    "duration": 11,
    "start_time": "2021-07-23T18:33:31.698Z"
   },
   {
    "duration": 13,
    "start_time": "2021-07-23T18:33:41.300Z"
   },
   {
    "duration": 14,
    "start_time": "2021-07-23T18:34:35.631Z"
   },
   {
    "duration": 7,
    "start_time": "2021-07-23T18:40:10.915Z"
   },
   {
    "duration": 14,
    "start_time": "2021-07-23T18:40:19.989Z"
   },
   {
    "duration": 14,
    "start_time": "2021-07-23T18:41:44.676Z"
   },
   {
    "duration": 66,
    "start_time": "2021-07-23T18:42:19.869Z"
   },
   {
    "duration": 9044,
    "start_time": "2021-07-23T18:42:25.668Z"
   },
   {
    "duration": 8,
    "start_time": "2021-07-23T18:42:42.707Z"
   },
   {
    "duration": 13,
    "start_time": "2021-07-23T18:43:00.290Z"
   },
   {
    "duration": 8000,
    "start_time": "2021-07-23T18:49:28.426Z"
   },
   {
    "duration": 68,
    "start_time": "2021-07-23T18:50:47.996Z"
   },
   {
    "duration": 7,
    "start_time": "2021-07-23T18:50:56.932Z"
   },
   {
    "duration": 13,
    "start_time": "2021-07-23T18:50:58.970Z"
   },
   {
    "duration": 15,
    "start_time": "2021-07-23T18:51:59.657Z"
   },
   {
    "duration": 340,
    "start_time": "2021-07-23T18:54:57.361Z"
   },
   {
    "duration": 212,
    "start_time": "2021-07-23T18:56:36.359Z"
   },
   {
    "duration": 16,
    "start_time": "2021-07-23T18:57:27.139Z"
   },
   {
    "duration": 16,
    "start_time": "2021-07-23T18:57:38.283Z"
   },
   {
    "duration": 27,
    "start_time": "2021-07-23T18:57:53.827Z"
   },
   {
    "duration": 7529,
    "start_time": "2021-07-23T18:58:25.470Z"
   },
   {
    "duration": 26,
    "start_time": "2021-07-23T18:58:39.316Z"
   },
   {
    "duration": 197,
    "start_time": "2021-07-23T19:00:20.709Z"
   },
   {
    "duration": 197,
    "start_time": "2021-07-23T19:00:41.881Z"
   },
   {
    "duration": 55,
    "start_time": "2021-07-23T19:06:23.843Z"
   },
   {
    "duration": 200,
    "start_time": "2021-07-23T20:05:23.400Z"
   },
   {
    "duration": 369,
    "start_time": "2021-07-23T20:05:54.082Z"
   },
   {
    "duration": 64,
    "start_time": "2021-07-23T20:13:59.927Z"
   },
   {
    "duration": 11,
    "start_time": "2021-07-23T20:14:00.728Z"
   },
   {
    "duration": 71,
    "start_time": "2021-07-23T20:20:50.282Z"
   },
   {
    "duration": 10,
    "start_time": "2021-07-23T20:20:52.133Z"
   },
   {
    "duration": 9,
    "start_time": "2021-07-23T20:20:57.988Z"
   },
   {
    "duration": 10,
    "start_time": "2021-07-23T20:21:00.866Z"
   },
   {
    "duration": 69,
    "start_time": "2021-07-23T20:21:22.520Z"
   },
   {
    "duration": 10,
    "start_time": "2021-07-23T20:21:23.230Z"
   },
   {
    "duration": 9,
    "start_time": "2021-07-23T20:21:24.041Z"
   },
   {
    "duration": 10,
    "start_time": "2021-07-23T20:21:24.850Z"
   },
   {
    "duration": 2023,
    "start_time": "2021-07-24T04:32:33.203Z"
   },
   {
    "duration": 575,
    "start_time": "2021-07-24T04:32:35.228Z"
   },
   {
    "duration": 4,
    "start_time": "2021-07-24T04:32:35.806Z"
   },
   {
    "duration": 225,
    "start_time": "2021-07-24T04:32:35.813Z"
   },
   {
    "duration": 5,
    "start_time": "2021-07-24T04:32:36.041Z"
   },
   {
    "duration": 35,
    "start_time": "2021-07-24T04:32:36.049Z"
   },
   {
    "duration": 112,
    "start_time": "2021-07-24T04:32:36.088Z"
   },
   {
    "duration": 12,
    "start_time": "2021-07-24T04:32:36.206Z"
   },
   {
    "duration": 46,
    "start_time": "2021-07-24T04:32:36.223Z"
   },
   {
    "duration": 25,
    "start_time": "2021-07-24T04:32:36.272Z"
   },
   {
    "duration": 26,
    "start_time": "2021-07-24T04:32:36.299Z"
   },
   {
    "duration": 60,
    "start_time": "2021-07-24T04:32:36.328Z"
   },
   {
    "duration": 28,
    "start_time": "2021-07-24T04:32:36.391Z"
   },
   {
    "duration": 436,
    "start_time": "2021-07-24T04:32:36.422Z"
   },
   {
    "duration": 7,
    "start_time": "2021-07-24T04:32:36.868Z"
   },
   {
    "duration": 33,
    "start_time": "2021-07-24T04:32:36.878Z"
   },
   {
    "duration": 834,
    "start_time": "2021-07-24T04:32:36.913Z"
   },
   {
    "duration": 584,
    "start_time": "2021-07-24T04:32:37.750Z"
   },
   {
    "duration": 38,
    "start_time": "2021-07-24T04:32:38.336Z"
   },
   {
    "duration": 58,
    "start_time": "2021-07-24T04:32:38.377Z"
   },
   {
    "duration": 109,
    "start_time": "2021-07-24T04:32:38.437Z"
   },
   {
    "duration": 60,
    "start_time": "2021-07-24T04:32:38.548Z"
   },
   {
    "duration": 56,
    "start_time": "2021-07-24T04:32:38.613Z"
   },
   {
    "duration": 45,
    "start_time": "2021-07-24T04:32:38.671Z"
   },
   {
    "duration": 104,
    "start_time": "2021-07-24T04:32:38.719Z"
   },
   {
    "duration": 6,
    "start_time": "2021-07-24T04:32:38.826Z"
   },
   {
    "duration": 1082,
    "start_time": "2021-07-24T04:32:38.835Z"
   },
   {
    "duration": 78,
    "start_time": "2021-07-24T04:32:39.920Z"
   },
   {
    "duration": 104,
    "start_time": "2021-07-24T04:32:40.000Z"
   },
   {
    "duration": 129,
    "start_time": "2021-07-24T04:32:40.106Z"
   },
   {
    "duration": 32,
    "start_time": "2021-07-24T04:32:40.237Z"
   },
   {
    "duration": 11,
    "start_time": "2021-07-24T04:32:40.272Z"
   },
   {
    "duration": 17,
    "start_time": "2021-07-24T04:32:40.286Z"
   },
   {
    "duration": 7,
    "start_time": "2021-07-24T04:32:40.305Z"
   },
   {
    "duration": 67,
    "start_time": "2021-07-24T04:32:40.315Z"
   },
   {
    "duration": 216,
    "start_time": "2021-07-24T04:32:40.385Z"
   },
   {
    "duration": 66,
    "start_time": "2021-07-24T04:32:40.603Z"
   },
   {
    "duration": 306,
    "start_time": "2021-07-24T04:47:19.668Z"
   },
   {
    "duration": 302,
    "start_time": "2021-07-24T04:48:03.127Z"
   },
   {
    "duration": 338,
    "start_time": "2021-07-24T04:50:05.149Z"
   },
   {
    "duration": 317,
    "start_time": "2021-07-24T04:55:41.036Z"
   },
   {
    "duration": 308,
    "start_time": "2021-07-24T04:57:21.905Z"
   },
   {
    "duration": 318,
    "start_time": "2021-07-24T04:57:38.429Z"
   },
   {
    "duration": 317,
    "start_time": "2021-07-24T04:59:52.321Z"
   },
   {
    "duration": 20,
    "start_time": "2021-07-24T05:04:19.802Z"
   },
   {
    "duration": 19,
    "start_time": "2021-07-24T05:04:22.673Z"
   },
   {
    "duration": 19,
    "start_time": "2021-07-24T05:04:25.442Z"
   },
   {
    "duration": 561,
    "start_time": "2021-07-24T05:05:38.972Z"
   },
   {
    "duration": 335,
    "start_time": "2021-07-24T05:06:14.923Z"
   },
   {
    "duration": 7,
    "start_time": "2021-07-24T05:06:32.079Z"
   },
   {
    "duration": 2008,
    "start_time": "2021-07-24T17:08:00.185Z"
   },
   {
    "duration": 469,
    "start_time": "2021-07-24T17:08:02.196Z"
   },
   {
    "duration": 6,
    "start_time": "2021-07-24T17:08:02.668Z"
   },
   {
    "duration": 233,
    "start_time": "2021-07-24T17:08:02.678Z"
   },
   {
    "duration": 3,
    "start_time": "2021-07-24T17:08:02.913Z"
   },
   {
    "duration": 25,
    "start_time": "2021-07-24T17:08:02.919Z"
   },
   {
    "duration": 103,
    "start_time": "2021-07-24T17:08:02.946Z"
   },
   {
    "duration": 22,
    "start_time": "2021-07-24T17:08:03.053Z"
   },
   {
    "duration": 19,
    "start_time": "2021-07-24T17:08:03.078Z"
   },
   {
    "duration": 22,
    "start_time": "2021-07-24T17:08:03.100Z"
   },
   {
    "duration": 50,
    "start_time": "2021-07-24T17:08:03.125Z"
   },
   {
    "duration": 22,
    "start_time": "2021-07-24T17:08:03.177Z"
   },
   {
    "duration": 27,
    "start_time": "2021-07-24T17:08:03.201Z"
   },
   {
    "duration": 437,
    "start_time": "2021-07-24T17:08:03.230Z"
   },
   {
    "duration": 6,
    "start_time": "2021-07-24T17:08:03.669Z"
   },
   {
    "duration": 35,
    "start_time": "2021-07-24T17:08:03.677Z"
   },
   {
    "duration": 957,
    "start_time": "2021-07-24T17:08:03.714Z"
   },
   {
    "duration": 569,
    "start_time": "2021-07-24T17:08:04.675Z"
   },
   {
    "duration": 36,
    "start_time": "2021-07-24T17:08:05.247Z"
   },
   {
    "duration": 58,
    "start_time": "2021-07-24T17:08:05.286Z"
   },
   {
    "duration": 126,
    "start_time": "2021-07-24T17:08:05.347Z"
   },
   {
    "duration": 52,
    "start_time": "2021-07-24T17:08:05.476Z"
   },
   {
    "duration": 62,
    "start_time": "2021-07-24T17:08:05.535Z"
   },
   {
    "duration": 44,
    "start_time": "2021-07-24T17:08:05.601Z"
   },
   {
    "duration": 79,
    "start_time": "2021-07-24T17:08:05.668Z"
   },
   {
    "duration": 22,
    "start_time": "2021-07-24T17:08:05.750Z"
   },
   {
    "duration": 1093,
    "start_time": "2021-07-24T17:08:05.775Z"
   },
   {
    "duration": 120,
    "start_time": "2021-07-24T17:08:06.871Z"
   },
   {
    "duration": 121,
    "start_time": "2021-07-24T17:08:06.994Z"
   },
   {
    "duration": 132,
    "start_time": "2021-07-24T17:08:07.168Z"
   },
   {
    "duration": 19,
    "start_time": "2021-07-24T17:08:07.302Z"
   },
   {
    "duration": 45,
    "start_time": "2021-07-24T17:08:07.323Z"
   },
   {
    "duration": 19,
    "start_time": "2021-07-24T17:08:07.371Z"
   },
   {
    "duration": 8,
    "start_time": "2021-07-24T17:08:07.393Z"
   },
   {
    "duration": 68,
    "start_time": "2021-07-24T17:08:07.404Z"
   },
   {
    "duration": 338,
    "start_time": "2021-07-24T17:08:07.475Z"
   },
   {
    "duration": 207,
    "start_time": "2021-07-24T17:08:07.816Z"
   },
   {
    "duration": 62,
    "start_time": "2021-07-24T17:08:08.025Z"
   },
   {
    "duration": 7,
    "start_time": "2021-07-24T17:09:45.960Z"
   },
   {
    "duration": 6,
    "start_time": "2021-07-24T17:10:14.331Z"
   },
   {
    "duration": 5,
    "start_time": "2021-07-24T17:13:53.149Z"
   },
   {
    "duration": 319,
    "start_time": "2021-07-24T17:18:22.903Z"
   },
   {
    "duration": 9,
    "start_time": "2021-07-24T17:18:45.103Z"
   },
   {
    "duration": 438,
    "start_time": "2021-07-24T17:18:45.114Z"
   },
   {
    "duration": 4,
    "start_time": "2021-07-24T17:18:45.556Z"
   },
   {
    "duration": 206,
    "start_time": "2021-07-24T17:18:45.563Z"
   },
   {
    "duration": 4,
    "start_time": "2021-07-24T17:18:45.771Z"
   },
   {
    "duration": 23,
    "start_time": "2021-07-24T17:18:45.778Z"
   },
   {
    "duration": 106,
    "start_time": "2021-07-24T17:18:45.803Z"
   },
   {
    "duration": 11,
    "start_time": "2021-07-24T17:18:45.911Z"
   },
   {
    "duration": 18,
    "start_time": "2021-07-24T17:18:45.926Z"
   },
   {
    "duration": 42,
    "start_time": "2021-07-24T17:18:45.948Z"
   },
   {
    "duration": 22,
    "start_time": "2021-07-24T17:18:45.992Z"
   },
   {
    "duration": 51,
    "start_time": "2021-07-24T17:18:46.016Z"
   },
   {
    "duration": 26,
    "start_time": "2021-07-24T17:18:46.070Z"
   },
   {
    "duration": 420,
    "start_time": "2021-07-24T17:18:46.099Z"
   },
   {
    "duration": 5,
    "start_time": "2021-07-24T17:18:46.521Z"
   },
   {
    "duration": 53,
    "start_time": "2021-07-24T17:18:46.528Z"
   },
   {
    "duration": 46,
    "start_time": "2021-07-24T17:18:46.583Z"
   },
   {
    "duration": 586,
    "start_time": "2021-07-24T17:18:46.632Z"
   },
   {
    "duration": 20,
    "start_time": "2021-07-24T17:18:47.221Z"
   },
   {
    "duration": 73,
    "start_time": "2021-07-24T17:18:47.244Z"
   },
   {
    "duration": 265,
    "start_time": "2021-07-24T17:18:47.320Z"
   },
   {
    "duration": 53,
    "start_time": "2021-07-24T17:18:47.588Z"
   },
   {
    "duration": 58,
    "start_time": "2021-07-24T17:18:47.643Z"
   },
   {
    "duration": 43,
    "start_time": "2021-07-24T17:18:47.704Z"
   },
   {
    "duration": 78,
    "start_time": "2021-07-24T17:18:47.768Z"
   },
   {
    "duration": 23,
    "start_time": "2021-07-24T17:18:47.849Z"
   },
   {
    "duration": 457,
    "start_time": "2021-07-24T17:18:47.877Z"
   },
   {
    "duration": 66,
    "start_time": "2021-07-24T17:18:48.337Z"
   },
   {
    "duration": 62,
    "start_time": "2021-07-24T17:18:48.405Z"
   },
   {
    "duration": 70,
    "start_time": "2021-07-24T17:18:48.469Z"
   },
   {
    "duration": 36,
    "start_time": "2021-07-24T17:18:48.541Z"
   },
   {
    "duration": 20,
    "start_time": "2021-07-24T17:18:48.580Z"
   },
   {
    "duration": 20,
    "start_time": "2021-07-24T17:18:48.602Z"
   },
   {
    "duration": 6,
    "start_time": "2021-07-24T17:18:48.624Z"
   },
   {
    "duration": 58,
    "start_time": "2021-07-24T17:18:48.632Z"
   },
   {
    "duration": 337,
    "start_time": "2021-07-24T17:18:48.692Z"
   },
   {
    "duration": 217,
    "start_time": "2021-07-24T17:18:49.031Z"
   },
   {
    "duration": 57,
    "start_time": "2021-07-24T17:18:49.251Z"
   },
   {
    "duration": 314,
    "start_time": "2021-07-24T17:19:48.361Z"
   },
   {
    "duration": 331,
    "start_time": "2021-07-24T17:21:23.279Z"
   },
   {
    "duration": 739,
    "start_time": "2021-07-24T17:22:34.133Z"
   },
   {
    "duration": 315,
    "start_time": "2021-07-24T17:22:42.557Z"
   },
   {
    "duration": 630,
    "start_time": "2021-07-24T17:27:22.277Z"
   },
   {
    "duration": 6273,
    "start_time": "2021-07-24T17:27:49.986Z"
   },
   {
    "duration": 658,
    "start_time": "2021-07-24T17:28:32.105Z"
   },
   {
    "duration": 302,
    "start_time": "2021-07-24T17:29:40.316Z"
   },
   {
    "duration": 308,
    "start_time": "2021-07-24T17:30:05.336Z"
   },
   {
    "duration": 630,
    "start_time": "2021-07-24T17:30:47.945Z"
   },
   {
    "duration": 333,
    "start_time": "2021-07-24T17:31:30.045Z"
   },
   {
    "duration": 7549,
    "start_time": "2021-07-24T17:34:57.165Z"
   },
   {
    "duration": 27,
    "start_time": "2021-07-24T17:35:26.524Z"
   },
   {
    "duration": 466,
    "start_time": "2021-07-24T17:38:32.754Z"
   },
   {
    "duration": 37,
    "start_time": "2021-07-24T17:38:54.752Z"
   },
   {
    "duration": 49,
    "start_time": "2021-07-24T17:39:43.916Z"
   },
   {
    "duration": 353,
    "start_time": "2021-07-24T17:44:36.459Z"
   },
   {
    "duration": 30,
    "start_time": "2021-07-24T17:44:51.857Z"
   },
   {
    "duration": 333,
    "start_time": "2021-07-24T17:45:14.681Z"
   },
   {
    "duration": 32,
    "start_time": "2021-07-24T17:45:32.744Z"
   },
   {
    "duration": 297,
    "start_time": "2021-07-24T17:46:29.127Z"
   },
   {
    "duration": 32,
    "start_time": "2021-07-24T17:46:41.629Z"
   },
   {
    "duration": 31,
    "start_time": "2021-07-24T17:46:50.364Z"
   },
   {
    "duration": 488,
    "start_time": "2021-07-24T17:46:55.937Z"
   },
   {
    "duration": 32,
    "start_time": "2021-07-24T17:47:28.373Z"
   },
   {
    "duration": 24,
    "start_time": "2021-07-24T17:48:26.895Z"
   },
   {
    "duration": 52,
    "start_time": "2021-07-24T17:51:36.250Z"
   },
   {
    "duration": 74,
    "start_time": "2021-07-24T17:51:36.427Z"
   },
   {
    "duration": 20,
    "start_time": "2021-07-24T17:51:36.505Z"
   },
   {
    "duration": 25,
    "start_time": "2021-07-24T17:51:36.550Z"
   },
   {
    "duration": 19,
    "start_time": "2021-07-24T17:51:36.612Z"
   },
   {
    "duration": 5,
    "start_time": "2021-07-24T17:51:36.690Z"
   },
   {
    "duration": 26,
    "start_time": "2021-07-24T17:51:36.775Z"
   },
   {
    "duration": 366,
    "start_time": "2021-07-24T17:51:36.876Z"
   },
   {
    "duration": 63,
    "start_time": "2021-07-24T17:51:37.244Z"
   },
   {
    "duration": 343,
    "start_time": "2021-07-24T17:51:38.019Z"
   },
   {
    "duration": 88,
    "start_time": "2021-07-24T18:01:17.752Z"
   },
   {
    "duration": 115,
    "start_time": "2021-07-24T18:02:07.634Z"
   },
   {
    "duration": 19,
    "start_time": "2021-07-24T18:02:10.070Z"
   },
   {
    "duration": 19,
    "start_time": "2021-07-24T18:02:14.348Z"
   },
   {
    "duration": 19,
    "start_time": "2021-07-24T18:02:16.909Z"
   },
   {
    "duration": 56,
    "start_time": "2021-07-24T18:03:23.419Z"
   },
   {
    "duration": 55,
    "start_time": "2021-07-24T18:03:26.980Z"
   },
   {
    "duration": 58,
    "start_time": "2021-07-24T18:03:30.830Z"
   },
   {
    "duration": 1901,
    "start_time": "2021-07-25T05:02:43.163Z"
   },
   {
    "duration": 426,
    "start_time": "2021-07-25T05:02:45.067Z"
   },
   {
    "duration": 5,
    "start_time": "2021-07-25T05:02:45.496Z"
   },
   {
    "duration": 216,
    "start_time": "2021-07-25T05:02:45.504Z"
   },
   {
    "duration": 5,
    "start_time": "2021-07-25T05:02:45.723Z"
   },
   {
    "duration": 21,
    "start_time": "2021-07-25T05:02:45.731Z"
   },
   {
    "duration": 100,
    "start_time": "2021-07-25T05:02:45.755Z"
   },
   {
    "duration": 28,
    "start_time": "2021-07-25T05:02:45.860Z"
   },
   {
    "duration": 20,
    "start_time": "2021-07-25T05:02:45.892Z"
   },
   {
    "duration": 22,
    "start_time": "2021-07-25T05:02:45.915Z"
   },
   {
    "duration": 55,
    "start_time": "2021-07-25T05:02:45.940Z"
   },
   {
    "duration": 20,
    "start_time": "2021-07-25T05:02:45.998Z"
   },
   {
    "duration": 26,
    "start_time": "2021-07-25T05:02:46.020Z"
   },
   {
    "duration": 413,
    "start_time": "2021-07-25T05:02:46.048Z"
   },
   {
    "duration": 6,
    "start_time": "2021-07-25T05:02:46.463Z"
   },
   {
    "duration": 38,
    "start_time": "2021-07-25T05:02:46.470Z"
   },
   {
    "duration": 666,
    "start_time": "2021-07-25T05:02:46.510Z"
   },
   {
    "duration": 531,
    "start_time": "2021-07-25T05:02:47.183Z"
   },
   {
    "duration": 23,
    "start_time": "2021-07-25T05:02:47.717Z"
   },
   {
    "duration": 77,
    "start_time": "2021-07-25T05:02:47.742Z"
   },
   {
    "duration": 101,
    "start_time": "2021-07-25T05:02:47.822Z"
   },
   {
    "duration": 59,
    "start_time": "2021-07-25T05:02:47.926Z"
   },
   {
    "duration": 35,
    "start_time": "2021-07-25T05:02:47.990Z"
   },
   {
    "duration": 57,
    "start_time": "2021-07-25T05:02:48.028Z"
   },
   {
    "duration": 74,
    "start_time": "2021-07-25T05:02:48.088Z"
   },
   {
    "duration": 6,
    "start_time": "2021-07-25T05:02:48.182Z"
   },
   {
    "duration": 997,
    "start_time": "2021-07-25T05:02:48.191Z"
   },
   {
    "duration": 96,
    "start_time": "2021-07-25T05:02:49.190Z"
   },
   {
    "duration": 108,
    "start_time": "2021-07-25T05:02:49.288Z"
   },
   {
    "duration": 108,
    "start_time": "2021-07-25T05:02:49.398Z"
   },
   {
    "duration": 56,
    "start_time": "2021-07-25T05:02:49.508Z"
   },
   {
    "duration": 18,
    "start_time": "2021-07-25T05:02:49.566Z"
   },
   {
    "duration": 32,
    "start_time": "2021-07-25T05:02:49.586Z"
   },
   {
    "duration": 208,
    "start_time": "2021-07-25T05:02:49.620Z"
   },
   {
    "duration": 58,
    "start_time": "2021-07-25T05:02:49.830Z"
   },
   {
    "duration": 339,
    "start_time": "2021-07-25T05:02:49.890Z"
   },
   {
    "duration": 42,
    "start_time": "2021-07-25T05:35:18.945Z"
   },
   {
    "duration": 91,
    "start_time": "2021-07-25T05:35:57.313Z"
   },
   {
    "duration": 46,
    "start_time": "2021-07-25T05:35:57.407Z"
   },
   {
    "duration": 57,
    "start_time": "2021-07-25T05:35:57.456Z"
   },
   {
    "duration": 40,
    "start_time": "2021-07-25T05:35:57.516Z"
   },
   {
    "duration": 95,
    "start_time": "2021-07-25T05:35:57.559Z"
   },
   {
    "duration": 7,
    "start_time": "2021-07-25T05:35:57.656Z"
   },
   {
    "duration": 551,
    "start_time": "2021-07-25T05:35:57.665Z"
   },
   {
    "duration": 47,
    "start_time": "2021-07-25T05:35:58.219Z"
   },
   {
    "duration": 52,
    "start_time": "2021-07-25T05:35:58.283Z"
   },
   {
    "duration": 72,
    "start_time": "2021-07-25T05:35:58.338Z"
   },
   {
    "duration": 55,
    "start_time": "2021-07-25T05:35:58.412Z"
   },
   {
    "duration": 15,
    "start_time": "2021-07-25T05:35:58.469Z"
   },
   {
    "duration": 26,
    "start_time": "2021-07-25T05:35:58.487Z"
   },
   {
    "duration": 223,
    "start_time": "2021-07-25T05:35:58.516Z"
   },
   {
    "duration": 58,
    "start_time": "2021-07-25T05:35:58.742Z"
   },
   {
    "duration": 327,
    "start_time": "2021-07-25T05:35:58.802Z"
   },
   {
    "duration": 77,
    "start_time": "2021-07-25T05:35:59.132Z"
   },
   {
    "duration": 9,
    "start_time": "2021-07-25T05:40:36.154Z"
   },
   {
    "duration": 9,
    "start_time": "2021-07-25T05:40:49.284Z"
   },
   {
    "duration": 11,
    "start_time": "2021-07-25T05:41:00.075Z"
   },
   {
    "duration": 12,
    "start_time": "2021-07-25T05:41:14.105Z"
   },
   {
    "duration": 7,
    "start_time": "2021-07-25T05:41:38.444Z"
   },
   {
    "duration": 7,
    "start_time": "2021-07-25T05:41:43.827Z"
   },
   {
    "duration": 533,
    "start_time": "2021-07-25T05:42:09.322Z"
   },
   {
    "duration": 11,
    "start_time": "2021-07-25T05:42:42.165Z"
   },
   {
    "duration": 18,
    "start_time": "2021-07-25T05:42:49.867Z"
   },
   {
    "duration": 6,
    "start_time": "2021-07-25T05:47:43.916Z"
   },
   {
    "duration": 6,
    "start_time": "2021-07-25T05:47:56.247Z"
   },
   {
    "duration": 17,
    "start_time": "2021-07-25T05:48:08.183Z"
   },
   {
    "duration": 17,
    "start_time": "2021-07-25T05:49:11.667Z"
   },
   {
    "duration": 8,
    "start_time": "2021-07-25T05:49:29.107Z"
   },
   {
    "duration": 8,
    "start_time": "2021-07-25T05:50:12.710Z"
   },
   {
    "duration": 6,
    "start_time": "2021-07-25T05:50:28.325Z"
   },
   {
    "duration": 6,
    "start_time": "2021-07-25T05:50:42.070Z"
   },
   {
    "duration": 6,
    "start_time": "2021-07-25T05:50:49.071Z"
   },
   {
    "duration": 6,
    "start_time": "2021-07-25T05:51:22.356Z"
   },
   {
    "duration": 7,
    "start_time": "2021-07-25T05:51:55.486Z"
   },
   {
    "duration": 6,
    "start_time": "2021-07-25T05:52:01.803Z"
   },
   {
    "duration": 6,
    "start_time": "2021-07-25T05:52:13.243Z"
   },
   {
    "duration": 16,
    "start_time": "2021-07-25T05:52:34.914Z"
   },
   {
    "duration": 270,
    "start_time": "2021-07-25T05:52:42.084Z"
   },
   {
    "duration": 10,
    "start_time": "2021-07-25T05:53:35.503Z"
   },
   {
    "duration": 17,
    "start_time": "2021-07-25T05:53:46.852Z"
   },
   {
    "duration": 248,
    "start_time": "2021-07-25T06:02:41.083Z"
   },
   {
    "duration": 11,
    "start_time": "2021-07-25T06:02:52.400Z"
   },
   {
    "duration": 12,
    "start_time": "2021-07-25T06:03:54.256Z"
   },
   {
    "duration": 269,
    "start_time": "2021-07-25T06:06:25.791Z"
   },
   {
    "duration": 5,
    "start_time": "2021-07-25T06:06:42.742Z"
   },
   {
    "duration": 12,
    "start_time": "2021-07-25T06:06:52.652Z"
   },
   {
    "duration": 333,
    "start_time": "2021-07-25T06:08:42.658Z"
   },
   {
    "duration": 11,
    "start_time": "2021-07-25T06:08:53.675Z"
   },
   {
    "duration": 24,
    "start_time": "2021-07-25T06:09:14.122Z"
   },
   {
    "duration": 18,
    "start_time": "2021-07-25T06:09:27.572Z"
   },
   {
    "duration": 1889,
    "start_time": "2021-07-25T10:36:46.788Z"
   },
   {
    "duration": 534,
    "start_time": "2021-07-25T10:36:48.679Z"
   },
   {
    "duration": 5,
    "start_time": "2021-07-25T10:36:49.216Z"
   },
   {
    "duration": 238,
    "start_time": "2021-07-25T10:36:49.224Z"
   },
   {
    "duration": 5,
    "start_time": "2021-07-25T10:36:49.465Z"
   },
   {
    "duration": 28,
    "start_time": "2021-07-25T10:36:49.473Z"
   },
   {
    "duration": 141,
    "start_time": "2021-07-25T10:36:49.504Z"
   },
   {
    "duration": 13,
    "start_time": "2021-07-25T10:36:49.649Z"
   },
   {
    "duration": 19,
    "start_time": "2021-07-25T10:36:49.669Z"
   },
   {
    "duration": 25,
    "start_time": "2021-07-25T10:36:49.693Z"
   },
   {
    "duration": 57,
    "start_time": "2021-07-25T10:36:49.721Z"
   },
   {
    "duration": 23,
    "start_time": "2021-07-25T10:36:49.782Z"
   },
   {
    "duration": 59,
    "start_time": "2021-07-25T10:36:49.809Z"
   },
   {
    "duration": 422,
    "start_time": "2021-07-25T10:36:49.871Z"
   },
   {
    "duration": 7,
    "start_time": "2021-07-25T10:36:50.296Z"
   },
   {
    "duration": 59,
    "start_time": "2021-07-25T10:36:50.307Z"
   },
   {
    "duration": 721,
    "start_time": "2021-07-25T10:36:50.368Z"
   },
   {
    "duration": 945,
    "start_time": "2021-07-25T10:36:51.093Z"
   },
   {
    "duration": 34,
    "start_time": "2021-07-25T10:36:52.041Z"
   },
   {
    "duration": 90,
    "start_time": "2021-07-25T10:36:52.078Z"
   },
   {
    "duration": 106,
    "start_time": "2021-07-25T10:36:52.170Z"
   },
   {
    "duration": 52,
    "start_time": "2021-07-25T10:36:52.279Z"
   },
   {
    "duration": 50,
    "start_time": "2021-07-25T10:36:52.333Z"
   },
   {
    "duration": 73,
    "start_time": "2021-07-25T10:36:52.385Z"
   },
   {
    "duration": 77,
    "start_time": "2021-07-25T10:36:52.461Z"
   },
   {
    "duration": 19,
    "start_time": "2021-07-25T10:36:52.541Z"
   },
   {
    "duration": 1176,
    "start_time": "2021-07-25T10:36:52.566Z"
   },
   {
    "duration": 111,
    "start_time": "2021-07-25T10:36:53.745Z"
   },
   {
    "duration": 110,
    "start_time": "2021-07-25T10:36:53.858Z"
   },
   {
    "duration": 93,
    "start_time": "2021-07-25T10:36:53.970Z"
   },
   {
    "duration": 60,
    "start_time": "2021-07-25T10:36:54.066Z"
   },
   {
    "duration": 29,
    "start_time": "2021-07-25T10:36:54.128Z"
   },
   {
    "duration": 29,
    "start_time": "2021-07-25T10:36:54.160Z"
   },
   {
    "duration": 236,
    "start_time": "2021-07-25T10:36:54.192Z"
   },
   {
    "duration": 61,
    "start_time": "2021-07-25T10:36:54.430Z"
   },
   {
    "duration": 340,
    "start_time": "2021-07-25T10:36:54.494Z"
   },
   {
    "duration": 17,
    "start_time": "2021-07-25T10:36:54.837Z"
   },
   {
    "duration": 6,
    "start_time": "2021-07-25T10:36:54.856Z"
   },
   {
    "duration": 8,
    "start_time": "2021-07-25T10:36:54.864Z"
   },
   {
    "duration": 19,
    "start_time": "2021-07-25T10:36:54.874Z"
   },
   {
    "duration": 8,
    "start_time": "2021-07-25T10:43:05.470Z"
   },
   {
    "duration": 7168,
    "start_time": "2021-07-25T10:51:08.582Z"
   },
   {
    "duration": 622,
    "start_time": "2021-07-25T10:52:00.502Z"
   },
   {
    "duration": 534,
    "start_time": "2021-07-25T10:52:22.040Z"
   },
   {
    "duration": 10,
    "start_time": "2021-07-25T10:53:12.699Z"
   },
   {
    "duration": 93,
    "start_time": "2021-07-25T10:54:15.302Z"
   },
   {
    "duration": 4,
    "start_time": "2021-07-25T10:54:23.432Z"
   },
   {
    "duration": 11,
    "start_time": "2021-07-25T10:54:31.262Z"
   },
   {
    "duration": 6612,
    "start_time": "2021-07-25T10:56:00.110Z"
   },
   {
    "duration": 6525,
    "start_time": "2021-07-25T10:58:28.979Z"
   },
   {
    "duration": 9,
    "start_time": "2021-07-25T10:58:57.285Z"
   },
   {
    "duration": 10,
    "start_time": "2021-07-25T11:00:17.183Z"
   },
   {
    "duration": 19,
    "start_time": "2021-07-25T11:00:52.670Z"
   },
   {
    "duration": 8,
    "start_time": "2021-07-25T11:01:02.239Z"
   },
   {
    "duration": 531,
    "start_time": "2021-07-25T11:01:04.390Z"
   },
   {
    "duration": 6465,
    "start_time": "2021-07-25T11:03:40.508Z"
   },
   {
    "duration": 9,
    "start_time": "2021-07-25T11:07:33.484Z"
   },
   {
    "duration": 464,
    "start_time": "2021-07-25T11:07:33.496Z"
   },
   {
    "duration": 5,
    "start_time": "2021-07-25T11:07:33.963Z"
   },
   {
    "duration": 200,
    "start_time": "2021-07-25T11:07:33.971Z"
   },
   {
    "duration": 4,
    "start_time": "2021-07-25T11:07:34.174Z"
   },
   {
    "duration": 36,
    "start_time": "2021-07-25T11:07:34.180Z"
   },
   {
    "duration": 80,
    "start_time": "2021-07-25T11:07:34.219Z"
   },
   {
    "duration": 10,
    "start_time": "2021-07-25T11:07:34.302Z"
   },
   {
    "duration": 38,
    "start_time": "2021-07-25T11:07:34.316Z"
   },
   {
    "duration": 22,
    "start_time": "2021-07-25T11:07:34.357Z"
   },
   {
    "duration": 21,
    "start_time": "2021-07-25T11:07:34.382Z"
   },
   {
    "duration": 51,
    "start_time": "2021-07-25T11:07:34.406Z"
   },
   {
    "duration": 26,
    "start_time": "2021-07-25T11:07:34.459Z"
   },
   {
    "duration": 405,
    "start_time": "2021-07-25T11:07:34.487Z"
   },
   {
    "duration": 6,
    "start_time": "2021-07-25T11:07:34.894Z"
   },
   {
    "duration": 50,
    "start_time": "2021-07-25T11:07:34.903Z"
   },
   {
    "duration": 39,
    "start_time": "2021-07-25T11:07:34.956Z"
   },
   {
    "duration": 656,
    "start_time": "2021-07-25T11:07:34.998Z"
   },
   {
    "duration": 18,
    "start_time": "2021-07-25T11:07:35.657Z"
   },
   {
    "duration": 76,
    "start_time": "2021-07-25T11:07:35.678Z"
   },
   {
    "duration": 244,
    "start_time": "2021-07-25T11:07:35.757Z"
   },
   {
    "duration": 57,
    "start_time": "2021-07-25T11:07:36.004Z"
   },
   {
    "duration": 41,
    "start_time": "2021-07-25T11:07:36.063Z"
   },
   {
    "duration": 57,
    "start_time": "2021-07-25T11:07:36.107Z"
   },
   {
    "duration": 91,
    "start_time": "2021-07-25T11:07:36.167Z"
   },
   {
    "duration": 5,
    "start_time": "2021-07-25T11:07:36.260Z"
   },
   {
    "duration": 346,
    "start_time": "2021-07-25T11:07:36.270Z"
   },
   {
    "duration": 60,
    "start_time": "2021-07-25T11:07:36.619Z"
   },
   {
    "duration": 54,
    "start_time": "2021-07-25T11:07:36.682Z"
   },
   {
    "duration": 54,
    "start_time": "2021-07-25T11:07:36.754Z"
   },
   {
    "duration": 74,
    "start_time": "2021-07-25T11:07:36.811Z"
   },
   {
    "duration": 5,
    "start_time": "2021-07-25T11:07:36.887Z"
   },
   {
    "duration": 30,
    "start_time": "2021-07-25T11:07:36.894Z"
   },
   {
    "duration": 222,
    "start_time": "2021-07-25T11:07:36.926Z"
   },
   {
    "duration": 50,
    "start_time": "2021-07-25T11:07:37.150Z"
   },
   {
    "duration": 329,
    "start_time": "2021-07-25T11:07:37.202Z"
   },
   {
    "duration": 5,
    "start_time": "2021-07-25T11:07:37.534Z"
   },
   {
    "duration": 30,
    "start_time": "2021-07-25T11:07:37.541Z"
   },
   {
    "duration": 38,
    "start_time": "2021-07-25T11:07:37.574Z"
   },
   {
    "duration": 6422,
    "start_time": "2021-07-25T11:07:37.614Z"
   },
   {
    "duration": 5,
    "start_time": "2021-07-25T11:10:12.118Z"
   },
   {
    "duration": 504,
    "start_time": "2021-07-25T11:12:41.805Z"
   },
   {
    "duration": 7137,
    "start_time": "2021-07-25T11:12:54.382Z"
   },
   {
    "duration": 6802,
    "start_time": "2021-07-25T11:13:14.223Z"
   },
   {
    "duration": 9,
    "start_time": "2021-07-25T11:14:21.356Z"
   },
   {
    "duration": 275,
    "start_time": "2021-07-25T11:14:40.706Z"
   },
   {
    "duration": 275,
    "start_time": "2021-07-25T11:14:49.077Z"
   },
   {
    "duration": 102,
    "start_time": "2021-07-25T11:15:32.975Z"
   },
   {
    "duration": 6672,
    "start_time": "2021-07-25T11:15:38.672Z"
   },
   {
    "duration": 13,
    "start_time": "2021-07-25T11:16:27.554Z"
   },
   {
    "duration": 6632,
    "start_time": "2021-07-25T11:16:47.086Z"
   },
   {
    "duration": 6,
    "start_time": "2021-07-25T11:17:02.831Z"
   },
   {
    "duration": 6235,
    "start_time": "2021-07-25T11:17:05.502Z"
   },
   {
    "duration": 14,
    "start_time": "2021-07-25T11:17:24.708Z"
   },
   {
    "duration": 85,
    "start_time": "2021-07-25T11:17:54.842Z"
   },
   {
    "duration": 6,
    "start_time": "2021-07-25T11:18:04.698Z"
   },
   {
    "duration": 6,
    "start_time": "2021-07-25T11:18:20.543Z"
   },
   {
    "duration": 5,
    "start_time": "2021-07-25T11:18:45.592Z"
   },
   {
    "duration": 7932,
    "start_time": "2021-07-25T11:24:10.915Z"
   },
   {
    "duration": 6278,
    "start_time": "2021-07-25T11:25:46.271Z"
   },
   {
    "duration": 6,
    "start_time": "2021-07-25T11:26:04.943Z"
   },
   {
    "duration": 6488,
    "start_time": "2021-07-25T11:26:45.630Z"
   },
   {
    "duration": 11,
    "start_time": "2021-07-25T11:31:40.075Z"
   },
   {
    "duration": 10,
    "start_time": "2021-07-25T11:31:58.355Z"
   },
   {
    "duration": 605,
    "start_time": "2021-07-25T11:31:58.369Z"
   },
   {
    "duration": 7,
    "start_time": "2021-07-25T11:31:58.978Z"
   },
   {
    "duration": 289,
    "start_time": "2021-07-25T11:31:58.988Z"
   },
   {
    "duration": 4,
    "start_time": "2021-07-25T11:31:59.280Z"
   },
   {
    "duration": 25,
    "start_time": "2021-07-25T11:31:59.288Z"
   },
   {
    "duration": 128,
    "start_time": "2021-07-25T11:31:59.316Z"
   },
   {
    "duration": 11,
    "start_time": "2021-07-25T11:31:59.450Z"
   },
   {
    "duration": 27,
    "start_time": "2021-07-25T11:31:59.465Z"
   },
   {
    "duration": 71,
    "start_time": "2021-07-25T11:31:59.495Z"
   },
   {
    "duration": 35,
    "start_time": "2021-07-25T11:31:59.569Z"
   },
   {
    "duration": 49,
    "start_time": "2021-07-25T11:31:59.607Z"
   },
   {
    "duration": 41,
    "start_time": "2021-07-25T11:31:59.659Z"
   },
   {
    "duration": 655,
    "start_time": "2021-07-25T11:31:59.703Z"
   },
   {
    "duration": 7,
    "start_time": "2021-07-25T11:32:00.361Z"
   },
   {
    "duration": 57,
    "start_time": "2021-07-25T11:32:00.371Z"
   },
   {
    "duration": 80,
    "start_time": "2021-07-25T11:32:00.431Z"
   },
   {
    "duration": 571,
    "start_time": "2021-07-25T11:32:00.514Z"
   },
   {
    "duration": 18,
    "start_time": "2021-07-25T11:32:01.088Z"
   },
   {
    "duration": 75,
    "start_time": "2021-07-25T11:32:01.108Z"
   },
   {
    "duration": 112,
    "start_time": "2021-07-25T11:32:01.186Z"
   },
   {
    "duration": 64,
    "start_time": "2021-07-25T11:32:01.301Z"
   },
   {
    "duration": 37,
    "start_time": "2021-07-25T11:32:01.372Z"
   },
   {
    "duration": 65,
    "start_time": "2021-07-25T11:32:01.413Z"
   },
   {
    "duration": 103,
    "start_time": "2021-07-25T11:32:01.481Z"
   },
   {
    "duration": 8,
    "start_time": "2021-07-25T11:32:01.587Z"
   },
   {
    "duration": 503,
    "start_time": "2021-07-25T11:32:01.598Z"
   },
   {
    "duration": 67,
    "start_time": "2021-07-25T11:32:02.104Z"
   },
   {
    "duration": 57,
    "start_time": "2021-07-25T11:32:02.174Z"
   },
   {
    "duration": 70,
    "start_time": "2021-07-25T11:32:02.234Z"
   },
   {
    "duration": 76,
    "start_time": "2021-07-25T11:32:02.306Z"
   },
   {
    "duration": 6,
    "start_time": "2021-07-25T11:32:02.384Z"
   },
   {
    "duration": 29,
    "start_time": "2021-07-25T11:32:02.392Z"
   },
   {
    "duration": 237,
    "start_time": "2021-07-25T11:32:02.423Z"
   },
   {
    "duration": 47,
    "start_time": "2021-07-25T11:32:02.662Z"
   },
   {
    "duration": 344,
    "start_time": "2021-07-25T11:32:02.711Z"
   },
   {
    "duration": 6,
    "start_time": "2021-07-25T11:32:03.057Z"
   },
   {
    "duration": 22,
    "start_time": "2021-07-25T11:32:03.065Z"
   },
   {
    "duration": 22,
    "start_time": "2021-07-25T11:32:03.088Z"
   },
   {
    "duration": 9,
    "start_time": "2021-07-25T11:32:03.112Z"
   },
   {
    "duration": 6459,
    "start_time": "2021-07-25T11:32:03.155Z"
   },
   {
    "duration": 326,
    "start_time": "2021-07-25T11:33:11.711Z"
   },
   {
    "duration": 6,
    "start_time": "2021-07-25T11:33:26.366Z"
   },
   {
    "duration": 6127,
    "start_time": "2021-07-25T11:34:21.424Z"
   },
   {
    "duration": 6,
    "start_time": "2021-07-25T11:35:17.283Z"
   },
   {
    "duration": 2485,
    "start_time": "2021-07-25T11:35:42.230Z"
   },
   {
    "duration": 368,
    "start_time": "2021-07-25T11:35:44.719Z"
   },
   {
    "duration": 5,
    "start_time": "2021-07-25T11:35:45.090Z"
   },
   {
    "duration": 217,
    "start_time": "2021-07-25T11:35:45.098Z"
   },
   {
    "duration": 5,
    "start_time": "2021-07-25T11:35:45.317Z"
   },
   {
    "duration": 37,
    "start_time": "2021-07-25T11:35:45.324Z"
   },
   {
    "duration": 92,
    "start_time": "2021-07-25T11:35:45.364Z"
   },
   {
    "duration": 9,
    "start_time": "2021-07-25T11:35:45.460Z"
   },
   {
    "duration": 18,
    "start_time": "2021-07-25T11:35:45.472Z"
   },
   {
    "duration": 23,
    "start_time": "2021-07-25T11:35:45.493Z"
   },
   {
    "duration": 55,
    "start_time": "2021-07-25T11:35:45.518Z"
   },
   {
    "duration": 21,
    "start_time": "2021-07-25T11:35:45.576Z"
   },
   {
    "duration": 55,
    "start_time": "2021-07-25T11:35:45.599Z"
   },
   {
    "duration": 402,
    "start_time": "2021-07-25T11:35:45.657Z"
   },
   {
    "duration": 6,
    "start_time": "2021-07-25T11:35:46.062Z"
   },
   {
    "duration": 31,
    "start_time": "2021-07-25T11:35:46.070Z"
   },
   {
    "duration": 675,
    "start_time": "2021-07-25T11:35:46.103Z"
   },
   {
    "duration": 817,
    "start_time": "2021-07-25T11:35:46.781Z"
   },
   {
    "duration": 21,
    "start_time": "2021-07-25T11:35:47.602Z"
   },
   {
    "duration": 78,
    "start_time": "2021-07-25T11:35:47.626Z"
   },
   {
    "duration": 107,
    "start_time": "2021-07-25T11:35:47.707Z"
   },
   {
    "duration": 62,
    "start_time": "2021-07-25T11:35:47.816Z"
   },
   {
    "duration": 35,
    "start_time": "2021-07-25T11:35:47.883Z"
   },
   {
    "duration": 60,
    "start_time": "2021-07-25T11:35:47.921Z"
   },
   {
    "duration": 94,
    "start_time": "2021-07-25T11:35:47.984Z"
   },
   {
    "duration": 7,
    "start_time": "2021-07-25T11:35:48.081Z"
   },
   {
    "duration": 1632,
    "start_time": "2021-07-25T11:35:48.091Z"
   },
   {
    "duration": 142,
    "start_time": "2021-07-25T11:35:49.726Z"
   },
   {
    "duration": 149,
    "start_time": "2021-07-25T11:35:49.871Z"
   },
   {
    "duration": 115,
    "start_time": "2021-07-25T11:35:50.024Z"
   },
   {
    "duration": 102,
    "start_time": "2021-07-25T11:35:50.154Z"
   },
   {
    "duration": 7,
    "start_time": "2021-07-25T11:35:50.259Z"
   },
   {
    "duration": 43,
    "start_time": "2021-07-25T11:35:50.269Z"
   },
   {
    "duration": 361,
    "start_time": "2021-07-25T11:35:50.316Z"
   },
   {
    "duration": 87,
    "start_time": "2021-07-25T11:35:50.680Z"
   },
   {
    "duration": 570,
    "start_time": "2021-07-25T11:35:50.770Z"
   },
   {
    "duration": 16,
    "start_time": "2021-07-25T11:35:51.344Z"
   },
   {
    "duration": 33,
    "start_time": "2021-07-25T11:35:51.362Z"
   },
   {
    "duration": 28,
    "start_time": "2021-07-25T11:35:51.398Z"
   },
   {
    "duration": 12,
    "start_time": "2021-07-25T11:35:51.428Z"
   },
   {
    "duration": 6733,
    "start_time": "2021-07-25T11:35:51.443Z"
   },
   {
    "duration": 872,
    "start_time": "2021-07-25T11:35:57.306Z"
   },
   {
    "duration": 871,
    "start_time": "2021-07-25T11:35:57.309Z"
   },
   {
    "duration": 869,
    "start_time": "2021-07-25T11:35:57.312Z"
   },
   {
    "duration": 6,
    "start_time": "2021-07-25T11:36:05.117Z"
   },
   {
    "duration": 6,
    "start_time": "2021-07-25T11:36:05.959Z"
   },
   {
    "duration": 6215,
    "start_time": "2021-07-25T11:36:06.805Z"
   },
   {
    "duration": 273,
    "start_time": "2021-07-25T11:37:04.907Z"
   },
   {
    "duration": 20,
    "start_time": "2021-07-25T11:37:27.495Z"
   },
   {
    "duration": 6,
    "start_time": "2021-07-25T11:37:41.573Z"
   },
   {
    "duration": 7,
    "start_time": "2021-07-25T11:37:50.518Z"
   },
   {
    "duration": 543,
    "start_time": "2021-07-25T11:37:51.393Z"
   },
   {
    "duration": 9,
    "start_time": "2021-07-25T11:38:41.918Z"
   },
   {
    "duration": 491,
    "start_time": "2021-07-25T11:38:41.930Z"
   },
   {
    "duration": 4,
    "start_time": "2021-07-25T11:38:42.425Z"
   },
   {
    "duration": 206,
    "start_time": "2021-07-25T11:38:42.432Z"
   },
   {
    "duration": 14,
    "start_time": "2021-07-25T11:38:42.640Z"
   },
   {
    "duration": 27,
    "start_time": "2021-07-25T11:38:42.657Z"
   },
   {
    "duration": 89,
    "start_time": "2021-07-25T11:38:42.687Z"
   },
   {
    "duration": 10,
    "start_time": "2021-07-25T11:38:42.779Z"
   },
   {
    "duration": 27,
    "start_time": "2021-07-25T11:38:42.794Z"
   },
   {
    "duration": 43,
    "start_time": "2021-07-25T11:38:42.824Z"
   },
   {
    "duration": 25,
    "start_time": "2021-07-25T11:38:42.869Z"
   },
   {
    "duration": 38,
    "start_time": "2021-07-25T11:38:42.896Z"
   },
   {
    "duration": 37,
    "start_time": "2021-07-25T11:38:42.936Z"
   },
   {
    "duration": 391,
    "start_time": "2021-07-25T11:38:42.976Z"
   },
   {
    "duration": 6,
    "start_time": "2021-07-25T11:38:43.370Z"
   },
   {
    "duration": 42,
    "start_time": "2021-07-25T11:38:43.380Z"
   },
   {
    "duration": 69,
    "start_time": "2021-07-25T11:38:43.424Z"
   },
   {
    "duration": 565,
    "start_time": "2021-07-25T11:38:43.496Z"
   },
   {
    "duration": 20,
    "start_time": "2021-07-25T11:38:44.064Z"
   },
   {
    "duration": 79,
    "start_time": "2021-07-25T11:38:44.087Z"
   },
   {
    "duration": 261,
    "start_time": "2021-07-25T11:38:44.169Z"
   },
   {
    "duration": 77,
    "start_time": "2021-07-25T11:38:44.433Z"
   },
   {
    "duration": 67,
    "start_time": "2021-07-25T11:38:44.514Z"
   },
   {
    "duration": 46,
    "start_time": "2021-07-25T11:38:44.584Z"
   },
   {
    "duration": 100,
    "start_time": "2021-07-25T11:38:44.632Z"
   },
   {
    "duration": 20,
    "start_time": "2021-07-25T11:38:44.734Z"
   },
   {
    "duration": 347,
    "start_time": "2021-07-25T11:38:44.760Z"
   },
   {
    "duration": 60,
    "start_time": "2021-07-25T11:38:45.110Z"
   },
   {
    "duration": 59,
    "start_time": "2021-07-25T11:38:45.173Z"
   },
   {
    "duration": 60,
    "start_time": "2021-07-25T11:38:45.254Z"
   },
   {
    "duration": 77,
    "start_time": "2021-07-25T11:38:45.316Z"
   },
   {
    "duration": 5,
    "start_time": "2021-07-25T11:38:45.396Z"
   },
   {
    "duration": 28,
    "start_time": "2021-07-25T11:38:45.404Z"
   },
   {
    "duration": 205,
    "start_time": "2021-07-25T11:38:45.454Z"
   },
   {
    "duration": 50,
    "start_time": "2021-07-25T11:38:45.662Z"
   },
   {
    "duration": 332,
    "start_time": "2021-07-25T11:38:45.714Z"
   },
   {
    "duration": 7,
    "start_time": "2021-07-25T11:38:46.048Z"
   },
   {
    "duration": 37,
    "start_time": "2021-07-25T11:38:46.058Z"
   },
   {
    "duration": 21,
    "start_time": "2021-07-25T11:38:46.098Z"
   },
   {
    "duration": 25,
    "start_time": "2021-07-25T11:38:46.122Z"
   },
   {
    "duration": 23,
    "start_time": "2021-07-25T11:38:46.150Z"
   },
   {
    "duration": 18,
    "start_time": "2021-07-25T11:38:46.176Z"
   },
   {
    "duration": 23,
    "start_time": "2021-07-25T11:38:46.197Z"
   },
   {
    "duration": 19,
    "start_time": "2021-07-25T11:38:46.223Z"
   },
   {
    "duration": 9,
    "start_time": "2021-07-25T11:55:42.023Z"
   },
   {
    "duration": 453,
    "start_time": "2021-07-25T11:55:42.035Z"
   },
   {
    "duration": 5,
    "start_time": "2021-07-25T11:55:42.490Z"
   },
   {
    "duration": 199,
    "start_time": "2021-07-25T11:55:42.498Z"
   },
   {
    "duration": 3,
    "start_time": "2021-07-25T11:55:42.700Z"
   },
   {
    "duration": 23,
    "start_time": "2021-07-25T11:55:42.706Z"
   },
   {
    "duration": 89,
    "start_time": "2021-07-25T11:55:42.733Z"
   },
   {
    "duration": 9,
    "start_time": "2021-07-25T11:55:42.825Z"
   },
   {
    "duration": 35,
    "start_time": "2021-07-25T11:55:42.837Z"
   },
   {
    "duration": 32,
    "start_time": "2021-07-25T11:55:42.874Z"
   },
   {
    "duration": 22,
    "start_time": "2021-07-25T11:55:42.908Z"
   },
   {
    "duration": 43,
    "start_time": "2021-07-25T11:55:42.932Z"
   },
   {
    "duration": 25,
    "start_time": "2021-07-25T11:55:42.977Z"
   },
   {
    "duration": 425,
    "start_time": "2021-07-25T11:55:43.004Z"
   },
   {
    "duration": 6,
    "start_time": "2021-07-25T11:55:43.432Z"
   },
   {
    "duration": 28,
    "start_time": "2021-07-25T11:55:43.455Z"
   },
   {
    "duration": 37,
    "start_time": "2021-07-25T11:55:43.486Z"
   },
   {
    "duration": 564,
    "start_time": "2021-07-25T11:55:43.525Z"
   },
   {
    "duration": 18,
    "start_time": "2021-07-25T11:55:44.094Z"
   },
   {
    "duration": 73,
    "start_time": "2021-07-25T11:55:44.115Z"
   },
   {
    "duration": 104,
    "start_time": "2021-07-25T11:55:44.191Z"
   },
   {
    "duration": 60,
    "start_time": "2021-07-25T11:55:44.297Z"
   },
   {
    "duration": 36,
    "start_time": "2021-07-25T11:55:44.360Z"
   },
   {
    "duration": 64,
    "start_time": "2021-07-25T11:55:44.399Z"
   },
   {
    "duration": 92,
    "start_time": "2021-07-25T11:55:44.465Z"
   },
   {
    "duration": 7,
    "start_time": "2021-07-25T11:55:44.559Z"
   },
   {
    "duration": 490,
    "start_time": "2021-07-25T11:55:44.568Z"
   },
   {
    "duration": 49,
    "start_time": "2021-07-25T11:55:45.061Z"
   },
   {
    "duration": 83,
    "start_time": "2021-07-25T11:55:45.112Z"
   },
   {
    "duration": 69,
    "start_time": "2021-07-25T11:55:45.197Z"
   },
   {
    "duration": 59,
    "start_time": "2021-07-25T11:55:45.268Z"
   },
   {
    "duration": 26,
    "start_time": "2021-07-25T11:55:45.329Z"
   },
   {
    "duration": 27,
    "start_time": "2021-07-25T11:55:45.358Z"
   },
   {
    "duration": 217,
    "start_time": "2021-07-25T11:55:45.387Z"
   },
   {
    "duration": 59,
    "start_time": "2021-07-25T11:55:45.606Z"
   },
   {
    "duration": 323,
    "start_time": "2021-07-25T11:55:45.667Z"
   },
   {
    "duration": 6,
    "start_time": "2021-07-25T11:55:45.992Z"
   },
   {
    "duration": 20,
    "start_time": "2021-07-25T11:55:46.000Z"
   },
   {
    "duration": 35,
    "start_time": "2021-07-25T11:55:46.022Z"
   },
   {
    "duration": 26,
    "start_time": "2021-07-25T11:55:46.060Z"
   },
   {
    "duration": 12,
    "start_time": "2021-07-25T12:23:11.126Z"
   },
   {
    "duration": 12,
    "start_time": "2021-07-25T12:24:02.347Z"
   },
   {
    "duration": 9,
    "start_time": "2021-07-25T12:24:53.919Z"
   },
   {
    "duration": 436,
    "start_time": "2021-07-25T12:24:53.930Z"
   },
   {
    "duration": 6,
    "start_time": "2021-07-25T12:24:54.370Z"
   },
   {
    "duration": 219,
    "start_time": "2021-07-25T12:24:54.379Z"
   },
   {
    "duration": 3,
    "start_time": "2021-07-25T12:24:54.601Z"
   },
   {
    "duration": 23,
    "start_time": "2021-07-25T12:24:54.606Z"
   },
   {
    "duration": 76,
    "start_time": "2021-07-25T12:24:54.656Z"
   },
   {
    "duration": 27,
    "start_time": "2021-07-25T12:24:54.735Z"
   },
   {
    "duration": 22,
    "start_time": "2021-07-25T12:24:54.765Z"
   },
   {
    "duration": 23,
    "start_time": "2021-07-25T12:24:54.789Z"
   },
   {
    "duration": 50,
    "start_time": "2021-07-25T12:24:54.814Z"
   },
   {
    "duration": 21,
    "start_time": "2021-07-25T12:24:54.866Z"
   },
   {
    "duration": 27,
    "start_time": "2021-07-25T12:24:54.890Z"
   },
   {
    "duration": 408,
    "start_time": "2021-07-25T12:24:54.921Z"
   },
   {
    "duration": 5,
    "start_time": "2021-07-25T12:24:55.331Z"
   },
   {
    "duration": 42,
    "start_time": "2021-07-25T12:24:55.338Z"
   },
   {
    "duration": 37,
    "start_time": "2021-07-25T12:24:55.383Z"
   },
   {
    "duration": 579,
    "start_time": "2021-07-25T12:24:55.423Z"
   },
   {
    "duration": 18,
    "start_time": "2021-07-25T12:24:56.007Z"
   },
   {
    "duration": 69,
    "start_time": "2021-07-25T12:24:56.028Z"
   },
   {
    "duration": 106,
    "start_time": "2021-07-25T12:24:56.099Z"
   },
   {
    "duration": 60,
    "start_time": "2021-07-25T12:24:56.207Z"
   },
   {
    "duration": 35,
    "start_time": "2021-07-25T12:24:56.269Z"
   },
   {
    "duration": 62,
    "start_time": "2021-07-25T12:24:56.306Z"
   },
   {
    "duration": 98,
    "start_time": "2021-07-25T12:24:56.371Z"
   },
   {
    "duration": 6,
    "start_time": "2021-07-25T12:24:56.472Z"
   },
   {
    "duration": 597,
    "start_time": "2021-07-25T12:24:56.480Z"
   },
   {
    "duration": 49,
    "start_time": "2021-07-25T12:24:57.079Z"
   },
   {
    "duration": 74,
    "start_time": "2021-07-25T12:24:57.130Z"
   },
   {
    "duration": 76,
    "start_time": "2021-07-25T12:24:57.206Z"
   },
   {
    "duration": 70,
    "start_time": "2021-07-25T12:24:57.284Z"
   },
   {
    "duration": 5,
    "start_time": "2021-07-25T12:24:57.356Z"
   },
   {
    "duration": 30,
    "start_time": "2021-07-25T12:24:57.363Z"
   },
   {
    "duration": 212,
    "start_time": "2021-07-25T12:24:57.395Z"
   },
   {
    "duration": 59,
    "start_time": "2021-07-25T12:24:57.609Z"
   },
   {
    "duration": 326,
    "start_time": "2021-07-25T12:24:57.670Z"
   },
   {
    "duration": 6,
    "start_time": "2021-07-25T12:24:57.998Z"
   },
   {
    "duration": 23,
    "start_time": "2021-07-25T12:24:58.006Z"
   },
   {
    "duration": 28,
    "start_time": "2021-07-25T12:24:58.032Z"
   },
   {
    "duration": 29,
    "start_time": "2021-07-25T12:24:58.062Z"
   },
   {
    "duration": 19,
    "start_time": "2021-07-25T12:24:58.093Z"
   },
   {
    "duration": 19,
    "start_time": "2021-07-25T12:24:58.115Z"
   },
   {
    "duration": 22,
    "start_time": "2021-07-25T12:24:58.136Z"
   },
   {
    "duration": 13,
    "start_time": "2021-07-25T12:25:39.368Z"
   },
   {
    "duration": 192,
    "start_time": "2021-07-25T12:29:40.998Z"
   },
   {
    "duration": 11,
    "start_time": "2021-07-25T12:49:48.420Z"
   },
   {
    "duration": 3,
    "start_time": "2021-07-25T13:24:06.822Z"
   },
   {
    "duration": 5,
    "start_time": "2021-07-25T13:24:31.592Z"
   },
   {
    "duration": 13,
    "start_time": "2021-07-25T13:24:32.442Z"
   },
   {
    "duration": 4,
    "start_time": "2021-07-25T13:27:10.360Z"
   },
   {
    "duration": 6,
    "start_time": "2021-07-25T13:27:11.412Z"
   },
   {
    "duration": 4,
    "start_time": "2021-07-25T13:36:31.201Z"
   },
   {
    "duration": 5,
    "start_time": "2021-07-25T13:37:30.253Z"
   },
   {
    "duration": 4,
    "start_time": "2021-07-25T13:37:30.335Z"
   },
   {
    "duration": 19,
    "start_time": "2021-07-25T13:37:30.342Z"
   },
   {
    "duration": 6,
    "start_time": "2021-07-25T13:37:30.414Z"
   },
   {
    "duration": 26,
    "start_time": "2021-07-25T13:37:30.423Z"
   },
   {
    "duration": 5,
    "start_time": "2021-07-25T13:37:30.486Z"
   },
   {
    "duration": 5,
    "start_time": "2021-07-25T13:42:29.812Z"
   },
   {
    "duration": 5,
    "start_time": "2021-07-25T13:42:31.331Z"
   },
   {
    "duration": 6,
    "start_time": "2021-07-25T13:42:40.229Z"
   },
   {
    "duration": 5,
    "start_time": "2021-07-25T13:42:41.293Z"
   },
   {
    "duration": 5,
    "start_time": "2021-07-25T13:42:42.010Z"
   },
   {
    "duration": 5,
    "start_time": "2021-07-25T13:42:42.649Z"
   },
   {
    "duration": 4,
    "start_time": "2021-07-25T13:43:05.079Z"
   },
   {
    "duration": 20,
    "start_time": "2021-07-25T13:43:05.086Z"
   },
   {
    "duration": 12,
    "start_time": "2021-07-25T13:43:05.109Z"
   },
   {
    "duration": 19,
    "start_time": "2021-07-25T13:43:05.124Z"
   },
   {
    "duration": 17,
    "start_time": "2021-07-25T13:43:05.145Z"
   },
   {
    "duration": 10,
    "start_time": "2021-07-25T13:43:05.164Z"
   },
   {
    "duration": 20,
    "start_time": "2021-07-25T13:51:04.392Z"
   },
   {
    "duration": 8,
    "start_time": "2021-07-25T13:51:04.640Z"
   },
   {
    "duration": 572,
    "start_time": "2021-07-25T13:51:04.651Z"
   },
   {
    "duration": 899,
    "start_time": "2021-07-25T13:51:04.327Z"
   },
   {
    "duration": 891,
    "start_time": "2021-07-25T13:51:04.336Z"
   },
   {
    "duration": 884,
    "start_time": "2021-07-25T13:51:04.345Z"
   },
   {
    "duration": 868,
    "start_time": "2021-07-25T13:51:04.363Z"
   },
   {
    "duration": 867,
    "start_time": "2021-07-25T13:51:04.366Z"
   },
   {
    "duration": 864,
    "start_time": "2021-07-25T13:51:04.370Z"
   },
   {
    "duration": 864,
    "start_time": "2021-07-25T13:51:04.372Z"
   },
   {
    "duration": 863,
    "start_time": "2021-07-25T13:51:04.375Z"
   },
   {
    "duration": 861,
    "start_time": "2021-07-25T13:51:04.378Z"
   },
   {
    "duration": 26,
    "start_time": "2021-07-25T13:51:39.295Z"
   },
   {
    "duration": 13,
    "start_time": "2021-07-25T13:51:39.324Z"
   },
   {
    "duration": 16,
    "start_time": "2021-07-25T13:51:39.340Z"
   },
   {
    "duration": 14,
    "start_time": "2021-07-25T13:51:39.358Z"
   },
   {
    "duration": 11,
    "start_time": "2021-07-25T13:51:39.375Z"
   },
   {
    "duration": 15,
    "start_time": "2021-07-25T13:51:39.389Z"
   },
   {
    "duration": 7,
    "start_time": "2021-07-25T13:51:39.407Z"
   },
   {
    "duration": 38,
    "start_time": "2021-07-25T13:51:39.417Z"
   },
   {
    "duration": 9,
    "start_time": "2021-07-25T13:51:39.458Z"
   },
   {
    "duration": 8,
    "start_time": "2021-07-25T13:51:39.470Z"
   },
   {
    "duration": 7,
    "start_time": "2021-07-25T13:51:39.480Z"
   },
   {
    "duration": 15,
    "start_time": "2021-07-25T13:51:39.489Z"
   },
   {
    "duration": 247,
    "start_time": "2021-07-25T13:52:02.561Z"
   },
   {
    "duration": 245,
    "start_time": "2021-07-25T13:52:31.684Z"
   },
   {
    "duration": 260,
    "start_time": "2021-07-25T13:52:53.864Z"
   },
   {
    "duration": 8,
    "start_time": "2021-07-25T13:54:56.110Z"
   },
   {
    "duration": 14,
    "start_time": "2021-07-25T13:55:00.557Z"
   },
   {
    "duration": 25,
    "start_time": "2021-07-25T13:55:00.575Z"
   },
   {
    "duration": 24,
    "start_time": "2021-07-25T13:55:00.603Z"
   },
   {
    "duration": 29,
    "start_time": "2021-07-25T13:55:00.630Z"
   },
   {
    "duration": 13,
    "start_time": "2021-07-25T13:55:00.662Z"
   },
   {
    "duration": 16,
    "start_time": "2021-07-25T13:55:00.677Z"
   },
   {
    "duration": 17,
    "start_time": "2021-07-25T13:55:00.696Z"
   },
   {
    "duration": 16,
    "start_time": "2021-07-25T13:55:00.716Z"
   },
   {
    "duration": 26,
    "start_time": "2021-07-25T13:55:00.736Z"
   },
   {
    "duration": 34,
    "start_time": "2021-07-25T13:55:00.764Z"
   },
   {
    "duration": 276,
    "start_time": "2021-07-25T13:55:00.800Z"
   },
   {
    "duration": 4,
    "start_time": "2021-07-25T13:55:42.956Z"
   },
   {
    "duration": 4,
    "start_time": "2021-07-25T13:56:03.893Z"
   },
   {
    "duration": 5,
    "start_time": "2021-07-25T13:56:08.333Z"
   },
   {
    "duration": 20,
    "start_time": "2021-07-25T13:57:42.902Z"
   },
   {
    "duration": 20,
    "start_time": "2021-07-25T13:57:42.925Z"
   },
   {
    "duration": 40,
    "start_time": "2021-07-25T13:57:42.949Z"
   },
   {
    "duration": 14,
    "start_time": "2021-07-25T13:57:42.993Z"
   },
   {
    "duration": 32,
    "start_time": "2021-07-25T13:57:43.009Z"
   },
   {
    "duration": 36,
    "start_time": "2021-07-25T13:57:43.043Z"
   },
   {
    "duration": 17,
    "start_time": "2021-07-25T13:57:43.081Z"
   },
   {
    "duration": 22,
    "start_time": "2021-07-25T13:57:43.101Z"
   },
   {
    "duration": 26,
    "start_time": "2021-07-25T13:57:43.126Z"
   },
   {
    "duration": 22,
    "start_time": "2021-07-25T13:57:43.155Z"
   },
   {
    "duration": 17,
    "start_time": "2021-07-25T13:57:43.179Z"
   },
   {
    "duration": 23,
    "start_time": "2021-07-25T13:57:43.199Z"
   },
   {
    "duration": 291,
    "start_time": "2021-07-25T13:57:43.224Z"
   },
   {
    "duration": 1002,
    "start_time": "2021-07-25T13:57:42.516Z"
   },
   {
    "duration": 989,
    "start_time": "2021-07-25T13:57:42.530Z"
   },
   {
    "duration": 986,
    "start_time": "2021-07-25T13:57:42.535Z"
   },
   {
    "duration": 284,
    "start_time": "2021-07-25T13:59:15.519Z"
   },
   {
    "duration": 9,
    "start_time": "2021-07-25T14:00:17.685Z"
   },
   {
    "duration": 12,
    "start_time": "2021-07-25T14:00:20.511Z"
   },
   {
    "duration": 1470,
    "start_time": "2021-07-26T04:46:20.709Z"
   },
   {
    "duration": 351,
    "start_time": "2021-07-26T04:46:22.180Z"
   },
   {
    "duration": 6,
    "start_time": "2021-07-26T04:46:22.534Z"
   },
   {
    "duration": 142,
    "start_time": "2021-07-26T04:46:22.542Z"
   },
   {
    "duration": 2,
    "start_time": "2021-07-26T04:46:22.686Z"
   },
   {
    "duration": 14,
    "start_time": "2021-07-26T04:46:22.690Z"
   },
   {
    "duration": 66,
    "start_time": "2021-07-26T04:46:22.705Z"
   },
   {
    "duration": 9,
    "start_time": "2021-07-26T04:46:22.772Z"
   },
   {
    "duration": 13,
    "start_time": "2021-07-26T04:46:22.784Z"
   },
   {
    "duration": 16,
    "start_time": "2021-07-26T04:46:22.799Z"
   },
   {
    "duration": 33,
    "start_time": "2021-07-26T04:46:22.816Z"
   },
   {
    "duration": 14,
    "start_time": "2021-07-26T04:46:22.851Z"
   },
   {
    "duration": 17,
    "start_time": "2021-07-26T04:46:22.867Z"
   },
   {
    "duration": 245,
    "start_time": "2021-07-26T04:46:22.885Z"
   },
   {
    "duration": 4,
    "start_time": "2021-07-26T04:46:23.131Z"
   },
   {
    "duration": 27,
    "start_time": "2021-07-26T04:46:23.137Z"
   },
   {
    "duration": 2118,
    "start_time": "2021-07-26T04:46:23.165Z"
   },
   {
    "duration": 325,
    "start_time": "2021-07-26T04:46:25.284Z"
   },
   {
    "duration": 15,
    "start_time": "2021-07-26T04:46:25.611Z"
   },
   {
    "duration": 48,
    "start_time": "2021-07-26T04:46:25.628Z"
   },
   {
    "duration": 72,
    "start_time": "2021-07-26T04:46:25.678Z"
   },
   {
    "duration": 35,
    "start_time": "2021-07-26T04:46:25.752Z"
   },
   {
    "duration": 25,
    "start_time": "2021-07-26T04:46:25.789Z"
   },
   {
    "duration": 46,
    "start_time": "2021-07-26T04:46:25.816Z"
   },
   {
    "duration": 50,
    "start_time": "2021-07-26T04:46:25.864Z"
   },
   {
    "duration": 3,
    "start_time": "2021-07-26T04:46:25.916Z"
   },
   {
    "duration": 683,
    "start_time": "2021-07-26T04:46:25.942Z"
   },
   {
    "duration": 47,
    "start_time": "2021-07-26T04:46:26.627Z"
   },
   {
    "duration": 91,
    "start_time": "2021-07-26T04:46:26.676Z"
   },
   {
    "duration": 93,
    "start_time": "2021-07-26T04:46:26.768Z"
   },
   {
    "duration": 37,
    "start_time": "2021-07-26T04:46:26.862Z"
   },
   {
    "duration": 3,
    "start_time": "2021-07-26T04:46:26.901Z"
   },
   {
    "duration": 36,
    "start_time": "2021-07-26T04:46:26.905Z"
   },
   {
    "duration": 121,
    "start_time": "2021-07-26T04:46:26.943Z"
   },
   {
    "duration": 36,
    "start_time": "2021-07-26T04:46:27.066Z"
   },
   {
    "duration": 237,
    "start_time": "2021-07-26T04:46:27.104Z"
   },
   {
    "duration": 4,
    "start_time": "2021-07-26T04:46:27.343Z"
   },
   {
    "duration": 13,
    "start_time": "2021-07-26T04:46:27.349Z"
   },
   {
    "duration": 6,
    "start_time": "2021-07-26T04:46:27.364Z"
   },
   {
    "duration": 11,
    "start_time": "2021-07-26T04:46:27.372Z"
   },
   {
    "duration": 9,
    "start_time": "2021-07-26T04:46:27.384Z"
   },
   {
    "duration": 7,
    "start_time": "2021-07-26T04:46:27.395Z"
   },
   {
    "duration": 43,
    "start_time": "2021-07-26T04:46:27.404Z"
   },
   {
    "duration": 4,
    "start_time": "2021-07-26T04:46:27.448Z"
   },
   {
    "duration": 8,
    "start_time": "2021-07-26T04:46:27.454Z"
   },
   {
    "duration": 3,
    "start_time": "2021-07-26T04:46:27.463Z"
   },
   {
    "duration": 5,
    "start_time": "2021-07-26T04:46:27.468Z"
   },
   {
    "duration": 6,
    "start_time": "2021-07-26T04:46:27.474Z"
   },
   {
    "duration": 4,
    "start_time": "2021-07-26T04:46:27.481Z"
   },
   {
    "duration": 411,
    "start_time": "2021-07-26T04:46:27.487Z"
   },
   {
    "duration": -4575,
    "start_time": "2021-07-26T04:46:32.474Z"
   },
   {
    "duration": -4577,
    "start_time": "2021-07-26T04:46:32.477Z"
   },
   {
    "duration": -4577,
    "start_time": "2021-07-26T04:46:32.478Z"
   },
   {
    "duration": 3,
    "start_time": "2021-07-26T04:48:26.435Z"
   },
   {
    "duration": 4,
    "start_time": "2021-07-26T04:52:17.282Z"
   },
   {
    "duration": 1390,
    "start_time": "2021-07-26T05:36:03.584Z"
   },
   {
    "duration": 459,
    "start_time": "2021-07-26T05:36:04.976Z"
   },
   {
    "duration": 4,
    "start_time": "2021-07-26T05:36:05.437Z"
   },
   {
    "duration": 145,
    "start_time": "2021-07-26T05:36:05.442Z"
   },
   {
    "duration": 3,
    "start_time": "2021-07-26T05:36:05.589Z"
   },
   {
    "duration": 29,
    "start_time": "2021-07-26T05:36:05.593Z"
   },
   {
    "duration": 58,
    "start_time": "2021-07-26T05:36:05.624Z"
   },
   {
    "duration": 7,
    "start_time": "2021-07-26T05:36:05.684Z"
   },
   {
    "duration": 14,
    "start_time": "2021-07-26T05:36:05.694Z"
   },
   {
    "duration": 15,
    "start_time": "2021-07-26T05:36:05.710Z"
   },
   {
    "duration": 15,
    "start_time": "2021-07-26T05:36:05.740Z"
   },
   {
    "duration": 16,
    "start_time": "2021-07-26T05:36:05.757Z"
   },
   {
    "duration": 18,
    "start_time": "2021-07-26T05:36:05.775Z"
   },
   {
    "duration": 250,
    "start_time": "2021-07-26T05:36:05.795Z"
   },
   {
    "duration": 4,
    "start_time": "2021-07-26T05:36:06.046Z"
   },
   {
    "duration": 22,
    "start_time": "2021-07-26T05:36:06.052Z"
   },
   {
    "duration": 2537,
    "start_time": "2021-07-26T05:36:06.076Z"
   },
   {
    "duration": 319,
    "start_time": "2021-07-26T05:36:08.615Z"
   },
   {
    "duration": 457,
    "start_time": "2021-07-26T05:36:08.936Z"
   },
   {
    "duration": 307,
    "start_time": "2021-07-26T05:36:09.395Z"
   },
   {
    "duration": 294,
    "start_time": "2021-07-26T05:36:09.704Z"
   },
   {
    "duration": 335,
    "start_time": "2021-07-26T05:36:10.000Z"
   },
   {
    "duration": 1393,
    "start_time": "2021-07-26T05:36:10.337Z"
   },
   {
    "duration": 1291,
    "start_time": "2021-07-26T05:36:11.732Z"
   },
   {
    "duration": 999,
    "start_time": "2021-07-26T05:36:13.025Z"
   },
   {
    "duration": 777,
    "start_time": "2021-07-26T05:36:14.025Z"
   },
   {
    "duration": 769,
    "start_time": "2021-07-26T05:36:14.805Z"
   },
   {
    "duration": 73,
    "start_time": "2021-07-26T05:36:15.576Z"
   },
   {
    "duration": 34,
    "start_time": "2021-07-26T05:36:15.651Z"
   },
   {
    "duration": 35,
    "start_time": "2021-07-26T05:36:15.741Z"
   },
   {
    "duration": 65,
    "start_time": "2021-07-26T05:36:15.778Z"
   },
   {
    "duration": 5,
    "start_time": "2021-07-26T05:36:15.845Z"
   },
   {
    "duration": 26,
    "start_time": "2021-07-26T05:36:15.852Z"
   },
   {
    "duration": 135,
    "start_time": "2021-07-26T05:36:15.880Z"
   },
   {
    "duration": 43,
    "start_time": "2021-07-26T05:36:16.017Z"
   },
   {
    "duration": 224,
    "start_time": "2021-07-26T05:36:16.062Z"
   },
   {
    "duration": 5,
    "start_time": "2021-07-26T05:36:16.288Z"
   },
   {
    "duration": 13,
    "start_time": "2021-07-26T05:36:16.295Z"
   },
   {
    "duration": 5,
    "start_time": "2021-07-26T05:36:16.310Z"
   },
   {
    "duration": 29,
    "start_time": "2021-07-26T05:36:16.316Z"
   },
   {
    "duration": 9,
    "start_time": "2021-07-26T05:36:16.347Z"
   },
   {
    "duration": 8,
    "start_time": "2021-07-26T05:36:16.358Z"
   },
   {
    "duration": 9,
    "start_time": "2021-07-26T05:36:16.367Z"
   },
   {
    "duration": 2,
    "start_time": "2021-07-26T05:36:16.377Z"
   },
   {
    "duration": 9,
    "start_time": "2021-07-26T05:36:16.381Z"
   },
   {
    "duration": 3,
    "start_time": "2021-07-26T05:36:16.391Z"
   },
   {
    "duration": 5,
    "start_time": "2021-07-26T05:36:16.395Z"
   },
   {
    "duration": 40,
    "start_time": "2021-07-26T05:36:16.402Z"
   },
   {
    "duration": 5,
    "start_time": "2021-07-26T05:36:16.443Z"
   },
   {
    "duration": 158,
    "start_time": "2021-07-26T06:36:31.080Z"
   },
   {
    "duration": 2532,
    "start_time": "2021-07-26T06:39:17.611Z"
   },
   {
    "duration": 502,
    "start_time": "2021-07-26T06:39:20.146Z"
   },
   {
    "duration": 13,
    "start_time": "2021-07-26T06:39:20.651Z"
   },
   {
    "duration": 239,
    "start_time": "2021-07-26T06:39:20.667Z"
   },
   {
    "duration": 5,
    "start_time": "2021-07-26T06:39:20.909Z"
   },
   {
    "duration": 53,
    "start_time": "2021-07-26T06:39:20.916Z"
   },
   {
    "duration": 92,
    "start_time": "2021-07-26T06:39:20.972Z"
   },
   {
    "duration": 10,
    "start_time": "2021-07-26T06:39:21.067Z"
   },
   {
    "duration": 18,
    "start_time": "2021-07-26T06:39:21.080Z"
   },
   {
    "duration": 21,
    "start_time": "2021-07-26T06:39:21.100Z"
   },
   {
    "duration": 25,
    "start_time": "2021-07-26T06:39:21.123Z"
   },
   {
    "duration": 20,
    "start_time": "2021-07-26T06:39:21.151Z"
   },
   {
    "duration": 28,
    "start_time": "2021-07-26T06:39:21.173Z"
   },
   {
    "duration": 416,
    "start_time": "2021-07-26T06:39:21.204Z"
   },
   {
    "duration": 6,
    "start_time": "2021-07-26T06:39:21.622Z"
   },
   {
    "duration": 34,
    "start_time": "2021-07-26T06:39:21.630Z"
   },
   {
    "duration": 1189,
    "start_time": "2021-07-26T06:39:21.666Z"
   },
   {
    "duration": 628,
    "start_time": "2021-07-26T06:39:22.859Z"
   },
   {
    "duration": 73,
    "start_time": "2021-07-26T06:39:23.489Z"
   },
   {
    "duration": 115,
    "start_time": "2021-07-26T06:39:23.565Z"
   },
   {
    "duration": 135,
    "start_time": "2021-07-26T06:39:23.683Z"
   },
   {
    "duration": 53,
    "start_time": "2021-07-26T06:39:23.821Z"
   },
   {
    "duration": 44,
    "start_time": "2021-07-26T06:39:23.880Z"
   },
   {
    "duration": 82,
    "start_time": "2021-07-26T06:39:23.928Z"
   },
   {
    "duration": 169,
    "start_time": "2021-07-26T06:39:24.012Z"
   },
   {
    "duration": 7,
    "start_time": "2021-07-26T06:39:24.183Z"
   },
   {
    "duration": 1162,
    "start_time": "2021-07-26T06:39:24.193Z"
   },
   {
    "duration": 107,
    "start_time": "2021-07-26T06:39:25.357Z"
   },
   {
    "duration": 113,
    "start_time": "2021-07-26T06:39:25.466Z"
   },
   {
    "duration": 88,
    "start_time": "2021-07-26T06:39:25.581Z"
   },
   {
    "duration": 96,
    "start_time": "2021-07-26T06:39:25.672Z"
   },
   {
    "duration": 7,
    "start_time": "2021-07-26T06:39:25.771Z"
   },
   {
    "duration": 37,
    "start_time": "2021-07-26T06:39:25.781Z"
   },
   {
    "duration": 230,
    "start_time": "2021-07-26T06:39:25.821Z"
   },
   {
    "duration": 54,
    "start_time": "2021-07-26T06:39:26.054Z"
   },
   {
    "duration": 362,
    "start_time": "2021-07-26T06:39:26.111Z"
   },
   {
    "duration": 6,
    "start_time": "2021-07-26T06:39:26.475Z"
   },
   {
    "duration": 28,
    "start_time": "2021-07-26T06:39:26.483Z"
   },
   {
    "duration": 8,
    "start_time": "2021-07-26T06:39:26.513Z"
   },
   {
    "duration": 42,
    "start_time": "2021-07-26T06:39:26.523Z"
   },
   {
    "duration": 23,
    "start_time": "2021-07-26T06:39:26.568Z"
   },
   {
    "duration": 12,
    "start_time": "2021-07-26T06:39:26.593Z"
   },
   {
    "duration": 15,
    "start_time": "2021-07-26T06:39:26.607Z"
   },
   {
    "duration": 5,
    "start_time": "2021-07-26T06:39:26.624Z"
   },
   {
    "duration": 39,
    "start_time": "2021-07-26T06:39:26.631Z"
   },
   {
    "duration": 5,
    "start_time": "2021-07-26T06:39:26.672Z"
   },
   {
    "duration": 10,
    "start_time": "2021-07-26T06:39:26.679Z"
   },
   {
    "duration": 8,
    "start_time": "2021-07-26T06:39:26.692Z"
   },
   {
    "duration": 13,
    "start_time": "2021-07-26T06:39:26.702Z"
   },
   {
    "duration": 1954,
    "start_time": "2021-07-26T19:30:16.180Z"
   },
   {
    "duration": 579,
    "start_time": "2021-07-26T19:30:18.137Z"
   },
   {
    "duration": 6,
    "start_time": "2021-07-26T19:30:18.720Z"
   },
   {
    "duration": 303,
    "start_time": "2021-07-26T19:30:18.730Z"
   },
   {
    "duration": 4,
    "start_time": "2021-07-26T19:30:19.037Z"
   },
   {
    "duration": 34,
    "start_time": "2021-07-26T19:30:19.044Z"
   },
   {
    "duration": 131,
    "start_time": "2021-07-26T19:30:19.081Z"
   },
   {
    "duration": 13,
    "start_time": "2021-07-26T19:30:19.217Z"
   },
   {
    "duration": 43,
    "start_time": "2021-07-26T19:30:19.234Z"
   },
   {
    "duration": 38,
    "start_time": "2021-07-26T19:30:19.280Z"
   },
   {
    "duration": 54,
    "start_time": "2021-07-26T19:30:19.321Z"
   },
   {
    "duration": 30,
    "start_time": "2021-07-26T19:30:19.378Z"
   },
   {
    "duration": 62,
    "start_time": "2021-07-26T19:30:19.411Z"
   },
   {
    "duration": 617,
    "start_time": "2021-07-26T19:30:19.477Z"
   },
   {
    "duration": 8,
    "start_time": "2021-07-26T19:30:20.097Z"
   },
   {
    "duration": 66,
    "start_time": "2021-07-26T19:30:20.108Z"
   },
   {
    "duration": 660,
    "start_time": "2021-07-26T19:30:20.177Z"
   },
   {
    "duration": 861,
    "start_time": "2021-07-26T19:30:20.840Z"
   },
   {
    "duration": 29,
    "start_time": "2021-07-26T19:30:21.704Z"
   },
   {
    "duration": 104,
    "start_time": "2021-07-26T19:30:21.736Z"
   },
   {
    "duration": 176,
    "start_time": "2021-07-26T19:30:21.843Z"
   },
   {
    "duration": 63,
    "start_time": "2021-07-26T19:30:22.021Z"
   },
   {
    "duration": 46,
    "start_time": "2021-07-26T19:30:22.092Z"
   },
   {
    "duration": 43,
    "start_time": "2021-07-26T19:30:22.162Z"
   },
   {
    "duration": 102,
    "start_time": "2021-07-26T19:30:22.208Z"
   },
   {
    "duration": 6,
    "start_time": "2021-07-26T19:30:22.313Z"
   },
   {
    "duration": 1093,
    "start_time": "2021-07-26T19:30:22.322Z"
   },
   {
    "duration": 76,
    "start_time": "2021-07-26T19:30:23.418Z"
   },
   {
    "duration": 106,
    "start_time": "2021-07-26T19:30:23.497Z"
   },
   {
    "duration": 129,
    "start_time": "2021-07-26T19:30:23.606Z"
   },
   {
    "duration": 97,
    "start_time": "2021-07-26T19:30:23.738Z"
   },
   {
    "duration": 7,
    "start_time": "2021-07-26T19:30:23.838Z"
   },
   {
    "duration": 37,
    "start_time": "2021-07-26T19:30:23.863Z"
   },
   {
    "duration": 223,
    "start_time": "2021-07-26T19:30:23.904Z"
   },
   {
    "duration": 67,
    "start_time": "2021-07-26T19:30:24.129Z"
   },
   {
    "duration": 339,
    "start_time": "2021-07-26T19:30:24.198Z"
   },
   {
    "duration": 5,
    "start_time": "2021-07-26T19:30:24.540Z"
   },
   {
    "duration": 25,
    "start_time": "2021-07-26T19:30:24.547Z"
   },
   {
    "duration": 8,
    "start_time": "2021-07-26T19:30:24.574Z"
   },
   {
    "duration": 17,
    "start_time": "2021-07-26T19:30:24.584Z"
   },
   {
    "duration": 15,
    "start_time": "2021-07-26T19:30:24.603Z"
   },
   {
    "duration": 45,
    "start_time": "2021-07-26T19:30:24.621Z"
   },
   {
    "duration": 19,
    "start_time": "2021-07-26T19:30:24.668Z"
   },
   {
    "duration": 8,
    "start_time": "2021-07-26T19:30:24.690Z"
   },
   {
    "duration": 17,
    "start_time": "2021-07-26T19:30:24.700Z"
   },
   {
    "duration": 5,
    "start_time": "2021-07-26T19:30:24.719Z"
   },
   {
    "duration": 37,
    "start_time": "2021-07-26T19:30:24.726Z"
   },
   {
    "duration": 6,
    "start_time": "2021-07-26T19:30:24.766Z"
   },
   {
    "duration": 9,
    "start_time": "2021-07-26T19:30:24.774Z"
   },
   {
    "duration": 17,
    "start_time": "2021-07-26T19:34:20.012Z"
   },
   {
    "duration": 22,
    "start_time": "2021-07-26T19:34:24.304Z"
   },
   {
    "duration": 11,
    "start_time": "2021-07-26T19:39:54.025Z"
   },
   {
    "duration": 7,
    "start_time": "2021-07-26T19:40:14.248Z"
   },
   {
    "duration": 82,
    "start_time": "2021-07-26T19:40:27.770Z"
   },
   {
    "duration": 57,
    "start_time": "2021-07-26T19:43:42.670Z"
   },
   {
    "duration": 78,
    "start_time": "2021-07-26T19:44:01.611Z"
   },
   {
    "duration": 81,
    "start_time": "2021-07-26T19:45:03.643Z"
   },
   {
    "duration": 9,
    "start_time": "2021-07-26T19:45:20.602Z"
   },
   {
    "duration": 437,
    "start_time": "2021-07-26T19:45:20.613Z"
   },
   {
    "duration": 6,
    "start_time": "2021-07-26T19:45:21.062Z"
   },
   {
    "duration": 305,
    "start_time": "2021-07-26T19:45:21.071Z"
   },
   {
    "duration": 10,
    "start_time": "2021-07-26T19:45:21.379Z"
   },
   {
    "duration": 45,
    "start_time": "2021-07-26T19:45:21.392Z"
   },
   {
    "duration": 123,
    "start_time": "2021-07-26T19:45:21.442Z"
   },
   {
    "duration": 12,
    "start_time": "2021-07-26T19:45:21.569Z"
   },
   {
    "duration": 25,
    "start_time": "2021-07-26T19:45:21.585Z"
   },
   {
    "duration": 61,
    "start_time": "2021-07-26T19:45:21.613Z"
   },
   {
    "duration": 30,
    "start_time": "2021-07-26T19:45:21.677Z"
   },
   {
    "duration": 53,
    "start_time": "2021-07-26T19:45:21.710Z"
   },
   {
    "duration": 43,
    "start_time": "2021-07-26T19:45:21.766Z"
   },
   {
    "duration": 628,
    "start_time": "2021-07-26T19:45:21.813Z"
   },
   {
    "duration": 6,
    "start_time": "2021-07-26T19:45:22.444Z"
   },
   {
    "duration": 42,
    "start_time": "2021-07-26T19:45:22.452Z"
   },
   {
    "duration": 75,
    "start_time": "2021-07-26T19:45:22.497Z"
   },
   {
    "duration": 586,
    "start_time": "2021-07-26T19:45:22.575Z"
   },
   {
    "duration": 18,
    "start_time": "2021-07-26T19:45:23.167Z"
   },
   {
    "duration": 79,
    "start_time": "2021-07-26T19:45:23.188Z"
   },
   {
    "duration": 256,
    "start_time": "2021-07-26T19:45:23.269Z"
   },
   {
    "duration": 65,
    "start_time": "2021-07-26T19:45:23.527Z"
   },
   {
    "duration": 39,
    "start_time": "2021-07-26T19:45:23.594Z"
   },
   {
    "duration": 61,
    "start_time": "2021-07-26T19:45:23.636Z"
   },
   {
    "duration": 112,
    "start_time": "2021-07-26T19:45:23.699Z"
   },
   {
    "duration": 6,
    "start_time": "2021-07-26T19:45:23.814Z"
   },
   {
    "duration": 360,
    "start_time": "2021-07-26T19:45:23.822Z"
   },
   {
    "duration": 50,
    "start_time": "2021-07-26T19:45:24.184Z"
   },
   {
    "duration": 79,
    "start_time": "2021-07-26T19:45:24.236Z"
   },
   {
    "duration": 81,
    "start_time": "2021-07-26T19:45:24.317Z"
   },
   {
    "duration": 66,
    "start_time": "2021-07-26T19:45:24.401Z"
   },
   {
    "duration": 5,
    "start_time": "2021-07-26T19:45:24.470Z"
   },
   {
    "duration": 28,
    "start_time": "2021-07-26T19:45:24.477Z"
   },
   {
    "duration": 234,
    "start_time": "2021-07-26T19:45:24.507Z"
   },
   {
    "duration": 55,
    "start_time": "2021-07-26T19:45:24.744Z"
   },
   {
    "duration": 343,
    "start_time": "2021-07-26T19:45:24.801Z"
   },
   {
    "duration": 5,
    "start_time": "2021-07-26T19:45:25.146Z"
   },
   {
    "duration": 19,
    "start_time": "2021-07-26T19:45:25.162Z"
   },
   {
    "duration": 8,
    "start_time": "2021-07-26T19:45:25.183Z"
   },
   {
    "duration": 17,
    "start_time": "2021-07-26T19:45:25.194Z"
   },
   {
    "duration": 49,
    "start_time": "2021-07-26T19:45:25.213Z"
   },
   {
    "duration": 12,
    "start_time": "2021-07-26T19:45:25.266Z"
   },
   {
    "duration": 13,
    "start_time": "2021-07-26T19:45:25.280Z"
   },
   {
    "duration": 6,
    "start_time": "2021-07-26T19:45:25.296Z"
   },
   {
    "duration": 6,
    "start_time": "2021-07-26T19:45:25.305Z"
   },
   {
    "duration": 49,
    "start_time": "2021-07-26T19:45:25.314Z"
   },
   {
    "duration": 5,
    "start_time": "2021-07-26T19:45:25.366Z"
   },
   {
    "duration": 7,
    "start_time": "2021-07-26T19:45:25.373Z"
   },
   {
    "duration": 7,
    "start_time": "2021-07-26T19:45:25.382Z"
   },
   {
    "duration": 81,
    "start_time": "2021-07-26T19:47:01.188Z"
   },
   {
    "duration": 80,
    "start_time": "2021-07-26T19:47:17.872Z"
   },
   {
    "duration": 80,
    "start_time": "2021-07-26T19:47:28.732Z"
   },
   {
    "duration": 97,
    "start_time": "2021-07-26T19:50:06.216Z"
   },
   {
    "duration": 9,
    "start_time": "2021-07-26T19:50:39.146Z"
   },
   {
    "duration": 534,
    "start_time": "2021-07-26T19:50:39.158Z"
   },
   {
    "duration": 6,
    "start_time": "2021-07-26T19:50:39.696Z"
   },
   {
    "duration": 210,
    "start_time": "2021-07-26T19:50:39.705Z"
   },
   {
    "duration": 9,
    "start_time": "2021-07-26T19:50:39.918Z"
   },
   {
    "duration": 40,
    "start_time": "2021-07-26T19:50:39.930Z"
   },
   {
    "duration": 93,
    "start_time": "2021-07-26T19:50:39.973Z"
   },
   {
    "duration": 11,
    "start_time": "2021-07-26T19:50:40.069Z"
   },
   {
    "duration": 19,
    "start_time": "2021-07-26T19:50:40.083Z"
   },
   {
    "duration": 24,
    "start_time": "2021-07-26T19:50:40.105Z"
   },
   {
    "duration": 51,
    "start_time": "2021-07-26T19:50:40.131Z"
   },
   {
    "duration": 21,
    "start_time": "2021-07-26T19:50:40.184Z"
   },
   {
    "duration": 54,
    "start_time": "2021-07-26T19:50:40.208Z"
   },
   {
    "duration": 403,
    "start_time": "2021-07-26T19:50:40.264Z"
   },
   {
    "duration": 6,
    "start_time": "2021-07-26T19:50:40.669Z"
   },
   {
    "duration": 54,
    "start_time": "2021-07-26T19:50:40.677Z"
   },
   {
    "duration": 48,
    "start_time": "2021-07-26T19:50:40.734Z"
   },
   {
    "duration": 589,
    "start_time": "2021-07-26T19:50:40.785Z"
   },
   {
    "duration": 18,
    "start_time": "2021-07-26T19:50:41.381Z"
   },
   {
    "duration": 77,
    "start_time": "2021-07-26T19:50:41.403Z"
   },
   {
    "duration": 103,
    "start_time": "2021-07-26T19:50:41.483Z"
   },
   {
    "duration": 49,
    "start_time": "2021-07-26T19:50:41.589Z"
   },
   {
    "duration": 50,
    "start_time": "2021-07-26T19:50:41.640Z"
   },
   {
    "duration": 42,
    "start_time": "2021-07-26T19:50:41.692Z"
   },
   {
    "duration": 81,
    "start_time": "2021-07-26T19:50:41.762Z"
   },
   {
    "duration": 18,
    "start_time": "2021-07-26T19:50:41.845Z"
   },
   {
    "duration": 500,
    "start_time": "2021-07-26T19:50:41.866Z"
   },
   {
    "duration": 54,
    "start_time": "2021-07-26T19:50:42.368Z"
   },
   {
    "duration": 113,
    "start_time": "2021-07-26T19:50:42.425Z"
   },
   {
    "duration": 109,
    "start_time": "2021-07-26T19:50:42.541Z"
   },
   {
    "duration": 110,
    "start_time": "2021-07-26T19:50:42.653Z"
   },
   {
    "duration": 6,
    "start_time": "2021-07-26T19:50:42.765Z"
   },
   {
    "duration": 27,
    "start_time": "2021-07-26T19:50:42.773Z"
   },
   {
    "duration": 224,
    "start_time": "2021-07-26T19:50:42.803Z"
   },
   {
    "duration": 64,
    "start_time": "2021-07-26T19:50:43.030Z"
   },
   {
    "duration": 328,
    "start_time": "2021-07-26T19:50:43.096Z"
   },
   {
    "duration": 6,
    "start_time": "2021-07-26T19:50:43.426Z"
   },
   {
    "duration": 33,
    "start_time": "2021-07-26T19:50:43.434Z"
   },
   {
    "duration": 8,
    "start_time": "2021-07-26T19:50:43.470Z"
   },
   {
    "duration": 18,
    "start_time": "2021-07-26T19:50:43.480Z"
   },
   {
    "duration": 20,
    "start_time": "2021-07-26T19:50:43.500Z"
   },
   {
    "duration": 39,
    "start_time": "2021-07-26T19:50:43.522Z"
   },
   {
    "duration": 12,
    "start_time": "2021-07-26T19:50:43.564Z"
   },
   {
    "duration": 5,
    "start_time": "2021-07-26T19:50:43.578Z"
   },
   {
    "duration": 10,
    "start_time": "2021-07-26T19:50:43.585Z"
   },
   {
    "duration": 9,
    "start_time": "2021-07-26T19:50:43.598Z"
   },
   {
    "duration": 9,
    "start_time": "2021-07-26T19:50:43.609Z"
   },
   {
    "duration": 44,
    "start_time": "2021-07-26T19:50:43.620Z"
   },
   {
    "duration": 7,
    "start_time": "2021-07-26T19:50:43.666Z"
   },
   {
    "duration": 1898,
    "start_time": "2021-07-26T19:53:08.284Z"
   },
   {
    "duration": 407,
    "start_time": "2021-07-26T19:53:10.185Z"
   },
   {
    "duration": 5,
    "start_time": "2021-07-26T19:53:10.594Z"
   },
   {
    "duration": 220,
    "start_time": "2021-07-26T19:53:10.602Z"
   },
   {
    "duration": 8,
    "start_time": "2021-07-26T19:53:10.825Z"
   },
   {
    "duration": 39,
    "start_time": "2021-07-26T19:53:10.837Z"
   },
   {
    "duration": 95,
    "start_time": "2021-07-26T19:53:10.879Z"
   },
   {
    "duration": 10,
    "start_time": "2021-07-26T19:53:10.977Z"
   },
   {
    "duration": 18,
    "start_time": "2021-07-26T19:53:10.992Z"
   },
   {
    "duration": 22,
    "start_time": "2021-07-26T19:53:11.013Z"
   },
   {
    "duration": 23,
    "start_time": "2021-07-26T19:53:11.061Z"
   },
   {
    "duration": 22,
    "start_time": "2021-07-26T19:53:11.086Z"
   },
   {
    "duration": 55,
    "start_time": "2021-07-26T19:53:11.111Z"
   },
   {
    "duration": 437,
    "start_time": "2021-07-26T19:53:11.168Z"
   },
   {
    "duration": 6,
    "start_time": "2021-07-26T19:53:11.608Z"
   },
   {
    "duration": 55,
    "start_time": "2021-07-26T19:53:11.617Z"
   },
   {
    "duration": 1384,
    "start_time": "2021-07-26T19:53:11.674Z"
   },
   {
    "duration": 559,
    "start_time": "2021-07-26T19:53:13.061Z"
   },
   {
    "duration": 21,
    "start_time": "2021-07-26T19:53:13.623Z"
   },
   {
    "duration": 70,
    "start_time": "2021-07-26T19:53:13.646Z"
   },
   {
    "duration": 112,
    "start_time": "2021-07-26T19:53:13.719Z"
   },
   {
    "duration": 59,
    "start_time": "2021-07-26T19:53:13.833Z"
   },
   {
    "duration": 36,
    "start_time": "2021-07-26T19:53:13.894Z"
   },
   {
    "duration": 59,
    "start_time": "2021-07-26T19:53:13.933Z"
   },
   {
    "duration": 102,
    "start_time": "2021-07-26T19:53:13.994Z"
   },
   {
    "duration": 7,
    "start_time": "2021-07-26T19:53:14.098Z"
   },
   {
    "duration": 1053,
    "start_time": "2021-07-26T19:53:14.110Z"
   },
   {
    "duration": 102,
    "start_time": "2021-07-26T19:53:15.166Z"
   },
   {
    "duration": 207,
    "start_time": "2021-07-26T19:53:15.271Z"
   },
   {
    "duration": 148,
    "start_time": "2021-07-26T19:53:15.480Z"
   },
   {
    "duration": 115,
    "start_time": "2021-07-26T19:53:15.631Z"
   },
   {
    "duration": 14,
    "start_time": "2021-07-26T19:53:15.749Z"
   },
   {
    "duration": 24,
    "start_time": "2021-07-26T19:53:15.765Z"
   },
   {
    "duration": 228,
    "start_time": "2021-07-26T19:53:15.792Z"
   },
   {
    "duration": 62,
    "start_time": "2021-07-26T19:53:16.022Z"
   },
   {
    "duration": 331,
    "start_time": "2021-07-26T19:53:16.087Z"
   },
   {
    "duration": 5,
    "start_time": "2021-07-26T19:53:16.420Z"
   },
   {
    "duration": 40,
    "start_time": "2021-07-26T19:53:16.427Z"
   },
   {
    "duration": 24,
    "start_time": "2021-07-26T19:53:16.470Z"
   },
   {
    "duration": 39,
    "start_time": "2021-07-26T19:53:16.496Z"
   },
   {
    "duration": 28,
    "start_time": "2021-07-26T19:53:16.537Z"
   },
   {
    "duration": 25,
    "start_time": "2021-07-26T19:53:16.567Z"
   },
   {
    "duration": 22,
    "start_time": "2021-07-26T19:53:16.595Z"
   },
   {
    "duration": 16,
    "start_time": "2021-07-26T19:53:16.619Z"
   },
   {
    "duration": 25,
    "start_time": "2021-07-26T19:53:16.638Z"
   },
   {
    "duration": 12,
    "start_time": "2021-07-26T19:53:16.665Z"
   },
   {
    "duration": 20,
    "start_time": "2021-07-26T19:53:16.679Z"
   },
   {
    "duration": 27,
    "start_time": "2021-07-26T19:53:16.701Z"
   },
   {
    "duration": 21,
    "start_time": "2021-07-26T19:53:16.730Z"
   },
   {
    "duration": 9,
    "start_time": "2021-07-26T19:57:14.936Z"
   },
   {
    "duration": 417,
    "start_time": "2021-07-26T19:57:14.948Z"
   },
   {
    "duration": 5,
    "start_time": "2021-07-26T19:57:15.369Z"
   },
   {
    "duration": 290,
    "start_time": "2021-07-26T19:57:15.378Z"
   },
   {
    "duration": 9,
    "start_time": "2021-07-26T19:57:15.671Z"
   },
   {
    "duration": 27,
    "start_time": "2021-07-26T19:57:15.683Z"
   },
   {
    "duration": 131,
    "start_time": "2021-07-26T19:57:15.713Z"
   },
   {
    "duration": 26,
    "start_time": "2021-07-26T19:57:15.850Z"
   },
   {
    "duration": 26,
    "start_time": "2021-07-26T19:57:15.880Z"
   },
   {
    "duration": 57,
    "start_time": "2021-07-26T19:57:15.909Z"
   },
   {
    "duration": 32,
    "start_time": "2021-07-26T19:57:15.969Z"
   },
   {
    "duration": 31,
    "start_time": "2021-07-26T19:57:16.004Z"
   },
   {
    "duration": 66,
    "start_time": "2021-07-26T19:57:16.038Z"
   },
   {
    "duration": 617,
    "start_time": "2021-07-26T19:57:16.107Z"
   },
   {
    "duration": 7,
    "start_time": "2021-07-26T19:57:16.727Z"
   },
   {
    "duration": 64,
    "start_time": "2021-07-26T19:57:16.737Z"
   },
   {
    "duration": 59,
    "start_time": "2021-07-26T19:57:16.804Z"
   },
   {
    "duration": 577,
    "start_time": "2021-07-26T19:57:16.866Z"
   },
   {
    "duration": 26,
    "start_time": "2021-07-26T19:57:17.446Z"
   },
   {
    "duration": 54,
    "start_time": "2021-07-26T19:57:17.475Z"
   },
   {
    "duration": 276,
    "start_time": "2021-07-26T19:57:17.531Z"
   },
   {
    "duration": 63,
    "start_time": "2021-07-26T19:57:17.809Z"
   },
   {
    "duration": 42,
    "start_time": "2021-07-26T19:57:17.877Z"
   },
   {
    "duration": 61,
    "start_time": "2021-07-26T19:57:17.922Z"
   },
   {
    "duration": 103,
    "start_time": "2021-07-26T19:57:17.986Z"
   },
   {
    "duration": 7,
    "start_time": "2021-07-26T19:57:18.091Z"
   },
   {
    "duration": 366,
    "start_time": "2021-07-26T19:57:18.100Z"
   },
   {
    "duration": 49,
    "start_time": "2021-07-26T19:57:18.469Z"
   },
   {
    "duration": 102,
    "start_time": "2021-07-26T19:57:18.520Z"
   },
   {
    "duration": 68,
    "start_time": "2021-07-26T19:57:18.625Z"
   },
   {
    "duration": 70,
    "start_time": "2021-07-26T19:57:18.695Z"
   },
   {
    "duration": 6,
    "start_time": "2021-07-26T19:57:18.767Z"
   },
   {
    "duration": 29,
    "start_time": "2021-07-26T19:57:18.776Z"
   },
   {
    "duration": 241,
    "start_time": "2021-07-26T19:57:18.808Z"
   },
   {
    "duration": 50,
    "start_time": "2021-07-26T19:57:19.061Z"
   },
   {
    "duration": 331,
    "start_time": "2021-07-26T19:57:19.113Z"
   },
   {
    "duration": 5,
    "start_time": "2021-07-26T19:57:19.446Z"
   },
   {
    "duration": 23,
    "start_time": "2021-07-26T19:57:19.454Z"
   },
   {
    "duration": 8,
    "start_time": "2021-07-26T19:57:19.479Z"
   },
   {
    "duration": 19,
    "start_time": "2021-07-26T19:57:19.489Z"
   },
   {
    "duration": 15,
    "start_time": "2021-07-26T19:57:19.510Z"
   },
   {
    "duration": 43,
    "start_time": "2021-07-26T19:57:19.527Z"
   },
   {
    "duration": 13,
    "start_time": "2021-07-26T19:57:19.573Z"
   },
   {
    "duration": 4,
    "start_time": "2021-07-26T19:57:19.589Z"
   },
   {
    "duration": 12,
    "start_time": "2021-07-26T19:57:19.595Z"
   },
   {
    "duration": 24,
    "start_time": "2021-07-26T19:57:19.609Z"
   },
   {
    "duration": 27,
    "start_time": "2021-07-26T19:57:19.635Z"
   },
   {
    "duration": 14,
    "start_time": "2021-07-26T19:57:19.665Z"
   },
   {
    "duration": 8,
    "start_time": "2021-07-26T19:57:19.681Z"
   },
   {
    "duration": 1898,
    "start_time": "2021-07-27T10:43:51.813Z"
   },
   {
    "duration": 512,
    "start_time": "2021-07-27T10:43:53.714Z"
   },
   {
    "duration": 4,
    "start_time": "2021-07-27T10:43:54.229Z"
   },
   {
    "duration": 210,
    "start_time": "2021-07-27T10:43:54.236Z"
   },
   {
    "duration": 8,
    "start_time": "2021-07-27T10:43:54.448Z"
   },
   {
    "duration": 37,
    "start_time": "2021-07-27T10:43:54.459Z"
   },
   {
    "duration": 87,
    "start_time": "2021-07-27T10:43:54.499Z"
   },
   {
    "duration": 11,
    "start_time": "2021-07-27T10:43:54.590Z"
   },
   {
    "duration": 17,
    "start_time": "2021-07-27T10:43:54.604Z"
   },
   {
    "duration": 29,
    "start_time": "2021-07-27T10:43:54.624Z"
   },
   {
    "duration": 53,
    "start_time": "2021-07-27T10:43:54.655Z"
   },
   {
    "duration": 19,
    "start_time": "2021-07-27T10:43:54.711Z"
   },
   {
    "duration": 53,
    "start_time": "2021-07-27T10:43:54.733Z"
   },
   {
    "duration": 487,
    "start_time": "2021-07-27T10:43:54.789Z"
   },
   {
    "duration": 10,
    "start_time": "2021-07-27T10:43:55.278Z"
   },
   {
    "duration": 33,
    "start_time": "2021-07-27T10:43:55.291Z"
   },
   {
    "duration": 1483,
    "start_time": "2021-07-27T10:43:55.327Z"
   },
   {
    "duration": 543,
    "start_time": "2021-07-27T10:43:56.812Z"
   },
   {
    "duration": 31,
    "start_time": "2021-07-27T10:43:57.358Z"
   },
   {
    "duration": 56,
    "start_time": "2021-07-27T10:43:57.391Z"
   },
   {
    "duration": 106,
    "start_time": "2021-07-27T10:43:57.450Z"
   },
   {
    "duration": 65,
    "start_time": "2021-07-27T10:43:57.559Z"
   },
   {
    "duration": 35,
    "start_time": "2021-07-27T10:43:57.629Z"
   },
   {
    "duration": 56,
    "start_time": "2021-07-27T10:43:57.668Z"
   },
   {
    "duration": 101,
    "start_time": "2021-07-27T10:43:57.726Z"
   },
   {
    "duration": 7,
    "start_time": "2021-07-27T10:43:57.829Z"
   },
   {
    "duration": 1009,
    "start_time": "2021-07-27T10:43:57.838Z"
   },
   {
    "duration": 72,
    "start_time": "2021-07-27T10:43:58.850Z"
   },
   {
    "duration": 77,
    "start_time": "2021-07-27T10:43:58.924Z"
   },
   {
    "duration": 126,
    "start_time": "2021-07-27T10:43:59.003Z"
   },
   {
    "duration": 55,
    "start_time": "2021-07-27T10:43:59.185Z"
   },
   {
    "duration": 83,
    "start_time": "2021-07-27T10:43:59.242Z"
   },
   {
    "duration": 6,
    "start_time": "2021-07-27T10:43:59.327Z"
   },
   {
    "duration": 25,
    "start_time": "2021-07-27T10:43:59.335Z"
   },
   {
    "duration": 227,
    "start_time": "2021-07-27T10:43:59.362Z"
   },
   {
    "duration": 44,
    "start_time": "2021-07-27T10:43:59.592Z"
   },
   {
    "duration": 347,
    "start_time": "2021-07-27T10:43:59.639Z"
   },
   {
    "duration": 5,
    "start_time": "2021-07-27T10:43:59.989Z"
   },
   {
    "duration": 26,
    "start_time": "2021-07-27T10:43:59.996Z"
   },
   {
    "duration": 13,
    "start_time": "2021-07-27T10:44:00.025Z"
   },
   {
    "duration": 21,
    "start_time": "2021-07-27T10:44:00.041Z"
   },
   {
    "duration": 12,
    "start_time": "2021-07-27T10:44:00.086Z"
   },
   {
    "duration": 27,
    "start_time": "2021-07-27T10:44:00.100Z"
   },
   {
    "duration": 15,
    "start_time": "2021-07-27T10:44:00.129Z"
   },
   {
    "duration": 11,
    "start_time": "2021-07-27T10:44:00.146Z"
   },
   {
    "duration": 29,
    "start_time": "2021-07-27T10:44:00.159Z"
   },
   {
    "duration": 6,
    "start_time": "2021-07-27T10:44:00.190Z"
   },
   {
    "duration": 16,
    "start_time": "2021-07-27T10:44:00.199Z"
   },
   {
    "duration": 13,
    "start_time": "2021-07-27T10:44:00.218Z"
   },
   {
    "duration": 9,
    "start_time": "2021-07-27T10:44:00.234Z"
   },
   {
    "duration": 718,
    "start_time": "2021-07-27T10:45:28.064Z"
   },
   {
    "duration": 6,
    "start_time": "2021-07-27T10:46:03.274Z"
   },
   {
    "duration": 6,
    "start_time": "2021-07-27T10:46:22.911Z"
   },
   {
    "duration": 6,
    "start_time": "2021-07-27T10:46:41.755Z"
   },
   {
    "duration": 7,
    "start_time": "2021-07-27T10:46:47.002Z"
   },
   {
    "duration": 60,
    "start_time": "2021-07-27T10:47:05.500Z"
   },
   {
    "duration": 56,
    "start_time": "2021-07-27T10:47:42.073Z"
   },
   {
    "duration": 53,
    "start_time": "2021-07-27T10:49:06.328Z"
   },
   {
    "duration": 1015,
    "start_time": "2021-07-27T10:49:24.713Z"
   },
   {
    "duration": 3,
    "start_time": "2021-07-27T10:49:34.723Z"
   },
   {
    "duration": 52,
    "start_time": "2021-07-27T10:49:44.951Z"
   },
   {
    "duration": 6,
    "start_time": "2021-07-27T10:50:41.182Z"
   },
   {
    "duration": 58,
    "start_time": "2021-07-27T10:50:52.393Z"
   },
   {
    "duration": 7,
    "start_time": "2021-07-27T10:51:04.092Z"
   },
   {
    "duration": 6,
    "start_time": "2021-07-27T10:51:14.673Z"
   },
   {
    "duration": 8,
    "start_time": "2021-07-27T10:51:19.030Z"
   },
   {
    "duration": 7,
    "start_time": "2021-07-27T10:51:32.722Z"
   },
   {
    "duration": 6,
    "start_time": "2021-07-27T10:51:45.312Z"
   },
   {
    "duration": 55,
    "start_time": "2021-07-27T10:51:57.088Z"
   },
   {
    "duration": 7,
    "start_time": "2021-07-27T10:52:09.462Z"
   },
   {
    "duration": 6,
    "start_time": "2021-07-27T10:52:22.611Z"
   },
   {
    "duration": 7,
    "start_time": "2021-07-27T10:52:26.983Z"
   },
   {
    "duration": 6,
    "start_time": "2021-07-27T10:52:38.011Z"
   },
   {
    "duration": 7,
    "start_time": "2021-07-27T10:52:45.718Z"
   },
   {
    "duration": 7,
    "start_time": "2021-07-27T10:52:52.036Z"
   },
   {
    "duration": 7,
    "start_time": "2021-07-27T10:53:03.991Z"
   },
   {
    "duration": 55,
    "start_time": "2021-07-27T10:53:16.944Z"
   },
   {
    "duration": 6,
    "start_time": "2021-07-27T10:53:34.298Z"
   },
   {
    "duration": 7,
    "start_time": "2021-07-27T10:53:38.995Z"
   },
   {
    "duration": 6,
    "start_time": "2021-07-27T10:53:49.459Z"
   },
   {
    "duration": 56,
    "start_time": "2021-07-27T10:54:03.810Z"
   },
   {
    "duration": 9,
    "start_time": "2021-07-27T10:54:12.886Z"
   },
   {
    "duration": 603,
    "start_time": "2021-07-27T10:54:12.898Z"
   },
   {
    "duration": 4,
    "start_time": "2021-07-27T10:54:13.504Z"
   },
   {
    "duration": 216,
    "start_time": "2021-07-27T10:54:13.511Z"
   },
   {
    "duration": 8,
    "start_time": "2021-07-27T10:54:13.729Z"
   },
   {
    "duration": 19,
    "start_time": "2021-07-27T10:54:13.740Z"
   },
   {
    "duration": 96,
    "start_time": "2021-07-27T10:54:13.763Z"
   },
   {
    "duration": 23,
    "start_time": "2021-07-27T10:54:13.862Z"
   },
   {
    "duration": 17,
    "start_time": "2021-07-27T10:54:13.888Z"
   },
   {
    "duration": 26,
    "start_time": "2021-07-27T10:54:13.908Z"
   },
   {
    "duration": 51,
    "start_time": "2021-07-27T10:54:13.937Z"
   },
   {
    "duration": 23,
    "start_time": "2021-07-27T10:54:13.991Z"
   },
   {
    "duration": 28,
    "start_time": "2021-07-27T10:54:14.017Z"
   },
   {
    "duration": 412,
    "start_time": "2021-07-27T10:54:14.047Z"
   },
   {
    "duration": 5,
    "start_time": "2021-07-27T10:54:14.462Z"
   },
   {
    "duration": 39,
    "start_time": "2021-07-27T10:54:14.469Z"
   },
   {
    "duration": 43,
    "start_time": "2021-07-27T10:54:14.511Z"
   },
   {
    "duration": 575,
    "start_time": "2021-07-27T10:54:14.557Z"
   },
   {
    "duration": 18,
    "start_time": "2021-07-27T10:54:15.139Z"
   },
   {
    "duration": 74,
    "start_time": "2021-07-27T10:54:15.161Z"
   },
   {
    "duration": 249,
    "start_time": "2021-07-27T10:54:15.238Z"
   },
   {
    "duration": 50,
    "start_time": "2021-07-27T10:54:15.490Z"
   },
   {
    "duration": 67,
    "start_time": "2021-07-27T10:54:15.543Z"
   },
   {
    "duration": 45,
    "start_time": "2021-07-27T10:54:15.613Z"
   },
   {
    "duration": 80,
    "start_time": "2021-07-27T10:54:15.685Z"
   },
   {
    "duration": 18,
    "start_time": "2021-07-27T10:54:15.768Z"
   },
   {
    "duration": 367,
    "start_time": "2021-07-27T10:54:15.789Z"
   },
   {
    "duration": 66,
    "start_time": "2021-07-27T10:54:16.159Z"
   },
   {
    "duration": 7,
    "start_time": "2021-07-27T10:54:16.228Z"
   },
   {
    "duration": 81,
    "start_time": "2021-07-27T10:54:16.237Z"
   },
   {
    "duration": 66,
    "start_time": "2021-07-27T10:54:16.321Z"
   },
   {
    "duration": 54,
    "start_time": "2021-07-27T10:54:16.390Z"
   },
   {
    "duration": 5,
    "start_time": "2021-07-27T10:54:16.446Z"
   },
   {
    "duration": 53,
    "start_time": "2021-07-27T10:54:16.453Z"
   },
   {
    "duration": 226,
    "start_time": "2021-07-27T10:54:16.508Z"
   },
   {
    "duration": 63,
    "start_time": "2021-07-27T10:54:16.736Z"
   },
   {
    "duration": 323,
    "start_time": "2021-07-27T10:54:16.802Z"
   },
   {
    "duration": 5,
    "start_time": "2021-07-27T10:54:17.127Z"
   },
   {
    "duration": 21,
    "start_time": "2021-07-27T10:54:17.135Z"
   },
   {
    "duration": 10,
    "start_time": "2021-07-27T10:54:17.185Z"
   },
   {
    "duration": 17,
    "start_time": "2021-07-27T10:54:17.197Z"
   },
   {
    "duration": 10,
    "start_time": "2021-07-27T10:54:17.216Z"
   },
   {
    "duration": 19,
    "start_time": "2021-07-27T10:54:17.228Z"
   },
   {
    "duration": 44,
    "start_time": "2021-07-27T10:54:17.250Z"
   },
   {
    "duration": 7,
    "start_time": "2021-07-27T10:54:17.297Z"
   },
   {
    "duration": 8,
    "start_time": "2021-07-27T10:54:17.306Z"
   },
   {
    "duration": 10,
    "start_time": "2021-07-27T10:54:17.316Z"
   },
   {
    "duration": 9,
    "start_time": "2021-07-27T10:54:17.328Z"
   },
   {
    "duration": 6,
    "start_time": "2021-07-27T10:54:17.385Z"
   },
   {
    "duration": 9,
    "start_time": "2021-07-27T10:54:17.394Z"
   },
   {
    "duration": 326,
    "start_time": "2021-07-27T11:07:20.438Z"
   },
   {
    "duration": 328,
    "start_time": "2021-07-27T11:07:40.152Z"
   },
   {
    "duration": 5,
    "start_time": "2021-07-27T11:07:40.486Z"
   },
   {
    "duration": 25,
    "start_time": "2021-07-27T11:07:40.494Z"
   },
   {
    "duration": 7,
    "start_time": "2021-07-27T11:07:40.522Z"
   },
   {
    "duration": 19,
    "start_time": "2021-07-27T11:07:40.531Z"
   },
   {
    "duration": 41,
    "start_time": "2021-07-27T11:07:40.553Z"
   },
   {
    "duration": 17,
    "start_time": "2021-07-27T11:07:40.596Z"
   },
   {
    "duration": 15,
    "start_time": "2021-07-27T11:07:40.615Z"
   },
   {
    "duration": 5,
    "start_time": "2021-07-27T11:07:40.633Z"
   },
   {
    "duration": 46,
    "start_time": "2021-07-27T11:07:40.640Z"
   },
   {
    "duration": 10,
    "start_time": "2021-07-27T11:07:40.688Z"
   },
   {
    "duration": 7,
    "start_time": "2021-07-27T11:07:40.700Z"
   },
   {
    "duration": 11,
    "start_time": "2021-07-27T11:07:40.709Z"
   },
   {
    "duration": 12,
    "start_time": "2021-07-27T11:07:40.722Z"
   },
   {
    "duration": 10,
    "start_time": "2021-07-27T11:11:46.652Z"
   },
   {
    "duration": 608,
    "start_time": "2021-07-27T11:11:46.832Z"
   },
   {
    "duration": 5,
    "start_time": "2021-07-27T11:11:47.442Z"
   },
   {
    "duration": 217,
    "start_time": "2021-07-27T11:11:47.450Z"
   },
   {
    "duration": 16,
    "start_time": "2021-07-27T11:11:47.670Z"
   },
   {
    "duration": 17,
    "start_time": "2021-07-27T11:11:47.689Z"
   },
   {
    "duration": 105,
    "start_time": "2021-07-27T11:11:47.708Z"
   },
   {
    "duration": 13,
    "start_time": "2021-07-27T11:11:47.816Z"
   },
   {
    "duration": 28,
    "start_time": "2021-07-27T11:11:47.833Z"
   },
   {
    "duration": 39,
    "start_time": "2021-07-27T11:11:47.891Z"
   },
   {
    "duration": 53,
    "start_time": "2021-07-27T11:11:47.934Z"
   },
   {
    "duration": 24,
    "start_time": "2021-07-27T11:11:47.990Z"
   },
   {
    "duration": 28,
    "start_time": "2021-07-27T11:11:48.017Z"
   },
   {
    "duration": 532,
    "start_time": "2021-07-27T11:11:48.047Z"
   },
   {
    "duration": 5,
    "start_time": "2021-07-27T11:11:48.586Z"
   },
   {
    "duration": 40,
    "start_time": "2021-07-27T11:11:48.594Z"
   },
   {
    "duration": 63,
    "start_time": "2021-07-27T11:11:48.637Z"
   },
   {
    "duration": 1050,
    "start_time": "2021-07-27T11:11:48.703Z"
   },
   {
    "duration": 36,
    "start_time": "2021-07-27T11:11:49.756Z"
   },
   {
    "duration": 55,
    "start_time": "2021-07-27T11:11:49.795Z"
   },
   {
    "duration": 116,
    "start_time": "2021-07-27T11:11:49.853Z"
   },
   {
    "duration": 68,
    "start_time": "2021-07-27T11:11:49.971Z"
   },
   {
    "duration": 65,
    "start_time": "2021-07-27T11:11:50.042Z"
   },
   {
    "duration": 44,
    "start_time": "2021-07-27T11:11:50.110Z"
   },
   {
    "duration": 106,
    "start_time": "2021-07-27T11:11:50.156Z"
   },
   {
    "duration": 22,
    "start_time": "2021-07-27T11:11:50.264Z"
   },
   {
    "duration": 547,
    "start_time": "2021-07-27T11:11:50.288Z"
   },
   {
    "duration": 61,
    "start_time": "2021-07-27T11:11:50.840Z"
   },
   {
    "duration": 7,
    "start_time": "2021-07-27T11:11:50.903Z"
   },
   {
    "duration": 80,
    "start_time": "2021-07-27T11:11:50.912Z"
   },
   {
    "duration": 52,
    "start_time": "2021-07-27T11:11:50.995Z"
   },
   {
    "duration": 79,
    "start_time": "2021-07-27T11:11:51.049Z"
   },
   {
    "duration": 5,
    "start_time": "2021-07-27T11:11:51.130Z"
   },
   {
    "duration": 47,
    "start_time": "2021-07-27T11:11:51.137Z"
   },
   {
    "duration": 221,
    "start_time": "2021-07-27T11:11:51.187Z"
   },
   {
    "duration": 48,
    "start_time": "2021-07-27T11:11:51.410Z"
   },
   {
    "duration": 351,
    "start_time": "2021-07-27T11:11:51.461Z"
   },
   {
    "duration": 6,
    "start_time": "2021-07-27T11:11:51.814Z"
   },
   {
    "duration": 39,
    "start_time": "2021-07-27T11:11:51.822Z"
   },
   {
    "duration": 56,
    "start_time": "2021-07-27T11:11:51.863Z"
   },
   {
    "duration": 25,
    "start_time": "2021-07-27T11:11:51.921Z"
   },
   {
    "duration": 24,
    "start_time": "2021-07-27T11:11:51.949Z"
   },
   {
    "duration": 16,
    "start_time": "2021-07-27T11:11:51.975Z"
   },
   {
    "duration": 19,
    "start_time": "2021-07-27T11:11:51.993Z"
   },
   {
    "duration": 26,
    "start_time": "2021-07-27T11:11:52.015Z"
   },
   {
    "duration": 10,
    "start_time": "2021-07-27T11:11:52.044Z"
   },
   {
    "duration": 17,
    "start_time": "2021-07-27T11:11:52.057Z"
   },
   {
    "duration": 13,
    "start_time": "2021-07-27T11:11:52.077Z"
   },
   {
    "duration": 20,
    "start_time": "2021-07-27T11:11:52.092Z"
   },
   {
    "duration": 15,
    "start_time": "2021-07-27T11:11:52.114Z"
   },
   {
    "duration": 8,
    "start_time": "2021-07-27T11:12:59.174Z"
   },
   {
    "duration": 417,
    "start_time": "2021-07-27T11:12:59.334Z"
   },
   {
    "duration": 4,
    "start_time": "2021-07-27T11:12:59.754Z"
   },
   {
    "duration": 201,
    "start_time": "2021-07-27T11:12:59.762Z"
   },
   {
    "duration": 20,
    "start_time": "2021-07-27T11:12:59.966Z"
   },
   {
    "duration": 17,
    "start_time": "2021-07-27T11:12:59.989Z"
   },
   {
    "duration": 108,
    "start_time": "2021-07-27T11:13:00.008Z"
   },
   {
    "duration": 10,
    "start_time": "2021-07-27T11:13:00.118Z"
   },
   {
    "duration": 21,
    "start_time": "2021-07-27T11:13:00.131Z"
   },
   {
    "duration": 43,
    "start_time": "2021-07-27T11:13:00.156Z"
   },
   {
    "duration": 21,
    "start_time": "2021-07-27T11:13:00.201Z"
   },
   {
    "duration": 34,
    "start_time": "2021-07-27T11:13:00.224Z"
   },
   {
    "duration": 44,
    "start_time": "2021-07-27T11:13:00.260Z"
   },
   {
    "duration": 422,
    "start_time": "2021-07-27T11:13:00.306Z"
   },
   {
    "duration": 5,
    "start_time": "2021-07-27T11:13:00.730Z"
   },
   {
    "duration": 49,
    "start_time": "2021-07-27T11:13:00.737Z"
   },
   {
    "duration": 39,
    "start_time": "2021-07-27T11:13:00.788Z"
   },
   {
    "duration": 664,
    "start_time": "2021-07-27T11:13:00.830Z"
   },
   {
    "duration": 17,
    "start_time": "2021-07-27T11:13:01.497Z"
   },
   {
    "duration": 72,
    "start_time": "2021-07-27T11:13:01.517Z"
   },
   {
    "duration": 103,
    "start_time": "2021-07-27T11:13:01.591Z"
   },
   {
    "duration": 48,
    "start_time": "2021-07-27T11:13:01.696Z"
   },
   {
    "duration": 65,
    "start_time": "2021-07-27T11:13:01.746Z"
   },
   {
    "duration": 45,
    "start_time": "2021-07-27T11:13:01.814Z"
   },
   {
    "duration": 126,
    "start_time": "2021-07-27T11:13:01.862Z"
   },
   {
    "duration": 6,
    "start_time": "2021-07-27T11:13:01.991Z"
   },
   {
    "duration": 548,
    "start_time": "2021-07-27T11:13:01.999Z"
   },
   {
    "duration": 62,
    "start_time": "2021-07-27T11:13:02.553Z"
   },
   {
    "duration": 17,
    "start_time": "2021-07-27T11:13:02.618Z"
   },
   {
    "duration": 110,
    "start_time": "2021-07-27T11:13:02.638Z"
   },
   {
    "duration": 60,
    "start_time": "2021-07-27T11:13:02.750Z"
   },
   {
    "duration": 58,
    "start_time": "2021-07-27T11:13:02.812Z"
   },
   {
    "duration": 6,
    "start_time": "2021-07-27T11:13:02.886Z"
   },
   {
    "duration": 53,
    "start_time": "2021-07-27T11:13:02.894Z"
   },
   {
    "duration": 224,
    "start_time": "2021-07-27T11:13:02.949Z"
   },
   {
    "duration": 53,
    "start_time": "2021-07-27T11:13:03.175Z"
   },
   {
    "duration": 330,
    "start_time": "2021-07-27T11:13:03.230Z"
   },
   {
    "duration": 6,
    "start_time": "2021-07-27T11:13:03.562Z"
   },
   {
    "duration": 49,
    "start_time": "2021-07-27T11:13:03.570Z"
   },
   {
    "duration": 36,
    "start_time": "2021-07-27T11:13:03.621Z"
   },
   {
    "duration": 50,
    "start_time": "2021-07-27T11:13:03.659Z"
   },
   {
    "duration": 70,
    "start_time": "2021-07-27T11:13:03.711Z"
   },
   {
    "duration": 242,
    "start_time": "2021-07-27T11:13:03.783Z"
   },
   {
    "duration": 33,
    "start_time": "2021-07-27T11:13:04.027Z"
   },
   {
    "duration": 21,
    "start_time": "2021-07-27T11:13:04.062Z"
   },
   {
    "duration": 36,
    "start_time": "2021-07-27T11:13:04.086Z"
   },
   {
    "duration": 49,
    "start_time": "2021-07-27T11:13:04.125Z"
   },
   {
    "duration": 41,
    "start_time": "2021-07-27T11:13:04.177Z"
   },
   {
    "duration": 28,
    "start_time": "2021-07-27T11:13:04.220Z"
   },
   {
    "duration": 47,
    "start_time": "2021-07-27T11:13:04.250Z"
   },
   {
    "duration": 9,
    "start_time": "2021-07-27T11:22:05.705Z"
   },
   {
    "duration": 376,
    "start_time": "2021-07-27T11:22:05.795Z"
   },
   {
    "duration": 5,
    "start_time": "2021-07-27T11:22:06.173Z"
   },
   {
    "duration": 208,
    "start_time": "2021-07-27T11:22:06.185Z"
   },
   {
    "duration": 8,
    "start_time": "2021-07-27T11:22:06.395Z"
   },
   {
    "duration": 27,
    "start_time": "2021-07-27T11:22:06.405Z"
   },
   {
    "duration": 99,
    "start_time": "2021-07-27T11:22:06.435Z"
   },
   {
    "duration": 10,
    "start_time": "2021-07-27T11:22:06.536Z"
   },
   {
    "duration": 17,
    "start_time": "2021-07-27T11:22:06.549Z"
   },
   {
    "duration": 22,
    "start_time": "2021-07-27T11:22:06.588Z"
   },
   {
    "duration": 21,
    "start_time": "2021-07-27T11:22:06.613Z"
   },
   {
    "duration": 54,
    "start_time": "2021-07-27T11:22:06.636Z"
   },
   {
    "duration": 26,
    "start_time": "2021-07-27T11:22:06.692Z"
   },
   {
    "duration": 407,
    "start_time": "2021-07-27T11:22:06.721Z"
   },
   {
    "duration": 6,
    "start_time": "2021-07-27T11:22:07.131Z"
   },
   {
    "duration": 52,
    "start_time": "2021-07-27T11:22:07.140Z"
   },
   {
    "duration": 43,
    "start_time": "2021-07-27T11:22:07.195Z"
   },
   {
    "duration": 565,
    "start_time": "2021-07-27T11:22:07.240Z"
   },
   {
    "duration": 17,
    "start_time": "2021-07-27T11:22:07.807Z"
   },
   {
    "duration": 74,
    "start_time": "2021-07-27T11:22:07.826Z"
   },
   {
    "duration": 107,
    "start_time": "2021-07-27T11:22:07.902Z"
   },
   {
    "duration": 50,
    "start_time": "2021-07-27T11:22:08.011Z"
   },
   {
    "duration": 49,
    "start_time": "2021-07-27T11:22:08.063Z"
   },
   {
    "duration": 43,
    "start_time": "2021-07-27T11:22:08.114Z"
   },
   {
    "duration": 79,
    "start_time": "2021-07-27T11:22:08.186Z"
   },
   {
    "duration": 20,
    "start_time": "2021-07-27T11:22:08.267Z"
   },
   {
    "duration": 497,
    "start_time": "2021-07-27T11:22:08.289Z"
   },
   {
    "duration": 52,
    "start_time": "2021-07-27T11:22:08.794Z"
   },
   {
    "duration": 6,
    "start_time": "2021-07-27T11:22:08.850Z"
   },
   {
    "duration": 58,
    "start_time": "2021-07-27T11:22:08.886Z"
   },
   {
    "duration": 81,
    "start_time": "2021-07-27T11:22:08.946Z"
   },
   {
    "duration": 70,
    "start_time": "2021-07-27T11:22:09.030Z"
   },
   {
    "duration": 6,
    "start_time": "2021-07-27T11:22:09.102Z"
   },
   {
    "duration": 27,
    "start_time": "2021-07-27T11:22:09.110Z"
   },
   {
    "duration": 233,
    "start_time": "2021-07-27T11:22:09.140Z"
   },
   {
    "duration": 56,
    "start_time": "2021-07-27T11:22:09.376Z"
   },
   {
    "duration": 336,
    "start_time": "2021-07-27T11:22:09.434Z"
   },
   {
    "duration": 12,
    "start_time": "2021-07-27T11:22:09.773Z"
   },
   {
    "duration": 19,
    "start_time": "2021-07-27T11:22:09.788Z"
   },
   {
    "duration": 8,
    "start_time": "2021-07-27T11:22:09.810Z"
   },
   {
    "duration": 20,
    "start_time": "2021-07-27T11:22:09.821Z"
   },
   {
    "duration": 48,
    "start_time": "2021-07-27T11:22:09.843Z"
   },
   {
    "duration": 13,
    "start_time": "2021-07-27T11:22:09.894Z"
   },
   {
    "duration": 14,
    "start_time": "2021-07-27T11:22:09.909Z"
   },
   {
    "duration": 4,
    "start_time": "2021-07-27T11:22:09.926Z"
   },
   {
    "duration": 9,
    "start_time": "2021-07-27T11:22:09.932Z"
   },
   {
    "duration": 44,
    "start_time": "2021-07-27T11:22:09.943Z"
   },
   {
    "duration": 9,
    "start_time": "2021-07-27T11:22:09.990Z"
   },
   {
    "duration": 10,
    "start_time": "2021-07-27T11:22:10.002Z"
   },
   {
    "duration": 14,
    "start_time": "2021-07-27T11:22:10.014Z"
   },
   {
    "duration": 4,
    "start_time": "2021-07-27T11:28:13.733Z"
   },
   {
    "duration": 8,
    "start_time": "2021-07-27T11:28:13.740Z"
   },
   {
    "duration": 9,
    "start_time": "2021-07-27T11:28:13.751Z"
   },
   {
    "duration": 6,
    "start_time": "2021-07-27T11:28:13.763Z"
   },
   {
    "duration": 6,
    "start_time": "2021-07-27T11:28:13.772Z"
   },
   {
    "duration": 9,
    "start_time": "2021-07-27T11:28:13.781Z"
   },
   {
    "duration": 9,
    "start_time": "2021-07-27T11:28:16.782Z"
   },
   {
    "duration": 474,
    "start_time": "2021-07-27T11:28:16.794Z"
   },
   {
    "duration": 5,
    "start_time": "2021-07-27T11:28:17.271Z"
   },
   {
    "duration": 207,
    "start_time": "2021-07-27T11:28:17.285Z"
   },
   {
    "duration": 9,
    "start_time": "2021-07-27T11:28:17.494Z"
   },
   {
    "duration": 26,
    "start_time": "2021-07-27T11:28:17.506Z"
   },
   {
    "duration": 96,
    "start_time": "2021-07-27T11:28:17.535Z"
   },
   {
    "duration": 10,
    "start_time": "2021-07-27T11:28:17.635Z"
   },
   {
    "duration": 39,
    "start_time": "2021-07-27T11:28:17.648Z"
   },
   {
    "duration": 32,
    "start_time": "2021-07-27T11:28:17.690Z"
   },
   {
    "duration": 28,
    "start_time": "2021-07-27T11:28:17.725Z"
   },
   {
    "duration": 54,
    "start_time": "2021-07-27T11:28:17.756Z"
   },
   {
    "duration": 29,
    "start_time": "2021-07-27T11:28:17.813Z"
   },
   {
    "duration": 443,
    "start_time": "2021-07-27T11:28:17.845Z"
   },
   {
    "duration": 6,
    "start_time": "2021-07-27T11:28:18.291Z"
   },
   {
    "duration": 51,
    "start_time": "2021-07-27T11:28:18.299Z"
   },
   {
    "duration": 48,
    "start_time": "2021-07-27T11:28:18.352Z"
   },
   {
    "duration": 571,
    "start_time": "2021-07-27T11:28:18.402Z"
   },
   {
    "duration": 26,
    "start_time": "2021-07-27T11:28:18.975Z"
   },
   {
    "duration": 54,
    "start_time": "2021-07-27T11:28:19.004Z"
   },
   {
    "duration": 110,
    "start_time": "2021-07-27T11:28:19.060Z"
   },
   {
    "duration": 48,
    "start_time": "2021-07-27T11:28:19.185Z"
   },
   {
    "duration": 56,
    "start_time": "2021-07-27T11:28:19.239Z"
   },
   {
    "duration": 42,
    "start_time": "2021-07-27T11:28:19.298Z"
   },
   {
    "duration": 102,
    "start_time": "2021-07-27T11:28:19.342Z"
   },
   {
    "duration": 6,
    "start_time": "2021-07-27T11:28:19.447Z"
   },
   {
    "duration": 554,
    "start_time": "2021-07-27T11:28:19.456Z"
   },
   {
    "duration": 75,
    "start_time": "2021-07-27T11:28:20.012Z"
   },
   {
    "duration": 5,
    "start_time": "2021-07-27T11:28:20.090Z"
   },
   {
    "duration": 61,
    "start_time": "2021-07-27T11:28:20.097Z"
   },
   {
    "duration": 72,
    "start_time": "2021-07-27T11:28:20.160Z"
   },
   {
    "duration": 81,
    "start_time": "2021-07-27T11:28:20.235Z"
   },
   {
    "duration": 5,
    "start_time": "2021-07-27T11:28:20.319Z"
   },
   {
    "duration": 39,
    "start_time": "2021-07-27T11:28:20.326Z"
   },
   {
    "duration": 363,
    "start_time": "2021-07-27T11:28:20.386Z"
   },
   {
    "duration": 59,
    "start_time": "2021-07-27T11:28:20.752Z"
   },
   {
    "duration": 328,
    "start_time": "2021-07-27T11:28:20.814Z"
   },
   {
    "duration": 5,
    "start_time": "2021-07-27T11:28:21.145Z"
   },
   {
    "duration": 40,
    "start_time": "2021-07-27T11:28:21.153Z"
   },
   {
    "duration": 14,
    "start_time": "2021-07-27T11:28:21.195Z"
   },
   {
    "duration": 35,
    "start_time": "2021-07-27T11:28:21.212Z"
   },
   {
    "duration": 45,
    "start_time": "2021-07-27T11:28:21.249Z"
   },
   {
    "duration": 26,
    "start_time": "2021-07-27T11:28:21.296Z"
   },
   {
    "duration": 18,
    "start_time": "2021-07-27T11:28:21.324Z"
   },
   {
    "duration": 19,
    "start_time": "2021-07-27T11:28:21.345Z"
   },
   {
    "duration": 18,
    "start_time": "2021-07-27T11:28:21.367Z"
   },
   {
    "duration": 12,
    "start_time": "2021-07-27T11:28:21.387Z"
   },
   {
    "duration": 13,
    "start_time": "2021-07-27T11:28:21.402Z"
   },
   {
    "duration": 7,
    "start_time": "2021-07-27T11:28:21.418Z"
   },
   {
    "duration": 10,
    "start_time": "2021-07-27T11:28:21.427Z"
   },
   {
    "duration": 1445,
    "start_time": "2021-07-28T05:23:41.027Z"
   },
   {
    "duration": 466,
    "start_time": "2021-07-28T05:23:42.474Z"
   },
   {
    "duration": 3,
    "start_time": "2021-07-28T05:23:42.942Z"
   },
   {
    "duration": 148,
    "start_time": "2021-07-28T05:23:42.947Z"
   },
   {
    "duration": 6,
    "start_time": "2021-07-28T05:23:43.096Z"
   },
   {
    "duration": 19,
    "start_time": "2021-07-28T05:23:43.104Z"
   },
   {
    "duration": 63,
    "start_time": "2021-07-28T05:23:43.125Z"
   },
   {
    "duration": 9,
    "start_time": "2021-07-28T05:23:43.191Z"
   },
   {
    "duration": 26,
    "start_time": "2021-07-28T05:23:43.202Z"
   },
   {
    "duration": 20,
    "start_time": "2021-07-28T05:23:43.229Z"
   },
   {
    "duration": 25,
    "start_time": "2021-07-28T05:23:43.251Z"
   },
   {
    "duration": 19,
    "start_time": "2021-07-28T05:23:43.278Z"
   },
   {
    "duration": 18,
    "start_time": "2021-07-28T05:23:43.299Z"
   },
   {
    "duration": 276,
    "start_time": "2021-07-28T05:23:43.319Z"
   },
   {
    "duration": 4,
    "start_time": "2021-07-28T05:23:43.597Z"
   },
   {
    "duration": 38,
    "start_time": "2021-07-28T05:23:43.603Z"
   },
   {
    "duration": 1237,
    "start_time": "2021-07-28T05:23:43.643Z"
   },
   {
    "duration": 367,
    "start_time": "2021-07-28T05:23:44.882Z"
   },
   {
    "duration": 17,
    "start_time": "2021-07-28T05:23:45.250Z"
   },
   {
    "duration": 48,
    "start_time": "2021-07-28T05:23:45.268Z"
   },
   {
    "duration": 72,
    "start_time": "2021-07-28T05:23:45.318Z"
   },
   {
    "duration": 36,
    "start_time": "2021-07-28T05:23:45.392Z"
   },
   {
    "duration": 26,
    "start_time": "2021-07-28T05:23:45.432Z"
   },
   {
    "duration": 45,
    "start_time": "2021-07-28T05:23:45.461Z"
   },
   {
    "duration": 53,
    "start_time": "2021-07-28T05:23:45.508Z"
   },
   {
    "duration": 22,
    "start_time": "2021-07-28T05:23:45.563Z"
   },
   {
    "duration": 734,
    "start_time": "2021-07-28T05:23:45.587Z"
   },
   {
    "duration": 71,
    "start_time": "2021-07-28T05:23:46.323Z"
   },
   {
    "duration": 4,
    "start_time": "2021-07-28T05:23:46.396Z"
   },
   {
    "duration": 90,
    "start_time": "2021-07-28T05:23:46.401Z"
   },
   {
    "duration": 35,
    "start_time": "2021-07-28T05:23:46.492Z"
   },
   {
    "duration": 67,
    "start_time": "2021-07-28T05:23:46.528Z"
   },
   {
    "duration": 3,
    "start_time": "2021-07-28T05:23:46.597Z"
   },
   {
    "duration": 17,
    "start_time": "2021-07-28T05:23:46.602Z"
   },
   {
    "duration": 142,
    "start_time": "2021-07-28T05:23:46.620Z"
   },
   {
    "duration": 47,
    "start_time": "2021-07-28T05:23:46.764Z"
   },
   {
    "duration": 225,
    "start_time": "2021-07-28T05:23:46.812Z"
   },
   {
    "duration": 3,
    "start_time": "2021-07-28T05:23:47.039Z"
   },
   {
    "duration": 21,
    "start_time": "2021-07-28T05:23:47.043Z"
   },
   {
    "duration": 7,
    "start_time": "2021-07-28T05:23:47.066Z"
   },
   {
    "duration": 22,
    "start_time": "2021-07-28T05:23:47.074Z"
   },
   {
    "duration": 22,
    "start_time": "2021-07-28T05:23:47.097Z"
   },
   {
    "duration": 13,
    "start_time": "2021-07-28T05:23:47.121Z"
   },
   {
    "duration": 9,
    "start_time": "2021-07-28T05:23:47.136Z"
   },
   {
    "duration": 14,
    "start_time": "2021-07-28T05:23:47.146Z"
   },
   {
    "duration": 18,
    "start_time": "2021-07-28T05:23:47.161Z"
   },
   {
    "duration": 5,
    "start_time": "2021-07-28T05:23:47.180Z"
   },
   {
    "duration": 12,
    "start_time": "2021-07-28T05:23:47.186Z"
   },
   {
    "duration": 14,
    "start_time": "2021-07-28T05:23:47.199Z"
   },
   {
    "duration": 9,
    "start_time": "2021-07-28T05:23:47.215Z"
   },
   {
    "duration": 2048,
    "start_time": "2021-09-16T12:13:55.561Z"
   },
   {
    "duration": 381,
    "start_time": "2021-09-16T12:13:57.612Z"
   },
   {
    "duration": 3,
    "start_time": "2021-09-16T12:13:57.996Z"
   },
   {
    "duration": 172,
    "start_time": "2021-09-16T12:13:58.000Z"
   },
   {
    "duration": 7,
    "start_time": "2021-09-16T12:13:58.175Z"
   },
   {
    "duration": 13,
    "start_time": "2021-09-16T12:13:58.184Z"
   },
   {
    "duration": 74,
    "start_time": "2021-09-16T12:13:58.198Z"
   },
   {
    "duration": 10,
    "start_time": "2021-09-16T12:13:58.275Z"
   },
   {
    "duration": 13,
    "start_time": "2021-09-16T12:13:58.287Z"
   },
   {
    "duration": 39,
    "start_time": "2021-09-16T12:13:58.302Z"
   },
   {
    "duration": 16,
    "start_time": "2021-09-16T12:13:58.342Z"
   },
   {
    "duration": 15,
    "start_time": "2021-09-16T12:13:58.360Z"
   },
   {
    "duration": 18,
    "start_time": "2021-09-16T12:13:58.377Z"
   },
   {
    "duration": 253,
    "start_time": "2021-09-16T12:13:58.397Z"
   },
   {
    "duration": 4,
    "start_time": "2021-09-16T12:13:58.652Z"
   },
   {
    "duration": 24,
    "start_time": "2021-09-16T12:13:58.658Z"
   },
   {
    "duration": 568,
    "start_time": "2021-09-16T12:13:58.684Z"
   },
   {
    "duration": 324,
    "start_time": "2021-09-16T12:13:59.255Z"
   },
   {
    "duration": 16,
    "start_time": "2021-09-16T12:13:59.580Z"
   },
   {
    "duration": 55,
    "start_time": "2021-09-16T12:13:59.597Z"
   },
   {
    "duration": 61,
    "start_time": "2021-09-16T12:13:59.653Z"
   },
   {
    "duration": 55,
    "start_time": "2021-09-16T12:13:59.716Z"
   },
   {
    "duration": 27,
    "start_time": "2021-09-16T12:13:59.775Z"
   },
   {
    "duration": 46,
    "start_time": "2021-09-16T12:13:59.805Z"
   },
   {
    "duration": 53,
    "start_time": "2021-09-16T12:13:59.853Z"
   },
   {
    "duration": 4,
    "start_time": "2021-09-16T12:13:59.908Z"
   },
   {
    "duration": 727,
    "start_time": "2021-09-16T12:13:59.914Z"
   },
   {
    "duration": 99,
    "start_time": "2021-09-16T12:14:00.643Z"
   },
   {
    "duration": 5,
    "start_time": "2021-09-16T12:14:00.744Z"
   },
   {
    "duration": 115,
    "start_time": "2021-09-16T12:14:00.751Z"
   },
   {
    "duration": 73,
    "start_time": "2021-09-16T12:14:00.868Z"
   },
   {
    "duration": 41,
    "start_time": "2021-09-16T12:14:00.943Z"
   },
   {
    "duration": 5,
    "start_time": "2021-09-16T12:14:00.986Z"
   },
   {
    "duration": 33,
    "start_time": "2021-09-16T12:14:00.993Z"
   },
   {
    "duration": 126,
    "start_time": "2021-09-16T12:14:01.041Z"
   },
   {
    "duration": 36,
    "start_time": "2021-09-16T12:14:01.169Z"
   },
   {
    "duration": 228,
    "start_time": "2021-09-16T12:14:01.206Z"
   },
   {
    "duration": 5,
    "start_time": "2021-09-16T12:14:01.436Z"
   },
   {
    "duration": 38,
    "start_time": "2021-09-16T12:14:01.443Z"
   },
   {
    "duration": 20,
    "start_time": "2021-09-16T12:14:01.483Z"
   },
   {
    "duration": 46,
    "start_time": "2021-09-16T12:14:01.505Z"
   },
   {
    "duration": 44,
    "start_time": "2021-09-16T12:14:01.553Z"
   },
   {
    "duration": 20,
    "start_time": "2021-09-16T12:14:01.599Z"
   },
   {
    "duration": 28,
    "start_time": "2021-09-16T12:14:01.621Z"
   },
   {
    "duration": 19,
    "start_time": "2021-09-16T12:14:01.650Z"
   },
   {
    "duration": 28,
    "start_time": "2021-09-16T12:14:01.670Z"
   },
   {
    "duration": 17,
    "start_time": "2021-09-16T12:14:01.700Z"
   },
   {
    "duration": 7,
    "start_time": "2021-09-16T12:14:01.719Z"
   },
   {
    "duration": 13,
    "start_time": "2021-09-16T12:14:01.728Z"
   },
   {
    "duration": 36,
    "start_time": "2021-09-16T12:14:01.743Z"
   },
   {
    "duration": 1978,
    "start_time": "2021-09-30T02:32:37.096Z"
   },
   {
    "duration": 1053,
    "start_time": "2021-09-30T02:32:39.076Z"
   },
   {
    "duration": 6,
    "start_time": "2021-09-30T02:32:40.133Z"
   },
   {
    "duration": 224,
    "start_time": "2021-09-30T02:32:40.142Z"
   },
   {
    "duration": 8,
    "start_time": "2021-09-30T02:32:40.369Z"
   },
   {
    "duration": 25,
    "start_time": "2021-09-30T02:32:40.380Z"
   },
   {
    "duration": 76,
    "start_time": "2021-09-30T02:32:40.416Z"
   },
   {
    "duration": 26,
    "start_time": "2021-09-30T02:32:40.496Z"
   },
   {
    "duration": 18,
    "start_time": "2021-09-30T02:32:40.525Z"
   },
   {
    "duration": 26,
    "start_time": "2021-09-30T02:32:40.545Z"
   },
   {
    "duration": 45,
    "start_time": "2021-09-30T02:32:40.573Z"
   },
   {
    "duration": 20,
    "start_time": "2021-09-30T02:32:40.621Z"
   },
   {
    "duration": 25,
    "start_time": "2021-09-30T02:32:40.643Z"
   },
   {
    "duration": 432,
    "start_time": "2021-09-30T02:32:40.670Z"
   },
   {
    "duration": 14,
    "start_time": "2021-09-30T02:32:41.104Z"
   },
   {
    "duration": 43,
    "start_time": "2021-09-30T02:32:41.121Z"
   },
   {
    "duration": 899,
    "start_time": "2021-09-30T02:32:41.177Z"
   },
   {
    "duration": 584,
    "start_time": "2021-09-30T02:32:42.079Z"
   },
   {
    "duration": 22,
    "start_time": "2021-09-30T02:32:42.665Z"
   },
   {
    "duration": 70,
    "start_time": "2021-09-30T02:32:42.690Z"
   },
   {
    "duration": 107,
    "start_time": "2021-09-30T02:32:42.763Z"
   },
   {
    "duration": 57,
    "start_time": "2021-09-30T02:32:42.872Z"
   },
   {
    "duration": 38,
    "start_time": "2021-09-30T02:32:42.935Z"
   },
   {
    "duration": 62,
    "start_time": "2021-09-30T02:32:42.976Z"
   },
   {
    "duration": 96,
    "start_time": "2021-09-30T02:32:43.040Z"
   },
   {
    "duration": 6,
    "start_time": "2021-09-30T02:32:43.138Z"
   },
   {
    "duration": 2113,
    "start_time": "2021-09-30T03:35:07.254Z"
   },
   {
    "duration": 3763,
    "start_time": "2021-09-30T03:35:09.370Z"
   },
   {
    "duration": -701,
    "start_time": "2021-09-30T03:35:13.840Z"
   },
   {
    "duration": -704,
    "start_time": "2021-09-30T03:35:13.844Z"
   },
   {
    "duration": -708,
    "start_time": "2021-09-30T03:35:13.849Z"
   },
   {
    "duration": -715,
    "start_time": "2021-09-30T03:35:13.858Z"
   },
   {
    "duration": -718,
    "start_time": "2021-09-30T03:35:13.862Z"
   },
   {
    "duration": -718,
    "start_time": "2021-09-30T03:35:13.864Z"
   },
   {
    "duration": -719,
    "start_time": "2021-09-30T03:35:13.866Z"
   },
   {
    "duration": -720,
    "start_time": "2021-09-30T03:35:13.868Z"
   },
   {
    "duration": -720,
    "start_time": "2021-09-30T03:35:13.869Z"
   },
   {
    "duration": -720,
    "start_time": "2021-09-30T03:35:13.871Z"
   },
   {
    "duration": -721,
    "start_time": "2021-09-30T03:35:13.873Z"
   },
   {
    "duration": -722,
    "start_time": "2021-09-30T03:35:13.875Z"
   },
   {
    "duration": -858,
    "start_time": "2021-09-30T03:35:14.013Z"
   },
   {
    "duration": -929,
    "start_time": "2021-09-30T03:35:14.085Z"
   },
   {
    "duration": -956,
    "start_time": "2021-09-30T03:35:14.113Z"
   },
   {
    "duration": -955,
    "start_time": "2021-09-30T03:35:14.114Z"
   },
   {
    "duration": -957,
    "start_time": "2021-09-30T03:35:14.117Z"
   },
   {
    "duration": -955,
    "start_time": "2021-09-30T03:35:14.119Z"
   },
   {
    "duration": -956,
    "start_time": "2021-09-30T03:35:14.121Z"
   },
   {
    "duration": -955,
    "start_time": "2021-09-30T03:35:14.122Z"
   },
   {
    "duration": -956,
    "start_time": "2021-09-30T03:35:14.124Z"
   },
   {
    "duration": -961,
    "start_time": "2021-09-30T03:35:14.131Z"
   },
   {
    "duration": -962,
    "start_time": "2021-09-30T03:35:14.133Z"
   },
   {
    "duration": -962,
    "start_time": "2021-09-30T03:35:14.135Z"
   },
   {
    "duration": -962,
    "start_time": "2021-09-30T03:35:14.136Z"
   },
   {
    "duration": -963,
    "start_time": "2021-09-30T03:35:14.138Z"
   },
   {
    "duration": -923,
    "start_time": "2021-09-30T03:35:14.140Z"
   },
   {
    "duration": -922,
    "start_time": "2021-09-30T03:35:14.141Z"
   },
   {
    "duration": -923,
    "start_time": "2021-09-30T03:35:14.143Z"
   },
   {
    "duration": -922,
    "start_time": "2021-09-30T03:35:14.145Z"
   },
   {
    "duration": -921,
    "start_time": "2021-09-30T03:35:14.146Z"
   },
   {
    "duration": -921,
    "start_time": "2021-09-30T03:35:14.148Z"
   },
   {
    "duration": -921,
    "start_time": "2021-09-30T03:35:14.150Z"
   },
   {
    "duration": -921,
    "start_time": "2021-09-30T03:35:14.152Z"
   },
   {
    "duration": -920,
    "start_time": "2021-09-30T03:35:14.154Z"
   },
   {
    "duration": -921,
    "start_time": "2021-09-30T03:35:14.156Z"
   },
   {
    "duration": -921,
    "start_time": "2021-09-30T03:35:14.158Z"
   },
   {
    "duration": -920,
    "start_time": "2021-09-30T03:35:14.159Z"
   },
   {
    "duration": -921,
    "start_time": "2021-09-30T03:35:14.161Z"
   },
   {
    "duration": -920,
    "start_time": "2021-09-30T03:35:14.162Z"
   },
   {
    "duration": -921,
    "start_time": "2021-09-30T03:35:14.164Z"
   },
   {
    "duration": -921,
    "start_time": "2021-09-30T03:35:14.166Z"
   },
   {
    "duration": -921,
    "start_time": "2021-09-30T03:35:14.167Z"
   },
   {
    "duration": -921,
    "start_time": "2021-09-30T03:35:14.169Z"
   },
   {
    "duration": -921,
    "start_time": "2021-09-30T03:35:14.170Z"
   },
   {
    "duration": -922,
    "start_time": "2021-09-30T03:35:14.172Z"
   },
   {
    "duration": -921,
    "start_time": "2021-09-30T03:35:14.173Z"
   },
   {
    "duration": -922,
    "start_time": "2021-09-30T03:35:14.175Z"
   },
   {
    "duration": 9,
    "start_time": "2021-09-30T03:35:41.464Z"
   },
   {
    "duration": 751,
    "start_time": "2021-09-30T03:35:41.476Z"
   },
   {
    "duration": 6,
    "start_time": "2021-09-30T03:35:42.230Z"
   },
   {
    "duration": 246,
    "start_time": "2021-09-30T03:35:42.239Z"
   },
   {
    "duration": 9,
    "start_time": "2021-09-30T03:35:42.487Z"
   },
   {
    "duration": 23,
    "start_time": "2021-09-30T03:35:42.516Z"
   },
   {
    "duration": 115,
    "start_time": "2021-09-30T03:35:42.542Z"
   },
   {
    "duration": 11,
    "start_time": "2021-09-30T03:35:42.661Z"
   },
   {
    "duration": 19,
    "start_time": "2021-09-30T03:35:42.676Z"
   },
   {
    "duration": 28,
    "start_time": "2021-09-30T03:35:42.718Z"
   },
   {
    "duration": 22,
    "start_time": "2021-09-30T03:35:42.748Z"
   },
   {
    "duration": 59,
    "start_time": "2021-09-30T03:35:42.773Z"
   },
   {
    "duration": 38,
    "start_time": "2021-09-30T03:35:42.835Z"
   },
   {
    "duration": 496,
    "start_time": "2021-09-30T03:35:42.876Z"
   },
   {
    "duration": 7,
    "start_time": "2021-09-30T03:35:43.375Z"
   },
   {
    "duration": 65,
    "start_time": "2021-09-30T03:35:43.385Z"
   },
   {
    "duration": 940,
    "start_time": "2021-09-30T03:35:43.453Z"
   },
   {
    "duration": 623,
    "start_time": "2021-09-30T03:35:44.397Z"
   },
   {
    "duration": 25,
    "start_time": "2021-09-30T03:35:45.023Z"
   },
   {
    "duration": 90,
    "start_time": "2021-09-30T03:35:45.050Z"
   },
   {
    "duration": 118,
    "start_time": "2021-09-30T03:35:45.144Z"
   },
   {
    "duration": 73,
    "start_time": "2021-09-30T03:35:45.265Z"
   },
   {
    "duration": 39,
    "start_time": "2021-09-30T03:35:45.346Z"
   },
   {
    "duration": 72,
    "start_time": "2021-09-30T03:35:45.388Z"
   },
   {
    "duration": 110,
    "start_time": "2021-09-30T03:35:45.463Z"
   },
   {
    "duration": 7,
    "start_time": "2021-09-30T03:35:45.575Z"
   },
   {
    "duration": 1140,
    "start_time": "2021-09-30T03:35:45.585Z"
   },
   {
    "duration": 111,
    "start_time": "2021-09-30T03:35:46.727Z"
   },
   {
    "duration": 7,
    "start_time": "2021-09-30T03:35:46.841Z"
   },
   {
    "duration": 166,
    "start_time": "2021-09-30T03:35:46.851Z"
   },
   {
    "duration": 111,
    "start_time": "2021-09-30T03:35:47.020Z"
   },
   {
    "duration": 61,
    "start_time": "2021-09-30T03:35:47.134Z"
   },
   {
    "duration": 7,
    "start_time": "2021-09-30T03:35:47.217Z"
   },
   {
    "duration": 34,
    "start_time": "2021-09-30T03:35:47.228Z"
   },
   {
    "duration": 240,
    "start_time": "2021-09-30T03:35:47.264Z"
   },
   {
    "duration": 61,
    "start_time": "2021-09-30T03:35:47.507Z"
   },
   {
    "duration": 364,
    "start_time": "2021-09-30T03:35:47.570Z"
   },
   {
    "duration": 6,
    "start_time": "2021-09-30T03:35:47.938Z"
   },
   {
    "duration": 31,
    "start_time": "2021-09-30T03:35:47.946Z"
   },
   {
    "duration": 11,
    "start_time": "2021-09-30T03:35:47.981Z"
   },
   {
    "duration": 18,
    "start_time": "2021-09-30T03:35:48.018Z"
   },
   {
    "duration": 14,
    "start_time": "2021-09-30T03:35:48.039Z"
   },
   {
    "duration": 14,
    "start_time": "2021-09-30T03:35:48.056Z"
   },
   {
    "duration": 17,
    "start_time": "2021-09-30T03:35:48.118Z"
   },
   {
    "duration": 5,
    "start_time": "2021-09-30T03:35:48.138Z"
   },
   {
    "duration": 12,
    "start_time": "2021-09-30T03:35:48.146Z"
   },
   {
    "duration": 8,
    "start_time": "2021-09-30T03:35:48.160Z"
   },
   {
    "duration": 50,
    "start_time": "2021-09-30T03:35:48.171Z"
   },
   {
    "duration": 7,
    "start_time": "2021-09-30T03:35:48.224Z"
   },
   {
    "duration": 7,
    "start_time": "2021-09-30T03:35:48.234Z"
   },
   {
    "duration": 9,
    "start_time": "2021-09-30T03:37:38.342Z"
   },
   {
    "duration": 480,
    "start_time": "2021-09-30T03:37:38.353Z"
   },
   {
    "duration": 6,
    "start_time": "2021-09-30T03:37:38.837Z"
   },
   {
    "duration": 225,
    "start_time": "2021-09-30T03:37:38.847Z"
   },
   {
    "duration": 9,
    "start_time": "2021-09-30T03:37:39.075Z"
   },
   {
    "duration": 42,
    "start_time": "2021-09-30T03:37:39.087Z"
   },
   {
    "duration": 99,
    "start_time": "2021-09-30T03:37:39.131Z"
   },
   {
    "duration": 10,
    "start_time": "2021-09-30T03:37:39.234Z"
   },
   {
    "duration": 19,
    "start_time": "2021-09-30T03:37:39.248Z"
   },
   {
    "duration": 55,
    "start_time": "2021-09-30T03:37:39.269Z"
   },
   {
    "duration": 23,
    "start_time": "2021-09-30T03:37:39.326Z"
   },
   {
    "duration": 22,
    "start_time": "2021-09-30T03:37:39.351Z"
   },
   {
    "duration": 59,
    "start_time": "2021-09-30T03:37:39.375Z"
   },
   {
    "duration": 406,
    "start_time": "2021-09-30T03:37:39.437Z"
   },
   {
    "duration": 5,
    "start_time": "2021-09-30T03:37:39.846Z"
   },
   {
    "duration": 36,
    "start_time": "2021-09-30T03:37:39.853Z"
   },
   {
    "duration": 61,
    "start_time": "2021-09-30T03:37:39.892Z"
   },
   {
    "duration": 583,
    "start_time": "2021-09-30T03:37:39.956Z"
   },
   {
    "duration": 22,
    "start_time": "2021-09-30T03:37:40.542Z"
   },
   {
    "duration": 103,
    "start_time": "2021-09-30T03:37:40.567Z"
   },
   {
    "duration": 364,
    "start_time": "2021-09-30T03:37:40.674Z"
   },
   {
    "duration": 79,
    "start_time": "2021-09-30T03:37:41.041Z"
   },
   {
    "duration": 50,
    "start_time": "2021-09-30T03:37:41.127Z"
   },
   {
    "duration": 70,
    "start_time": "2021-09-30T03:37:41.181Z"
   },
   {
    "duration": 123,
    "start_time": "2021-09-30T03:37:41.253Z"
   },
   {
    "duration": 7,
    "start_time": "2021-09-30T03:37:41.378Z"
   },
   {
    "duration": 350,
    "start_time": "2021-09-30T03:37:41.387Z"
   },
   {
    "duration": 55,
    "start_time": "2021-09-30T03:37:41.740Z"
   },
   {
    "duration": 8,
    "start_time": "2021-09-30T03:37:41.817Z"
   },
   {
    "duration": 63,
    "start_time": "2021-09-30T03:37:41.827Z"
   },
   {
    "duration": 59,
    "start_time": "2021-09-30T03:37:41.915Z"
   },
   {
    "duration": 84,
    "start_time": "2021-09-30T03:37:41.977Z"
   },
   {
    "duration": 6,
    "start_time": "2021-09-30T03:37:42.064Z"
   },
   {
    "duration": 51,
    "start_time": "2021-09-30T03:37:42.073Z"
   },
   {
    "duration": 223,
    "start_time": "2021-09-30T03:37:42.128Z"
   },
   {
    "duration": 72,
    "start_time": "2021-09-30T03:37:42.354Z"
   },
   {
    "duration": 336,
    "start_time": "2021-09-30T03:37:42.429Z"
   },
   {
    "duration": 5,
    "start_time": "2021-09-30T03:37:42.768Z"
   },
   {
    "duration": 44,
    "start_time": "2021-09-30T03:37:42.775Z"
   },
   {
    "duration": 14,
    "start_time": "2021-09-30T03:37:42.822Z"
   },
   {
    "duration": 39,
    "start_time": "2021-09-30T03:37:42.838Z"
   },
   {
    "duration": 30,
    "start_time": "2021-09-30T03:37:42.879Z"
   },
   {
    "duration": 22,
    "start_time": "2021-09-30T03:37:42.912Z"
   },
   {
    "duration": 25,
    "start_time": "2021-09-30T03:37:42.938Z"
   },
   {
    "duration": 17,
    "start_time": "2021-09-30T03:37:42.966Z"
   },
   {
    "duration": 16,
    "start_time": "2021-09-30T03:37:42.986Z"
   },
   {
    "duration": 18,
    "start_time": "2021-09-30T03:37:43.005Z"
   },
   {
    "duration": 26,
    "start_time": "2021-09-30T03:37:43.026Z"
   },
   {
    "duration": 18,
    "start_time": "2021-09-30T03:37:43.055Z"
   },
   {
    "duration": 22,
    "start_time": "2021-09-30T03:37:43.076Z"
   }
  ],
  "kernelspec": {
   "display_name": "Python 3",
   "language": "python",
   "name": "python3"
  },
  "language_info": {
   "codemirror_mode": {
    "name": "ipython",
    "version": 3
   },
   "file_extension": ".py",
   "mimetype": "text/x-python",
   "name": "python",
   "nbconvert_exporter": "python",
   "pygments_lexer": "ipython3",
   "version": "3.7.8"
  },
  "toc": {
   "base_numbering": 1,
   "nav_menu": {},
   "number_sections": true,
   "sideBar": true,
   "skip_h1_title": true,
   "title_cell": "Оглавление",
   "title_sidebar": "Contents",
   "toc_cell": true,
   "toc_position": {},
   "toc_section_display": true,
   "toc_window_display": false
  }
 },
 "nbformat": 4,
 "nbformat_minor": 2
}
