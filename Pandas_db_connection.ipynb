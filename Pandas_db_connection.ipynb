{
 "cells": [
  {
   "cell_type": "markdown",
   "metadata": {},
   "source": [
    "# Подключение к СУБД Postgres с использованием Pandas"
   ]
  },
  {
   "cell_type": "code",
   "execution_count": 44,
   "metadata": {},
   "outputs": [],
   "source": [
    "# импортируем библиотеки\n",
    "import pandas as pd\n",
    "from sqlalchemy import create_engine\n",
    "\n",
    "db_config = {'user': '############', # имя пользователя\n",
    "            'pwd': '############', # пароль\n",
    "            'host': '####################################',\n",
    "            'port': 6432, # порт подключения\n",
    "            'db': 'data-analyst-zen-project-db'} # название базы данных\n",
    "\n",
    "connection_string = 'postgresql://{}:{}@{}:{}/{}'.format(db_config['user'],\n",
    "                                                db_config['pwd'],\n",
    "                                                db_config['host'],\n",
    "                                                db_config['port'],\n",
    "                                                db_config['db'])\n",
    "\n",
    "engine = create_engine(connection_string) "
   ]
  },
  {
   "cell_type": "code",
   "execution_count": 45,
   "metadata": {},
   "outputs": [],
   "source": [
    "# Запрос к СУБД\n",
    "query = '''SELECT *\n",
    "            FROM dash_visits\n",
    "        '''"
   ]
  },
  {
   "cell_type": "code",
   "execution_count": 46,
   "metadata": {},
   "outputs": [],
   "source": [
    "df = pd.io.sql.read_sql(query, con = engine)"
   ]
  },
  {
   "cell_type": "code",
   "execution_count": 47,
   "metadata": {
    "scrolled": false
   },
   "outputs": [
    {
     "data": {
      "text/html": [
       "<div>\n",
       "<style scoped>\n",
       "    .dataframe tbody tr th:only-of-type {\n",
       "        vertical-align: middle;\n",
       "    }\n",
       "\n",
       "    .dataframe tbody tr th {\n",
       "        vertical-align: top;\n",
       "    }\n",
       "\n",
       "    .dataframe thead th {\n",
       "        text-align: right;\n",
       "    }\n",
       "</style>\n",
       "<table border=\"1\" class=\"dataframe\">\n",
       "  <thead>\n",
       "    <tr style=\"text-align: right;\">\n",
       "      <th></th>\n",
       "      <th>record_id</th>\n",
       "      <th>item_topic</th>\n",
       "      <th>source_topic</th>\n",
       "      <th>age_segment</th>\n",
       "      <th>dt</th>\n",
       "      <th>visits</th>\n",
       "    </tr>\n",
       "  </thead>\n",
       "  <tbody>\n",
       "    <tr>\n",
       "      <td>0</td>\n",
       "      <td>1040597</td>\n",
       "      <td>Деньги</td>\n",
       "      <td>Авто</td>\n",
       "      <td>18-25</td>\n",
       "      <td>2019-09-24 18:32:00</td>\n",
       "      <td>3</td>\n",
       "    </tr>\n",
       "    <tr>\n",
       "      <td>1</td>\n",
       "      <td>1040598</td>\n",
       "      <td>Деньги</td>\n",
       "      <td>Авто</td>\n",
       "      <td>18-25</td>\n",
       "      <td>2019-09-24 18:35:00</td>\n",
       "      <td>1</td>\n",
       "    </tr>\n",
       "    <tr>\n",
       "      <td>2</td>\n",
       "      <td>1040599</td>\n",
       "      <td>Деньги</td>\n",
       "      <td>Авто</td>\n",
       "      <td>18-25</td>\n",
       "      <td>2019-09-24 18:54:00</td>\n",
       "      <td>4</td>\n",
       "    </tr>\n",
       "    <tr>\n",
       "      <td>3</td>\n",
       "      <td>1040600</td>\n",
       "      <td>Деньги</td>\n",
       "      <td>Авто</td>\n",
       "      <td>18-25</td>\n",
       "      <td>2019-09-24 18:55:00</td>\n",
       "      <td>17</td>\n",
       "    </tr>\n",
       "    <tr>\n",
       "      <td>4</td>\n",
       "      <td>1040601</td>\n",
       "      <td>Деньги</td>\n",
       "      <td>Авто</td>\n",
       "      <td>18-25</td>\n",
       "      <td>2019-09-24 18:56:00</td>\n",
       "      <td>27</td>\n",
       "    </tr>\n",
       "  </tbody>\n",
       "</table>\n",
       "</div>"
      ],
      "text/plain": [
       "   record_id item_topic source_topic age_segment                  dt  visits\n",
       "0    1040597     Деньги         Авто       18-25 2019-09-24 18:32:00       3\n",
       "1    1040598     Деньги         Авто       18-25 2019-09-24 18:35:00       1\n",
       "2    1040599     Деньги         Авто       18-25 2019-09-24 18:54:00       4\n",
       "3    1040600     Деньги         Авто       18-25 2019-09-24 18:55:00      17\n",
       "4    1040601     Деньги         Авто       18-25 2019-09-24 18:56:00      27"
      ]
     },
     "execution_count": 47,
     "metadata": {},
     "output_type": "execute_result"
    }
   ],
   "source": [
    "df.head()"
   ]
  },
  {
   "cell_type": "code",
   "execution_count": 48,
   "metadata": {},
   "outputs": [],
   "source": [
    "# Сохранение файла для дашборда\n",
    "df.to_csv('dash_visits.csv')"
   ]
  },
  {
   "cell_type": "markdown",
   "metadata": {},
   "source": [
    "Ссылка на дашборд: https://public.tableau.com/app/profile/oleg8164/viz/Zen_dashboard_16286797022760/Dashboard1?publish=yes\n",
    "<br>Ccылка на презентацию:https://drive.google.com/file/d/1koKNXRVofuBs7c-Nq9zlmncq8geJXFqQ/view?usp=sharing"
   ]
  }
 ],
 "metadata": {
  "ExecuteTimeLog": [
   {
    "duration": 893,
    "start_time": "2021-08-11T07:32:28.331Z"
   },
   {
    "duration": 6,
    "start_time": "2021-08-11T07:36:46.847Z"
   },
   {
    "duration": 7,
    "start_time": "2021-08-11T07:36:46.857Z"
   },
   {
    "duration": 2390,
    "start_time": "2021-08-11T07:36:46.866Z"
   },
   {
    "duration": 5,
    "start_time": "2021-08-11T07:37:34.574Z"
   },
   {
    "duration": 15,
    "start_time": "2021-08-11T07:37:34.582Z"
   },
   {
    "duration": 2268,
    "start_time": "2021-08-11T07:37:34.599Z"
   },
   {
    "duration": 6,
    "start_time": "2021-08-11T07:37:52.294Z"
   },
   {
    "duration": 6,
    "start_time": "2021-08-11T07:37:52.303Z"
   },
   {
    "duration": 2534,
    "start_time": "2021-08-11T07:37:52.312Z"
   },
   {
    "duration": 7,
    "start_time": "2021-08-11T07:38:05.246Z"
   },
   {
    "duration": 20,
    "start_time": "2021-08-11T07:38:05.255Z"
   },
   {
    "duration": 2414,
    "start_time": "2021-08-11T07:38:05.277Z"
   },
   {
    "duration": 5,
    "start_time": "2021-08-11T07:39:17.231Z"
   },
   {
    "duration": 9,
    "start_time": "2021-08-11T07:39:17.239Z"
   },
   {
    "duration": 542,
    "start_time": "2021-08-11T07:39:17.252Z"
   },
   {
    "duration": -1999,
    "start_time": "2021-08-11T07:39:19.796Z"
   },
   {
    "duration": 5,
    "start_time": "2021-08-11T07:39:56.826Z"
   },
   {
    "duration": 12,
    "start_time": "2021-08-11T07:39:56.834Z"
   },
   {
    "duration": 47,
    "start_time": "2021-08-11T07:39:56.848Z"
   },
   {
    "duration": 16,
    "start_time": "2021-08-11T07:39:56.897Z"
   },
   {
    "duration": 388,
    "start_time": "2021-08-11T07:43:05.820Z"
   },
   {
    "duration": 160,
    "start_time": "2021-08-11T07:46:39.644Z"
   },
   {
    "duration": 6,
    "start_time": "2021-08-11T07:47:03.086Z"
   },
   {
    "duration": 12,
    "start_time": "2021-08-11T07:47:03.095Z"
   },
   {
    "duration": 2255,
    "start_time": "2021-08-11T07:47:03.110Z"
   },
   {
    "duration": 16,
    "start_time": "2021-08-11T07:47:05.368Z"
   },
   {
    "duration": 5446,
    "start_time": "2021-08-11T07:47:05.387Z"
   },
   {
    "duration": 6,
    "start_time": "2021-08-11T07:52:45.704Z"
   },
   {
    "duration": 21,
    "start_time": "2021-08-11T07:52:45.713Z"
   },
   {
    "duration": 2266,
    "start_time": "2021-08-11T07:52:45.737Z"
   },
   {
    "duration": 21,
    "start_time": "2021-08-11T07:52:48.006Z"
   },
   {
    "duration": 5773,
    "start_time": "2021-08-11T07:52:48.029Z"
   },
   {
    "duration": 347,
    "start_time": "2021-08-11T08:47:34.944Z"
   },
   {
    "duration": 2400,
    "start_time": "2021-08-11T08:48:30.647Z"
   },
   {
    "duration": 2498,
    "start_time": "2021-08-11T08:49:01.758Z"
   },
   {
    "duration": 2551,
    "start_time": "2021-08-11T08:50:09.870Z"
   },
   {
    "duration": 1934,
    "start_time": "2021-08-11T08:52:12.908Z"
   },
   {
    "duration": 17,
    "start_time": "2021-08-11T08:52:32.758Z"
   },
   {
    "duration": 348,
    "start_time": "2021-08-11T08:52:54.222Z"
   },
   {
    "duration": 18,
    "start_time": "2021-08-11T08:53:02.310Z"
   },
   {
    "duration": 192,
    "start_time": "2021-08-11T08:53:14.749Z"
   },
   {
    "duration": 202,
    "start_time": "2021-08-11T08:54:26.123Z"
   },
   {
    "duration": 437,
    "start_time": "2021-08-11T09:23:21.961Z"
   },
   {
    "duration": 6,
    "start_time": "2021-08-11T10:04:04.713Z"
   },
   {
    "duration": 24,
    "start_time": "2021-08-11T10:04:04.722Z"
   },
   {
    "duration": 178,
    "start_time": "2021-08-11T10:04:04.748Z"
   },
   {
    "duration": 13,
    "start_time": "2021-08-11T10:04:04.929Z"
   },
   {
    "duration": 572,
    "start_time": "2021-08-11T10:04:04.956Z"
   }
  ],
  "kernelspec": {
   "display_name": "Python 3",
   "language": "python",
   "name": "python3"
  },
  "language_info": {
   "codemirror_mode": {
    "name": "ipython",
    "version": 3
   },
   "file_extension": ".py",
   "mimetype": "text/x-python",
   "name": "python",
   "nbconvert_exporter": "python",
   "pygments_lexer": "ipython3",
   "version": "3.8.5"
  },
  "toc": {
   "base_numbering": 1,
   "nav_menu": {},
   "number_sections": true,
   "sideBar": true,
   "skip_h1_title": true,
   "title_cell": "Table of Contents",
   "title_sidebar": "Contents",
   "toc_cell": false,
   "toc_position": {},
   "toc_section_display": true,
   "toc_window_display": false
  }
 },
 "nbformat": 4,
 "nbformat_minor": 2
}
